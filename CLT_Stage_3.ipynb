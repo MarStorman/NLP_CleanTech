{
 "cells": [
  {
   "cell_type": "markdown",
   "id": "11f1fe0f-7883-4642-884b-9c275d7a47e5",
   "metadata": {},
   "source": [
    "# Accelerating Cleantech Advancements through NLP-Powered Text Mining and Knowledge Extraction\n",
    "\n",
    "Group: Marusa Storman, Vignesh Govindaraj, Pradip Ravichandran"
   ]
  },
  {
   "cell_type": "markdown",
   "id": "3ab0f059-c5fb-4cec-b79a-f451c4d76949",
   "metadata": {},
   "source": [
    "## Stage 3: Developing Advanced Question Answering and/or Information Retrieval System"
   ]
  },
  {
   "cell_type": "markdown",
   "id": "1cf5d8ca-fd0e-4eca-aec6-761553ded574",
   "metadata": {},
   "source": [
    "### Preparing"
   ]
  },
  {
   "cell_type": "code",
   "execution_count": 1,
   "id": "19ab5a20-9adb-4475-a4dd-e5be93591b9e",
   "metadata": {
    "scrolled": true
   },
   "outputs": [
    {
     "name": "stdout",
     "output_type": "stream",
     "text": [
      "Installing bert-extractive-summarizer...\n",
      "Requirement already satisfied: bert-extractive-summarizer in c:\\users\\pradip\\switchdrive\\hslu\\_sem 4\\ctl\\venv\\lib\\site-packages (0.10.1)\n",
      "Requirement already satisfied: transformers in c:\\users\\pradip\\switchdrive\\hslu\\_sem 4\\ctl\\venv\\lib\\site-packages (from bert-extractive-summarizer) (4.41.2)\n",
      "Requirement already satisfied: scikit-learn in c:\\users\\pradip\\switchdrive\\hslu\\_sem 4\\ctl\\venv\\lib\\site-packages (from bert-extractive-summarizer) (1.5.0)\n",
      "Requirement already satisfied: spacy in c:\\users\\pradip\\switchdrive\\hslu\\_sem 4\\ctl\\venv\\lib\\site-packages (from bert-extractive-summarizer) (3.7.5)\n",
      "Requirement already satisfied: numpy>=1.19.5 in c:\\users\\pradip\\switchdrive\\hslu\\_sem 4\\ctl\\venv\\lib\\site-packages (from scikit-learn->bert-extractive-summarizer) (1.26.4)\n",
      "Requirement already satisfied: scipy>=1.6.0 in c:\\users\\pradip\\switchdrive\\hslu\\_sem 4\\ctl\\venv\\lib\\site-packages (from scikit-learn->bert-extractive-summarizer) (1.12.0)\n",
      "Requirement already satisfied: joblib>=1.2.0 in c:\\users\\pradip\\switchdrive\\hslu\\_sem 4\\ctl\\venv\\lib\\site-packages (from scikit-learn->bert-extractive-summarizer) (1.4.2)\n",
      "Requirement already satisfied: threadpoolctl>=3.1.0 in c:\\users\\pradip\\switchdrive\\hslu\\_sem 4\\ctl\\venv\\lib\\site-packages (from scikit-learn->bert-extractive-summarizer) (3.5.0)\n",
      "Requirement already satisfied: spacy-legacy<3.1.0,>=3.0.11 in c:\\users\\pradip\\switchdrive\\hslu\\_sem 4\\ctl\\venv\\lib\\site-packages (from spacy->bert-extractive-summarizer) (3.0.12)\n",
      "Requirement already satisfied: spacy-loggers<2.0.0,>=1.0.0 in c:\\users\\pradip\\switchdrive\\hslu\\_sem 4\\ctl\\venv\\lib\\site-packages (from spacy->bert-extractive-summarizer) (1.0.5)\n",
      "Requirement already satisfied: murmurhash<1.1.0,>=0.28.0 in c:\\users\\pradip\\switchdrive\\hslu\\_sem 4\\ctl\\venv\\lib\\site-packages (from spacy->bert-extractive-summarizer) (1.0.10)\n",
      "Requirement already satisfied: cymem<2.1.0,>=2.0.2 in c:\\users\\pradip\\switchdrive\\hslu\\_sem 4\\ctl\\venv\\lib\\site-packages (from spacy->bert-extractive-summarizer) (2.0.8)\n",
      "Requirement already satisfied: preshed<3.1.0,>=3.0.2 in c:\\users\\pradip\\switchdrive\\hslu\\_sem 4\\ctl\\venv\\lib\\site-packages (from spacy->bert-extractive-summarizer) (3.0.9)\n",
      "Requirement already satisfied: thinc<8.3.0,>=8.2.2 in c:\\users\\pradip\\switchdrive\\hslu\\_sem 4\\ctl\\venv\\lib\\site-packages (from spacy->bert-extractive-summarizer) (8.2.4)\n",
      "Requirement already satisfied: wasabi<1.2.0,>=0.9.1 in c:\\users\\pradip\\switchdrive\\hslu\\_sem 4\\ctl\\venv\\lib\\site-packages (from spacy->bert-extractive-summarizer) (1.1.3)\n",
      "Requirement already satisfied: srsly<3.0.0,>=2.4.3 in c:\\users\\pradip\\switchdrive\\hslu\\_sem 4\\ctl\\venv\\lib\\site-packages (from spacy->bert-extractive-summarizer) (2.4.8)\n",
      "Requirement already satisfied: catalogue<2.1.0,>=2.0.6 in c:\\users\\pradip\\switchdrive\\hslu\\_sem 4\\ctl\\venv\\lib\\site-packages (from spacy->bert-extractive-summarizer) (2.0.10)\n",
      "Requirement already satisfied: weasel<0.5.0,>=0.1.0 in c:\\users\\pradip\\switchdrive\\hslu\\_sem 4\\ctl\\venv\\lib\\site-packages (from spacy->bert-extractive-summarizer) (0.4.1)\n",
      "Requirement already satisfied: typer<1.0.0,>=0.3.0 in c:\\users\\pradip\\switchdrive\\hslu\\_sem 4\\ctl\\venv\\lib\\site-packages (from spacy->bert-extractive-summarizer) (0.12.3)\n",
      "Requirement already satisfied: tqdm<5.0.0,>=4.38.0 in c:\\users\\pradip\\switchdrive\\hslu\\_sem 4\\ctl\\venv\\lib\\site-packages (from spacy->bert-extractive-summarizer) (4.66.4)\n",
      "Requirement already satisfied: requests<3.0.0,>=2.13.0 in c:\\users\\pradip\\switchdrive\\hslu\\_sem 4\\ctl\\venv\\lib\\site-packages (from spacy->bert-extractive-summarizer) (2.32.1)\n",
      "Requirement already satisfied: pydantic!=1.8,!=1.8.1,<3.0.0,>=1.7.4 in c:\\users\\pradip\\switchdrive\\hslu\\_sem 4\\ctl\\venv\\lib\\site-packages (from spacy->bert-extractive-summarizer) (2.7.3)\n",
      "Requirement already satisfied: jinja2 in c:\\users\\pradip\\switchdrive\\hslu\\_sem 4\\ctl\\venv\\lib\\site-packages (from spacy->bert-extractive-summarizer) (3.1.4)\n",
      "Requirement already satisfied: setuptools in c:\\users\\pradip\\switchdrive\\hslu\\_sem 4\\ctl\\venv\\lib\\site-packages (from spacy->bert-extractive-summarizer) (69.5.1)\n",
      "Requirement already satisfied: packaging>=20.0 in c:\\users\\pradip\\switchdrive\\hslu\\_sem 4\\ctl\\venv\\lib\\site-packages (from spacy->bert-extractive-summarizer) (24.0)\n",
      "Requirement already satisfied: langcodes<4.0.0,>=3.2.0 in c:\\users\\pradip\\switchdrive\\hslu\\_sem 4\\ctl\\venv\\lib\\site-packages (from spacy->bert-extractive-summarizer) (3.4.0)\n",
      "Requirement already satisfied: filelock in c:\\users\\pradip\\switchdrive\\hslu\\_sem 4\\ctl\\venv\\lib\\site-packages (from transformers->bert-extractive-summarizer) (3.14.0)\n",
      "Requirement already satisfied: huggingface-hub<1.0,>=0.23.0 in c:\\users\\pradip\\switchdrive\\hslu\\_sem 4\\ctl\\venv\\lib\\site-packages (from transformers->bert-extractive-summarizer) (0.23.3)\n",
      "Requirement already satisfied: pyyaml>=5.1 in c:\\users\\pradip\\switchdrive\\hslu\\_sem 4\\ctl\\venv\\lib\\site-packages (from transformers->bert-extractive-summarizer) (6.0.1)\n",
      "Requirement already satisfied: regex!=2019.12.17 in c:\\users\\pradip\\switchdrive\\hslu\\_sem 4\\ctl\\venv\\lib\\site-packages (from transformers->bert-extractive-summarizer) (2024.5.15)\n",
      "Requirement already satisfied: tokenizers<0.20,>=0.19 in c:\\users\\pradip\\switchdrive\\hslu\\_sem 4\\ctl\\venv\\lib\\site-packages (from transformers->bert-extractive-summarizer) (0.19.1)\n",
      "Requirement already satisfied: safetensors>=0.4.1 in c:\\users\\pradip\\switchdrive\\hslu\\_sem 4\\ctl\\venv\\lib\\site-packages (from transformers->bert-extractive-summarizer) (0.4.3)\n",
      "Requirement already satisfied: fsspec>=2023.5.0 in c:\\users\\pradip\\switchdrive\\hslu\\_sem 4\\ctl\\venv\\lib\\site-packages (from huggingface-hub<1.0,>=0.23.0->transformers->bert-extractive-summarizer) (2024.6.0)\n",
      "Requirement already satisfied: typing-extensions>=3.7.4.3 in c:\\users\\pradip\\switchdrive\\hslu\\_sem 4\\ctl\\venv\\lib\\site-packages (from huggingface-hub<1.0,>=0.23.0->transformers->bert-extractive-summarizer) (4.12.2)\n",
      "Requirement already satisfied: language-data>=1.2 in c:\\users\\pradip\\switchdrive\\hslu\\_sem 4\\ctl\\venv\\lib\\site-packages (from langcodes<4.0.0,>=3.2.0->spacy->bert-extractive-summarizer) (1.2.0)\n",
      "Requirement already satisfied: annotated-types>=0.4.0 in c:\\users\\pradip\\switchdrive\\hslu\\_sem 4\\ctl\\venv\\lib\\site-packages (from pydantic!=1.8,!=1.8.1,<3.0.0,>=1.7.4->spacy->bert-extractive-summarizer) (0.7.0)\n",
      "Requirement already satisfied: pydantic-core==2.18.4 in c:\\users\\pradip\\switchdrive\\hslu\\_sem 4\\ctl\\venv\\lib\\site-packages (from pydantic!=1.8,!=1.8.1,<3.0.0,>=1.7.4->spacy->bert-extractive-summarizer) (2.18.4)\n",
      "Requirement already satisfied: charset-normalizer<4,>=2 in c:\\users\\pradip\\switchdrive\\hslu\\_sem 4\\ctl\\venv\\lib\\site-packages (from requests<3.0.0,>=2.13.0->spacy->bert-extractive-summarizer) (3.3.2)\n",
      "Requirement already satisfied: idna<4,>=2.5 in c:\\users\\pradip\\switchdrive\\hslu\\_sem 4\\ctl\\venv\\lib\\site-packages (from requests<3.0.0,>=2.13.0->spacy->bert-extractive-summarizer) (3.7)\n",
      "Requirement already satisfied: urllib3<3,>=1.21.1 in c:\\users\\pradip\\switchdrive\\hslu\\_sem 4\\ctl\\venv\\lib\\site-packages (from requests<3.0.0,>=2.13.0->spacy->bert-extractive-summarizer) (2.2.1)\n",
      "Requirement already satisfied: certifi>=2017.4.17 in c:\\users\\pradip\\switchdrive\\hslu\\_sem 4\\ctl\\venv\\lib\\site-packages (from requests<3.0.0,>=2.13.0->spacy->bert-extractive-summarizer) (2024.2.2)\n",
      "Requirement already satisfied: blis<0.8.0,>=0.7.8 in c:\\users\\pradip\\switchdrive\\hslu\\_sem 4\\ctl\\venv\\lib\\site-packages (from thinc<8.3.0,>=8.2.2->spacy->bert-extractive-summarizer) (0.7.11)\n",
      "Requirement already satisfied: confection<1.0.0,>=0.0.1 in c:\\users\\pradip\\switchdrive\\hslu\\_sem 4\\ctl\\venv\\lib\\site-packages (from thinc<8.3.0,>=8.2.2->spacy->bert-extractive-summarizer) (0.1.5)\n",
      "Requirement already satisfied: colorama in c:\\users\\pradip\\switchdrive\\hslu\\_sem 4\\ctl\\venv\\lib\\site-packages (from tqdm<5.0.0,>=4.38.0->spacy->bert-extractive-summarizer) (0.4.6)\n",
      "Requirement already satisfied: click>=8.0.0 in c:\\users\\pradip\\switchdrive\\hslu\\_sem 4\\ctl\\venv\\lib\\site-packages (from typer<1.0.0,>=0.3.0->spacy->bert-extractive-summarizer) (8.1.7)\n",
      "Requirement already satisfied: shellingham>=1.3.0 in c:\\users\\pradip\\switchdrive\\hslu\\_sem 4\\ctl\\venv\\lib\\site-packages (from typer<1.0.0,>=0.3.0->spacy->bert-extractive-summarizer) (1.5.4)\n",
      "Requirement already satisfied: rich>=10.11.0 in c:\\users\\pradip\\switchdrive\\hslu\\_sem 4\\ctl\\venv\\lib\\site-packages (from typer<1.0.0,>=0.3.0->spacy->bert-extractive-summarizer) (13.7.1)\n",
      "Requirement already satisfied: cloudpathlib<1.0.0,>=0.7.0 in c:\\users\\pradip\\switchdrive\\hslu\\_sem 4\\ctl\\venv\\lib\\site-packages (from weasel<0.5.0,>=0.1.0->spacy->bert-extractive-summarizer) (0.18.1)\n",
      "Requirement already satisfied: smart-open<8.0.0,>=5.2.1 in c:\\users\\pradip\\switchdrive\\hslu\\_sem 4\\ctl\\venv\\lib\\site-packages (from weasel<0.5.0,>=0.1.0->spacy->bert-extractive-summarizer) (7.0.4)\n",
      "Requirement already satisfied: MarkupSafe>=2.0 in c:\\users\\pradip\\switchdrive\\hslu\\_sem 4\\ctl\\venv\\lib\\site-packages (from jinja2->spacy->bert-extractive-summarizer) (2.1.5)\n",
      "Requirement already satisfied: marisa-trie>=0.7.7 in c:\\users\\pradip\\switchdrive\\hslu\\_sem 4\\ctl\\venv\\lib\\site-packages (from language-data>=1.2->langcodes<4.0.0,>=3.2.0->spacy->bert-extractive-summarizer) (1.2.0)\n",
      "Requirement already satisfied: markdown-it-py>=2.2.0 in c:\\users\\pradip\\switchdrive\\hslu\\_sem 4\\ctl\\venv\\lib\\site-packages (from rich>=10.11.0->typer<1.0.0,>=0.3.0->spacy->bert-extractive-summarizer) (3.0.0)\n",
      "Requirement already satisfied: pygments<3.0.0,>=2.13.0 in c:\\users\\pradip\\switchdrive\\hslu\\_sem 4\\ctl\\venv\\lib\\site-packages (from rich>=10.11.0->typer<1.0.0,>=0.3.0->spacy->bert-extractive-summarizer) (2.18.0)\n",
      "Requirement already satisfied: wrapt in c:\\users\\pradip\\switchdrive\\hslu\\_sem 4\\ctl\\venv\\lib\\site-packages (from smart-open<8.0.0,>=5.2.1->weasel<0.5.0,>=0.1.0->spacy->bert-extractive-summarizer) (1.16.0)\n",
      "Requirement already satisfied: mdurl~=0.1 in c:\\users\\pradip\\switchdrive\\hslu\\_sem 4\\ctl\\venv\\lib\\site-packages (from markdown-it-py>=2.2.0->rich>=10.11.0->typer<1.0.0,>=0.3.0->spacy->bert-extractive-summarizer) (0.1.2)\n"
     ]
    },
    {
     "name": "stderr",
     "output_type": "stream",
     "text": [
      "WARNING: There was an error checking the latest version of pip.\n"
     ]
    },
    {
     "name": "stdout",
     "output_type": "stream",
     "text": [
      "Installing pinecone-client...\n",
      "Requirement already satisfied: pinecone-client in c:\\users\\pradip\\switchdrive\\hslu\\_sem 4\\ctl\\venv\\lib\\site-packages (4.1.1)\n",
      "Requirement already satisfied: certifi>=2019.11.17 in c:\\users\\pradip\\switchdrive\\hslu\\_sem 4\\ctl\\venv\\lib\\site-packages (from pinecone-client) (2024.2.2)\n",
      "Requirement already satisfied: pinecone-plugin-interface<0.0.8,>=0.0.7 in c:\\users\\pradip\\switchdrive\\hslu\\_sem 4\\ctl\\venv\\lib\\site-packages (from pinecone-client) (0.0.7)\n",
      "Requirement already satisfied: tqdm>=4.64.1 in c:\\users\\pradip\\switchdrive\\hslu\\_sem 4\\ctl\\venv\\lib\\site-packages (from pinecone-client) (4.66.4)\n",
      "Requirement already satisfied: typing-extensions>=3.7.4 in c:\\users\\pradip\\switchdrive\\hslu\\_sem 4\\ctl\\venv\\lib\\site-packages (from pinecone-client) (4.12.2)\n",
      "Requirement already satisfied: urllib3>=1.26.5 in c:\\users\\pradip\\switchdrive\\hslu\\_sem 4\\ctl\\venv\\lib\\site-packages (from pinecone-client) (2.2.1)\n",
      "Requirement already satisfied: colorama in c:\\users\\pradip\\switchdrive\\hslu\\_sem 4\\ctl\\venv\\lib\\site-packages (from tqdm>=4.64.1->pinecone-client) (0.4.6)\n"
     ]
    },
    {
     "name": "stderr",
     "output_type": "stream",
     "text": [
      "WARNING: There was an error checking the latest version of pip.\n"
     ]
    },
    {
     "name": "stdout",
     "output_type": "stream",
     "text": [
      "Installing sentence-transformers...\n"
     ]
    },
    {
     "name": "stderr",
     "output_type": "stream",
     "text": [
      "WARNING: There was an error checking the latest version of pip.\n"
     ]
    },
    {
     "name": "stdout",
     "output_type": "stream",
     "text": [
      "Requirement already satisfied: sentence-transformers in c:\\users\\pradip\\switchdrive\\hslu\\_sem 4\\ctl\\venv\\lib\\site-packages (3.0.1)\n",
      "Requirement already satisfied: transformers<5.0.0,>=4.34.0 in c:\\users\\pradip\\switchdrive\\hslu\\_sem 4\\ctl\\venv\\lib\\site-packages (from sentence-transformers) (4.41.2)\n",
      "Requirement already satisfied: tqdm in c:\\users\\pradip\\switchdrive\\hslu\\_sem 4\\ctl\\venv\\lib\\site-packages (from sentence-transformers) (4.66.4)\n",
      "Requirement already satisfied: torch>=1.11.0 in c:\\users\\pradip\\switchdrive\\hslu\\_sem 4\\ctl\\venv\\lib\\site-packages (from sentence-transformers) (2.3.1)\n",
      "Requirement already satisfied: numpy in c:\\users\\pradip\\switchdrive\\hslu\\_sem 4\\ctl\\venv\\lib\\site-packages (from sentence-transformers) (1.26.4)\n",
      "Requirement already satisfied: scikit-learn in c:\\users\\pradip\\switchdrive\\hslu\\_sem 4\\ctl\\venv\\lib\\site-packages (from sentence-transformers) (1.5.0)\n",
      "Requirement already satisfied: scipy in c:\\users\\pradip\\switchdrive\\hslu\\_sem 4\\ctl\\venv\\lib\\site-packages (from sentence-transformers) (1.12.0)\n",
      "Requirement already satisfied: huggingface-hub>=0.15.1 in c:\\users\\pradip\\switchdrive\\hslu\\_sem 4\\ctl\\venv\\lib\\site-packages (from sentence-transformers) (0.23.3)\n",
      "Requirement already satisfied: Pillow in c:\\users\\pradip\\switchdrive\\hslu\\_sem 4\\ctl\\venv\\lib\\site-packages (from sentence-transformers) (10.3.0)\n",
      "Requirement already satisfied: filelock in c:\\users\\pradip\\switchdrive\\hslu\\_sem 4\\ctl\\venv\\lib\\site-packages (from huggingface-hub>=0.15.1->sentence-transformers) (3.14.0)\n",
      "Requirement already satisfied: fsspec>=2023.5.0 in c:\\users\\pradip\\switchdrive\\hslu\\_sem 4\\ctl\\venv\\lib\\site-packages (from huggingface-hub>=0.15.1->sentence-transformers) (2024.6.0)\n",
      "Requirement already satisfied: packaging>=20.9 in c:\\users\\pradip\\switchdrive\\hslu\\_sem 4\\ctl\\venv\\lib\\site-packages (from huggingface-hub>=0.15.1->sentence-transformers) (24.0)\n",
      "Requirement already satisfied: pyyaml>=5.1 in c:\\users\\pradip\\switchdrive\\hslu\\_sem 4\\ctl\\venv\\lib\\site-packages (from huggingface-hub>=0.15.1->sentence-transformers) (6.0.1)\n",
      "Requirement already satisfied: requests in c:\\users\\pradip\\switchdrive\\hslu\\_sem 4\\ctl\\venv\\lib\\site-packages (from huggingface-hub>=0.15.1->sentence-transformers) (2.32.1)\n",
      "Requirement already satisfied: typing-extensions>=3.7.4.3 in c:\\users\\pradip\\switchdrive\\hslu\\_sem 4\\ctl\\venv\\lib\\site-packages (from huggingface-hub>=0.15.1->sentence-transformers) (4.12.2)\n",
      "Requirement already satisfied: sympy in c:\\users\\pradip\\switchdrive\\hslu\\_sem 4\\ctl\\venv\\lib\\site-packages (from torch>=1.11.0->sentence-transformers) (1.12.1)\n",
      "Requirement already satisfied: networkx in c:\\users\\pradip\\switchdrive\\hslu\\_sem 4\\ctl\\venv\\lib\\site-packages (from torch>=1.11.0->sentence-transformers) (3.3)\n",
      "Requirement already satisfied: jinja2 in c:\\users\\pradip\\switchdrive\\hslu\\_sem 4\\ctl\\venv\\lib\\site-packages (from torch>=1.11.0->sentence-transformers) (3.1.4)\n",
      "Requirement already satisfied: mkl<=2021.4.0,>=2021.1.1 in c:\\users\\pradip\\switchdrive\\hslu\\_sem 4\\ctl\\venv\\lib\\site-packages (from torch>=1.11.0->sentence-transformers) (2021.4.0)\n",
      "Requirement already satisfied: colorama in c:\\users\\pradip\\switchdrive\\hslu\\_sem 4\\ctl\\venv\\lib\\site-packages (from tqdm->sentence-transformers) (0.4.6)\n",
      "Requirement already satisfied: regex!=2019.12.17 in c:\\users\\pradip\\switchdrive\\hslu\\_sem 4\\ctl\\venv\\lib\\site-packages (from transformers<5.0.0,>=4.34.0->sentence-transformers) (2024.5.15)\n",
      "Requirement already satisfied: tokenizers<0.20,>=0.19 in c:\\users\\pradip\\switchdrive\\hslu\\_sem 4\\ctl\\venv\\lib\\site-packages (from transformers<5.0.0,>=4.34.0->sentence-transformers) (0.19.1)\n",
      "Requirement already satisfied: safetensors>=0.4.1 in c:\\users\\pradip\\switchdrive\\hslu\\_sem 4\\ctl\\venv\\lib\\site-packages (from transformers<5.0.0,>=4.34.0->sentence-transformers) (0.4.3)\n",
      "Requirement already satisfied: joblib>=1.2.0 in c:\\users\\pradip\\switchdrive\\hslu\\_sem 4\\ctl\\venv\\lib\\site-packages (from scikit-learn->sentence-transformers) (1.4.2)\n",
      "Requirement already satisfied: threadpoolctl>=3.1.0 in c:\\users\\pradip\\switchdrive\\hslu\\_sem 4\\ctl\\venv\\lib\\site-packages (from scikit-learn->sentence-transformers) (3.5.0)\n",
      "Requirement already satisfied: intel-openmp==2021.* in c:\\users\\pradip\\switchdrive\\hslu\\_sem 4\\ctl\\venv\\lib\\site-packages (from mkl<=2021.4.0,>=2021.1.1->torch>=1.11.0->sentence-transformers) (2021.4.0)\n",
      "Requirement already satisfied: tbb==2021.* in c:\\users\\pradip\\switchdrive\\hslu\\_sem 4\\ctl\\venv\\lib\\site-packages (from mkl<=2021.4.0,>=2021.1.1->torch>=1.11.0->sentence-transformers) (2021.12.0)\n",
      "Requirement already satisfied: MarkupSafe>=2.0 in c:\\users\\pradip\\switchdrive\\hslu\\_sem 4\\ctl\\venv\\lib\\site-packages (from jinja2->torch>=1.11.0->sentence-transformers) (2.1.5)\n",
      "Requirement already satisfied: charset-normalizer<4,>=2 in c:\\users\\pradip\\switchdrive\\hslu\\_sem 4\\ctl\\venv\\lib\\site-packages (from requests->huggingface-hub>=0.15.1->sentence-transformers) (3.3.2)\n",
      "Requirement already satisfied: idna<4,>=2.5 in c:\\users\\pradip\\switchdrive\\hslu\\_sem 4\\ctl\\venv\\lib\\site-packages (from requests->huggingface-hub>=0.15.1->sentence-transformers) (3.7)\n",
      "Requirement already satisfied: urllib3<3,>=1.21.1 in c:\\users\\pradip\\switchdrive\\hslu\\_sem 4\\ctl\\venv\\lib\\site-packages (from requests->huggingface-hub>=0.15.1->sentence-transformers) (2.2.1)\n",
      "Requirement already satisfied: certifi>=2017.4.17 in c:\\users\\pradip\\switchdrive\\hslu\\_sem 4\\ctl\\venv\\lib\\site-packages (from requests->huggingface-hub>=0.15.1->sentence-transformers) (2024.2.2)\n",
      "Requirement already satisfied: mpmath<1.4.0,>=1.1.0 in c:\\users\\pradip\\switchdrive\\hslu\\_sem 4\\ctl\\venv\\lib\\site-packages (from sympy->torch>=1.11.0->sentence-transformers) (1.3.0)\n",
      "Installing tf-keras...\n",
      "Requirement already satisfied: tf-keras in c:\\users\\pradip\\switchdrive\\hslu\\_sem 4\\ctl\\venv\\lib\\site-packages (2.16.0)\n",
      "Requirement already satisfied: tensorflow<2.17,>=2.16 in c:\\users\\pradip\\switchdrive\\hslu\\_sem 4\\ctl\\venv\\lib\\site-packages (from tf-keras) (2.16.1)\n",
      "Requirement already satisfied: tensorflow-intel==2.16.1 in c:\\users\\pradip\\switchdrive\\hslu\\_sem 4\\ctl\\venv\\lib\\site-packages (from tensorflow<2.17,>=2.16->tf-keras) (2.16.1)\n",
      "Requirement already satisfied: absl-py>=1.0.0 in c:\\users\\pradip\\switchdrive\\hslu\\_sem 4\\ctl\\venv\\lib\\site-packages (from tensorflow-intel==2.16.1->tensorflow<2.17,>=2.16->tf-keras) (2.1.0)\n",
      "Requirement already satisfied: astunparse>=1.6.0 in c:\\users\\pradip\\switchdrive\\hslu\\_sem 4\\ctl\\venv\\lib\\site-packages (from tensorflow-intel==2.16.1->tensorflow<2.17,>=2.16->tf-keras) (1.6.3)\n",
      "Requirement already satisfied: flatbuffers>=23.5.26 in c:\\users\\pradip\\switchdrive\\hslu\\_sem 4\\ctl\\venv\\lib\\site-packages (from tensorflow-intel==2.16.1->tensorflow<2.17,>=2.16->tf-keras) (24.3.25)\n",
      "Requirement already satisfied: gast!=0.5.0,!=0.5.1,!=0.5.2,>=0.2.1 in c:\\users\\pradip\\switchdrive\\hslu\\_sem 4\\ctl\\venv\\lib\\site-packages (from tensorflow-intel==2.16.1->tensorflow<2.17,>=2.16->tf-keras) (0.5.4)\n",
      "Requirement already satisfied: google-pasta>=0.1.1 in c:\\users\\pradip\\switchdrive\\hslu\\_sem 4\\ctl\\venv\\lib\\site-packages (from tensorflow-intel==2.16.1->tensorflow<2.17,>=2.16->tf-keras) (0.2.0)\n",
      "Requirement already satisfied: h5py>=3.10.0 in c:\\users\\pradip\\switchdrive\\hslu\\_sem 4\\ctl\\venv\\lib\\site-packages (from tensorflow-intel==2.16.1->tensorflow<2.17,>=2.16->tf-keras) (3.11.0)\n",
      "Requirement already satisfied: libclang>=13.0.0 in c:\\users\\pradip\\switchdrive\\hslu\\_sem 4\\ctl\\venv\\lib\\site-packages (from tensorflow-intel==2.16.1->tensorflow<2.17,>=2.16->tf-keras) (18.1.1)\n",
      "Requirement already satisfied: ml-dtypes~=0.3.1 in c:\\users\\pradip\\switchdrive\\hslu\\_sem 4\\ctl\\venv\\lib\\site-packages (from tensorflow-intel==2.16.1->tensorflow<2.17,>=2.16->tf-keras) (0.3.2)\n",
      "Requirement already satisfied: opt-einsum>=2.3.2 in c:\\users\\pradip\\switchdrive\\hslu\\_sem 4\\ctl\\venv\\lib\\site-packages (from tensorflow-intel==2.16.1->tensorflow<2.17,>=2.16->tf-keras) (3.3.0)\n",
      "Requirement already satisfied: packaging in c:\\users\\pradip\\switchdrive\\hslu\\_sem 4\\ctl\\venv\\lib\\site-packages (from tensorflow-intel==2.16.1->tensorflow<2.17,>=2.16->tf-keras) (24.0)\n",
      "Requirement already satisfied: protobuf!=4.21.0,!=4.21.1,!=4.21.2,!=4.21.3,!=4.21.4,!=4.21.5,<5.0.0dev,>=3.20.3 in c:\\users\\pradip\\switchdrive\\hslu\\_sem 4\\ctl\\venv\\lib\\site-packages (from tensorflow-intel==2.16.1->tensorflow<2.17,>=2.16->tf-keras) (4.25.3)\n",
      "Requirement already satisfied: requests<3,>=2.21.0 in c:\\users\\pradip\\switchdrive\\hslu\\_sem 4\\ctl\\venv\\lib\\site-packages (from tensorflow-intel==2.16.1->tensorflow<2.17,>=2.16->tf-keras) (2.32.1)\n",
      "Requirement already satisfied: setuptools in c:\\users\\pradip\\switchdrive\\hslu\\_sem 4\\ctl\\venv\\lib\\site-packages (from tensorflow-intel==2.16.1->tensorflow<2.17,>=2.16->tf-keras) (69.5.1)\n",
      "Requirement already satisfied: six>=1.12.0 in c:\\users\\pradip\\switchdrive\\hslu\\_sem 4\\ctl\\venv\\lib\\site-packages (from tensorflow-intel==2.16.1->tensorflow<2.17,>=2.16->tf-keras) (1.16.0)\n",
      "Requirement already satisfied: termcolor>=1.1.0 in c:\\users\\pradip\\switchdrive\\hslu\\_sem 4\\ctl\\venv\\lib\\site-packages (from tensorflow-intel==2.16.1->tensorflow<2.17,>=2.16->tf-keras) (2.4.0)\n",
      "Requirement already satisfied: typing-extensions>=3.6.6 in c:\\users\\pradip\\switchdrive\\hslu\\_sem 4\\ctl\\venv\\lib\\site-packages (from tensorflow-intel==2.16.1->tensorflow<2.17,>=2.16->tf-keras) (4.12.2)\n",
      "Requirement already satisfied: wrapt>=1.11.0 in c:\\users\\pradip\\switchdrive\\hslu\\_sem 4\\ctl\\venv\\lib\\site-packages (from tensorflow-intel==2.16.1->tensorflow<2.17,>=2.16->tf-keras) (1.16.0)\n",
      "Requirement already satisfied: grpcio<2.0,>=1.24.3 in c:\\users\\pradip\\switchdrive\\hslu\\_sem 4\\ctl\\venv\\lib\\site-packages (from tensorflow-intel==2.16.1->tensorflow<2.17,>=2.16->tf-keras) (1.64.1)\n",
      "Requirement already satisfied: tensorboard<2.17,>=2.16 in c:\\users\\pradip\\switchdrive\\hslu\\_sem 4\\ctl\\venv\\lib\\site-packages (from tensorflow-intel==2.16.1->tensorflow<2.17,>=2.16->tf-keras) (2.16.2)\n",
      "Requirement already satisfied: keras>=3.0.0 in c:\\users\\pradip\\switchdrive\\hslu\\_sem 4\\ctl\\venv\\lib\\site-packages (from tensorflow-intel==2.16.1->tensorflow<2.17,>=2.16->tf-keras) (3.3.3)\n",
      "Requirement already satisfied: numpy<2.0.0,>=1.26.0 in c:\\users\\pradip\\switchdrive\\hslu\\_sem 4\\ctl\\venv\\lib\\site-packages (from tensorflow-intel==2.16.1->tensorflow<2.17,>=2.16->tf-keras) (1.26.4)\n",
      "Requirement already satisfied: wheel<1.0,>=0.23.0 in c:\\users\\pradip\\switchdrive\\hslu\\_sem 4\\ctl\\venv\\lib\\site-packages (from astunparse>=1.6.0->tensorflow-intel==2.16.1->tensorflow<2.17,>=2.16->tf-keras) (0.43.0)\n",
      "Requirement already satisfied: rich in c:\\users\\pradip\\switchdrive\\hslu\\_sem 4\\ctl\\venv\\lib\\site-packages (from keras>=3.0.0->tensorflow-intel==2.16.1->tensorflow<2.17,>=2.16->tf-keras) (13.7.1)\n",
      "Requirement already satisfied: namex in c:\\users\\pradip\\switchdrive\\hslu\\_sem 4\\ctl\\venv\\lib\\site-packages (from keras>=3.0.0->tensorflow-intel==2.16.1->tensorflow<2.17,>=2.16->tf-keras) (0.0.8)\n",
      "Requirement already satisfied: optree in c:\\users\\pradip\\switchdrive\\hslu\\_sem 4\\ctl\\venv\\lib\\site-packages (from keras>=3.0.0->tensorflow-intel==2.16.1->tensorflow<2.17,>=2.16->tf-keras) (0.11.0)\n",
      "Requirement already satisfied: charset-normalizer<4,>=2 in c:\\users\\pradip\\switchdrive\\hslu\\_sem 4\\ctl\\venv\\lib\\site-packages (from requests<3,>=2.21.0->tensorflow-intel==2.16.1->tensorflow<2.17,>=2.16->tf-keras) (3.3.2)\n",
      "Requirement already satisfied: idna<4,>=2.5 in c:\\users\\pradip\\switchdrive\\hslu\\_sem 4\\ctl\\venv\\lib\\site-packages (from requests<3,>=2.21.0->tensorflow-intel==2.16.1->tensorflow<2.17,>=2.16->tf-keras) (3.7)\n",
      "Requirement already satisfied: urllib3<3,>=1.21.1 in c:\\users\\pradip\\switchdrive\\hslu\\_sem 4\\ctl\\venv\\lib\\site-packages (from requests<3,>=2.21.0->tensorflow-intel==2.16.1->tensorflow<2.17,>=2.16->tf-keras) (2.2.1)\n",
      "Requirement already satisfied: certifi>=2017.4.17 in c:\\users\\pradip\\switchdrive\\hslu\\_sem 4\\ctl\\venv\\lib\\site-packages (from requests<3,>=2.21.0->tensorflow-intel==2.16.1->tensorflow<2.17,>=2.16->tf-keras) (2024.2.2)\n",
      "Requirement already satisfied: markdown>=2.6.8 in c:\\users\\pradip\\switchdrive\\hslu\\_sem 4\\ctl\\venv\\lib\\site-packages (from tensorboard<2.17,>=2.16->tensorflow-intel==2.16.1->tensorflow<2.17,>=2.16->tf-keras) (3.6)\n",
      "Requirement already satisfied: tensorboard-data-server<0.8.0,>=0.7.0 in c:\\users\\pradip\\switchdrive\\hslu\\_sem 4\\ctl\\venv\\lib\\site-packages (from tensorboard<2.17,>=2.16->tensorflow-intel==2.16.1->tensorflow<2.17,>=2.16->tf-keras) (0.7.2)\n",
      "Requirement already satisfied: werkzeug>=1.0.1 in c:\\users\\pradip\\switchdrive\\hslu\\_sem 4\\ctl\\venv\\lib\\site-packages (from tensorboard<2.17,>=2.16->tensorflow-intel==2.16.1->tensorflow<2.17,>=2.16->tf-keras) (3.0.3)\n",
      "Requirement already satisfied: MarkupSafe>=2.1.1 in c:\\users\\pradip\\switchdrive\\hslu\\_sem 4\\ctl\\venv\\lib\\site-packages (from werkzeug>=1.0.1->tensorboard<2.17,>=2.16->tensorflow-intel==2.16.1->tensorflow<2.17,>=2.16->tf-keras) (2.1.5)\n",
      "Requirement already satisfied: markdown-it-py>=2.2.0 in c:\\users\\pradip\\switchdrive\\hslu\\_sem 4\\ctl\\venv\\lib\\site-packages (from rich->keras>=3.0.0->tensorflow-intel==2.16.1->tensorflow<2.17,>=2.16->tf-keras) (3.0.0)\n",
      "Requirement already satisfied: pygments<3.0.0,>=2.13.0 in c:\\users\\pradip\\switchdrive\\hslu\\_sem 4\\ctl\\venv\\lib\\site-packages (from rich->keras>=3.0.0->tensorflow-intel==2.16.1->tensorflow<2.17,>=2.16->tf-keras) (2.18.0)\n",
      "Requirement already satisfied: mdurl~=0.1 in c:\\users\\pradip\\switchdrive\\hslu\\_sem 4\\ctl\\venv\\lib\\site-packages (from markdown-it-py>=2.2.0->rich->keras>=3.0.0->tensorflow-intel==2.16.1->tensorflow<2.17,>=2.16->tf-keras) (0.1.2)\n"
     ]
    },
    {
     "name": "stderr",
     "output_type": "stream",
     "text": [
      "WARNING: There was an error checking the latest version of pip.\n"
     ]
    }
   ],
   "source": [
    "import sys\n",
    "import os\n",
    "\n",
    "# Get the directory of the current notebook\n",
    "notebook_dir = os.getcwd()\n",
    "\n",
    "# Change current working directory to where the notebook resides\n",
    "os.chdir(notebook_dir)\n",
    "\n",
    "# List of required libraries\n",
    "required_libraries = [\n",
    "    'bert-extractive-summarizer',\n",
    "    'matplotlib',\n",
    "    'nltk',\n",
    "    'numpy',\n",
    "    'pandas',\n",
    "    'pinecone-client', # set the sentence embedding database with pine-client\n",
    "    're',\n",
    "    'requests',\n",
    "    #'spacy',\n",
    "    'seaborn',\n",
    "    'sentencepiece',\n",
    "    'sentence-transformers', # https://huggingface.co/sentence-transformers\n",
    "    'string',\n",
    "    'textblob',\n",
    "    'tensorflow',\n",
    "    'transformers',\n",
    "    'tf-keras'\n",
    "]\n",
    "\n",
    "# Check if each library is installed, if not, install it\n",
    "for lib in required_libraries:\n",
    "    try:\n",
    "        __import__(lib)\n",
    "    except ImportError:\n",
    "        print(f\"Installing {lib}...\")\n",
    "        !\"{sys.executable}\" -m pip install {lib}"
   ]
  },
  {
   "cell_type": "code",
   "execution_count": 2,
   "id": "3e970913-3452-4b19-9851-4670abf6ea1b",
   "metadata": {},
   "outputs": [
    {
     "name": "stderr",
     "output_type": "stream",
     "text": [
      "[nltk_data] Downloading package punkt to\n",
      "[nltk_data]     C:\\Users\\Pradip\\AppData\\Roaming\\nltk_data...\n",
      "[nltk_data]   Package punkt is already up-to-date!\n"
     ]
    },
    {
     "data": {
      "text/plain": [
       "True"
      ]
     },
     "execution_count": 2,
     "metadata": {},
     "output_type": "execute_result"
    }
   ],
   "source": [
    "# import the packages.\n",
    "import ast # convert the string to a list using the ast module\n",
    "import datetime\n",
    "import matplotlib.pyplot as plt\n",
    "import nltk\n",
    "import numpy as np\n",
    "import pandas as pd\n",
    "import random\n",
    "import re\n",
    "import requests\n",
    "import seaborn as sns\n",
    "# import spacy\n",
    "import string\n",
    "import tensorflow as tf\n",
    "import time\n",
    "import torch\n",
    "import zipfile\n",
    "\n",
    "from pathlib import Path\n",
    "from sentence_transformers import SentenceTransformer\n",
    "from summarizer import Summarizer\n",
    "from textblob import TextBlob\n",
    "from transformers import GPT2Tokenizer, GPT2LMHeadModel, GPT2Config, AdamW, get_linear_schedule_with_warmup\n",
    "from transformers import pipeline\n",
    "from torch.utils.data import DataLoader, RandomSampler, SequentialSampler\n",
    "\n",
    "\n",
    "# Jupyter config\n",
    "%config InteractiveShell.ast_node_interactivity = 'all'\n",
    "\n",
    "# Additional setup for seaborn\n",
    "sns.set(color_codes=True)\n",
    "sns.set_style(\"whitegrid\")\n",
    "\n",
    "# Download needed NLTK's resources\n",
    "nltk.download('punkt')"
   ]
  },
  {
   "cell_type": "code",
   "execution_count": 3,
   "id": "0d876e9c-eb72-44d7-8515-b26fb2a4e8a4",
   "metadata": {},
   "outputs": [
    {
     "data": {
      "text/html": [
       "<div>\n",
       "<style scoped>\n",
       "    .dataframe tbody tr th:only-of-type {\n",
       "        vertical-align: middle;\n",
       "    }\n",
       "\n",
       "    .dataframe tbody tr th {\n",
       "        vertical-align: top;\n",
       "    }\n",
       "\n",
       "    .dataframe thead th {\n",
       "        text-align: right;\n",
       "    }\n",
       "</style>\n",
       "<table border=\"1\" class=\"dataframe\">\n",
       "  <thead>\n",
       "    <tr style=\"text-align: right;\">\n",
       "      <th></th>\n",
       "      <th>title</th>\n",
       "      <th>date</th>\n",
       "      <th>author</th>\n",
       "      <th>content</th>\n",
       "      <th>domain</th>\n",
       "      <th>url</th>\n",
       "    </tr>\n",
       "  </thead>\n",
       "  <tbody>\n",
       "    <tr>\n",
       "      <th>0</th>\n",
       "      <td>Qatar to Slash Emissions as LNG Expansion Adva...</td>\n",
       "      <td>2021-01-13</td>\n",
       "      <td>NaN</td>\n",
       "      <td>Qatar Petroleum (QP) is targeting aggressive c...</td>\n",
       "      <td>energyintel</td>\n",
       "      <td>0000017b-a7dc-de4c-a17b-e7de685b0000</td>\n",
       "    </tr>\n",
       "    <tr>\n",
       "      <th>1</th>\n",
       "      <td>India Launches Its First 700 MW PHWR</td>\n",
       "      <td>2021-01-15</td>\n",
       "      <td>NaN</td>\n",
       "      <td>• Nuclear Power Corp. of India Ltd. (NPCIL) sy...</td>\n",
       "      <td>energyintel</td>\n",
       "      <td>0000017b-a7dc-de4c-a17b-e7de6c710001</td>\n",
       "    </tr>\n",
       "    <tr>\n",
       "      <th>2</th>\n",
       "      <td>New Chapter for US-China Energy Trade</td>\n",
       "      <td>2021-01-20</td>\n",
       "      <td>NaN</td>\n",
       "      <td>New US President Joe Biden took office this we...</td>\n",
       "      <td>energyintel</td>\n",
       "      <td>0000017b-a7dc-de4c-a17b-e7de735a0000</td>\n",
       "    </tr>\n",
       "    <tr>\n",
       "      <th>3</th>\n",
       "      <td>Japan: Slow Restarts Cast Doubt on 2030 Energy...</td>\n",
       "      <td>2021-01-22</td>\n",
       "      <td>NaN</td>\n",
       "      <td>The slow pace of Japanese reactor restarts con...</td>\n",
       "      <td>energyintel</td>\n",
       "      <td>0000017b-a7dc-de4c-a17b-e7de79160000</td>\n",
       "    </tr>\n",
       "    <tr>\n",
       "      <th>4</th>\n",
       "      <td>NYC Pension Funds to Divest Fossil Fuel Shares</td>\n",
       "      <td>2021-01-25</td>\n",
       "      <td>NaN</td>\n",
       "      <td>Two of New York City's largest pension funds s...</td>\n",
       "      <td>energyintel</td>\n",
       "      <td>0000017b-a7dc-de4c-a17b-e7de7d9e0000</td>\n",
       "    </tr>\n",
       "  </tbody>\n",
       "</table>\n",
       "</div>"
      ],
      "text/plain": [
       "                                               title        date author  \\\n",
       "0  Qatar to Slash Emissions as LNG Expansion Adva...  2021-01-13    NaN   \n",
       "1               India Launches Its First 700 MW PHWR  2021-01-15    NaN   \n",
       "2              New Chapter for US-China Energy Trade  2021-01-20    NaN   \n",
       "3  Japan: Slow Restarts Cast Doubt on 2030 Energy...  2021-01-22    NaN   \n",
       "4     NYC Pension Funds to Divest Fossil Fuel Shares  2021-01-25    NaN   \n",
       "\n",
       "                                             content       domain  \\\n",
       "0  Qatar Petroleum (QP) is targeting aggressive c...  energyintel   \n",
       "1  • Nuclear Power Corp. of India Ltd. (NPCIL) sy...  energyintel   \n",
       "2  New US President Joe Biden took office this we...  energyintel   \n",
       "3  The slow pace of Japanese reactor restarts con...  energyintel   \n",
       "4  Two of New York City's largest pension funds s...  energyintel   \n",
       "\n",
       "                                    url  \n",
       "0  0000017b-a7dc-de4c-a17b-e7de685b0000  \n",
       "1  0000017b-a7dc-de4c-a17b-e7de6c710001  \n",
       "2  0000017b-a7dc-de4c-a17b-e7de735a0000  \n",
       "3  0000017b-a7dc-de4c-a17b-e7de79160000  \n",
       "4  0000017b-a7dc-de4c-a17b-e7de7d9e0000  "
      ]
     },
     "execution_count": 3,
     "metadata": {},
     "output_type": "execute_result"
    }
   ],
   "source": [
    "df3 = pd.read_csv(\"Data/ct_media_clean.csv\")\n",
    "df3.head()"
   ]
  },
  {
   "cell_type": "code",
   "execution_count": 4,
   "id": "31674696-374d-4425-8cc0-085db370518f",
   "metadata": {},
   "outputs": [
    {
     "name": "stderr",
     "output_type": "stream",
     "text": [
      "<>:11: SyntaxWarning: invalid escape sequence '\\s'\n",
      "<>:11: SyntaxWarning: invalid escape sequence '\\s'\n",
      "C:\\Users\\Pradip\\AppData\\Local\\Temp\\ipykernel_9968\\1364746538.py:11: SyntaxWarning: invalid escape sequence '\\s'\n",
      "  df3['content'] = df3['content'].apply(lambda x: re.sub('\\s+', ' ', x))\n"
     ]
    },
    {
     "name": "stdout",
     "output_type": "stream",
     "text": [
      "<class 'pandas.core.frame.DataFrame'>\n",
      "Index: 9588 entries, 0 to 9592\n",
      "Data columns (total 3 columns):\n",
      " #   Column   Non-Null Count  Dtype \n",
      "---  ------   --------------  ----- \n",
      " 0   title    9588 non-null   object\n",
      " 1   date     9588 non-null   object\n",
      " 2   content  9588 non-null   object\n",
      "dtypes: object(3)\n",
      "memory usage: 299.6+ KB\n"
     ]
    },
    {
     "data": {
      "text/html": [
       "<div>\n",
       "<style scoped>\n",
       "    .dataframe tbody tr th:only-of-type {\n",
       "        vertical-align: middle;\n",
       "    }\n",
       "\n",
       "    .dataframe tbody tr th {\n",
       "        vertical-align: top;\n",
       "    }\n",
       "\n",
       "    .dataframe thead th {\n",
       "        text-align: right;\n",
       "    }\n",
       "</style>\n",
       "<table border=\"1\" class=\"dataframe\">\n",
       "  <thead>\n",
       "    <tr style=\"text-align: right;\">\n",
       "      <th></th>\n",
       "      <th>title</th>\n",
       "      <th>date</th>\n",
       "      <th>content</th>\n",
       "    </tr>\n",
       "  </thead>\n",
       "  <tbody>\n",
       "    <tr>\n",
       "      <th>0</th>\n",
       "      <td>Qatar to Slash Emissions as LNG Expansion Adva...</td>\n",
       "      <td>2021-01-13</td>\n",
       "      <td>Qatar Petroleum (QP) is targeting aggressive c...</td>\n",
       "    </tr>\n",
       "    <tr>\n",
       "      <th>1</th>\n",
       "      <td>India Launches Its First 700 MW PHWR</td>\n",
       "      <td>2021-01-15</td>\n",
       "      <td>• Nuclear Power Corp. of India Ltd. (NPCIL) sy...</td>\n",
       "    </tr>\n",
       "    <tr>\n",
       "      <th>2</th>\n",
       "      <td>New Chapter for US-China Energy Trade</td>\n",
       "      <td>2021-01-20</td>\n",
       "      <td>New US President Joe Biden took office this we...</td>\n",
       "    </tr>\n",
       "    <tr>\n",
       "      <th>3</th>\n",
       "      <td>Japan: Slow Restarts Cast Doubt on 2030 Energy...</td>\n",
       "      <td>2021-01-22</td>\n",
       "      <td>The slow pace of Japanese reactor restarts con...</td>\n",
       "    </tr>\n",
       "    <tr>\n",
       "      <th>4</th>\n",
       "      <td>NYC Pension Funds to Divest Fossil Fuel Shares</td>\n",
       "      <td>2021-01-25</td>\n",
       "      <td>Two of New York City's largest pension funds s...</td>\n",
       "    </tr>\n",
       "  </tbody>\n",
       "</table>\n",
       "</div>"
      ],
      "text/plain": [
       "                                               title        date  \\\n",
       "0  Qatar to Slash Emissions as LNG Expansion Adva...  2021-01-13   \n",
       "1               India Launches Its First 700 MW PHWR  2021-01-15   \n",
       "2              New Chapter for US-China Energy Trade  2021-01-20   \n",
       "3  Japan: Slow Restarts Cast Doubt on 2030 Energy...  2021-01-22   \n",
       "4     NYC Pension Funds to Divest Fossil Fuel Shares  2021-01-25   \n",
       "\n",
       "                                             content  \n",
       "0  Qatar Petroleum (QP) is targeting aggressive c...  \n",
       "1  • Nuclear Power Corp. of India Ltd. (NPCIL) sy...  \n",
       "2  New US President Joe Biden took office this we...  \n",
       "3  The slow pace of Japanese reactor restarts con...  \n",
       "4  Two of New York City's largest pension funds s...  "
      ]
     },
     "execution_count": 4,
     "metadata": {},
     "output_type": "execute_result"
    }
   ],
   "source": [
    "#removing unused columns \n",
    "df3.drop(['author','domain','url'], axis=1, inplace=True)\n",
    "\n",
    "# removing html tags\n",
    "df3['content'] = df3['content'].apply(lambda x: re.sub('<[^<]+?>', '', x))\n",
    "\n",
    "# Remove duplicates\n",
    "df3.drop_duplicates(subset='content', keep='first', inplace=True)\n",
    "\n",
    "## Newlines, spaces and tabs removal\n",
    "df3['content'] = df3['content'].apply(lambda x: re.sub('\\s+', ' ', x))\n",
    "\n",
    "\n",
    "df3.info()\n",
    "df3.head()"
   ]
  },
  {
   "cell_type": "code",
   "execution_count": 5,
   "id": "1298c648-e00e-4f7d-a418-07c546d81f14",
   "metadata": {},
   "outputs": [
    {
     "data": {
      "text/plain": [
       "\"Qatar Petroleum (QP) is targeting aggressive cuts in its greenhouse gas emissions as it prepares to launch Phase 2 of its planned 48 million ton per year LNG expansion. But QP judged them to be too expensive and none met its targeted 50-week construction schedule. Shortlisted contractors were asked to look for cost savings and submit new bids. But the shortlisted companies are expected to bid aggressively for what is expected to be the world's lowest-cost and most environmentally friendly LNG (LNGI Nov.9'20).\""
      ]
     },
     "execution_count": 5,
     "metadata": {},
     "output_type": "execute_result"
    }
   ],
   "source": [
    "# extract Keywords\n",
    "model = Summarizer()\n",
    "result = model(df3['content'][0], min_length=60)\n",
    "result"
   ]
  },
  {
   "cell_type": "code",
   "execution_count": 6,
   "id": "67506106-d22e-44e7-83c1-b388f18bf94d",
   "metadata": {},
   "outputs": [
    {
     "data": {
      "text/plain": [
       "\"Qatar Petroleum (QP) is targeting aggressive cuts in its greenhouse gas emissions as it prepares to launch Phase 2 of its planned 48 million ton per year LNG expansion. In its latest Sustainability Report published on Wednesday, QP said its goals include `` reducing the emissions intensity of Qatar's LNG facilities by 25% and of its upstream facilities by at least 15%. '' The company is also aiming to reduce gas flaring intensity across its upstream facilities by more than 75% and has raised its carbon capture and storage ambitions from 5 million tons/yr to 7 million tons/yr by 2027. About 2.2 million tons/yr of the carbon capture goal will come from the 32 million ton/yr Phase 1 of the LNG expansion, also known as the North Field East project. A further 1.1 million tons/yr will come from Phase 2, known as the North Field South project, which will raise Qatar's LNG capacity by a further 16 million tons/yr. Qatar currently has an LNG production capacity of around 78 million tons/yr and is eyeing a phased expansion to 126 million tons/yr. QP says it should be able to eliminate routine gas flaring by 2030, with methane emissions limited `` by setting a methane intensity target of 0.2% across all facilities by 2025. '' The company also plans to build some 1.6 gigawatts of solar energy capacity by 2025, half of which should come from the Siraj solar power project next year (EIF Jan.22'20). Until this month, there had been little news about Phase 2 of Qatar's massive LNG expansion. But McDermott International said last week that it had been awarded the front-end engineering and design contract for five offshore wellhead platforms (LNGI Jan.12'21). Bids for construction of all four trains for Phase 1 of the LNG expansion were submitted in September (LNGI Sep.15'20). But QP judged them to be too expensive and none met its targeted 50-week construction schedule. Shortlisted contractors were asked to look for cost savings and submit new bids. The contract, which consultancy Rystad estimates to be worth around $ 35 billion, is expected to be awarded by Mar. 31. Shortly after the construction contract is awarded, QP is expected to select foreign investments partners to take stakes of up to 30% in the Phase 1 trains. Exxon Mobil, Royal Dutch Shell, Total, Chevron, ConocoPhillips and Eni have been shortlisted. QP has repeatedly said that it is prepared to proceed without international investment partners if it determines that the offers it receives are not sufficiently attractive. But the shortlisted companies are expected to bid aggressively for what is expected to be the world's lowest-cost and most environmentally friendly LNG (LNGI Nov.9'20). Rafiq Latta, Nicosia\""
      ]
     },
     "execution_count": 6,
     "metadata": {},
     "output_type": "execute_result"
    }
   ],
   "source": [
    "df3['content'][0]"
   ]
  },
  {
   "cell_type": "code",
   "execution_count": 7,
   "id": "f0d4b098-c671-4ea1-987d-5aa980e8f34b",
   "metadata": {
    "scrolled": true
   },
   "outputs": [
    {
     "name": "stdout",
     "output_type": "stream",
     "text": [
      "the last 50 key sentense finished!\n"
     ]
    },
    {
     "name": "stderr",
     "output_type": "stream",
     "text": [
      "C:\\Users\\Pradip\\AppData\\Local\\Temp\\ipykernel_9968\\1178133710.py:7: SettingWithCopyWarning: \n",
      "A value is trying to be set on a copy of a slice from a DataFrame.\n",
      "Try using .loc[row_indexer,col_indexer] = value instead\n",
      "\n",
      "See the caveats in the documentation: https://pandas.pydata.org/pandas-docs/stable/user_guide/indexing.html#returning-a-view-versus-a-copy\n",
      "  df_last_50['key_sentences'] = df_last_50['content'].apply(lambda x: model(x,min_length=30))\n"
     ]
    }
   ],
   "source": [
    "# using the last 50 rows\n",
    "n=50\n",
    "\n",
    "df_last_50 = df3[-n:]\n",
    "\n",
    "# extract the ke sentences\n",
    "df_last_50['key_sentences'] = df_last_50['content'].apply(lambda x: model(x,min_length=30))\n",
    "\n",
    "print(f'the last {n} key sentense finished!')"
   ]
  },
  {
   "cell_type": "code",
   "execution_count": 8,
   "id": "33cddfb0-c26a-4398-8486-1f0d07d8050e",
   "metadata": {},
   "outputs": [],
   "source": [
    "# Save the DataFrame to a CSV file\n",
    "df_last_50.to_csv(f\"Data/last_50_output.csv\", index=False)"
   ]
  },
  {
   "cell_type": "code",
   "execution_count": 9,
   "id": "03d76a5d-404a-41e7-af0f-f853ffed29e2",
   "metadata": {},
   "outputs": [
    {
     "data": {
      "text/plain": [
       "'Nextracker, a solar tracker and software solutions company, and Unimacts, a provider of industrial manufacturing and supply chain solutions, have opened a Nextracker-dedicated manufacturing facility in Las Vegas. Owned and operated by Unimacts, the facility will produce critical steel components exclusively for Nextracker used in ground-mount solar power generation plants to primarily serve projects in Nevada and southwestern states. This is Nextracker’ s sixth public dedication of a new manufacturing facility since 2022 and the 15th facility it opened or expanded with key suppliers in the United States in that time. The Las Vegas facility features expanded production capacity generating more than 100 new jobs currently and over 200 expected by 2024. The plant includes Unimacts manufacturing machinery and equipment relocated from Mexico as well as new equipment. According to the Solar Energy Industries Association (SEIA), nearly 200 GW of solar manufacturing capacity have been announced or expanded since the Inflation Reduction Act passed last year. “ By partnering with Unimacts on this new production line, we’ re bringing back American manufacturing jobs and building out America’ s energy infrastructure to enhance energy security and de-risk the supply chain, ” says Dan Shugar, founder and CEO of Nextracker. “ This plant will support our customers with quick shipping and American-made products. ” Nextracker has continued to invest in solar manufacturing building out more than 25 GW of annual domestic solar tracker capacity with new dedicated production lines announced in Texas, Arizona, Pennsylvania, Illinois, Tennessee and now in Nevada. “ Unimacts is excited that our partnership with Nextracker will create new jobs and increase the amount of solar we can produce here in the U.S., ” says Matt Arnold, CEO of Unimacts. “ With the Nextracker dedicated line, we will be supporting gigawatts of utility-scale projects annually, powering homes and businesses across the Southwest and even as far east as Indiana and Kentucky. ” Solar Industry offers industry participants probing, comprehensive assessments of the technology, tools and trends that are driving this dynamic energy sector. From raw materials straight through to end-user applications, we capture and analyze the critical details that help professionals stay current and navigate the solar market.'"
      ]
     },
     "execution_count": 9,
     "metadata": {},
     "output_type": "execute_result"
    }
   ],
   "source": [
    "df_last_50['content'][9552]"
   ]
  },
  {
   "cell_type": "code",
   "execution_count": 10,
   "id": "f6dcd1a8-5373-4ba4-bb43-d9d327f581eb",
   "metadata": {},
   "outputs": [
    {
     "data": {
      "text/plain": [
       "'Nextracker, a solar tracker and software solutions company, and Unimacts, a provider of industrial manufacturing and supply chain solutions, have opened a Nextracker-dedicated manufacturing facility in Las Vegas. The plant includes Unimacts manufacturing machinery and equipment relocated from Mexico as well as new equipment. Unimacts is excited that our partnership with Nextracker will create new jobs and increase the amount of solar we can produce here in the U.S., ” says Matt Arnold, CEO of Unimacts. “'"
      ]
     },
     "execution_count": 10,
     "metadata": {},
     "output_type": "execute_result"
    }
   ],
   "source": [
    "df_last_50['key_sentences'][9552]"
   ]
  },
  {
   "cell_type": "markdown",
   "id": "47d0948d-ee76-4ba2-9e42-8ba0633c0fda",
   "metadata": {
    "jp-MarkdownHeadingCollapsed": true
   },
   "source": [
    "### Generating Questions and Answers"
   ]
  },
  {
   "cell_type": "code",
   "execution_count": 11,
   "id": "f06a70b9-8ff7-4ff3-bda1-2e36936d66c5",
   "metadata": {
    "scrolled": true
   },
   "outputs": [
    {
     "data": {
      "text/html": [
       "<div>\n",
       "<style scoped>\n",
       "    .dataframe tbody tr th:only-of-type {\n",
       "        vertical-align: middle;\n",
       "    }\n",
       "\n",
       "    .dataframe tbody tr th {\n",
       "        vertical-align: top;\n",
       "    }\n",
       "\n",
       "    .dataframe thead th {\n",
       "        text-align: right;\n",
       "    }\n",
       "</style>\n",
       "<table border=\"1\" class=\"dataframe\">\n",
       "  <thead>\n",
       "    <tr style=\"text-align: right;\">\n",
       "      <th></th>\n",
       "      <th>content</th>\n",
       "      <th>key_sentences</th>\n",
       "    </tr>\n",
       "  </thead>\n",
       "  <tbody>\n",
       "    <tr>\n",
       "      <th>0</th>\n",
       "      <td>Anza, a solar and energy storage procurement p...</td>\n",
       "      <td>Anza, a solar and energy storage procurement p...</td>\n",
       "    </tr>\n",
       "    <tr>\n",
       "      <th>1</th>\n",
       "      <td>Solar solutions provider Nextracker is set to ...</td>\n",
       "      <td>Solar solutions provider Nextracker is set to ...</td>\n",
       "    </tr>\n",
       "    <tr>\n",
       "      <th>2</th>\n",
       "      <td>Ampt, a DC optimizer company focusing on large...</td>\n",
       "      <td>Ampt, a DC optimizer company focusing on large...</td>\n",
       "    </tr>\n",
       "    <tr>\n",
       "      <th>3</th>\n",
       "      <td>Ampion Renewable Energy, a provider of communi...</td>\n",
       "      <td>Ampion Renewable Energy, a provider of communi...</td>\n",
       "    </tr>\n",
       "    <tr>\n",
       "      <th>4</th>\n",
       "      <td>Solar investment funder and manager NT Solar i...</td>\n",
       "      <td>Solar investment funder and manager NT Solar i...</td>\n",
       "    </tr>\n",
       "    <tr>\n",
       "      <th>5</th>\n",
       "      <td>Redeux Energy Partners LLC, a utility-scale so...</td>\n",
       "      <td>Redeux Energy Partners LLC, a utility-scale so...</td>\n",
       "    </tr>\n",
       "    <tr>\n",
       "      <th>6</th>\n",
       "      <td>Monarch Private Capital, an investment firm th...</td>\n",
       "      <td>Monarch Private Capital, an investment firm th...</td>\n",
       "    </tr>\n",
       "    <tr>\n",
       "      <th>7</th>\n",
       "      <td>Catalyze, a clean energy transition company th...</td>\n",
       "      <td>Catalyze, a clean energy transition company th...</td>\n",
       "    </tr>\n",
       "    <tr>\n",
       "      <th>8</th>\n",
       "      <td>Dimension Renewable Energy, a developer and op...</td>\n",
       "      <td>Dimension Renewable Energy, a developer and op...</td>\n",
       "    </tr>\n",
       "    <tr>\n",
       "      <th>9</th>\n",
       "      <td>Nextracker, a solar tracker and software solut...</td>\n",
       "      <td>Nextracker, a solar tracker and software solut...</td>\n",
       "    </tr>\n",
       "    <tr>\n",
       "      <th>10</th>\n",
       "      <td>Sage Geosystems Inc., a geothermal baseload an...</td>\n",
       "      <td>Sage Geosystems Inc., a geothermal baseload an...</td>\n",
       "    </tr>\n",
       "    <tr>\n",
       "      <th>11</th>\n",
       "      <td>Solar and energy storage technology firm Sol-A...</td>\n",
       "      <td>Solar and energy storage technology firm Sol-A...</td>\n",
       "    </tr>\n",
       "    <tr>\n",
       "      <th>12</th>\n",
       "      <td>GCM Grosvenor has committed to invest up to $ ...</td>\n",
       "      <td>GCM Grosvenor has committed to invest up to $ ...</td>\n",
       "    </tr>\n",
       "    <tr>\n",
       "      <th>13</th>\n",
       "      <td>Dandelion Energy, a residential geothermal com...</td>\n",
       "      <td>Dandelion Energy, a residential geothermal com...</td>\n",
       "    </tr>\n",
       "    <tr>\n",
       "      <th>14</th>\n",
       "      <td>Scout Clean Energy, a Colorado-based renewable...</td>\n",
       "      <td>Scout Clean Energy, a Colorado-based renewable...</td>\n",
       "    </tr>\n",
       "    <tr>\n",
       "      <th>15</th>\n",
       "      <td>OnSight Technology, a robotics and computer vi...</td>\n",
       "      <td>OnSight Technology, a robotics and computer vi...</td>\n",
       "    </tr>\n",
       "    <tr>\n",
       "      <th>16</th>\n",
       "      <td>Denmark-based Photocat, a sustainable solution...</td>\n",
       "      <td>Denmark-based Photocat, a sustainable solution...</td>\n",
       "    </tr>\n",
       "    <tr>\n",
       "      <th>17</th>\n",
       "      <td>Engie Energy Marketing, a developer and owner ...</td>\n",
       "      <td>Engie Energy Marketing, a developer and owner ...</td>\n",
       "    </tr>\n",
       "    <tr>\n",
       "      <th>18</th>\n",
       "      <td>Recurrent Energy, a global developer and owner...</td>\n",
       "      <td>Recurrent Energy, a global developer and owner...</td>\n",
       "    </tr>\n",
       "    <tr>\n",
       "      <th>19</th>\n",
       "      <td>Sunstone Credit, a clean energy financing plat...</td>\n",
       "      <td>Sunstone Credit, a clean energy financing plat...</td>\n",
       "    </tr>\n",
       "    <tr>\n",
       "      <th>20</th>\n",
       "      <td>Enel North America has signed a power purchase...</td>\n",
       "      <td>Enel North America has signed a power purchase...</td>\n",
       "    </tr>\n",
       "    <tr>\n",
       "      <th>21</th>\n",
       "      <td>The Minnesota Public Utilities Commission (PUC...</td>\n",
       "      <td>The Minnesota Public Utilities Commission (PUC...</td>\n",
       "    </tr>\n",
       "    <tr>\n",
       "      <th>22</th>\n",
       "      <td>First Solar Inc. has broken ground on a previo...</td>\n",
       "      <td>First Solar Inc. has broken ground on a previo...</td>\n",
       "    </tr>\n",
       "    <tr>\n",
       "      <th>23</th>\n",
       "      <td>The U.S. Department of Energy (DOE) has announ...</td>\n",
       "      <td>The U.S. Department of Energy (DOE) has announ...</td>\n",
       "    </tr>\n",
       "    <tr>\n",
       "      <th>24</th>\n",
       "      <td>Redflow Ltd., a global clean energy storage co...</td>\n",
       "      <td>Redflow Ltd., a global clean energy storage co...</td>\n",
       "    </tr>\n",
       "    <tr>\n",
       "      <th>25</th>\n",
       "      <td>CleanCapital, a diversified clean energy compa...</td>\n",
       "      <td>CleanCapital, a diversified clean energy compa...</td>\n",
       "    </tr>\n",
       "    <tr>\n",
       "      <th>26</th>\n",
       "      <td>Recently, two professors from the Technical Un...</td>\n",
       "      <td>Recently, two professors from the Technical Un...</td>\n",
       "    </tr>\n",
       "    <tr>\n",
       "      <th>27</th>\n",
       "      <td>SUNation Energy, a subsidiary of solar energy ...</td>\n",
       "      <td>SUNation Energy, a subsidiary of solar energy ...</td>\n",
       "    </tr>\n",
       "    <tr>\n",
       "      <th>28</th>\n",
       "      <td>GE Vernova ‘ s Digital business and EnergyHub,...</td>\n",
       "      <td>GE Vernova ‘ s Digital business and EnergyHub,...</td>\n",
       "    </tr>\n",
       "    <tr>\n",
       "      <th>29</th>\n",
       "      <td>Castillo Engineering has launched SolarLetters...</td>\n",
       "      <td>Castillo Engineering has launched SolarLetters...</td>\n",
       "    </tr>\n",
       "    <tr>\n",
       "      <th>30</th>\n",
       "      <td>Tigo Energy Inc., a provider of solar and ener...</td>\n",
       "      <td>Tigo Energy Inc., a provider of solar and ener...</td>\n",
       "    </tr>\n",
       "    <tr>\n",
       "      <th>31</th>\n",
       "      <td>Illinois investor-owned utility ComEd says mor...</td>\n",
       "      <td>Illinois investor-owned utility ComEd says mor...</td>\n",
       "    </tr>\n",
       "    <tr>\n",
       "      <th>32</th>\n",
       "      <td>Independent power producer Silicon Ranch and d...</td>\n",
       "      <td>Independent power producer Silicon Ranch and d...</td>\n",
       "    </tr>\n",
       "    <tr>\n",
       "      <th>33</th>\n",
       "      <td>The New York Power Authority (NYPA) is seeking...</td>\n",
       "      <td>The New York Power Authority (NYPA) is seeking...</td>\n",
       "    </tr>\n",
       "    <tr>\n",
       "      <th>34</th>\n",
       "      <td>Major solar developers, conservation groups, a...</td>\n",
       "      <td>Major solar developers, conservation groups, a...</td>\n",
       "    </tr>\n",
       "    <tr>\n",
       "      <th>35</th>\n",
       "      <td>KeyState Renewables and Monarch Private Capita...</td>\n",
       "      <td>KeyState Renewables and Monarch Private Capita...</td>\n",
       "    </tr>\n",
       "    <tr>\n",
       "      <th>36</th>\n",
       "      <td>FLEXRACK by Qcells and Alltrade Industrial Con...</td>\n",
       "      <td>FLEXRACK by Qcells and Alltrade Industrial Con...</td>\n",
       "    </tr>\n",
       "    <tr>\n",
       "      <th>37</th>\n",
       "      <td>EagleView, a provider of software and services...</td>\n",
       "      <td>EagleView, a provider of software and services...</td>\n",
       "    </tr>\n",
       "    <tr>\n",
       "      <th>38</th>\n",
       "      <td>The City of Fresno Department of Public Utilit...</td>\n",
       "      <td>The City of Fresno Department of Public Utilit...</td>\n",
       "    </tr>\n",
       "    <tr>\n",
       "      <th>39</th>\n",
       "      <td>TotalEnergies has started commercial operation...</td>\n",
       "      <td>TotalEnergies has started commercial operation...</td>\n",
       "    </tr>\n",
       "    <tr>\n",
       "      <th>40</th>\n",
       "      <td>EDPR NA Distributed Generation (EDPR NA DG) is...</td>\n",
       "      <td>EDPR NA Distributed Generation (EDPR NA DG) is...</td>\n",
       "    </tr>\n",
       "    <tr>\n",
       "      <th>41</th>\n",
       "      <td>An affiliate of solar module manufacturer Jink...</td>\n",
       "      <td>An affiliate of solar module manufacturer Jink...</td>\n",
       "    </tr>\n",
       "    <tr>\n",
       "      <th>42</th>\n",
       "      <td>Ascent Solar Technologies, a developer and man...</td>\n",
       "      <td>Ascent Solar Technologies, a developer and man...</td>\n",
       "    </tr>\n",
       "    <tr>\n",
       "      <th>43</th>\n",
       "      <td>Six Flags Magic Mountain, in partnership with ...</td>\n",
       "      <td>Six Flags Magic Mountain, in partnership with ...</td>\n",
       "    </tr>\n",
       "    <tr>\n",
       "      <th>44</th>\n",
       "      <td>Longroad Energy, a U.S. based renewable energy...</td>\n",
       "      <td>Longroad Energy, a U.S. based renewable energy...</td>\n",
       "    </tr>\n",
       "    <tr>\n",
       "      <th>45</th>\n",
       "      <td>Strata Clean Energy has closed a $ 300 million...</td>\n",
       "      <td>Strata Clean Energy has closed a $ 300 million...</td>\n",
       "    </tr>\n",
       "    <tr>\n",
       "      <th>46</th>\n",
       "      <td>Global renewable energy developer Ørsted is de...</td>\n",
       "      <td>Global renewable energy developer Ørsted is de...</td>\n",
       "    </tr>\n",
       "    <tr>\n",
       "      <th>47</th>\n",
       "      <td>Veolia North America, a provider of environmen...</td>\n",
       "      <td>Veolia North America, a provider of environmen...</td>\n",
       "    </tr>\n",
       "    <tr>\n",
       "      <th>48</th>\n",
       "      <td>Once the self-proclaimed “ leading renewable p...</td>\n",
       "      <td>Once the self-proclaimed “ leading renewable p...</td>\n",
       "    </tr>\n",
       "    <tr>\n",
       "      <th>49</th>\n",
       "      <td>Arevon Energy Inc. has closed financing on the...</td>\n",
       "      <td>Arevon Energy Inc. has closed financing on the...</td>\n",
       "    </tr>\n",
       "  </tbody>\n",
       "</table>\n",
       "</div>"
      ],
      "text/plain": [
       "                                              content  \\\n",
       "0   Anza, a solar and energy storage procurement p...   \n",
       "1   Solar solutions provider Nextracker is set to ...   \n",
       "2   Ampt, a DC optimizer company focusing on large...   \n",
       "3   Ampion Renewable Energy, a provider of communi...   \n",
       "4   Solar investment funder and manager NT Solar i...   \n",
       "5   Redeux Energy Partners LLC, a utility-scale so...   \n",
       "6   Monarch Private Capital, an investment firm th...   \n",
       "7   Catalyze, a clean energy transition company th...   \n",
       "8   Dimension Renewable Energy, a developer and op...   \n",
       "9   Nextracker, a solar tracker and software solut...   \n",
       "10  Sage Geosystems Inc., a geothermal baseload an...   \n",
       "11  Solar and energy storage technology firm Sol-A...   \n",
       "12  GCM Grosvenor has committed to invest up to $ ...   \n",
       "13  Dandelion Energy, a residential geothermal com...   \n",
       "14  Scout Clean Energy, a Colorado-based renewable...   \n",
       "15  OnSight Technology, a robotics and computer vi...   \n",
       "16  Denmark-based Photocat, a sustainable solution...   \n",
       "17  Engie Energy Marketing, a developer and owner ...   \n",
       "18  Recurrent Energy, a global developer and owner...   \n",
       "19  Sunstone Credit, a clean energy financing plat...   \n",
       "20  Enel North America has signed a power purchase...   \n",
       "21  The Minnesota Public Utilities Commission (PUC...   \n",
       "22  First Solar Inc. has broken ground on a previo...   \n",
       "23  The U.S. Department of Energy (DOE) has announ...   \n",
       "24  Redflow Ltd., a global clean energy storage co...   \n",
       "25  CleanCapital, a diversified clean energy compa...   \n",
       "26  Recently, two professors from the Technical Un...   \n",
       "27  SUNation Energy, a subsidiary of solar energy ...   \n",
       "28  GE Vernova ‘ s Digital business and EnergyHub,...   \n",
       "29  Castillo Engineering has launched SolarLetters...   \n",
       "30  Tigo Energy Inc., a provider of solar and ener...   \n",
       "31  Illinois investor-owned utility ComEd says mor...   \n",
       "32  Independent power producer Silicon Ranch and d...   \n",
       "33  The New York Power Authority (NYPA) is seeking...   \n",
       "34  Major solar developers, conservation groups, a...   \n",
       "35  KeyState Renewables and Monarch Private Capita...   \n",
       "36  FLEXRACK by Qcells and Alltrade Industrial Con...   \n",
       "37  EagleView, a provider of software and services...   \n",
       "38  The City of Fresno Department of Public Utilit...   \n",
       "39  TotalEnergies has started commercial operation...   \n",
       "40  EDPR NA Distributed Generation (EDPR NA DG) is...   \n",
       "41  An affiliate of solar module manufacturer Jink...   \n",
       "42  Ascent Solar Technologies, a developer and man...   \n",
       "43  Six Flags Magic Mountain, in partnership with ...   \n",
       "44  Longroad Energy, a U.S. based renewable energy...   \n",
       "45  Strata Clean Energy has closed a $ 300 million...   \n",
       "46  Global renewable energy developer Ørsted is de...   \n",
       "47  Veolia North America, a provider of environmen...   \n",
       "48  Once the self-proclaimed “ leading renewable p...   \n",
       "49  Arevon Energy Inc. has closed financing on the...   \n",
       "\n",
       "                                        key_sentences  \n",
       "0   Anza, a solar and energy storage procurement p...  \n",
       "1   Solar solutions provider Nextracker is set to ...  \n",
       "2   Ampt, a DC optimizer company focusing on large...  \n",
       "3   Ampion Renewable Energy, a provider of communi...  \n",
       "4   Solar investment funder and manager NT Solar i...  \n",
       "5   Redeux Energy Partners LLC, a utility-scale so...  \n",
       "6   Monarch Private Capital, an investment firm th...  \n",
       "7   Catalyze, a clean energy transition company th...  \n",
       "8   Dimension Renewable Energy, a developer and op...  \n",
       "9   Nextracker, a solar tracker and software solut...  \n",
       "10  Sage Geosystems Inc., a geothermal baseload an...  \n",
       "11  Solar and energy storage technology firm Sol-A...  \n",
       "12  GCM Grosvenor has committed to invest up to $ ...  \n",
       "13  Dandelion Energy, a residential geothermal com...  \n",
       "14  Scout Clean Energy, a Colorado-based renewable...  \n",
       "15  OnSight Technology, a robotics and computer vi...  \n",
       "16  Denmark-based Photocat, a sustainable solution...  \n",
       "17  Engie Energy Marketing, a developer and owner ...  \n",
       "18  Recurrent Energy, a global developer and owner...  \n",
       "19  Sunstone Credit, a clean energy financing plat...  \n",
       "20  Enel North America has signed a power purchase...  \n",
       "21  The Minnesota Public Utilities Commission (PUC...  \n",
       "22  First Solar Inc. has broken ground on a previo...  \n",
       "23  The U.S. Department of Energy (DOE) has announ...  \n",
       "24  Redflow Ltd., a global clean energy storage co...  \n",
       "25  CleanCapital, a diversified clean energy compa...  \n",
       "26  Recently, two professors from the Technical Un...  \n",
       "27  SUNation Energy, a subsidiary of solar energy ...  \n",
       "28  GE Vernova ‘ s Digital business and EnergyHub,...  \n",
       "29  Castillo Engineering has launched SolarLetters...  \n",
       "30  Tigo Energy Inc., a provider of solar and ener...  \n",
       "31  Illinois investor-owned utility ComEd says mor...  \n",
       "32  Independent power producer Silicon Ranch and d...  \n",
       "33  The New York Power Authority (NYPA) is seeking...  \n",
       "34  Major solar developers, conservation groups, a...  \n",
       "35  KeyState Renewables and Monarch Private Capita...  \n",
       "36  FLEXRACK by Qcells and Alltrade Industrial Con...  \n",
       "37  EagleView, a provider of software and services...  \n",
       "38  The City of Fresno Department of Public Utilit...  \n",
       "39  TotalEnergies has started commercial operation...  \n",
       "40  EDPR NA Distributed Generation (EDPR NA DG) is...  \n",
       "41  An affiliate of solar module manufacturer Jink...  \n",
       "42  Ascent Solar Technologies, a developer and man...  \n",
       "43  Six Flags Magic Mountain, in partnership with ...  \n",
       "44  Longroad Energy, a U.S. based renewable energy...  \n",
       "45  Strata Clean Energy has closed a $ 300 million...  \n",
       "46  Global renewable energy developer Ørsted is de...  \n",
       "47  Veolia North America, a provider of environmen...  \n",
       "48  Once the self-proclaimed “ leading renewable p...  \n",
       "49  Arevon Energy Inc. has closed financing on the...  "
      ]
     },
     "execution_count": 11,
     "metadata": {},
     "output_type": "execute_result"
    }
   ],
   "source": [
    "# Inspect the data frame\n",
    "df_last_50 = pd.read_csv(\"Data/last_50_output.csv\")\n",
    "\n",
    "# Remove unused coloumns\n",
    "df_last_50.drop(['title','date'], axis=1, inplace=True)\n",
    "df_last_50"
   ]
  },
  {
   "cell_type": "markdown",
   "id": "785ad068-0a14-4080-9f79-1f336e7c5596",
   "metadata": {},
   "source": [
    "For generating questions we are using transformer model"
   ]
  },
  {
   "cell_type": "code",
   "execution_count": 12,
   "id": "7aca4ad0-84df-4256-95af-776819f1ac32",
   "metadata": {},
   "outputs": [
    {
     "name": "stdout",
     "output_type": "stream",
     "text": [
      "Files extracted to Data\n"
     ]
    }
   ],
   "source": [
    "# Define the path to the ZIP file and the directory to extract to\n",
    "zip_file_path = Path(\"qa_generator.zip\")\n",
    "extract_to_path = Path(\"Data\")\n",
    "\n",
    "# Ensure the paths are valid (this is just for demonstration, adapt to your actual paths)\n",
    "if not zip_file_path.is_file():\n",
    "    print(f\"ZIP file not found at {zip_file_path}\")\n",
    "else:\n",
    "    # Open the ZIP file\n",
    "    with zipfile.ZipFile(zip_file_path, 'r') as zip_ref:\n",
    "        # Extract all the contents into the specified directory\n",
    "        zip_ref.extractall(extract_to_path)\n",
    "\n",
    "    print(f\"Files extracted to {extract_to_path}\")\n"
   ]
  },
  {
   "cell_type": "code",
   "execution_count": 13,
   "id": "079426a7-8614-4874-9188-9186eb6d3a78",
   "metadata": {},
   "outputs": [
    {
     "name": "stderr",
     "output_type": "stream",
     "text": [
      "You are using the default legacy behaviour of the <class 'transformers.models.t5.tokenization_t5.T5Tokenizer'>. This is expected, and simply means that the `legacy` (previous) behavior will be used so nothing changes for you. If you want to use the new behaviour, set `legacy=False`. This should only be set if you understand what it means, and thoroughly read the reason why this was added as explained in https://github.com/huggingface/transformers/pull/24565\n",
      "Special tokens have been added in the vocabulary, make sure the associated word embeddings are fine-tuned or trained.\n",
      "Special tokens have been added in the vocabulary, make sure the associated word embeddings are fine-tuned or trained.\n",
      "Special tokens have been added in the vocabulary, make sure the associated word embeddings are fine-tuned or trained.\n"
     ]
    }
   ],
   "source": [
    "from Data.content.question_generation.pipelines import pipeline as HuggingFacePipe # using https://huggingface.co/valhalla/t5-base-qg-hl\n",
    "\n",
    "qa_generator = HuggingFacePipe(\"question-generation\", model=\"valhalla/t5-base-qg-hl\")"
   ]
  },
  {
   "cell_type": "code",
   "execution_count": 14,
   "id": "11c0961d-7af6-426c-8231-ffc76ece9fec",
   "metadata": {
    "scrolled": true
   },
   "outputs": [
    {
     "name": "stdout",
     "output_type": "stream",
     "text": [
      "0\n",
      "{'input_ids': tensor([[5819, 4269,   10,  ...,    0,    0,    0],\n",
      "        [5819, 4269,   10,  ...,    0,    0,    0],\n",
      "        [5819, 4269,   10,  ...,    0,    0,    0]]), 'attention_mask': tensor([[1, 1, 1,  ..., 0, 0, 0],\n",
      "        [1, 1, 1,  ..., 0, 0, 0],\n",
      "        [1, 1, 1,  ..., 0, 0, 0]])}\n"
     ]
    },
    {
     "name": "stderr",
     "output_type": "stream",
     "text": [
      "C:\\Users\\Pradip\\switchdrive\\HSLU\\_Sem 4\\CTL\\venv\\Lib\\site-packages\\transformers\\models\\t5\\tokenization_t5.py:290: UserWarning: This sequence already has </s>. In future versions this behavior may lead to duplicated eos tokens being added.\n",
      "  warnings.warn(\n"
     ]
    },
    {
     "name": "stdout",
     "output_type": "stream",
     "text": [
      "['<pad> Anza<sep></s><pad><pad><pad><pad><pad><pad><pad><pad><pad><pad><pad><pad><pad><pad><pad><pad><pad><pad><pad><pad><pad><pad><pad><pad><pad><pad><pad>', '<pad> buyers have a tool to see all the technical, financial, supply chain and risk-related data needed to select the best components for their project<sep></s>', '<pad> analytics<sep></s><pad><pad><pad><pad><pad><pad><pad><pad><pad><pad><pad><pad><pad><pad><pad><pad><pad><pad><pad><pad><pad><pad><pad><pad><pad><pad><pad><pad>']\n",
      "An exception occurred\n",
      "1\n",
      "{'input_ids': tensor([[5819, 4269,   10,  ...,    0,    0,    0],\n",
      "        [5819, 4269,   10,  ...,    0,    0,    0],\n",
      "        [5819, 4269,   10,  ...,    0,    0,    0],\n",
      "        [5819, 4269,   10,  ...,    0,    0,    0]]), 'attention_mask': tensor([[1, 1, 1,  ..., 0, 0, 0],\n",
      "        [1, 1, 1,  ..., 0, 0, 0],\n",
      "        [1, 1, 1,  ..., 0, 0, 0],\n",
      "        [1, 1, 1,  ..., 0, 0, 0]])}\n",
      "['<pad> Nextracker<sep></s><pad><pad><pad><pad><pad>', '<pad> four times faster<sep></s><pad><pad><pad><pad><pad>', '<pad> NX Horizon XTR-1.5<sep></s>', '<pad> raw materials<sep></s><pad><pad><pad><pad><pad><pad>']\n",
      "2\n",
      "{'input_ids': tensor([[5819, 4269,   10,  ...,    0,    0,    0],\n",
      "        [5819, 4269,   10,  ...,    0,    0,    0],\n",
      "        [5819, 4269,   10,  ...,    0,    0,    0]]), 'attention_mask': tensor([[1, 1, 1,  ..., 0, 0, 0],\n",
      "        [1, 1, 1,  ..., 0, 0, 0],\n",
      "        [1, 1, 1,  ..., 0, 0, 0]])}\n",
      "['<pad> Ampt<sep></s>', '<pad> 70 kW<sep></s>', '<pad> i50<sep></s>']\n",
      "3\n",
      "{'input_ids': tensor([[5819, 4269,   10,  ...,    0,    0,    0],\n",
      "        [5819, 4269,   10,  ...,    0,    0,    0],\n",
      "        [5819, 4269,   10,  ...,    0,    0,    0],\n",
      "        [5819, 4269,   10,  ...,    0,    0,    0]]), 'attention_mask': tensor([[1, 1, 1,  ..., 0, 0, 0],\n",
      "        [1, 1, 1,  ..., 0, 0, 0],\n",
      "        [1, 1, 1,  ..., 0, 0, 0],\n",
      "        [1, 1, 1,  ..., 0, 0, 0]])}\n",
      "['<pad> Ampion Renewable Energy<sep></s><pad><pad><pad><pad><pad><pad><pad><pad>', '<pad> Ampion<sep></s><pad><pad><pad><pad><pad><pad><pad><pad><pad><pad>', '<pad> bundled with the subscriber’ s community solar subscription<sep></s>', '<pad> Center for Resources Solutions<sep></s><pad><pad><pad><pad><pad><pad><pad><pad>']\n",
      "4\n",
      "{'input_ids': tensor([[5819, 4269,   10,  ...,    0,    0,    0],\n",
      "        [5819, 4269,   10,  ...,    0,    0,    0],\n",
      "        [5819, 4269,   10,  ...,    0,    0,    0],\n",
      "        [5819, 4269,   10,  ...,    0,    0,    0]]), 'attention_mask': tensor([[1, 1, 1,  ..., 0, 0, 0],\n",
      "        [1, 1, 1,  ..., 0, 0, 0],\n",
      "        [1, 1, 1,  ..., 0, 0, 0],\n",
      "        [1, 1, 1,  ..., 0, 0, 0]])}\n",
      "['<pad> $ 65 million<sep></s><pad><pad><pad><pad><pad><pad>', '<pad> ForeFront Power<sep></s><pad><pad><pad><pad>', '<pad> Bryan Eckstein<sep></s><pad><pad><pad><pad><pad><pad>', '<pad> comprehensive assessments of the technology, tools and trends<sep></s>']\n",
      "5\n",
      "{'input_ids': tensor([[5819, 4269,   10,  ...,    0,    0,    0],\n",
      "        [5819, 4269,   10,  ...,    0,    0,    0],\n",
      "        [5819, 4269,   10,  ...,    0,    0,    0]]), 'attention_mask': tensor([[1, 1, 1,  ..., 0, 0, 0],\n",
      "        [1, 1, 1,  ..., 0, 0, 0],\n",
      "        [1, 1, 1,  ..., 0, 0, 0]])}\n",
      "['<pad> Marathon Capital LLC<sep> Marathon Capital LLC<sep></s><pad><pad><pad><pad><pad><pad>', '<pad> 160 MW/640 MWh<sep> 1.7 GW<sep></s>', '<pad> comprehensive assessments of the technology, tools and trends<sep></s><pad><pad><pad><pad>']\n",
      "6\n",
      "{'input_ids': tensor([[5819, 4269,   10,  ...,    0,    0,    0],\n",
      "        [5819, 4269,   10,  ...,    0,    0,    0],\n",
      "        [5819, 4269,   10,  ...,    0,    0,    0]]), 'attention_mask': tensor([[1, 1, 1,  ..., 0, 0, 0],\n",
      "        [1, 1, 1,  ..., 0, 0, 0],\n",
      "        [1, 1, 1,  ..., 0, 0, 0]])}\n",
      "['<pad> Monarch Private Capital<sep> 305 MW<sep></s>', '<pad> over 300 MW<sep></s><pad><pad><pad><pad><pad>', '<pad> comprehensive assessments of the technology, tools and trends<sep></s>']\n",
      "7\n",
      "{'input_ids': tensor([[5819, 4269,   10,  ...,    0,    0,    0],\n",
      "        [5819, 4269,   10,  ...,    0,    0,    0],\n",
      "        [5819, 4269,   10,  ...,    0,    0,    0]]), 'attention_mask': tensor([[1, 1, 1,  ..., 0, 0, 0],\n",
      "        [1, 1, 1,  ..., 0, 0, 0],\n",
      "        [1, 1, 1,  ..., 0, 0, 0]])}\n",
      "['<pad> Plains All American<sep></s>', '<pad> 6.6-MW<sep></s>', '<pad> 2040<sep></s><pad><pad>']\n",
      "8\n",
      "{'input_ids': tensor([[5819, 4269,   10,  ...,    0,    0,    0],\n",
      "        [5819, 4269,   10,  ...,    0,    0,    0],\n",
      "        [5819, 4269,   10,  ...,    0,    0,    0],\n",
      "        [5819, 4269,   10,  ...,    0,    0,    0]]), 'attention_mask': tensor([[1, 1, 1,  ..., 0, 0, 0],\n",
      "        [1, 1, 1,  ..., 0, 0, 0],\n",
      "        [1, 1, 1,  ..., 0, 0, 0],\n",
      "        [1, 1, 1,  ..., 0, 0, 0]])}\n",
      "['<pad> $ 237 million<sep></s><pad>', '<pad> Silicon Valley Bank<sep></s><pad><pad>', '<pad> Community solar<sep></s><pad><pad><pad>', '<pad> workforce development and education programs<sep></s>']\n",
      "9\n",
      "{'input_ids': tensor([[5819, 4269,   10,  ...,    0,    0,    0],\n",
      "        [5819, 4269,   10,  ...,    0,    0,    0],\n",
      "        [5819, 4269,   10,  ...,    0,    0,    0],\n",
      "        [5819, 4269,   10,  ...,    0,    0,    0]]), 'attention_mask': tensor([[1, 1, 1,  ..., 0, 0, 0],\n",
      "        [1, 1, 1,  ..., 0, 0, 0],\n",
      "        [1, 1, 1,  ..., 0, 0, 0],\n",
      "        [1, 1, 1,  ..., 0, 0, 0]])}\n",
      "['<pad> Las Vegas<sep> Nextracker<sep></s>', '<pad> Mexico<sep></s><pad><pad><pad><pad><pad>', '<pad> Matt Arnold<sep></s><pad><pad><pad><pad>', '<pad> “<sep></s><pad><pad><pad><pad><pad>']\n",
      "10\n",
      "{'input_ids': tensor([[5819, 4269,   10,  ...,    0,    0,    0],\n",
      "        [5819, 4269,   10,  ...,    0,    0,    0],\n",
      "        [5819, 4269,   10,  ...,    0,    0,    0],\n",
      "        [5819, 4269,   10,  ...,    0,    0,    0]]), 'attention_mask': tensor([[1, 1, 1,  ..., 0, 0, 0],\n",
      "        [1, 1, 1,  ..., 0, 0, 0],\n",
      "        [1, 1, 1,  ..., 0, 0, 0],\n",
      "        [1, 1, 1,  ..., 0, 0, 0]])}\n",
      "['<pad> Sage Geosystems Inc<sep></s><pad><pad>', '<pad> pumping in and flowing back water<sep></s>', '<pad> LCOS<sep></s><pad><pad><pad><pad>', '<pad> Solar Industry<sep></s><pad><pad><pad><pad><pad>']\n",
      "11\n",
      "{'input_ids': tensor([[5819, 4269,   10,  ...,    0,    0,    0],\n",
      "        [5819, 4269,   10,  ...,    0,    0,    0],\n",
      "        [5819, 4269,   10,  ...,    0,    0,    0]]), 'attention_mask': tensor([[1, 1, 1,  ..., 0, 0, 0],\n",
      "        [1, 1, 1,  ..., 0, 0, 0],\n",
      "        [1, 1, 1,  ..., 0, 0, 0]])}\n",
      "['<pad> Enteligent<sep></s><pad>', '<pad> energy optimization and data monitoring<sep></s>', '<pad> PV Pro<sep></s><pad><pad><pad>']\n",
      "12\n",
      "{'input_ids': tensor([[5819, 4269,   10,  ...,    0,    0,    0],\n",
      "        [5819, 4269,   10,  ...,    0,    0,    0],\n",
      "        [5819, 4269,   10,  ...,    0,    0,    0]]), 'attention_mask': tensor([[1, 1, 1,  ..., 0, 0, 0],\n",
      "        [1, 1, 1,  ..., 0, 0, 0],\n",
      "        [1, 1, 1,  ..., 0, 0, 0]])}\n",
      "['<pad> Vesper Energy<sep> $ 100 million<sep></s>', '<pad> Thorndike Landing LLC<sep></s><pad>', '<pad> raw materials<sep></s><pad><pad><pad><pad><pad>']\n",
      "13\n",
      "{'input_ids': tensor([[5819, 4269,   10,  ...,    0,    0,    0],\n",
      "        [5819, 4269,   10,  ...,    0,    0,    0],\n",
      "        [5819, 4269,   10,  ...,    0,    0,    0],\n",
      "        [5819, 4269,   10,  ...,    0,    0,    0]]), 'attention_mask': tensor([[1, 1, 1,  ..., 0, 0, 0],\n",
      "        [1, 1, 1,  ..., 0, 0, 0],\n",
      "        [1, 1, 1,  ..., 0, 0, 0],\n",
      "        [1, 1, 1,  ..., 0, 0, 0]])}\n",
      "['<pad> Palmetto<sep> Dandelion Energy<sep></s><pad><pad>', '<pad> non-renewable sources<sep></s><pad><pad><pad><pad><pad>', '<pad> Palmetto’ s clean energy operating platform<sep></s>', '<pad> over 50%<sep></s><pad><pad><pad><pad><pad><pad><pad><pad><pad>']\n",
      "14\n",
      "{'input_ids': tensor([[5819, 4269,   10,  ...,    0,    0,    0],\n",
      "        [5819, 4269,   10,  ...,    0,    0,    0],\n",
      "        [5819, 4269,   10,  ...,    0,    0,    0]]), 'attention_mask': tensor([[1, 1, 1,  ..., 0, 0, 0],\n",
      "        [1, 1, 1,  ..., 0, 0, 0],\n",
      "        [1, 1, 1,  ..., 0, 0, 0]])}\n",
      "['<pad> Scout Clean Energy<sep></s><pad>', '<pad> Virtual power purchase agreements<sep></s>', '<pad> Brookfield<sep></s><pad><pad>']\n",
      "15\n",
      "{'input_ids': tensor([[5819, 4269,   10,  ...,    0,    0,    0],\n",
      "        [5819, 4269,   10,  ...,    0,    0,    0],\n",
      "        [5819, 4269,   10,  ...,    0,    0,    0]]), 'attention_mask': tensor([[1, 1, 1,  ..., 0, 0, 0],\n",
      "        [1, 1, 1,  ..., 0, 0, 0],\n",
      "        [1, 1, 1,  ..., 0, 0, 0]])}\n",
      "['<pad> OnSight Technology<sep></s><pad><pad>', '<pad> Moneta Ventures<sep></s><pad>', '<pad> ensuring a safer future<sep></s>']\n",
      "16\n",
      "{'input_ids': tensor([[5819, 4269,   10,  ...,    0,    0,    0],\n",
      "        [5819, 4269,   10,  ...,    0,    0,    0],\n",
      "        [5819, 4269,   10,  ...,    0,    0,    0]]), 'attention_mask': tensor([[1, 1, 1,  ..., 0, 0, 0],\n",
      "        [1, 1, 1,  ..., 0, 0, 0],\n",
      "        [1, 1, 1,  ..., 0, 0, 0]])}\n",
      "['<pad> Laborat<sep> self-cleaning<sep></s>', '<pad> reduced need of cleaning<sep></s><pad><pad><pad>', '<pad> education and outreach<sep></s><pad><pad><pad><pad>']\n",
      "An exception occurred\n",
      "17\n",
      "{'input_ids': tensor([[5819, 4269,   10,  ...,    0,    0,    0],\n",
      "        [5819, 4269,   10,  ...,    0,    0,    0],\n",
      "        [5819, 4269,   10,  ...,    0,    0,    0]]), 'attention_mask': tensor([[1, 1, 1,  ..., 0, 0, 0],\n",
      "        [1, 1, 1,  ..., 0, 0, 0],\n",
      "        [1, 1, 1,  ..., 0, 0, 0]])}\n",
      "['<pad> Engie Energy Marketing<sep></s><pad><pad><pad><pad><pad><pad><pad><pad><pad><pad>', '<pad> ERCOT (Electric Reliability Council of Texas)<sep></s>', '<pad> wind, solar and battery<sep></s><pad><pad><pad><pad><pad><pad><pad><pad><pad>']\n",
      "18\n",
      "{'input_ids': tensor([[5819, 4269,   10,  ...,    0,    0,    0],\n",
      "        [5819, 4269,   10,  ...,    0,    0,    0],\n",
      "        [5819, 4269,   10,  ...,    0,    0,    0],\n",
      "        [5819, 4269,   10,  ...,    0,    0,    0]]), 'attention_mask': tensor([[1, 1, 1,  ..., 0, 0, 0],\n",
      "        [1, 1, 1,  ..., 0, 0, 0],\n",
      "        [1, 1, 1,  ..., 0, 0, 0],\n",
      "        [1, 1, 1,  ..., 0, 0, 0]])}\n",
      "['<pad> Recurrent Energy<sep></s><pad><pad><pad><pad><pad><pad>', '<pad> $ 80 million<sep></s><pad><pad><pad><pad><pad><pad>', '<pad> Liberty Solar<sep></s><pad><pad><pad><pad><pad><pad><pad>', '<pad> comprehensive assessments of the technology, tools and trends<sep></s>']\n",
      "19\n",
      "{'input_ids': tensor([[5819, 4269,   10,  ...,    0,    0,    0],\n",
      "        [5819, 4269,   10,  ...,    0,    0,    0],\n",
      "        [5819, 4269,   10,  ...,    0,    0,    0]]), 'attention_mask': tensor([[1, 1, 1,  ..., 0, 0, 0],\n",
      "        [1, 1, 1,  ..., 0, 0, 0],\n",
      "        [1, 1, 1,  ..., 0, 0, 0]])}\n",
      "['<pad> Sunstone Credit<sep></s><pad>', '<pad> ETB Developer platform<sep></s>', '<pad> raw materials<sep></s><pad><pad>']\n",
      "20\n",
      "{'input_ids': tensor([[5819, 4269,   10,  ...,    0,    0,    0],\n",
      "        [5819, 4269,   10,  ...,    0,    0,    0],\n",
      "        [5819, 4269,   10,  ...,    0,    0,    0]]), 'attention_mask': tensor([[1, 1, 1,  ..., 0, 0, 0],\n",
      "        [1, 1, 1,  ..., 0, 0, 0],\n",
      "        [1, 1, 1,  ..., 0, 0, 0]])}\n",
      "['<pad> 21 MW<sep> BXP<sep></s><pad><pad><pad>', '<pad> Enel Green Power North America<sep></s><pad><pad><pad>', '<pad> 607 MW/911 MWh<sep></s>']\n",
      "21\n",
      "{'input_ids': tensor([[5819, 4269,   10,  ...,    0,    0,    0],\n",
      "        [5819, 4269,   10,  ...,    0,    0,    0],\n",
      "        [5819, 4269,   10,  ...,    0,    0,    0],\n",
      "        [5819, 4269,   10,  ...,    0,    0,    0],\n",
      "        [5819, 4269,   10,  ...,    0,    0,    0],\n",
      "        [5819, 4269,   10,  ...,    0,    0,    0]]), 'attention_mask': tensor([[1, 1, 1,  ..., 0, 0, 0],\n",
      "        [1, 1, 1,  ..., 0, 0, 0],\n",
      "        [1, 1, 1,  ..., 0, 0, 0],\n",
      "        [1, 1, 1,  ..., 0, 0, 0],\n",
      "        [1, 1, 1,  ..., 0, 0, 0],\n",
      "        [1, 1, 1,  ..., 0, 0, 0]])}\n",
      "['<pad> Minnesota Public Utilities Commission<sep></s>', '<pad> late April<sep></s><pad><pad><pad><pad><pad>', '<pad> power<sep></s><pad><pad><pad><pad><pad><pad>', '<pad> Polk County, Wis<sep></s><pad><pad>', '<pad> $ 19 million<sep></s><pad><pad><pad><pad>', '<pad> Xcel Energy<sep></s><pad><pad><pad>']\n",
      "22\n",
      "{'input_ids': tensor([[5819, 4269,   10,  ...,    0,    0,    0],\n",
      "        [5819, 4269,   10,  ...,    0,    0,    0],\n",
      "        [5819, 4269,   10,  ...,    0,    0,    0],\n",
      "        [5819, 4269,   10,  ...,    0,    0,    0],\n",
      "        [5819, 4269,   10,  ...,    0,    0,    0],\n",
      "        [5819, 4269,   10,  ...,    0,    0,    0]]), 'attention_mask': tensor([[1, 1, 1,  ..., 0, 0, 0],\n",
      "        [1, 1, 1,  ..., 0, 0, 0],\n",
      "        [1, 1, 1,  ..., 0, 0, 0],\n",
      "        [1, 1, 1,  ..., 0, 0, 0],\n",
      "        [1, 1, 1,  ..., 0, 0, 0],\n",
      "        [1, 1, 1,  ..., 0, 0, 0]])}\n",
      "['<pad> Iberia Parish, La<sep></s><pad><pad><pad><pad>', '<pad> fifth fully vertically integrated factory in the United States<sep></s>', '<pad> John Bel Edwards<sep></s><pad><pad><pad><pad><pad><pad>', '<pad> John Bel Edwards<sep></s><pad><pad><pad><pad><pad><pad>', '<pad> Louisiana<sep></s><pad><pad><pad><pad><pad><pad><pad><pad><pad>', '<pad> $ 4.1 billion<sep></s><pad><pad><pad><pad><pad><pad>']\n",
      "An exception occurred\n",
      "23\n",
      "{'input_ids': tensor([[5819, 4269,   10,  ...,    0,    0,    0],\n",
      "        [5819, 4269,   10,  ...,    0,    0,    0]]), 'attention_mask': tensor([[1, 1, 1,  ..., 0, 0, 0],\n",
      "        [1, 1, 1,  ..., 0, 0, 0]])}\n",
      "['<pad> $ 325 million<sep> 17<sep></s><pad><pad><pad><pad><pad><pad><pad><pad><pad><pad><pad>', '<pad> intraday (10 to 36 hours) and multiday (36 to 160+ hours)<sep></s>']\n",
      "24\n",
      "{'input_ids': tensor([[5819, 4269,   10,  ...,    0,    0,    0],\n",
      "        [5819, 4269,   10,  ...,    0,    0,    0],\n",
      "        [5819, 4269,   10,  ...,    0,    0,    0],\n",
      "        [5819, 4269,   10,  ...,    0,    0,    0]]), 'attention_mask': tensor([[1, 1, 1,  ..., 0, 0, 0],\n",
      "        [1, 1, 1,  ..., 0, 0, 0],\n",
      "        [1, 1, 1,  ..., 0, 0, 0],\n",
      "        [1, 1, 1,  ..., 0, 0, 0]])}\n",
      "['<pad> 34.4 MWh<sep></s>', '<pad> Central Valley<sep></s><pad><pad><pad>', '<pad> critical hospital operations<sep></s><pad><pad>', '<pad> raw materials<sep></s><pad><pad><pad>']\n",
      "25\n",
      "{'input_ids': tensor([[5819, 4269,   10,  ...,    0,    0,    0],\n",
      "        [5819, 4269,   10,  ...,    0,    0,    0],\n",
      "        [5819, 4269,   10,  ...,    0,    0,    0],\n",
      "        [5819, 4269,   10,  ...,    0,    0,    0]]), 'attention_mask': tensor([[1, 1, 1,  ..., 0, 0, 0],\n",
      "        [1, 1, 1,  ..., 0, 0, 0],\n",
      "        [1, 1, 1,  ..., 0, 0, 0],\n",
      "        [1, 1, 1,  ..., 0, 0, 0]])}\n",
      "['<pad> Houston, Alaska<sep></s><pad>', '<pad> CleanCapital<sep></s><pad>', '<pad> oil and natural gas<sep></s>', '<pad> Solar Industry<sep></s><pad><pad>']\n",
      "26\n",
      "{'input_ids': tensor([[5819, 4269,   10,  ...,    0,    0,    0],\n",
      "        [5819, 4269,   10,  ...,    0,    0,    0],\n",
      "        [5819, 4269,   10,  ...,    0,    0,    0],\n",
      "        [5819, 4269,   10,  ...,    0,    0,    0]]), 'attention_mask': tensor([[1, 1, 1,  ..., 0, 0, 0],\n",
      "        [1, 1, 1,  ..., 0, 0, 0],\n",
      "        [1, 1, 1,  ..., 0, 0, 0],\n",
      "        [1, 1, 1,  ..., 0, 0, 0]])}\n",
      "['<pad> Mikel Ogueta Gutiérrez and Omar Gómez Ortega<sep></s>', '<pad> structural calculations<sep></s><pad><pad><pad><pad><pad><pad><pad><pad><pad><pad><pad><pad><pad><pad><pad><pad><pad><pad>', '<pad> 2022<sep></s><pad><pad><pad><pad><pad><pad><pad><pad><pad><pad><pad><pad><pad><pad><pad><pad><pad><pad>', '<pad> 3D Geographic Information System (GIS) + Numerical Wind Tunnel CFD Simulation application technology<sep></s>']\n",
      "27\n",
      "{'input_ids': tensor([[5819, 4269,   10,  ...,    0,    0,    0],\n",
      "        [5819, 4269,   10,  ...,    0,    0,    0],\n",
      "        [5819, 4269,   10,  ...,    0,    0,    0]]), 'attention_mask': tensor([[1, 1, 1,  ..., 0, 0, 0],\n",
      "        [1, 1, 1,  ..., 0, 0, 0],\n",
      "        [1, 1, 1,  ..., 0, 0, 0]])}\n",
      "['<pad> Pineapple Energy Inc<sep></s><pad><pad><pad><pad><pad><pad>', '<pad> Tesla Powerwall Certified Installer<sep></s><pad><pad><pad><pad><pad>', '<pad> Long Island, Queens, Brooklyn and Staten Island<sep></s>']\n",
      "28\n",
      "{'input_ids': tensor([[5819, 4269,   10,  ...,    0,    0,    0],\n",
      "        [5819, 4269,   10,  ...,    0,    0,    0]]), 'attention_mask': tensor([[1, 1, 1,  ..., 0, 0, 0],\n",
      "        [1, 1, 1,  ..., 0, 0, 0]])}\n",
      "['<pad> GE Vernova<sep> EnergyHub<sep></s><pad>', '<pad> power of intelligent DER management and load flexibility<sep></s>']\n",
      "29\n",
      "{'input_ids': tensor([[5819, 4269,   10,  ...,    0,    0,    0],\n",
      "        [5819, 4269,   10,  ...,    0,    0,    0],\n",
      "        [5819, 4269,   10,  ...,    0,    0,    0]]), 'attention_mask': tensor([[1, 1, 1,  ..., 0, 0, 0],\n",
      "        [1, 1, 1,  ..., 0, 0, 0],\n",
      "        [1, 1, 1,  ..., 0, 0, 0]])}\n",
      "['<pad> 50<sep></s><pad><pad><pad>', '<pad> Christopher Castillo<sep></s>', '<pad> raw materials<sep></s><pad><pad>']\n",
      "30\n",
      "{'input_ids': tensor([[5819, 4269,   10,  ...,    0,    0,    0],\n",
      "        [5819, 4269,   10,  ...,    0,    0,    0],\n",
      "        [5819, 4269,   10,  ...,    0,    0,    0]]), 'attention_mask': tensor([[1, 1, 1,  ..., 0, 0, 0],\n",
      "        [1, 1, 1,  ..., 0, 0, 0],\n",
      "        [1, 1, 1,  ..., 0, 0, 0]])}\n",
      "['<pad> Tigo Energy Inc<sep></s><pad>', '<pad> The Green Glove program<sep></s>', '<pad> best practices<sep></s><pad><pad><pad>']\n",
      "31\n",
      "{'input_ids': tensor([[5819, 4269,   10,  ...,    0,    0,    0],\n",
      "        [5819, 4269,   10,  ...,    0,    0,    0],\n",
      "        [5819, 4269,   10,  ...,    0,    0,    0],\n",
      "        [5819, 4269,   10,  ...,    0,    0,    0]]), 'attention_mask': tensor([[1, 1, 1,  ..., 0, 0, 0],\n",
      "        [1, 1, 1,  ..., 0, 0, 0],\n",
      "        [1, 1, 1,  ..., 0, 0, 0],\n",
      "        [1, 1, 1,  ..., 0, 0, 0]])}\n",
      "['<pad> 51,000<sep></s><pad><pad><pad>', '<pad> 53%<sep> 837<sep></s>', '<pad> 11,000<sep></s><pad><pad><pad>', '<pad> “<sep></s><pad><pad><pad><pad>']\n",
      "32\n",
      "{'input_ids': tensor([[5819, 4269,   10,  ...,    0,    0,    0],\n",
      "        [5819, 4269,   10,  ...,    0,    0,    0]]), 'attention_mask': tensor([[1, 1, 1,  ..., 0, 0, 0],\n",
      "        [1, 1, 1,  ..., 0, 0, 0]])}\n",
      "['<pad> Sulphur Springs Valley Electric Cooperative<sep> 20 MW<sep></s>', '<pad> the interconnection infrastructure<sep></s><pad><pad><pad><pad><pad><pad><pad><pad>']\n",
      "33\n",
      "{'input_ids': tensor([[5819, 4269,   10,  ...,    0,    0,    0],\n",
      "        [5819, 4269,   10,  ...,    0,    0,    0],\n",
      "        [5819, 4269,   10,  ...,    0,    0,    0]]), 'attention_mask': tensor([[1, 1, 1,  ..., 0, 0, 0],\n",
      "        [1, 1, 1,  ..., 0, 0, 0],\n",
      "        [1, 1, 1,  ..., 0, 0, 0]])}\n",
      "['<pad> four<sep></s><pad><pad><pad><pad><pad><pad>', '<pad> Justin E. Driscoll<sep></s>', '<pad> “<sep></s><pad><pad><pad><pad><pad><pad>']\n",
      "34\n",
      "{'input_ids': tensor([[5819, 4269,   10,  ...,    0,    0,    0],\n",
      "        [5819, 4269,   10,  ...,    0,    0,    0],\n",
      "        [5819, 4269,   10,  ...,    0,    0,    0],\n",
      "        [5819, 4269,   10,  ...,    0,    0,    0]]), 'attention_mask': tensor([[1, 1, 1,  ..., 0, 0, 0],\n",
      "        [1, 1, 1,  ..., 0, 0, 0],\n",
      "        [1, 1, 1,  ..., 0, 0, 0],\n",
      "        [1, 1, 1,  ..., 0, 0, 0]])}\n",
      "['<pad> land conservation and supporting local community interests<sep></s>', '<pad> rapid increase in utility-scale solar<sep></s>', '<pad> climate, conservation, and community<sep></s><pad>', '<pad> “<sep></s><pad><pad><pad><pad><pad><pad>']\n",
      "An exception occurred\n",
      "35\n",
      "{'input_ids': tensor([[5819, 4269,   10,  ...,    0,    0,    0],\n",
      "        [5819, 4269,   10,  ...,    0,    0,    0]]), 'attention_mask': tensor([[1, 1, 1,  ..., 0, 0, 0],\n",
      "        [1, 1, 1,  ..., 0, 0, 0]])}\n",
      "['<pad> Glover Creek<sep></s>', '<pad> February 2020<sep></s><pad>']\n",
      "36\n",
      "{'input_ids': tensor([[5819, 4269,   10,  ...,    0,    0,    0],\n",
      "        [5819, 4269,   10,  ...,    0,    0,    0],\n",
      "        [5819, 4269,   10,  ...,    0,    0,    0],\n",
      "        [5819, 4269,   10,  ...,    0,    0,    0]]), 'attention_mask': tensor([[1, 1, 1,  ..., 0, 0, 0],\n",
      "        [1, 1, 1,  ..., 0, 0, 0],\n",
      "        [1, 1, 1,  ..., 0, 0, 0],\n",
      "        [1, 1, 1,  ..., 0, 0, 0]])}\n",
      "['<pad> FLEXRACK<sep></s>', '<pad> North America<sep></s><pad><pad><pad>', '<pad> SkyFire Energy Inc<sep></s>', '<pad> Scotford project<sep></s><pad>']\n",
      "37\n",
      "{'input_ids': tensor([[5819, 4269,   10,  ...,    0,    0,    0],\n",
      "        [5819, 4269,   10,  ...,    0,    0,    0],\n",
      "        [5819, 4269,   10,  ...,    0,    0,    0]]), 'attention_mask': tensor([[1, 1, 1,  ..., 0, 0, 0],\n",
      "        [1, 1, 1,  ..., 0, 0, 0],\n",
      "        [1, 1, 1,  ..., 0, 0, 0]])}\n",
      "['<pad> EagleView<sep> SolarReady<sep></s>', '<pad> Peter Cleveland<sep></s><pad><pad><pad><pad>', '<pad> “<sep></s><pad><pad><pad><pad><pad>']\n",
      "38\n",
      "{'input_ids': tensor([[5819, 4269,   10,  ...,    0,    0,    0],\n",
      "        [5819, 4269,   10,  ...,    0,    0,    0],\n",
      "        [5819, 4269,   10,  ...,    0,    0,    0]]), 'attention_mask': tensor([[1, 1, 1,  ..., 0, 0, 0],\n",
      "        [1, 1, 1,  ..., 0, 0, 0],\n",
      "        [1, 1, 1,  ..., 0, 0, 0]])}\n",
      "['<pad> The City of Fresno Department of Public Utilities<sep></s><pad><pad><pad><pad><pad><pad><pad><pad><pad><pad><pad><pad><pad><pad><pad>', '<pad> Fresno Convention Center, the Highway City Science Center, the Police Training Facility and Fresno Yosemite International Airport<sep></s>', '<pad> comprehensive assessments of the technology, tools and trends that are driving this dynamic energy sector<sep></s><pad><pad><pad><pad><pad><pad><pad><pad><pad><pad><pad><pad><pad>']\n",
      "39\n",
      "{'input_ids': tensor([[5819, 4269,   10,  ...,    0,    0,    0],\n",
      "        [5819, 4269,   10,  ...,    0,    0,    0],\n",
      "        [5819, 4269,   10,  ...,    0,    0,    0]]), 'attention_mask': tensor([[1, 1, 1,  ..., 0, 0, 0],\n",
      "        [1, 1, 1,  ..., 0, 0, 0],\n",
      "        [1, 1, 1,  ..., 0, 0, 0]])}\n",
      "['<pad> 380 MW<sep> 225 MWh<sep></s>', '<pad> Go Green<sep></s><pad><pad><pad><pad><pad><pad><pad><pad>', '<pad> comprehensive assessments of the technology, tools and trends<sep></s><pad>']\n",
      "40\n",
      "{'input_ids': tensor([[5819, 4269,   10,  ...,    0,    0,    0],\n",
      "        [5819, 4269,   10,  ...,    0,    0,    0],\n",
      "        [5819, 4269,   10,  ...,    0,    0,    0]]), 'attention_mask': tensor([[1, 1, 1,  ..., 0, 0, 0],\n",
      "        [1, 1, 1,  ..., 0, 0, 0],\n",
      "        [1, 1, 1,  ..., 0, 0, 0]])}\n",
      "['<pad> EDPR NA Distributed Generation<sep></s><pad><pad><pad><pad><pad><pad><pad>', '<pad> increase reliability, meet renewable energy mandates and support the overall electrical grid<sep></s>', '<pad> Alliance for Tribal Clean Energy<sep></s><pad><pad><pad><pad><pad><pad><pad><pad>']\n",
      "41\n",
      "{'input_ids': tensor([[5819, 4269,   10,  ...,    0,    0,    0],\n",
      "        [5819, 4269,   10,  ...,    0,    0,    0],\n",
      "        [5819, 4269,   10,  ...,    0,    0,    0]]), 'attention_mask': tensor([[1, 1, 1,  ..., 0, 0, 0],\n",
      "        [1, 1, 1,  ..., 0, 0, 0],\n",
      "        [1, 1, 1,  ..., 0, 0, 0]])}\n",
      "['<pad> 3.8 GW<sep> JinkoSolar Holding Co. Ltd<sep></s>', '<pad> Yunhe Lyu<sep></s><pad><pad><pad><pad><pad><pad><pad><pad><pad><pad>', '<pad> “<sep></s><pad><pad><pad><pad><pad><pad><pad><pad><pad><pad><pad><pad><pad><pad>']\n",
      "42\n",
      "{'input_ids': tensor([[5819, 4269,   10,  ...,    0,    0,    0],\n",
      "        [5819, 4269,   10,  ...,    0,    0,    0]]), 'attention_mask': tensor([[1, 1, 1,  ..., 0, 0, 0],\n",
      "        [1, 1, 1,  ..., 0, 0, 0]])}\n",
      "['<pad> Ascent Solar Technologies<sep> 17.55%<sep></s>', '<pad> comprehensive assessments<sep></s><pad><pad><pad><pad><pad><pad>']\n",
      "43\n",
      "{'input_ids': tensor([[5819, 4269,   10,  ...,    0,    0,    0],\n",
      "        [5819, 4269,   10,  ...,    0,    0,    0]]), 'attention_mask': tensor([[1, 1, 1,  ..., 0, 0, 0],\n",
      "        [1, 1, 1,  ..., 0, 0, 0]])}\n",
      "['<pad> 1237 MW<sep> Six Flags Magic Mountain<sep></s>', '<pad> comprehensive assessments<sep></s><pad><pad><pad><pad><pad><pad><pad><pad>']\n",
      "An exception occurred\n",
      "44\n",
      "{'input_ids': tensor([[5819, 4269,   10,  ...,    0,    0,    0],\n",
      "        [5819, 4269,   10,  ...,    0,    0,    0],\n",
      "        [5819, 4269,   10,  ...,    0,    0,    0],\n",
      "        [5819, 4269,   10,  ...,    0,    0,    0]]), 'attention_mask': tensor([[1, 1, 1,  ..., 0, 0, 0],\n",
      "        [1, 1, 1,  ..., 0, 0, 0],\n",
      "        [1, 1, 1,  ..., 0, 0, 0],\n",
      "        [1, 1, 1,  ..., 0, 0, 0]])}\n",
      "['<pad> Longroad Energy<sep></s><pad><pad><pad>', '<pad> over 200<sep></s><pad><pad><pad><pad>', '<pad> Inflation Reduction Act<sep></s>', '<pad> Solar Industry<sep></s><pad><pad><pad><pad>']\n",
      "45\n",
      "{'input_ids': tensor([[5819, 4269,   10,  ...,    0,    0,    0],\n",
      "        [5819, 4269,   10,  ...,    0,    0,    0],\n",
      "        [5819, 4269,   10,  ...,    0,    0,    0]]), 'attention_mask': tensor([[1, 1, 1,  ..., 0, 0, 0],\n",
      "        [1, 1, 1,  ..., 0, 0, 0],\n",
      "        [1, 1, 1,  ..., 0, 0, 0]])}\n",
      "['<pad> $ 300 million<sep></s><pad><pad><pad><pad>', '<pad> EPC and O & M<sep></s>', '<pad> Solar Industry<sep></s><pad><pad><pad><pad><pad>']\n",
      "46\n",
      "{'input_ids': tensor([[5819, 4269,   10,  ...,    0,    0,    0],\n",
      "        [5819, 4269,   10,  ...,    0,    0,    0],\n",
      "        [5819, 4269,   10,  ...,    0,    0,    0]]), 'attention_mask': tensor([[1, 1, 1,  ..., 0, 0, 0],\n",
      "        [1, 1, 1,  ..., 0, 0, 0],\n",
      "        [1, 1, 1,  ..., 0, 0, 0]])}\n",
      "['<pad> 5.5 GW<sep> 5.5 GW<sep> <unk>rsted<sep></s>', '<pad> Dr. Sandeep Gupta<sep></s><pad><pad><pad><pad><pad><pad>', '<pad> raw materials<sep></s><pad><pad><pad><pad><pad><pad><pad><pad><pad><pad><pad><pad>']\n",
      "An exception occurred\n",
      "47\n",
      "{'input_ids': tensor([[5819, 4269,   10,  ...,    0,    0,    0],\n",
      "        [5819, 4269,   10,  ...,    0,    0,    0],\n",
      "        [5819, 4269,   10,  ...,    0,    0,    0]]), 'attention_mask': tensor([[1, 1, 1,  ..., 0, 0, 0],\n",
      "        [1, 1, 1,  ..., 0, 0, 0],\n",
      "        [1, 1, 1,  ..., 0, 0, 0]])}\n",
      "['<pad> Veolia North America<sep></s><pad><pad><pad><pad>', '<pad> 250 million kWh<sep></s><pad><pad><pad><pad><pad>', '<pad> Veolia and South Central Electric Cooperative<sep></s>']\n",
      "48\n",
      "{'input_ids': tensor([[5819, 4269,   10,  ...,    0,    0,    0],\n",
      "        [5819, 4269,   10,  ...,    0,    0,    0],\n",
      "        [5819, 4269,   10,  ...,    0,    0,    0],\n",
      "        ...,\n",
      "        [5819, 4269,   10,  ...,    0,    0,    0],\n",
      "        [5819, 4269,   10,  ...,    0,    0,    0],\n",
      "        [5819, 4269,   10,  ...,    0,    0,    0]]), 'attention_mask': tensor([[1, 1, 1,  ..., 0, 0, 0],\n",
      "        [1, 1, 1,  ..., 0, 0, 0],\n",
      "        [1, 1, 1,  ..., 0, 0, 0],\n",
      "        ...,\n",
      "        [1, 1, 1,  ..., 0, 0, 0],\n",
      "        [1, 1, 1,  ..., 0, 0, 0],\n",
      "        [1, 1, 1,  ..., 0, 0, 0]])}\n",
      "['<pad> Chapter 11<sep></s><pad><pad><pad><pad><pad><pad><pad><pad><pad><pad><pad><pad><pad><pad><pad><pad><pad><pad><pad><pad><pad><pad><pad><pad><pad><pad><pad>', '<pad> 2014 and 2015<sep></s><pad><pad><pad><pad><pad><pad><pad><pad><pad><pad><pad><pad><pad><pad><pad><pad><pad><pad><pad><pad><pad><pad><pad><pad><pad><pad>', '<pad> U.S. Securities and Exchange Commission and the U.S. Department of Justice<sep></s><pad><pad><pad><pad><pad><pad><pad><pad><pad><pad><pad><pad>', '<pad> Raj Prabhu<sep></s><pad><pad><pad><pad><pad><pad><pad><pad><pad><pad><pad><pad><pad><pad><pad><pad><pad><pad><pad><pad><pad><pad><pad><pad>', '<pad> the viability of the yieldco structure<sep></s><pad><pad><pad><pad><pad><pad><pad><pad><pad><pad><pad><pad><pad><pad><pad><pad><pad><pad><pad><pad><pad>', '<pad> uses it to build more projects<sep></s><pad><pad><pad><pad><pad><pad><pad><pad><pad><pad><pad><pad><pad><pad><pad><pad><pad><pad><pad><pad><pad><pad><pad>', '<pad> musical chairs<sep></s><pad><pad><pad><pad><pad><pad><pad><pad><pad><pad><pad><pad><pad><pad><pad><pad><pad><pad><pad><pad><pad><pad><pad><pad><pad><pad><pad>', '<pad> a yieldco<sep></s><pad><pad><pad><pad><pad><pad><pad><pad><pad><pad><pad><pad><pad><pad><pad><pad><pad><pad><pad><pad><pad><pad><pad><pad><pad>', '<pad> Chase<sep></s><pad><pad><pad><pad><pad><pad><pad><pad><pad><pad><pad><pad><pad><pad><pad><pad><pad><pad><pad><pad><pad><pad><pad><pad><pad><pad><pad><pad>', '<pad> SunPower and First Solar<sep></s><pad><pad><pad><pad><pad><pad><pad><pad><pad><pad><pad><pad><pad><pad><pad><pad><pad><pad><pad><pad><pad><pad><pad><pad>', '<pad> SunEdison wanted to become the biggest renewables company in the world, and they could’ ve gotten there and stayed there<sep>', '<pad> not at the pace they went<sep></s><pad><pad><pad><pad><pad><pad><pad><pad><pad><pad><pad><pad><pad><pad><pad><pad><pad><pad><pad><pad><pad><pad><pad>', '<pad> Where are the projects going to come from in the future<sep></s><pad><pad><pad><pad><pad><pad><pad><pad><pad><pad><pad><pad><pad><pad><pad><pad><pad><pad>', '<pad> There are many options to be worked out<sep></s><pad><pad><pad><pad><pad><pad><pad><pad><pad><pad><pad><pad><pad><pad><pad><pad><pad><pad><pad><pad><pad>', '<pad> cycles of ups and downs<sep></s><pad><pad><pad><pad><pad><pad><pad><pad><pad><pad><pad><pad><pad><pad><pad><pad><pad><pad><pad><pad><pad><pad>', '<pad> rapid rise and fall<sep></s><pad><pad><pad><pad><pad><pad><pad><pad><pad><pad><pad><pad><pad><pad><pad><pad><pad><pad><pad><pad><pad><pad><pad><pad><pad>']\n",
      "49\n",
      "{'input_ids': tensor([[5819, 4269,   10,  ...,    0,    0,    0],\n",
      "        [5819, 4269,   10,  ...,    0,    0,    0],\n",
      "        [5819, 4269,   10,  ...,    0,    0,    0]]), 'attention_mask': tensor([[1, 1, 1,  ..., 0, 0, 0],\n",
      "        [1, 1, 1,  ..., 0, 0, 0],\n",
      "        [1, 1, 1,  ..., 0, 0, 0]])}\n",
      "['<pad> Arevon Energy Inc.<sep></s><pad>', '<pad> National Bank of Canada<sep></s><pad><pad>', '<pad> Tesla<sep> Fremont, Calif<sep></s>']\n"
     ]
    }
   ],
   "source": [
    "# creating an empty list to store questions and answers\n",
    "text_list = []\n",
    "\n",
    "# use for loop to generate Q&A\n",
    "for i, text in enumerate(df_last_50['key_sentences']):\n",
    "  print(i)\n",
    "  text_list.append(qa_generator(text))\n",
    "\n",
    "# SAVE the result to df\n",
    "df_last_50['QA'] = text_list"
   ]
  },
  {
   "cell_type": "code",
   "execution_count": 15,
   "id": "38d96863-7b7d-4111-a09e-9e3acc09befb",
   "metadata": {},
   "outputs": [
    {
     "data": {
      "text/plain": [
       "'Enel North America has signed a power purchase agreement with BXP, the largest publicly traded developer, owner and manager of premier workplaces in the United States, for a 21 MW portion of the Estonian solar project under construction in Delta County, Texas. “ Enel offers companies a variety of tools to manage energy efficiently and lower their carbon footprint – from clean power contracts to load-side solutions like demand response, ” says Paolo Romanacci, head Enel Green Power North America. “ Enel is one of the largest renewable energy operators in Texas, with 3.3 GW of installed wind and solar capacity and 607 MW/911 MWh of installed battery storage capacity supporting the ERCOT grid.'"
      ]
     },
     "execution_count": 15,
     "metadata": {},
     "output_type": "execute_result"
    },
    {
     "data": {
      "text/plain": [
       "[{'answer': '21 MW',\n",
       "  'question': 'How large is the portion of the Estonian solar project that Enel North America has signed a power purchase agreement with BXP?'},\n",
       " {'answer': 'BXP',\n",
       "  'question': 'Who is the largest publicly traded developer, owner and manager of premier workplaces in the US?'},\n",
       " {'answer': 'Enel Green Power North America',\n",
       "  'question': \"What is Paolo Romanacci's job title?\"},\n",
       " {'answer': '607 MW/911 MWh',\n",
       "  'question': 'How much battery storage capacity does Enel have?'}]"
      ]
     },
     "execution_count": 15,
     "metadata": {},
     "output_type": "execute_result"
    }
   ],
   "source": [
    "# set the content index to check\n",
    "n = 20\n",
    "\n",
    "#PRINT THE KEY SENTENC\n",
    "df_last_50['key_sentences'][n]\n",
    "\n",
    "#PRINT THE QA\n",
    "df_last_50['QA'][n]"
   ]
  },
  {
   "cell_type": "code",
   "execution_count": 16,
   "id": "477a93ca-51e4-4e34-a08f-8b52d7399c05",
   "metadata": {},
   "outputs": [],
   "source": [
    "# save the stage to csv\n",
    "df_last_50.to_csv(f\"Data/last_50_QA.csv\")"
   ]
  },
  {
   "cell_type": "markdown",
   "id": "a8cfa8cb-d8e6-4fdc-9a56-261d63563ffe",
   "metadata": {
    "jp-MarkdownHeadingCollapsed": true
   },
   "source": [
    "### Cleaning generated QA pairs "
   ]
  },
  {
   "cell_type": "markdown",
   "id": "5a2491cf-c9dd-426e-80ce-5c4cf4f2dd0c",
   "metadata": {},
   "source": []
  },
  {
   "cell_type": "code",
   "execution_count": 17,
   "id": "2badeb7c-ae53-442a-a124-999df2c61b38",
   "metadata": {},
   "outputs": [
    {
     "data": {
      "text/plain": [
       "Index(['idx', 'summary', 'QA'], dtype='object')"
      ]
     },
     "execution_count": 17,
     "metadata": {},
     "output_type": "execute_result"
    }
   ],
   "source": [
    "# load the stage data\n",
    "data_folder = Path(\"Data\")\n",
    "df_qa = pd.read_csv(data_folder / \"last_50_QA.csv\")\n",
    "# rename the column\n",
    "df_qa = df_qa.rename(columns={\"Unnamed: 0\": \"idx\", \"key_sentences\": \"summary\",})\n",
    "# select the usful column\n",
    "df_qa = df_qa.iloc[:, [0,2,3]]\n",
    "\n",
    "df_qa.keys()"
   ]
  },
  {
   "cell_type": "code",
   "execution_count": null,
   "id": "a594480e-2447-4634-9a8b-c43599811fda",
   "metadata": {},
   "outputs": [],
   "source": []
  },
  {
   "cell_type": "code",
   "execution_count": 18,
   "id": "cb9e44c2-fa3f-468f-97d5-c0e6717e067f",
   "metadata": {},
   "outputs": [
    {
     "data": {
      "text/html": [
       "<div>\n",
       "<style scoped>\n",
       "    .dataframe tbody tr th:only-of-type {\n",
       "        vertical-align: middle;\n",
       "    }\n",
       "\n",
       "    .dataframe tbody tr th {\n",
       "        vertical-align: top;\n",
       "    }\n",
       "\n",
       "    .dataframe thead th {\n",
       "        text-align: right;\n",
       "    }\n",
       "</style>\n",
       "<table border=\"1\" class=\"dataframe\">\n",
       "  <thead>\n",
       "    <tr style=\"text-align: right;\">\n",
       "      <th></th>\n",
       "      <th>summary</th>\n",
       "      <th>Q</th>\n",
       "      <th>A</th>\n",
       "    </tr>\n",
       "  </thead>\n",
       "  <tbody>\n",
       "    <tr>\n",
       "      <th>0</th>\n",
       "      <td>Anza, a solar and energy storage procurement p...</td>\n",
       "      <td>What is the name of the solar and energy stora...</td>\n",
       "      <td>Anza</td>\n",
       "    </tr>\n",
       "    <tr>\n",
       "      <th>1</th>\n",
       "      <td>Anza, a solar and energy storage procurement p...</td>\n",
       "      <td>What does Anza's technology provide?</td>\n",
       "      <td>analytics</td>\n",
       "    </tr>\n",
       "    <tr>\n",
       "      <th>2</th>\n",
       "      <td>Solar solutions provider Nextracker is set to ...</td>\n",
       "      <td>Which solar solutions provider is set to launc...</td>\n",
       "      <td>Nextracker</td>\n",
       "    </tr>\n",
       "    <tr>\n",
       "      <th>3</th>\n",
       "      <td>Solar solutions provider Nextracker is set to ...</td>\n",
       "      <td>How much faster can NX Horizon stow than stand...</td>\n",
       "      <td>four times faster</td>\n",
       "    </tr>\n",
       "    <tr>\n",
       "      <th>4</th>\n",
       "      <td>Solar solutions provider Nextracker is set to ...</td>\n",
       "      <td>What is Nextracker's latest innovation for hil...</td>\n",
       "      <td>NX Horizon XTR-1.5</td>\n",
       "    </tr>\n",
       "    <tr>\n",
       "      <th>...</th>\n",
       "      <td>...</td>\n",
       "      <td>...</td>\n",
       "      <td>...</td>\n",
       "    </tr>\n",
       "    <tr>\n",
       "      <th>187</th>\n",
       "      <td>Once the self-proclaimed “ leading renewable p...</td>\n",
       "      <td>What may serve as a cautionary tale for the in...</td>\n",
       "      <td>rapid rise and fall</td>\n",
       "    </tr>\n",
       "    <tr>\n",
       "      <th>188</th>\n",
       "      <td>Arevon Energy Inc. has closed financing on the...</td>\n",
       "      <td>Who closed financing on the Vikings solar-plus...</td>\n",
       "      <td>Arevon Energy Inc.</td>\n",
       "    </tr>\n",
       "    <tr>\n",
       "      <th>189</th>\n",
       "      <td>Arevon Energy Inc. has closed financing on the...</td>\n",
       "      <td>Who participated as a lender on the Vikings so...</td>\n",
       "      <td>National Bank of Canada</td>\n",
       "    </tr>\n",
       "    <tr>\n",
       "      <th>190</th>\n",
       "      <td>Arevon Energy Inc. has closed financing on the...</td>\n",
       "      <td>Which company is supplying the Vikings solar-p...</td>\n",
       "      <td>Tesla</td>\n",
       "    </tr>\n",
       "    <tr>\n",
       "      <th>191</th>\n",
       "      <td>Arevon Energy Inc. has closed financing on the...</td>\n",
       "      <td>Where is Nextracker's headquarters?</td>\n",
       "      <td>Fremont, Calif</td>\n",
       "    </tr>\n",
       "  </tbody>\n",
       "</table>\n",
       "<p>192 rows × 3 columns</p>\n",
       "</div>"
      ],
      "text/plain": [
       "                                               summary  \\\n",
       "0    Anza, a solar and energy storage procurement p...   \n",
       "1    Anza, a solar and energy storage procurement p...   \n",
       "2    Solar solutions provider Nextracker is set to ...   \n",
       "3    Solar solutions provider Nextracker is set to ...   \n",
       "4    Solar solutions provider Nextracker is set to ...   \n",
       "..                                                 ...   \n",
       "187  Once the self-proclaimed “ leading renewable p...   \n",
       "188  Arevon Energy Inc. has closed financing on the...   \n",
       "189  Arevon Energy Inc. has closed financing on the...   \n",
       "190  Arevon Energy Inc. has closed financing on the...   \n",
       "191  Arevon Energy Inc. has closed financing on the...   \n",
       "\n",
       "                                                     Q  \\\n",
       "0    What is the name of the solar and energy stora...   \n",
       "1                 What does Anza's technology provide?   \n",
       "2    Which solar solutions provider is set to launc...   \n",
       "3    How much faster can NX Horizon stow than stand...   \n",
       "4    What is Nextracker's latest innovation for hil...   \n",
       "..                                                 ...   \n",
       "187  What may serve as a cautionary tale for the in...   \n",
       "188  Who closed financing on the Vikings solar-plus...   \n",
       "189  Who participated as a lender on the Vikings so...   \n",
       "190  Which company is supplying the Vikings solar-p...   \n",
       "191                Where is Nextracker's headquarters?   \n",
       "\n",
       "                           A  \n",
       "0                       Anza  \n",
       "1                  analytics  \n",
       "2                 Nextracker  \n",
       "3          four times faster  \n",
       "4         NX Horizon XTR-1.5  \n",
       "..                       ...  \n",
       "187      rapid rise and fall  \n",
       "188       Arevon Energy Inc.  \n",
       "189  National Bank of Canada  \n",
       "190                    Tesla  \n",
       "191           Fremont, Calif  \n",
       "\n",
       "[192 rows x 3 columns]"
      ]
     },
     "execution_count": 18,
     "metadata": {},
     "output_type": "execute_result"
    }
   ],
   "source": [
    "# Initialize an empty DataFrame\n",
    "df_QA_clean = pd.DataFrame({'summary': [], 'Q': [], 'A': []})\n",
    "\n",
    "# Iterate over the rows in the DataFrame\n",
    "for i in df_qa.index:\n",
    "    # Convert the string representation of a list to a list of dictionaries\n",
    "    qa_list = ast.literal_eval(df_qa['QA'].iloc[i])\n",
    "\n",
    "    for key_s in qa_list:\n",
    "        if \"'\" in key_s['answer']:\n",
    "            continue\n",
    "        else:\n",
    "            # Create a new DataFrame with the new row\n",
    "            new_row = pd.DataFrame({\n",
    "                \"summary\": [df_qa[\"summary\"].iloc[i]],\n",
    "                \"Q\": [key_s['question']],\n",
    "                \"A\": [key_s['answer']]\n",
    "            })\n",
    "            # Concatenate the new row to the clean DataFrame\n",
    "            df_QA_clean = pd.concat([df_QA_clean, new_row], ignore_index=True)\n",
    "\n",
    "# Display the cleaned DataFrame\n",
    "df_QA_clean"
   ]
  },
  {
   "cell_type": "code",
   "execution_count": 19,
   "id": "9d4395fe-7395-4745-b975-ac3994cd7bf2",
   "metadata": {},
   "outputs": [],
   "source": [
    "# save the stage to csv\n",
    "df_QA_clean.to_csv(f\"Data/last_50_QA_clean.csv\")"
   ]
  },
  {
   "cell_type": "markdown",
   "id": "94573b7c-add1-4358-89c8-2b8b06e38416",
   "metadata": {
    "jp-MarkdownHeadingCollapsed": true
   },
   "source": [
    "### fine-tune GPT-2\n"
   ]
  },
  {
   "cell_type": "code",
   "execution_count": 20,
   "id": "8ca908b8-8af0-4204-bf74-ec1430d1c2d3",
   "metadata": {},
   "outputs": [
    {
     "data": {
      "text/plain": [
       "<torch._C.Generator at 0x1a835300370>"
      ]
     },
     "execution_count": 20,
     "metadata": {},
     "output_type": "execute_result"
    }
   ],
   "source": [
    "from torch.utils.data import Dataset, random_split\n",
    "\n",
    "torch.manual_seed(50)"
   ]
  },
  {
   "cell_type": "code",
   "execution_count": 21,
   "id": "ec949510-4549-45c5-91f3-ac97b6c2fe54",
   "metadata": {},
   "outputs": [
    {
     "name": "stdout",
     "output_type": "stream",
     "text": [
      "tensor([1, 2, 3])\n"
     ]
    }
   ],
   "source": [
    "# Check if GPU is available and use CPU if not\n",
    "device = torch.device(\"cuda\" if torch.cuda.is_available() else \"cpu\")\n",
    "\n",
    "# Example tensor creation\n",
    "x = torch.tensor([1, 2, 3], device=device)\n",
    "print(x)\n"
   ]
  },
  {
   "cell_type": "code",
   "execution_count": 22,
   "id": "9268b7e1-bbe4-48f9-9c8f-9f267cbaf8f2",
   "metadata": {},
   "outputs": [
    {
     "data": {
      "text/html": [
       "<div>\n",
       "<style scoped>\n",
       "    .dataframe tbody tr th:only-of-type {\n",
       "        vertical-align: middle;\n",
       "    }\n",
       "\n",
       "    .dataframe tbody tr th {\n",
       "        vertical-align: top;\n",
       "    }\n",
       "\n",
       "    .dataframe thead th {\n",
       "        text-align: right;\n",
       "    }\n",
       "</style>\n",
       "<table border=\"1\" class=\"dataframe\">\n",
       "  <thead>\n",
       "    <tr style=\"text-align: right;\">\n",
       "      <th></th>\n",
       "      <th>Unnamed: 0</th>\n",
       "      <th>summary</th>\n",
       "      <th>Q</th>\n",
       "      <th>A</th>\n",
       "    </tr>\n",
       "  </thead>\n",
       "  <tbody>\n",
       "    <tr>\n",
       "      <th>0</th>\n",
       "      <td>0</td>\n",
       "      <td>Anza, a solar and energy storage procurement p...</td>\n",
       "      <td>What is the name of the solar and energy stora...</td>\n",
       "      <td>Anza</td>\n",
       "    </tr>\n",
       "    <tr>\n",
       "      <th>1</th>\n",
       "      <td>1</td>\n",
       "      <td>Anza, a solar and energy storage procurement p...</td>\n",
       "      <td>What does Anza's technology provide?</td>\n",
       "      <td>analytics</td>\n",
       "    </tr>\n",
       "    <tr>\n",
       "      <th>2</th>\n",
       "      <td>2</td>\n",
       "      <td>Solar solutions provider Nextracker is set to ...</td>\n",
       "      <td>Which solar solutions provider is set to launc...</td>\n",
       "      <td>Nextracker</td>\n",
       "    </tr>\n",
       "    <tr>\n",
       "      <th>3</th>\n",
       "      <td>3</td>\n",
       "      <td>Solar solutions provider Nextracker is set to ...</td>\n",
       "      <td>How much faster can NX Horizon stow than stand...</td>\n",
       "      <td>four times faster</td>\n",
       "    </tr>\n",
       "    <tr>\n",
       "      <th>4</th>\n",
       "      <td>4</td>\n",
       "      <td>Solar solutions provider Nextracker is set to ...</td>\n",
       "      <td>What is Nextracker's latest innovation for hil...</td>\n",
       "      <td>NX Horizon XTR-1.5</td>\n",
       "    </tr>\n",
       "  </tbody>\n",
       "</table>\n",
       "</div>"
      ],
      "text/plain": [
       "   Unnamed: 0                                            summary  \\\n",
       "0           0  Anza, a solar and energy storage procurement p...   \n",
       "1           1  Anza, a solar and energy storage procurement p...   \n",
       "2           2  Solar solutions provider Nextracker is set to ...   \n",
       "3           3  Solar solutions provider Nextracker is set to ...   \n",
       "4           4  Solar solutions provider Nextracker is set to ...   \n",
       "\n",
       "                                                   Q                   A  \n",
       "0  What is the name of the solar and energy stora...                Anza  \n",
       "1               What does Anza's technology provide?           analytics  \n",
       "2  Which solar solutions provider is set to launc...          Nextracker  \n",
       "3  How much faster can NX Horizon stow than stand...   four times faster  \n",
       "4  What is Nextracker's latest innovation for hil...  NX Horizon XTR-1.5  "
      ]
     },
     "execution_count": 22,
     "metadata": {},
     "output_type": "execute_result"
    }
   ],
   "source": [
    "# loading into data frame\n",
    "df = pd.read_csv(\"Data/last_50_QA_clean.csv\")\n",
    "df.head()"
   ]
  },
  {
   "cell_type": "code",
   "execution_count": 23,
   "id": "6fdaca40-1465-4367-ae86-8a6a0a69da6a",
   "metadata": {},
   "outputs": [
    {
     "name": "stdout",
     "output_type": "stream",
     "text": [
      "tf.Tensor([1 2 3], shape=(3,), dtype=int32)\n"
     ]
    }
   ],
   "source": [
    "# Disable CPU usage\n",
    "tf.config.set_visible_devices([], 'cpu')\n",
    "\n",
    "# Example tensor creation\n",
    "x = tf.constant([1, 2, 3])\n",
    "print(x)\n"
   ]
  },
  {
   "cell_type": "code",
   "execution_count": 24,
   "id": "38d2d4d9-eb05-45f6-b64f-21db8c79a9bb",
   "metadata": {},
   "outputs": [
    {
     "data": {
      "text/plain": [
       "0      What is the name of the solar and energy stora...\n",
       "1                   What does Anza's technology provide?\n",
       "2      Which solar solutions provider is set to launc...\n",
       "3      How much faster can NX Horizon stow than stand...\n",
       "4      What is Nextracker's latest innovation for hil...\n",
       "                             ...                        \n",
       "187    What may serve as a cautionary tale for the in...\n",
       "188    Who closed financing on the Vikings solar-plus...\n",
       "189    Who participated as a lender on the Vikings so...\n",
       "190    Which company is supplying the Vikings solar-p...\n",
       "191                  Where is Nextracker's headquarters?\n",
       "Name: Q, Length: 192, dtype: object"
      ]
     },
     "execution_count": 24,
     "metadata": {},
     "output_type": "execute_result"
    },
    {
     "data": {
      "text/plain": [
       "0                         Anza\n",
       "1                    analytics\n",
       "2                   Nextracker\n",
       "3            four times faster\n",
       "4           NX Horizon XTR-1.5\n",
       "                ...           \n",
       "187        rapid rise and fall\n",
       "188         Arevon Energy Inc.\n",
       "189    National Bank of Canada\n",
       "190                      Tesla\n",
       "191             Fremont, Calif\n",
       "Name: A, Length: 192, dtype: object"
      ]
     },
     "execution_count": 24,
     "metadata": {},
     "output_type": "execute_result"
    }
   ],
   "source": [
    "# For calculation max token length\n",
    "test_Q = df.Q.copy()\n",
    "test_A = df.A.copy()\n",
    "test_Q\n",
    "test_A"
   ]
  },
  {
   "cell_type": "code",
   "execution_count": 25,
   "id": "a41d680e-4027-4b28-9a9d-1a7cd14e2bf2",
   "metadata": {},
   "outputs": [
    {
     "name": "stdout",
     "output_type": "stream",
     "text": [
      "Max length of tokens in answers: 22\n",
      "Max length of tokens in questions: 26\n"
     ]
    },
    {
     "name": "stderr",
     "output_type": "stream",
     "text": [
      "C:\\Users\\Pradip\\AppData\\Local\\Temp\\ipykernel_9968\\1788390642.py:13: UserWarning: \n",
      "\n",
      "`distplot` is a deprecated function and will be removed in seaborn v0.14.0.\n",
      "\n",
      "Please adapt your code to use either `displot` (a figure-level function with\n",
      "similar flexibility) or `histplot` (an axes-level function for histograms).\n",
      "\n",
      "For a guide to updating your code to use the new functions, please see\n",
      "https://gist.github.com/mwaskom/de44147ed2974457ad6372750bbe5751\n",
      "\n",
      "  sns.distplot([len(nltk.word_tokenize(text)) for text in test_A], kde=False, bins=20, label=\"Answers\")\n"
     ]
    },
    {
     "data": {
      "text/plain": [
       "<Axes: >"
      ]
     },
     "execution_count": 25,
     "metadata": {},
     "output_type": "execute_result"
    },
    {
     "name": "stderr",
     "output_type": "stream",
     "text": [
      "C:\\Users\\Pradip\\AppData\\Local\\Temp\\ipykernel_9968\\1788390642.py:14: UserWarning: \n",
      "\n",
      "`distplot` is a deprecated function and will be removed in seaborn v0.14.0.\n",
      "\n",
      "Please adapt your code to use either `displot` (a figure-level function with\n",
      "similar flexibility) or `histplot` (an axes-level function for histograms).\n",
      "\n",
      "For a guide to updating your code to use the new functions, please see\n",
      "https://gist.github.com/mwaskom/de44147ed2974457ad6372750bbe5751\n",
      "\n",
      "  sns.distplot([len(nltk.word_tokenize(text)) for text in test_Q], kde=False, bins=20, label=\"Questions\")\n"
     ]
    },
    {
     "data": {
      "text/plain": [
       "<Axes: >"
      ]
     },
     "execution_count": 25,
     "metadata": {},
     "output_type": "execute_result"
    },
    {
     "data": {
      "text/plain": [
       "Text(0.5, 1.0, 'Density of Token Lengths')"
      ]
     },
     "execution_count": 25,
     "metadata": {},
     "output_type": "execute_result"
    },
    {
     "data": {
      "text/plain": [
       "Text(0.5, 0, 'Token Length')"
      ]
     },
     "execution_count": 25,
     "metadata": {},
     "output_type": "execute_result"
    },
    {
     "data": {
      "text/plain": [
       "Text(0, 0.5, 'Frequency')"
      ]
     },
     "execution_count": 25,
     "metadata": {},
     "output_type": "execute_result"
    },
    {
     "data": {
      "text/plain": [
       "<matplotlib.legend.Legend at 0x1a845513770>"
      ]
     },
     "execution_count": 25,
     "metadata": {},
     "output_type": "execute_result"
    },
    {
     "data": {
      "image/png": "[encoded data removed]",
      "text/plain": [
       "<Figure size 640x480 with 1 Axes>"
      ]
     },
     "metadata": {},
     "output_type": "display_data"
    }
   ],
   "source": [
    "# Calculate the max length of tokens in answers\n",
    "lengths_ans = [len(nltk.word_tokenize(text)) for text in test_A]\n",
    "max_length_A = max(lengths_ans)\n",
    "\n",
    "# Calculate the max length of tokens in questions\n",
    "lengths_ques = [len(nltk.word_tokenize(text)) for text in test_Q]\n",
    "max_length_Q = max(lengths_ques)\n",
    "\n",
    "print(\"Max length of tokens in answers:\", max_length_A)\n",
    "print(\"Max length of tokens in questions:\", max_length_Q)\n",
    "\n",
    "# Plot the density of token lengths in answers\n",
    "sns.distplot([len(nltk.word_tokenize(text)) for text in test_A], kde=False, bins=20, label=\"Answers\")\n",
    "sns.distplot([len(nltk.word_tokenize(text)) for text in test_Q], kde=False, bins=20, label=\"Questions\")\n",
    "plt.title(\"Density of Token Lengths\")\n",
    "plt.xlabel(\"Token Length\")\n",
    "plt.ylabel(\"Frequency\")\n",
    "plt.legend()\n",
    "plt.show()"
   ]
  },
  {
   "cell_type": "code",
   "execution_count": 26,
   "id": "b6631130-555a-445e-b699-e6c2a1047ad1",
   "metadata": {},
   "outputs": [
    {
     "data": {
      "text/plain": [
       "<Figure size 1200x600 with 0 Axes>"
      ]
     },
     "execution_count": 26,
     "metadata": {},
     "output_type": "execute_result"
    },
    {
     "name": "stderr",
     "output_type": "stream",
     "text": [
      "C:\\Users\\Pradip\\AppData\\Local\\Temp\\ipykernel_9968\\2500927374.py:2: FutureWarning: \n",
      "\n",
      "`shade` is now deprecated in favor of `fill`; setting `fill=True`.\n",
      "This will become an error in seaborn v0.14.0; please update your code.\n",
      "\n",
      "  sns.kdeplot(lengths_ans, shade=True, label='Answer Lengths')\n"
     ]
    },
    {
     "data": {
      "text/plain": [
       "<Axes: ylabel='Density'>"
      ]
     },
     "execution_count": 26,
     "metadata": {},
     "output_type": "execute_result"
    },
    {
     "name": "stderr",
     "output_type": "stream",
     "text": [
      "C:\\Users\\Pradip\\AppData\\Local\\Temp\\ipykernel_9968\\2500927374.py:3: FutureWarning: \n",
      "\n",
      "`shade` is now deprecated in favor of `fill`; setting `fill=True`.\n",
      "This will become an error in seaborn v0.14.0; please update your code.\n",
      "\n",
      "  sns.kdeplot(lengths_ques, shade=True, label='Question Lengths')\n"
     ]
    },
    {
     "data": {
      "text/plain": [
       "<Axes: ylabel='Density'>"
      ]
     },
     "execution_count": 26,
     "metadata": {},
     "output_type": "execute_result"
    },
    {
     "data": {
      "text/plain": [
       "Text(0.5, 1.0, 'KDE Plot of Token Lengths')"
      ]
     },
     "execution_count": 26,
     "metadata": {},
     "output_type": "execute_result"
    },
    {
     "data": {
      "text/plain": [
       "Text(0.5, 0, 'Token Length')"
      ]
     },
     "execution_count": 26,
     "metadata": {},
     "output_type": "execute_result"
    },
    {
     "data": {
      "text/plain": [
       "Text(0, 0.5, 'Density')"
      ]
     },
     "execution_count": 26,
     "metadata": {},
     "output_type": "execute_result"
    },
    {
     "data": {
      "text/plain": [
       "<matplotlib.legend.Legend at 0x1a8520961b0>"
      ]
     },
     "execution_count": 26,
     "metadata": {},
     "output_type": "execute_result"
    },
    {
     "data": {
      "image/png": "[encoded data removed]",
      "text/plain": [
       "<Figure size 1200x600 with 1 Axes>"
      ]
     },
     "metadata": {},
     "output_type": "display_data"
    }
   ],
   "source": [
    "plt.figure(figsize=(12, 6))\n",
    "sns.kdeplot(lengths_ans, shade=True, label='Answer Lengths')\n",
    "sns.kdeplot(lengths_ques, shade=True, label='Question Lengths')\n",
    "plt.title('KDE Plot of Token Lengths')\n",
    "plt.xlabel('Token Length')\n",
    "plt.ylabel('Density')\n",
    "plt.legend(loc='upper right')\n",
    "plt.show()\n"
   ]
  },
  {
   "cell_type": "code",
   "execution_count": 27,
   "id": "9030a3c2-a4a4-42ad-88ed-306fe31e4dc5",
   "metadata": {},
   "outputs": [
    {
     "name": "stdout",
     "output_type": "stream",
     "text": [
      "48\n",
      "12.401041666666666\n"
     ]
    }
   ],
   "source": [
    "print(max_length_A + max_length_Q)\n",
    "print(np.average(lengths_ques))"
   ]
  },
  {
   "cell_type": "markdown",
   "id": "13b76803-9ed7-4f14-8075-ce58d7bf45fa",
   "metadata": {},
   "source": [
    "#### GPT2 Tokenizer"
   ]
  },
  {
   "cell_type": "code",
   "execution_count": 28,
   "id": "f677c201-0bb9-4e25-8f6e-2359d8cf4d6e",
   "metadata": {},
   "outputs": [
    {
     "data": {
      "application/vnd.jupyter.widget-view+json": {
       "model_id": "7c469c67929b47a589d459795eda8eff",
       "version_major": 2,
       "version_minor": 0
      },
      "text/plain": [
       "tokenizer_config.json:   0%|          | 0.00/26.0 [00:00<?, ?B/s]"
      ]
     },
     "metadata": {},
     "output_type": "display_data"
    },
    {
     "name": "stderr",
     "output_type": "stream",
     "text": [
      "C:\\Users\\Pradip\\switchdrive\\HSLU\\_Sem 4\\CTL\\venv\\Lib\\site-packages\\huggingface_hub\\file_download.py:157: UserWarning: `huggingface_hub` cache-system uses symlinks by default to efficiently store duplicated files but your machine does not support them in C:\\Users\\Pradip\\.cache\\huggingface\\hub\\models--gpt2. Caching files will still work but in a degraded version that might require more space on your disk. This warning can be disabled by setting the `HF_HUB_DISABLE_SYMLINKS_WARNING` environment variable. For more details, see https://huggingface.co/docs/huggingface_hub/how-to-cache#limitations.\n",
      "To support symlinks on Windows, you either need to activate Developer Mode or to run Python as an administrator. In order to see activate developer mode, see this article: https://docs.microsoft.com/en-us/windows/apps/get-started/enable-your-device-for-development\n",
      "  warnings.warn(message)\n"
     ]
    },
    {
     "data": {
      "application/vnd.jupyter.widget-view+json": {
       "model_id": "71357d030170422390d8bcacfc2ee9c7",
       "version_major": 2,
       "version_minor": 0
      },
      "text/plain": [
       "vocab.json:   0%|          | 0.00/1.04M [00:00<?, ?B/s]"
      ]
     },
     "metadata": {},
     "output_type": "display_data"
    },
    {
     "data": {
      "application/vnd.jupyter.widget-view+json": {
       "model_id": "e701110f77a341b3b21e94ddb58f5053",
       "version_major": 2,
       "version_minor": 0
      },
      "text/plain": [
       "merges.txt:   0%|          | 0.00/456k [00:00<?, ?B/s]"
      ]
     },
     "metadata": {},
     "output_type": "display_data"
    },
    {
     "data": {
      "application/vnd.jupyter.widget-view+json": {
       "model_id": "162e3662bc2b4a249c28ec5d1b1364d8",
       "version_major": 2,
       "version_minor": 0
      },
      "text/plain": [
       "tokenizer.json:   0%|          | 0.00/1.36M [00:00<?, ?B/s]"
      ]
     },
     "metadata": {},
     "output_type": "display_data"
    },
    {
     "name": "stderr",
     "output_type": "stream",
     "text": [
      "C:\\Users\\Pradip\\switchdrive\\HSLU\\_Sem 4\\CTL\\venv\\Lib\\site-packages\\huggingface_hub\\file_download.py:1132: FutureWarning: `resume_download` is deprecated and will be removed in version 1.0.0. Downloads always resume when possible. If you want to force a new download, use `force_download=True`.\n",
      "  warnings.warn(\n"
     ]
    },
    {
     "data": {
      "application/vnd.jupyter.widget-view+json": {
       "model_id": "38bd4a0e9dcd446ca1f43d51326818a5",
       "version_major": 2,
       "version_minor": 0
      },
      "text/plain": [
       "config.json:   0%|          | 0.00/665 [00:00<?, ?B/s]"
      ]
     },
     "metadata": {},
     "output_type": "display_data"
    }
   ],
   "source": [
    "# Load the GPT tokenizer.\n",
    "tokenizer = GPT2Tokenizer.from_pretrained('gpt2', bos_token='<|startoftext|>', eos_token='<|endoftext|>', pad_token='<|pad|>')"
   ]
  },
  {
   "cell_type": "code",
   "execution_count": 29,
   "id": "d8b1a627-60b0-4044-854c-2540abdae176",
   "metadata": {},
   "outputs": [
    {
     "name": "stdout",
     "output_type": "stream",
     "text": [
      "The max model length is 1024 for this model, even though the actual embedding size for GPT small is 60\n",
      "The beginning of sequence token <|startoftext|> token has the id 50257\n",
      "The end of sequence token <|endoftext|> has the id 50256\n",
      "The padding token <|pad|> has the id 50258\n"
     ]
    }
   ],
   "source": [
    "print(\"The max model length is {} for this model, even though the actual embedding size for GPT small is 60\".format(tokenizer.model_max_length))\n",
    "print(\"The beginning of sequence token {} token has the id {}\".format(tokenizer.convert_ids_to_tokens(tokenizer.bos_token_id), tokenizer.bos_token_id))\n",
    "print(\"The end of sequence token {} has the id {}\".format(tokenizer.convert_ids_to_tokens(tokenizer.eos_token_id), tokenizer.eos_token_id))\n",
    "print(\"The padding token {} has the id {}\".format(tokenizer.convert_ids_to_tokens(tokenizer.pad_token_id), tokenizer.pad_token_id))"
   ]
  },
  {
   "cell_type": "markdown",
   "id": "fff62246-ac08-4fe9-a14d-8820e6360b68",
   "metadata": {},
   "source": [
    "### PyTorch Datasets & Dataloaders"
   ]
  },
  {
   "cell_type": "code",
   "execution_count": 30,
   "id": "91972e15-5220-4aff-a3ce-4cf29083834c",
   "metadata": {},
   "outputs": [],
   "source": [
    "class GPT2Dataset(Dataset):\n",
    "\n",
    "  def __init__(self, df_qa, tokenizer, gpt2_type=\"gpt2\", max_length=60):\n",
    "\n",
    "    self.tokenizer = tokenizer\n",
    "    self.question_tokens = []\n",
    "    self.question_masks = []\n",
    "    self.answer_tokens = []\n",
    "\n",
    "    for index, row in df_qa.iterrows():\n",
    "\n",
    "      q_dict = tokenizer('<|startoftext|>'+ '{Question:} ' + row['Q'] + ' {Answer:} ' + row['A']+ '<|endoftext|>', truncation=True, max_length=max_length, padding=\"max_length\")\n",
    "      self.question_tokens.append(torch.tensor(q_dict['input_ids']))\n",
    "      self.question_masks.append(torch.tensor(q_dict['attention_mask']))\n",
    "    \n",
    "  def __len__(self):\n",
    "    return len(self.question_tokens)\n",
    "\n",
    "  def __getitem__(self, idx):\n",
    "    return self.question_tokens[idx], self.question_masks[idx]"
   ]
  },
  {
   "cell_type": "code",
   "execution_count": 31,
   "id": "350e0aac-1f56-485a-a45c-0c8a5303cf81",
   "metadata": {},
   "outputs": [
    {
     "name": "stdout",
     "output_type": "stream",
     "text": [
      "  182 training samples\n",
      "   10 validation samples\n"
     ]
    }
   ],
   "source": [
    "# Create GPT2Dataset object\n",
    "dataset = GPT2Dataset(df, tokenizer, max_length=60)\n",
    "\n",
    "# Split into training and validation sets\n",
    "train_size = int(0.95 * len(dataset))\n",
    "val_size = len(dataset) - train_size\n",
    "\n",
    "train_dataset, val_dataset = random_split(dataset, [train_size, val_size])\n",
    "\n",
    "print('{:>5,} training samples'.format(train_size))\n",
    "print('{:>5,} validation samples'.format(val_size))\n"
   ]
  },
  {
   "cell_type": "code",
   "execution_count": 33,
   "id": "a1bf0154-33cc-4759-af22-4f6559e4b6a4",
   "metadata": {},
   "outputs": [],
   "source": [
    "batch_size = 2\n",
    "\n",
    "# Create DataLoaders for training and validation datasets\n",
    "train_dataloader = DataLoader(\n",
    "    train_dataset,\n",
    "    sampler=RandomSampler(train_dataset),\n",
    "    batch_size=batch_size\n",
    ")\n",
    "\n",
    "validation_dataloader = DataLoader(\n",
    "    val_dataset,\n",
    "    sampler=SequentialSampler(val_dataset),\n",
    "    batch_size=batch_size\n",
    ")\n",
    "\n"
   ]
  },
  {
   "cell_type": "markdown",
   "id": "dd2a848f-b0cb-447d-bbbb-81297d40d3bd",
   "metadata": {},
   "source": [
    "Fine Tune GPT2 Model"
   ]
  },
  {
   "cell_type": "code",
   "execution_count": 34,
   "id": "6c46c0fd-0574-4309-88ea-7958a36ec225",
   "metadata": {},
   "outputs": [
    {
     "data": {
      "application/vnd.jupyter.widget-view+json": {
       "model_id": "32786fff520a4859b3b64ad9c53695d5",
       "version_major": 2,
       "version_minor": 0
      },
      "text/plain": [
       "model.safetensors:   0%|          | 0.00/548M [00:00<?, ?B/s]"
      ]
     },
     "metadata": {},
     "output_type": "display_data"
    },
    {
     "data": {
      "application/vnd.jupyter.widget-view+json": {
       "model_id": "8b3601a9109744f28e580a5ee89e2936",
       "version_major": 2,
       "version_minor": 0
      },
      "text/plain": [
       "generation_config.json:   0%|          | 0.00/124 [00:00<?, ?B/s]"
      ]
     },
     "metadata": {},
     "output_type": "display_data"
    },
    {
     "data": {
      "text/plain": [
       "Embedding(50257, 768)"
      ]
     },
     "execution_count": 34,
     "metadata": {},
     "output_type": "execute_result"
    },
    {
     "data": {
      "text/plain": [
       "GPT2LMHeadModel(\n",
       "  (transformer): GPT2Model(\n",
       "    (wte): Embedding(50257, 768)\n",
       "    (wpe): Embedding(1024, 768)\n",
       "    (drop): Dropout(p=0.1, inplace=False)\n",
       "    (h): ModuleList(\n",
       "      (0-11): 12 x GPT2Block(\n",
       "        (ln_1): LayerNorm((768,), eps=1e-05, elementwise_affine=True)\n",
       "        (attn): GPT2Attention(\n",
       "          (c_attn): Conv1D()\n",
       "          (c_proj): Conv1D()\n",
       "          (attn_dropout): Dropout(p=0.1, inplace=False)\n",
       "          (resid_dropout): Dropout(p=0.1, inplace=False)\n",
       "        )\n",
       "        (ln_2): LayerNorm((768,), eps=1e-05, elementwise_affine=True)\n",
       "        (mlp): GPT2MLP(\n",
       "          (c_fc): Conv1D()\n",
       "          (c_proj): Conv1D()\n",
       "          (act): NewGELUActivation()\n",
       "          (dropout): Dropout(p=0.1, inplace=False)\n",
       "        )\n",
       "      )\n",
       "    )\n",
       "    (ln_f): LayerNorm((768,), eps=1e-05, elementwise_affine=True)\n",
       "  )\n",
       "  (lm_head): Linear(in_features=768, out_features=50257, bias=False)\n",
       ")"
      ]
     },
     "execution_count": 34,
     "metadata": {},
     "output_type": "execute_result"
    },
    {
     "data": {
      "text/plain": [
       "<torch._C.Generator at 0x1a835300370>"
      ]
     },
     "execution_count": 34,
     "metadata": {},
     "output_type": "execute_result"
    }
   ],
   "source": [
    "# Set the configuration\n",
    "configuration = GPT2Config.from_pretrained('gpt2', output_hidden_states=False)\n",
    "\n",
    "# Instantiate the model\n",
    "model = GPT2LMHeadModel.from_pretrained(\"gpt2\", config=configuration)\n",
    "\n",
    "# This step is necessary because some tokens (bos_token, etc.) have been added to the embeddings\n",
    "# Otherwise, the tokenizer and model tensors won't match up\n",
    "tokenizer = GPT2Tokenizer.from_pretrained('gpt2')\n",
    "model.resize_token_embeddings(len(tokenizer))\n",
    "\n",
    "# Set the device to CPU\n",
    "device = torch.device(\"cpu\")\n",
    "model.to(device)\n",
    "\n",
    "# Set the seed value for reproducibility\n",
    "seed_val = 20\n",
    "random.seed(seed_val)\n",
    "np.random.seed(seed_val)\n",
    "torch.manual_seed(seed_val)\n"
   ]
  },
  {
   "cell_type": "code",
   "execution_count": 36,
   "id": "fd1a7905-9db8-4914-8bbc-62f937ad9f64",
   "metadata": {},
   "outputs": [
    {
     "name": "stderr",
     "output_type": "stream",
     "text": [
      "C:\\Users\\Pradip\\switchdrive\\HSLU\\_Sem 4\\CTL\\venv\\Lib\\site-packages\\transformers\\optimization.py:588: FutureWarning: This implementation of AdamW is deprecated and will be removed in a future version. Use the PyTorch implementation torch.optim.AdamW instead, or set `no_deprecation_warning=True` to disable this warning\n",
      "  warnings.warn(\n"
     ]
    }
   ],
   "source": [
    "learning_rate = 2e-5\n",
    "epsilon = 1e-8\n",
    "epochs = 3\n",
    "warmup_steps = 0\n",
    "\n",
    "# Optimizer\n",
    "optimizer = AdamW(model.parameters(),\n",
    "                  lr = learning_rate,\n",
    "                  eps = epsilon\n",
    "                )"
   ]
  },
  {
   "cell_type": "code",
   "execution_count": 37,
   "id": "97bd14da-949a-4701-a52c-a3e0ee249d85",
   "metadata": {},
   "outputs": [],
   "source": [
    "total_steps = len(train_dataloader) * epochs\n",
    "scheduler = get_linear_schedule_with_warmup(optimizer,\n",
    "                                            num_warmup_steps = warmup_steps,\n",
    "                                            num_training_steps = total_steps)"
   ]
  },
  {
   "cell_type": "code",
   "execution_count": 38,
   "id": "114893b6-1683-41e1-ba72-6fd6d904d760",
   "metadata": {},
   "outputs": [
    {
     "data": {
      "text/plain": [
       "Embedding(50257, 768)"
      ]
     },
     "execution_count": 38,
     "metadata": {},
     "output_type": "execute_result"
    }
   ],
   "source": [
    "# Load the tokenizer and model from the same pretrained checkpoint\n",
    "tokenizer = GPT2Tokenizer.from_pretrained('gpt2')\n",
    "model = GPT2LMHeadModel.from_pretrained('gpt2')\n",
    "\n",
    "# Ensure the tokenizer and model have the same vocabulary size\n",
    "model.resize_token_embeddings(len(tokenizer))\n"
   ]
  },
  {
   "cell_type": "code",
   "execution_count": 39,
   "id": "e8db9812-3500-4f8f-9de2-4ea61fda10e4",
   "metadata": {},
   "outputs": [
    {
     "name": "stdout",
     "output_type": "stream",
     "text": [
      "Out of range token IDs found in batch 0\n",
      "Batch with out of range token IDs: 0\n",
      "Token IDs: tensor([[50257,    90, 24361,    25,    92, 12347,  5756,  1010,    13,   785,\n",
      "          3557,   689, 13204,  7475,    11,  4708, 11949, 25560,    11,   290,\n",
      "          1281,    12, 17350,   341,  7475,   329, 12420,  6591,  9988,  2706,\n",
      "           287,   703,   867,  1294,  1391, 33706,    25,    92,  2026, 50256,\n",
      "         50258, 50258, 50258, 50258, 50258, 50258, 50258, 50258, 50258, 50258,\n",
      "         50258, 50258, 50258, 50258, 50258, 50258, 50258, 50258, 50258, 50258],\n",
      "        [50257,    90, 24361,    25,    92,  1374,   867,  3341,   423,   587,\n",
      "          5884,   284,   262,   955,  7407, 10706,   355,   286,  2693,    30,\n",
      "          1391, 33706,    25,    92,  1367,    11,   830, 50256, 50258, 50258,\n",
      "         50258, 50258, 50258, 50258, 50258, 50258, 50258, 50258, 50258, 50258,\n",
      "         50258, 50258, 50258, 50258, 50258, 50258, 50258, 50258, 50258, 50258,\n",
      "         50258, 50258, 50258, 50258, 50258, 50258, 50258, 50258, 50258, 50258]])\n"
     ]
    }
   ],
   "source": [
    "def check_input_ids(data_loader, model):\n",
    "    for step, batch in enumerate(data_loader):\n",
    "        b_input_ids = batch[0]\n",
    "        if (b_input_ids >= model.config.vocab_size).any() or (b_input_ids < 0).any():\n",
    "            print(f\"Out of range token IDs found in batch {step}\")\n",
    "            return step, b_input_ids\n",
    "    print(\"All token IDs are within the valid range.\")\n",
    "\n",
    "step, b_input_ids = check_input_ids(train_dataloader, model)\n",
    "print(\"Batch with out of range token IDs:\", step)\n",
    "print(\"Token IDs:\", b_input_ids)\n"
   ]
  },
  {
   "cell_type": "code",
   "execution_count": 40,
   "id": "e5cbe9fa-3b8b-4d5c-ac71-370225ec2108",
   "metadata": {},
   "outputs": [
    {
     "data": {
      "text/plain": [
       "Embedding(50258, 768)"
      ]
     },
     "execution_count": 40,
     "metadata": {},
     "output_type": "execute_result"
    }
   ],
   "source": [
    "# Load the tokenizer and model\n",
    "tokenizer = GPT2Tokenizer.from_pretrained('gpt2')\n",
    "model = GPT2LMHeadModel.from_pretrained('gpt2')\n",
    "\n",
    "# Add special tokens if necessary\n",
    "special_tokens = {'pad_token': '<PAD>'}\n",
    "num_added_toks = tokenizer.add_special_tokens(special_tokens)\n",
    "model.resize_token_embeddings(len(tokenizer))\n",
    "\n",
    "def preprocess_data(text_data, tokenizer, max_length):\n",
    "    input_ids = []\n",
    "    attention_masks = []\n",
    "\n",
    "    for text in text_data:\n",
    "        encoded_data = tokenizer.encode_plus(\n",
    "            text,\n",
    "            add_special_tokens=True,\n",
    "            max_length=max_length,\n",
    "            padding='max_length',\n",
    "            truncation=True,\n",
    "            return_attention_mask=True,\n",
    "            return_tensors='pt'\n",
    "        )\n",
    "        \n",
    "        input_ids.append(encoded_data['input_ids'])\n",
    "        attention_masks.append(encoded_data['attention_mask'])\n",
    "\n",
    "    return torch.cat(input_ids, dim=0), torch.cat(attention_masks, dim=0)\n",
    "\n",
    "# Example usage:\n",
    "train_texts = [\"your training text data here\"]\n",
    "train_input_ids, train_attention_masks = preprocess_data(train_texts, tokenizer, max_length=512)\n"
   ]
  },
  {
   "cell_type": "code",
   "execution_count": 41,
   "id": "9d931f9c-69c5-4860-85b3-29a7f9af83b8",
   "metadata": {},
   "outputs": [
    {
     "name": "stdout",
     "output_type": "stream",
     "text": [
      "Out of range token IDs found in batch 0\n",
      "Batch with out of range token IDs: 0\n",
      "Token IDs: tensor([[50257,    90, 24361,    25,    92,  1374,   881,   750,  4285,  1045,\n",
      "          5985,  6682,  1969,   663, 39350,  8063,   290,  3850,   286,  3884,\n",
      "          6841,    30,  1391, 33706,    25,    92,   720,  5867,  1510, 50256,\n",
      "         50258, 50258, 50258, 50258, 50258, 50258, 50258, 50258, 50258, 50258,\n",
      "         50258, 50258, 50258, 50258, 50258, 50258, 50258, 50258, 50258, 50258,\n",
      "         50258, 50258, 50258, 50258, 50258, 50258, 50258, 50258, 50258, 50258],\n",
      "        [50257,    90, 24361,    25,    92,  1867,   318,   262,   649,  6841,\n",
      "           287,   314,   527,   544, 35240,    11,  4689,    13,  1391, 33706,\n",
      "            25,    92,  8150,  3938, 31677, 11521,  8860,   287,   262,  1578,\n",
      "          1829, 50256, 50258, 50258, 50258, 50258, 50258, 50258, 50258, 50258,\n",
      "         50258, 50258, 50258, 50258, 50258, 50258, 50258, 50258, 50258, 50258,\n",
      "         50258, 50258, 50258, 50258, 50258, 50258, 50258, 50258, 50258, 50258]])\n"
     ]
    }
   ],
   "source": [
    "def check_input_ids(data_loader, model):\n",
    "    for step, batch in enumerate(data_loader):\n",
    "        b_input_ids = batch[0]\n",
    "        if (b_input_ids >= model.config.vocab_size).any() or (b_input_ids < 0).any():\n",
    "            print(f\"Out of range token IDs found in batch {step}\")\n",
    "            return step, b_input_ids\n",
    "    print(\"All token IDs are within the valid range.\")\n",
    "\n",
    "step, b_input_ids = check_input_ids(train_dataloader, model)\n",
    "print(\"Batch with out of range token IDs:\", step)\n",
    "print(\"Token IDs:\", b_input_ids)\n"
   ]
  },
  {
   "cell_type": "code",
   "execution_count": 42,
   "id": "936ec2dc-26f4-4985-a48d-b130933a0d9c",
   "metadata": {
    "scrolled": true
   },
   "outputs": [
    {
     "data": {
      "text/plain": [
       "Embedding(50258, 768)"
      ]
     },
     "execution_count": 42,
     "metadata": {},
     "output_type": "execute_result"
    },
    {
     "name": "stdout",
     "output_type": "stream",
     "text": [
      "\n",
      "======== Epoch 1 / 10 ========\n",
      "Training...\n"
     ]
    },
    {
     "data": {
      "text/plain": [
       "GPT2LMHeadModel(\n",
       "  (transformer): GPT2Model(\n",
       "    (wte): Embedding(50258, 768)\n",
       "    (wpe): Embedding(1024, 768)\n",
       "    (drop): Dropout(p=0.1, inplace=False)\n",
       "    (h): ModuleList(\n",
       "      (0-11): 12 x GPT2Block(\n",
       "        (ln_1): LayerNorm((768,), eps=1e-05, elementwise_affine=True)\n",
       "        (attn): GPT2Attention(\n",
       "          (c_attn): Conv1D()\n",
       "          (c_proj): Conv1D()\n",
       "          (attn_dropout): Dropout(p=0.1, inplace=False)\n",
       "          (resid_dropout): Dropout(p=0.1, inplace=False)\n",
       "        )\n",
       "        (ln_2): LayerNorm((768,), eps=1e-05, elementwise_affine=True)\n",
       "        (mlp): GPT2MLP(\n",
       "          (c_fc): Conv1D()\n",
       "          (c_proj): Conv1D()\n",
       "          (act): NewGELUActivation()\n",
       "          (dropout): Dropout(p=0.1, inplace=False)\n",
       "        )\n",
       "      )\n",
       "    )\n",
       "    (ln_f): LayerNorm((768,), eps=1e-05, elementwise_affine=True)\n",
       "  )\n",
       "  (lm_head): Linear(in_features=768, out_features=50258, bias=False)\n",
       ")"
      ]
     },
     "execution_count": 42,
     "metadata": {},
     "output_type": "execute_result"
    },
    {
     "name": "stdout",
     "output_type": "stream",
     "text": [
      "Average training loss: 0.72\n",
      "Training epoch took: 0:01:24\n",
      "\n",
      "Running Validation...\n"
     ]
    },
    {
     "data": {
      "text/plain": [
       "GPT2LMHeadModel(\n",
       "  (transformer): GPT2Model(\n",
       "    (wte): Embedding(50258, 768)\n",
       "    (wpe): Embedding(1024, 768)\n",
       "    (drop): Dropout(p=0.1, inplace=False)\n",
       "    (h): ModuleList(\n",
       "      (0-11): 12 x GPT2Block(\n",
       "        (ln_1): LayerNorm((768,), eps=1e-05, elementwise_affine=True)\n",
       "        (attn): GPT2Attention(\n",
       "          (c_attn): Conv1D()\n",
       "          (c_proj): Conv1D()\n",
       "          (attn_dropout): Dropout(p=0.1, inplace=False)\n",
       "          (resid_dropout): Dropout(p=0.1, inplace=False)\n",
       "        )\n",
       "        (ln_2): LayerNorm((768,), eps=1e-05, elementwise_affine=True)\n",
       "        (mlp): GPT2MLP(\n",
       "          (c_fc): Conv1D()\n",
       "          (c_proj): Conv1D()\n",
       "          (act): NewGELUActivation()\n",
       "          (dropout): Dropout(p=0.1, inplace=False)\n",
       "        )\n",
       "      )\n",
       "    )\n",
       "    (ln_f): LayerNorm((768,), eps=1e-05, elementwise_affine=True)\n",
       "  )\n",
       "  (lm_head): Linear(in_features=768, out_features=50258, bias=False)\n",
       ")"
      ]
     },
     "execution_count": 42,
     "metadata": {},
     "output_type": "execute_result"
    },
    {
     "name": "stdout",
     "output_type": "stream",
     "text": [
      "Validation Loss: 0.52\n",
      "Validation took: 0:00:01\n",
      "\n",
      "======== Epoch 2 / 10 ========\n",
      "Training...\n"
     ]
    },
    {
     "data": {
      "text/plain": [
       "GPT2LMHeadModel(\n",
       "  (transformer): GPT2Model(\n",
       "    (wte): Embedding(50258, 768)\n",
       "    (wpe): Embedding(1024, 768)\n",
       "    (drop): Dropout(p=0.1, inplace=False)\n",
       "    (h): ModuleList(\n",
       "      (0-11): 12 x GPT2Block(\n",
       "        (ln_1): LayerNorm((768,), eps=1e-05, elementwise_affine=True)\n",
       "        (attn): GPT2Attention(\n",
       "          (c_attn): Conv1D()\n",
       "          (c_proj): Conv1D()\n",
       "          (attn_dropout): Dropout(p=0.1, inplace=False)\n",
       "          (resid_dropout): Dropout(p=0.1, inplace=False)\n",
       "        )\n",
       "        (ln_2): LayerNorm((768,), eps=1e-05, elementwise_affine=True)\n",
       "        (mlp): GPT2MLP(\n",
       "          (c_fc): Conv1D()\n",
       "          (c_proj): Conv1D()\n",
       "          (act): NewGELUActivation()\n",
       "          (dropout): Dropout(p=0.1, inplace=False)\n",
       "        )\n",
       "      )\n",
       "    )\n",
       "    (ln_f): LayerNorm((768,), eps=1e-05, elementwise_affine=True)\n",
       "  )\n",
       "  (lm_head): Linear(in_features=768, out_features=50258, bias=False)\n",
       ")"
      ]
     },
     "execution_count": 42,
     "metadata": {},
     "output_type": "execute_result"
    },
    {
     "name": "stdout",
     "output_type": "stream",
     "text": [
      "Average training loss: 0.57\n",
      "Training epoch took: 0:01:08\n",
      "\n",
      "Running Validation...\n"
     ]
    },
    {
     "data": {
      "text/plain": [
       "GPT2LMHeadModel(\n",
       "  (transformer): GPT2Model(\n",
       "    (wte): Embedding(50258, 768)\n",
       "    (wpe): Embedding(1024, 768)\n",
       "    (drop): Dropout(p=0.1, inplace=False)\n",
       "    (h): ModuleList(\n",
       "      (0-11): 12 x GPT2Block(\n",
       "        (ln_1): LayerNorm((768,), eps=1e-05, elementwise_affine=True)\n",
       "        (attn): GPT2Attention(\n",
       "          (c_attn): Conv1D()\n",
       "          (c_proj): Conv1D()\n",
       "          (attn_dropout): Dropout(p=0.1, inplace=False)\n",
       "          (resid_dropout): Dropout(p=0.1, inplace=False)\n",
       "        )\n",
       "        (ln_2): LayerNorm((768,), eps=1e-05, elementwise_affine=True)\n",
       "        (mlp): GPT2MLP(\n",
       "          (c_fc): Conv1D()\n",
       "          (c_proj): Conv1D()\n",
       "          (act): NewGELUActivation()\n",
       "          (dropout): Dropout(p=0.1, inplace=False)\n",
       "        )\n",
       "      )\n",
       "    )\n",
       "    (ln_f): LayerNorm((768,), eps=1e-05, elementwise_affine=True)\n",
       "  )\n",
       "  (lm_head): Linear(in_features=768, out_features=50258, bias=False)\n",
       ")"
      ]
     },
     "execution_count": 42,
     "metadata": {},
     "output_type": "execute_result"
    },
    {
     "name": "stdout",
     "output_type": "stream",
     "text": [
      "Validation Loss: 0.39\n",
      "Validation took: 0:00:01\n",
      "\n",
      "======== Epoch 3 / 10 ========\n",
      "Training...\n"
     ]
    },
    {
     "data": {
      "text/plain": [
       "GPT2LMHeadModel(\n",
       "  (transformer): GPT2Model(\n",
       "    (wte): Embedding(50258, 768)\n",
       "    (wpe): Embedding(1024, 768)\n",
       "    (drop): Dropout(p=0.1, inplace=False)\n",
       "    (h): ModuleList(\n",
       "      (0-11): 12 x GPT2Block(\n",
       "        (ln_1): LayerNorm((768,), eps=1e-05, elementwise_affine=True)\n",
       "        (attn): GPT2Attention(\n",
       "          (c_attn): Conv1D()\n",
       "          (c_proj): Conv1D()\n",
       "          (attn_dropout): Dropout(p=0.1, inplace=False)\n",
       "          (resid_dropout): Dropout(p=0.1, inplace=False)\n",
       "        )\n",
       "        (ln_2): LayerNorm((768,), eps=1e-05, elementwise_affine=True)\n",
       "        (mlp): GPT2MLP(\n",
       "          (c_fc): Conv1D()\n",
       "          (c_proj): Conv1D()\n",
       "          (act): NewGELUActivation()\n",
       "          (dropout): Dropout(p=0.1, inplace=False)\n",
       "        )\n",
       "      )\n",
       "    )\n",
       "    (ln_f): LayerNorm((768,), eps=1e-05, elementwise_affine=True)\n",
       "  )\n",
       "  (lm_head): Linear(in_features=768, out_features=50258, bias=False)\n",
       ")"
      ]
     },
     "execution_count": 42,
     "metadata": {},
     "output_type": "execute_result"
    },
    {
     "name": "stdout",
     "output_type": "stream",
     "text": [
      "Average training loss: 0.30\n",
      "Training epoch took: 0:00:08\n",
      "\n",
      "Running Validation...\n"
     ]
    },
    {
     "data": {
      "text/plain": [
       "GPT2LMHeadModel(\n",
       "  (transformer): GPT2Model(\n",
       "    (wte): Embedding(50258, 768)\n",
       "    (wpe): Embedding(1024, 768)\n",
       "    (drop): Dropout(p=0.1, inplace=False)\n",
       "    (h): ModuleList(\n",
       "      (0-11): 12 x GPT2Block(\n",
       "        (ln_1): LayerNorm((768,), eps=1e-05, elementwise_affine=True)\n",
       "        (attn): GPT2Attention(\n",
       "          (c_attn): Conv1D()\n",
       "          (c_proj): Conv1D()\n",
       "          (attn_dropout): Dropout(p=0.1, inplace=False)\n",
       "          (resid_dropout): Dropout(p=0.1, inplace=False)\n",
       "        )\n",
       "        (ln_2): LayerNorm((768,), eps=1e-05, elementwise_affine=True)\n",
       "        (mlp): GPT2MLP(\n",
       "          (c_fc): Conv1D()\n",
       "          (c_proj): Conv1D()\n",
       "          (act): NewGELUActivation()\n",
       "          (dropout): Dropout(p=0.1, inplace=False)\n",
       "        )\n",
       "      )\n",
       "    )\n",
       "    (ln_f): LayerNorm((768,), eps=1e-05, elementwise_affine=True)\n",
       "  )\n",
       "  (lm_head): Linear(in_features=768, out_features=50258, bias=False)\n",
       ")"
      ]
     },
     "execution_count": 42,
     "metadata": {},
     "output_type": "execute_result"
    },
    {
     "name": "stdout",
     "output_type": "stream",
     "text": [
      "Validation Loss: 0.28\n",
      "Validation took: 0:00:01\n",
      "\n",
      "======== Epoch 4 / 10 ========\n",
      "Training...\n"
     ]
    },
    {
     "data": {
      "text/plain": [
       "GPT2LMHeadModel(\n",
       "  (transformer): GPT2Model(\n",
       "    (wte): Embedding(50258, 768)\n",
       "    (wpe): Embedding(1024, 768)\n",
       "    (drop): Dropout(p=0.1, inplace=False)\n",
       "    (h): ModuleList(\n",
       "      (0-11): 12 x GPT2Block(\n",
       "        (ln_1): LayerNorm((768,), eps=1e-05, elementwise_affine=True)\n",
       "        (attn): GPT2Attention(\n",
       "          (c_attn): Conv1D()\n",
       "          (c_proj): Conv1D()\n",
       "          (attn_dropout): Dropout(p=0.1, inplace=False)\n",
       "          (resid_dropout): Dropout(p=0.1, inplace=False)\n",
       "        )\n",
       "        (ln_2): LayerNorm((768,), eps=1e-05, elementwise_affine=True)\n",
       "        (mlp): GPT2MLP(\n",
       "          (c_fc): Conv1D()\n",
       "          (c_proj): Conv1D()\n",
       "          (act): NewGELUActivation()\n",
       "          (dropout): Dropout(p=0.1, inplace=False)\n",
       "        )\n",
       "      )\n",
       "    )\n",
       "    (ln_f): LayerNorm((768,), eps=1e-05, elementwise_affine=True)\n",
       "  )\n",
       "  (lm_head): Linear(in_features=768, out_features=50258, bias=False)\n",
       ")"
      ]
     },
     "execution_count": 42,
     "metadata": {},
     "output_type": "execute_result"
    },
    {
     "name": "stdout",
     "output_type": "stream",
     "text": [
      "Average training loss: 0.22\n",
      "Training epoch took: 0:00:04\n",
      "\n",
      "Running Validation...\n"
     ]
    },
    {
     "data": {
      "text/plain": [
       "GPT2LMHeadModel(\n",
       "  (transformer): GPT2Model(\n",
       "    (wte): Embedding(50258, 768)\n",
       "    (wpe): Embedding(1024, 768)\n",
       "    (drop): Dropout(p=0.1, inplace=False)\n",
       "    (h): ModuleList(\n",
       "      (0-11): 12 x GPT2Block(\n",
       "        (ln_1): LayerNorm((768,), eps=1e-05, elementwise_affine=True)\n",
       "        (attn): GPT2Attention(\n",
       "          (c_attn): Conv1D()\n",
       "          (c_proj): Conv1D()\n",
       "          (attn_dropout): Dropout(p=0.1, inplace=False)\n",
       "          (resid_dropout): Dropout(p=0.1, inplace=False)\n",
       "        )\n",
       "        (ln_2): LayerNorm((768,), eps=1e-05, elementwise_affine=True)\n",
       "        (mlp): GPT2MLP(\n",
       "          (c_fc): Conv1D()\n",
       "          (c_proj): Conv1D()\n",
       "          (act): NewGELUActivation()\n",
       "          (dropout): Dropout(p=0.1, inplace=False)\n",
       "        )\n",
       "      )\n",
       "    )\n",
       "    (ln_f): LayerNorm((768,), eps=1e-05, elementwise_affine=True)\n",
       "  )\n",
       "  (lm_head): Linear(in_features=768, out_features=50258, bias=False)\n",
       ")"
      ]
     },
     "execution_count": 42,
     "metadata": {},
     "output_type": "execute_result"
    },
    {
     "name": "stdout",
     "output_type": "stream",
     "text": [
      "Validation Loss: 0.23\n",
      "Validation took: 0:00:01\n",
      "\n",
      "======== Epoch 5 / 10 ========\n",
      "Training...\n"
     ]
    },
    {
     "data": {
      "text/plain": [
       "GPT2LMHeadModel(\n",
       "  (transformer): GPT2Model(\n",
       "    (wte): Embedding(50258, 768)\n",
       "    (wpe): Embedding(1024, 768)\n",
       "    (drop): Dropout(p=0.1, inplace=False)\n",
       "    (h): ModuleList(\n",
       "      (0-11): 12 x GPT2Block(\n",
       "        (ln_1): LayerNorm((768,), eps=1e-05, elementwise_affine=True)\n",
       "        (attn): GPT2Attention(\n",
       "          (c_attn): Conv1D()\n",
       "          (c_proj): Conv1D()\n",
       "          (attn_dropout): Dropout(p=0.1, inplace=False)\n",
       "          (resid_dropout): Dropout(p=0.1, inplace=False)\n",
       "        )\n",
       "        (ln_2): LayerNorm((768,), eps=1e-05, elementwise_affine=True)\n",
       "        (mlp): GPT2MLP(\n",
       "          (c_fc): Conv1D()\n",
       "          (c_proj): Conv1D()\n",
       "          (act): NewGELUActivation()\n",
       "          (dropout): Dropout(p=0.1, inplace=False)\n",
       "        )\n",
       "      )\n",
       "    )\n",
       "    (ln_f): LayerNorm((768,), eps=1e-05, elementwise_affine=True)\n",
       "  )\n",
       "  (lm_head): Linear(in_features=768, out_features=50258, bias=False)\n",
       ")"
      ]
     },
     "execution_count": 42,
     "metadata": {},
     "output_type": "execute_result"
    },
    {
     "name": "stdout",
     "output_type": "stream",
     "text": [
      "Average training loss: 0.21\n",
      "Training epoch took: 0:00:06\n",
      "\n",
      "Running Validation...\n"
     ]
    },
    {
     "data": {
      "text/plain": [
       "GPT2LMHeadModel(\n",
       "  (transformer): GPT2Model(\n",
       "    (wte): Embedding(50258, 768)\n",
       "    (wpe): Embedding(1024, 768)\n",
       "    (drop): Dropout(p=0.1, inplace=False)\n",
       "    (h): ModuleList(\n",
       "      (0-11): 12 x GPT2Block(\n",
       "        (ln_1): LayerNorm((768,), eps=1e-05, elementwise_affine=True)\n",
       "        (attn): GPT2Attention(\n",
       "          (c_attn): Conv1D()\n",
       "          (c_proj): Conv1D()\n",
       "          (attn_dropout): Dropout(p=0.1, inplace=False)\n",
       "          (resid_dropout): Dropout(p=0.1, inplace=False)\n",
       "        )\n",
       "        (ln_2): LayerNorm((768,), eps=1e-05, elementwise_affine=True)\n",
       "        (mlp): GPT2MLP(\n",
       "          (c_fc): Conv1D()\n",
       "          (c_proj): Conv1D()\n",
       "          (act): NewGELUActivation()\n",
       "          (dropout): Dropout(p=0.1, inplace=False)\n",
       "        )\n",
       "      )\n",
       "    )\n",
       "    (ln_f): LayerNorm((768,), eps=1e-05, elementwise_affine=True)\n",
       "  )\n",
       "  (lm_head): Linear(in_features=768, out_features=50258, bias=False)\n",
       ")"
      ]
     },
     "execution_count": 42,
     "metadata": {},
     "output_type": "execute_result"
    },
    {
     "name": "stdout",
     "output_type": "stream",
     "text": [
      "Validation Loss: 0.18\n",
      "Validation took: 0:00:01\n",
      "\n",
      "======== Epoch 6 / 10 ========\n",
      "Training...\n"
     ]
    },
    {
     "data": {
      "text/plain": [
       "GPT2LMHeadModel(\n",
       "  (transformer): GPT2Model(\n",
       "    (wte): Embedding(50258, 768)\n",
       "    (wpe): Embedding(1024, 768)\n",
       "    (drop): Dropout(p=0.1, inplace=False)\n",
       "    (h): ModuleList(\n",
       "      (0-11): 12 x GPT2Block(\n",
       "        (ln_1): LayerNorm((768,), eps=1e-05, elementwise_affine=True)\n",
       "        (attn): GPT2Attention(\n",
       "          (c_attn): Conv1D()\n",
       "          (c_proj): Conv1D()\n",
       "          (attn_dropout): Dropout(p=0.1, inplace=False)\n",
       "          (resid_dropout): Dropout(p=0.1, inplace=False)\n",
       "        )\n",
       "        (ln_2): LayerNorm((768,), eps=1e-05, elementwise_affine=True)\n",
       "        (mlp): GPT2MLP(\n",
       "          (c_fc): Conv1D()\n",
       "          (c_proj): Conv1D()\n",
       "          (act): NewGELUActivation()\n",
       "          (dropout): Dropout(p=0.1, inplace=False)\n",
       "        )\n",
       "      )\n",
       "    )\n",
       "    (ln_f): LayerNorm((768,), eps=1e-05, elementwise_affine=True)\n",
       "  )\n",
       "  (lm_head): Linear(in_features=768, out_features=50258, bias=False)\n",
       ")"
      ]
     },
     "execution_count": 42,
     "metadata": {},
     "output_type": "execute_result"
    },
    {
     "name": "stdout",
     "output_type": "stream",
     "text": [
      "Average training loss: 0.16\n",
      "Training epoch took: 0:00:03\n",
      "\n",
      "Running Validation...\n"
     ]
    },
    {
     "data": {
      "text/plain": [
       "GPT2LMHeadModel(\n",
       "  (transformer): GPT2Model(\n",
       "    (wte): Embedding(50258, 768)\n",
       "    (wpe): Embedding(1024, 768)\n",
       "    (drop): Dropout(p=0.1, inplace=False)\n",
       "    (h): ModuleList(\n",
       "      (0-11): 12 x GPT2Block(\n",
       "        (ln_1): LayerNorm((768,), eps=1e-05, elementwise_affine=True)\n",
       "        (attn): GPT2Attention(\n",
       "          (c_attn): Conv1D()\n",
       "          (c_proj): Conv1D()\n",
       "          (attn_dropout): Dropout(p=0.1, inplace=False)\n",
       "          (resid_dropout): Dropout(p=0.1, inplace=False)\n",
       "        )\n",
       "        (ln_2): LayerNorm((768,), eps=1e-05, elementwise_affine=True)\n",
       "        (mlp): GPT2MLP(\n",
       "          (c_fc): Conv1D()\n",
       "          (c_proj): Conv1D()\n",
       "          (act): NewGELUActivation()\n",
       "          (dropout): Dropout(p=0.1, inplace=False)\n",
       "        )\n",
       "      )\n",
       "    )\n",
       "    (ln_f): LayerNorm((768,), eps=1e-05, elementwise_affine=True)\n",
       "  )\n",
       "  (lm_head): Linear(in_features=768, out_features=50258, bias=False)\n",
       ")"
      ]
     },
     "execution_count": 42,
     "metadata": {},
     "output_type": "execute_result"
    },
    {
     "name": "stdout",
     "output_type": "stream",
     "text": [
      "Validation Loss: 0.15\n",
      "Validation took: 0:00:01\n",
      "\n",
      "======== Epoch 7 / 10 ========\n",
      "Training...\n"
     ]
    },
    {
     "data": {
      "text/plain": [
       "GPT2LMHeadModel(\n",
       "  (transformer): GPT2Model(\n",
       "    (wte): Embedding(50258, 768)\n",
       "    (wpe): Embedding(1024, 768)\n",
       "    (drop): Dropout(p=0.1, inplace=False)\n",
       "    (h): ModuleList(\n",
       "      (0-11): 12 x GPT2Block(\n",
       "        (ln_1): LayerNorm((768,), eps=1e-05, elementwise_affine=True)\n",
       "        (attn): GPT2Attention(\n",
       "          (c_attn): Conv1D()\n",
       "          (c_proj): Conv1D()\n",
       "          (attn_dropout): Dropout(p=0.1, inplace=False)\n",
       "          (resid_dropout): Dropout(p=0.1, inplace=False)\n",
       "        )\n",
       "        (ln_2): LayerNorm((768,), eps=1e-05, elementwise_affine=True)\n",
       "        (mlp): GPT2MLP(\n",
       "          (c_fc): Conv1D()\n",
       "          (c_proj): Conv1D()\n",
       "          (act): NewGELUActivation()\n",
       "          (dropout): Dropout(p=0.1, inplace=False)\n",
       "        )\n",
       "      )\n",
       "    )\n",
       "    (ln_f): LayerNorm((768,), eps=1e-05, elementwise_affine=True)\n",
       "  )\n",
       "  (lm_head): Linear(in_features=768, out_features=50258, bias=False)\n",
       ")"
      ]
     },
     "execution_count": 42,
     "metadata": {},
     "output_type": "execute_result"
    },
    {
     "name": "stdout",
     "output_type": "stream",
     "text": [
      "Average training loss: 0.30\n",
      "Training epoch took: 0:00:06\n",
      "\n",
      "Running Validation...\n"
     ]
    },
    {
     "data": {
      "text/plain": [
       "GPT2LMHeadModel(\n",
       "  (transformer): GPT2Model(\n",
       "    (wte): Embedding(50258, 768)\n",
       "    (wpe): Embedding(1024, 768)\n",
       "    (drop): Dropout(p=0.1, inplace=False)\n",
       "    (h): ModuleList(\n",
       "      (0-11): 12 x GPT2Block(\n",
       "        (ln_1): LayerNorm((768,), eps=1e-05, elementwise_affine=True)\n",
       "        (attn): GPT2Attention(\n",
       "          (c_attn): Conv1D()\n",
       "          (c_proj): Conv1D()\n",
       "          (attn_dropout): Dropout(p=0.1, inplace=False)\n",
       "          (resid_dropout): Dropout(p=0.1, inplace=False)\n",
       "        )\n",
       "        (ln_2): LayerNorm((768,), eps=1e-05, elementwise_affine=True)\n",
       "        (mlp): GPT2MLP(\n",
       "          (c_fc): Conv1D()\n",
       "          (c_proj): Conv1D()\n",
       "          (act): NewGELUActivation()\n",
       "          (dropout): Dropout(p=0.1, inplace=False)\n",
       "        )\n",
       "      )\n",
       "    )\n",
       "    (ln_f): LayerNorm((768,), eps=1e-05, elementwise_affine=True)\n",
       "  )\n",
       "  (lm_head): Linear(in_features=768, out_features=50258, bias=False)\n",
       ")"
      ]
     },
     "execution_count": 42,
     "metadata": {},
     "output_type": "execute_result"
    },
    {
     "name": "stdout",
     "output_type": "stream",
     "text": [
      "Validation Loss: 0.13\n",
      "Validation took: 0:00:01\n",
      "\n",
      "======== Epoch 8 / 10 ========\n",
      "Training...\n"
     ]
    },
    {
     "data": {
      "text/plain": [
       "GPT2LMHeadModel(\n",
       "  (transformer): GPT2Model(\n",
       "    (wte): Embedding(50258, 768)\n",
       "    (wpe): Embedding(1024, 768)\n",
       "    (drop): Dropout(p=0.1, inplace=False)\n",
       "    (h): ModuleList(\n",
       "      (0-11): 12 x GPT2Block(\n",
       "        (ln_1): LayerNorm((768,), eps=1e-05, elementwise_affine=True)\n",
       "        (attn): GPT2Attention(\n",
       "          (c_attn): Conv1D()\n",
       "          (c_proj): Conv1D()\n",
       "          (attn_dropout): Dropout(p=0.1, inplace=False)\n",
       "          (resid_dropout): Dropout(p=0.1, inplace=False)\n",
       "        )\n",
       "        (ln_2): LayerNorm((768,), eps=1e-05, elementwise_affine=True)\n",
       "        (mlp): GPT2MLP(\n",
       "          (c_fc): Conv1D()\n",
       "          (c_proj): Conv1D()\n",
       "          (act): NewGELUActivation()\n",
       "          (dropout): Dropout(p=0.1, inplace=False)\n",
       "        )\n",
       "      )\n",
       "    )\n",
       "    (ln_f): LayerNorm((768,), eps=1e-05, elementwise_affine=True)\n",
       "  )\n",
       "  (lm_head): Linear(in_features=768, out_features=50258, bias=False)\n",
       ")"
      ]
     },
     "execution_count": 42,
     "metadata": {},
     "output_type": "execute_result"
    },
    {
     "name": "stdout",
     "output_type": "stream",
     "text": [
      "Average training loss: 0.12\n",
      "Training epoch took: 0:00:04\n",
      "\n",
      "Running Validation...\n"
     ]
    },
    {
     "data": {
      "text/plain": [
       "GPT2LMHeadModel(\n",
       "  (transformer): GPT2Model(\n",
       "    (wte): Embedding(50258, 768)\n",
       "    (wpe): Embedding(1024, 768)\n",
       "    (drop): Dropout(p=0.1, inplace=False)\n",
       "    (h): ModuleList(\n",
       "      (0-11): 12 x GPT2Block(\n",
       "        (ln_1): LayerNorm((768,), eps=1e-05, elementwise_affine=True)\n",
       "        (attn): GPT2Attention(\n",
       "          (c_attn): Conv1D()\n",
       "          (c_proj): Conv1D()\n",
       "          (attn_dropout): Dropout(p=0.1, inplace=False)\n",
       "          (resid_dropout): Dropout(p=0.1, inplace=False)\n",
       "        )\n",
       "        (ln_2): LayerNorm((768,), eps=1e-05, elementwise_affine=True)\n",
       "        (mlp): GPT2MLP(\n",
       "          (c_fc): Conv1D()\n",
       "          (c_proj): Conv1D()\n",
       "          (act): NewGELUActivation()\n",
       "          (dropout): Dropout(p=0.1, inplace=False)\n",
       "        )\n",
       "      )\n",
       "    )\n",
       "    (ln_f): LayerNorm((768,), eps=1e-05, elementwise_affine=True)\n",
       "  )\n",
       "  (lm_head): Linear(in_features=768, out_features=50258, bias=False)\n",
       ")"
      ]
     },
     "execution_count": 42,
     "metadata": {},
     "output_type": "execute_result"
    },
    {
     "name": "stdout",
     "output_type": "stream",
     "text": [
      "Validation Loss: 0.13\n",
      "Validation took: 0:00:01\n",
      "\n",
      "======== Epoch 9 / 10 ========\n",
      "Training...\n"
     ]
    },
    {
     "data": {
      "text/plain": [
       "GPT2LMHeadModel(\n",
       "  (transformer): GPT2Model(\n",
       "    (wte): Embedding(50258, 768)\n",
       "    (wpe): Embedding(1024, 768)\n",
       "    (drop): Dropout(p=0.1, inplace=False)\n",
       "    (h): ModuleList(\n",
       "      (0-11): 12 x GPT2Block(\n",
       "        (ln_1): LayerNorm((768,), eps=1e-05, elementwise_affine=True)\n",
       "        (attn): GPT2Attention(\n",
       "          (c_attn): Conv1D()\n",
       "          (c_proj): Conv1D()\n",
       "          (attn_dropout): Dropout(p=0.1, inplace=False)\n",
       "          (resid_dropout): Dropout(p=0.1, inplace=False)\n",
       "        )\n",
       "        (ln_2): LayerNorm((768,), eps=1e-05, elementwise_affine=True)\n",
       "        (mlp): GPT2MLP(\n",
       "          (c_fc): Conv1D()\n",
       "          (c_proj): Conv1D()\n",
       "          (act): NewGELUActivation()\n",
       "          (dropout): Dropout(p=0.1, inplace=False)\n",
       "        )\n",
       "      )\n",
       "    )\n",
       "    (ln_f): LayerNorm((768,), eps=1e-05, elementwise_affine=True)\n",
       "  )\n",
       "  (lm_head): Linear(in_features=768, out_features=50258, bias=False)\n",
       ")"
      ]
     },
     "execution_count": 42,
     "metadata": {},
     "output_type": "execute_result"
    },
    {
     "name": "stdout",
     "output_type": "stream",
     "text": [
      "Average training loss: 0.12\n",
      "Training epoch took: 0:00:04\n",
      "\n",
      "Running Validation...\n"
     ]
    },
    {
     "data": {
      "text/plain": [
       "GPT2LMHeadModel(\n",
       "  (transformer): GPT2Model(\n",
       "    (wte): Embedding(50258, 768)\n",
       "    (wpe): Embedding(1024, 768)\n",
       "    (drop): Dropout(p=0.1, inplace=False)\n",
       "    (h): ModuleList(\n",
       "      (0-11): 12 x GPT2Block(\n",
       "        (ln_1): LayerNorm((768,), eps=1e-05, elementwise_affine=True)\n",
       "        (attn): GPT2Attention(\n",
       "          (c_attn): Conv1D()\n",
       "          (c_proj): Conv1D()\n",
       "          (attn_dropout): Dropout(p=0.1, inplace=False)\n",
       "          (resid_dropout): Dropout(p=0.1, inplace=False)\n",
       "        )\n",
       "        (ln_2): LayerNorm((768,), eps=1e-05, elementwise_affine=True)\n",
       "        (mlp): GPT2MLP(\n",
       "          (c_fc): Conv1D()\n",
       "          (c_proj): Conv1D()\n",
       "          (act): NewGELUActivation()\n",
       "          (dropout): Dropout(p=0.1, inplace=False)\n",
       "        )\n",
       "      )\n",
       "    )\n",
       "    (ln_f): LayerNorm((768,), eps=1e-05, elementwise_affine=True)\n",
       "  )\n",
       "  (lm_head): Linear(in_features=768, out_features=50258, bias=False)\n",
       ")"
      ]
     },
     "execution_count": 42,
     "metadata": {},
     "output_type": "execute_result"
    },
    {
     "name": "stdout",
     "output_type": "stream",
     "text": [
      "Validation Loss: 0.13\n",
      "Validation took: 0:00:01\n",
      "\n",
      "======== Epoch 10 / 10 ========\n",
      "Training...\n"
     ]
    },
    {
     "data": {
      "text/plain": [
       "GPT2LMHeadModel(\n",
       "  (transformer): GPT2Model(\n",
       "    (wte): Embedding(50258, 768)\n",
       "    (wpe): Embedding(1024, 768)\n",
       "    (drop): Dropout(p=0.1, inplace=False)\n",
       "    (h): ModuleList(\n",
       "      (0-11): 12 x GPT2Block(\n",
       "        (ln_1): LayerNorm((768,), eps=1e-05, elementwise_affine=True)\n",
       "        (attn): GPT2Attention(\n",
       "          (c_attn): Conv1D()\n",
       "          (c_proj): Conv1D()\n",
       "          (attn_dropout): Dropout(p=0.1, inplace=False)\n",
       "          (resid_dropout): Dropout(p=0.1, inplace=False)\n",
       "        )\n",
       "        (ln_2): LayerNorm((768,), eps=1e-05, elementwise_affine=True)\n",
       "        (mlp): GPT2MLP(\n",
       "          (c_fc): Conv1D()\n",
       "          (c_proj): Conv1D()\n",
       "          (act): NewGELUActivation()\n",
       "          (dropout): Dropout(p=0.1, inplace=False)\n",
       "        )\n",
       "      )\n",
       "    )\n",
       "    (ln_f): LayerNorm((768,), eps=1e-05, elementwise_affine=True)\n",
       "  )\n",
       "  (lm_head): Linear(in_features=768, out_features=50258, bias=False)\n",
       ")"
      ]
     },
     "execution_count": 42,
     "metadata": {},
     "output_type": "execute_result"
    },
    {
     "name": "stdout",
     "output_type": "stream",
     "text": [
      "Average training loss: 0.16\n",
      "Training epoch took: 0:00:04\n",
      "\n",
      "Running Validation...\n"
     ]
    },
    {
     "data": {
      "text/plain": [
       "GPT2LMHeadModel(\n",
       "  (transformer): GPT2Model(\n",
       "    (wte): Embedding(50258, 768)\n",
       "    (wpe): Embedding(1024, 768)\n",
       "    (drop): Dropout(p=0.1, inplace=False)\n",
       "    (h): ModuleList(\n",
       "      (0-11): 12 x GPT2Block(\n",
       "        (ln_1): LayerNorm((768,), eps=1e-05, elementwise_affine=True)\n",
       "        (attn): GPT2Attention(\n",
       "          (c_attn): Conv1D()\n",
       "          (c_proj): Conv1D()\n",
       "          (attn_dropout): Dropout(p=0.1, inplace=False)\n",
       "          (resid_dropout): Dropout(p=0.1, inplace=False)\n",
       "        )\n",
       "        (ln_2): LayerNorm((768,), eps=1e-05, elementwise_affine=True)\n",
       "        (mlp): GPT2MLP(\n",
       "          (c_fc): Conv1D()\n",
       "          (c_proj): Conv1D()\n",
       "          (act): NewGELUActivation()\n",
       "          (dropout): Dropout(p=0.1, inplace=False)\n",
       "        )\n",
       "      )\n",
       "    )\n",
       "    (ln_f): LayerNorm((768,), eps=1e-05, elementwise_affine=True)\n",
       "  )\n",
       "  (lm_head): Linear(in_features=768, out_features=50258, bias=False)\n",
       ")"
      ]
     },
     "execution_count": 42,
     "metadata": {},
     "output_type": "execute_result"
    },
    {
     "name": "stdout",
     "output_type": "stream",
     "text": [
      "Validation Loss: 0.13\n",
      "Validation took: 0:00:01\n",
      "\n",
      "Training complete!\n",
      "Total training took 0:03:22 (h:mm:ss)\n"
     ]
    }
   ],
   "source": [
    "from torch.utils.data import TensorDataset\n",
    "\n",
    "# Load the tokenizer and model\n",
    "tokenizer = GPT2Tokenizer.from_pretrained('gpt2')\n",
    "model = GPT2LMHeadModel.from_pretrained('gpt2')\n",
    "\n",
    "# Add special tokens if necessary\n",
    "special_tokens = {'pad_token': '<PAD>'}\n",
    "num_added_toks = tokenizer.add_special_tokens(special_tokens)\n",
    "model.resize_token_embeddings(len(tokenizer))\n",
    "\n",
    "# Preprocess function\n",
    "def preprocess_data(text_data, tokenizer, max_length):\n",
    "    input_ids = []\n",
    "    attention_masks = []\n",
    "\n",
    "    for text in text_data:\n",
    "        encoded_data = tokenizer.encode_plus(\n",
    "            text,\n",
    "            add_special_tokens=True,\n",
    "            max_length=max_length,\n",
    "            padding='max_length',\n",
    "            truncation=True,\n",
    "            return_attention_mask=True,\n",
    "            return_tensors='pt'\n",
    "        )\n",
    "        \n",
    "        input_ids.append(encoded_data['input_ids'])\n",
    "        attention_masks.append(encoded_data['attention_mask'])\n",
    "\n",
    "    return torch.cat(input_ids, dim=0), torch.cat(attention_masks, dim=0)\n",
    "\n",
    "# Example training and validation texts\n",
    "train_texts = [\"your training text data here\"]\n",
    "val_texts = [\"your validation text data here\"]\n",
    "\n",
    "# Preprocess the training and validation data\n",
    "train_input_ids, train_attention_masks = preprocess_data(train_texts, tokenizer, max_length=512)\n",
    "val_input_ids, val_attention_masks = preprocess_data(val_texts, tokenizer, max_length=512)\n",
    "\n",
    "# Create the DataLoader for training and validation sets\n",
    "train_dataset = TensorDataset(train_input_ids, train_attention_masks)\n",
    "train_dataloader = DataLoader(\n",
    "    train_dataset,\n",
    "    sampler=RandomSampler(train_dataset),\n",
    "    batch_size=4\n",
    ")\n",
    "\n",
    "val_dataset = TensorDataset(val_input_ids, val_attention_masks)\n",
    "val_dataloader = DataLoader(\n",
    "    val_dataset,\n",
    "    sampler=SequentialSampler(val_dataset),\n",
    "    batch_size=4\n",
    ")\n",
    "\n",
    "# Function to format time\n",
    "def format_time(elapsed):\n",
    "    return str(datetime.timedelta(seconds=int(round((elapsed)))))\n",
    "\n",
    "# Initialize the optimizer and learning rate scheduler\n",
    "optimizer = AdamW(model.parameters(), lr=5e-5, eps=1e-8)\n",
    "total_steps = len(train_dataloader) * 10  # Assuming 10 epochs\n",
    "scheduler = get_linear_schedule_with_warmup(optimizer, num_warmup_steps=0, num_training_steps=total_steps)\n",
    "\n",
    "# Training loop\n",
    "total_t0 = time.time()\n",
    "training_stats = []\n",
    "device = torch.device(\"cuda\" if torch.cuda.is_available() else \"cpu\")\n",
    "model = model.to(device)\n",
    "epochs = 10\n",
    "\n",
    "for epoch_i in range(epochs):\n",
    "    print(f\"\\n======== Epoch {epoch_i + 1} / {epochs} ========\")\n",
    "    print('Training...')\n",
    "    \n",
    "    t0 = time.time()\n",
    "    total_train_loss = 0\n",
    "    model.train()\n",
    "\n",
    "    for step, batch in enumerate(train_dataloader):\n",
    "        b_input_ids = batch[0].to(device)\n",
    "        b_labels = batch[0].to(device)\n",
    "        b_masks = batch[1].to(device)\n",
    "        \n",
    "        model.zero_grad()\n",
    "        \n",
    "        outputs = model(input_ids=b_input_ids, attention_mask=b_masks, labels=b_labels)\n",
    "        loss = outputs.loss\n",
    "        \n",
    "        batch_loss = loss.item()\n",
    "        total_train_loss += batch_loss\n",
    "        \n",
    "        if step % 10 == 0 and step != 0:\n",
    "            elapsed = format_time(time.time() - t0)\n",
    "            print(f'Batch {step} of {len(train_dataloader)}. Loss: {batch_loss}. Elapsed: {elapsed}.')\n",
    "        \n",
    "        loss.backward()\n",
    "        optimizer.step()\n",
    "        scheduler.step()\n",
    "    \n",
    "    avg_train_loss = total_train_loss / len(train_dataloader)\n",
    "    training_time = format_time(time.time() - t0)\n",
    "    print(f\"Average training loss: {avg_train_loss:.2f}\")\n",
    "    print(f\"Training epoch took: {training_time}\")\n",
    "\n",
    "    print(\"\\nRunning Validation...\")\n",
    "    t0 = time.time()\n",
    "    model.eval()\n",
    "    total_eval_loss = 0\n",
    "\n",
    "    for batch in val_dataloader:\n",
    "        b_input_ids = batch[0].to(device)\n",
    "        b_labels = batch[0].to(device)\n",
    "        b_masks = batch[1].to(device)\n",
    "        \n",
    "        with torch.no_grad():\n",
    "            outputs = model(input_ids=b_input_ids, attention_mask=b_masks, labels=b_labels)\n",
    "            loss = outputs.loss\n",
    "        \n",
    "        total_eval_loss += loss.item()\n",
    "    \n",
    "    avg_val_loss = total_eval_loss / len(val_dataloader)\n",
    "    validation_time = format_time(time.time() - t0)\n",
    "    print(f\"Validation Loss: {avg_val_loss:.2f}\")\n",
    "    print(f\"Validation took: {validation_time}\")\n",
    "\n",
    "    training_stats.append(\n",
    "        {\n",
    "            'epoch': epoch_i + 1,\n",
    "            'Training Loss': avg_train_loss,\n",
    "            'Valid. Loss': avg_val_loss,\n",
    "            'Training Time': training_time,\n",
    "            'Validation Time': validation_time\n",
    "        }\n",
    "    )\n",
    "\n",
    "print(\"\\nTraining complete!\")\n",
    "print(f\"Total training took {format_time(time.time()-total_t0)} (h:mm:ss)\")\n"
   ]
  },
  {
   "cell_type": "code",
   "execution_count": 43,
   "id": "db9170f8-63a2-4ddb-a2b6-5c8b37651a0e",
   "metadata": {},
   "outputs": [
    {
     "data": {
      "text/html": [
       "<div>\n",
       "<style scoped>\n",
       "    .dataframe tbody tr th:only-of-type {\n",
       "        vertical-align: middle;\n",
       "    }\n",
       "\n",
       "    .dataframe tbody tr th {\n",
       "        vertical-align: top;\n",
       "    }\n",
       "\n",
       "    .dataframe thead th {\n",
       "        text-align: right;\n",
       "    }\n",
       "</style>\n",
       "<table border=\"1\" class=\"dataframe\">\n",
       "  <thead>\n",
       "    <tr style=\"text-align: right;\">\n",
       "      <th></th>\n",
       "      <th>Training Loss</th>\n",
       "      <th>Valid. Loss</th>\n",
       "      <th>Training Time</th>\n",
       "      <th>Validation Time</th>\n",
       "    </tr>\n",
       "    <tr>\n",
       "      <th>epoch</th>\n",
       "      <th></th>\n",
       "      <th></th>\n",
       "      <th></th>\n",
       "      <th></th>\n",
       "    </tr>\n",
       "  </thead>\n",
       "  <tbody>\n",
       "    <tr>\n",
       "      <th>1</th>\n",
       "      <td>0.72</td>\n",
       "      <td>0.52</td>\n",
       "      <td>0:01:24</td>\n",
       "      <td>0:00:01</td>\n",
       "    </tr>\n",
       "    <tr>\n",
       "      <th>2</th>\n",
       "      <td>0.57</td>\n",
       "      <td>0.39</td>\n",
       "      <td>0:01:08</td>\n",
       "      <td>0:00:01</td>\n",
       "    </tr>\n",
       "    <tr>\n",
       "      <th>3</th>\n",
       "      <td>0.30</td>\n",
       "      <td>0.28</td>\n",
       "      <td>0:00:08</td>\n",
       "      <td>0:00:01</td>\n",
       "    </tr>\n",
       "    <tr>\n",
       "      <th>4</th>\n",
       "      <td>0.22</td>\n",
       "      <td>0.23</td>\n",
       "      <td>0:00:04</td>\n",
       "      <td>0:00:01</td>\n",
       "    </tr>\n",
       "    <tr>\n",
       "      <th>5</th>\n",
       "      <td>0.21</td>\n",
       "      <td>0.18</td>\n",
       "      <td>0:00:06</td>\n",
       "      <td>0:00:01</td>\n",
       "    </tr>\n",
       "    <tr>\n",
       "      <th>6</th>\n",
       "      <td>0.16</td>\n",
       "      <td>0.15</td>\n",
       "      <td>0:00:03</td>\n",
       "      <td>0:00:01</td>\n",
       "    </tr>\n",
       "    <tr>\n",
       "      <th>7</th>\n",
       "      <td>0.30</td>\n",
       "      <td>0.13</td>\n",
       "      <td>0:00:06</td>\n",
       "      <td>0:00:01</td>\n",
       "    </tr>\n",
       "    <tr>\n",
       "      <th>8</th>\n",
       "      <td>0.12</td>\n",
       "      <td>0.13</td>\n",
       "      <td>0:00:04</td>\n",
       "      <td>0:00:01</td>\n",
       "    </tr>\n",
       "    <tr>\n",
       "      <th>9</th>\n",
       "      <td>0.12</td>\n",
       "      <td>0.13</td>\n",
       "      <td>0:00:04</td>\n",
       "      <td>0:00:01</td>\n",
       "    </tr>\n",
       "    <tr>\n",
       "      <th>10</th>\n",
       "      <td>0.16</td>\n",
       "      <td>0.13</td>\n",
       "      <td>0:00:04</td>\n",
       "      <td>0:00:01</td>\n",
       "    </tr>\n",
       "  </tbody>\n",
       "</table>\n",
       "</div>"
      ],
      "text/plain": [
       "       Training Loss  Valid. Loss Training Time Validation Time\n",
       "epoch                                                          \n",
       "1               0.72         0.52       0:01:24         0:00:01\n",
       "2               0.57         0.39       0:01:08         0:00:01\n",
       "3               0.30         0.28       0:00:08         0:00:01\n",
       "4               0.22         0.23       0:00:04         0:00:01\n",
       "5               0.21         0.18       0:00:06         0:00:01\n",
       "6               0.16         0.15       0:00:03         0:00:01\n",
       "7               0.30         0.13       0:00:06         0:00:01\n",
       "8               0.12         0.13       0:00:04         0:00:01\n",
       "9               0.12         0.13       0:00:04         0:00:01\n",
       "10              0.16         0.13       0:00:04         0:00:01"
      ]
     },
     "execution_count": 43,
     "metadata": {},
     "output_type": "execute_result"
    }
   ],
   "source": [
    "# Set the display precision for floats\n",
    "pd.set_option('display.precision', 2)\n",
    "\n",
    "# Create a DataFrame from our training statistics\n",
    "df_stats = pd.DataFrame(data=training_stats)\n",
    "\n",
    "# Use the 'epoch' as the row index\n",
    "df_stats = df_stats.set_index('epoch')\n",
    "\n",
    "# Display the table\n",
    "df_stats"
   ]
  },
  {
   "cell_type": "code",
   "execution_count": 44,
   "id": "df41c826-c717-4802-b79a-e409cd7f742f",
   "metadata": {},
   "outputs": [
    {
     "data": {
      "text/plain": [
       "[<matplotlib.lines.Line2D at 0x1a866673950>]"
      ]
     },
     "execution_count": 44,
     "metadata": {},
     "output_type": "execute_result"
    },
    {
     "data": {
      "text/plain": [
       "[<matplotlib.lines.Line2D at 0x1a83db6b5c0>]"
      ]
     },
     "execution_count": 44,
     "metadata": {},
     "output_type": "execute_result"
    },
    {
     "data": {
      "text/plain": [
       "Text(0.5, 1.0, 'Training & Validation Loss Over Epochs')"
      ]
     },
     "execution_count": 44,
     "metadata": {},
     "output_type": "execute_result"
    },
    {
     "data": {
      "text/plain": [
       "Text(0.5, 0, 'Epoch')"
      ]
     },
     "execution_count": 44,
     "metadata": {},
     "output_type": "execute_result"
    },
    {
     "data": {
      "text/plain": [
       "Text(0, 0.5, 'Loss')"
      ]
     },
     "execution_count": 44,
     "metadata": {},
     "output_type": "execute_result"
    },
    {
     "data": {
      "text/plain": [
       "<matplotlib.legend.Legend at 0x1a83db6b260>"
      ]
     },
     "execution_count": 44,
     "metadata": {},
     "output_type": "execute_result"
    },
    {
     "data": {
      "text/plain": [
       "([<matplotlib.axis.XTick at 0x1a8679fad20>,\n",
       "  <matplotlib.axis.XTick at 0x1a8679faed0>,\n",
       "  <matplotlib.axis.XTick at 0x1a83d3447d0>,\n",
       "  <matplotlib.axis.XTick at 0x1a83ce86270>,\n",
       "  <matplotlib.axis.XTick at 0x1a83c966b70>,\n",
       "  <matplotlib.axis.XTick at 0x1a83d69aea0>,\n",
       "  <matplotlib.axis.XTick at 0x1a83d69a0f0>,\n",
       "  <matplotlib.axis.XTick at 0x1a83d6999a0>,\n",
       "  <matplotlib.axis.XTick at 0x1a83d699c40>,\n",
       "  <matplotlib.axis.XTick at 0x1a83d69b890>],\n",
       " [Text(1, 0, '1'),\n",
       "  Text(2, 0, '2'),\n",
       "  Text(3, 0, '3'),\n",
       "  Text(4, 0, '4'),\n",
       "  Text(5, 0, '5'),\n",
       "  Text(6, 0, '6'),\n",
       "  Text(7, 0, '7'),\n",
       "  Text(8, 0, '8'),\n",
       "  Text(9, 0, '9'),\n",
       "  Text(10, 0, '10')])"
      ]
     },
     "execution_count": 44,
     "metadata": {},
     "output_type": "execute_result"
    },
    {
     "data": {
      "image/png": "[encoded data removed]",
      "text/plain": [
       "<Figure size 1400x800 with 1 Axes>"
      ]
     },
     "metadata": {},
     "output_type": "display_data"
    }
   ],
   "source": [
    "# Increase the plot size and font size\n",
    "sns.set(font_scale=1.5)\n",
    "plt.rcParams[\"figure.figsize\"] = (14, 8)\n",
    "\n",
    "# Plot the learning curve\n",
    "plt.plot(df_stats['Training Loss'], 'b-o', label=\"Training Loss\")\n",
    "plt.plot(df_stats['Valid. Loss'], 'g-o', label=\"Validation Loss\")\n",
    "\n",
    "# Add titles and labels\n",
    "plt.title(\"Training & Validation Loss Over Epochs\")\n",
    "plt.xlabel(\"Epoch\")\n",
    "plt.ylabel(\"Loss\")\n",
    "plt.legend()\n",
    "plt.xticks(df_stats.index)\n",
    "\n",
    "# Display the plot\n",
    "plt.show()"
   ]
  },
  {
   "cell_type": "code",
   "execution_count": 45,
   "id": "30f7769a-d3c6-486d-bf42-d7a6b8b1032d",
   "metadata": {},
   "outputs": [
    {
     "name": "stdout",
     "output_type": "stream",
     "text": [
      "The GPT-2 model has 148 different named parameters.\n",
      "\n",
      "\n",
      "==== Embedding Layer ====\n",
      "\n",
      "transformer.wte.weight                                  (50258, 768)\n",
      "transformer.wpe.weight                                   (1024, 768)\n",
      "\n",
      "==== First Transformer ====\n",
      "\n",
      "transformer.h.0.ln_1.weight                                   (768,)\n",
      "transformer.h.0.ln_1.bias                                     (768,)\n",
      "transformer.h.0.attn.c_attn.weight                       (768, 2304)\n",
      "transformer.h.0.attn.c_attn.bias                             (2304,)\n",
      "transformer.h.0.attn.c_proj.weight                        (768, 768)\n",
      "transformer.h.0.attn.c_proj.bias                              (768,)\n",
      "transformer.h.0.ln_2.weight                                   (768,)\n",
      "transformer.h.0.ln_2.bias                                     (768,)\n",
      "transformer.h.0.mlp.c_fc.weight                          (768, 3072)\n",
      "transformer.h.0.mlp.c_fc.bias                                (3072,)\n",
      "transformer.h.0.mlp.c_proj.weight                        (3072, 768)\n",
      "transformer.h.0.mlp.c_proj.bias                               (768,)\n",
      "\n",
      "==== Output Layer ====\n",
      "\n",
      "transformer.ln_f.weight                                       (768,)\n",
      "transformer.ln_f.bias                                         (768,)\n"
     ]
    }
   ],
   "source": [
    "# Get all of the model's parameters as a list of tuples.\n",
    "params = list(model.named_parameters())\n",
    "\n",
    "# Display the total number of named parameters in the model.\n",
    "print(f'The GPT-2 model has {len(params)} different named parameters.\\n')\n",
    "\n",
    "# Define a helper function to print parameter names and their sizes.\n",
    "def print_params(params, start_idx, end_idx, section_name):\n",
    "    print(f'\\n==== {section_name} ====\\n')\n",
    "    for p in params[start_idx:end_idx]:\n",
    "        print(f\"{p[0]:<55} {str(tuple(p[1].size())):>12}\")\n",
    "\n",
    "# Print parameters in the embedding layer.\n",
    "print_params(params, 0, 2, 'Embedding Layer')\n",
    "\n",
    "# Print parameters in the first transformer block.\n",
    "print_params(params, 2, 14, 'First Transformer')\n",
    "\n",
    "# Print parameters in the output layer.\n",
    "print_params(params, -2, None, 'Output Layer')"
   ]
  },
  {
   "cell_type": "markdown",
   "id": "ddf9effc-dc11-42c2-ac51-2a40f4e073b4",
   "metadata": {},
   "source": [
    "#### Text Generator"
   ]
  },
  {
   "cell_type": "code",
   "execution_count": 46,
   "id": "99a14c06-477f-4c03-85c1-26cd70ae24c7",
   "metadata": {},
   "outputs": [
    {
     "data": {
      "application/vnd.jupyter.widget-view+json": {
       "model_id": "ad631d57943045cf928c1037706fe5ac",
       "version_major": 2,
       "version_minor": 0
      },
      "text/plain": [
       "tokenizer_config.json:   0%|          | 0.00/49.0 [00:00<?, ?B/s]"
      ]
     },
     "metadata": {},
     "output_type": "display_data"
    },
    {
     "name": "stderr",
     "output_type": "stream",
     "text": [
      "C:\\Users\\Pradip\\switchdrive\\HSLU\\_Sem 4\\CTL\\venv\\Lib\\site-packages\\huggingface_hub\\file_download.py:157: UserWarning: `huggingface_hub` cache-system uses symlinks by default to efficiently store duplicated files but your machine does not support them in C:\\Users\\Pradip\\.cache\\huggingface\\hub\\models--distilbert-base-cased-distilled-squad. Caching files will still work but in a degraded version that might require more space on your disk. This warning can be disabled by setting the `HF_HUB_DISABLE_SYMLINKS_WARNING` environment variable. For more details, see https://huggingface.co/docs/huggingface_hub/how-to-cache#limitations.\n",
      "To support symlinks on Windows, you either need to activate Developer Mode or to run Python as an administrator. In order to see activate developer mode, see this article: https://docs.microsoft.com/en-us/windows/apps/get-started/enable-your-device-for-development\n",
      "  warnings.warn(message)\n",
      "C:\\Users\\Pradip\\switchdrive\\HSLU\\_Sem 4\\CTL\\venv\\Lib\\site-packages\\huggingface_hub\\file_download.py:1132: FutureWarning: `resume_download` is deprecated and will be removed in version 1.0.0. Downloads always resume when possible. If you want to force a new download, use `force_download=True`.\n",
      "  warnings.warn(\n"
     ]
    },
    {
     "data": {
      "application/vnd.jupyter.widget-view+json": {
       "model_id": "307222a539034eee818d9201e3d88488",
       "version_major": 2,
       "version_minor": 0
      },
      "text/plain": [
       "config.json:   0%|          | 0.00/473 [00:00<?, ?B/s]"
      ]
     },
     "metadata": {},
     "output_type": "display_data"
    },
    {
     "data": {
      "application/vnd.jupyter.widget-view+json": {
       "model_id": "339944a15fa8465e91119f3ad8c7b763",
       "version_major": 2,
       "version_minor": 0
      },
      "text/plain": [
       "vocab.txt:   0%|          | 0.00/213k [00:00<?, ?B/s]"
      ]
     },
     "metadata": {},
     "output_type": "display_data"
    },
    {
     "data": {
      "application/vnd.jupyter.widget-view+json": {
       "model_id": "98f436858c8445389b6da83d18b9e76e",
       "version_major": 2,
       "version_minor": 0
      },
      "text/plain": [
       "tokenizer.json:   0%|          | 0.00/436k [00:00<?, ?B/s]"
      ]
     },
     "metadata": {},
     "output_type": "display_data"
    },
    {
     "data": {
      "application/vnd.jupyter.widget-view+json": {
       "model_id": "80924960552849b792634857a28d0bdd",
       "version_major": 2,
       "version_minor": 0
      },
      "text/plain": [
       "model.safetensors:   0%|          | 0.00/261M [00:00<?, ?B/s]"
      ]
     },
     "metadata": {},
     "output_type": "display_data"
    },
    {
     "data": {
      "text/plain": [
       "DistilBertForQuestionAnswering(\n",
       "  (distilbert): DistilBertModel(\n",
       "    (embeddings): Embeddings(\n",
       "      (word_embeddings): Embedding(28996, 768, padding_idx=0)\n",
       "      (position_embeddings): Embedding(512, 768)\n",
       "      (LayerNorm): LayerNorm((768,), eps=1e-12, elementwise_affine=True)\n",
       "      (dropout): Dropout(p=0.1, inplace=False)\n",
       "    )\n",
       "    (transformer): Transformer(\n",
       "      (layer): ModuleList(\n",
       "        (0-5): 6 x TransformerBlock(\n",
       "          (attention): MultiHeadSelfAttention(\n",
       "            (dropout): Dropout(p=0.1, inplace=False)\n",
       "            (q_lin): Linear(in_features=768, out_features=768, bias=True)\n",
       "            (k_lin): Linear(in_features=768, out_features=768, bias=True)\n",
       "            (v_lin): Linear(in_features=768, out_features=768, bias=True)\n",
       "            (out_lin): Linear(in_features=768, out_features=768, bias=True)\n",
       "          )\n",
       "          (sa_layer_norm): LayerNorm((768,), eps=1e-12, elementwise_affine=True)\n",
       "          (ffn): FFN(\n",
       "            (dropout): Dropout(p=0.1, inplace=False)\n",
       "            (lin1): Linear(in_features=768, out_features=3072, bias=True)\n",
       "            (lin2): Linear(in_features=3072, out_features=768, bias=True)\n",
       "            (activation): GELUActivation()\n",
       "          )\n",
       "          (output_layer_norm): LayerNorm((768,), eps=1e-12, elementwise_affine=True)\n",
       "        )\n",
       "      )\n",
       "    )\n",
       "  )\n",
       "  (qa_outputs): Linear(in_features=768, out_features=2, bias=True)\n",
       "  (dropout): Dropout(p=0.1, inplace=False)\n",
       ")"
      ]
     },
     "execution_count": 46,
     "metadata": {},
     "output_type": "execute_result"
    },
    {
     "data": {
      "text/plain": [
       "DistilBertForQuestionAnswering(\n",
       "  (distilbert): DistilBertModel(\n",
       "    (embeddings): Embeddings(\n",
       "      (word_embeddings): Embedding(28996, 768, padding_idx=0)\n",
       "      (position_embeddings): Embedding(512, 768)\n",
       "      (LayerNorm): LayerNorm((768,), eps=1e-12, elementwise_affine=True)\n",
       "      (dropout): Dropout(p=0.1, inplace=False)\n",
       "    )\n",
       "    (transformer): Transformer(\n",
       "      (layer): ModuleList(\n",
       "        (0-5): 6 x TransformerBlock(\n",
       "          (attention): MultiHeadSelfAttention(\n",
       "            (dropout): Dropout(p=0.1, inplace=False)\n",
       "            (q_lin): Linear(in_features=768, out_features=768, bias=True)\n",
       "            (k_lin): Linear(in_features=768, out_features=768, bias=True)\n",
       "            (v_lin): Linear(in_features=768, out_features=768, bias=True)\n",
       "            (out_lin): Linear(in_features=768, out_features=768, bias=True)\n",
       "          )\n",
       "          (sa_layer_norm): LayerNorm((768,), eps=1e-12, elementwise_affine=True)\n",
       "          (ffn): FFN(\n",
       "            (dropout): Dropout(p=0.1, inplace=False)\n",
       "            (lin1): Linear(in_features=768, out_features=3072, bias=True)\n",
       "            (lin2): Linear(in_features=3072, out_features=768, bias=True)\n",
       "            (activation): GELUActivation()\n",
       "          )\n",
       "          (output_layer_norm): LayerNorm((768,), eps=1e-12, elementwise_affine=True)\n",
       "        )\n",
       "      )\n",
       "    )\n",
       "  )\n",
       "  (qa_outputs): Linear(in_features=768, out_features=2, bias=True)\n",
       "  (dropout): Dropout(p=0.1, inplace=False)\n",
       ")"
      ]
     },
     "execution_count": 46,
     "metadata": {},
     "output_type": "execute_result"
    },
    {
     "name": "stdout",
     "output_type": "stream",
     "text": [
      "\n",
      "\n",
      "\n",
      "Question: Which areas does SUNation Energy continue to serve?\n",
      "Answer: Long Island, Queens, Brooklyn and Staten Island\n",
      "\n",
      "\n",
      "Generated Answer: Long Island, Queens, Brooklyn and Staten Island\n"
     ]
    }
   ],
   "source": [
    "from transformers import AutoTokenizer, AutoModelForQuestionAnswering\n",
    "\n",
    "# Load the pre-trained model and tokenizer for Question-Answering\n",
    "tokenizer = AutoTokenizer.from_pretrained(\"distilbert-base-cased-distilled-squad\")\n",
    "model = AutoModelForQuestionAnswering.from_pretrained(\"distilbert-base-cased-distilled-squad\")\n",
    "device = torch.device(\"cuda\" if torch.cuda.is_available() else \"cpu\")\n",
    "model.to(device)\n",
    "\n",
    "# Ensure the model is in evaluation mode\n",
    "model.eval()\n",
    "\n",
    "# Load the questions from the CSV file\n",
    "df = pd.read_csv(\"Data/last_50_QA_clean.csv\")\n",
    "\n",
    "# Define the question number\n",
    "N = 105\n",
    "\n",
    "# Fetch the question and context from the dataframe\n",
    "question = df['Q'].iloc[N]\n",
    "context = df['A'].iloc[N]\n",
    "\n",
    "# Tokenize the input\n",
    "inputs = tokenizer.encode_plus(question, context, add_special_tokens=True, return_tensors=\"pt\")\n",
    "input_ids = inputs[\"input_ids\"].to(device)\n",
    "attention_mask = inputs[\"attention_mask\"].to(device)\n",
    "\n",
    "# Get model predictions\n",
    "with torch.no_grad():\n",
    "    outputs = model(input_ids=input_ids, attention_mask=attention_mask)\n",
    "    start_scores = outputs.start_logits\n",
    "    end_scores = outputs.end_logits\n",
    "\n",
    "# Get the most likely beginning and end of the answer span\n",
    "start_index = torch.argmax(start_scores)\n",
    "end_index = torch.argmax(end_scores) + 1\n",
    "\n",
    "# Decode the tokens to get the answer\n",
    "answer = tokenizer.convert_tokens_to_string(tokenizer.convert_ids_to_tokens(input_ids[0][start_index:end_index]))\n",
    "\n",
    "print('\\n\\n')\n",
    "print(f\"Question: {df['Q'][N]}\")\n",
    "print(f\"Answer: {df['A'][N]}\")\n",
    "print('\\n')\n",
    "print(f\"Generated Answer: {answer}\")"
   ]
  },
  {
   "cell_type": "code",
   "execution_count": 47,
   "id": "1e945817-c2c9-4e6b-aea4-c8eec5c1c903",
   "metadata": {},
   "outputs": [
    {
     "data": {
      "text/html": [
       "<div>\n",
       "<style scoped>\n",
       "    .dataframe tbody tr th:only-of-type {\n",
       "        vertical-align: middle;\n",
       "    }\n",
       "\n",
       "    .dataframe tbody tr th {\n",
       "        vertical-align: top;\n",
       "    }\n",
       "\n",
       "    .dataframe thead th {\n",
       "        text-align: right;\n",
       "    }\n",
       "</style>\n",
       "<table border=\"1\" class=\"dataframe\">\n",
       "  <thead>\n",
       "    <tr style=\"text-align: right;\">\n",
       "      <th></th>\n",
       "      <th>Unnamed: 0</th>\n",
       "      <th>summary</th>\n",
       "      <th>Q</th>\n",
       "      <th>A</th>\n",
       "    </tr>\n",
       "  </thead>\n",
       "  <tbody>\n",
       "    <tr>\n",
       "      <th>0</th>\n",
       "      <td>0</td>\n",
       "      <td>Anza, a solar and energy storage procurement p...</td>\n",
       "      <td>What is the name of the solar and energy stora...</td>\n",
       "      <td>Anza</td>\n",
       "    </tr>\n",
       "    <tr>\n",
       "      <th>1</th>\n",
       "      <td>1</td>\n",
       "      <td>Anza, a solar and energy storage procurement p...</td>\n",
       "      <td>What does Anza's technology provide?</td>\n",
       "      <td>analytics</td>\n",
       "    </tr>\n",
       "    <tr>\n",
       "      <th>2</th>\n",
       "      <td>2</td>\n",
       "      <td>Solar solutions provider Nextracker is set to ...</td>\n",
       "      <td>Which solar solutions provider is set to launc...</td>\n",
       "      <td>Nextracker</td>\n",
       "    </tr>\n",
       "    <tr>\n",
       "      <th>3</th>\n",
       "      <td>3</td>\n",
       "      <td>Solar solutions provider Nextracker is set to ...</td>\n",
       "      <td>How much faster can NX Horizon stow than stand...</td>\n",
       "      <td>four times faster</td>\n",
       "    </tr>\n",
       "    <tr>\n",
       "      <th>4</th>\n",
       "      <td>4</td>\n",
       "      <td>Solar solutions provider Nextracker is set to ...</td>\n",
       "      <td>What is Nextracker's latest innovation for hil...</td>\n",
       "      <td>NX Horizon XTR-1.5</td>\n",
       "    </tr>\n",
       "  </tbody>\n",
       "</table>\n",
       "</div>"
      ],
      "text/plain": [
       "   Unnamed: 0                                            summary  \\\n",
       "0           0  Anza, a solar and energy storage procurement p...   \n",
       "1           1  Anza, a solar and energy storage procurement p...   \n",
       "2           2  Solar solutions provider Nextracker is set to ...   \n",
       "3           3  Solar solutions provider Nextracker is set to ...   \n",
       "4           4  Solar solutions provider Nextracker is set to ...   \n",
       "\n",
       "                                                   Q                   A  \n",
       "0  What is the name of the solar and energy stora...                Anza  \n",
       "1               What does Anza's technology provide?           analytics  \n",
       "2  Which solar solutions provider is set to launc...          Nextracker  \n",
       "3  How much faster can NX Horizon stow than stand...   four times faster  \n",
       "4  What is Nextracker's latest innovation for hil...  NX Horizon XTR-1.5  "
      ]
     },
     "execution_count": 47,
     "metadata": {},
     "output_type": "execute_result"
    }
   ],
   "source": [
    "df.head()"
   ]
  },
  {
   "cell_type": "code",
   "execution_count": 48,
   "id": "729831a6-5146-42b3-b3cd-160aa4a6c439",
   "metadata": {
    "scrolled": true
   },
   "outputs": [
    {
     "data": {
      "text/plain": [
       "DistilBertForQuestionAnswering(\n",
       "  (distilbert): DistilBertModel(\n",
       "    (embeddings): Embeddings(\n",
       "      (word_embeddings): Embedding(28996, 768, padding_idx=0)\n",
       "      (position_embeddings): Embedding(512, 768)\n",
       "      (LayerNorm): LayerNorm((768,), eps=1e-12, elementwise_affine=True)\n",
       "      (dropout): Dropout(p=0.1, inplace=False)\n",
       "    )\n",
       "    (transformer): Transformer(\n",
       "      (layer): ModuleList(\n",
       "        (0-5): 6 x TransformerBlock(\n",
       "          (attention): MultiHeadSelfAttention(\n",
       "            (dropout): Dropout(p=0.1, inplace=False)\n",
       "            (q_lin): Linear(in_features=768, out_features=768, bias=True)\n",
       "            (k_lin): Linear(in_features=768, out_features=768, bias=True)\n",
       "            (v_lin): Linear(in_features=768, out_features=768, bias=True)\n",
       "            (out_lin): Linear(in_features=768, out_features=768, bias=True)\n",
       "          )\n",
       "          (sa_layer_norm): LayerNorm((768,), eps=1e-12, elementwise_affine=True)\n",
       "          (ffn): FFN(\n",
       "            (dropout): Dropout(p=0.1, inplace=False)\n",
       "            (lin1): Linear(in_features=768, out_features=3072, bias=True)\n",
       "            (lin2): Linear(in_features=3072, out_features=768, bias=True)\n",
       "            (activation): GELUActivation()\n",
       "          )\n",
       "          (output_layer_norm): LayerNorm((768,), eps=1e-12, elementwise_affine=True)\n",
       "        )\n",
       "      )\n",
       "    )\n",
       "  )\n",
       "  (qa_outputs): Linear(in_features=768, out_features=2, bias=True)\n",
       "  (dropout): Dropout(p=0.1, inplace=False)\n",
       ")"
      ]
     },
     "execution_count": 48,
     "metadata": {},
     "output_type": "execute_result"
    },
    {
     "data": {
      "text/plain": [
       "DistilBertForQuestionAnswering(\n",
       "  (distilbert): DistilBertModel(\n",
       "    (embeddings): Embeddings(\n",
       "      (word_embeddings): Embedding(28996, 768, padding_idx=0)\n",
       "      (position_embeddings): Embedding(512, 768)\n",
       "      (LayerNorm): LayerNorm((768,), eps=1e-12, elementwise_affine=True)\n",
       "      (dropout): Dropout(p=0.1, inplace=False)\n",
       "    )\n",
       "    (transformer): Transformer(\n",
       "      (layer): ModuleList(\n",
       "        (0-5): 6 x TransformerBlock(\n",
       "          (attention): MultiHeadSelfAttention(\n",
       "            (dropout): Dropout(p=0.1, inplace=False)\n",
       "            (q_lin): Linear(in_features=768, out_features=768, bias=True)\n",
       "            (k_lin): Linear(in_features=768, out_features=768, bias=True)\n",
       "            (v_lin): Linear(in_features=768, out_features=768, bias=True)\n",
       "            (out_lin): Linear(in_features=768, out_features=768, bias=True)\n",
       "          )\n",
       "          (sa_layer_norm): LayerNorm((768,), eps=1e-12, elementwise_affine=True)\n",
       "          (ffn): FFN(\n",
       "            (dropout): Dropout(p=0.1, inplace=False)\n",
       "            (lin1): Linear(in_features=768, out_features=3072, bias=True)\n",
       "            (lin2): Linear(in_features=3072, out_features=768, bias=True)\n",
       "            (activation): GELUActivation()\n",
       "          )\n",
       "          (output_layer_norm): LayerNorm((768,), eps=1e-12, elementwise_affine=True)\n",
       "        )\n",
       "      )\n",
       "    )\n",
       "  )\n",
       "  (qa_outputs): Linear(in_features=768, out_features=2, bias=True)\n",
       "  (dropout): Dropout(p=0.1, inplace=False)\n",
       ")"
      ]
     },
     "execution_count": 48,
     "metadata": {},
     "output_type": "execute_result"
    },
    {
     "name": "stdout",
     "output_type": "stream",
     "text": [
      "Question: What is the name of the solar and energy storage procurement platform?\n",
      "Context: Anza\n",
      "Generated Answer: Anza\n",
      "\n",
      "\n",
      "Question: What does Anza's technology provide?\n",
      "Context: analytics\n",
      "Generated Answer: analytics\n",
      "\n",
      "\n",
      "Question: Which solar solutions provider is set to launch a suite of next-generation innovations?\n",
      "Context: Nextracker\n",
      "Generated Answer: Nextracker\n",
      "\n",
      "\n",
      "Question: How much faster can NX Horizon stow than standard trackers?\n",
      "Context: four times faster\n",
      "Generated Answer: four times\n",
      "\n",
      "\n",
      "Question: What is Nextracker's latest innovation for hilly sites?\n",
      "Context: NX Horizon XTR-1.5\n",
      "Generated Answer: NX Horizon XTR - 1. 5\n",
      "\n",
      "\n",
      "Question: What does Nextracker capture and analyze to help professionals stay current and navigate the solar market?\n",
      "Context: raw materials\n",
      "Generated Answer: raw materials\n",
      "\n",
      "\n",
      "Question: What is the name of the DC optimizer company that focuses on large-scale photovoltaic systems?\n",
      "Context: Ampt\n",
      "Generated Answer: Ampt\n",
      "\n",
      "\n",
      "Question: What is the output power of the i50 String Optimizer?\n",
      "Context: 70 kW\n",
      "Generated Answer: 70 kW\n",
      "\n",
      "\n",
      "Question: What is the next generation of Ampt's power management solution?\n",
      "Context: i50\n",
      "Generated Answer: i50\n",
      "\n",
      "\n",
      "Question: What is the name of the company that provides community solar solutions?\n",
      "Context: Ampion Renewable Energy\n",
      "Generated Answer: Ampion Renewable Energy\n",
      "\n",
      "\n",
      "Question: Who is the first organization to combine community solar subscriptions with renewable energy certificates?\n",
      "Context: Ampion\n",
      "Generated Answer: Ampion\n",
      "\n",
      "\n",
      "Question: How are RECs obtained?\n",
      "Context: bundled with the subscriber’ s community solar subscription\n",
      "Generated Answer: bundled with the subscriber ’ s community solar subscription\n",
      "\n",
      "\n",
      "Question: Who did Ampion go through to offer Ampion+ to businesses?\n",
      "Context: Center for Resources Solutions\n",
      "Generated Answer: Center for Resources Solutions\n",
      "\n",
      "\n",
      "Question: How much is NT Solar financing in solar investment tax credits?\n",
      "Context: $ 65 million\n",
      "Generated Answer: $ 65 million\n",
      "\n",
      "\n",
      "Question: Who is a developer and long-term owner-operator of solar energy and storage projects?\n",
      "Context: ForeFront Power\n",
      "Generated Answer: ForeFront Power\n",
      "\n",
      "\n",
      "Question: Who says NT Solar's commitment to the success of this investment was evident from the beginning?\n",
      "Context: Bryan Eckstein\n",
      "Generated Answer: Bryan Eckstein\n",
      "\n",
      "\n",
      "Question: What does the Solar Industry offer industry participants?\n",
      "Context: comprehensive assessments of the technology, tools and trends\n",
      "Generated Answer: comprehensive assessments\n",
      "\n",
      "\n",
      "Question: Who did Redeux Energy Partners LLC retain as its financial advisor?\n",
      "Context: Marathon Capital LLC\n",
      "Generated Answer: Marathon Capital LLC\n",
      "\n",
      "\n",
      "Question: Who did Redeux Energy Partners LLC retain as its financial advisor?\n",
      "Context: Marathon Capital LLC\n",
      "Generated Answer: Marathon Capital LLC\n",
      "\n",
      "\n",
      "Question: How much battery energy storage capacity does Redeux Energy Partners LLC have?\n",
      "Context: 160 MW/640 MWh\n",
      "Generated Answer: 160 MW / 640 MWh\n",
      "\n",
      "\n",
      "Question: How much solar capacity does Redeux' first portfolio contain?\n",
      "Context: 1.7 GW\n",
      "Generated Answer: 1. 7 GW\n",
      "\n",
      "\n",
      "Question: What does Solar Industry offer industry participants?\n",
      "Context: comprehensive assessments of the technology, tools and trends\n",
      "Generated Answer: comprehensive assessments\n",
      "\n",
      "\n",
      "Question: What is the name of the investment firm that develops, finances and manages a diversified portfolio of projects generating both federal and state tax credits\n",
      "Context: Monarch Private Capital\n",
      "Generated Answer: Monarch Private Capital\n",
      "\n",
      "\n",
      "Question: How many megawatts of solar energy projects did Monarch Private Capital invest in?\n",
      "Context: 305 MW\n",
      "Generated Answer: 305\n",
      "\n",
      "\n",
      "Question: How many solar energy projects did Monarch Private Capital finance in the past month?\n",
      "Context: over 300 MW\n",
      "Generated Answer: 300\n",
      "\n",
      "\n",
      "Question: What does the Solar Industry offer industry participants?\n",
      "Context: comprehensive assessments of the technology, tools and trends\n",
      "Generated Answer: comprehensive assessments\n",
      "\n",
      "\n",
      "Question: What company has Catalyze signed a 25-year power purchase agreement with?\n",
      "Context: Plains All American\n",
      "Generated Answer: Plains All American\n",
      "\n",
      "\n",
      "Question: How large is the DC solar facility that Catalyze will construct?\n",
      "Context: 6.6-MW\n",
      "Generated Answer: 6. 6 - MW\n",
      "\n",
      "\n",
      "Question: By what year will Illinois use more renewable energy?\n",
      "Context: 2040\n",
      "Generated Answer: 2040\n",
      "\n",
      "\n",
      "Question: How much financing did Dimension Renewable Energy close?\n",
      "Context: $ 237 million\n",
      "Generated Answer: $ 237 million\n",
      "\n",
      "\n",
      "Question: Who acted as lead debt syndicator?\n",
      "Context: Silicon Valley Bank\n",
      "Generated Answer: Silicon Valley Bank\n",
      "\n",
      "\n",
      "Question: What is an important regulatory tool for expanding renewable energy access?\n",
      "Context: Community solar\n",
      "Generated Answer: Community solar\n",
      "\n",
      "\n",
      "Question: What do Dimension's projects bring to local communities?\n",
      "Context: workforce development and education programs\n",
      "Generated Answer: workforce development and education\n",
      "\n",
      "\n",
      "Question: Where is the Nextracker-dedicated manufacturing facility located?\n",
      "Context: Las Vegas\n",
      "Generated Answer: Las Vegas\n",
      "\n",
      "\n",
      "Question: What company is a solar tracker and software solutions company?\n",
      "Context: Nextracker\n",
      "Generated Answer: Nextracker\n",
      "\n",
      "\n",
      "Question: Where did Unimacts relocate their manufacturing equipment from?\n",
      "Context: Mexico\n",
      "Generated Answer: Mexico\n",
      "\n",
      "\n",
      "Question: Who is the CEO of Unimacts?\n",
      "Context: Matt Arnold\n",
      "Generated Answer: Matt Arnold\n",
      "\n",
      "\n",
      "Question: What is the name of the partnership between Nextracker and Unimacts?\n",
      "Context: “\n",
      "Generated Answer: Nextracker\n",
      "\n",
      "\n",
      "Question: Who is a geothermal baseload and energy storage company based in Houston?\n",
      "Context: Sage Geosystems Inc\n",
      "Generated Answer: Sage Geosystems Inc\n",
      "\n",
      "\n",
      "Question: How was the data obtained from a well?\n",
      "Context: pumping in and flowing back water\n",
      "Generated Answer: pumping in and flowing back water\n",
      "\n",
      "\n",
      "Question: What does Levelized Cost of Storage stand for?\n",
      "Context: LCOS\n",
      "Generated Answer: LCOS\n",
      "\n",
      "\n",
      "Question: What offers industry participants probing, comprehensive assessments of the technology, tools and trends that are driving this dynamic energy sector?\n",
      "Context: Solar Industry\n",
      "Generated Answer: Solar Industry\n",
      "\n",
      "\n",
      "Question: Who created the NMax rapid shutdown with optimization platform for Sol-Ark's direct-current module-level power electronics product line?\n",
      "Context: Enteligent\n",
      "Generated Answer: Enteligent\n",
      "\n",
      "\n",
      "Question: What features does the NMax rapid shutdown with optimization platform offer?\n",
      "Context: energy optimization and data monitoring\n",
      "Generated Answer: data monitoring\n",
      "\n",
      "\n",
      "Question: What monitoring platform does Sol-Ark use?\n",
      "Context: PV Pro\n",
      "Generated Answer: PV Pro\n",
      "\n",
      "\n",
      "Question: What company is a developer, owner and operator of utility-scale renewable energy assets?\n",
      "Context: Vesper Energy\n",
      "Generated Answer: Vesper Energy\n",
      "\n",
      "\n",
      "Question: How much did GCM Grosvenor commit to invest in Vesper Energy?\n",
      "Context: $ 100 million\n",
      "Generated Answer: $ 100 million\n",
      "\n",
      "\n",
      "Question: Who acted as GCM Grosvenor's financial advisor on the transaction?\n",
      "Context: Thorndike Landing LLC\n",
      "Generated Answer: Thorndike Landing LLC\n",
      "\n",
      "\n",
      "Question: What does GCM Grosvenor capture and analyze to help professionals stay current and navigate the solar market?\n",
      "Context: raw materials\n",
      "Generated Answer: raw materials\n",
      "\n",
      "\n",
      "Question: What company is accelerating the adoption of clean energy?\n",
      "Context: Palmetto\n",
      "Generated Answer: Palmetto\n",
      "\n",
      "\n",
      "Question: Who is a residential geothermal company?\n",
      "Context: Dandelion Energy\n",
      "Generated Answer: Dandelion Energy\n",
      "\n",
      "\n",
      "Question: What does technology like solar and geothermal make it possible to run homes and businesses without burning?\n",
      "Context: non-renewable sources\n",
      "Generated Answer: non - renewable sources\n",
      "\n",
      "\n",
      "Question: What streamlines the end-to-end process of getting residential solar energy onto rooftops?\n",
      "Context: Palmetto’ s clean energy operating platform\n",
      "Generated Answer: Palmetto ’ s clean energy operating platform\n",
      "\n",
      "\n",
      "Question: How much of a residential solar project are soft costs?\n",
      "Context: over 50%\n",
      "Generated Answer: over 50 %\n",
      "\n",
      "\n",
      "Question: What company has signed a power purchase agreement with Colgate-Palmolive?\n",
      "Context: Scout Clean Energy\n",
      "Generated Answer: Scout Clean Energy\n",
      "\n",
      "\n",
      "Question: What does VPPA stand for?\n",
      "Context: Virtual power purchase agreements\n",
      "Generated Answer: Virtual power purchase agreements\n",
      "\n",
      "\n",
      "Question: Which company acquired Scout in 2023?\n",
      "Context: Brookfield\n",
      "Generated Answer: Brookfield\n",
      "\n",
      "\n",
      "Question: What is the name of the robotics and computer vision company that is focused on the PV solar industry?\n",
      "Context: OnSight Technology\n",
      "Generated Answer: OnSight Technology\n",
      "\n",
      "\n",
      "Question: Who led the round of funding for OnSight Technology?\n",
      "Context: Moneta Ventures\n",
      "Generated Answer: Moneta Ventures\n",
      "\n",
      "\n",
      "Question: What is Staubli's goal for the photovoltaics industry?\n",
      "Context: ensuring a safer future\n",
      "Generated Answer: ensuring a safer future\n",
      "\n",
      "\n",
      "Question: What company has expanded its partnership with Photocat?\n",
      "Context: Laborat\n",
      "Generated Answer: Laborat\n",
      "\n",
      "\n",
      "Question: ShineOn is designed to imbue solar panel glass with what kind of properties?\n",
      "Context: self-cleaning\n",
      "Generated Answer: self - cleaning\n",
      "\n",
      "\n",
      "Question: What will be done to raise awareness of the benefits ShineOn offers to the solar industry?\n",
      "Context: education and outreach\n",
      "Generated Answer: education\n",
      "\n",
      "\n",
      "Question: Who will provide renewable energy to cover the consumption of select Microsoft data centers in Texas?\n",
      "Context: Engie Energy Marketing\n",
      "Generated Answer: Engie Energy Marketing\n",
      "\n",
      "\n",
      "Question: What organization does Engie Energy Marketing work with to match Microsoft's data center load?\n",
      "Context: ERCOT (Electric Reliability Council of Texas)\n",
      "Generated Answer: ERCOT\n",
      "\n",
      "\n",
      "Question: What types of projects will Engie source the energy from?\n",
      "Context: wind, solar and battery\n",
      "Generated Answer: wind, solar and battery\n",
      "\n",
      "\n",
      "Question: Who is a global developer and owner of solar and energy storage assets?\n",
      "Context: Recurrent Energy\n",
      "Generated Answer: Recurrent Energy\n",
      "\n",
      "\n",
      "Question: What is the total amount of the tax equity for the Liberty Solar project?\n",
      "Context: $ 80 million\n",
      "Generated Answer: $ 80 million\n",
      "\n",
      "\n",
      "Question: What is the second project financing that Recurrent Energy has closed in North America this summer?\n",
      "Context: Liberty Solar\n",
      "Generated Answer: Liberty Solar\n",
      "\n",
      "\n",
      "Question: What does Solar Industry offer industry participants?\n",
      "Context: comprehensive assessments of the technology, tools and trends\n",
      "Generated Answer: comprehensive assessments\n",
      "\n",
      "\n",
      "Question: What is the name of the clean energy financing platform that helps businesses go solar?\n",
      "Context: Sunstone Credit\n",
      "Generated Answer: Sunstone Credit\n",
      "\n",
      "\n",
      "Question: What platform provides solar and storage developers a seamless solution to model the avoided cost of projects?\n",
      "Context: ETB Developer platform\n",
      "Generated Answer: ETB Developer\n",
      "\n",
      "\n",
      "Question: What does Energy Toolbase' s ETB Developer platform capture and analyze the critical details that help professionals stay current and navigate the solar market?\n",
      "Context: raw materials\n",
      "Generated Answer: raw materials\n",
      "\n",
      "\n",
      "Question: How large is the portion of the Estonian solar project that Enel North America has signed a power purchase agreement with BXP?\n",
      "Context: 21 MW\n",
      "Generated Answer: 21 MW\n",
      "\n",
      "\n",
      "Question: Who is the largest publicly traded developer, owner and manager of premier workplaces in the US?\n",
      "Context: BXP\n",
      "Generated Answer: BXP\n",
      "\n",
      "\n",
      "Question: What is Paolo Romanacci's job title?\n",
      "Context: Enel Green Power North America\n",
      "Generated Answer: Enel Green Power North America\n",
      "\n",
      "\n",
      "Question: How much battery storage capacity does Enel have?\n",
      "Context: 607 MW/911 MWh\n",
      "Generated Answer: 607 MW / 911 MWh\n",
      "\n",
      "\n",
      "Question: Who approved Xcel Energy's expansion of the Sherco Solar project?\n",
      "Context: Minnesota Public Utilities Commission\n",
      "Generated Answer: Minnesota Public Utilities Commission\n",
      "\n",
      "\n",
      "Question: When did construction of the Sherco Solar project begin?\n",
      "Context: late April\n",
      "Generated Answer: late April\n",
      "\n",
      "\n",
      "Question: What will the Sherco Solar project provide customers?\n",
      "Context: power\n",
      "Generated Answer: power\n",
      "\n",
      "\n",
      "Question: Where is the Apple River solar project located?\n",
      "Context: Polk County, Wis\n",
      "Generated Answer: Polk County\n",
      "\n",
      "\n",
      "Question: How much money will be paid to landowners for the Apple River project?\n",
      "Context: $ 19 million\n",
      "Generated Answer: $ 19 million\n",
      "\n",
      "\n",
      "Question: Who selected the Apple River and Sherco Solar projects after a competitive bidding process?\n",
      "Context: Xcel Energy\n",
      "Generated Answer: Xcel Energy\n",
      "\n",
      "\n",
      "Question: Where is First Solar's new manufacturing facility located?\n",
      "Context: Iberia Parish, La\n",
      "Generated Answer: Iberia Parish\n",
      "\n",
      "\n",
      "Question: What is the new facility in Iberia Parish, La.\n",
      "Context: fifth fully vertically integrated factory in the United States\n",
      "Generated Answer: fifth fully vertically integrated factory\n",
      "\n",
      "\n",
      "Question: Who is the governor of Louisiana?\n",
      "Context: John Bel Edwards\n",
      "Generated Answer: John Bel Edwards\n",
      "\n",
      "\n",
      "Question: Which state is a leader in the global energy transition?\n",
      "Context: Louisiana\n",
      "Generated Answer: Louisiana\n",
      "\n",
      "\n",
      "Question: How much has First Solar spent on its manufacturing expansion since 2020?\n",
      "Context: $ 4.1 billion\n",
      "Generated Answer: $ 4. 1 billion\n",
      "\n",
      "\n",
      "Question: How much money has the Department of Energy announced for 15 projects?\n",
      "Context: $ 325 million\n",
      "Generated Answer: $ 325 million\n",
      "\n",
      "\n",
      "Question: How many states are in the U.S.?\n",
      "Context: 17\n",
      "Generated Answer: 17\n",
      "\n",
      "\n",
      "Question: What types of storage solutions will be used in the DOE's LDES projects?\n",
      "Context: intraday (10 to 36 hours) and multiday (36 to 160+ hours)\n",
      "Generated Answer: intraday ( 10 to 36 hours ) and multiday ( 36 to 160 + hours )\n",
      "\n",
      "\n",
      "Question: How large is the LDES microgrid project?\n",
      "Context: 34.4 MWh\n",
      "Generated Answer: 34. 4 MWh\n",
      "\n",
      "\n",
      "Question: Where are Redflow batteries ideally suited for daily use?\n",
      "Context: Central Valley\n",
      "Generated Answer: Central Valley\n",
      "\n",
      "\n",
      "Question: What is the system expected to maintain during utility outages or shortages not attributable to earthquakes?\n",
      "Context: critical hospital operations\n",
      "Generated Answer: critical hospital operations\n",
      "\n",
      "\n",
      "Question: What does Redflow capture and analyze to help professionals stay current and navigate the solar market?\n",
      "Context: raw materials\n",
      "Generated Answer: raw materials\n",
      "\n",
      "\n",
      "Question: Where is the solar project located?\n",
      "Context: Houston, Alaska\n",
      "Generated Answer: Houston, Alaska\n",
      "\n",
      "\n",
      "Question: Who is the owner-operator of the solar project in Houston?\n",
      "Context: CleanCapital\n",
      "Generated Answer: CleanCapital\n",
      "\n",
      "\n",
      "Question: What are Alaska's primary energy sources?\n",
      "Context: oil and natural gas\n",
      "Generated Answer: oil and natural gas\n",
      "\n",
      "\n",
      "Question: What offers industry participants probing, comprehensive assessments of the technology, tools and trends that are driving this dynamic energy sector?\n",
      "Context: Solar Industry\n",
      "Generated Answer: Solar Industry\n",
      "\n",
      "\n",
      "Question: Who are the professors from the Technical University of Madrid?\n",
      "Context: Mikel Ogueta Gutiérrez and Omar Gómez Ortega\n",
      "Generated Answer: Mikel Ogueta Gutiérrez and Omar Gómez Ortega\n",
      "\n",
      "\n",
      "Question: What is made to obtain accurate aerodynamic information on the solar tracking system?\n",
      "Context: structural calculations\n",
      "Generated Answer: structural calculations\n",
      "\n",
      "\n",
      "Question: When did Arctech establish a Numerical Wind Tunnel CFD Calculation Center?\n",
      "Context: 2022\n",
      "Generated Answer: 2022\n",
      "\n",
      "\n",
      "Question: What provides a theoretical basis and technical support for improving the reliability and structural optimization design of trackers in complex terrain?\n",
      "Context: 3D Geographic Information System (GIS) + Numerical Wind Tunnel CFD Simulation application technology\n",
      "Generated Answer: 3D Geographic Information System ( GIS ) + Numerical Wind Tunnel CFD Simulation application technology\n",
      "\n",
      "\n",
      "Question: What company is SUNation Energy a subsidiary of?\n",
      "Context: Pineapple Energy Inc\n",
      "Generated Answer: Pineapple Energy Inc\n",
      "\n",
      "\n",
      "Question: What is SUNation Energy's certification?\n",
      "Context: Tesla Powerwall Certified Installer\n",
      "Generated Answer: Tesla Powerwall Certified Installer\n",
      "\n",
      "\n",
      "Question: Which areas does SUNation Energy continue to serve?\n",
      "Context: Long Island, Queens, Brooklyn and Staten Island\n",
      "Generated Answer: Long Island, Queens, Brooklyn and Staten Island\n",
      "\n",
      "\n",
      "Question: Who formed a partnership with EnergyHub?\n",
      "Context: GE Vernova\n",
      "Generated Answer: GE Vernova\n",
      "\n",
      "\n",
      "Question: What company is a specialist in distributed energy resource management system software?\n",
      "Context: EnergyHub\n",
      "Generated Answer: EnergyHub\n",
      "\n",
      "\n",
      "Question: What can utilities harness to achieve a more reliable and efficient grid?\n",
      "Context: power of intelligent DER management and load flexibility\n",
      "Generated Answer: load flexibility\n",
      "\n",
      "\n",
      "Question: SolarLetters.com automates structural letters, professional engineer stamps, and post-installation letters for residential solar installation companies in how many US\n",
      "Context: 50\n",
      "Generated Answer: 50\n",
      "\n",
      "\n",
      "Question: Who is the CEO of Solar Letters?\n",
      "Context: Christopher Castillo\n",
      "Generated Answer: Christopher Castillo\n",
      "\n",
      "\n",
      "Question: What does SolarLetters.com capture and analyze the critical details that help professionals stay current and navigate the solar market?\n",
      "Context: raw materials\n",
      "Generated Answer: raw materials\n",
      "\n",
      "\n",
      "Question: Who is a provider of solar and energy storage solutions?\n",
      "Context: Tigo Energy Inc\n",
      "Generated Answer: Tigo Energy Inc\n",
      "\n",
      "\n",
      "Question: What enhances the installer experience and drives quality across the solar value chain?\n",
      "Context: The Green Glove program\n",
      "Generated Answer: The Green Glove program\n",
      "\n",
      "\n",
      "Question: What does the Green Glove program connect high-quality solar and storage products to?\n",
      "Context: best practices\n",
      "Generated Answer: best practices\n",
      "\n",
      "\n",
      "Question: How many distributed energy resources were connected to the grid as of September?\n",
      "Context: 51,000\n",
      "Generated Answer: 51, 000\n",
      "\n",
      "\n",
      "Question: What is the annual growth rate of rooftop solar systems?\n",
      "Context: 53%\n",
      "Generated Answer: 53 %\n",
      "\n",
      "\n",
      "Question: How many rooftop solar systems were connected to the ComEd grid in 2016?\n",
      "Context: 837\n",
      "Generated Answer: 837\n",
      "\n",
      "\n",
      "Question: How many systems have been connected to the ComEd grid as of September?\n",
      "Context: 11,000\n",
      "Generated Answer: 11, 000\n",
      "\n",
      "\n",
      "Question: How does ComEd describe the number of rooftop solar systems connected to the grid?\n",
      "Context: “\n",
      "Generated Answer: ComEd describe the number of rooftop solar systems connected to the grid? [SEP] “\n",
      "\n",
      "\n",
      "Question: What does SSVEC stand for?\n",
      "Context: Sulphur Springs Valley Electric Cooperative\n",
      "Generated Answer: Sulphur Springs Valley Electric Cooperative\n",
      "\n",
      "\n",
      "Question: How large is the AC McNeal Solar Farm?\n",
      "Context: 20 MW\n",
      "Generated Answer: 20 MW\n",
      "\n",
      "\n",
      "Question: What does the new substation include for the solar-plus-storage project?\n",
      "Context: the interconnection infrastructure\n",
      "Generated Answer: the interconnection infrastructure\n",
      "\n",
      "\n",
      "Question: How many solar photovoltaic arrays are in Warren County?\n",
      "Context: four\n",
      "Generated Answer: four\n",
      "\n",
      "\n",
      "Question: Who is the NYPA's president and CEO?\n",
      "Context: Justin E. Driscoll\n",
      "Generated Answer: Justin E. Driscoll\n",
      "\n",
      "\n",
      "Question: How does Justin E. Driscoll describe the New York Power Authority's clean energy projects?\n",
      "Context: “\n",
      "Generated Answer: New York Power Authority ' s clean energy projects? [SEP] “\n",
      "\n",
      "\n",
      "Question: What are the goals of the agreement?\n",
      "Context: land conservation and supporting local community interests\n",
      "Generated Answer: land conservation and supporting local community interests\n",
      "\n",
      "\n",
      "Question: What causes the solar industry to address agricultural land conversion, wildlife and habitat impacts, and community engagement?\n",
      "Context: rapid increase in utility-scale solar\n",
      "Generated Answer: rapid increase\n",
      "\n",
      "\n",
      "Question: What is the triple play for?\n",
      "Context: climate, conservation, and community\n",
      "Generated Answer: climate, conservation\n",
      "\n",
      "\n",
      "Question: What was the second solar project to receive a permit from the state's Electric Generation and Transmission Sitting Board?\n",
      "Context: Glover Creek\n",
      "Generated Answer: Glover Creek\n",
      "\n",
      "\n",
      "Question: When did SOLCAP close financing on a portfolio of six solar projects in Oregon and South Carolina?\n",
      "Context: February 2020\n",
      "Generated Answer: February 2020\n",
      "\n",
      "\n",
      "Question: What is the name of the partnership between Qcells and Alltrade Industrial Contractors Inc.?\n",
      "Context: FLEXRACK\n",
      "Generated Answer: FLEXRACK\n",
      "\n",
      "\n",
      "Question: Where is the Saddlebrook project located?\n",
      "Context: North America\n",
      "Generated Answer: North America\n",
      "\n",
      "\n",
      "Question: Who is the Saddlebrook Solar Project a joint venture with?\n",
      "Context: SkyFire Energy Inc\n",
      "Generated Answer: SkyFire Energy Inc\n",
      "\n",
      "\n",
      "Question: What project will power a global oil producer's refinery complex?\n",
      "Context: Scotford project\n",
      "Generated Answer: Scotford\n",
      "\n",
      "\n",
      "Question: What company provides software and services for the solar industry?\n",
      "Context: EagleView\n",
      "Generated Answer: EagleView\n",
      "\n",
      "\n",
      "Question: What is the name of EagleView's solution for solar contractors?\n",
      "Context: SolarReady\n",
      "Generated Answer: SolarReady\n",
      "\n",
      "\n",
      "Question: Who is the VP of EagleView's solar business?\n",
      "Context: Peter Cleveland\n",
      "Generated Answer: Peter Cleveland\n",
      "\n",
      "\n",
      "Question: What does Peter Cleveland say about SolarReady?\n",
      "Context: “\n",
      "Generated Answer: What does Peter Cleveland say about SolarReady? [SEP] “\n",
      "\n",
      "\n",
      "Question: Who has conducted a ground-breaking ceremony for the development of its on-site solar energy and battery storage portfolio?\n",
      "Context: The City of Fresno Department of Public Utilities\n",
      "Generated Answer: The City of Fresno Department of Public Utilities\n",
      "\n",
      "\n",
      "Question: What are some of Fresno's behind-the-meter solar energy assets?\n",
      "Context: Fresno Convention Center, the Highway City Science Center, the Police Training Facility and Fresno Yosemite International Airport\n",
      "Generated Answer: Fresno Yosemite International Airport\n",
      "\n",
      "\n",
      "Question: What does Solar Industry offer industry participants?\n",
      "Context: comprehensive assessments of the technology, tools and trends that are driving this dynamic energy sector\n",
      "Generated Answer: comprehensive assessments\n",
      "\n",
      "\n",
      "Question: How large is Myrtle Solar?\n",
      "Context: 380 MW\n",
      "Generated Answer: 380 MW\n",
      "\n",
      "\n",
      "Question: How much battery storage does Myrtle Solar have?\n",
      "Context: 225 MWh\n",
      "Generated Answer: 225 MWh\n",
      "\n",
      "\n",
      "Question: What project is Myrtle Solar part of?\n",
      "Context: Go Green\n",
      "Generated Answer: Go Green\n",
      "\n",
      "\n",
      "Question: What does Solar Industry offer industry participants?\n",
      "Context: comprehensive assessments of the technology, tools and trends\n",
      "Generated Answer: comprehensive assessments\n",
      "\n",
      "\n",
      "Question: Who is building a 23.27 MW DC ground-mounted solar array system for Mohave Electric Cooperative?\n",
      "Context: EDPR NA Distributed Generation\n",
      "Generated Answer: EDPR\n",
      "\n",
      "\n",
      "Question: What does the project demonstrate MEC's proactive planning to do?\n",
      "Context: increase reliability, meet renewable energy mandates and support the overall electrical grid\n",
      "Generated Answer: increase reliability\n",
      "\n",
      "\n",
      "Question: Who is Dave Harper the head of tribal engagement at?\n",
      "Context: Alliance for Tribal Clean Energy\n",
      "Generated Answer: Alliance for Tribal Clean Energy\n",
      "\n",
      "\n",
      "Question: How many megawatts of N-type Tiger Neo modules did JinkoSolar Holding Co. Ltd. supply to ACWA Power?\n",
      "Context: 3.8 GW\n",
      "Generated Answer: 3. 8\n",
      "\n",
      "\n",
      "Question: Who is an affiliate of ACWA Power?\n",
      "Context: JinkoSolar Holding Co. Ltd\n",
      "Generated Answer: JinkoSolar Holding Co. Ltd\n",
      "\n",
      "\n",
      "Question: Who is the executive vice president of ACWA Power China?\n",
      "Context: Yunhe Lyu\n",
      "Generated Answer: Yunhe Lyu\n",
      "\n",
      "\n",
      "Question: What does Yunhe Lyu say about the deal?\n",
      "Context: “\n",
      "Generated Answer: Yunhe Lyu\n",
      "\n",
      "\n",
      "Question: What company is a developer and manufacturer of thin-film solar photovoltaic solutions?\n",
      "Context: Ascent Solar Technologies\n",
      "Generated Answer: Ascent Solar Technologies\n",
      "\n",
      "\n",
      "Question: What is the efficiency rating of Ascent Solar Technologies' CIGS technology?\n",
      "Context: 17.55%\n",
      "Generated Answer: 17. 55 %\n",
      "\n",
      "\n",
      "Question: What does Solar Industry offer industry participants?\n",
      "Context: comprehensive assessments\n",
      "Generated Answer: comprehensive assessments\n",
      "\n",
      "\n",
      "Question: What company is partnering with Solar Optimum and DSD Renewables to build a solar carport and energy storage system?\n",
      "Context: Six Flags Magic Mountain\n",
      "Generated Answer: Solar Optimum\n",
      "\n",
      "\n",
      "Question: What does Solar Industry offer industry participants?\n",
      "Context: comprehensive assessments\n",
      "Generated Answer: comprehensive assessments\n",
      "\n",
      "\n",
      "Question: Who is the owner and operator of Sun Streams 4?\n",
      "Context: Longroad Energy\n",
      "Generated Answer: Longroad\n",
      "\n",
      "\n",
      "Question: How many people are expected to work on the Sun Streams 4 project?\n",
      "Context: over 200\n",
      "Generated Answer: over 200\n",
      "\n",
      "\n",
      "Question: What act did Sun Streams 4 incorporate provisions from?\n",
      "Context: Inflation Reduction Act\n",
      "Generated Answer: Inflation Reduction Act\n",
      "\n",
      "\n",
      "Question: What offers industry participants probing, comprehensive assessments of the technology, tools and trends that are driving this dynamic energy sector?\n",
      "Context: Solar Industry\n",
      "Generated Answer: Solar Industry\n",
      "\n",
      "\n",
      "Question: How much did Strata Clean Energy close its revolving loan and letter of credit facility?\n",
      "Context: $ 300 million\n",
      "Generated Answer: $ 300 million\n",
      "\n",
      "\n",
      "Question: Which divisions of Strata have played a pivotal role in its 15-year history of execution for its own independent power producer and third-\n",
      "Context: EPC and O & M\n",
      "Generated Answer: EPC and O & M\n",
      "\n",
      "\n",
      "Question: What offers industry participants probing, comprehensive assessments of the technology, tools and trends that are driving this dynamic energy sector?\n",
      "Context: Solar Industry\n",
      "Generated Answer: Solar Industry\n",
      "\n",
      "\n",
      "Question: How large is rsted's land-based wind, solar and storage assets?\n",
      "Context: 5.5 GW\n",
      "Generated Answer: 5. 5 GW\n",
      "\n",
      "\n",
      "Question: How large is rsted's land-based wind, solar and storage assets?\n",
      "Context: 5.5 GW\n",
      "Generated Answer: 5. 5 GW\n",
      "\n",
      "\n",
      "Question: Who is the vice president of SparkCognition?\n",
      "Context: Dr. Sandeep Gupta\n",
      "Generated Answer: Dr. Sandeep Gupta\n",
      "\n",
      "\n",
      "Question: What does SparkCognition capture and analyze the critical details that help professionals stay current and navigate the solar market?\n",
      "Context: raw materials\n",
      "Generated Answer: raw materials\n",
      "\n",
      "\n",
      "Question: Who is a provider of environmental solutions in the U.S. and Canada?\n",
      "Context: Veolia North America\n",
      "Generated Answer: Veolia\n",
      "\n",
      "\n",
      "Question: How much power is the solar array expected to produce over the next quarter century?\n",
      "Context: 250 million kWh\n",
      "Generated Answer: 250 million kWh\n",
      "\n",
      "\n",
      "Question: Who did Today's Power, Inc. work with to provide a 5 MW single-axis tracking solar energy system?\n",
      "Context: Veolia and South Central Electric Cooperative\n",
      "Generated Answer: Veolia and South Central Electric Cooperative\n",
      "\n",
      "\n",
      "Question: What type of bankruptcy did SunEdison file for?\n",
      "Context: Chapter 11\n",
      "Generated Answer: Chapter 11\n",
      "\n",
      "\n",
      "Question: When did SunEdison launch two yieldcos?\n",
      "Context: 2014 and 2015\n",
      "Generated Answer: 2014 and 2015\n",
      "\n",
      "\n",
      "Question: Who investigated SunEdison's Vivint deal?\n",
      "Context: U.S. Securities and Exchange Commission and the U.S. Department of Justice\n",
      "Generated Answer: U. S. Securities and Exchange Commission\n",
      "\n",
      "\n",
      "Question: Who is the CEO of Mercom Capital Group?\n",
      "Context: Raj Prabhu\n",
      "Generated Answer: Raj Prabhu\n",
      "\n",
      "\n",
      "Question: What has the fall of SunEdison made some renewable energy stakeholders question?\n",
      "Context: the viability of the yieldco structure\n",
      "Generated Answer: the viability of the yieldco structure\n",
      "\n",
      "\n",
      "Question: What does SunEdison do with the money from its yieldcos?\n",
      "Context: uses it to build more projects\n",
      "Generated Answer: build more projects\n",
      "\n",
      "\n",
      "Question: What was SunEdison's bankruptcy like?\n",
      "Context: musical chairs\n",
      "Generated Answer: musical chairs\n",
      "\n",
      "\n",
      "Question: What is still a viable option for a renewable developer?\n",
      "Context: a yieldco\n",
      "Generated Answer: a yieldco\n",
      "\n",
      "\n",
      "Question: Who claims that SunEdison's bankruptcy says more about the company's strategic decisions than about the solar industry as a whole?\n",
      "Context: Chase\n",
      "Generated Answer: Chase\n",
      "\n",
      "\n",
      "Question: Which companies have managed a develop-and-sell business profitably over the past three years?\n",
      "Context: SunPower and First Solar\n",
      "Generated Answer: SunPower and First Solar\n",
      "\n",
      "\n",
      "Question: What did Raj Prabhu say about SunEdison's bankruptcy?\n",
      "Context: SunEdison wanted to become the biggest renewables company in the world, and they could’ ve gotten there and stayed there\n",
      "Generated Answer: \n",
      "\n",
      "\n",
      "Question: What did Raj Prabhu say about SunEdison's bankruptcy?\n",
      "Context: not at the pace they went\n",
      "Generated Answer: not at the pace\n",
      "\n",
      "\n",
      "Question: What does Raj Prabhu say is a cautionary tale for the industry?\n",
      "Context: Where are the projects going to come from in the future\n",
      "Generated Answer: projects going to come from in the future\n",
      "\n",
      "\n",
      "Question: What did Raj Prabhu say about the future of SunEdison's projects?\n",
      "Context: There are many options to be worked out\n",
      "Generated Answer: There are many options to be worked out\n",
      "\n",
      "\n",
      "Question: What kind of cycles has SunEdison gone through?\n",
      "Context: cycles of ups and downs\n",
      "Generated Answer: ups and downs\n",
      "\n",
      "\n",
      "Question: What may serve as a cautionary tale for the industry?\n",
      "Context: rapid rise and fall\n",
      "Generated Answer: rapid rise and fall\n",
      "\n",
      "\n",
      "Question: Who closed financing on the Vikings solar-plus-storage project?\n",
      "Context: Arevon Energy Inc.\n",
      "Generated Answer: Arevon Energy Inc\n",
      "\n",
      "\n",
      "Question: Who participated as a lender on the Vikings solar-plus-storage project?\n",
      "Context: National Bank of Canada\n",
      "Generated Answer: National Bank of Canada\n",
      "\n",
      "\n",
      "Question: Which company is supplying the Vikings solar-plus-storage project's utility-scale batteries?\n",
      "Context: Tesla\n",
      "Generated Answer: Tesla\n",
      "\n",
      "\n",
      "Question: Where is Nextracker's headquarters?\n",
      "Context: Fremont, Calif\n",
      "Generated Answer: Fremont, Calif\n",
      "\n",
      "\n"
     ]
    }
   ],
   "source": [
    "# Load the pre-trained model and tokenizer for Question-Answering\n",
    "tokenizer = AutoTokenizer.from_pretrained(\"distilbert-base-cased-distilled-squad\")\n",
    "model = AutoModelForQuestionAnswering.from_pretrained(\"distilbert-base-cased-distilled-squad\")\n",
    "device = torch.device(\"cuda\" if torch.cuda.is_available() else \"cpu\")\n",
    "model.to(device)\n",
    "\n",
    "# Ensure the model is in evaluation mode\n",
    "model.eval()\n",
    "\n",
    "# Load the questions from the CSV file\n",
    "df = pd.read_csv(\"Data/last_50_QA_clean.csv\")\n",
    "\n",
    "# Function to extract answers using the QA model\n",
    "def extract_answer(question, context):\n",
    "    inputs = tokenizer.encode_plus(question, context, add_special_tokens=True, return_tensors=\"pt\")\n",
    "    input_ids = inputs[\"input_ids\"].to(device)\n",
    "    attention_mask = inputs[\"attention_mask\"].to(device)\n",
    "    \n",
    "    with torch.no_grad():\n",
    "        outputs = model(input_ids=input_ids, attention_mask=attention_mask)\n",
    "        start_scores = outputs.start_logits\n",
    "        end_scores = outputs.end_logits\n",
    "\n",
    "    start_index = torch.argmax(start_scores)\n",
    "    end_index = torch.argmax(end_scores) + 1\n",
    "    answer = tokenizer.convert_tokens_to_string(tokenizer.convert_ids_to_tokens(input_ids[0][start_index:end_index]))\n",
    "    return answer\n",
    "\n",
    "# List to store the answers\n",
    "fine_tune_answer = []\n",
    "\n",
    "# Iterate over each question and context pair in the DataFrame\n",
    "for N, Q in enumerate(df['Q']):\n",
    "    question = Q\n",
    "    context = df['A'][N]\n",
    "    \n",
    "    # Extract the answer\n",
    "    answer = extract_answer(question, context)\n",
    "    \n",
    "    # Append the answer to the list\n",
    "    fine_tune_answer.append(answer)\n",
    "\n",
    "# Print the results\n",
    "for i, answer in enumerate(fine_tune_answer):\n",
    "    print(f\"Question: {df['Q'][i]}\")\n",
    "    print(f\"Context: {df['A'][i]}\")\n",
    "    print(f\"Generated Answer: {answer}\")\n",
    "    print('\\n')\n"
   ]
  },
  {
   "cell_type": "code",
   "execution_count": 49,
   "id": "a4e708e4-5d3f-459f-a82f-440d935a3390",
   "metadata": {},
   "outputs": [
    {
     "data": {
      "text/html": [
       "<div>\n",
       "<style scoped>\n",
       "    .dataframe tbody tr th:only-of-type {\n",
       "        vertical-align: middle;\n",
       "    }\n",
       "\n",
       "    .dataframe tbody tr th {\n",
       "        vertical-align: top;\n",
       "    }\n",
       "\n",
       "    .dataframe thead th {\n",
       "        text-align: right;\n",
       "    }\n",
       "</style>\n",
       "<table border=\"1\" class=\"dataframe\">\n",
       "  <thead>\n",
       "    <tr style=\"text-align: right;\">\n",
       "      <th></th>\n",
       "      <th>Unnamed: 0</th>\n",
       "      <th>summary</th>\n",
       "      <th>Q</th>\n",
       "      <th>A</th>\n",
       "      <th>fine_tuned_answer</th>\n",
       "    </tr>\n",
       "  </thead>\n",
       "  <tbody>\n",
       "    <tr>\n",
       "      <th>0</th>\n",
       "      <td>0</td>\n",
       "      <td>Anza, a solar and energy storage procurement p...</td>\n",
       "      <td>What is the name of the solar and energy stora...</td>\n",
       "      <td>Anza</td>\n",
       "      <td>Anza</td>\n",
       "    </tr>\n",
       "    <tr>\n",
       "      <th>1</th>\n",
       "      <td>1</td>\n",
       "      <td>Anza, a solar and energy storage procurement p...</td>\n",
       "      <td>What does Anza's technology provide?</td>\n",
       "      <td>analytics</td>\n",
       "      <td>analytics</td>\n",
       "    </tr>\n",
       "    <tr>\n",
       "      <th>2</th>\n",
       "      <td>2</td>\n",
       "      <td>Solar solutions provider Nextracker is set to ...</td>\n",
       "      <td>Which solar solutions provider is set to launc...</td>\n",
       "      <td>Nextracker</td>\n",
       "      <td>Nextracker</td>\n",
       "    </tr>\n",
       "    <tr>\n",
       "      <th>3</th>\n",
       "      <td>3</td>\n",
       "      <td>Solar solutions provider Nextracker is set to ...</td>\n",
       "      <td>How much faster can NX Horizon stow than stand...</td>\n",
       "      <td>four times faster</td>\n",
       "      <td>four times</td>\n",
       "    </tr>\n",
       "    <tr>\n",
       "      <th>4</th>\n",
       "      <td>4</td>\n",
       "      <td>Solar solutions provider Nextracker is set to ...</td>\n",
       "      <td>What is Nextracker's latest innovation for hil...</td>\n",
       "      <td>NX Horizon XTR-1.5</td>\n",
       "      <td>NX Horizon XTR - 1. 5</td>\n",
       "    </tr>\n",
       "    <tr>\n",
       "      <th>...</th>\n",
       "      <td>...</td>\n",
       "      <td>...</td>\n",
       "      <td>...</td>\n",
       "      <td>...</td>\n",
       "      <td>...</td>\n",
       "    </tr>\n",
       "    <tr>\n",
       "      <th>187</th>\n",
       "      <td>187</td>\n",
       "      <td>Once the self-proclaimed “ leading renewable p...</td>\n",
       "      <td>What may serve as a cautionary tale for the in...</td>\n",
       "      <td>rapid rise and fall</td>\n",
       "      <td>rapid rise and fall</td>\n",
       "    </tr>\n",
       "    <tr>\n",
       "      <th>188</th>\n",
       "      <td>188</td>\n",
       "      <td>Arevon Energy Inc. has closed financing on the...</td>\n",
       "      <td>Who closed financing on the Vikings solar-plus...</td>\n",
       "      <td>Arevon Energy Inc.</td>\n",
       "      <td>Arevon Energy Inc</td>\n",
       "    </tr>\n",
       "    <tr>\n",
       "      <th>189</th>\n",
       "      <td>189</td>\n",
       "      <td>Arevon Energy Inc. has closed financing on the...</td>\n",
       "      <td>Who participated as a lender on the Vikings so...</td>\n",
       "      <td>National Bank of Canada</td>\n",
       "      <td>National Bank of Canada</td>\n",
       "    </tr>\n",
       "    <tr>\n",
       "      <th>190</th>\n",
       "      <td>190</td>\n",
       "      <td>Arevon Energy Inc. has closed financing on the...</td>\n",
       "      <td>Which company is supplying the Vikings solar-p...</td>\n",
       "      <td>Tesla</td>\n",
       "      <td>Tesla</td>\n",
       "    </tr>\n",
       "    <tr>\n",
       "      <th>191</th>\n",
       "      <td>191</td>\n",
       "      <td>Arevon Energy Inc. has closed financing on the...</td>\n",
       "      <td>Where is Nextracker's headquarters?</td>\n",
       "      <td>Fremont, Calif</td>\n",
       "      <td>Fremont, Calif</td>\n",
       "    </tr>\n",
       "  </tbody>\n",
       "</table>\n",
       "<p>192 rows × 5 columns</p>\n",
       "</div>"
      ],
      "text/plain": [
       "     Unnamed: 0                                            summary  \\\n",
       "0             0  Anza, a solar and energy storage procurement p...   \n",
       "1             1  Anza, a solar and energy storage procurement p...   \n",
       "2             2  Solar solutions provider Nextracker is set to ...   \n",
       "3             3  Solar solutions provider Nextracker is set to ...   \n",
       "4             4  Solar solutions provider Nextracker is set to ...   \n",
       "..          ...                                                ...   \n",
       "187         187  Once the self-proclaimed “ leading renewable p...   \n",
       "188         188  Arevon Energy Inc. has closed financing on the...   \n",
       "189         189  Arevon Energy Inc. has closed financing on the...   \n",
       "190         190  Arevon Energy Inc. has closed financing on the...   \n",
       "191         191  Arevon Energy Inc. has closed financing on the...   \n",
       "\n",
       "                                                     Q  \\\n",
       "0    What is the name of the solar and energy stora...   \n",
       "1                 What does Anza's technology provide?   \n",
       "2    Which solar solutions provider is set to launc...   \n",
       "3    How much faster can NX Horizon stow than stand...   \n",
       "4    What is Nextracker's latest innovation for hil...   \n",
       "..                                                 ...   \n",
       "187  What may serve as a cautionary tale for the in...   \n",
       "188  Who closed financing on the Vikings solar-plus...   \n",
       "189  Who participated as a lender on the Vikings so...   \n",
       "190  Which company is supplying the Vikings solar-p...   \n",
       "191                Where is Nextracker's headquarters?   \n",
       "\n",
       "                           A        fine_tuned_answer  \n",
       "0                       Anza                     Anza  \n",
       "1                  analytics                analytics  \n",
       "2                 Nextracker               Nextracker  \n",
       "3          four times faster               four times  \n",
       "4         NX Horizon XTR-1.5    NX Horizon XTR - 1. 5  \n",
       "..                       ...                      ...  \n",
       "187      rapid rise and fall      rapid rise and fall  \n",
       "188       Arevon Energy Inc.        Arevon Energy Inc  \n",
       "189  National Bank of Canada  National Bank of Canada  \n",
       "190                    Tesla                    Tesla  \n",
       "191           Fremont, Calif           Fremont, Calif  \n",
       "\n",
       "[192 rows x 5 columns]"
      ]
     },
     "execution_count": 49,
     "metadata": {},
     "output_type": "execute_result"
    }
   ],
   "source": [
    "# adding the fine_tune_answer\n",
    "df['fine_tuned_answer'] = fine_tune_answer\n",
    "df"
   ]
  },
  {
   "cell_type": "code",
   "execution_count": 51,
   "id": "b60eea00-0d43-4f57-bbab-405b52d5824c",
   "metadata": {},
   "outputs": [
    {
     "data": {
      "text/plain": [
       "{'dimension': 384,\n",
       " 'index_fullness': 0.0,\n",
       " 'namespaces': {'last_50': {'vector_count': 50}},\n",
       " 'total_vector_count': 50}"
      ]
     },
     "execution_count": 51,
     "metadata": {},
     "output_type": "execute_result"
    }
   ],
   "source": [
    "from pinecone import Pinecone, ServerlessSpec\n",
    "\n",
    "# use the api\n",
    "pc = Pinecone(api_key='cff3b665-1409-4774-bb88-d2d9ce67286f')\n",
    "index_name = 'clt-trials'\n",
    "\n",
    "index = pc.Index(index_name)\n",
    "index.describe_index_stats()"
   ]
  },
  {
   "cell_type": "code",
   "execution_count": null,
   "id": "18605802-d815-4299-966c-115394003471",
   "metadata": {},
   "outputs": [],
   "source": []
  },
  {
   "cell_type": "code",
   "execution_count": 52,
   "id": "5521e223-e142-4135-8486-ea13e521e97c",
   "metadata": {},
   "outputs": [
    {
     "data": {
      "application/vnd.jupyter.widget-view+json": {
       "model_id": "f552894642a04011ae21e1f6b0851454",
       "version_major": 2,
       "version_minor": 0
      },
      "text/plain": [
       "modules.json:   0%|          | 0.00/229 [00:00<?, ?B/s]"
      ]
     },
     "metadata": {},
     "output_type": "display_data"
    },
    {
     "name": "stderr",
     "output_type": "stream",
     "text": [
      "C:\\Users\\Pradip\\switchdrive\\HSLU\\_Sem 4\\CTL\\venv\\Lib\\site-packages\\huggingface_hub\\file_download.py:157: UserWarning: `huggingface_hub` cache-system uses symlinks by default to efficiently store duplicated files but your machine does not support them in C:\\Users\\Pradip\\.cache\\huggingface\\hub\\models--sentence-transformers--paraphrase-MiniLM-L6-v2. Caching files will still work but in a degraded version that might require more space on your disk. This warning can be disabled by setting the `HF_HUB_DISABLE_SYMLINKS_WARNING` environment variable. For more details, see https://huggingface.co/docs/huggingface_hub/how-to-cache#limitations.\n",
      "To support symlinks on Windows, you either need to activate Developer Mode or to run Python as an administrator. In order to see activate developer mode, see this article: https://docs.microsoft.com/en-us/windows/apps/get-started/enable-your-device-for-development\n",
      "  warnings.warn(message)\n"
     ]
    },
    {
     "data": {
      "application/vnd.jupyter.widget-view+json": {
       "model_id": "f5d10a676e1741ceaeeca4537b9647ca",
       "version_major": 2,
       "version_minor": 0
      },
      "text/plain": [
       "config_sentence_transformers.json:   0%|          | 0.00/122 [00:00<?, ?B/s]"
      ]
     },
     "metadata": {},
     "output_type": "display_data"
    },
    {
     "data": {
      "application/vnd.jupyter.widget-view+json": {
       "model_id": "6a070e19b1044f929f324ef729aed254",
       "version_major": 2,
       "version_minor": 0
      },
      "text/plain": [
       "README.md:   0%|          | 0.00/3.73k [00:00<?, ?B/s]"
      ]
     },
     "metadata": {},
     "output_type": "display_data"
    },
    {
     "data": {
      "application/vnd.jupyter.widget-view+json": {
       "model_id": "1459d2be435f4c7ab88da0b61ee53b3a",
       "version_major": 2,
       "version_minor": 0
      },
      "text/plain": [
       "sentence_bert_config.json:   0%|          | 0.00/53.0 [00:00<?, ?B/s]"
      ]
     },
     "metadata": {},
     "output_type": "display_data"
    },
    {
     "name": "stderr",
     "output_type": "stream",
     "text": [
      "C:\\Users\\Pradip\\switchdrive\\HSLU\\_Sem 4\\CTL\\venv\\Lib\\site-packages\\huggingface_hub\\file_download.py:1132: FutureWarning: `resume_download` is deprecated and will be removed in version 1.0.0. Downloads always resume when possible. If you want to force a new download, use `force_download=True`.\n",
      "  warnings.warn(\n"
     ]
    },
    {
     "data": {
      "application/vnd.jupyter.widget-view+json": {
       "model_id": "77553bac2b614bc79efb42ff2002e03e",
       "version_major": 2,
       "version_minor": 0
      },
      "text/plain": [
       "config.json:   0%|          | 0.00/629 [00:00<?, ?B/s]"
      ]
     },
     "metadata": {},
     "output_type": "display_data"
    },
    {
     "data": {
      "application/vnd.jupyter.widget-view+json": {
       "model_id": "3dac1d9c1b614d5b85fa9741ae137ff6",
       "version_major": 2,
       "version_minor": 0
      },
      "text/plain": [
       "model.safetensors:   0%|          | 0.00/90.9M [00:00<?, ?B/s]"
      ]
     },
     "metadata": {},
     "output_type": "display_data"
    },
    {
     "data": {
      "application/vnd.jupyter.widget-view+json": {
       "model_id": "8d6576238c3743c683a6607f77a71fd1",
       "version_major": 2,
       "version_minor": 0
      },
      "text/plain": [
       "tokenizer_config.json:   0%|          | 0.00/314 [00:00<?, ?B/s]"
      ]
     },
     "metadata": {},
     "output_type": "display_data"
    },
    {
     "data": {
      "application/vnd.jupyter.widget-view+json": {
       "model_id": "d559bcaee0c340f995376c3288265ad7",
       "version_major": 2,
       "version_minor": 0
      },
      "text/plain": [
       "vocab.txt:   0%|          | 0.00/232k [00:00<?, ?B/s]"
      ]
     },
     "metadata": {},
     "output_type": "display_data"
    },
    {
     "data": {
      "application/vnd.jupyter.widget-view+json": {
       "model_id": "d5641e35c62e42afa128a02f5b86b9d6",
       "version_major": 2,
       "version_minor": 0
      },
      "text/plain": [
       "tokenizer.json:   0%|          | 0.00/466k [00:00<?, ?B/s]"
      ]
     },
     "metadata": {},
     "output_type": "display_data"
    },
    {
     "data": {
      "application/vnd.jupyter.widget-view+json": {
       "model_id": "6d265f2149264ce098064d578d59a5b9",
       "version_major": 2,
       "version_minor": 0
      },
      "text/plain": [
       "special_tokens_map.json:   0%|          | 0.00/112 [00:00<?, ?B/s]"
      ]
     },
     "metadata": {},
     "output_type": "display_data"
    },
    {
     "data": {
      "application/vnd.jupyter.widget-view+json": {
       "model_id": "6f855d1caf684bcb81402a230be2cd57",
       "version_major": 2,
       "version_minor": 0
      },
      "text/plain": [
       "1_Pooling/config.json:   0%|          | 0.00/190 [00:00<?, ?B/s]"
      ]
     },
     "metadata": {},
     "output_type": "display_data"
    },
    {
     "name": "stdout",
     "output_type": "stream",
     "text": [
      "50\n"
     ]
    }
   ],
   "source": [
    "# Load the SentenceTransformer model\n",
    "model = SentenceTransformer('sentence-transformers/paraphrase-MiniLM-L6-v2')\n",
    "\n",
    "# Read the DataFrame from the CSV file\n",
    "df1 = pd.read_csv(\"Data/last_50_QA.csv\", index_col=0)\n",
    "\n",
    "# Define the function to clean the text\n",
    "def clean_text_list(txt):\n",
    "    txt_list = txt[2:].split(\"', '\")\n",
    "    return [txt.strip(' ') for txt in txt_list]\n",
    "\n",
    "# Initialize lists to store embeddings and original text\n",
    "embedding_list = []\n",
    "original_dict = {}\n",
    "\n",
    "# Iterate over each key sentence in the DataFrame\n",
    "for i, txt in enumerate(df1['key_sentences']):\n",
    "    # Clean and split the text\n",
    "    sentences = clean_text_list(txt)\n",
    "    \n",
    "    # Encode each sentence and store its embedding along with original text\n",
    "    for j, s in enumerate(sentences):\n",
    "        s_id = f'{i}_{j}'\n",
    "        s_embedding = model.encode(s)\n",
    "        original_dict[s_id] = s\n",
    "        embedding_list.append({\"id\": s_id, \"values\": s_embedding.tolist()})\n",
    "\n",
    "print(len(embedding_list))\n"
   ]
  },
  {
   "cell_type": "markdown",
   "id": "5944ddba-eebc-449e-b08f-5e5f9224b213",
   "metadata": {
    "jp-MarkdownHeadingCollapsed": true
   },
   "source": [
    "### UPSERT Operation to PIPECONE"
   ]
  },
  {
   "cell_type": "code",
   "execution_count": 53,
   "id": "037b09ee-9d8b-4218-9a3a-63876a759310",
   "metadata": {},
   "outputs": [
    {
     "name": "stderr",
     "output_type": "stream",
     "text": [
      "C:\\Users\\Pradip\\switchdrive\\HSLU\\_Sem 4\\CTL\\venv\\Lib\\site-packages\\huggingface_hub\\file_download.py:1132: FutureWarning: `resume_download` is deprecated and will be removed in version 1.0.0. Downloads always resume when possible. If you want to force a new download, use `force_download=True`.\n",
      "  warnings.warn(\n"
     ]
    },
    {
     "data": {
      "text/plain": [
       "{'upserted_count': 50}"
      ]
     },
     "execution_count": 53,
     "metadata": {},
     "output_type": "execute_result"
    }
   ],
   "source": [
    "# Initialize the SentenceTransformer model\n",
    "se = SentenceTransformer('sentence-transformers/paraphrase-MiniLM-L6-v2')\n",
    "\n",
    "# Read the dataframe\n",
    "df1 = pd.read_csv(\"Data/last_50_QA.csv\", index_col=0)\n",
    "\n",
    "# Define the function to clean the text\n",
    "def clean_text_list(txt):\n",
    "    txt_list = txt[2:].split(\"', '\")\n",
    "    return [txt.strip(' ') for txt in txt_list]\n",
    "\n",
    "# Encode and insert vectors\n",
    "embedding_list = []\n",
    "original_dict = {}\n",
    "for i, txt in enumerate(df1['key_sentences']):\n",
    "    for j, s in enumerate(clean_text_list(txt)):\n",
    "        s_id = f'{i}_{j}'\n",
    "        s_value = se.encode(s).tolist()\n",
    "        original_dict[s_id] = s\n",
    "        embedding_list.append(\n",
    "            {\"id\": s_id, \"values\": s_value}\n",
    "        )\n",
    "\n",
    "# Ensure that each vector has dimensionality of 390\n",
    "for embedding in embedding_list:\n",
    "    embedding[\"values\"] = embedding[\"values\"][:390]\n",
    "\n",
    "# Upsert vectors into the index\n",
    "ns = \"last_50\"\n",
    "index.upsert(\n",
    "    vectors=embedding_list,\n",
    "    namespace=ns\n",
    ")\n"
   ]
  },
  {
   "cell_type": "code",
   "execution_count": 54,
   "id": "91b267f2-d6d8-4bb4-9fa8-1c6ac91e0b1e",
   "metadata": {},
   "outputs": [
    {
     "data": {
      "text/plain": [
       "{'dimension': 384,\n",
       " 'index_fullness': 0.0,\n",
       " 'namespaces': {'last_50': {'vector_count': 50}},\n",
       " 'total_vector_count': 50}"
      ]
     },
     "execution_count": 54,
     "metadata": {},
     "output_type": "execute_result"
    }
   ],
   "source": [
    "index.describe_index_stats()"
   ]
  },
  {
   "cell_type": "code",
   "execution_count": 55,
   "id": "7a5e3938-9350-493a-831c-6c55e54a0296",
   "metadata": {},
   "outputs": [],
   "source": [
    "def get_context(index, question, top_k):\n",
    "    # Generate embeddings for the question\n",
    "    xq = se.encode(question).tolist()\n",
    "    # Search Pinecone index for context passage with the answer\n",
    "    xc = index.query(\n",
    "        namespace=ns,\n",
    "        vector=se.encode(question).tolist(),\n",
    "        top_k=top_k,\n",
    "        include_values=False\n",
    "    )\n",
    "    # Extract the context passages from Pinecone search result\n",
    "    return xc[\"matches\"]\n"
   ]
  },
  {
   "cell_type": "code",
   "execution_count": 56,
   "id": "aeab5fbc-52d3-43f2-ba14-37bb695cd006",
   "metadata": {},
   "outputs": [
    {
     "name": "stdout",
     "output_type": "stream",
     "text": [
      "Q    What types of storage solutions will be used i...\n",
      "A    intraday (10 to 36 hours) and multiday (36 to ...\n",
      "Name: 90, dtype: object\n"
     ]
    }
   ],
   "source": [
    "# Assuming you have a CSV file named 'data.csv' containing columns 'Q' and 'A'\n",
    "df = pd.read_csv(\"Data/last_50_QA_clean.csv\", index_col=0)\n",
    "\n",
    "# Now you can access the DataFrame using df[['Q', 'A']].iloc[90]\n",
    "print(df[['Q', 'A']].iloc[90])\n"
   ]
  },
  {
   "cell_type": "code",
   "execution_count": 57,
   "id": "b95db3fa-25e7-423a-86a0-f3f143a9f333",
   "metadata": {},
   "outputs": [
    {
     "data": {
      "text/plain": [
       "[{'id': '47_0', 'score': 0.269132495, 'values': []},\n",
       " {'id': '39_0', 'score': 0.249461159, 'values': []},\n",
       " {'id': '32_0', 'score': 0.232970178, 'values': []},\n",
       " {'id': '9_0', 'score': 0.209610879, 'values': []},\n",
       " {'id': '27_0', 'score': 0.192504242, 'values': []}]"
      ]
     },
     "execution_count": 57,
     "metadata": {},
     "output_type": "execute_result"
    }
   ],
   "source": [
    "# set the question and query the from the embedding database\n",
    "\n",
    "question = \"Where is the Allen S. King plant located?\"\n",
    "context_list = get_context(index, question, top_k=5)\n",
    "\n",
    "context_list"
   ]
  },
  {
   "cell_type": "markdown",
   "id": "c72708c1-80da-444f-aefe-806b312e50eb",
   "metadata": {},
   "source": [
    "### Answering for Questions from Pipeline"
   ]
  },
  {
   "cell_type": "code",
   "execution_count": null,
   "id": "d6de7fbe-782e-4b98-985b-8f76d96967a2",
   "metadata": {},
   "outputs": [
    {
     "name": "stderr",
     "output_type": "stream",
     "text": [
      "No model was supplied, defaulted to distilbert/distilbert-base-cased-distilled-squad and revision 626af31 (https://huggingface.co/distilbert/distilbert-base-cased-distilled-squad).\n",
      "Using a pipeline without specifying a model name and revision in production is not recommended.\n",
      "C:\\Users\\Pradip\\switchdrive\\HSLU\\_Sem 4\\CTL\\venv\\Lib\\site-packages\\huggingface_hub\\file_download.py:1132: FutureWarning: `resume_download` is deprecated and will be removed in version 1.0.0. Downloads always resume when possible. If you want to force a new download, use `force_download=True`.\n",
      "  warnings.warn(\n"
     ]
    },
    {
     "data": {
      "application/vnd.jupyter.widget-view+json": {
       "model_id": "bd7881e587d1479986b429e07aa212bc",
       "version_major": 2,
       "version_minor": 0
      },
      "text/plain": [
       "config.json:   0%|          | 0.00/473 [00:00<?, ?B/s]"
      ]
     },
     "metadata": {},
     "output_type": "display_data"
    },
    {
     "name": "stderr",
     "output_type": "stream",
     "text": [
      "C:\\Users\\Pradip\\switchdrive\\HSLU\\_Sem 4\\CTL\\venv\\Lib\\site-packages\\huggingface_hub\\file_download.py:157: UserWarning: `huggingface_hub` cache-system uses symlinks by default to efficiently store duplicated files but your machine does not support them in C:\\Users\\Pradip\\.cache\\huggingface\\hub\\models--distilbert--distilbert-base-cased-distilled-squad. Caching files will still work but in a degraded version that might require more space on your disk. This warning can be disabled by setting the `HF_HUB_DISABLE_SYMLINKS_WARNING` environment variable. For more details, see https://huggingface.co/docs/huggingface_hub/how-to-cache#limitations.\n",
      "To support symlinks on Windows, you either need to activate Developer Mode or to run Python as an administrator. In order to see activate developer mode, see this article: https://docs.microsoft.com/en-us/windows/apps/get-started/enable-your-device-for-development\n",
      "  warnings.warn(message)\n"
     ]
    },
    {
     "name": "stdout",
     "output_type": "stream",
     "text": [
      "WARNING:tensorflow:From C:\\Users\\Pradip\\switchdrive\\HSLU\\_Sem 4\\CTL\\venv\\Lib\\site-packages\\tf_keras\\src\\losses.py:2976: The name tf.losses.sparse_softmax_cross_entropy is deprecated. Please use tf.compat.v1.losses.sparse_softmax_cross_entropy instead.\n",
      "\n"
     ]
    },
    {
     "data": {
      "application/vnd.jupyter.widget-view+json": {
       "model_id": "0377f221a66f49f68cab46eedb70bf1b",
       "version_major": 2,
       "version_minor": 0
      },
      "text/plain": [
       "model.safetensors:   0%|          | 0.00/261M [00:00<?, ?B/s]"
      ]
     },
     "metadata": {},
     "output_type": "display_data"
    }
   ],
   "source": [
    "question_answerer = pipeline(\"question-answering\")"
   ]
  },
  {
   "cell_type": "code",
   "execution_count": null,
   "id": "a43c224d-c722-40c1-8af8-1074c629b215",
   "metadata": {},
   "outputs": [],
   "source": [
    "# Check the results\n",
    "for context in context_list:\n",
    "    context_text = original_dict[context['id']]\n",
    "    qa_result = question_answerer(question=question, context=context_text)\n",
    "    print()\n",
    "    print(f\"Embedding score: {context['score']}\")\n",
    "    print(f\"Answer: '{qa_result['answer']}', score: {round(qa_result['score'], 4)}, start: {qa_result['start']}, end: {qa_result['end']}\")\n"
   ]
  },
  {
   "cell_type": "code",
   "execution_count": null,
   "id": "5d83cd84-23e8-4404-9101-431e3073a1dc",
   "metadata": {},
   "outputs": [],
   "source": [
    "# Find the context with the highest embedding score\n",
    "highest_score_context = max(context_list, key=lambda x: x['score'])\n",
    "highest_score_context_text = original_dict[highest_score_context['id']]\n",
    "\n",
    "# Get the QA result for the context with the highest score\n",
    "highest_score_qa_result = question_answerer(question=question, context=highest_score_context_text)\n",
    "\n",
    "# Print the QA result for the context with the highest score\n",
    "print(f\"Highest Embedding Score: {highest_score_context['score']}\")\n",
    "print(f\"Answer: '{highest_score_qa_result['answer']}', Score: {round(highest_score_qa_result['score'], 4)}, Start: {highest_score_qa_result['start']}, End: {highest_score_qa_result['end']}\")\n"
   ]
  }
 ],
 "metadata": {
  "kernelspec": {
   "display_name": "Python 3 (ipykernel)",
   "language": "python",
   "name": "python3"
  },
  "language_info": {
   "codemirror_mode": {
    "name": "ipython",
    "version": 3
   },
   "file_extension": ".py",
   "mimetype": "text/x-python",
   "name": "python",
   "nbconvert_exporter": "python",
   "pygments_lexer": "ipython3",
   "version": "3.12.2"
  }
 },
 "nbformat": 4,
 "nbformat_minor": 5
}
