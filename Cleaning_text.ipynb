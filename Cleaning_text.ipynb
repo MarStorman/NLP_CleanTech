{
 "cells": [
  {
   "cell_type": "code",
   "execution_count": 72,
   "id": "250298de",
   "metadata": {},
   "outputs": [],
   "source": [
    "import pandas as pd\n",
    "import string\n",
    "import re\n",
    "import nltk\n",
    "import spacy\n",
    "import json"
   ]
  },
  {
   "cell_type": "code",
   "execution_count": 157,
   "id": "9ceae3b9",
   "metadata": {},
   "outputs": [],
   "source": [
    "# Read the JSON file\n",
    "results_json = pd.read_json(\"bq-results-20240124-055833-1706076079048.json\", lines=True)\n",
    "\n",
    "# Read the first CSV file\n",
    "ct_media = pd.read_csv(\"cleantech_media_dataset_v2_2024-02-23.csv\")\n",
    "\n",
    "# Read the second CSV file\n",
    "ct_evaluation = pd.read_csv(\"cleantech_rag_evaluation_data_2024-02-23.csv\")\n"
   ]
  },
  {
   "cell_type": "code",
   "execution_count": 158,
   "id": "909593be",
   "metadata": {},
   "outputs": [
    {
     "name": "stdout",
     "output_type": "stream",
     "text": [
      "First few rows:\n",
      "  publication_number application_number country_code  \\\n",
      "0   US-2022239235-A1  US-202217717397-A           US   \n",
      "1   US-2022239251-A1  US-202217580956-A           US   \n",
      "2      EP-4033090-A1      EP-21152924-A           EP   \n",
      "3      EP-4033090-A1      EP-21152924-A           EP   \n",
      "4     US-11396827-B2  US-202117606042-A           US   \n",
      "\n",
      "                                     title_localized  \\\n",
      "0  [{'text': 'Adaptable DC-AC Inverter Drive Syst...   \n",
      "1  [{'text': 'System for providing the energy fro...   \n",
      "2  [{'text': 'Verfahren zum steuern einer windene...   \n",
      "3  [{'text': 'Verfahren zum steuern einer windene...   \n",
      "4  [{'text': 'Control method for optimizing solar...   \n",
      "\n",
      "                                  abstract_localized  publication_date  \\\n",
      "0  [{'text': 'Disclosed is an adaptable DC-AC inv...          20220728   \n",
      "1  [{'text': 'In accordance with an example embod...          20220728   \n",
      "2  [{'text': 'Verfahren zum Steuern einer Windene...          20220727   \n",
      "3  [{'text': 'Verfahren zum Steuern einer Windene...          20220727   \n",
      "4  [{'text': 'A control method for optimizing a s...          20220726   \n",
      "\n",
      "                                            inventor  \\\n",
      "0                                                 []   \n",
      "1                                                 []   \n",
      "2  [Schaper, Ulf, von Aswege, Enno, Gerke Funcke,...   \n",
      "3  [Schaper, Ulf, von Aswege, Enno, Gerke Funcke,...   \n",
      "4                                                 []   \n",
      "\n",
      "                                                 cpc  \n",
      "0  [{'code': 'H02M7/5395', 'inventive': True, 'fi...  \n",
      "1  [{'code': 'H02S40/38', 'inventive': True, 'fir...  \n",
      "2  [{'code': 'F03D7/0276', 'inventive': True, 'fi...  \n",
      "3  [{'code': 'F03D7/0276', 'inventive': True, 'fi...  \n",
      "4  [{'code': 'F24S50/00', 'inventive': True, 'fir...  \n"
     ]
    }
   ],
   "source": [
    "# Display the first few rows of the DataFrame\n",
    "print(\"First few rows:\")\n",
    "print(results_json.head())\n"
   ]
  },
  {
   "cell_type": "code",
   "execution_count": 159,
   "id": "ab37eb3f",
   "metadata": {},
   "outputs": [
    {
     "name": "stdout",
     "output_type": "stream",
     "text": [
      "\n",
      "Data information:\n",
      "<class 'pandas.core.frame.DataFrame'>\n",
      "RangeIndex: 30000 entries, 0 to 29999\n",
      "Data columns (total 8 columns):\n",
      " #   Column              Non-Null Count  Dtype \n",
      "---  ------              --------------  ----- \n",
      " 0   publication_number  30000 non-null  object\n",
      " 1   application_number  30000 non-null  object\n",
      " 2   country_code        30000 non-null  object\n",
      " 3   title_localized     30000 non-null  object\n",
      " 4   abstract_localized  30000 non-null  object\n",
      " 5   publication_date    30000 non-null  int64 \n",
      " 6   inventor            30000 non-null  object\n",
      " 7   cpc                 30000 non-null  object\n",
      "dtypes: int64(1), object(7)\n",
      "memory usage: 1.8+ MB\n",
      "None\n"
     ]
    }
   ],
   "source": [
    "# Display basic information about the DataFrame\n",
    "print(\"\\nData information:\")\n",
    "print(results_json.info())"
   ]
  },
  {
   "cell_type": "code",
   "execution_count": 160,
   "id": "81d54212",
   "metadata": {},
   "outputs": [
    {
     "name": "stdout",
     "output_type": "stream",
     "text": [
      "\n",
      "Summary statistics:\n",
      "       publication_date\n",
      "count      3.000000e+04\n",
      "mean       2.021843e+07\n",
      "std        3.783564e+03\n",
      "min        2.021112e+07\n",
      "25%        2.022011e+07\n",
      "50%        2.022032e+07\n",
      "75%        2.022052e+07\n",
      "max        2.022073e+07\n"
     ]
    }
   ],
   "source": [
    "# Display summary statistics for numerical columns\n",
    "print(\"\\nSummary statistics:\")\n",
    "print(results_json.describe())"
   ]
  },
  {
   "cell_type": "code",
   "execution_count": 161,
   "id": "ed8f8516",
   "metadata": {},
   "outputs": [
    {
     "name": "stdout",
     "output_type": "stream",
     "text": [
      "First few rows:\n",
      "   Unnamed: 0                                              title        date  \\\n",
      "0        1280  Qatar to Slash Emissions as LNG Expansion Adva...  2021-01-13   \n",
      "1        1281               India Launches Its First 700 MW PHWR  2021-01-15   \n",
      "2        1283              New Chapter for US-China Energy Trade  2021-01-20   \n",
      "3        1284  Japan: Slow Restarts Cast Doubt on 2030 Energy...  2021-01-22   \n",
      "4        1285     NYC Pension Funds to Divest Fossil Fuel Shares  2021-01-25   \n",
      "\n",
      "  author                                            content       domain  \\\n",
      "0    NaN  [\"Qatar Petroleum ( QP) is targeting aggressiv...  energyintel   \n",
      "1    NaN  [\"• Nuclear Power Corp. of India Ltd. ( NPCIL)...  energyintel   \n",
      "2    NaN  [\"New US President Joe Biden took office this ...  energyintel   \n",
      "3    NaN  [\"The slow pace of Japanese reactor restarts c...  energyintel   \n",
      "4    NaN  [\"Two of New York City's largest pension funds...  energyintel   \n",
      "\n",
      "                                                 url  \n",
      "0  https://www.energyintel.com/0000017b-a7dc-de4c...  \n",
      "1  https://www.energyintel.com/0000017b-a7dc-de4c...  \n",
      "2  https://www.energyintel.com/0000017b-a7dc-de4c...  \n",
      "3  https://www.energyintel.com/0000017b-a7dc-de4c...  \n",
      "4  https://www.energyintel.com/0000017b-a7dc-de4c...  \n"
     ]
    }
   ],
   "source": [
    "print(\"First few rows:\")\n",
    "print(ct_media.head())"
   ]
  },
  {
   "cell_type": "code",
   "execution_count": 162,
   "id": "42a4d573",
   "metadata": {},
   "outputs": [
    {
     "name": "stdout",
     "output_type": "stream",
     "text": [
      "First few rows:\n",
      "   example_id  question_id                                           question  \\\n",
      "0           1            1  What is the innovation behind Leclanché's new ...   \n",
      "1           2            2       What is the EU’s Green Deal Industrial Plan?   \n",
      "2           3            2       What is the EU’s Green Deal Industrial Plan?   \n",
      "3           4            3  What are the four focus areas of the EU's Gree...   \n",
      "4           5            4  When did the cooperation between GM and Honda ...   \n",
      "\n",
      "                                      relevant_chunk  \\\n",
      "0  Leclanché said it has developed an environment...   \n",
      "1  The Green Deal Industrial Plan is a bid by the...   \n",
      "2  The European counterpart to the US Inflation R...   \n",
      "3  The new plan is fundamentally focused on four ...   \n",
      "4  What caught our eye was a new hookup between G...   \n",
      "\n",
      "                                         article_url  \n",
      "0  https://www.sgvoice.net/strategy/technology/23...  \n",
      "1  https://www.sgvoice.net/policy/25396/eu-seeks-...  \n",
      "2  https://www.pv-magazine.com/2023/02/02/europea...  \n",
      "3  https://www.sgvoice.net/policy/25396/eu-seeks-...  \n",
      "4  https://cleantechnica.com/2023/05/08/general-m...  \n"
     ]
    }
   ],
   "source": [
    "print(\"First few rows:\")\n",
    "print(ct_evaluation.head())"
   ]
  },
  {
   "cell_type": "code",
   "execution_count": 163,
   "id": "f31c4fae",
   "metadata": {},
   "outputs": [],
   "source": [
    "#Drop duplicates CSV\n",
    "#ct_media.drop_duplicates(inplace=True)\n",
    "#ct_evaluation.drop_duplicates(inplace=True)\n"
   ]
  },
  {
   "cell_type": "code",
   "execution_count": 164,
   "id": "d0f4ed36",
   "metadata": {},
   "outputs": [
    {
     "name": "stdout",
     "output_type": "stream",
     "text": [
      "  publication_number application_number country_code  \\\n",
      "0   US-2022239235-A1  US-202217717397-A           US   \n",
      "1   US-2022239251-A1  US-202217580956-A           US   \n",
      "2      EP-4033090-A1      EP-21152924-A           EP   \n",
      "3      EP-4033090-A1      EP-21152924-A           EP   \n",
      "4     US-11396827-B2  US-202117606042-A           US   \n",
      "\n",
      "                                     title_localized  \\\n",
      "0  [{'text': 'Adaptable DC-AC Inverter Drive Syst...   \n",
      "1  [{'text': 'System for providing the energy fro...   \n",
      "2  [{'text': 'Verfahren zum steuern einer windene...   \n",
      "3  [{'text': 'Verfahren zum steuern einer windene...   \n",
      "4  [{'text': 'Control method for optimizing solar...   \n",
      "\n",
      "                                  abstract_localized  publication_date  \\\n",
      "0  [{'text': 'Disclosed is an adaptable DC-AC inv...          20220728   \n",
      "1  [{'text': 'In accordance with an example embod...          20220728   \n",
      "2  [{'text': 'Verfahren zum Steuern einer Windene...          20220727   \n",
      "3  [{'text': 'Verfahren zum Steuern einer Windene...          20220727   \n",
      "4  [{'text': 'A control method for optimizing a s...          20220726   \n",
      "\n",
      "                                            inventor  \\\n",
      "0                                                 []   \n",
      "1                                                 []   \n",
      "2  [Schaper, Ulf, von Aswege, Enno, Gerke Funcke,...   \n",
      "3  [Schaper, Ulf, von Aswege, Enno, Gerke Funcke,...   \n",
      "4                                                 []   \n",
      "\n",
      "                                                 cpc  \n",
      "0  [{'code': 'H02M7/5395', 'inventive': True, 'fi...  \n",
      "1  [{'code': 'H02S40/38', 'inventive': True, 'fir...  \n",
      "2  [{'code': 'F03D7/0276', 'inventive': True, 'fi...  \n",
      "3  [{'code': 'F03D7/0276', 'inventive': True, 'fi...  \n",
      "4  [{'code': 'F24S50/00', 'inventive': True, 'fir...  \n"
     ]
    }
   ],
   "source": [
    "print(results_json.head())"
   ]
  },
  {
   "cell_type": "markdown",
   "id": "35e27a1a",
   "metadata": {},
   "source": [
    "#### Change date format"
   ]
  },
  {
   "cell_type": "code",
   "execution_count": 165,
   "id": "5793d3ed",
   "metadata": {},
   "outputs": [],
   "source": [
    "# Change JSON date format\n",
    "results_json['publication_date'] = pd.to_datetime(results_json['publication_date'], format='%Y%m%d')\n"
   ]
  },
  {
   "cell_type": "markdown",
   "id": "58ea4332",
   "metadata": {},
   "source": [
    "#### Convert \"cpc\" column "
   ]
  },
  {
   "cell_type": "code",
   "execution_count": 166,
   "id": "45869b2b",
   "metadata": {},
   "outputs": [
    {
     "name": "stdout",
     "output_type": "stream",
     "text": [
      "Checking 'cpc' column:\n",
      "0    [{'code': 'H02M7/5395', 'inventive': True, 'fi...\n",
      "1    [{'code': 'H02S40/38', 'inventive': True, 'fir...\n",
      "2    [{'code': 'F03D7/0276', 'inventive': True, 'fi...\n",
      "3    [{'code': 'F03D7/0276', 'inventive': True, 'fi...\n",
      "4    [{'code': 'F24S50/00', 'inventive': True, 'fir...\n",
      "Name: cpc, dtype: object\n"
     ]
    }
   ],
   "source": [
    "# Inspect cpc column and handle it, second try #first time it worked and then it did not, so I might have a code that overwrite the column\n",
    "print(\"Checking 'cpc' column:\")\n",
    "print(results_json['cpc'].head())"
   ]
  },
  {
   "cell_type": "code",
   "execution_count": 167,
   "id": "7ac5b7f1",
   "metadata": {},
   "outputs": [
    {
     "name": "stdout",
     "output_type": "stream",
     "text": [
      "\n",
      "Verifying 'cpc' after applying extract_first_cpc function:\n",
      "0    {'code': 'H02M7/5395', 'inventive': True, 'fir...\n",
      "1    {'code': 'H02S40/38', 'inventive': True, 'firs...\n",
      "2    {'code': 'F03D7/0276', 'inventive': True, 'fir...\n",
      "3    {'code': 'F03D7/0276', 'inventive': True, 'fir...\n",
      "4    {'code': 'F24S50/00', 'inventive': True, 'firs...\n",
      "Name: cpc, dtype: object\n"
     ]
    }
   ],
   "source": [
    "# Redefine the function for extracting the first CPC entry\n",
    "def extract_first_cpc(cpc_entry):\n",
    "    if cpc_entry and isinstance(cpc_entry, list) and len(cpc_entry) > 0:\n",
    "        return cpc_entry[0]\n",
    "    return None\n",
    "\n",
    "# Apply the function to the 'cpc' column\n",
    "results_json['cpc'] = results_json['cpc'].apply(extract_first_cpc)\n",
    "\n",
    "# Verify that the function worked as expected\n",
    "print(\"\\nVerifying 'cpc' after applying extract_first_cpc function:\")\n",
    "print(results_json['cpc'].head())"
   ]
  },
  {
   "cell_type": "code",
   "execution_count": 168,
   "id": "0379a76b",
   "metadata": {},
   "outputs": [
    {
     "name": "stdout",
     "output_type": "stream",
     "text": [
      "\n",
      "Final 'cpc' related columns:\n",
      "     cpc_code cpc_inventive cpc_first cpc_tree\n",
      "0  H02M7/5395          True     False       []\n",
      "1   H02S40/38          True     False       []\n",
      "2  F03D7/0276          True      True       []\n",
      "3  F03D7/0276          True      True       []\n",
      "4   F24S50/00          True     False       []\n"
     ]
    }
   ],
   "source": [
    "# Assuming 'cpc' is now properly formatted, apply lambda functions to create new columns\n",
    "results_json['cpc_code'] = results_json['cpc'].apply(lambda x: x.get('code') if isinstance(x, dict) and 'code' in x else None)\n",
    "results_json['cpc_inventive'] = results_json['cpc'].apply(lambda x: x.get('inventive') if isinstance(x, dict) and 'inventive' in x else None)\n",
    "results_json['cpc_first'] = results_json['cpc'].apply(lambda x: x.get('first') if isinstance(x, dict) and 'first' in x else None)\n",
    "results_json['cpc_tree'] = results_json['cpc'].apply(lambda x: x.get('tree') if isinstance(x, dict) and 'tree' in x else None)\n",
    "\n",
    "# Now, let's check the new columns to ensure they contain the expected data\n",
    "print(\"\\nFinal 'cpc' related columns:\")\n",
    "print(results_json[['cpc_code', 'cpc_inventive', 'cpc_first', 'cpc_tree']].head())"
   ]
  },
  {
   "cell_type": "code",
   "execution_count": 169,
   "id": "68174f3c",
   "metadata": {},
   "outputs": [
    {
     "name": "stdout",
     "output_type": "stream",
     "text": [
      "  publication_number application_number country_code  \\\n",
      "0   US-2022239235-A1  US-202217717397-A           US   \n",
      "1   US-2022239251-A1  US-202217580956-A           US   \n",
      "2      EP-4033090-A1      EP-21152924-A           EP   \n",
      "3      EP-4033090-A1      EP-21152924-A           EP   \n",
      "4     US-11396827-B2  US-202117606042-A           US   \n",
      "\n",
      "                                     title_localized  \\\n",
      "0  [{'text': 'Adaptable DC-AC Inverter Drive Syst...   \n",
      "1  [{'text': 'System for providing the energy fro...   \n",
      "2  [{'text': 'Verfahren zum steuern einer windene...   \n",
      "3  [{'text': 'Verfahren zum steuern einer windene...   \n",
      "4  [{'text': 'Control method for optimizing solar...   \n",
      "\n",
      "                                  abstract_localized publication_date  \\\n",
      "0  [{'text': 'Disclosed is an adaptable DC-AC inv...       2022-07-28   \n",
      "1  [{'text': 'In accordance with an example embod...       2022-07-28   \n",
      "2  [{'text': 'Verfahren zum Steuern einer Windene...       2022-07-27   \n",
      "3  [{'text': 'Verfahren zum Steuern einer Windene...       2022-07-27   \n",
      "4  [{'text': 'A control method for optimizing a s...       2022-07-26   \n",
      "\n",
      "                                            inventor  \\\n",
      "0                                                 []   \n",
      "1                                                 []   \n",
      "2  [Schaper, Ulf, von Aswege, Enno, Gerke Funcke,...   \n",
      "3  [Schaper, Ulf, von Aswege, Enno, Gerke Funcke,...   \n",
      "4                                                 []   \n",
      "\n",
      "                                                 cpc    cpc_code  \\\n",
      "0  {'code': 'H02M7/5395', 'inventive': True, 'fir...  H02M7/5395   \n",
      "1  {'code': 'H02S40/38', 'inventive': True, 'firs...   H02S40/38   \n",
      "2  {'code': 'F03D7/0276', 'inventive': True, 'fir...  F03D7/0276   \n",
      "3  {'code': 'F03D7/0276', 'inventive': True, 'fir...  F03D7/0276   \n",
      "4  {'code': 'F24S50/00', 'inventive': True, 'firs...   F24S50/00   \n",
      "\n",
      "  cpc_inventive cpc_first cpc_tree  \n",
      "0          True     False       []  \n",
      "1          True     False       []  \n",
      "2          True      True       []  \n",
      "3          True      True       []  \n",
      "4          True     False       []  \n"
     ]
    }
   ],
   "source": [
    "# Verify the columns have been dropped by printing the DataFrame's head\n",
    "print(results_json.head())"
   ]
  },
  {
   "cell_type": "markdown",
   "id": "ce1bdcea",
   "metadata": {},
   "source": [
    "#### Handle Missing in \"inventor\" and \"cpc_tree\""
   ]
  },
  {
   "cell_type": "code",
   "execution_count": 170,
   "id": "45757254",
   "metadata": {},
   "outputs": [
    {
     "name": "stdout",
     "output_type": "stream",
     "text": [
      "All entries in 'cpc_tree' are empty lists or None: True\n"
     ]
    }
   ],
   "source": [
    "# Check if all entries in 'cpc_tree' are empty lists or None\n",
    "all_empty_trees = all(x == [] or x is None for x in results_json['cpc_tree'])\n",
    "print(\"All entries in 'cpc_tree' are empty lists or None:\", all_empty_trees)\n"
   ]
  },
  {
   "cell_type": "code",
   "execution_count": 171,
   "id": "67eb54e5",
   "metadata": {},
   "outputs": [],
   "source": [
    "# Drop the 'cpc_tree' column\n",
    "results_json.drop(['cpc_tree'], axis=1, inplace=True)"
   ]
  },
  {
   "cell_type": "code",
   "execution_count": 172,
   "id": "4b1b02b9",
   "metadata": {},
   "outputs": [],
   "source": [
    "# Drop the 'cpc' column\n",
    "results_json.drop(['cpc'], axis=1, inplace=True)"
   ]
  },
  {
   "cell_type": "code",
   "execution_count": 173,
   "id": "ad67d318",
   "metadata": {},
   "outputs": [
    {
     "name": "stdout",
     "output_type": "stream",
     "text": [
      "Percentage of non-empty 'inventor' entries: 63.64666666666666%\n"
     ]
    }
   ],
   "source": [
    "# Calculate the percentage of non-empty entries in 'inventor'\n",
    "non_empty_inventors = results_json['inventor'].apply(bool).mean() * 100\n",
    "print(f\"Percentage of non-empty 'inventor' entries: {non_empty_inventors}%\")\n"
   ]
  },
  {
   "cell_type": "code",
   "execution_count": 174,
   "id": "e81452ea",
   "metadata": {},
   "outputs": [
    {
     "name": "stdout",
     "output_type": "stream",
     "text": [
      "                                            inventor  num_inventors  \\\n",
      "0                                               None              0   \n",
      "1                                               None              0   \n",
      "2  [Schaper, Ulf, Von Aswege, Enno, Gerke Funcke,...              3   \n",
      "3  [Schaper, Ulf, Von Aswege, Enno, Gerke Funcke,...              3   \n",
      "4                                               None              0   \n",
      "\n",
      "   multiple_inventors  \n",
      "0                   0  \n",
      "1                   0  \n",
      "2                   1  \n",
      "3                   1  \n",
      "4                   0  \n",
      "Distribution of number of inventors:\n",
      "0     10906\n",
      "1      6771\n",
      "2      2636\n",
      "3      2551\n",
      "4      1741\n",
      "5      1595\n",
      "6      1155\n",
      "7       799\n",
      "8       543\n",
      "9       328\n",
      "10      287\n",
      "11      157\n",
      "12      134\n",
      "13       92\n",
      "15       86\n",
      "14       70\n",
      "16       31\n",
      "18       27\n",
      "17       24\n",
      "20       22\n",
      "21       18\n",
      "19       14\n",
      "25        4\n",
      "22        3\n",
      "24        2\n",
      "38        2\n",
      "29        2\n",
      "Name: num_inventors, dtype: int64\n"
     ]
    }
   ],
   "source": [
    "# Standardize the names in the 'inventor' column and handle missing data\n",
    "results_json['inventor'] = results_json['inventor'].apply(lambda x: [name.strip().title() for name in x] if x else None)\n",
    "\n",
    "# Create a new column for the count of inventors\n",
    "results_json['num_inventors'] = results_json['inventor'].apply(lambda x: len(x) if x else 0)\n",
    "\n",
    "# Create a binary indicator for multiple inventors\n",
    "results_json['multiple_inventors'] = results_json['num_inventors'].apply(lambda x: 1 if x > 1 else 0)\n",
    "\n",
    "# Check the results\n",
    "print(results_json[['inventor', 'num_inventors', 'multiple_inventors']].head())\n",
    "\n",
    "# Analyze the distribution of the number of inventors\n",
    "print(\"Distribution of number of inventors:\")\n",
    "print(results_json['num_inventors'].value_counts())"
   ]
  },
  {
   "cell_type": "markdown",
   "id": "8ee4b40d",
   "metadata": {},
   "source": [
    "#### Process publication and application number columns"
   ]
  },
  {
   "cell_type": "code",
   "execution_count": 175,
   "id": "461b71c1",
   "metadata": {},
   "outputs": [
    {
     "name": "stdout",
     "output_type": "stream",
     "text": [
      "Number of null entries in 'country_code': 0\n"
     ]
    }
   ],
   "source": [
    "# Check for null values in 'country_code', to see if I can safely remove codes integrated in publication adn application column\n",
    "null_country_codes = results_json['country_code'].isnull().sum()\n",
    "print(f\"Number of null entries in 'country_code': {null_country_codes}\")\n"
   ]
  },
  {
   "cell_type": "code",
   "execution_count": 176,
   "id": "85ba0998",
   "metadata": {},
   "outputs": [
    {
     "name": "stdout",
     "output_type": "stream",
     "text": [
      "  publication_number application_number\n",
      "0         2022239235       202217717397\n",
      "1         2022239251       202217580956\n",
      "2            4033090           21152924\n",
      "3            4033090           21152924\n",
      "4           11396827       202117606042\n"
     ]
    }
   ],
   "source": [
    "import re\n",
    "\n",
    "# Define a function to remove the prefix and suffix\n",
    "def remove_prefix_suffix(text):\n",
    "    # Remove the country code prefix\n",
    "    text = re.sub(r'^[A-Za-z]+-', '', text)\n",
    "    # Remove any suffix that starts with a dash after the numeric sequence\n",
    "    text = re.sub(r'-.+$', '', text)\n",
    "    return text\n",
    "\n",
    "# Apply the function to the publication and application number columns\n",
    "results_json['publication_number'] = results_json['publication_number'].apply(remove_prefix_suffix)\n",
    "results_json['application_number'] = results_json['application_number'].apply(remove_prefix_suffix)\n",
    "\n",
    "# Display the DataFrame to confirm the changes\n",
    "print(results_json[['publication_number', 'application_number']].head())"
   ]
  },
  {
   "cell_type": "markdown",
   "id": "3ac787ec",
   "metadata": {},
   "source": [
    "### Text cleaning "
   ]
  },
  {
   "cell_type": "code",
   "execution_count": 183,
   "id": "b5c24614",
   "metadata": {},
   "outputs": [
    {
     "name": "stdout",
     "output_type": "stream",
     "text": [
      "0\n",
      "0\n"
     ]
    }
   ],
   "source": [
    "import pandas as pd\n",
    "\n",
    "# Assuming 'results_json' is your DataFrame\n",
    "# Check for null values in specific columns (adjust column names as per your DataFrame)\n",
    "print(results_json['abstract_text'].isnull().sum())\n",
    "print(results_json['title_text'].isnull().sum())\n"
   ]
  },
  {
   "cell_type": "code",
   "execution_count": 184,
   "id": "8ee0e31f",
   "metadata": {},
   "outputs": [
    {
     "name": "stdout",
     "output_type": "stream",
     "text": [
      "Number of effectively empty abstracts: 11775\n",
      "Number of effectively empty titles: 13554\n"
     ]
    }
   ],
   "source": [
    "# Check for empty or whitespace-only strings\n",
    "empty_abstracts_count = results_json[results_json['abstract_text'].apply(lambda x: x.strip() == '')].shape[0]\n",
    "empty_titles_count = results_json[results_json['title_text'].apply(lambda x: x.strip() == '')].shape[0]\n",
    "\n",
    "print(f\"Number of effectively empty abstracts: {empty_abstracts_count}\")\n",
    "print(f\"Number of effectively empty titles: {empty_titles_count}\")\n"
   ]
  },
  {
   "cell_type": "code",
   "execution_count": 185,
   "id": "720f137c",
   "metadata": {},
   "outputs": [
    {
     "name": "stdout",
     "output_type": "stream",
     "text": [
      "Sample entries from abstract_text:\n",
      "5     \n",
      "9     \n",
      "14    \n",
      "15    \n",
      "19    \n",
      "Name: abstract_text, dtype: object\n",
      "Sample entries from title_text:\n",
      "9     \n",
      "10    \n",
      "12    \n",
      "13    \n",
      "22    \n",
      "Name: title_text, dtype: object\n"
     ]
    }
   ],
   "source": [
    "# Display some samples of entries that might be causing zero tokens\n",
    "print(\"Sample entries from abstract_text:\")\n",
    "print(results_json[results_json['abstract_text'].apply(lambda x: x.strip() == '')]['abstract_text'].head())\n",
    "\n",
    "print(\"Sample entries from title_text:\")\n",
    "print(results_json[results_json['title_text'].apply(lambda x: x.strip() == '')]['title_text'].head())\n"
   ]
  },
  {
   "cell_type": "code",
   "execution_count": 177,
   "id": "bac3df38",
   "metadata": {},
   "outputs": [
    {
     "name": "stdout",
     "output_type": "stream",
     "text": [
      "                                       abstract_text  \\\n",
      "0  Disclosed is an adaptable DC-AC inverter syste...   \n",
      "1  In accordance with an example embodiment, a so...   \n",
      "2  Verfahren zum Steuern einer Windenergieanlage ...   \n",
      "3  Verfahren zum Steuern einer Windenergieanlage ...   \n",
      "4  A control method for optimizing a solar-to-pow...   \n",
      "\n",
      "                                          title_text  \n",
      "0  Adaptable DC-AC Inverter Drive System and Oper...  \n",
      "1  System for providing the energy from a single ...  \n",
      "2      Verfahren zum steuern einer windenergieanlage  \n",
      "3      Verfahren zum steuern einer windenergieanlage  \n",
      "4  Control method for optimizing solar-to-power e...  \n"
     ]
    }
   ],
   "source": [
    "def extract_text_from_json(row):\n",
    "    if row and isinstance(row, list):\n",
    "        try:\n",
    "            # Extract the 'text' part from the first dictionary in the list\n",
    "            return row[0]['text']\n",
    "        except (IndexError, KeyError):\n",
    "            # Return None or some default value if there's an error in parsing\n",
    "            return None\n",
    "    return None\n",
    "\n",
    "# Applying the updated function to 'abstract_localized' and 'title_localized' to extract the 'text' part\n",
    "results_json['abstract_text'] = results_json['abstract_localized'].apply(extract_text_from_json)\n",
    "results_json['title_text'] = results_json['title_localized'].apply(extract_text_from_json)\n",
    "\n",
    "# Drop the original columns if they are no longer needed\n",
    "results_json.drop(columns=['abstract_localized', 'title_localized'], inplace=True)\n",
    "\n",
    "# Inspect the cleaned columns\n",
    "print(results_json[['abstract_text', 'title_text']].head())\n"
   ]
  },
  {
   "cell_type": "code",
   "execution_count": 178,
   "id": "846754e4",
   "metadata": {},
   "outputs": [
    {
     "name": "stdout",
     "output_type": "stream",
     "text": [
      "                                       abstract_text  \\\n",
      "0  disclosed is an adaptable dc ac inverter syste...   \n",
      "1  in accordance with an example embodiment a sol...   \n",
      "2  verfahren zum steuern einer windenergieanlage ...   \n",
      "3  verfahren zum steuern einer windenergieanlage ...   \n",
      "4  a control method for optimizing a solar to pow...   \n",
      "\n",
      "                                          title_text  \n",
      "0  adaptable dc ac inverter drive system and oper...  \n",
      "1  system for providing the energy from a single ...  \n",
      "2      verfahren zum steuern einer windenergieanlage  \n",
      "3      verfahren zum steuern einer windenergieanlage  \n",
      "4  control method for optimizing solar to power e...  \n"
     ]
    }
   ],
   "source": [
    "import re\n",
    "\n",
    "def clean_text(text):\n",
    "    if pd.isna(text):\n",
    "        return \"\"\n",
    "    # Convert to lower case\n",
    "    text = text.lower()\n",
    "    # Remove HTML tags\n",
    "    text = re.sub(r'<[^>]+>', '', text)\n",
    "    # Remove unwanted characters, but preserve hyphens within words\n",
    "    text = re.sub(r'[^a-z\\s-]', '', text)\n",
    "    # Clean up any stray hyphens that do not form part of a hyphenated word\n",
    "    text = re.sub(r'\\b-\\b', ' ', text)\n",
    "    # Remove multiple spaces and trim\n",
    "    text = re.sub(r'\\s+', ' ', text).strip()\n",
    "    return text\n",
    "\n",
    "# Apply cleaning function to both columns\n",
    "results_json['abstract_text'] = results_json['abstract_text'].apply(clean_text)\n",
    "results_json['title_text'] = results_json['title_text'].apply(clean_text)\n",
    "\n",
    "# Print cleaned text for inspection\n",
    "print(results_json[['abstract_text', 'title_text']].head())"
   ]
  },
  {
   "cell_type": "code",
   "execution_count": 179,
   "id": "f2960732",
   "metadata": {},
   "outputs": [
    {
     "name": "stdout",
     "output_type": "stream",
     "text": [
      "Unique characters in abstracts: {'q', 'e', 'h', 'k', 'u', 'v', 'o', 'a', 'x', 'b', 'n', 'l', 's', 'g', 'c', 'y', 'd', 'w', 'f', ' ', 'z', 'j', 'r', 'i', 'p', '-', 't', 'm'}\n",
      "Unique characters in titles: {'q', 'e', 'h', 'k', 'u', 'v', 'o', 'a', 'x', 'n', 'b', 's', 'l', 'g', 'c', 'y', 'd', 'w', 'f', ' ', 'z', 'j', 'r', 'i', 'p', '-', 't', 'm'}\n",
      "Token counts in abstracts: [67, 92, 208, 208, 166, 0, 1, 72, 1, 0, 1, 1, 210, 163, 0, 0, 1, 227, 126, 0, 0, 0, 188, 0, 0, 210, 0, 0, 179, 0, 204, 0, 0, 205, 0, 0, 246, 0, 255, 150, 0, 186, 0, 213, 0, 0, 1, 0, 0, 180, 0, 169, 146, 0, 282, 0, 0, 1, 0, 0, 0, 0, 200, 0, 168, 219, 0, 0, 217, 134, 0, 0, 193, 0, 223, 202, 114, 0, 0, 0, 0, 1, 187, 180, 0, 0, 217, 169, 0, 1, 0, 1, 1, 0, 1, 0, 0, 0, 0, 0, 282, 1, 0, 179, 0, 0, 0, 0, 0, 0, 282, 0, 0, 0, 235, 186, 1, 210, 202, 0, 146, 217, 1, 231, 1, 217, 0, 181, 0, 0, 0, 0, 0, 0, 0, 250, 0, 186, 200, 180, 212, 0, 231, 222, 0, 1, 0, 200, 227, 205, 0, 0, 0, 186, 168, 0, 5, 213, 150, 121, 0, 0, 266, 255, 0, 97, 0, 1, 72, 121, 251, 1, 0, 1, 226, 0, 5, 0, 0, 0, 217, 0, 1, 0, 0, 0, 0, 0, 189, 0, 0, 188, 225, 198, 0, 217, 1, 189, 0, 223, 0, 1, 0, 0, 0, 0, 187, 246, 0, 0, 0, 0, 0, 0, 97, 0, 0, 0, 217, 134, 266, 222, 186, 0, 0, 114, 136, 0, 0, 0, 0, 0, 187, 0, 226, 0, 212, 210, 212, 0, 181, 210, 114, 0, 0, 0, 0, 188, 159, 0, 0, 1, 0, 0, 0, 0, 0, 0, 0, 278, 0, 200, 219, 0, 204, 223, 193, 250, 147, 0, 180, 210, 0, 0, 198, 223, 1, 0, 0, 251, 0, 0, 0, 168, 136, 230, 278, 1, 0, 225, 1, 0, 212, 0, 7, 200, 186, 200, 186, 235, 0, 0, 7, 0, 0, 163, 0, 0, 185, 0, 0, 147, 210, 0, 0, 186, 0, 1, 185, 0, 0, 0, 0, 0, 230, 0, 0, 0, 213, 0, 0, 0, 1, 147, 0, 0, 0, 0, 0, 126, 0, 0, 0, 0, 0, 159, 1, 0, 213, 0, 130, 10, 103, 0, 183, 0, 139, 149, 0, 41, 113, 100, 10, 139, 10, 100, 95, 10, 212, 0, 113, 103, 10, 163, 158, 158, 158, 158, 149, 10, 158, 163, 163, 163, 130, 10, 163, 113, 10, 41, 95, 158, 113, 10, 0, 163, 0, 143, 196, 196, 186, 196, 196, 196, 196, 191, 231, 217, 235, 203, 147, 210, 203, 162, 67, 191, 109, 220, 204, 205, 54, 185, 222, 209, 210, 121, 213, 105, 237, 223, 230, 176, 80, 203, 231, 227, 237, 144, 235, 209, 54, 193, 221, 221, 191, 166, 132, 227, 219, 182, 78, 211, 231, 215, 221, 201, 80, 206, 240, 219, 239, 205, 252, 213, 203, 226, 199, 121, 239, 193, 200, 200, 173, 166, 240, 178, 165, 109, 227, 123, 226, 226, 228, 214, 195, 54, 167, 186, 182, 240, 215, 200, 207, 217, 166, 164, 183, 237, 196, 251, 228, 223, 223, 155, 236, 223, 176, 234, 226, 236, 223, 239, 176, 105, 233, 235, 191, 173, 143, 147, 199, 215, 209, 219, 223, 214, 176, 73, 240, 215, 181, 210, 186, 215, 162, 143, 200, 209, 143, 73, 223, 149, 173, 236, 185, 215, 223, 174, 227, 73, 216, 162, 149, 181, 164, 200, 182, 78, 155, 240, 192, 229, 237, 220, 223, 165, 236, 224, 178, 200, 212, 168, 214, 129, 67, 210, 195, 212, 191, 212, 201, 223, 206, 257, 173, 237, 213, 237, 181, 196, 174, 215, 223, 210, 191, 204, 231, 235, 242, 233, 219, 132, 173, 162, 143, 221, 242, 203, 239, 192, 222, 215, 229, 208, 226, 78, 223, 224, 206, 192, 213, 207, 240, 183, 223, 192, 211, 193, 167, 234, 252, 165, 227, 123, 200, 214, 244, 206, 129, 215, 199, 215, 237, 165, 166, 226, 208, 150, 209, 150, 231, 206, 168, 251, 206, 226, 216, 193, 209, 257, 182, 244, 144, 230, 212, 185, 164, 214, 178, 146, 163, 0, 0, 143, 163, 146, 152, 214, 144, 185, 0, 0, 222, 0, 133, 0, 222, 0, 233, 185, 133, 1, 0, 0, 191, 0, 0, 210, 0, 218, 0, 0, 163, 177, 160, 222, 1, 151, 1, 0, 202, 0, 0, 191, 0, 234, 227, 218, 222, 147, 243, 239, 178, 218, 0, 147, 0, 131, 1, 0, 0, 0, 213, 0, 0, 163, 214, 0, 98, 247, 1, 194, 119, 197, 182, 205, 0, 0, 1, 143, 204, 0, 151, 196, 0, 0, 0, 0, 0, 207, 210, 0, 0, 213, 0, 144, 1, 0, 0, 0, 0, 176, 108, 119, 0, 144, 201, 98, 114, 0, 219, 201, 133, 222, 0, 204, 0, 0, 159, 1, 169, 1, 179, 0, 0, 155, 0, 0, 1, 106, 233, 0, 0, 213, 0, 1, 0, 0, 0, 0, 190, 179, 1, 194, 197, 0, 0, 0, 0, 185, 149, 0, 0, 197, 0, 189, 213, 0, 200, 0, 176, 210, 106, 193, 242, 200, 1, 0, 1, 0, 190, 0, 0, 131, 189, 149, 182, 210, 0, 222, 1, 164, 0, 0, 1, 142, 0, 205, 0, 0, 243, 208, 144, 196, 0, 152, 152, 0, 239, 108, 196, 191, 186, 0, 1, 142, 191, 0, 219, 151, 0, 252, 0, 0, 0, 133, 86, 133, 151, 160, 252, 0, 1, 0, 0, 189, 146, 0, 0, 0, 136, 193, 0, 0, 196, 218, 213, 0, 152, 227, 133, 151, 1, 234, 0, 186, 0, 169, 0, 196, 1, 0, 155, 0, 0, 0, 210, 159, 0, 208, 0, 0, 222, 0, 185, 210, 210, 210, 210, 119, 0, 194, 177, 0, 222, 0, 136, 86, 202, 202, 242, 1, 0, 207, 247, 114, 0, 207, 142, 213, 0, 214, 0, 146, 0, 234, 0, 189, 119, 163, 163, 119, 119, 141, 163, 141, 189, 172, 163, 189, 119, 163, 119, 189, 189, 119, 189, 163, 52, 0, 52, 52, 52, 52, 52, 0, 204, 0, 124, 0, 0, 0, 194, 0, 242, 0, 177, 1, 1, 0, 0, 245, 0, 0, 0, 203, 0, 1, 160, 1, 0, 0, 0, 122, 0, 0, 0, 0, 1, 224, 0, 0, 1, 194, 196, 0, 205, 191, 134, 0, 0, 0, 0, 229, 1, 0, 0, 0, 220, 177, 0, 1, 135, 227, 124, 0, 0, 0, 0, 144, 138, 0, 74, 74, 0, 223, 0, 154, 0, 185, 0, 136, 0, 185, 0, 0, 0, 207, 0, 0, 0, 0, 205, 0, 0, 1, 0, 283, 199, 201, 0, 207, 1, 198, 205, 165, 0, 242, 0, 1, 1, 0, 0, 140, 1, 199, 72, 0, 155, 242, 0, 163, 222, 0, 0, 0, 0, 0, 222, 0, 236, 138, 191, 165, 128, 0, 1, 0, 0, 165, 0, 170, 134, 0, 0, 222, 0, 163, 0, 0, 203, 0, 160, 236, 0, 0, 0, 0, 0, 0, 0, 0, 0, 0, 245, 0, 1, 222, 163, 1, 0, 155, 0, 0, 1, 0, 229, 0, 1, 1, 1, 207, 0, 0, 0, 144, 0, 0, 1, 0, 0, 136, 216, 217, 0, 1, 164, 0, 220, 0, 215, 165, 1, 0, 0, 0, 177, 164, 0, 0, 136, 1, 0, 230, 219, 1, 242, 0, 72, 1, 1, 0, 1, 204, 199, 0, 0, 201, 203, 0, 128, 222, 1, 196, 0, 1, 0, 0, 207, 0, 165, 1, 188, 0, 0, 0, 0, 0, 188, 0, 200, 1, 0, 180, 196, 0, 0, 217, 215, 207, 0, 1, 220, 242, 230, 0, 1, 0, 0, 0, 196, 0, 0, 0, 0, 201, 0, 189, 0, 1, 144, 205, 138, 186, 0, 0, 0, 0, 0, 222, 138, 0, 170, 207, 206, 0, 0, 0, 0, 200, 0, 0, 0, 236, 1, 216, 0, 0, 229, 0, 0, 226, 246, 0, 283, 0, 0, 0, 221, 203, 217, 177, 0, 221, 160, 140, 0, 0, 0, 138, 0, 97, 189, 0, 0, 0, 242, 198, 207, 1, 0, 119, 220, 0, 207, 206, 0, 199, 0, 0, 185, 1, 219, 0, 0, 1, 1, 0, 0, 1, 160, 0, 1, 177, 0, 1, 0, 0, 227, 1, 0, 0, 0, 119, 0, 0, 0, 226, 1, 199, 0, 236, 0, 0, 0, 223, 0, 0, 0, 0, 154, 1, 186, 0, 246, 0, 0, 0, 207, 138, 119, 0, 0, 0, 1, 0, 1, 135, 1, 229, 122, 0, 207, 0, 0, 0, 1, 0, 185, 0, 1, 0, 177, 180, 207, 135, 97, 224, 1, 207, 220, 0, 229, 236, 0, 194, 212, 225, 0, 230, 0, 0, 0, 0, 195, 0, 241, 79, 0, 0, 186, 233, 0, 0, 173, 85, 65, 233, 92, 197, 0, 140, 0, 0, 0, 1, 0, 246, 185, 152, 140, 207, 0, 95, 0, 1, 1, 152, 203, 175, 0, 128, 1, 230, 0, 1, 0, 184, 240, 0, 215, 0, 202, 0, 225, 0, 0, 0, 0, 197, 151, 220, 1, 0, 0, 1, 1, 0, 0, 0, 0, 104, 0, 187, 128, 200, 240, 220, 223, 1, 184, 0, 187, 186, 0, 0, 202, 0, 281, 0, 189, 1, 0, 0, 0, 187, 207, 226, 0, 0, 189, 0, 1, 151, 1, 183, 95, 0, 226, 0, 0, 0, 240, 0, 0, 1, 65, 265, 0, 0, 189, 0, 1, 187, 200, 0, 1, 129, 0, 0, 185, 0, 254, 0, 134, 231, 0, 0, 0, 1, 0, 212, 0, 144, 0, 104, 231, 281, 264, 187, 0, 0, 1, 0, 220, 0, 0, 0, 126, 152, 224, 161, 223, 0, 114, 193, 0, 241, 0, 215, 144, 196, 0, 1, 0, 0, 237, 0, 65, 0, 224, 196, 132, 0, 194, 215, 193, 193, 79, 0, 134, 0, 0, 0, 79, 223, 0, 226, 0, 222, 1, 0, 0, 226, 265, 207, 0, 169, 0, 1, 1, 141, 0, 212, 200, 246, 0, 132, 0, 1, 202, 0, 0, 129, 200, 0, 193, 0, 0, 193, 0, 0, 1, 0, 212, 0, 0, 152, 230, 212, 203, 94, 1, 1, 0, 0, 0, 193, 186, 1, 0, 0, 1, 187, 169, 92, 220, 0, 193, 0, 0, 212, 203, 0, 226, 0, 152, 241, 230, 0, 0, 237, 195, 226, 233, 186, 230, 264, 203, 0, 114, 212, 204, 223, 0, 1, 0, 0, 1, 197, 200, 0, 246, 0, 1, 0, 223, 0, 197, 225, 171, 186, 94, 241, 0, 1, 194, 1, 1, 175, 265, 200, 222, 0, 183, 171, 0, 0, 0, 0, 85, 173, 0, 204, 0, 0, 1, 1, 0, 0, 126, 254, 141, 161, 0, 214, 306, 306, 153, 321, 214, 260, 86, 138, 110, 306, 198, 153, 214, 260, 214, 181, 138, 181, 86, 86, 138, 86, 214, 242, 86, 153, 306, 214, 260, 306, 321, 198, 86, 260, 306, 145, 153, 145, 260, 260, 321, 138, 181, 321, 181, 110, 92, 0, 92, 92, 40, 186, 186, 186, 126, 126, 126, 40, 40, 40, 92, 92, 126, 186, 92, 186, 126, 40, 126, 186, 40, 234, 59, 230, 161, 200, 248, 287, 216, 180, 287, 211, 216, 256, 239, 149, 224, 183, 230, 216, 200, 197, 163, 191, 237, 251, 201, 196, 239, 112, 189, 197, 183, 144, 163, 148, 250, 227, 216, 206, 174, 165, 1, 119, 187, 151, 109, 257, 186, 101, 146, 162, 183, 287, 185, 145, 231, 223, 242, 123, 184, 152, 226, 199, 241, 215, 197, 184, 101, 222, 102, 100, 207, 201, 127, 189, 204, 193, 216, 245, 223, 216, 222, 91, 196, 121, 184, 167, 200, 154, 199, 181, 208, 234, 199, 174, 201, 181, 213, 160, 184, 174, 135, 213, 242, 214, 127, 245, 200, 0, 201, 241, 129, 154, 200, 225, 113, 206, 109, 224, 0, 83, 256, 193, 203, 144, 223, 224, 169, 219, 206, 217, 187, 204, 186, 149, 197, 194, 136, 234, 198, 158, 141, 102, 123, 215, 200, 197, 162, 151, 256, 198, 205, 187, 203, 89, 146, 187, 188, 157, 121, 191, 185, 135, 202, 217, 217, 235, 160, 112, 245, 233, 129, 240, 169, 59, 251, 152, 89, 213, 112, 225, 222, 82, 184, 216, 226, 213, 101, 199, 200, 228, 208, 238, 235, 238, 101, 151, 203, 236, 228, 209, 242, 161, 193, 238, 235, 141, 133, 145, 200, 162, 199, 227, 256, 217, 174, 222, 112, 193, 211, 223, 135, 138, 197, 205, 214, 175, 227, 204, 135, 211, 206, 188, 151, 230, 225, 211, 223, 181, 200, 209, 151, 211, 233, 187, 199, 210, 199, 177, 230, 230, 138, 210, 165, 213, 214, 250, 242, 226, 199, 68, 223, 177, 231, 165, 216, 117, 132, 236, 149, 203, 200, 209, 210, 213, 240, 201, 216, 1, 223, 227, 235, 91, 223, 201, 186, 225, 199, 233, 216, 244, 227, 119, 200, 206, 216, 220, 175, 226, 223, 186, 136, 169, 181, 194, 100, 257, 245, 238, 204, 219, 165, 237, 162, 238, 200, 113, 205, 227, 244, 59, 197, 222, 200, 208, 187, 187, 135, 157, 203, 100, 151, 217, 209, 174, 207, 197, 158, 215, 148, 165, 241, 210, 215, 209, 211, 230, 167, 222, 203, 201, 155, 133, 219, 82, 250, 236, 217, 117, 1, 181, 83, 182, 146, 132, 182, 213, 220, 68, 248, 180, 202, 165, 223, 201, 250, 155, 1, 215, 184, 165, 123, 233, 206, 211, 59, 224, 188, 126, 190, 172, 208, 200, 168, 218, 93, 154, 203, 93, 154, 261, 216, 0, 215, 211, 78, 239, 189, 208, 185, 154, 234, 179, 146, 207, 220, 171, 213, 234, 220, 162, 190, 226, 126, 177, 105, 198, 1, 168, 220, 235, 281, 140, 236, 179, 219, 0, 192, 236, 163, 212, 220, 198, 219, 159, 193, 185, 138, 213, 195, 169, 124, 146, 126, 160, 172, 165, 141, 257, 0, 206, 162, 160, 151, 219, 187, 173, 231, 180, 0, 215, 201, 93, 269, 98, 222, 216, 1, 208, 205, 131, 206, 216, 57, 160, 221, 156, 234, 179, 195, 205, 220, 193, 171, 194, 200, 1, 98, 188, 123, 235, 1, 227, 94, 204, 281, 242, 189, 215, 221, 210, 256, 94, 217, 1, 181, 185, 281, 187, 0, 215, 203, 261, 200, 213, 110, 173, 216, 276, 168, 121, 265, 208, 222, 145, 0, 172, 80, 212, 177, 222, 125, 199, 168, 209, 276, 140, 251, 170, 222, 161, 0, 155, 208, 207, 103, 223, 94, 235, 218, 204, 220, 209, 181, 227, 193, 171, 233, 124, 225, 212, 163, 233, 265, 234, 160, 234, 168, 154, 206, 0, 201, 180, 199, 57, 193, 168, 231, 154, 166, 211, 208, 0, 204, 183, 203, 211, 239, 205, 164, 188, 189, 198, 223, 185, 226, 223, 234, 0, 206, 185, 165, 198, 256, 200, 172, 220, 1, 210, 196, 163, 78, 225, 138, 146, 171, 194, 0, 257, 200, 203, 234, 209, 204, 234, 121, 131, 98, 208, 208, 155, 211, 110, 212, 154, 117, 189, 209, 141, 221, 129, 200, 222, 217, 199, 222, 208, 226, 0, 159, 282, 218, 93, 239, 191, 0, 211, 154, 0, 251, 161, 208, 80, 235, 0, 205, 265, 64, 183, 234, 166, 269, 239, 256, 194, 162, 179, 219, 196, 218, 189, 223, 211, 205, 220, 164, 0, 195, 0, 103, 221, 123, 154, 64, 105, 1, 156, 117, 125, 169, 217, 0, 170, 146, 179, 0, 154, 103, 222, 162, 0, 276, 213, 193, 234, 219, 226, 204, 189, 234, 265, 168, 151, 215, 234, 188, 211, 162, 242, 192, 200, 191, 219, 239, 205, 217, 213, 194, 98, 222, 129, 0, 282, 199, 227, 208, 0, 151, 0, 151, 169, 85, 0, 0, 85, 85, 215, 0, 137, 0, 0, 53, 215, 137, 85, 337, 85, 0, 53, 337, 85, 337, 215, 171, 215, 215, 337, 137, 169, 0, 215, 0, 169, 0, 0, 0, 171, 53, 137, 0, 0, 169, 137, 171, 171, 171, 53, 171, 0, 215, 137, 0, 0, 215, 140, 131, 180, 180, 131, 131, 131, 180, 131, 140, 140, 140, 140, 131, 180, 180, 140, 180, 0, 231, 230, 173, 198, 230, 171, 224, 222, 207, 222, 218, 179, 222, 185, 231, 151, 213, 151, 171, 156, 0, 234, 151, 191, 254, 221, 238, 209, 170, 183, 157, 152, 208, 232, 185, 158, 144, 204, 238, 152, 207, 221, 260, 221, 92, 174, 0, 204, 242, 211, 183, 207, 156, 218, 155, 144, 199, 258, 221, 173, 187, 226, 174, 82, 194, 227, 159, 0, 185, 236, 212, 174, 205, 263, 237, 196, 207, 200, 158, 145, 217, 206, 204, 217, 126, 219, 139, 144, 236, 260, 151, 171, 1, 169, 145, 0, 199, 155, 156, 222, 216, 200, 179, 137, 95, 230, 208, 263, 165, 145, 151, 82, 215, 217, 195, 230, 180, 184, 210, 207, 0, 239, 154, 156, 235, 218, 181, 191, 124, 215, 198, 217, 171, 227, 196, 170, 197, 126, 215, 230, 215, 1, 185, 196, 187, 225, 177, 197, 172, 130, 144, 156, 219, 221, 0, 101, 146, 0, 158, 265, 222, 208, 181, 191, 148, 205, 197, 203, 265, 215, 110, 254, 217, 180, 221, 219, 101, 210, 155, 181, 219, 198, 208, 137, 207, 0, 207, 180, 110, 143, 181, 181, 202, 214, 157, 209, 242, 208, 236, 198, 226, 230, 210, 221, 179, 203, 204, 199, 210, 208, 205, 231, 202, 244, 145, 173, 174, 212, 197, 166, 202, 194, 181, 205, 0, 202, 163, 186, 0, 0, 206, 208, 117, 212, 187, 230, 207, 184, 163, 244, 231, 182, 217, 235, 144, 166, 232, 95, 0, 183, 165, 210, 238, 144, 183, 207, 148, 207, 82, 219, 181, 193, 206, 159, 193, 212, 182, 0, 219, 263, 217, 117, 197, 221, 230, 207, 130, 142, 232, 165, 227, 1, 92, 204, 194, 211, 170, 166, 227, 208, 191, 154, 222, 222, 192, 258, 189, 187, 151, 156, 171, 144, 169, 195, 185, 155, 146, 205, 221, 181, 200, 172, 199, 208, 217, 204, 218, 237, 166, 124, 158, 165, 0, 232, 192, 211, 204, 216, 180, 213, 82, 173, 212, 126, 196, 142, 156, 143, 232, 238, 163, 227, 197, 200, 186, 225, 202, 198, 177, 171, 214, 0, 155, 171, 180, 239, 156, 198, 183, 204, 139, 193, 170, 202, 224, 234, 189, 0, 1, 154, 0, 129, 108, 234, 0, 201, 0, 0, 1, 153, 120, 1, 179, 173, 0, 1, 0, 0, 241, 175, 222, 152, 0, 192, 1, 0, 0, 0, 1, 136, 0, 136, 1, 190, 231, 125, 255, 151, 1, 231, 209, 1, 0, 0, 228, 129, 0, 0, 1, 179, 0, 0, 0, 217, 0, 0, 0, 0, 0, 154, 0, 142, 122, 210, 129, 0, 220, 1, 192, 169, 193, 0, 116, 129, 209, 0, 0, 0, 0, 0, 1, 0, 0, 217, 0, 164, 0, 239, 212, 0, 0, 190, 255, 212, 122, 0, 0, 202, 0, 0, 0, 0, 1, 0, 2, 202, 0, 212, 0, 0, 0, 0, 0, 1, 0, 0, 122, 0, 170, 0, 232, 100, 136, 0, 0, 0, 0, 142, 0, 165, 0, 0, 159, 1, 0, 190, 0, 226, 288, 0, 1, 0, 1, 217, 157, 0, 190, 0, 199, 193, 0, 1, 220, 1, 136, 147, 153, 212, 0, 125, 107, 100, 0, 0, 136, 0, 1, 0, 0, 165, 1, 0, 1, 120, 0, 107, 0, 199, 0, 0, 201, 205, 0, 0, 202, 1, 0, 0, 0, 1, 0, 116, 232, 152, 236, 202, 0, 0, 0, 0, 206, 157, 0, 0, 0, 0, 1, 0, 241, 0, 236, 228, 225, 193, 0, 120, 173, 0, 202, 225, 0, 0, 173, 0, 0, 116, 151, 181, 191, 0, 0, 188, 107, 186, 147, 186, 217, 1, 169, 198, 0, 206, 248, 0, 154, 0, 221, 0, 173, 202, 151, 1, 0, 163, 0, 0, 0, 226, 0, 159, 1, 221, 0, 226, 1, 0, 217, 232, 0, 151, 1, 173, 1, 0, 234, 227, 0, 0, 239, 0, 0, 0, 1, 0, 226, 222, 0, 0, 0, 188, 0, 185, 0, 0, 0, 193, 202, 136, 248, 0, 0, 241, 0, 0, 0, 212, 136, 1, 210, 0, 217, 163, 1, 0, 0, 1, 0, 211, 191, 193, 0, 0, 0, 232, 170, 0, 1, 0, 0, 190, 165, 0, 217, 0, 136, 1, 1, 185, 202, 0, 0, 0, 211, 198, 2, 0, 1, 181, 1, 0, 227, 0, 190, 1, 0, 0, 0, 181, 108, 175, 1, 0, 228, 120, 122, 288, 164, 205, 0, 0, 0, 231, 118, 101, 0, 213, 0, 42, 118, 1, 231, 87, 87, 213, 0, 213, 135, 88, 0, 0, 87, 231, 42, 88, 231, 213, 144, 88, 0, 118, 0, 144, 135, 213, 0, 87, 101, 231, 88, 0, 118, 213, 231, 19, 184, 184, 184, 184, 135, 135, 101, 184, 184, 135, 0, 135, 101, 121, 193, 122, 218, 221, 211, 0, 1, 117, 260, 213, 193, 178, 131, 237, 0, 0, 0, 176, 213, 130, 226, 154, 0, 155, 1, 260, 208, 0, 0, 0, 0, 130, 208, 260, 221, 192, 189, 0, 138, 221, 0, 213, 0, 154, 243, 243, 173, 156, 0, 0, 1, 227, 0, 122, 0, 0, 0, 0, 1, 153, 217, 0, 0, 213, 0, 208, 0, 219, 0, 0, 0, 0, 241, 0, 0, 122, 1, 0, 237, 0, 0, 243, 203, 135, 0, 203, 219, 0, 243, 7, 0, 226, 237, 0, 0, 200, 111, 208, 0, 130, 223, 0, 0, 247, 0, 213, 0, 213, 211, 197, 0, 1, 0, 209, 211, 148, 117, 0, 138, 0, 7, 199, 191, 211, 122, 0, 0, 0, 0, 0, 243, 0, 1, 153, 1, 223, 199, 176, 0, 0, 131, 198, 1, 1, 0, 0, 191, 177, 0, 0, 155, 0, 169, 0, 216, 174, 0, 0, 235, 1, 198, 225, 1, 143, 0, 0, 227, 176, 0, 0, 212, 178, 209, 143, 0, 196, 135, 243, 0, 0, 0, 164, 148, 0, 0, 228, 0, 1, 0, 0, 221, 0, 0, 1, 173, 0, 153, 0, 234, 1, 234, 1, 0, 154, 0, 0, 156, 1, 173, 0, 212, 1, 218, 213, 154, 0, 1, 198, 0, 247, 0, 3, 217, 0, 0, 203, 0, 0, 0, 200, 221, 0, 0, 121, 0, 0, 0, 0, 0, 197, 229, 245, 0, 153, 0, 241, 196, 221, 0, 0, 176, 0, 111, 1, 0, 216, 192, 153, 0, 169, 0, 111, 229, 227, 0, 3, 0, 0, 0, 0, 0, 0, 235, 178, 0, 228, 0, 0, 211, 0, 0, 237, 0, 0, 0, 174, 1, 189, 0, 200, 111, 245, 0, 225, 164, 0, 0, 0, 178, 0, 0, 200, 0, 177, 0, 223, 203, 0, 0, 243, 0, 245, 0, 1, 0, 176, 176, 1, 0, 204, 199, 179, 213, 93, 0, 0, 0, 165, 0, 0, 0, 253, 193, 226, 249, 66, 186, 0, 123, 228, 243, 184, 98, 165, 0, 184, 115, 225, 0, 144, 201, 212, 253, 190, 227, 252, 196, 198, 223, 223, 165, 0, 234, 20, 196, 176, 252, 0, 138, 127, 176, 219, 138, 138, 201, 0, 139, 226, 184, 0, 249, 178, 1, 211, 210, 188, 244, 186, 165, 0, 217, 156, 93, 0, 173, 188, 180, 11, 191, 123, 163, 1, 213, 193, 173, 243, 225, 211, 0, 195, 0, 176, 180, 219, 0, 111, 173, 217, 142, 0, 0, 204, 262, 213, 213, 165, 156, 230, 0, 229, 193, 175, 186, 208, 0, 178, 145, 201, 145, 249, 213, 249, 252, 0, 0, 11, 0, 137, 0, 208, 204, 226, 72, 180, 163, 165, 191, 0, 180, 145, 186, 229, 0, 0, 198, 212, 112, 187, 209, 0, 219, 213, 139, 191, 208, 0, 262, 201, 179, 228, 266, 127, 176, 115, 0, 98, 230, 0, 145, 230, 111, 266, 199, 173, 184, 227, 234, 191, 227, 1, 173, 184, 215, 208, 219, 184, 158, 1, 213, 188, 156, 209, 137, 244, 190, 150, 1, 0, 182, 218, 178, 217, 112, 228, 153, 153, 0, 218, 167, 0, 167, 208, 112, 144, 205, 145, 208, 213, 219, 72, 243, 158, 204, 191, 226, 187, 158, 201, 0, 0, 195, 199, 0, 236, 156, 199, 0, 217, 20, 1, 129, 175, 173, 1, 226, 129, 188, 215, 115, 192, 223, 192, 191, 217, 0, 188, 0, 193, 1, 205, 158, 1, 213, 1, 1, 228, 173, 0, 0, 66, 230, 0, 213, 219, 0, 150, 210, 20, 1, 0, 182, 142, 93, 236, 251, 148, 251, 145, 145, 100, 148, 112, 99, 251, 251, 251, 251, 148, 135, 135, 99, 112, 148, 122, 122, 122, 100, 122, 0, 0, 0, 120, 0, 83, 0, 0, 132, 0, 0, 1, 0, 0, 0, 0, 175, 206, 1, 206, 1, 191, 0, 0, 229, 1, 0, 0, 176, 1, 1, 0, 1, 0, 1, 206, 0, 198, 0, 0, 179, 0, 0, 0, 0, 190, 217, 0, 1, 144, 0, 1, 0, 1, 1, 0, 238, 0, 0, 227, 0, 179, 0, 1, 0, 0, 231, 176, 176, 0, 178, 0, 0, 124, 0, 230, 196, 193, 147, 0, 0, 0, 0, 0, 0, 0, 0, 197, 0, 191, 203, 0, 198, 129, 237, 0, 197, 0, 132, 214, 1, 237, 231, 0, 0, 5, 203, 1, 0, 0, 0, 1, 1, 1, 123, 217, 0, 206, 0, 1, 193, 0, 0, 0, 1, 0, 0, 0, 0, 0, 181, 0, 0, 0, 0, 203, 188, 0, 0, 221, 0, 200, 226, 227, 231, 227, 0, 206, 0, 1, 0, 0, 0, 0, 238, 0, 1, 0, 135, 216, 247, 219, 1, 0, 0, 0, 86, 217, 1, 0, 124, 0, 230, 1, 1, 0, 0, 188, 200, 188, 238, 0, 0, 237, 202, 150, 0, 104, 179, 222, 231, 1, 216, 1, 1, 231, 0, 225, 216, 0, 202, 126, 0, 229, 0, 0, 0, 123, 0, 1, 1, 178, 123, 159, 198, 86, 198, 182, 0, 130, 210, 1, 0, 1, 0, 0, 179, 210, 0, 1, 222, 154, 210, 206, 223, 193, 5, 73, 176, 1, 130, 0, 1, 196, 0, 0, 206, 0, 0, 1, 203, 0, 0, 226, 1, 0, 1, 0, 0, 206, 182, 126, 0, 0, 219, 216, 104, 92, 0, 1, 0, 0, 0, 0, 1, 0, 0, 1, 214, 0, 0, 216, 0, 181, 0, 0, 73, 247, 129, 216, 0, 146, 159, 0, 0, 139, 1, 0, 1, 139, 0, 231, 0, 0, 0, 5, 231, 0, 0, 0, 0, 83, 0, 223, 19, 225, 0, 0, 175, 1, 0, 0, 150, 216, 0, 0, 130, 193, 222, 0, 129, 1, 197, 0, 0, 0, 0, 0, 1, 135, 0, 1, 0, 219, 176, 0, 206, 0, 135, 123, 0, 1, 1, 144, 238, 154, 0, 0, 0, 0, 0, 0, 153, 120, 0, 86, 0, 0, 208, 230, 0, 221, 0, 0, 188, 208, 231, 1, 129, 153, 203, 0, 0, 147, 146, 0, 1, 1, 198, 1, 1, 0, 197, 92, 190, 0, 210, 0, 0, 201, 12, 193, 197, 186, 0, 0, 227, 225, 1, 155, 0, 0, 166, 0, 162, 144, 201, 170, 0, 0, 219, 0, 226, 0, 0, 136, 144, 0, 214, 205, 0, 211, 0, 251, 0, 5, 0, 0, 176, 5, 235, 86, 0, 0, 176, 166, 0, 0, 0, 0, 0, 0, 0, 0, 0, 0, 248, 0, 202, 0, 0, 0, 95, 0, 0, 251, 112, 225, 156, 193, 228, 227, 87, 237, 251, 229, 216, 0, 189, 248, 220, 0, 0, 0, 219, 149, 0, 0, 0, 220, 164, 159, 202, 0, 105, 0, 0, 223, 166, 0, 0, 0, 211, 239, 1, 0, 225, 170, 0, 169, 165, 156, 216, 0, 0, 211, 199, 1, 170, 208, 209, 216, 164, 0, 218, 0, 208, 0, 0, 0, 0, 228, 1, 0, 261, 0, 0, 0, 218, 220, 1, 5, 208, 225, 197, 216, 239, 0, 0, 0, 0, 211, 0, 216, 0, 0, 0, 251, 1, 173, 235, 0, 0, 228, 231, 87, 95, 216, 170, 228, 0, 170, 0, 136, 1, 166, 229, 0, 170, 0, 5, 0, 235, 225, 0, 0, 0, 218, 0, 226, 0, 0, 0, 193, 149, 0, 0, 0, 0, 103, 190, 149, 169, 0, 199, 232, 219, 211, 181, 232, 181, 0, 6, 0, 190, 223, 223, 251, 0, 5, 0, 219, 149, 166, 0, 112, 1, 0, 170, 193, 6, 231, 0, 252, 0, 0, 0, 164, 0, 228, 0, 155, 0, 0, 0, 0, 173, 0, 0, 0, 0, 0, 0, 159, 0, 226, 191, 0, 261, 201, 0, 1, 123, 0, 0, 0, 0, 209, 211, 191, 251, 216, 0, 0, 181, 186, 176, 0, 0, 214, 0, 0, 176, 0, 155, 105, 265, 0, 169, 165, 265, 216, 0, 205, 0, 186, 0, 201, 201, 239, 205, 208, 0, 252, 103, 0, 0, 186, 0, 189, 86, 251, 0, 237, 1, 0, 202, 1, 226, 165, 0, 261, 162, 123, 0, 0, 0, 0, 218, 208, 0, 298, 208, 132, 166, 208, 153, 166, 0, 79, 208, 1, 153, 166, 107, 122, 1, 110, 302, 1, 131, 298, 107, 298, 166, 1, 298, 302, 302, 0, 302, 0, 79, 298, 122, 166, 166, 208, 1, 298, 208, 302, 131, 302, 0, 1, 0, 0, 0, 0, 110, 163, 163, 153, 163, 153, 153, 163, 163, 153, 153, 153, 163, 3, 3, 237, 0, 0, 0, 204, 193, 190, 226, 194, 231, 223, 0, 194, 0, 197, 141, 243, 243, 229, 203, 190, 190, 0, 0, 176, 153, 202, 176, 0, 0, 183, 106, 1, 237, 1, 157, 0, 0, 0, 1, 153, 1, 176, 201, 0, 169, 0, 0, 0, 213, 248, 0, 0, 169, 217, 1, 0, 183, 0, 0, 226, 119, 243, 0, 0, 195, 0, 217, 98, 226, 0, 0, 0, 228, 0, 0, 190, 231, 0, 0, 236, 0, 243, 1, 0, 0, 0, 206, 192, 0, 192, 172, 0, 1, 139, 0, 0, 1, 0, 0, 114, 0, 146, 0, 0, 0, 0, 0, 193, 106, 1, 157, 203, 1, 1, 220, 251, 0, 210, 210, 121, 0, 0, 224, 1, 148, 0, 82, 211, 217, 1, 242, 1, 267, 251, 0, 242, 0, 157, 0, 0, 0, 0, 0, 193, 0, 125, 0, 0, 0, 184, 1, 0, 0, 201, 1, 251, 0, 197, 184, 0, 0, 0, 232, 211, 0, 246, 186, 0, 215, 247, 236, 139, 139, 0, 217, 235, 0, 1, 206, 0, 3, 0, 233, 188, 0, 267, 185, 0, 232, 215, 0, 0, 0, 0, 0, 0, 0, 0, 0, 0, 0, 174, 0, 195, 1, 199, 1, 0, 172, 1, 0, 0, 0, 0, 0, 0, 0, 98, 0, 0, 243, 0, 220, 203, 199, 0, 0, 0, 1, 185, 259, 213, 1, 0, 0, 224, 0, 0, 199, 0, 193, 0, 194, 211, 0, 211, 214, 0, 1, 0, 0, 0, 0, 217, 235, 203, 186, 228, 197, 206, 194, 146, 0, 0, 0, 220, 133, 226, 248, 190, 125, 1, 210, 158, 0, 0, 0, 166, 0, 1, 223, 235, 1, 0, 1, 183, 1, 0, 106, 0, 0, 82, 0, 0, 0, 194, 0, 203, 1, 117, 267, 1, 0, 0, 235, 0, 0, 133, 174, 0, 224, 220, 259, 190, 0, 0, 223, 117, 0, 1, 247, 235, 139, 224, 172, 214, 121, 176, 0, 148, 233, 1, 186, 1, 0, 0, 229, 0, 125, 217, 0, 215, 1, 158, 0, 0, 0, 0, 0, 246, 1, 0, 1, 119, 0, 215, 0, 0, 141, 0, 226, 1, 1, 0, 0, 247, 217, 3, 0, 0, 188, 0, 211, 223, 0, 203, 131, 202, 194, 0, 0, 1, 199, 0, 0, 0, 0, 203, 131, 0, 259, 210, 0, 0, 0, 0, 206, 139, 0, 193, 157, 166, 1, 0, 0, 0, 1, 0, 242, 0, 204, 0, 0, 0, 186, 0, 114, 0, 0, 205, 201, 239, 0, 0, 224, 0, 8, 0, 0, 0, 180, 235, 0, 0, 0, 235, 241, 203, 0, 1, 209, 2, 157, 238, 0, 151, 0, 0, 229, 0, 1, 1, 0, 0, 170, 170, 0, 239, 191, 0, 0, 0, 201, 0, 0, 219, 1, 1, 5, 0, 0, 0, 0, 0, 1, 210, 0, 205, 187, 224, 138, 203, 1, 0, 0, 241, 0, 265, 0, 0, 1, 1, 0, 0, 113, 0, 191, 0, 0, 204, 0, 139, 175, 0, 0, 199, 0, 0, 0, 0, 0, 0, 167, 133, 240, 157, 0, 266, 0, 187, 0, 0, 204, 218, 0, 1, 205, 202, 0, 1, 0, 0, 0, 5, 0, 0, 205, 0, 0, 249, 0, 0, 0, 214, 0, 0, 214, 226, 5, 266, 0, 0, 0, 199, 0, 0, 0, 183, 8, 126, 117, 0, 214, 1, 0, 240, 205, 184, 125, 181, 249, 235, 214, 0, 0, 187, 238, 204, 0, 0, 0, 202, 0, 186, 5, 0, 142, 265, 151, 156, 238, 0, 113, 186, 144, 0, 8, 184, 0, 219, 0, 232, 1, 0, 1, 0, 156, 0, 226, 239, 224, 199, 0, 0, 1, 205, 0, 0, 1, 0, 0, 0, 1, 0, 0, 0, 239, 0, 211, 0, 0, 211, 218, 1, 0, 0, 199, 0, 184, 0, 204, 125, 1, 0, 0, 183, 214, 0, 139, 0, 232, 203, 196, 0, 0, 0, 0, 187, 184, 1, 0, 0, 1, 0, 200, 0, 1, 203, 0, 0, 0, 142, 226, 0, 160, 0, 184, 229, 0, 224, 160, 284, 0, 167, 226, 0, 117, 226, 180, 0, 0, 0, 0, 204, 0, 0, 238, 1, 221, 205, 0, 1, 0, 1, 221, 0, 183, 196, 1, 1, 1, 0, 1, 181, 217, 0, 0, 0, 0, 0, 117, 0, 249, 1, 0, 1, 0, 202, 0, 0, 0, 0, 0, 226, 183, 211, 221, 211, 1, 0, 235, 226, 0, 0, 1, 144, 0, 0, 2, 0, 0, 223, 0, 217, 200, 0, 138, 0, 191, 126, 1, 204, 8, 0, 217, 0, 0, 204, 239, 284, 0, 217, 0, 0, 184, 219, 0, 133, 238, 184, 209, 223, 0, 0, 210, 175, 238, 0, 1, 135, 135, 135, 135, 1, 1, 3, 1, 3, 0, 0, 56, 0, 1, 1, 1, 0, 1, 3, 0, 0, 3, 3, 0, 0, 0, 0, 0, 1, 3, 56, 37, 212, 135, 1, 1, 141, 56, 125, 125, 125, 125, 135, 1, 212, 56, 147, 147, 199, 147, 147, 147, 147, 200, 119, 0, 0, 1, 155, 213, 221, 0, 0, 200, 0, 0, 236, 0, 1, 0, 0, 212, 200, 0, 0, 0, 147, 1, 131, 0, 1, 0, 0, 197, 0, 218, 112, 200, 117, 0, 193, 197, 0, 112, 0, 0, 0, 1, 233, 119, 0, 0, 1, 197, 0, 197, 221, 147, 0, 0, 128, 0, 215, 101, 223, 0, 0, 131, 0, 1, 96, 1, 108, 0, 0, 1, 0, 0, 0, 0, 0, 0, 0, 0, 89, 198, 0, 233, 0, 0, 0, 0, 0, 174, 221, 0, 0, 185, 0, 214, 0, 0, 0, 172, 218, 154, 0, 96, 1, 0, 185, 0, 0, 1, 115, 210, 221, 0, 0, 217, 200, 0, 198, 94, 0, 0, 0, 1, 0, 164, 1, 164, 226, 0, 201, 1, 155, 1, 0, 0, 164, 0, 0, 0, 1, 234, 0, 174, 0, 206, 0, 0, 222, 177, 0, 0, 0, 0, 214, 174, 0, 223, 0, 0, 0, 213, 0, 0, 258, 0, 0, 1, 1, 90, 159, 159, 90, 197, 258, 1, 0, 1, 0, 206, 1, 0, 223, 191, 0, 0, 0, 1, 101, 218, 0, 1, 222, 0, 212, 201, 0, 96, 201, 0, 195, 0, 117, 1, 236, 1, 177, 0, 94, 0, 210, 0, 0, 0, 226, 234, 164, 0, 226, 0, 238, 90, 0, 0, 1, 0, 0, 0, 0, 1, 154, 200, 221, 0, 172, 240, 214, 0, 0, 221, 229, 0, 128, 231, 1, 0, 0, 229, 174, 0, 108, 161, 0, 0, 218, 216, 226, 0, 0, 0, 246, 0, 240, 0, 0, 217, 1, 0, 1, 0, 213, 0, 231, 193, 201, 191, 177, 0, 0, 210, 246, 212, 0, 0, 0, 1, 218, 210, 162, 0, 0, 1, 238, 0, 0, 162, 164, 214, 177, 221, 115, 231, 1, 222, 147, 193, 0, 149, 149, 229, 210, 218, 154, 0, 0, 0, 0, 161, 162, 1, 1, 0, 0, 0, 0, 210, 108, 3, 197, 216, 213, 1, 195, 0, 1, 198, 0, 0, 0, 218, 215, 210, 0, 1, 223, 193, 0, 0, 89, 0, 0, 0, 210, 1, 218, 223, 0, 0, 174, 198, 0, 195, 0, 206, 3, 0, 0, 214, 0, 201, 0, 0, 206, 71, 213, 249, 1, 0, 1, 0, 228, 228, 200, 1, 195, 0, 0, 0, 0, 172, 0, 0, 0, 141, 138, 181, 1, 0, 239, 0, 0, 10, 0, 0, 0, 0, 0, 0, 249, 0, 0, 182, 0, 208, 0, 0, 0, 0, 0, 0, 0, 0, 0, 0, 183, 193, 172, 209, 228, 0, 0, 1, 1, 213, 189, 130, 1, 1, 0, 149, 0, 1, 155, 0, 0, 1, 0, 0, 0, 0, 0, 189, 155, 45, 1, 10, 0, 204, 136, 0, 0, 0, 236, 1, 92, 0, 1, 0, 238, 0, 204, 0, 223, 125, 0, 0, 177, 245, 0, 204, 0, 0, 0, 0, 0, 233, 0, 0, 0, 0, 0, 0, 0, 213, 1, 0, 222, 206, 0, 1, 0, 208, 154, 0, 0, 1, 228, 235, 159, 0, 0, 136, 224, 0, 249, 154, 1, 1, 166, 0, 149, 0, 0, 181, 223, 1, 0, 0, 0, 164, 0, 181, 10, 1, 0, 132, 0, 1, 149, 0, 0, 0, 0, 1, 6, 193, 0, 0, 235, 191, 228, 0, 175, 181, 193, 0, 130, 0, 0, 0, 138, 0, 0, 0, 0, 45, 1, 159, 181, 0, 154, 1, 0, 0, 0, 1, 172, 0, 0, 0, 209, 1, 174, 239, 236, 181, 0, 217, 0, 204, 0, 0, 204, 0, 6, 221, 0, 190, 0, 177, 0, 0, 0, 1, 0, 45, 0, 138, 0, 0, 222, 0, 193, 0, 1, 154, 0, 212, 0, 0, 0, 0, 224, 224, 174, 0, 0, 154, 239, 166, 0, 0, 204, 181, 149, 196, 138, 0, 141, 181, 0, 0, 177, 0, 0, 228, 0, 196, 0, 0, 0, 136, 0, 0, 245, 214, 1, 0, 235, 181, 193, 0, 177, 1, 183, 0, 183, 0, 0, 206, 0, 0, 232, 1, 1, 154, 232, 1, 0, 0, 0, 238, 149, 1, 164, 0, 172, 0, 0, 233, 0, 0, 190, 177, 0, 0, 0, 0, 0, 1, 0, 0, 1, 190, 204, 213, 0, 0, 0, 0, 0, 0, 0, 0, 206, 0, 0, 0, 0, 217, 0, 1, 0, 0, 226, 0, 0, 204, 125, 164, 0, 0, 0, 0, 132, 0, 175, 0, 226, 0, 0, 0, 0, 130, 0, 0, 0, 0, 213, 0, 0, 0, 164, 235, 1, 0, 182, 0, 0, 0, 202, 221, 0, 0, 0, 154, 222, 0, 0, 191, 200, 201, 92, 0, 204, 159, 1, 0, 0, 0, 1, 202, 195, 0, 0, 1, 0, 190, 212, 187, 187, 0, 0, 149, 0, 0, 0, 1, 202, 0, 222, 71, 0, 0, 226, 71, 222, 139, 139, 61, 130, 6, 6, 56, 56, 56, 56, 82, 61, 121, 121, 61, 61, 0, 61, 121, 61, 121, 61, 0, 180, 0, 0, 1, 212, 0, 190, 0, 1, 0, 0, 201, 187, 0, 1, 0, 184, 0, 220, 106, 195, 0, 221, 0, 1, 0, 0, 1, 0, 0, 160, 0, 0, 0, 106, 0, 1, 0, 230, 195, 160, 150, 264, 0, 0, 109, 0, 0, 0, 0, 199, 233, 180, 0, 0, 201, 0, 93, 0, 0, 0, 0, 218, 1, 0, 204, 1, 233, 189, 1, 201, 276, 0, 233, 220, 1, 221, 231, 1, 0, 205, 0, 0, 0, 0, 1, 211, 174, 176, 213, 0, 187, 0, 182, 0, 134, 195, 0, 0, 1, 208, 93, 176, 145, 0, 195, 208, 0, 0, 214, 190, 0, 1, 190, 214, 195, 1, 159, 188, 0, 0, 0, 0, 0, 0, 185, 264, 0, 199, 205, 0, 0, 276, 218, 1, 227, 0, 87, 184, 185, 0, 226, 87, 0, 0, 1, 0, 0, 0, 0, 187, 233, 0, 280, 235, 1, 0, 0, 231, 215, 203, 0, 0, 1, 0, 93, 0, 213, 0, 138, 235, 0, 150, 203, 0, 0, 0, 217, 133, 1, 205, 0, 229, 0, 188, 0, 1, 0, 173, 166, 1, 1, 133, 217, 184, 0, 164, 189, 109, 0, 0, 1, 0, 0, 0, 0, 187, 232, 1, 0, 0, 0, 1, 0, 0, 212, 0, 177, 0, 0, 0, 215, 0, 133, 207, 1, 0, 0, 208, 134, 187, 0, 1, 227, 171, 0, 1, 0, 207, 188, 0, 257, 138, 214, 146, 280, 1, 1, 217, 0, 0, 0, 0, 231, 0, 0, 0, 190, 0, 0, 0, 0, 218, 150, 0, 184, 1, 0, 218, 182, 0, 93, 0, 0, 0, 226, 0, 0, 0, 109, 0, 0, 195, 0, 0, 232, 0, 187, 87, 0, 218, 0, 0, 217, 0, 220, 0, 0, 229, 0, 180, 257, 0, 0, 0, 211, 0, 0, 177, 231, 217, 0, 146, 1, 171, 0, 188, 180, 0, 146, 195, 230, 1, 0, 215, 1, 1, 0, 180, 0, 0, 0, 0, 208, 0, 205, 1, 1, 201, 0, 0, 189, 173, 174, 187, 0, 1, 159, 0, 0, 1, 145, 0, 215, 0, 0, 1, 0, 0, 0, 218, 1, 0, 0, 0, 164, 195, 166, 0, 220, 204, 0, 0, 0, 230, 1, 217, 0, 146, 146, 173, 0, 0, 158, 173, 1, 78, 186, 0, 0, 96, 0, 0, 1, 103, 131, 144, 0, 0, 140, 103, 84, 158, 0, 1, 0, 169, 0, 147, 224, 84, 158, 0, 0, 0, 0, 186, 0, 200, 96, 200, 96, 143, 217, 0, 169, 0, 160, 0, 0, 209, 160, 0, 158, 127, 0, 127, 0, 0, 0, 147, 0, 140, 0, 131, 0, 0, 224, 217, 0, 143, 84, 132, 1, 84, 78, 0, 0, 127, 144, 1, 0, 1, 209, 132, 0, 1, 208, 95, 133, 138, 151, 124, 143, 95, 95, 138, 138, 95, 208, 208, 165, 124, 151, 138, 133, 133, 138, 143, 5, 208, 138, 133, 210, 164, 209, 0, 226, 0, 0, 0, 149, 149, 104, 204, 149, 0, 199, 0, 0, 190, 117, 0, 218, 1, 0, 0, 1, 0, 0, 213, 0, 192, 195, 173, 173, 64, 0, 0, 0, 0, 208, 164, 0, 184, 0, 229, 10, 213, 195, 0, 0, 1, 206, 206, 0, 0, 0, 206, 215, 163, 1, 208, 151, 0, 144, 0, 215, 146, 0, 0, 0, 221, 0, 0, 0, 0, 0, 0, 0, 216, 168, 169, 0, 0, 0, 0, 0, 1, 0, 189, 0, 156, 0, 0, 210, 0, 0, 1, 0, 214, 0, 158, 0, 0, 1, 151, 134, 221, 0, 169, 0, 0, 221, 195, 218, 0, 144, 10, 156, 0, 169, 0, 0, 198, 0, 171, 0, 1, 218, 229, 210, 0, 0, 0, 0, 0, 214, 117, 0, 173, 0, 0, 0, 225, 223, 185, 216, 0, 216, 0, 0, 195, 230, 0, 169, 0, 210, 64, 219, 0, 217, 148, 0, 0, 0, 0, 0, 0, 0, 0, 208, 0, 0, 217, 230, 220, 173, 0, 0, 0, 0, 215, 0, 208, 209, 0, 165, 203, 0, 0, 243, 0, 169, 171, 0, 225, 218, 132, 195, 149, 114, 0, 155, 0, 216, 0, 0, 0, 199, 0, 195, 0, 218, 0, 226, 0, 0, 192, 229, 1, 218, 117, 229, 0, 0, 1, 0, 0, 219, 222, 0, 218, 0, 218, 165, 0, 192, 0, 0, 224, 209, 0, 257, 0, 213, 114, 223, 120, 0, 0, 171, 214, 1, 1, 0, 212, 213, 206, 1, 220, 171, 132, 187, 187, 214, 163, 0, 117, 0, 222, 0, 225, 154, 213, 247, 0, 0, 212, 149, 117, 0, 0, 185, 0, 219, 0, 0, 150, 0, 0, 171, 0, 0, 0, 168, 73, 236, 203, 0, 148, 50, 154, 207, 223, 213, 0, 0, 0, 1, 230, 1, 1, 1, 166, 187, 213, 1, 1, 204, 224, 0, 171, 166, 236, 154, 192, 207, 0, 225, 221, 212, 189, 250, 0, 0, 0, 0, 0, 0, 0, 0, 1, 221, 205, 0, 243, 250, 1, 247, 120, 249, 196, 0, 250, 0, 223, 0, 0, 196, 192, 219, 1, 213, 0, 0, 1, 0, 173, 1, 0, 0, 185, 150, 247, 124, 171, 1, 163, 0, 199, 190, 1, 1, 229, 0, 173, 124, 0, 0, 0, 185, 0, 1, 0, 0, 73, 171, 195, 0, 0, 0, 0, 247, 216, 195, 190, 249, 0, 215, 216, 173, 0, 0, 0, 0, 229, 0, 0, 0, 146, 0, 198, 212, 0, 247, 0, 163, 0, 0, 104, 0, 0, 0, 0, 0, 1, 0, 257, 203, 0, 203, 0, 205, 0, 184, 0, 0, 0, 0, 0, 0, 221, 117, 134, 88, 225, 155, 0, 88, 0, 158, 213, 0, 0, 0, 181, 1, 90, 129, 0, 0, 0, 0, 0, 0, 0, 0, 0, 208, 242, 190, 0, 0, 0, 0, 0, 158, 0, 0, 0, 0, 1, 225, 0, 182, 0, 132, 1, 0, 213, 1, 215, 0, 0, 0, 1, 1, 1, 163, 169, 254, 1, 0, 131, 0, 0, 0, 0, 0, 206, 215, 204, 0, 146, 160, 1, 76, 0, 0, 206, 194, 0, 223, 229, 1, 179, 229, 179, 0, 136, 238, 194, 111, 0, 0, 136, 1, 146, 0, 241, 0, 0, 0, 0, 152, 0, 0, 0, 0, 159, 144, 176, 0, 211, 0, 0, 0, 0, 0, 126, 0, 0, 189, 199, 273, 0, 225, 1, 223, 0, 76, 0, 192, 0, 0, 173, 0, 168, 90, 0, 0, 0, 172, 213, 0, 0, 111, 0, 0, 157, 1, 1, 148, 0, 0, 0, 157, 0, 0, 230, 0, 116, 1, 0, 0, 225, 0, 0, 1, 0, 225, 0, 0, 1, 0, 204, 222, 0, 0, 172, 0, 0, 199, 173, 0, 0, 0, 0, 0, 1, 0, 0, 0, 0, 151, 0, 0, 0, 1, 0, 0, 222, 253, 0, 1, 178, 254, 1, 1, 0, 223, 0, 214, 0, 151, 212, 141, 0, 231, 192, 1, 0, 0, 0, 0, 225, 0, 0, 0, 0, 4, 0, 146, 1, 0, 0, 4, 1, 0, 1, 174, 0, 286, 0, 0, 0, 0, 0, 163, 214, 137, 1, 0, 0, 0, 149, 115, 0, 0, 216, 154, 1, 1, 132, 0, 286, 0, 0, 170, 0, 0, 225, 0, 0, 0, 163, 0, 0, 160, 0, 0, 0, 0, 228, 0, 0, 0, 0, 0, 151, 0, 1, 0, 199, 2, 0, 0, 0, 1, 158, 0, 208, 2, 115, 141, 0, 0, 0, 0, 211, 163, 183, 0, 148, 213, 230, 136, 223, 0, 0, 0, 170, 0, 230, 0, 135, 0, 0, 0, 0, 0, 149, 0, 214, 176, 0, 228, 0, 1, 235, 159, 0, 0, 160, 138, 0, 0, 0, 0, 1, 273, 0, 0, 0, 151, 186, 225, 219, 0, 0, 172, 228, 0, 0, 141, 0, 190, 141, 129, 183, 132, 241, 1, 0, 191, 0, 0, 0, 216, 1, 0, 237, 0, 155, 1, 225, 0, 116, 0, 204, 141, 0, 0, 0, 0, 0, 0, 0, 227, 237, 0, 172, 186, 0, 225, 0, 182, 212, 0, 0, 186, 0, 1, 0, 191, 137, 126, 0, 1, 0, 202, 152, 202, 253, 0, 0, 4, 135, 0, 0, 0, 0, 1, 0, 192, 131, 1, 192, 0, 0, 1, 194, 223, 0, 0, 0, 155, 0, 154, 4, 0, 135, 0, 0, 144, 0, 0, 0, 213, 0, 222, 191, 194, 138, 0, 0, 222, 0, 169, 0, 132, 0, 0, 146, 1, 0, 0, 0, 1, 0, 0, 0, 0, 0, 231, 154, 225, 219, 154, 228, 231, 239, 219, 1, 155, 239, 0, 0, 0, 225, 186, 0, 0, 0, 242, 0, 0, 174, 0, 227, 0, 227, 0, 235, 111, 189, 238, 0, 0, 0, 0, 191, 0, 1, 168, 219, 0, 131, 1, 0, 131, 178, 186, 146, 115, 146, 0, 0, 0, 0, 1, 228, 228, 0, 115, 1, 213, 0, 0, 0, 0, 186, 0, 0, 0, 0, 1, 1, 214, 0, 0, 0, 222, 131, 174, 149, 174, 133, 149, 190, 190, 321, 133, 149, 321, 105, 149, 190, 150, 149, 55, 55, 249, 148, 174, 105, 105, 105, 105, 266, 321, 147, 163, 147, 149, 163, 105, 148, 139, 236, 150, 190, 321, 321, 321, 249, 139, 236, 190, 174, 190, 67, 67, 67, 67, 67, 67, 67, 67, 134, 1, 0, 75, 0, 236, 1, 0, 225, 187, 0, 157, 0, 0, 0, 61, 1, 0, 177, 182, 0, 235, 0, 1, 182, 128, 172, 172, 0, 0, 0, 0, 0, 154, 0, 193, 133, 184, 212, 203, 177, 1, 90, 1, 0, 251, 1, 1, 194, 194, 4, 0, 0, 1, 233, 0, 182, 0, 1, 0, 230, 230, 213, 0, 0, 0, 203, 0, 0, 219, 177, 0, 177, 0, 0, 0, 0, 221, 0, 0, 0, 0, 0, 0, 193, 1, 232, 1, 161, 1, 0, 204, 189, 182, 128, 189, 179, 154, 237, 198, 0, 66, 1, 4, 134, 1, 228, 0, 1, 219, 0, 0, 0, 0, 186, 142, 227, 0, 0, 61, 143, 1, 90, 215, 0, 0, 215, 228, 182, 0, 179, 0, 226, 0, 1, 191, 184, 0, 191, 0, 0, 225, 0, 0, 195, 196, 195, 215, 0, 0, 1, 0, 154, 0, 0, 163, 261, 0, 154, 0, 177, 164, 0, 206, 0, 204, 1, 0, 1, 136, 212, 221, 0, 1, 0, 0, 0, 162, 185, 219, 196, 66, 0, 1, 0, 1, 184, 1, 189, 225, 128, 181, 1, 0, 241, 0, 0, 0, 0, 1, 0, 193, 163, 193, 0, 0, 1, 193, 1, 146, 215, 0, 192, 0, 1, 0, 210, 218, 251, 141, 0, 198, 0, 0, 0, 0, 192, 0, 195, 0, 0, 157, 215, 0, 0, 205, 261, 185, 0, 221, 227, 225, 1, 232, 169, 179, 202, 197, 0, 184, 226, 206, 0, 0, 0, 193, 1, 216, 0, 1, 219, 225, 164, 0, 192, 0, 0, 0, 177, 191, 0, 181, 172, 0, 189, 0, 0, 1, 168, 186, 0, 0, 4, 228, 177, 177, 212, 0, 0, 0, 0, 195, 219, 0, 0, 202, 161, 153, 0, 203, 0, 153, 0, 181, 230, 161, 0, 0, 1, 196, 0, 0, 179, 0, 162, 225, 133, 0, 1, 182, 0, 189, 0, 193, 218, 192, 219, 0, 161, 203, 236, 0, 0, 1, 237, 233, 211, 0, 203, 0, 0, 197, 168, 211, 0, 0, 0, 0, 169, 221, 0, 1, 0, 0, 0, 245, 0, 212, 212, 220, 195, 0, 237, 205, 220, 0, 230, 187, 0, 225, 0, 0, 235, 0, 0, 140, 99, 230, 0, 1, 1, 0, 0, 0, 0, 0, 182, 225, 0, 0, 0, 212, 212, 203, 219, 169, 0, 191, 191, 0, 0, 182, 75, 136, 0, 1, 1, 1, 222, 0, 222, 142, 0, 191, 0, 1, 0, 205, 1, 203, 0, 1, 188, 203, 193, 192, 187, 188, 141, 177, 195, 140, 140, 177, 0, 0, 0, 0, 212, 0, 1, 140, 140, 0, 182, 0, 146, 0, 213, 0, 0, 160, 160, 0, 219, 0, 0, 0, 203, 0, 181, 1, 1, 0, 168, 157, 168, 1, 1, 0, 0, 218, 0, 1, 1, 0, 0, 0, 241, 255, 0, 255, 0, 192, 0, 0, 1, 0, 134, 143, 0, 0, 0, 134, 0, 189, 0, 216, 210, 0, 228, 0, 245, 1, 187, 0, 0, 0, 0, 0, 172, 189, 0, 185, 185, 0, 0, 0, 226, 0, 231, 0, 172, 180, 1, 0, 171, 0, 0, 0, 0, 189, 0, 0, 0, 158, 0, 0, 158, 0, 0, 184, 236, 189, 0, 194, 0, 1, 0, 0, 6, 0, 187, 0, 0, 191, 0, 0, 0, 1, 184, 174, 1, 0, 1, 236, 0, 0, 0, 203, 189, 86, 107, 201, 179, 211, 0, 227, 0, 1, 208, 187, 208, 1, 131, 0, 247, 1, 134, 0, 221, 0, 189, 231, 0, 1, 171, 142, 0, 247, 1, 100, 0, 221, 133, 111, 178, 174, 268, 247, 210, 0, 1, 257, 218, 131, 257, 1, 181, 242, 157, 257, 0, 191, 0, 158, 242, 1, 242, 0, 0, 1, 0, 197, 1, 174, 100, 194, 0, 0, 250, 0, 174, 193, 0, 0, 146, 227, 130, 1, 0, 1, 1, 187, 1, 6, 1, 130, 0, 0, 0, 232, 1, 1, 171, 0, 0, 0, 232, 0, 1, 0, 111, 0, 0, 1, 0, 0, 0, 1, 210, 184, 204, 187, 193, 0, 236, 226, 0, 204, 226, 182, 0, 187, 257, 0, 0, 201, 237, 0, 179, 133, 0, 1, 184, 0, 158, 0, 134, 0, 218, 239, 86, 250, 142, 178, 0, 1, 0, 0, 157, 268, 0, 107, 1, 0, 1, 231, 203, 0, 0, 0, 228, 228, 228, 197, 0, 193, 237, 142, 182, 1, 184, 180, 0, 0, 0, 0, 0, 1, 0, 193, 0, 146, 0, 1, 0, 106, 0, 229, 0, 0, 106, 0, 0, 229, 239, 0, 1, 0, 1, 0, 0, 0, 1, 0, 0, 0, 1, 0, 171, 0, 0, 0, 0, 189, 189, 0, 207, 1, 207, 181, 0, 1, 0, 0, 0, 134, 229, 1, 1, 211, 179, 146, 269, 125, 57, 269, 269, 269, 269, 269, 137, 71, 71, 71, 71, 150, 155, 87, 71, 150, 150, 71, 71, 102, 102, 102, 128, 137, 137, 137, 71, 71, 128, 57, 87, 155, 150, 102, 146, 150, 125, 125, 125, 150, 71, 68, 68, 68, 68, 68, 68, 1, 0, 212, 185, 221, 1, 0, 0, 145, 0, 0, 0, 0, 0, 109, 185, 1, 1, 0, 0, 207, 207, 69, 227, 195, 0, 0, 0, 185, 0, 206, 0, 206, 0, 0, 217, 0, 0, 210, 210, 0, 1, 1, 0, 145, 217, 170, 0, 1, 1, 209, 0, 0, 0, 69, 185, 202, 0, 221, 0, 1, 200, 196, 0, 0, 190, 0, 0, 0, 0, 1, 0, 1, 0, 172, 1, 0, 213, 0, 0, 0, 231, 0, 0, 0, 0, 208, 143, 0, 1, 0, 0, 0, 0, 205, 200, 1, 1, 0, 205, 196, 0, 186, 231, 109, 0, 0, 152, 1, 187, 1, 0, 187, 0, 0, 234, 0, 0, 0, 212, 0, 210, 114, 0, 220, 114, 201, 0, 0, 0, 208, 193, 0, 0, 122, 0, 0, 205, 0, 187, 209, 149, 0, 187, 0, 1, 0, 187, 194, 143, 0, 0, 0, 0, 0, 202, 0, 122, 227, 152, 0, 234, 0, 0, 1, 213, 186, 1, 193, 172, 0, 0, 0, 0, 214, 199, 194, 0, 0, 222, 190, 222, 0, 195, 0, 1, 0, 143, 170, 187, 0, 0, 1, 0, 148, 0, 208, 0, 0, 153, 151, 210, 1, 186, 186, 0, 1, 0, 220, 0, 0, 199, 0, 149, 208, 151, 3, 0, 1, 3, 0, 0, 0, 0, 0, 0, 1, 0, 1, 0, 0, 213, 1, 63, 197, 153, 0, 0, 197, 0, 214, 114, 148, 0, 0, 0, 0, 63, 0, 0, 205, 0, 0, 0, 0, 0, 0, 0, 0, 1, 0, 0, 1, 0, 0, 0, 199, 0, 0, 201, 1, 213, 208, 0, 0, 187, 208, 187, 1, 1, 0, 1, 1, 160, 160, 160, 216, 0, 177, 150, 150, 0, 219, 1, 0, 220, 0, 0, 219, 0, 1, 0, 216, 1, 213, 139, 210, 210, 0, 150, 4, 0, 0, 0, 177, 127, 0, 1, 1, 95, 1, 181, 0, 181, 0, 0, 127, 0, 72, 216, 0, 166, 1, 1, 149, 238, 220, 1, 131, 253, 1, 216, 1, 0, 0, 131, 0, 0, 95, 204, 0, 0, 119, 0, 1, 1, 166, 0, 0, 0, 186, 169, 1, 0, 0, 0, 221, 173, 72, 149, 166, 1, 236, 137, 166, 169, 111, 0, 0, 1, 1, 0, 178, 191, 0, 192, 71, 0, 1, 0, 213, 207, 216, 2, 71, 139, 0, 0, 0, 0, 1, 0, 227, 1, 119, 0, 1, 227, 161, 0, 0, 1, 1, 216, 262, 222, 0, 192, 0, 0, 0, 0, 189, 0, 179, 0, 161, 179, 0, 144, 0, 226, 206, 226, 1, 0, 1, 0, 0, 0, 231, 236, 0, 166, 0, 0, 197, 192, 0, 0, 0, 0, 0, 0, 203, 0, 0, 157, 0, 1, 232, 0, 0, 95, 0, 0, 173, 0, 221, 0, 0, 0, 247, 247, 0, 0, 0, 201, 201, 0, 0, 139, 160, 111, 0, 0, 95, 0, 0, 0, 1, 182, 2, 0, 213, 0, 0, 0, 0, 0, 238, 137, 0, 186, 160, 0, 0, 145, 274, 0, 200, 200, 1, 0, 227, 0, 1, 1, 0, 197, 0, 244, 0, 0, 218, 0, 121, 262, 0, 0, 0, 0, 0, 227, 203, 0, 0, 0, 1, 1, 213, 0, 0, 1, 0, 218, 95, 1, 0, 4, 0, 4, 157, 0, 0, 1, 231, 0, 0, 61, 1, 180, 1, 0, 61, 274, 166, 170, 1, 0, 0, 216, 0, 220, 0, 170, 0, 0, 1, 230, 0, 1, 230, 0, 0, 213, 253, 0, 236, 180, 204, 0, 216, 0, 236, 232, 206, 0, 137, 215, 0, 0, 206, 0, 151, 151, 121, 0, 137, 207, 210, 210, 0, 0, 203, 176, 222, 0, 1, 176, 0, 150, 0, 0, 0, 0, 182, 0, 145, 0, 147, 131, 0, 147, 247, 178, 203, 206, 215, 192, 0, 213, 206, 0, 213, 213, 0, 0, 191, 188, 0, 0, 0, 0, 213, 0, 180, 1, 189, 180, 0, 71, 0, 0, 180, 188, 203, 0, 0, 213, 0, 0, 0, 131, 144, 244, 123, 123, 0, 0, 0, 0, 0, 230, 0, 0, 0, 245, 230, 245, 0, 245, 245, 245, 245, 150, 150, 150, 230, 150, 123, 0, 230, 123, 56, 240, 240, 74, 74, 56, 74, 56, 74, 140, 56, 56, 56, 74, 56, 140, 93, 140, 56, 140, 140, 140, 56, 74, 93, 56, 0, 0, 145, 0, 239, 263, 0, 100, 182, 230, 0, 198, 0, 0, 263, 222, 0, 0, 0, 0, 1, 215, 0, 230, 221, 225, 241, 1, 226, 242, 230, 226, 167, 0, 0, 0, 239, 0, 0, 0, 1, 0, 0, 0, 0, 219, 230, 113, 0, 1, 1, 0, 0, 1, 225, 0, 189, 0, 0, 0, 242, 228, 0, 2, 2, 0, 222, 208, 0, 0, 0, 0, 0, 0, 123, 0, 222, 225, 138, 227, 0, 228, 0, 0, 0, 222, 145, 0, 237, 0, 235, 235, 0, 0, 235, 0, 0, 1, 205, 148, 0, 0, 0, 0, 0, 221, 161, 0, 1, 0, 196, 204, 6, 148, 0, 0, 1, 0, 1, 203, 198, 0, 0, 0, 0, 224, 224, 161, 0, 0, 0, 0, 194, 0, 154, 233, 0, 0, 0, 257, 0, 154, 0, 0, 154, 0, 0, 0, 242, 0, 0, 0, 214, 0, 188, 1, 0, 96, 1, 0, 1, 1, 221, 221, 1, 96, 118, 0, 0, 0, 118, 1, 0, 149, 149, 213, 1, 0, 0, 0, 0, 163, 0, 152, 0, 1, 174, 202, 0, 0, 1, 0, 229, 0, 247, 0, 0, 149, 242, 202, 233, 174, 153, 153, 1, 154, 0, 195, 195, 222, 0, 236, 1, 1, 113, 0, 222, 0, 0, 0, 1, 138, 1, 194, 0, 0, 0, 0, 236, 0, 0, 0, 0, 0, 0, 0, 188, 206, 214, 247, 0, 149, 91, 225, 196, 171, 189, 0, 1, 0, 91, 238, 0, 238, 0, 182, 0, 0, 242, 0, 0, 206, 229, 163, 0, 0, 0, 0, 241, 0, 1, 182, 239, 1, 227, 214, 0, 152, 0, 0, 0, 0, 0, 0, 240, 239, 240, 0, 1, 0, 0, 1, 0, 242, 0, 123, 182, 1, 0, 257, 1, 171, 1, 0, 1, 0, 0, 0, 136, 204, 148, 0, 167, 237, 0, 1, 0, 0, 0, 0, 0, 1, 136, 0, 0, 0, 0, 1, 182, 0, 243, 1, 0, 0, 0, 91, 136, 0, 0, 0, 0, 6, 162, 0, 154, 162, 0, 240, 152, 215, 1, 0, 1, 1, 0, 152, 208, 213, 0, 0, 131, 131, 205, 206, 203, 243, 219, 0, 225, 0, 0, 0, 100, 229, 229, 73, 229, 229, 0, 0, 0, 1, 0, 0, 219, 219, 160, 0, 160, 208, 208, 1, 0, 1, 171, 171, 160, 0, 175, 0, 0, 0, 204, 0, 0, 7, 0, 0, 1, 0, 0, 0, 229, 114, 1, 0, 0, 1, 136, 1, 172, 232, 180, 201, 1, 1, 0, 0, 0, 219, 128, 0, 0, 136, 1, 220, 191, 229, 0, 0, 158, 1, 136, 158, 162, 174, 0, 0, 196, 169, 141, 166, 0, 158, 158, 7, 0, 0, 174, 158, 1, 208, 1, 0, 0, 114, 141, 1, 166, 1, 1, 0, 196, 0, 0, 1, 0, 229, 201, 0, 0, 220, 0, 0, 220, 207, 1, 0, 142, 162, 172, 0, 0, 195, 195, 0, 0, 0, 0, 1, 1, 0, 0, 0, 1, 0, 207, 0, 0, 0, 0, 0, 204, 0, 180, 0, 219, 0, 229, 0, 175, 0, 0, 232, 0, 0, 229, 174, 0, 0, 169, 0, 186, 0, 186, 0, 0, 0, 0, 0, 0, 219, 1, 0, 191, 1, 222, 222, 229, 1, 1, 1, 128, 142, 163, 0, 163, 230, 0, 230, 0, 0, 0, 0, 0, 0, 1, 172, 229, 162, 147, 86, 0, 0, 0, 0, 0, 86, 0, 140, 142, 142, 86, 142, 86, 140, 245, 86, 86, 245, 154, 154, 142, 142, 142, 147, 89, 52, 52, 52, 52, 52, 52, 49, 52, 52, 202, 58, 58, 58, 49, 58, 49, 49, 58, 202, 58, 202, 202, 58, 202, 202, 49, 171, 171, 171, 171, 58, 171, 49, 171, 0, 0, 0, 0, 243, 179, 201, 158, 0, 0, 215, 243, 120, 0, 170, 212, 224, 1, 0, 0, 0, 0, 253, 0, 1, 1, 204, 204, 0, 0, 0, 214, 1, 0, 214, 56, 0, 0, 214, 0, 0, 120, 214, 0, 0, 0, 0, 214, 170, 0, 0, 221, 195, 0, 234, 0, 1, 0, 0, 1, 177, 206, 1, 0, 169, 138, 138, 1, 138, 0, 0, 151, 195, 0, 0, 243, 207, 0, 0, 0, 0, 227, 221, 213, 0, 0, 0, 0, 269, 0, 0, 56, 177, 231, 0, 151, 219, 0, 121, 0, 190, 213, 230, 0, 105, 148, 1, 195, 1, 215, 0, 0, 0, 213, 1, 1, 1, 1, 212, 213, 0, 0, 176, 197, 0, 253, 0, 1, 0, 228, 1, 158, 230, 1, 219, 250, 0, 214, 0, 0, 0, 0, 214, 151, 1, 213, 216, 1, 0, 219, 197, 0, 0, 182, 0, 0, 1, 105, 0, 206, 0, 0, 0, 0, 122, 0, 0, 226, 0, 190, 206, 200, 136, 1, 227, 0, 0, 0, 0, 0, 200, 200, 0, 121, 0, 0, 0, 0, 0, 0, 0, 1, 0, 0, 0, 0, 190, 0, 0, 1, 0, 0, 0, 1, 171, 219, 136, 228, 1, 1, 0, 187, 0, 148, 182, 234, 206, 1, 187, 0, 0, 0, 157, 0, 136, 0, 0, 61, 0, 0, 0, 179, 0, 0, 0, 159, 0, 0, 207, 159, 269, 135, 0, 0, 0, 0, 0, 182, 135, 0, 0, 0, 0, 0, 226, 230, 0, 135, 0, 1, 230, 1, 0, 176, 0, 179, 213, 1, 1, 1, 0, 0, 0, 175, 175, 175, 96, 0, 1, 195, 179, 1, 0, 1, 0, 1, 122, 182, 1, 204, 0, 0, 205, 231, 181, 205, 235, 0, 196, 204, 220, 220, 0, 0, 235, 0, 0, 0, 0, 1, 96, 0, 196, 0, 231, 0, 0, 175, 235, 175, 0, 207, 1, 61, 216, 207, 0, 196, 0, 0, 1, 1, 0, 242, 0, 207, 0, 0, 0, 175, 209, 207, 0, 250, 1, 230, 0, 0, 0, 231, 1, 0, 0, 139, 0, 139, 171, 0, 0, 0, 0, 0, 0, 235, 0, 0, 195, 1, 174, 0, 213, 0, 190, 0, 0, 201, 195, 231, 242, 187, 0, 0, 139, 0, 130, 130, 130, 0, 176, 209, 169, 0, 0, 0, 1, 0, 206, 219, 228, 0, 0, 0, 1, 207, 1, 0, 1, 204, 198, 0, 1, 1, 0, 1, 200, 0, 0, 224, 198, 0, 187, 198, 157, 0, 0, 0, 176, 213, 0, 0, 0, 159, 0, 212, 1, 0, 1, 0, 1, 1, 0, 1, 214, 0, 0, 0, 181, 0, 174, 0, 0, 0, 0, 110, 96, 0, 0, 110, 1, 191, 110, 90, 0, 188, 0, 191, 143, 0, 1, 0, 0, 0, 1, 1, 221, 0, 0, 0, 244, 177, 1, 0, 1, 0, 125, 125, 2, 0, 1, 125, 1, 1, 196, 177, 1, 1, 175, 0, 175, 0, 90, 0, 2, 365, 190, 196, 190, 5, 190, 0, 5, 194, 1, 0, 0, 0, 0, 181, 165, 0, 0, 218, 190, 75, 0, 201, 203, 1, 0, 0, 203, 244, 213, 0, 201, 0, 0, 0, 0, 0, 0, 1, 0, 0, 0, 0, 9, 0, 0, 0, 196, 221, 0, 229, 1, 265, 1, 1, 1, 0, 1, 0, 0, 0, 0, 0, 1, 0, 0, 1, 196, 0, 0, 250, 206, 0, 161, 0, 0, 1, 225, 0, 0, 0, 0, 75, 1, 0, 0, 196, 0, 188, 218, 0, 0, 206, 1, 0, 0, 1, 0, 1, 1, 0, 0, 0, 1, 9, 0, 0, 0, 0, 0, 154, 203, 150, 131, 365, 1, 0, 190, 1, 131, 1, 190, 139, 139, 0, 0, 204, 1, 185, 192, 1, 218, 1, 0, 0, 0, 4, 0, 131, 1, 0, 0, 194, 0, 218, 1, 0, 213, 165, 75, 0, 1, 0, 204, 1, 218, 197, 197, 221, 180, 0, 181, 0, 0, 0, 0, 0, 0, 0, 0, 0, 0, 4, 150, 181, 150, 1, 0, 0, 0, 242, 0, 0, 143, 1, 0, 0, 0, 0, 0, 141, 141, 141, 1, 0, 0, 0, 0, 1, 1, 242, 1, 180, 250, 0, 197, 0, 0, 0, 1, 190, 5, 5, 0, 0, 234, 234, 234, 194, 1, 0, 96, 1, 190, 1, 1, 0, 0, 1, 22, 180, 0, 1, 1, 1, 180, 219, 0, 0, 0, 0, 0, 1, 0, 0, 1, 0, 240, 203, 234, 0, 234, 0, 0, 1, 0, 0, 0, 180, 0, 1, 0, 0, 0, 0, 220, 0, 0, 194, 148, 0, 0, 220, 0, 148, 0, 211, 0, 0, 0, 211, 0, 220, 240, 150, 0, 213, 0, 0, 0, 0, 0, 0, 0, 180, 213, 143, 204, 194, 0, 22, 219, 0, 204, 0, 206, 0, 0, 0, 0, 0, 0, 1, 0, 0, 0, 0, 0, 0, 0, 0, 233, 154, 233, 1, 0, 1, 0, 0, 0, 84, 0, 0, 0, 0, 1, 260, 260, 257, 84, 1, 260, 1, 0, 0, 0, 1, 0, 192, 0, 1, 1, 0, 0, 0, 0, 225, 228, 228, 242, 1, 229, 197, 0, 1, 0, 197, 161, 0, 0, 75, 257, 0, 265, 0, 0, 1, 0, 185, 0, 0, 0, 0, 0, 0, 0, 0, 0, 0, 60, 60, 60, 156, 123, 140, 140, 156, 156, 156, 156, 123, 60, 156, 124, 124, 124, 124, 123, 0, 0, 0, 0, 0, 41, 41, 41, 41, 41, 41, 0, 0, 192, 1, 1, 192, 1, 215, 238, 0, 0, 1, 1, 0, 0, 0, 0, 0, 226, 0, 0, 0, 0, 1, 190, 190, 148, 204, 210, 0, 202, 1, 0, 185, 200, 0, 0, 0, 0, 200, 0, 0, 225, 185, 140, 158, 0, 142, 148, 217, 140, 0, 0, 0, 226, 0, 217, 0, 140, 1, 234, 1, 1, 0, 0, 1, 225, 62, 62, 248, 0, 202, 2, 0, 170, 0, 248, 2, 202, 0, 0, 1, 0, 223, 0, 210, 204, 236, 0, 0, 189, 0, 0, 0, 223, 0, 1, 0, 204, 0, 93, 123, 0, 0, 0, 0, 93, 0, 146, 0, 140, 0, 0, 123, 1, 0, 1, 0, 191, 200, 1, 217, 204, 0, 0, 227, 0, 224, 202, 142, 204, 0, 0, 212, 142, 248, 183, 171, 0, 0, 226, 0, 0, 0, 235, 2, 231, 154, 143, 0, 0, 0, 0, 191, 0, 0, 237, 90, 0, 0, 2, 204, 158, 103, 0, 0, 225, 192, 236, 178, 78, 224, 204, 219, 202, 1, 174, 0, 228, 212, 221, 226, 199, 0, 226, 0, 205, 146, 221, 212, 0, 0, 199, 0, 0, 0, 0, 235, 1, 238, 205, 0, 185, 242, 1, 183, 232, 155, 0, 201, 193, 0, 233, 0, 0, 146, 204, 0, 0, 255, 1, 0, 233, 186, 1, 0, 233, 226, 164, 142, 174, 0, 237, 161, 0, 237, 0, 191, 0, 0, 164, 1, 237, 1, 1, 1, 0, 208, 155, 155, 0, 0, 155, 0, 208, 0, 237, 1, 0, 1, 1, 141, 0, 0, 1, 206, 0, 237, 1, 0, 189, 0, 1, 0, 0, 206, 1, 1, 0, 0, 206, 219, 0, 245, 148, 221, 170, 0, 0, 0, 191, 1, 158, 148, 1, 134, 212, 219, 1, 0, 150, 0, 0, 0, 0, 0, 2, 150, 221, 218, 1, 2, 0, 161, 221, 0, 0, 186, 0, 78, 1, 0, 0, 0, 213, 0, 0, 142, 213, 0, 185, 229, 0, 0, 231, 0, 0, 217, 0, 1, 0, 189, 215, 228, 0, 224, 215, 0, 0, 0, 215, 0, 0, 1, 0, 0, 1, 0, 186, 0, 242, 0, 0, 1, 0, 1, 216, 212, 0, 0, 1, 189, 0, 1, 228, 1, 0, 0, 228, 228, 0, 204, 0, 0, 0, 232, 0, 1, 238, 0, 0, 212, 0, 146, 0, 189, 0, 227, 193, 154, 154, 221, 0, 1, 164, 215, 25, 0, 213, 0, 0, 0, 178, 0, 0, 189, 204, 0, 192, 204, 0, 216, 141, 0, 0, 0, 155, 0, 0, 1, 0, 1, 0, 108, 1, 238, 206, 219, 0, 108, 219, 0, 1, 0, 0, 134, 219, 0, 134, 190, 205, 217, 0, 212, 255, 0, 0, 227, 210, 0, 1, 0, 193, 0, 226, 0, 0, 0, 0, 1, 1, 245, 0, 0, 229, 0, 223, 164, 195, 0, 204, 196, 195, 0, 1, 6, 6, 201, 0, 0, 1, 0, 0, 1, 0, 0, 0, 0, 1, 103, 1, 0, 0, 0, 226, 0, 0, 0, 0, 0, 140, 0, 1, 196, 180, 90, 238, 233, 253, 0, 212, 180, 205, 1, 0, 171, 1, 224, 0, 227, 1, 0, 0, 0, 159, 226, 0, 0, 0, 8, 0, 1, 0, 0, 0, 0, 0, 164, 0, 0, 0, 0, 110, 0, 146, 0, 110, 8, 1, 224, 176, 0, 42, 42, 209, 209, 0, 143, 2, 0, 220, 178, 220, 1, 216, 247, 0, 238, 159, 247, 194, 191, 194, 194, 178, 0, 0, 172, 0, 191, 200, 0, 0, 0, 53, 0, 1, 193, 0, 216, 186, 176, 0, 1, 190, 0, 53, 185, 238, 202, 1, 234, 0, 202, 191, 0, 1, 185, 233, 220, 143, 143, 220, 0, 0, 221, 0, 0, 202, 0, 1, 0, 0, 0, 0, 0, 1, 0, 0, 0, 0, 0, 210, 0, 0, 25, 0, 0, 1, 237, 0, 202, 0, 190, 221, 0, 0, 146, 212, 218, 208, 253, 172, 0, 0, 0, 0, 4, 0, 0, 0, 0, 1, 253, 0, 4, 169, 0, 1, 259, 0, 0, 0, 1, 196, 0, 196, 216, 1, 0, 0, 1, 109, 0, 0, 0, 0, 175, 0, 175, 0, 134, 0, 0, 0, 219, 0, 1, 4, 134, 228, 1, 174, 191, 0, 144, 210, 191, 0, 0, 0, 0, 235, 228, 256, 1, 0, 0, 0, 209, 162, 0, 163, 203, 256, 0, 203, 0, 153, 235, 0, 174, 141, 235, 0, 0, 0, 0, 214, 0, 221, 0, 0, 0, 0, 203, 0, 178, 200, 0, 1, 0, 0, 0, 180, 234, 162, 0, 144, 0, 84, 162, 1, 184, 236, 184, 236, 0, 0, 0, 234, 236, 0, 229, 112, 0, 0, 183, 1, 0, 0, 190, 1, 236, 0, 214, 221, 0, 0, 205, 0, 144, 0, 192, 193, 0, 0, 193, 0, 0, 0, 1, 192, 210, 0, 0, 0, 1, 0, 0, 208, 0, 0, 222, 0, 0, 0, 0, 229, 0, 0, 162, 0, 0, 0, 0, 0, 0, 0, 109, 0, 234, 1, 0, 0, 0, 0, 219, 49, 259, 0, 1, 222, 0, 0, 219, 0, 0, 0, 0, 1, 203, 0, 0, 0, 0, 0, 144, 0, 0, 0, 235, 1, 84, 145, 1, 203, 0, 1, 208, 0, 0, 169, 0, 154, 154, 0, 201, 201, 218, 112, 0, 0, 203, 0, 223, 203, 154, 0, 203, 0, 219, 0, 153, 0, 0, 164, 0, 0, 164, 0, 0, 0, 1, 0, 1, 0, 112, 219, 202, 223, 0, 0, 201, 0, 0, 0, 1, 1, 0, 201, 190, 153, 1, 163, 0, 218, 169, 201, 0, 209, 203, 0, 0, 201, 214, 201, 0, 0, 201, 0, 183, 1, 0, 0, 227, 0, 191, 0, 0, 1, 1, 0, 0, 0, 0, 0, 0, 227, 218, 1, 180, 179, 191, 0, 193, 0, 0, 1, 169, 0, 0, 0, 0, 189, 0, 0, 124, 1, 179, 0, 189, 1, 0, 220, 0, 193, 0, 124, 124, 0, 0, 258, 0, 0, 158, 0, 0, 0, 0, 0, 0, 0, 0, 0, 0, 253, 0, 0, 205, 0, 0, 0, 211, 0, 0, 203, 0, 253, 0, 0, 1, 258, 134, 212, 0, 177, 177, 233, 191, 0, 230, 230, 230, 191, 212, 233, 0, 134, 211, 211, 0, 0, 212, 0, 0, 202, 0, 191, 0, 200, 216, 0, 0, 0, 0, 4, 192, 211, 224, 0, 158, 212, 0, 0, 117, 0, 190, 208, 0, 208, 117, 202, 0, 0, 196, 0, 1, 0, 208, 0, 0, 170, 0, 1, 1, 0, 164, 0, 164, 170, 170, 0, 220, 0, 144, 0, 0, 0, 190, 145, 0, 0, 0, 0, 0, 202, 0, 0, 0, 196, 0, 235, 0, 179, 0, 0, 0, 0, 197, 0, 197, 129, 0, 197, 0, 0, 169, 129, 0, 83, 83, 178, 192, 0, 0, 218, 0, 0, 0, 0, 234, 141, 0, 0, 0, 179, 0, 0, 183, 0, 0, 0, 0, 0, 1, 0, 0, 49, 179, 191, 183, 210, 224, 0, 105, 89, 89, 89, 89, 105, 127, 135, 135, 135, 135, 135, 135, 103, 84, 20, 103, 105, 84, 103, 105, 123, 123, 123, 123, 44, 44, 46, 46, 103, 20, 147, 147, 147, 1, 145, 110, 147, 147, 147, 110, 1, 215, 0, 0, 172, 215, 215, 0, 0, 1, 215, 0, 0, 0, 0, 0, 175, 229, 1, 0, 232, 0, 0, 0, 0, 0, 125, 0, 184, 184, 0, 0, 240, 175, 0, 187, 0, 223, 0, 223, 114, 0, 0, 215, 251, 172, 209, 0, 0, 0, 1, 0, 155, 1, 0, 251, 215, 213, 0, 0, 234, 0, 234, 243, 0, 0, 0, 134, 199, 0, 0, 180, 187, 0, 155, 231, 0, 1, 246, 215, 208, 1, 89, 234, 0, 191, 183, 191, 181, 148, 209, 148, 215, 0, 0, 0, 0, 0, 172, 0, 192, 0, 0, 1, 199, 165, 0, 215, 1, 0, 1, 1, 0, 0, 0, 205, 0, 1, 123, 230, 0, 0, 0, 0, 0, 1, 0, 0, 211, 0, 191, 0, 122, 1, 205, 0, 0, 165, 230, 0, 239, 175, 0, 0, 0, 213, 192, 0, 1, 0, 192, 0, 153, 139, 186, 199, 199, 0, 0, 214, 263, 0, 0, 1, 208, 186, 153, 197, 0, 0, 0, 1, 153, 214, 220, 0, 139, 0, 231, 0, 168, 209, 1, 1, 0, 215, 183, 122, 0, 0, 114, 0, 165, 0, 0, 0, 0, 0, 0, 0, 220, 186, 215, 208, 0, 0, 0, 0, 0, 0, 186, 0, 175, 0, 195, 206, 0, 0, 208, 9, 0, 0, 142, 0, 142, 0, 0, 0, 0, 204, 172, 194, 0, 18, 1, 0, 197, 0, 0, 0, 231, 211, 230, 0, 9, 260, 0, 0, 197, 0, 0, 0, 18, 231, 208, 1, 0, 194, 211, 0, 0, 0, 0, 0, 0, 0, 204, 0, 0, 0, 213, 1, 241, 234, 1, 0, 0, 89, 195, 0, 196, 215, 208, 0, 184, 201, 180, 0, 184, 0, 216, 207, 170, 173, 0, 170, 0, 0, 1, 0, 0, 0, 230, 246, 186, 0, 0, 230, 201, 0, 0, 0, 0, 1, 0, 0, 1, 0, 223, 181, 223, 222, 207, 222, 0, 231, 1, 0, 181, 0, 230, 181, 134, 248, 0, 263, 246, 0, 0, 0, 0, 1, 235, 235, 1, 123, 1, 0, 0, 0, 0, 1, 0, 0, 216, 235, 216, 0, 0, 0, 234, 0, 0, 0, 215, 0, 234, 209, 0, 234, 179, 0, 1, 208, 122, 251, 0, 181, 134, 0, 0, 234, 0, 1, 196, 205, 0, 133, 133, 132, 0, 125, 0, 86, 235, 0, 200, 0, 0, 132, 205, 224, 224, 1, 198, 240, 0, 203, 243, 203, 198, 0, 0, 116, 206, 116, 0, 0, 1, 123, 1, 248, 0, 0, 240, 231, 175, 155, 200, 0, 1, 0, 192, 0, 187, 0, 0, 1, 1, 0, 86, 0, 0, 0, 1, 0, 0, 1, 0, 0, 1, 0, 206, 0, 0, 0, 229, 224, 1, 1, 206, 251, 170, 194, 0, 1, 0, 0, 1, 0, 251, 0, 232, 155, 0, 1, 122, 0, 232, 0, 0, 0, 0, 0, 0, 0, 0, 193, 1, 228, 1, 239, 0, 207, 0, 231, 237, 0, 228, 0, 216, 162, 0, 0, 0, 0, 0, 193, 0, 0, 0, 0, 239, 0, 207, 0, 0, 200, 120, 120, 0, 0, 212, 0, 191, 241, 153, 1, 0, 153, 153, 0, 179, 0, 168, 260, 0, 171, 171, 1, 0, 0, 0, 239, 1, 0, 0, 141, 191, 141, 0, 251, 0, 0, 170, 213, 0, 213, 0, 246, 171, 193, 0, 197, 0, 0, 209, 0, 0, 213, 0, 0, 0, 0, 0, 0, 209, 168, 0, 212, 193, 0, 0, 0, 0, 216, 0, 208, 1, 237, 194, 173, 134, 232, 0, 186, 235, 0, 0, 211, 191, 162, 0, 0, 0, 0, 0, 1, 217, 217, 217, 217, 140, 0, 140, 107, 0, 0, 1, 140, 0, 190, 0, 0, 1, 1, 1, 218, 1, 218, 1, 0, 239, 239, 0, 190, 0, 234, 234, 0, 0, 0, 130, 136, 136, 130, 0, 0, 176, 0, 72, 0, 0, 115, 1, 0, 168, 266, 0, 1, 0, 220, 155, 209, 0, 0, 0, 176, 0, 168, 266, 176, 0, 147, 0, 1, 0, 202, 72, 0, 0, 132, 1, 220, 0, 205, 0, 200, 223, 0, 99, 0, 0, 0, 124, 162, 0, 1, 0, 0, 0, 208, 247, 4, 198, 247, 1, 0, 0, 1, 0, 132, 4, 0, 115, 72, 0, 0, 228, 205, 228, 1, 146, 0, 0, 0, 1, 162, 0, 1, 0, 1, 213, 115, 183, 183, 213, 173, 0, 221, 221, 0, 202, 173, 146, 0, 222, 0, 1, 222, 0, 0, 178, 178, 0, 178, 0, 1, 0, 0, 1, 1, 0, 0, 197, 230, 0, 230, 197, 0, 200, 202, 0, 0, 230, 0, 107, 1, 0, 99, 99, 0, 230, 0, 223, 204, 0, 198, 204, 0, 204, 0, 240, 223, 223, 85, 141, 0, 175, 141, 155, 0, 0, 1, 0, 0, 0, 0, 240, 149, 240, 149, 1, 0, 0, 85, 0, 0, 218, 0, 0, 0, 0, 1, 1, 1, 0, 0, 0, 0, 209, 0, 0, 0, 210, 210, 189, 0, 218, 189, 0, 0, 0, 0, 123, 123, 1, 0, 147, 230, 0, 230, 0, 1, 1, 245, 245, 0, 0, 1, 0, 0, 0, 157, 0, 0, 0, 0, 157, 218, 0, 157, 0, 0, 198, 0, 0, 124, 0, 0, 0, 0, 0, 0, 0, 218, 1, 230, 198, 230, 0, 218, 0, 0, 218, 230, 0, 0, 175, 0, 213, 0, 213, 152, 0, 98, 152, 1, 98, 1, 0, 218, 152, 218, 0, 247, 0, 218, 0, 0, 0, 0, 208, 0, 209, 68, 200, 200, 185, 200, 200, 68, 68, 0, 0, 0, 141, 68, 141, 141, 141, 188, 68, 188, 188, 188, 188, 188, 0, 0, 0, 0, 0, 0, 0, 68, 92, 92, 195, 195, 195, 195, 195, 195, 262, 62, 62, 152, 152, 152, 152, 152, 152, 127, 157, 127, 127, 126, 152, 152, 152, 126, 157, 250, 0, 250, 0, 222, 0, 102, 102, 0, 0, 0, 0, 0, 0, 0, 0, 229, 1, 0, 0, 0, 2, 0, 199, 102, 2, 199, 0, 222, 0, 0, 0, 56, 56, 125, 125, 172, 207, 0, 0, 1, 207, 0, 0, 1, 4, 4, 0, 0, 0, 0, 202, 0, 202, 0, 0, 214, 200, 1, 0, 0, 0, 125, 205, 197, 229, 139, 223, 0, 0, 0, 0, 1, 0, 223, 0, 207, 0, 1, 174, 125, 192, 192, 200, 214, 229, 202, 229, 202, 0, 102, 0, 102, 0, 174, 0, 0, 0, 210, 200, 0, 0, 0, 0, 205, 205, 1, 174, 109, 0, 0, 109, 0, 1, 0, 0, 207, 197, 116, 116, 0, 0, 0, 0, 115, 115, 0, 226, 226, 207, 0, 0, 0, 245, 245, 1, 1, 245, 0, 245, 0, 0, 139, 139, 0, 0, 139, 112, 236, 0, 0, 139, 200, 0, 0, 0, 164, 164, 203, 206, 190, 206, 0, 236, 0, 179, 0, 222, 203, 203, 229, 222, 199, 203, 229, 203, 179, 194, 194, 0, 0, 0, 0, 0, 147, 147, 1, 0, 0, 0, 190, 219, 194, 172, 1, 0, 1, 0, 0, 0, 219, 0, 0, 207, 0, 0, 0, 210, 0, 0, 0, 1, 1, 0, 0, 0, 0, 0, 199, 0, 199, 0, 0, 0, 0, 0, 1, 1, 219, 199, 0, 0, 0, 229, 1, 174, 4, 157, 212, 212, 0, 0, 0, 4, 0, 4, 0, 1, 0, 0, 147, 1, 200, 0, 1, 1, 0, 147, 0, 0, 1, 1, 177, 0, 0, 177, 0, 0, 0, 0, 0, 0, 0, 0, 0, 234, 149, 190, 149, 84, 0, 0, 199, 199, 67, 0, 192, 0, 67, 192, 0, 162, 162, 0, 0, 0, 1, 234, 229, 0, 0, 1, 0, 229, 96, 207, 96, 96, 191, 191, 0, 0, 0, 0, 229, 211, 161, 0, 0, 0, 0, 211, 0, 1, 0, 1, 172, 157, 157, 172, 0, 1, 212, 192, 192, 0, 234, 6, 1, 0, 0, 0, 0, 202, 202, 0, 0, 156, 229, 0, 167, 1, 216, 0, 216, 205, 0, 0, 0, 0, 0, 0, 0, 0, 0, 1, 205, 79, 79, 0, 1, 1, 0, 236, 0, 236, 0, 0, 0, 0, 0, 235, 0, 215, 0, 0, 0, 0, 1, 161, 0, 1, 0, 167, 1, 0, 0, 0, 0, 206, 206, 206, 0, 0, 156, 226, 191, 226, 0, 0, 67, 0, 130, 0, 0, 0, 207, 207, 0, 0, 1, 221, 0, 190, 0, 0, 221, 0, 221, 0, 0, 0, 0, 218, 203, 0, 203, 0, 203, 0, 0, 0, 215, 0, 207, 0, 201, 0, 0, 0, 1, 0, 145, 0, 0, 1, 0, 0, 191, 1, 0, 195, 195, 1, 191, 218, 0, 0, 0, 0, 0, 1, 6, 0, 0, 0, 195, 195, 0, 0, 0, 207, 207, 207, 206, 0, 0, 207, 0, 1, 145, 1, 0, 0, 1, 0, 1, 1, 0, 163, 0, 218, 0, 0, 0, 0, 0, 130, 0, 216, 1, 216, 0, 0, 0, 0, 0, 0, 0, 0, 0, 212, 206, 121, 189, 189, 235, 121, 0, 207, 0, 0, 221, 0, 218, 0, 0, 0, 0, 0, 221, 0, 207, 1, 211, 201, 0, 192, 211, 84, 205, 132, 161, 161, 161, 155, 176, 176, 256, 256, 256, 256, 211, 211, 149, 149, 149, 149, 149, 147, 0, 0, 120, 207, 39, 39, 96, 96, 96, 96, 96, 161, 211, 211, 203, 147, 68, 68, 149, 211, 96, 132, 155, 155, 155, 211, 133, 267, 267, 267, 133, 116, 116, 116, 116, 116, 151, 167, 167, 167, 167, 167, 167, 167, 167, 233, 233, 167, 167, 233, 267, 116, 133, 133, 133, 133, 233, 198, 198, 188, 0, 0, 0, 242, 242, 0, 0, 181, 0, 0, 3, 191, 3, 220, 1, 1, 233, 0, 163, 0, 0, 0, 223, 0, 0, 183, 215, 0, 215, 0, 0, 0, 191, 0, 207, 207, 0, 0, 0, 234, 0, 234, 0, 0, 163, 234, 163, 0, 0, 0, 0, 0, 0, 0, 0, 159, 0, 0, 0, 174, 0, 0, 1, 0, 0, 0, 0, 220, 242, 188, 0, 0, 163, 0, 0, 0, 225, 240, 0, 183, 148, 0, 225, 1, 124, 124, 1, 206, 254, 240, 0, 1, 0, 197, 0, 202, 0, 1, 0, 0, 0, 0, 0, 0, 169, 234, 0, 0, 0, 191, 219, 174, 0, 0, 242, 0, 181, 0, 0, 127, 181, 0, 1, 0, 181, 0, 148, 240, 0, 127, 1, 0, 178, 92, 131, 177, 223, 206, 126, 0, 1, 0, 212, 173, 219, 191, 178, 0, 205, 205, 0, 0, 1, 227, 233, 0, 0, 0, 239, 0, 1, 222, 0, 0, 232, 224, 0, 223, 0, 194, 239, 0, 232, 248, 248, 0, 0, 234, 0, 248, 234, 223, 0, 0, 0, 254, 0, 126, 242, 0, 0, 173, 223, 0, 1, 0, 0, 176, 1, 0, 196, 0, 196, 176, 0, 0, 193, 0, 1, 210, 0, 210, 0, 1, 0, 1, 0, 210, 0, 1, 1, 1, 1, 193, 0, 0, 0, 0, 0, 0, 216, 177, 0, 216, 171, 199, 0, 0, 169, 1, 199, 0, 223, 212, 212, 1, 246, 0, 0, 202, 0, 227, 0, 0, 154, 154, 246, 0, 1, 0, 0, 0, 0, 0, 202, 0, 242, 0, 0, 0, 204, 0, 204, 0, 0, 1, 222, 133, 133, 117, 117, 82, 242, 0, 194, 0, 82, 92, 242, 0, 242, 1, 131, 159, 0, 222, 242, 110, 144, 213, 110, 0, 144, 0, 1, 171, 0, 219, 205, 219, 219, 0, 0, 0, 0, 205, 1, 0, 0, 1, 209, 0, 0, 1, 0, 0, 246, 246, 0, 224, 0, 0, 0, 0, 0, 0, 42, 189, 9, 0, 212, 213, 0, 189, 242, 1, 183, 197, 222, 1, 242, 183, 0, 205, 0, 205, 107, 107, 205, 183, 0, 0, 0, 0, 202, 0, 0, 0, 240, 223, 178, 178, 188, 188, 0, 0, 0, 0, 171, 171, 165, 212, 165, 185, 123, 0, 185, 221, 212, 0, 0, 0, 185, 0, 123, 1, 221, 1, 1, 1, 0, 0, 42, 185, 0, 0, 95, 0, 0, 0, 0, 181, 0, 0, 217, 181, 217, 0, 0, 181, 0, 189, 202, 0, 0, 9, 0, 189, 42, 0, 181, 0, 0, 0, 223, 0, 1, 82, 0, 0, 0, 205, 205, 0, 209, 95, 0, 0, 0, 0, 0, 0, 0, 0, 172, 0, 0, 186, 0, 186, 0, 0, 0, 232, 0, 231, 0, 0, 185, 185, 0, 1, 0, 232, 236, 231, 0, 0, 0, 0, 0, 192, 0, 0, 0, 192, 0, 0, 1, 0, 0, 202, 0, 0, 0, 0, 0, 0, 0, 0, 0, 0, 184, 0, 0, 202, 0, 0, 0, 223, 1, 0, 223, 0, 0, 0, 147, 0, 0, 0, 0, 0, 0, 159, 0, 0, 0, 0, 0, 0, 0, 198, 0, 0, 0, 85, 163, 0, 198, 212, 0, 182, 190, 0, 190, 190, 0, 151, 0, 0, 1, 110, 0, 0, 0, 1, 0, 0, 172, 0, 0, 0, 212, 0, 219, 199, 225, 0, 0, 199, 0, 0, 225, 235, 184, 151, 1, 182, 159, 1, 159, 0, 172, 0, 193, 0, 0, 1, 134, 0, 0, 0, 0, 1, 1, 162, 0, 0, 162, 195, 0, 0, 0, 0, 0, 134, 205, 0, 0, 215, 215, 190, 0, 203, 203, 180, 1, 0, 1, 205, 0, 1, 0, 0, 0, 190, 0, 0, 180, 1, 206, 0, 206, 0, 0, 0, 0, 0, 0, 0, 1, 147, 0, 0, 0, 212, 0, 0, 0, 163, 0, 0, 0, 0, 0, 1, 139, 0, 0, 139, 1, 0, 0, 0, 195, 184, 203, 221, 0, 1, 0, 221, 186, 186, 186, 184, 0, 0, 0, 1, 215, 215, 1, 0, 0, 193, 205, 0, 173, 1, 0, 0, 1, 173, 0, 0, 1, 1, 0, 0, 0, 0, 0, 1, 1, 0, 219, 0, 0, 0, 0, 235, 1, 1, 1, 1, 234, 0, 0, 0, 234, 177, 165, 0, 177, 165, 0, 0, 99, 0, 0, 133, 230, 230, 0, 0, 214, 0, 0, 218, 236, 195, 214, 133, 0, 193, 215, 151, 0, 151, 0, 1, 151, 205, 0, 0, 205, 0, 1, 215, 185, 0, 0, 0, 0, 185, 185, 219, 132, 0, 132, 110, 0, 1, 1, 0, 0, 0, 189, 0, 189, 227, 0, 0, 227, 0, 0, 0, 0, 0, 183, 0, 0, 218, 1, 1, 183, 0, 206, 206, 219, 99, 207, 0, 207, 212, 0, 193, 0, 0, 85, 203, 0, 0, 115, 137, 128, 137, 252, 252, 252, 252, 252, 128, 128, 67, 67, 226, 144, 115, 115, 98, 98, 313, 313, 313, 128, 118, 118, 118, 118, 101, 101, 226, 226, 226, 226, 226, 226, 226, 226, 226, 226, 137, 49, 49, 313, 67, 252, 67, 115, 145, 168, 0, 1, 1, 171, 0, 1, 154, 1, 193, 0, 1, 154, 0, 1, 1, 0, 1, 0, 1, 0, 0, 0, 206, 171, 1, 193, 1, 0, 0, 1, 0, 1, 0, 0, 0, 1, 1, 1, 1, 206, 0, 0, 0, 80, 80, 0, 1, 0, 93, 93, 0, 0, 1, 0, 0, 232, 226, 0, 0, 215, 0, 1, 0, 98, 98, 98, 0, 207, 0, 0, 0, 0, 1, 1, 1, 207, 0, 1, 1, 0, 0, 159, 0, 0, 0, 0, 209, 0, 0, 0, 108, 0, 0, 0, 108, 136, 1, 0, 127, 0, 0, 232, 0, 1, 0, 1, 1, 216, 170, 0, 108, 265, 0, 0, 1, 0, 0, 55, 55, 1, 0, 0, 233, 265, 0, 0, 226, 0, 0, 0, 0, 0, 0, 167, 123, 0, 181, 2, 0, 1, 0, 1, 0, 0, 0, 0, 181, 0, 0, 170, 0, 0, 0, 214, 0, 0, 0, 127, 1, 0, 0, 0, 183, 159, 0, 0, 0, 196, 0, 0, 0, 0, 0, 0, 0, 70, 1, 1, 187, 0, 187, 0, 1, 0, 196, 0, 181, 1, 217, 171, 91, 0, 1, 159, 0, 91, 187, 0, 224, 224, 1, 0, 234, 0, 1, 1, 0, 0, 0, 0, 227, 227, 0, 70, 0, 0, 0, 1, 0, 91, 181, 234, 0, 0, 0, 0, 0, 0, 1, 1, 0, 0, 0, 0, 0, 0, 160, 0, 206, 0, 160, 0, 0, 1, 1, 1, 209, 0, 0, 1, 225, 0, 1, 1, 0, 124, 0, 0, 173, 1, 194, 185, 196, 228, 196, 228, 124, 1, 1, 1, 0, 171, 0, 173, 124, 206, 0, 0, 185, 206, 0, 123, 0, 0, 0, 0, 0, 178, 225, 167, 0, 1, 1, 0, 1, 0, 185, 164, 207, 0, 0, 0, 1, 0, 207, 0, 164, 183, 0, 0, 1, 175, 159, 0, 0, 0, 0, 0, 0, 0, 216, 0, 1, 131, 216, 0, 131, 0, 0, 0, 216, 193, 0, 167, 194, 0, 162, 167, 0, 0, 0, 0, 1, 171, 0, 0, 0, 0, 0, 175, 0, 0, 1, 0, 0, 0, 0, 0, 0, 224, 1, 162, 0, 0, 197, 0, 197, 215, 197, 0, 154, 0, 224, 0, 0, 0, 154, 0, 0, 142, 0, 142, 178, 0, 0, 0, 0, 1, 1, 202, 0, 202, 0, 0, 167, 0, 200, 202, 202, 0, 200, 0, 124, 0, 200, 0, 0, 0, 188, 190, 0, 0, 0, 190, 2, 0, 0, 233, 0, 0, 214, 0, 0, 1, 0, 1, 1, 1, 0, 0, 193, 0, 0, 0, 0, 0, 0, 219, 0, 0, 0, 0, 0, 1, 0, 0, 219, 1, 216, 0, 0, 0, 0, 0, 1, 0, 183, 0, 0, 0, 0, 70, 194, 0, 183, 0, 227, 0, 194, 1, 0, 183, 216, 0, 0, 0, 218, 0, 1, 0, 180, 0, 0, 0, 0, 0, 0, 180, 0, 1, 0, 183, 0, 0, 217, 136, 0, 188, 216, 0, 0, 218, 1, 3, 3, 155, 3, 0, 0, 0, 197, 0, 0, 40, 0, 0, 40, 0, 0, 0, 0, 0, 0, 0, 203, 0, 40, 0, 0, 0, 0, 0, 198, 1, 197, 197, 0, 197, 201, 157, 0, 0, 0, 0, 0, 1, 212, 0, 0, 0, 1, 226, 0, 0, 0, 0, 1, 0, 212, 197, 0, 198, 0, 0, 1, 0, 223, 0, 1, 1, 0, 191, 0, 0, 103, 191, 103, 0, 0, 0, 231, 197, 201, 197, 0, 0, 231, 0, 0, 1, 0, 126, 0, 2, 0, 155, 0, 111, 0, 0, 0, 0, 0, 1, 0, 215, 197, 208, 0, 197, 0, 0, 0, 0, 190, 0, 195, 0, 195, 1, 0, 1, 0, 139, 139, 0, 0, 1, 0, 0, 5, 0, 1, 0, 0, 223, 139, 226, 0, 0, 157, 1, 172, 172, 1, 0, 0, 0, 190, 0, 226, 0, 1, 5, 0, 0, 229, 229, 0, 1, 229, 226, 0, 0, 0, 0, 0, 0, 0, 192, 1, 0, 1, 1, 1, 1, 0, 0, 0, 0, 0, 220, 220, 0, 0, 0, 0, 209, 220, 0, 192, 0, 209, 0, 232, 198, 198, 0, 232, 1, 0, 0, 0, 0, 112, 1, 155, 0, 112, 200, 0, 200, 0, 0, 228, 0, 0, 228, 0, 0, 0, 0, 1, 0, 1, 155, 0, 0, 0, 0, 0, 0, 0, 0, 111, 0, 0, 197, 166, 166, 0, 162, 0, 0, 0, 0, 0, 1, 0, 0, 0, 0, 197, 244, 244, 123, 174, 0, 162, 1, 126, 0, 0, 0, 0, 0, 0, 0, 0, 0, 6, 0, 244, 0, 0, 194, 194, 226, 0, 226, 0, 0, 0, 0, 0, 174, 0, 1, 123, 0, 0, 6, 0, 0, 0, 0, 0, 0, 0, 0, 0, 0, 0, 137, 0, 0, 218, 218, 210, 0, 1, 252, 252, 1, 0, 210, 212, 212, 209, 203, 203, 209, 0, 198, 0, 0, 215, 0, 0, 0, 137, 203, 194, 0, 208, 1, 0, 63, 63, 185, 185, 202, 202, 185, 202, 202, 202, 202, 202, 202, 202, 202, 185, 280, 280, 280, 280, 185, 185, 127, 185, 127, 185, 59, 59, 59, 59, 59, 59, 239, 239, 239, 239, 239, 239, 213, 168, 195, 0, 1, 0, 215, 212, 215, 0, 1, 0, 215, 1, 195, 195, 0, 0, 1, 0, 135, 135, 0, 127, 127, 0, 213, 203, 1, 203, 0, 0, 83, 130, 0, 0, 0, 83, 203, 0, 171, 224, 224, 0, 213, 0, 0, 152, 0, 1, 152, 162, 0, 212, 0, 0, 0, 0, 0, 0, 162, 171, 0, 225, 0, 0, 0, 0, 1, 0, 203, 0, 0, 214, 1, 0, 0, 1, 0, 147, 218, 0, 0, 147, 1, 1, 147, 0, 0, 0, 0, 0, 0, 193, 193, 245, 245, 187, 187, 0, 0, 223, 0, 238, 0, 81, 215, 0, 1, 0, 0, 0, 173, 173, 0, 228, 0, 0, 0, 1, 0, 0, 0, 0, 0, 1, 1, 0, 1, 1, 0, 0, 0, 0, 0, 238, 168, 235, 0, 0, 235, 1, 0, 168, 1, 1, 130, 166, 235, 0, 0, 0, 0, 183, 0, 0, 0, 0, 0, 1, 0, 0, 0, 0, 0, 183, 0, 0, 0, 110, 229, 1, 229, 0, 0, 226, 166, 81, 78, 218, 78, 0, 240, 0, 202, 150, 202, 150, 0, 226, 0, 0, 0, 0, 0, 0, 1, 0, 0, 0, 0, 180, 0, 6, 0, 0, 0, 0, 0, 0, 0, 133, 0, 160, 0, 133, 180, 160, 226, 0, 0, 127, 0, 0, 162, 0, 0, 226, 0, 180, 162, 213, 0, 0, 213, 0, 0, 0, 0, 1, 0, 225, 154, 154, 1, 1, 0, 213, 0, 0, 1, 0, 0, 112, 0, 214, 0, 0, 0, 1, 0, 1, 0, 138, 153, 0, 0, 0, 233, 233, 1, 153, 213, 233, 0, 240, 0, 1, 0, 1, 0, 0, 0, 0, 1, 0, 0, 0, 175, 223, 175, 223, 0, 175, 0, 0, 127, 1, 0, 0, 137, 0, 0, 0, 129, 0, 129, 0, 0, 0, 0, 0, 0, 192, 0, 0, 110, 0, 0, 228, 0, 228, 227, 227, 0, 194, 0, 0, 0, 0, 192, 0, 0, 194, 0, 0, 6, 0, 0, 138, 150, 150, 0, 0, 0, 0, 0, 0, 1, 197, 197, 0, 1, 142, 197, 112, 0, 1, 137, 0, 162, 0, 192, 215, 142, 3, 0, 0, 0, 226, 226, 0, 0, 203, 0, 226, 164, 208, 208, 0, 226, 232, 232, 0, 208, 0, 164, 0, 0, 37, 203, 134, 134, 0, 0, 0, 216, 0, 0, 0, 0, 172, 216, 0, 193, 0, 1, 0, 0, 1, 0, 172, 193, 0, 0, 0, 0, 0, 0, 1, 0, 0, 0, 0, 206, 233, 194, 194, 194, 0, 0, 1, 0, 206, 1, 217, 213, 213, 250, 0, 0, 0, 0, 0, 1, 0, 1, 0, 225, 225, 0, 0, 1, 0, 179, 179, 0, 1, 1, 106, 210, 106, 210, 1, 1, 198, 0, 198, 1, 0, 260, 0, 0, 199, 0, 199, 0, 0, 0, 0, 127, 162, 162, 133, 250, 260, 0, 146, 164, 188, 188, 146, 0, 0, 0, 0, 0, 217, 217, 203, 0, 1, 0, 0, 0, 0, 0, 194, 0, 127, 194, 0, 0, 203, 0, 208, 0, 0, 0, 133, 291, 0, 1, 291, 0, 1, 0, 0, 0, 0, 0, 242, 216, 0, 207, 223, 111, 0, 223, 242, 0, 207, 107, 0, 111, 0, 0, 0, 208, 0, 1, 1, 1, 0, 0, 206, 0, 1, 1, 0, 141, 141, 0, 0, 1, 0, 168, 0, 1, 0, 0, 0, 0, 135, 0, 1, 191, 0, 206, 0, 135, 0, 233, 1, 37, 37, 168, 191, 206, 0, 0, 0, 0, 0, 0, 0, 164, 250, 217, 0, 107, 0, 0, 0, 0, 0, 0, 0, 206, 195, 195, 206, 127, 0, 206, 0, 145, 145, 64, 64, 139, 139, 139, 139, 139, 139, 92, 213, 213, 213, 213, 213, 213, 145, 139, 145, 154, 145, 145, 143, 145, 143, 145, 154, 154, 154, 143, 143, 143, 139, 143, 151, 151, 137, 137, 139, 140, 140, 135, 139, 142, 142, 142, 142, 142, 142, 235, 235, 235, 235, 235, 235, 0, 135, 0, 0, 0, 0, 0, 175, 0, 0, 203, 0, 0, 203, 0, 0, 0, 175, 0, 0, 1, 1, 1, 205, 205, 205, 0, 177, 0, 211, 211, 226, 226, 1, 0, 238, 0, 238, 0, 238, 0, 0, 180, 0, 0, 0, 0, 0, 0, 0, 128, 193, 128, 193, 0, 1, 144, 0, 0, 0, 0, 0, 73, 0, 1, 187, 0, 0, 204, 0, 0, 204, 0, 1, 1, 0, 168, 0, 182, 0, 0, 168, 1, 0, 1, 0, 0, 1, 51, 51, 202, 1, 209, 209, 0, 202, 1, 160, 0, 0, 0, 145, 252, 0, 160, 0, 174, 0, 174, 1, 0, 0, 219, 145, 0, 1, 252, 0, 177, 214, 0, 0, 0, 0, 0, 0, 0, 0, 0, 0, 0, 0, 0, 183, 0, 0, 0, 0, 0, 0, 1, 0, 0, 0, 0, 158, 158, 0, 0, 197, 197, 233, 235, 0, 0, 144, 235, 0, 0, 78, 213, 0, 219, 0, 233, 213, 0, 238, 238, 163, 0, 1, 0, 1, 193, 214, 180, 0, 0, 0, 0, 180, 0, 0, 0, 1, 247, 0, 1, 247, 0, 1, 0, 193, 0, 0, 215, 0, 0, 190, 0, 0, 163, 0, 0, 190, 0, 188, 0, 0, 188, 0, 0, 1, 0, 1, 0, 0, 1, 230, 230, 0, 113, 230, 113, 244, 0, 214, 130, 130, 215, 124, 138, 124, 124, 167, 217, 138, 202, 1, 167, 219, 204, 0, 219, 217, 204, 135, 202, 250, 1, 0, 0, 144, 144, 0, 0, 128, 91, 0, 128, 0, 135, 0, 250, 0, 0, 0, 210, 187, 0, 0, 0, 0, 253, 0, 253, 73, 0, 91, 191, 210, 191, 226, 0, 0, 226, 258, 153, 258, 153, 182, 0, 0, 221, 221, 6, 0, 0, 214, 6, 244, 202, 135, 0, 174, 1, 0, 222, 0, 222, 229, 229, 0, 0, 209, 0, 1, 164, 227, 227, 0, 0, 0, 0, 216, 0, 0, 0, 1, 0, 0, 0, 247, 247, 0, 0, 164, 195, 0, 180, 216, 195, 0, 0, 212, 212, 0, 0, 168, 0, 0, 236, 0, 0, 236, 0, 164, 216, 0, 227, 0, 0, 0, 0, 0, 0, 0, 0, 0, 0, 301, 0, 0, 301, 0, 0, 1, 0, 0, 0, 0, 123, 123, 183, 0, 0, 0, 0, 0, 0, 1, 0, 0, 0, 0, 0, 1, 0, 0, 0, 1, 0, 73, 0, 113, 0, 0, 1, 235, 113, 235, 0, 235, 210, 0, 213, 0, 0, 0, 0, 0, 0, 78, 242, 210, 0, 0, 0, 0, 242, 0, 187, 0, 1, 0, 0, 1, 166, 166, 166, 203, 1, 47, 1, 47, 1, 1, 0, 0, 0, 0, 206, 206, 0, 170, 170, 241, 266, 241, 0, 0, 222, 0, 0, 0, 0, 236, 0, 0, 193, 236, 194, 170, 180, 180, 0, 0, 1, 108, 108, 222, 96, 200, 263, 1, 0, 203, 0, 194, 0, 266, 1, 209, 0, 0, 0, 0, 185, 0, 0, 161, 214, 237, 1, 128, 128, 0, 185, 185, 225, 0, 2, 0, 201, 201, 201, 148, 0, 148, 0, 225, 95, 209, 217, 159, 64, 0, 64, 193, 203, 134, 1, 134, 0, 1, 1, 193, 2, 193, 108, 0, 235, 0, 0, 0, 0, 204, 0, 0, 0, 0, 0, 0, 263, 0, 239, 214, 0, 256, 0, 256, 217, 0, 0, 0, 94, 237, 237, 202, 0, 0, 0, 0, 1, 0, 0, 0, 0, 161, 1, 194, 194, 1, 193, 217, 214, 214, 180, 0, 194, 1, 1, 0, 0, 204, 206, 206, 0, 1, 1, 0, 0, 0, 202, 0, 0, 0, 206, 1, 235, 235, 200, 200, 0, 160, 160, 139, 0, 180, 1, 183, 183, 237, 194, 0, 1, 237, 241, 241, 0, 194, 1, 194, 182, 171, 194, 182, 95, 0, 0, 0, 241, 222, 1, 0, 0, 190, 190, 190, 152, 152, 237, 2, 0, 0, 180, 171, 0, 219, 219, 134, 134, 201, 222, 0, 0, 0, 0, 0, 130, 0, 0, 0, 0, 0, 209, 0, 201, 235, 0, 166, 166, 184, 184, 1, 1, 0, 1, 209, 184, 5, 0, 5, 0, 182, 182, 0, 206, 0, 130, 203, 243, 203, 139, 1, 263, 96, 0, 0, 243, 94, 159, 0, 0, 239, 149, 78, 149, 61, 61, 61, 61, 72, 72, 72, 72, 174, 174, 147, 147, 148, 148, 264, 264, 264, 264, 264, 264, 0, 0, 0, 0, 0, 0, 140, 140, 78, 191, 191, 191, 191, 191, 191, 0, 219, 212, 0, 0, 79, 0, 108, 219, 212, 1, 218, 212, 108, 218, 79, 199, 0, 0, 0, 1, 222, 222, 0, 0, 0, 141, 199, 0, 0, 0, 141, 0, 0, 0, 0, 150, 1, 0, 0, 208, 0, 1, 1, 1, 215, 0, 0, 215, 0, 0, 0, 0, 155, 155, 0, 0, 150, 150, 251, 1, 1, 212, 133, 0, 0, 0, 195, 1, 223, 123, 0, 0, 1, 0, 195, 168, 223, 123, 0, 0, 183, 183, 0, 0, 183, 168, 0, 123, 1, 0, 1, 133, 222, 222, 0, 1, 0, 212, 1, 0, 153, 153, 168, 212, 0, 0, 0, 0, 0, 0, 218, 215, 218, 0, 0, 215, 124, 218, 124, 0, 0, 0, 0, 0, 0, 0, 212, 183, 1, 127, 212, 0, 1, 0, 183, 0, 217, 217, 0, 187, 1, 1, 191, 184, 0, 1, 218, 127, 187, 0, 253, 181, 139, 139, 181, 139, 181, 0, 184, 0, 0, 199, 0, 253, 0, 0, 0, 139, 1, 1, 0, 0, 1, 1, 202, 208, 0, 202, 191, 0, 199, 0, 0, 1, 216, 216, 150, 214, 0, 1, 0, 0, 0, 214, 0, 1, 0, 0, 0, 0, 0, 0, 0, 0, 0, 0, 0, 0, 0, 0, 113, 113, 0, 0, 0, 0, 251, 1, 5, 153, 153, 0, 0, 0, 0, 0, 0, 120, 201, 0, 120, 0, 0, 201, 0, 0, 0, 0, 0, 0, 0, 0, 0, 231, 231, 0, 218, 0, 0, 0, 0, 0, 0, 211, 0, 211, 211, 0, 0, 108, 212, 0, 108, 237, 234, 195, 195, 189, 137, 0, 0, 140, 137, 0, 0, 0, 189, 275, 0, 234, 275, 0, 0, 235, 158, 0, 0, 0, 0, 186, 0, 1, 1, 119, 0, 0, 0, 0, 0, 0, 0, 180, 0, 235, 195, 0, 0, 0, 177, 0, 0, 195, 223, 195, 0, 0, 0, 0, 0, 153, 0, 159, 153, 0, 210, 0, 0, 0, 210, 159, 187, 223, 0, 0, 0, 198, 0, 187, 114, 189, 234, 217, 182, 0, 0, 0, 0, 0, 0, 0, 140, 177, 0, 16, 0, 169, 0, 0, 73, 198, 0, 0, 73, 0, 0, 0, 197, 0, 196, 197, 0, 185, 185, 196, 210, 206, 0, 0, 196, 0, 57, 0, 0, 1, 0, 0, 0, 189, 57, 1, 1, 119, 1, 1, 0, 1, 222, 0, 0, 0, 0, 206, 0, 1, 197, 0, 0, 0, 0, 0, 0, 0, 224, 0, 0, 0, 0, 16, 186, 231, 0, 0, 0, 0, 0, 188, 0, 0, 0, 0, 0, 0, 231, 0, 0, 0, 0, 224, 0, 0, 234, 0, 0, 120, 120, 173, 180, 230, 0, 1, 230, 0, 169, 0, 0, 230, 0, 138, 240, 182, 182, 240, 0, 0, 240, 231, 223, 247, 247, 0, 138, 0, 108, 0, 108, 0, 189, 231, 228, 0, 0, 0, 0, 0, 0, 203, 0, 0, 247, 228, 0, 0, 223, 170, 0, 0, 0, 0, 0, 0, 0, 200, 200, 0, 170, 228, 0, 0, 234, 13, 0, 13, 0, 189, 1, 230, 0, 208, 0, 0, 208, 1, 230, 237, 128, 203, 237, 0, 128, 0, 234, 180, 0, 233, 233, 1, 1, 130, 1, 130, 6, 6, 0, 0, 6, 0, 0, 1, 0, 138, 0, 0, 218, 218, 160, 138, 160, 130, 0, 0, 0, 158, 0, 191, 212, 0, 0, 212, 0, 0, 0, 0, 0, 191, 1, 0, 0, 0, 0, 159, 0, 0, 0, 1, 0, 0, 1, 0, 0, 177, 0, 0, 176, 0, 0, 0, 176, 0, 0, 0, 0, 163, 0, 217, 176, 0, 0, 1, 237, 0, 0, 1, 0, 222, 0, 222, 0, 0, 222, 0, 0, 0, 4, 0, 206, 207, 207, 0, 206, 4, 0, 0, 0, 0, 0, 219, 0, 0, 0, 0, 0, 219, 0, 0, 0, 233, 233, 220, 175, 217, 0, 233, 1, 220, 0, 0, 0, 0, 227, 0, 217, 1, 0, 0, 0, 229, 229, 0, 0, 227, 0, 0, 175, 237, 177, 0, 0, 215, 0, 0, 188, 0, 0, 0, 0, 191, 0, 136, 0, 136, 191, 0, 0, 0, 94, 1, 1, 1, 1, 0, 94, 173, 0, 203, 0, 1, 114, 203, 0, 182, 0, 0, 0, 0, 0, 1, 1, 0, 1, 0, 0, 217, 201, 0, 163, 0, 215, 0, 0, 0, 201, 159, 1, 217, 108, 152, 152, 146, 146, 146, 146, 152, 152, 224, 224, 224, 224, 224, 224, 105, 105, 105, 105, 108, 108, 42, 42, 42, 42, 218, 218, 218, 218, 218, 218, 141, 141, 118, 118, 118, 118, 185, 185, 185, 118, 1, 1, 1, 1, 141, 141, 141, 141, 141, 141, 0, 0, 228, 205, 0, 0, 0, 228, 1, 0, 1, 0, 228, 0, 205, 0, 0, 0, 1, 0, 0, 0, 0, 0, 0, 1, 0, 127, 131, 207, 131, 224, 224, 224, 0, 185, 1, 0, 185, 1, 0, 172, 1, 0, 0, 0, 0, 0, 0, 146, 146, 172, 199, 1, 1, 215, 0, 215, 0, 0, 184, 0, 184, 246, 246, 0, 1, 0, 127, 194, 0, 0, 148, 1, 0, 0, 194, 1, 265, 0, 0, 0, 64, 64, 0, 0, 0, 0, 0, 0, 0, 159, 0, 0, 1, 199, 97, 122, 122, 122, 97, 97, 0, 0, 265, 0, 213, 213, 213, 0, 213, 1, 213, 1, 216, 0, 1, 0, 0, 0, 0, 0, 1, 1, 159, 0, 216, 1, 0, 165, 1, 0, 183, 203, 0, 183, 203, 216, 0, 0, 0, 218, 1, 0, 181, 0, 156, 0, 0, 0, 181, 0, 156, 0, 218, 0, 216, 159, 1, 207, 140, 0, 140, 0, 0, 0, 218, 218, 165, 0, 197, 197, 84, 84, 0, 84, 182, 0, 0, 182, 1, 0, 0, 218, 0, 0, 218, 1, 0, 0, 1, 182, 234, 234, 148, 222, 0, 0, 0, 218, 222, 218, 0, 0, 192, 192, 151, 0, 0, 0, 0, 0, 230, 230, 144, 144, 0, 0, 0, 210, 1, 0, 0, 214, 0, 1, 1, 0, 171, 210, 0, 214, 157, 213, 0, 0, 210, 157, 0, 227, 0, 0, 1, 213, 1, 0, 240, 0, 157, 1, 1, 0, 1, 0, 1, 1, 0, 0, 0, 1, 1, 224, 224, 192, 1, 0, 0, 0, 0, 0, 0, 1, 0, 0, 1, 0, 0, 171, 0, 1, 0, 160, 187, 1, 0, 241, 206, 206, 0, 210, 0, 2, 0, 2, 1, 0, 0, 1, 181, 160, 160, 187, 160, 240, 0, 1, 210, 0, 174, 171, 0, 171, 0, 0, 0, 0, 0, 0, 0, 195, 1, 1, 0, 190, 1, 195, 0, 0, 0, 0, 0, 0, 0, 0, 195, 0, 190, 1, 0, 0, 0, 0, 0, 0, 0, 140, 176, 0, 140, 201, 233, 240, 0, 0, 197, 174, 201, 176, 0, 197, 189, 154, 0, 182, 0, 182, 0, 99, 0, 0, 0, 240, 192, 0, 0, 0, 1, 1, 0, 1, 0, 0, 0, 187, 166, 256, 222, 256, 0, 182, 0, 0, 0, 0, 166, 0, 182, 0, 1, 222, 222, 0, 0, 0, 233, 0, 216, 0, 227, 0, 0, 0, 0, 0, 216, 184, 0, 0, 0, 0, 216, 0, 203, 0, 0, 0, 203, 203, 241, 99, 215, 0, 0, 215, 0, 184, 0, 154, 181, 0, 177, 229, 177, 0, 221, 229, 0, 0, 196, 0, 0, 207, 141, 196, 229, 0, 0, 0, 0, 211, 0, 211, 206, 207, 0, 0, 0, 206, 246, 0, 1, 221, 0, 0, 0, 210, 246, 0, 0, 0, 173, 0, 173, 0, 0, 244, 0, 0, 141, 0, 244, 0, 0, 0, 148, 0, 0, 0, 1, 0, 177, 0, 0, 148, 0, 0, 0, 148, 0, 193, 199, 199, 177, 199, 177, 177, 0, 0, 229, 0, 0, 224, 0, 120, 0, 0, 0, 116, 224, 0, 120, 0, 0, 0, 0, 0, 181, 0, 0, 0, 0, 210, 182, 0, 150, 196, 150, 211, 203, 203, 193, 1, 0, 116, 0, 0, 1, 0, 0, 198, 0, 0, 0, 229, 122, 229, 0, 0, 182, 0, 181, 198, 0, 213, 201, 213, 183, 0, 242, 242, 0, 1, 0, 0, 0, 0, 122, 182, 0, 0, 0, 0, 201, 1, 1, 110, 187, 0, 0, 172, 0, 163, 172, 0, 1, 0, 219, 1, 219, 0, 1, 1, 0, 1, 230, 0, 0, 230, 0, 0, 0, 180, 0, 0, 0, 0, 180, 0, 0, 0, 224, 170, 159, 1, 224, 183, 205, 0, 0, 142, 0, 211, 211, 0, 0, 187, 205, 0, 0, 0, 0, 0, 1, 0, 110, 159, 0, 170, 0, 231, 225, 142, 163, 231, 0, 0, 225, 189, 0, 152, 0, 187, 187, 159, 152, 0, 0, 181, 182, 0, 0, 0, 0, 177, 177, 0, 0, 0, 135, 135, 131, 131, 131, 187, 187, 187, 131, 195, 195, 195, 195, 195, 134, 134, 134, 195, 69, 108, 69, 69, 108, 69, 81, 135, 135, 135, 135, 81, 207, 207, 207, 207, 207, 207, 259, 259, 259, 259, 259, 259, 126, 126, 126, 126, 126, 126, 126, 126, 107, 107, 107, 107, 107, 107, 133, 133, 133, 133, 126, 126, 187, 187, 187, 125, 125, 125, 125, 125, 125, 134, 101, 101, 101, 125, 125, 125, 125, 125, 125, 101, 0, 1, 182, 0, 0, 1, 195, 218, 218, 0, 1, 1, 163, 0, 182, 0, 1, 0, 208, 0, 0, 242, 242, 0, 230, 242, 0, 0, 230, 163, 159, 159, 0, 159, 147, 0, 147, 174, 174, 196, 223, 196, 208, 0, 0, 0, 0, 0, 0, 242, 0, 208, 0, 211, 0, 0, 0, 147, 0, 0, 0, 1, 211, 1, 208, 194, 0, 242, 0, 0, 1, 0, 0, 1, 141, 0, 0, 1, 147, 0, 235, 235, 0, 0, 206, 0, 0, 0, 0, 0, 212, 218, 0, 250, 0, 0, 212, 0, 6, 0, 209, 0, 0, 0, 209, 147, 146, 0, 196, 0, 1, 0, 239, 177, 1, 177, 0, 146, 0, 177, 1, 0, 218, 250, 0, 0, 0, 0, 0, 225, 225, 0, 0, 196, 225, 1, 222, 0, 0, 125, 125, 0, 234, 0, 234, 102, 0, 0, 0, 102, 0, 280, 185, 280, 212, 0, 0, 222, 0, 0, 0, 189, 147, 0, 1, 194, 161, 129, 161, 234, 129, 129, 184, 1, 1, 1, 1, 184, 1, 184, 1, 189, 180, 0, 180, 206, 1, 0, 1, 0, 0, 0, 0, 1, 177, 0, 177, 0, 186, 0, 1, 0, 0, 0, 186, 0, 1, 1, 1, 0, 223, 1, 239, 141, 0, 0, 0, 0, 1, 1, 0, 185, 0, 0, 261, 160, 0, 0, 0, 214, 214, 0, 200, 160, 0, 121, 121, 200, 198, 0, 0, 198, 151, 0, 180, 0, 151, 211, 211, 151, 180, 0, 13, 0, 229, 0, 0, 0, 178, 261, 197, 0, 0, 4, 0, 4, 4, 178, 0, 0, 0, 0, 229, 0, 0, 0, 0, 0, 163, 160, 0, 0, 178, 170, 170, 197, 0, 195, 0, 0, 0, 2, 0, 2, 0, 136, 0, 0, 1, 0, 173, 1, 136, 0, 237, 237, 210, 0, 1, 1, 0, 136, 0, 0, 210, 0, 217, 1, 217, 1, 1, 0, 5, 207, 0, 207, 0, 0, 5, 0, 0, 0, 5, 196, 1, 1, 0, 207, 0, 196, 0, 0, 0, 0, 1, 0, 1, 1, 0, 0, 0, 188, 163, 0, 0, 0, 173, 0, 118, 0, 225, 225, 0, 0, 118, 0, 0, 305, 0, 144, 118, 144, 305, 0, 0, 0, 234, 192, 192, 157, 1, 1, 157, 0, 0, 0, 188, 0, 0, 0, 0, 0, 0, 0, 206, 1, 0, 162, 0, 188, 0, 0, 0, 0, 194, 0, 0, 0, 162, 1, 0, 0, 0, 0, 0, 0, 0, 0, 101, 0, 0, 146, 0, 0, 0, 194, 0, 0, 0, 0, 0, 0, 146, 101, 0, 0, 144, 0, 0, 0, 0, 1, 157, 157, 1, 0, 0, 0, 0, 0, 0, 207, 207, 220, 220, 1, 0, 174, 0, 0, 154, 0, 0, 239, 101, 0, 0, 0, 220, 174, 0, 163, 0, 0, 6, 0, 163, 154, 0, 0, 0, 0, 157, 206, 0, 86, 0, 0, 157, 0, 0, 86, 0, 0, 0, 157, 0, 0, 0, 0, 0, 179, 179, 179, 179, 179, 179, 103, 103, 103, 103, 76, 76, 76, 76, 158, 81, 81, 213, 213, 213, 213, 213, 213, 0, 0, 0, 0, 0, 0, 145, 145, 91, 91, 117, 117, 16, 16, 117, 16, 117, 16, 80, 117, 117, 80, 151, 253, 0, 123, 1, 1, 0, 199, 199, 188, 128, 1, 253, 188, 0, 58, 58, 151, 184, 93, 93, 0, 206, 0, 128, 123, 206, 0, 0, 1, 128, 179, 179, 0, 0, 142, 184, 0, 0, 0, 0, 262, 0, 0, 262, 184, 209, 209, 176, 0, 1, 0, 212, 0, 0, 142, 0, 227, 0, 0, 179, 0, 212, 0, 0, 227, 180, 0, 202, 0, 194, 0, 0, 1, 238, 234, 0, 146, 238, 0, 234, 0, 0, 0, 0, 0, 134, 178, 0, 164, 134, 178, 0, 134, 180, 0, 95, 0, 176, 0, 217, 217, 1, 1, 0, 0, 0, 0, 222, 205, 205, 1, 0, 194, 0, 142, 0, 0, 0, 0, 0, 0, 0, 0, 0, 202, 202, 0, 124, 0, 0, 0, 0, 0, 0, 233, 0, 180, 0, 196, 0, 189, 196, 189, 0, 0, 0, 0, 0, 0, 0, 0, 1, 0, 0, 1, 0, 138, 0, 0, 199, 0, 4, 162, 0, 0, 0, 46, 0, 162, 0, 0, 0, 0, 0, 0, 0, 4, 200, 219, 191, 200, 1, 0, 0, 0, 179, 0, 0, 77, 145, 0, 199, 180, 124, 145, 77, 191, 63, 63, 1, 182, 0, 219, 0, 0, 0, 205, 95, 0, 0, 210, 223, 0, 223, 0, 0, 230, 0, 0, 223, 80, 210, 0, 210, 0, 0, 0, 80, 203, 0, 244, 244, 0, 203, 79, 79, 0, 223, 46, 1, 100, 100, 254, 254, 254, 1, 0, 1, 225, 203, 1, 204, 1, 137, 137, 137, 137, 0, 0, 1, 204, 0, 0, 0, 0, 1, 1, 168, 159, 0, 0, 222, 0, 159, 213, 0, 0, 1, 131, 191, 252, 1, 105, 191, 246, 252, 252, 131, 1, 81, 81, 220, 163, 101, 101, 220, 233, 220, 213, 0, 145, 0, 0, 0, 169, 0, 169, 145, 0, 0, 1, 237, 1, 138, 233, 1, 0, 237, 0, 0, 0, 105, 0, 195, 225, 194, 0, 0, 246, 63, 63, 0, 0, 0, 0, 0, 231, 0, 231, 146, 167, 194, 194, 0, 238, 236, 236, 0, 182, 0, 0, 0, 216, 0, 0, 182, 0, 0, 167, 0, 167, 0, 167, 146, 0, 236, 174, 194, 184, 0, 1, 0, 0, 0, 0, 1, 0, 1, 0, 0, 216, 0, 0, 0, 0, 0, 184, 0, 0, 0, 225, 184, 239, 239, 159, 0, 184, 225, 0, 0, 177, 159, 225, 0, 144, 234, 234, 177, 1, 1, 0, 233, 233, 142, 1, 195, 0, 1, 0, 0, 0, 0, 0, 163, 0, 0, 1, 207, 0, 207, 174, 0, 228, 1, 259, 0, 146, 0, 0, 259, 0, 1, 202, 208, 208, 1, 200, 182, 0, 228, 1, 1, 1, 204, 152, 0, 144, 152, 0, 144, 144, 202, 0, 168, 1, 0, 1, 164, 0, 204, 202, 136, 1, 0, 1, 207, 233, 1, 207, 0, 0, 200, 136, 0, 230, 0, 205, 234, 234, 234, 145, 145, 145, 145, 191, 0, 0, 0, 175, 0, 175, 200, 240, 175, 0, 252, 0, 0, 0, 200, 240, 191, 0, 0, 0, 0, 170, 170, 0, 0, 0, 0, 0, 216, 0, 0, 0, 252, 0, 273, 0, 0, 0, 1, 0, 0, 0, 0, 154, 1, 1, 0, 253, 189, 189, 0, 249, 216, 249, 163, 0, 0, 1, 0, 0, 204, 230, 152, 0, 204, 163, 122, 192, 122, 122, 1, 154, 218, 205, 195, 195, 0, 0, 152, 0, 155, 0, 155, 0, 0, 0, 205, 0, 0, 229, 229, 52, 0, 0, 1, 270, 1, 145, 0, 270, 193, 193, 226, 0, 0, 0, 0, 0, 229, 0, 273, 215, 215, 226, 0, 229, 145, 145, 226, 0, 167, 243, 243, 0, 192, 193, 167, 0, 256, 0, 227, 227, 210, 0, 0, 108, 0, 0, 0, 0, 0, 193, 0, 230, 229, 243, 229, 0, 218, 108, 0, 119, 0, 193, 0, 0, 0, 0, 0, 193, 0, 0, 119, 0, 0, 0, 188, 0, 256, 145, 204, 204, 0, 145, 0, 0, 0, 0, 0, 0, 0, 0, 188, 218, 218, 193, 52, 218, 207, 0, 207, 253, 0, 0, 0, 201, 201, 0, 0, 0, 199, 0, 207, 0, 188, 0, 0, 0, 189, 230, 131, 0, 0, 0, 216, 0, 216, 0, 0, 0, 0, 0, 225, 0, 0, 0, 0, 4, 0, 0, 0, 118, 101, 101, 0, 4, 192, 0, 0, 118, 0, 0, 0, 118, 131, 0, 225, 0, 1, 1, 0, 154, 0, 1, 0, 0, 239, 0, 0, 0, 154, 239, 0, 0, 189, 0, 1, 230, 1, 0, 189, 0, 192, 0, 0, 0, 239, 0, 0, 0, 0, 0, 0, 2, 162, 189, 0, 0, 0, 162, 0, 0, 0, 179, 0, 189, 220, 182, 220, 0, 0, 0, 2, 182, 206, 0, 0, 206, 0, 1, 0, 1, 0, 0, 0, 0, 179, 0, 0, 248, 248, 248, 0, 0, 0, 228, 0, 228, 0, 213, 0, 0, 0, 192, 0, 213, 0, 210, 157, 157, 0, 0, 211, 0, 0, 211, 0, 211, 0, 1, 1, 0, 0, 0, 203, 193, 0, 134, 134, 0, 150, 203, 1, 0, 0, 165, 165, 170, 165, 170, 1, 0, 233, 1, 1, 0, 233, 233, 0, 182, 182, 0, 185, 0, 0, 1, 185, 190, 0, 0, 0, 0, 0, 213, 190, 269, 0, 0, 213, 269, 1, 0, 217, 1, 0, 0, 0, 0, 217, 150, 0, 1, 125, 0, 0, 0, 0, 0, 0, 154, 0, 154, 0, 256, 0, 125, 256, 0, 194, 1, 217, 1, 0, 0, 240, 0, 0, 0, 194, 0, 0, 0, 156, 156, 200, 216, 216, 230, 200, 240, 0, 0, 0, 190, 199, 0, 0, 217, 0, 169, 169, 30, 30, 30, 0, 0, 0, 0, 0, 0, 0, 137, 111, 111, 111, 111, 137, 208, 208, 208, 208, 0, 0, 193, 0, 193, 193, 193, 193, 193, 193, 193, 193, 193, 108, 108, 137, 48, 48, 127, 127, 0, 0, 0, 0, 0, 0, 0, 0, 0, 0, 137, 128, 128, 30, 161, 161, 110, 110, 145, 61, 61, 61, 61, 61, 61, 61, 61, 61, 61, 0, 0, 213, 0, 196, 196, 0, 0, 0, 213, 228, 0, 1, 0, 0, 211, 95, 0, 127, 127, 137, 197, 0, 0, 0, 195, 196, 221, 172, 195, 0, 208, 223, 0, 0, 0, 0, 0, 0, 112, 1, 112, 222, 0, 0, 1, 0, 0, 0, 0, 0, 0, 0, 224, 1, 0, 0, 0, 197, 222, 222, 228, 0, 228, 221, 0, 0, 0, 0, 140, 0, 0, 0, 0, 0, 228, 0, 0, 0, 1, 228, 196, 211, 0, 223, 140, 0, 0, 0, 200, 0, 0, 200, 0, 0, 142, 142, 207, 207, 0, 0, 0, 174, 200, 0, 0, 0, 194, 174, 194, 0, 0, 0, 0, 131, 131, 0, 0, 202, 1, 0, 236, 0, 202, 0, 187, 280, 1, 280, 187, 0, 0, 0, 280, 205, 212, 0, 222, 0, 0, 205, 0, 0, 1, 0, 175, 212, 0, 206, 206, 0, 1, 0, 1, 0, 0, 40, 0, 0, 0, 95, 0, 222, 0, 236, 40, 1, 0, 0, 202, 202, 4, 191, 191, 0, 0, 0, 0, 1, 0, 0, 0, 0, 0, 137, 0, 0, 0, 0, 0, 161, 260, 1, 0, 0, 260, 0, 0, 1, 1, 0, 185, 109, 0, 0, 1, 0, 0, 185, 0, 0, 1, 122, 175, 206, 127, 1, 0, 161, 2, 0, 0, 0, 172, 185, 0, 1, 0, 0, 1, 1, 1, 119, 126, 0, 227, 0, 0, 0, 0, 119, 1, 126, 206, 227, 1, 0, 224, 0, 0, 0, 0, 229, 0, 0, 229, 229, 1, 0, 0, 0, 0, 0, 0, 0, 0, 0, 208, 0, 221, 0, 0, 1, 131, 131, 162, 0, 122, 0, 1, 1, 0, 0, 0, 196, 206, 0, 198, 196, 1, 0, 1, 198, 196, 0, 221, 185, 199, 0, 191, 198, 185, 199, 0, 1, 0, 1, 0, 1, 206, 0, 213, 213, 0, 0, 1, 162, 0, 0, 202, 202, 0, 0, 0, 217, 181, 217, 0, 173, 0, 173, 210, 0, 0, 0, 0, 0, 205, 0, 205, 0, 0, 202, 0, 0, 174, 0, 0, 0, 0, 0, 0, 1, 181, 0, 218, 147, 218, 0, 218, 0, 218, 109, 202, 0, 109, 109, 0, 0, 0, 0, 0, 195, 0, 0, 0, 0, 0, 0, 195, 0, 1, 175, 0, 0, 0, 0, 0, 0, 147, 0, 135, 210, 0, 0, 185, 0, 0, 218, 135, 0, 0, 0, 1, 226, 1, 0, 226, 1, 226, 1, 1, 228, 228, 153, 0, 0, 0, 0, 0, 0, 153, 0, 179, 0, 0, 172, 109, 137, 0, 222, 0, 0, 0, 236, 0, 0, 0, 0, 0, 0, 236, 0, 191, 0, 0, 199, 0, 199, 2, 0, 0, 223, 0, 179, 223, 1, 204, 206, 204, 185, 205, 175, 1, 218, 1, 0, 0, 0, 0, 80, 80, 80, 207, 0, 0, 1, 1, 0, 0, 133, 171, 171, 0, 0, 0, 210, 0, 116, 0, 0, 210, 0, 210, 0, 207, 0, 206, 0, 0, 0, 213, 0, 210, 210, 0, 1, 0, 1, 124, 1, 124, 1, 0, 0, 239, 239, 1, 199, 0, 0, 203, 199, 136, 206, 213, 193, 1, 0, 0, 133, 206, 116, 136, 168, 0, 0, 0, 100, 0, 1, 0, 0, 0, 0, 0, 0, 0, 0, 193, 178, 221, 0, 0, 0, 0, 0, 0, 0, 0, 0, 181, 181, 178, 0, 186, 186, 0, 0, 0, 1, 1, 227, 1, 171, 100, 0, 1, 227, 0, 0, 0, 0, 0, 0, 0, 143, 169, 0, 0, 169, 0, 0, 100, 0, 1, 1, 143, 0, 0, 0, 0, 0, 0, 218, 0, 199, 0, 0, 137, 100, 168, 0, 0, 0, 227, 0, 0, 0, 200, 203, 200, 0, 221, 227, 1, 0, 130, 0, 0, 0, 0, 0, 2, 2, 0, 260, 0, 199, 0, 0, 0, 212, 1, 1, 211, 212, 249, 249, 249, 260, 204, 0, 0, 0, 0, 196, 0, 130, 211, 204, 196, 100, 1, 212, 0, 0, 0, 193, 1, 0, 0, 1, 193, 0, 0, 0, 0, 0, 0, 0, 0, 0, 0, 202, 231, 202, 231, 231, 0, 0, 0, 228, 181, 181, 0, 0, 0, 109, 0, 0, 0, 228, 0, 0, 0, 0, 0, 0, 0, 109, 1, 0, 0, 163, 0, 225, 152, 0, 0, 225, 0, 0, 152, 1, 1, 0, 225, 163, 242, 1, 0, 0, 61, 134, 1, 240, 0, 0, 0, 242, 0, 0, 200, 207, 240, 0, 200, 0, 0, 1, 171, 1, 0, 0, 61, 0, 0, 215, 211, 0, 0, 155, 155, 0, 0, 234, 1, 0, 0, 0, 0, 0, 0, 0, 203, 0, 203, 0, 211, 0, 171, 0, 0, 0, 171, 0, 234, 218, 0, 173, 150, 150, 0, 0, 0, 173, 150, 0, 0, 0, 0, 1, 215, 0, 206, 0, 0, 134, 137, 0, 111, 111, 52, 58, 47, 191, 191, 191, 191, 191, 191, 191, 191, 191, 191, 0, 194, 194, 194, 194, 194, 194, 51, 51, 51, 51, 219, 219, 129, 61, 61, 61, 61, 219, 109, 109, 219, 263, 263, 263, 263, 263, 263, 139, 139, 139, 139, 139, 139, 120, 136, 136, 120, 120, 120, 120, 287, 287, 287, 287, 201, 201, 201, 201, 201, 201, 104, 104, 120, 0, 0, 1, 0, 0, 0, 0, 1, 0, 1, 0, 0, 210, 0, 0, 210, 210, 1, 1, 0, 0, 0, 0, 179, 1, 179, 0, 72, 72, 0, 0, 72, 203, 0, 0, 203, 0, 0, 184, 184, 0, 1, 1, 210, 210, 183, 122, 122, 183, 1, 0, 1, 1, 0, 0, 0, 0, 0, 1, 0, 0, 0, 0, 0, 0, 1, 0, 232, 244, 0, 179, 0, 179, 0, 244, 0, 1, 244, 0, 0, 0, 0, 0, 220, 0, 220, 0, 199, 0, 203, 0, 0, 0, 0, 0, 0, 219, 90, 217, 217, 0, 0, 190, 0, 0, 0, 190, 0, 0, 147, 147, 1, 214, 214, 0, 1, 0, 0, 0, 0, 208, 0, 169, 0, 0, 0, 0, 243, 169, 0, 0, 0, 232, 208, 0, 0, 0, 0, 0, 0, 199, 0, 0, 135, 0, 0, 0, 0, 0, 191, 0, 191, 0, 0, 135, 200, 0, 0, 0, 0, 0, 0, 0, 0, 0, 230, 230, 0, 0, 0, 199, 200, 202, 0, 0, 0, 0, 0, 0, 0, 0, 0, 230, 0, 0, 1, 0, 0, 0, 0, 199, 0, 0, 0, 1, 0, 1, 243, 0, 0, 189, 0, 1, 219, 202, 0, 0, 0, 1, 123, 199, 0, 0, 222, 19, 19, 212, 0, 222, 202, 211, 202, 0, 211, 0, 0, 0, 210, 0, 0, 0, 0, 0, 178, 187, 0, 187, 0, 0, 0, 0, 212, 0, 0, 0, 212, 81, 81, 0, 111, 207, 0, 61, 0, 0, 0, 210, 178, 0, 180, 180, 0, 1, 0, 1, 0, 0, 0, 0, 168, 168, 0, 1, 0, 0, 0, 0, 0, 0, 1, 164, 102, 102, 0, 0, 183, 183, 155, 0, 0, 111, 0, 0, 1, 169, 164, 0, 0, 0, 90, 0, 183, 183, 0, 183, 1, 1, 0, 0, 0, 188, 155, 0, 188, 0, 1, 0, 0, 1, 186, 0, 186, 1, 0, 0, 204, 1, 0, 0, 232, 0, 207, 0, 0, 232, 178, 0, 1, 1, 0, 0, 226, 0, 0, 241, 0, 226, 178, 0, 0, 0, 0, 61, 213, 221, 1, 0, 0, 1, 0, 1, 163, 223, 0, 0, 0, 0, 1, 1, 163, 0, 0, 0, 0, 1, 0, 213, 0, 1, 241, 0, 223, 207, 83, 0, 0, 0, 83, 0, 0, 189, 126, 0, 0, 0, 0, 0, 221, 0, 208, 255, 207, 255, 0, 208, 0, 0, 0, 0, 1, 0, 0, 0, 0, 1, 0, 0, 0, 0, 0, 0, 0, 0, 0, 0, 0, 0, 0, 151, 0, 151, 218, 0, 1, 0, 0, 218, 0, 1, 211, 230, 0, 0, 0, 1, 1, 1, 0, 1, 126, 0, 0, 165, 204, 123, 0, 0, 220, 211, 0, 0, 0, 220, 211, 207, 0, 0, 0, 0, 165, 0, 0, 155, 155, 155, 155, 155, 155, 1, 1, 0, 0, 1, 0, 184, 0, 0, 0, 0, 0, 1, 0, 0, 0, 220, 0, 0, 0, 0, 0, 0, 0, 0, 0, 208, 0, 208, 0, 0, 0, 238, 0, 0, 0, 0, 192, 0, 0, 0, 1, 184, 0, 1, 1, 1, 1, 0, 0, 0, 1, 0, 0, 0, 1, 0, 0, 0, 0, 192, 0, 238, 0, 191, 191, 1, 1, 0, 1, 0, 1, 0, 189, 189, 0, 1, 1, 0, 0, 0, 1, 0, 0, 0, 0, 0, 182, 0, 0, 186, 208, 186, 1, 0, 0, 0, 0, 0, 1, 1, 220, 1, 0, 1, 1, 0, 1, 1, 0, 228, 208, 0, 180, 1, 185, 193, 0, 0, 193, 180, 182, 185, 0, 146, 216, 216, 0, 136, 1, 216, 0, 0, 1, 0, 0, 0, 146, 1, 220, 0, 0, 0, 125, 188, 125, 125, 192, 0, 192, 0, 0, 0, 0, 204, 0, 231, 0, 0, 0, 1, 218, 159, 0, 0, 0, 1, 1, 141, 229, 218, 0, 1, 0, 0, 229, 0, 192, 0, 141, 159, 0, 229, 140, 0, 0, 0, 140, 0, 193, 214, 227, 231, 0, 0, 193, 0, 220, 220, 214, 218, 0, 0, 0, 1, 180, 0, 218, 220, 1, 220, 0, 180, 0, 0, 0, 1, 0, 0, 0, 0, 204, 0, 1, 1, 0, 0, 0, 227, 0, 0, 0, 1, 247, 0, 0, 0, 1, 1, 219, 1, 247, 0, 123, 219, 170, 123, 214, 214, 0, 170, 0, 0, 254, 254, 0, 0, 222, 222, 0, 0, 0, 0, 228, 0, 0, 195, 195, 0, 1, 1, 1, 0, 0, 0, 0, 0, 228, 0, 0, 0, 0, 188, 0, 0, 0, 198, 216, 216, 169, 136, 0, 239, 239, 0, 169, 0, 0, 1, 71, 0, 0, 197, 0, 198, 223, 71, 0, 1, 197, 223, 140, 198, 0, 0, 0, 165, 0, 0, 0, 165, 0, 245, 0, 165, 245, 171, 0, 0, 171, 0, 0, 0, 171, 0, 185, 185, 0, 0, 0, 171, 0, 1, 1, 0, 0, 228, 188, 0, 123, 123, 0, 0, 108, 108, 0, 150, 150, 215, 215, 117, 117, 215, 108, 108, 108, 108, 215, 0, 0, 214, 214, 214, 214, 214, 214, 153, 153, 153, 153, 153, 153, 157, 157, 157, 157, 157, 157, 141, 140, 140, 140, 140, 140, 140, 0, 0, 0, 183, 164, 0, 0, 0, 70, 0, 0, 70, 164, 0, 0, 0, 66, 0, 0, 0, 66, 0, 0, 138, 138, 0, 1, 279, 0, 0, 1, 0, 0, 0, 1, 0, 0, 177, 185, 0, 0, 0, 0, 0, 1, 1, 1, 170, 1, 0, 0, 0, 1, 0, 132, 215, 132, 215, 170, 0, 0, 0, 0, 0, 1, 1, 0, 0, 185, 0, 153, 0, 1, 153, 0, 0, 0, 0, 1, 177, 0, 0, 0, 189, 216, 0, 0, 1, 262, 262, 1, 1, 153, 0, 0, 0, 0, 0, 185, 0, 196, 196, 279, 126, 233, 126, 0, 0, 0, 221, 0, 0, 221, 0, 0, 83, 83, 233, 201, 201, 0, 126, 218, 0, 111, 111, 111, 111, 0, 174, 0, 174, 0, 214, 1, 218, 0, 0, 1, 0, 208, 208, 1, 0, 0, 183, 121, 165, 1, 0, 0, 202, 0, 92, 92, 179, 179, 0, 185, 200, 0, 215, 0, 227, 198, 0, 170, 0, 0, 227, 129, 0, 170, 0, 0, 129, 0, 192, 197, 0, 121, 0, 0, 0, 0, 0, 187, 0, 214, 111, 214, 1, 192, 0, 146, 0, 169, 192, 226, 126, 1, 146, 197, 192, 165, 155, 0, 126, 255, 192, 242, 199, 0, 215, 152, 242, 1, 136, 199, 215, 0, 136, 136, 152, 1, 189, 244, 0, 244, 169, 0, 226, 202, 0, 19, 215, 19, 19, 185, 1, 0, 155, 216, 165, 1, 169, 255, 0, 1, 233, 0, 143, 143, 0, 160, 182, 132, 0, 160, 160, 192, 201, 0, 233, 1, 0, 1, 229, 229, 132, 1, 1, 192, 1, 0, 1, 0, 1, 0, 1, 229, 1, 188, 0, 0, 182, 0, 188, 190, 252, 154, 154, 125, 125, 0, 0, 201, 117, 117, 0, 0, 0, 228, 228, 200, 200, 86, 0, 1, 86, 216, 0, 225, 200, 279, 0, 155, 0, 1, 0, 0, 200, 206, 192, 0, 0, 190, 206, 220, 220, 206, 192, 1, 217, 217, 0, 0, 0, 219, 223, 0, 0, 200, 1, 194, 223, 0, 0, 194, 219, 0, 200, 0, 42, 1, 194, 1, 265, 42, 132, 0, 1, 1, 42, 42, 0, 0, 0, 225, 1, 0, 1, 1, 0, 0, 212, 0, 212, 265, 0, 0, 0, 0, 1, 190, 0, 1, 190, 0, 193, 0, 214, 0, 0, 0, 0, 0, 0, 198, 110, 0, 198, 155, 0, 240, 0, 84, 0, 240, 160, 160, 95, 84, 198, 110, 216, 0, 1, 208, 0, 0, 129, 146, 0, 252, 129, 0, 0, 0, 0, 176, 252, 206, 0, 1, 215, 215, 0, 0, 200, 0, 0, 0, 1, 0, 0, 0, 1, 0, 0, 176, 123, 0, 0, 0, 0, 0, 171, 136, 206, 214, 0, 123, 0, 0, 0, 1, 0, 0, 0, 0, 199, 0, 0, 0, 1, 199, 0, 252, 214, 1, 0, 200, 0, 163, 1, 1, 0, 1, 0, 210, 0, 0, 0, 218, 171, 1, 210, 256, 163, 256, 1, 0, 0, 210, 256, 95, 0, 0, 231, 0, 231, 0, 0, 1, 212, 0, 1, 1, 246, 0, 246, 1, 110, 246, 110, 212, 212, 0, 0, 0, 200, 0, 0, 0, 0, 187, 146, 0, 122, 122, 0, 1, 0, 0, 0, 1, 0, 100, 1, 1, 0, 218, 176, 0, 0, 216, 0, 208, 207, 100, 0, 207, 0, 0, 0, 0, 171, 198, 0, 0, 238, 0, 0, 193, 100, 0, 238, 84, 5, 67, 67, 132, 0, 194, 143, 0, 143, 132, 143, 194, 0, 0, 0, 1, 1, 202, 231, 224, 0, 0, 233, 0, 231, 0, 0, 0, 0, 202, 248, 205, 0, 0, 0, 233, 0, 0, 0, 0, 0, 0, 0, 0, 214, 0, 0, 0, 210, 210, 0, 233, 0, 0, 0, 0, 248, 0, 0, 0, 0, 0, 88, 180, 0, 190, 180, 0, 0, 0, 0, 0, 0, 0, 0, 0, 0, 0, 0, 0, 206, 0, 0, 200, 190, 7, 200, 0, 182, 213, 0, 213, 0, 0, 0, 182, 228, 209, 209, 0, 0, 214, 0, 0, 0, 204, 0, 204, 0, 228, 133, 0, 0, 195, 1, 1, 0, 205, 0, 0, 0, 0, 7, 210, 228, 167, 167, 0, 0, 133, 195, 210, 206, 0, 0, 184, 0, 0, 0, 146, 0, 146, 0, 0, 0, 146, 0, 0, 227, 227, 0, 0, 227, 1, 0, 0, 8, 8, 0, 184, 211, 0, 0, 0, 0, 0, 233, 1, 211, 0, 1, 0, 220, 1, 220, 0, 0, 1, 207, 220, 1, 243, 243, 0, 261, 243, 207, 0, 219, 219, 203, 220, 220, 261, 207, 145, 166, 1, 0, 1, 188, 166, 0, 0, 207, 226, 188, 0, 0, 0, 0, 0, 1, 226, 0, 0, 0, 0, 145, 116, 0, 0, 0, 233, 226, 226, 216, 0, 216, 93, 93, 0, 0, 168, 168, 0, 168, 0, 0, 0, 0, 0, 0, 0, 0, 217, 116, 217, 0, 0, 0, 0, 0, 0, 0, 88, 254, 0, 0, 116, 196, 46, 0, 46, 173, 173, 0, 0, 0, 0, 131, 0, 0, 0, 0, 0, 0, 219, 131, 0, 0, 173, 0, 0, 189, 189, 160, 160, 0, 0, 0, 1, 1, 0, 0, 206, 206, 254, 0, 219, 183, 224, 203, 0, 1, 183, 219, 196, 0, 0, 150, 150, 146, 146, 203, 203, 139, 135, 135, 84, 84, 179, 136, 136, 154, 154, 136, 136, 136, 136, 204, 89, 171, 146, 136, 136, 146, 146, 146, 146, 171, 146, 136, 136, 136, 136, 89, 89, 89, 89, 89, 187, 187, 146, 189, 1, 189, 154, 189, 214, 146, 0, 0, 0, 1, 1, 164, 0, 164, 0, 101, 230, 0, 0, 0, 230, 125, 146, 187, 0, 187, 0, 1, 187, 0, 1, 150, 0, 0, 0, 0, 79, 0, 199, 88, 0, 1, 79, 0, 0, 237, 215, 215, 0, 0, 199, 1, 0, 150, 0, 37, 0, 183, 0, 183, 0, 0, 37, 0, 201, 201, 0, 0, 0, 1, 0, 0, 1, 0, 0, 0, 154, 168, 168, 193, 1, 3, 216, 3, 0, 0, 0, 0, 0, 0, 193, 207, 230, 0, 125, 230, 0, 1, 0, 1, 0, 0, 0, 0, 228, 125, 197, 130, 0, 0, 197, 190, 193, 79, 79, 0, 228, 209, 0, 190, 0, 0, 0, 0, 0, 0, 0, 0, 154, 193, 88, 0, 130, 202, 199, 209, 212, 199, 0, 1, 212, 216, 1, 0, 0, 0, 154, 0, 279, 279, 0, 0, 0, 0, 0, 216, 1, 216, 204, 234, 221, 0, 221, 0, 234, 0, 234, 234, 0, 0, 0, 204, 0, 1, 1, 0, 0, 233, 143, 0, 0, 1, 0, 31, 143, 197, 197, 0, 214, 169, 228, 0, 0, 190, 0, 169, 1, 0, 0, 0, 143, 0, 228, 129, 202, 0, 151, 151, 146, 233, 0, 0, 0, 0, 0, 177, 207, 0, 0, 207, 129, 0, 177, 169, 0, 0, 0, 0, 237, 0, 0, 111, 111, 0, 0, 0, 0, 0, 225, 0, 181, 0, 101, 181, 115, 0, 192, 225, 0, 0, 209, 0, 198, 115, 192, 1, 198, 192, 192, 209, 192, 1, 128, 0, 128, 0, 0, 0, 191, 0, 145, 0, 0, 0, 0, 0, 0, 0, 0, 0, 0, 0, 0, 115, 194, 190, 0, 194, 0, 0, 0, 0, 0, 191, 0, 201, 201, 202, 201, 0, 0, 0, 223, 223, 0, 0, 0, 0, 0, 1, 169, 0, 1, 169, 167, 167, 0, 167, 200, 210, 200, 0, 0, 154, 210, 200, 0, 0, 0, 0, 154, 1, 0, 1, 182, 182, 0, 0, 0, 0, 0, 0, 0, 0, 0, 0, 0, 0, 0, 130, 231, 0, 0, 0, 229, 0, 233, 207, 231, 0, 0, 0, 211, 211, 0, 211, 0, 0, 0, 0, 0, 130, 0, 0, 130, 133, 133, 183, 0, 0, 0, 0, 0, 0, 0, 213, 213, 183, 0, 0, 124, 124, 0, 1, 0, 204, 204, 0, 1, 0, 1, 0, 0, 0, 187, 0, 0, 0, 0, 202, 0, 0, 0, 183, 204, 0, 0, 187, 101, 1, 0, 0, 0, 97, 97, 226, 226, 220, 0, 220, 0, 0, 0, 0, 0, 1, 0, 1, 0, 214, 0, 0, 0, 0, 187, 220, 31, 0, 0, 0, 0, 0, 0, 168, 0, 0, 0, 0, 168, 0, 0, 0, 187, 88, 0, 187, 0, 208, 146, 0, 208, 0, 196, 0, 201, 196, 201, 214, 0, 0, 0, 0, 196, 0, 0, 0, 152, 207, 1, 134, 152, 229, 134, 0, 208, 57, 57, 229, 0, 229, 213, 208, 148, 181, 256, 201, 111, 111, 155, 148, 181, 0, 134, 252, 118, 209, 229, 208, 209, 0, 134, 213, 252, 222, 215, 215, 201, 229, 148, 0, 155, 0, 196, 147, 196, 195, 118, 0, 0, 0, 193, 259, 259, 193, 259, 1, 1, 1, 234, 230, 188, 230, 233, 127, 234, 233, 127, 137, 205, 0, 0, 229, 205, 0, 229, 0, 137, 222, 0, 0, 181, 1, 0, 0, 1, 0, 188, 181, 175, 0, 176, 0, 3, 173, 158, 3, 0, 173, 157, 157, 201, 0, 1, 0, 0, 201, 0, 175, 0, 201, 0, 190, 0, 1, 0, 182, 192, 0, 0, 182, 158, 176, 158, 256, 0, 0, 201, 0, 1, 190, 1, 176, 0, 11, 11, 206, 206, 181, 181, 147, 192, 203, 203, 203, 0, 89, 253, 253, 0, 0, 0, 202, 89, 187, 0, 0, 0, 141, 144, 0, 0, 141, 0, 144, 209, 187, 216, 198, 198, 0, 216, 1, 216, 0, 0, 200, 198, 98, 1, 209, 209, 202, 141, 213, 195, 0, 201, 0, 1, 1, 193, 120, 120, 120, 1, 193, 188, 0, 0, 204, 0, 0, 204, 0, 0, 0, 207, 207, 1, 212, 215, 0, 0, 215, 0, 161, 1, 153, 0, 230, 0, 137, 230, 136, 136, 235, 210, 136, 220, 230, 190, 0, 260, 222, 201, 180, 222, 153, 210, 201, 161, 180, 234, 137, 235, 200, 0, 220, 1, 0, 0, 234, 212, 0, 0, 156, 199, 3, 3, 246, 0, 0, 0, 0, 156, 199, 0, 246, 0, 190, 1, 72, 205, 205, 187, 205, 1, 199, 0, 72, 186, 186, 223, 0, 0, 0, 247, 247, 247, 223, 0, 0, 0, 0, 1, 252, 98, 225, 190, 141, 225, 0, 234, 0, 0, 260, 252, 0, 0, 148, 148, 113, 113, 190, 164, 190, 0, 190, 257, 257, 0, 0, 93, 109, 164, 0, 0, 195, 1, 93, 210, 0, 236, 147, 236, 0, 1, 179, 1, 0, 181, 181, 203, 154, 0, 154, 0, 1, 0, 0, 170, 170, 210, 1, 195, 0, 228, 197, 228, 0, 0, 197, 140, 203, 188, 214, 214, 0, 0, 160, 140, 160, 160, 0, 188, 0, 170, 217, 170, 254, 254, 213, 217, 0, 217, 254, 1, 187, 0, 1, 213, 195, 195, 169, 134, 194, 194, 194, 134, 98, 195, 169, 193, 179, 0, 0, 0, 169, 134, 193, 198, 0, 198, 212, 198, 0, 1, 0, 141, 1, 212, 0, 209, 0, 0, 209, 198, 0, 109, 0, 105, 105, 29, 29, 29, 77, 77, 88, 146, 146, 146, 146, 142, 142, 88, 108, 108, 132, 132, 29, 4, 116, 116, 181, 125, 181, 210, 210, 208, 0, 211, 0, 210, 0, 156, 105, 105, 5, 0, 0, 5, 125, 125, 208, 240, 192, 83, 83, 192, 240, 206, 211, 192, 0, 0, 167, 102, 200, 206, 206, 181, 167, 0, 225, 225, 102, 100, 100, 216, 216, 226, 184, 128, 0, 128, 0, 0, 158, 143, 226, 0, 184, 1, 1, 0, 0, 194, 156, 0, 138, 210, 138, 0, 0, 218, 182, 272, 169, 217, 121, 0, 218, 121, 169, 218, 210, 272, 156, 242, 242, 200, 123, 123, 207, 178, 178, 143, 218, 211, 272, 176, 0, 0, 226, 199, 212, 220, 237, 0, 179, 179, 0, 1, 268, 268, 0, 1, 212, 180, 0, 180, 0, 0, 0, 0, 178, 213, 242, 242, 237, 0, 0, 0, 0, 213, 135, 230, 230, 230, 212, 0, 203, 179, 224, 1, 135, 230, 0, 224, 161, 221, 161, 272, 161, 203, 271, 221, 0, 0, 220, 172, 0, 213, 0, 0, 199, 215, 0, 244, 1, 199, 1, 244, 0, 223, 199, 189, 94, 1, 0, 199, 94, 1, 0, 94, 0, 145, 145, 145, 189, 0, 1, 0, 215, 0, 221, 0, 0, 0, 183, 211, 0, 218, 218, 221, 235, 211, 235, 172, 179, 271, 211, 179, 0, 216, 0, 182, 207, 94, 216, 0, 0, 140, 140, 178, 213, 176, 221, 200, 236, 202, 224, 0, 236, 224, 105, 0, 104, 200, 216, 0, 175, 175, 190, 0, 216, 175, 200, 200, 202, 0, 0, 201, 217, 1, 201, 0, 157, 214, 157, 226, 214, 1, 239, 0, 0, 239, 1, 202, 0, 0, 0, 0, 0, 226, 148, 215, 148, 104, 104, 178, 178, 190, 0, 0, 105, 65, 0, 176, 221, 1, 1, 1, 203, 0, 0, 203, 1, 203, 0, 214, 160, 221, 117, 160, 223, 0, 0, 0, 193, 117, 220, 214, 117, 0, 0, 224, 193, 220, 0, 215, 1, 1, 215, 209, 209, 209, 209, 140, 150, 150, 157, 0, 166, 0, 224, 193, 0, 0, 190, 254, 0, 176, 140, 1, 165, 122, 224, 212, 122, 231, 231, 0, 0, 185, 188, 1, 185, 193, 222, 1, 222, 1, 221, 193, 1, 194, 197, 197, 1, 0, 247, 188, 0, 0, 0, 0, 1, 204, 141, 141, 208, 0, 208, 190, 80, 185, 80, 190, 190, 169, 80, 254, 185, 197, 0, 0, 0, 0, 204, 0, 204, 183, 169, 0, 0, 141, 169, 0, 176, 226, 1, 1, 158, 247, 165, 176, 223, 0, 226, 0, 0, 0, 237, 237, 223, 155, 0, 210, 209, 209, 158, 193, 210, 222, 158, 193, 186, 0, 222, 0, 155, 186, 98, 98, 169, 0, 215, 1, 0, 212, 205, 1, 215, 184, 0, 184, 0, 0, 0, 1, 224, 166, 224, 1, 65, 1, 190, 0, 169, 0, 204, 205, 0, 0, 197, 161, 161, 3, 167, 167, 3, 3, 3, 188, 0, 251, 188, 188, 0, 0, 0, 251, 0, 201, 194, 0, 188, 194, 0, 0, 188, 0, 0, 0, 194, 0, 201, 0, 197, 224, 197, 0, 194, 194, 0, 175, 224, 224, 175, 0, 177, 0, 195, 195, 0, 0, 177, 0, 0, 0, 0, 229, 0, 0, 208, 229, 212, 212, 208, 194, 234, 208, 0, 210, 210, 0, 187, 0, 137, 0, 137, 0, 212, 0, 212, 188, 0, 212, 189, 0, 1, 197, 152, 237, 152, 189, 189, 197, 1, 237, 198, 0, 0, 0, 0, 0, 0, 0, 0, 183, 183, 0, 211, 0, 211, 180, 0, 0, 180, 0, 0, 0, 0, 1, 0, 1, 0, 0, 179, 179, 0, 0, 0, 215, 0, 215, 157, 218, 198, 112, 218, 218, 112, 157, 0, 0, 201, 201, 201, 164, 0, 0, 0, 0, 221, 221, 0, 221, 0, 203, 209, 203, 234, 237, 0, 0, 181, 181, 181, 181, 178, 178, 155, 195, 164, 0, 0, 0, 155, 213, 195, 0, 0, 160, 206, 0, 0, 206, 151, 178, 0, 151, 197, 0, 217, 0, 206, 213, 181, 1, 1, 160, 240, 1, 230, 0, 201, 191, 191, 177, 0, 0, 217, 0, 240, 194, 197, 0, 199, 199, 0, 142, 177, 177, 194, 1, 0, 230, 218, 195, 218, 120, 102, 176, 102, 176, 101, 0, 101, 0, 120, 228, 123, 123, 228, 248, 1, 0, 198, 198, 174, 248, 0, 1, 0, 199, 0, 0, 142, 174, 217, 235, 0, 235, 134, 0, 0, 160, 217, 0, 187, 0, 0, 224, 0, 160, 197, 247, 247, 203, 224, 1, 224, 203, 0, 0, 0, 225, 225, 214, 0, 179, 0, 217, 0, 1, 0, 144, 144, 0, 209, 0, 188, 0, 178, 178, 198, 204, 0, 0, 204, 0, 204, 198, 164, 164, 0, 0, 0, 186, 186, 186, 0, 236, 134, 203, 195, 0, 214, 0, 0, 197, 0, 0, 236, 179, 217, 285, 101, 98, 98, 285, 285, 285, 285, 285, 98, 49, 98, 98, 115, 115, 104, 71, 71, 98, 104, 49, 103, 103, 101, 101, 176, 176, 176, 176, 176, 176, 101, 7, 204, 204, 204, 204, 204, 204, 249, 249, 249, 249, 249, 249, 1, 206, 172, 222, 141, 206, 204, 131, 1, 1, 172, 1, 149, 149, 204, 222, 100, 100, 216, 148, 148, 192, 196, 178, 0, 196, 0, 0, 178, 0, 188, 203, 0, 0, 0, 216, 188, 0, 166, 204, 0, 0, 0, 193, 193, 0, 166, 0, 0, 0, 204, 0, 0, 0, 204, 0, 203, 0, 0, 208, 0, 0, 208, 204, 206, 197, 0, 0, 95, 186, 204, 0, 0, 0, 0, 0, 206, 193, 0, 193, 187, 0, 0, 0, 199, 193, 199, 0, 1, 0, 1, 187, 0, 210, 206, 1, 138, 193, 186, 199, 195, 0, 203, 197, 210, 1, 169, 131, 0, 0, 0, 169, 0, 0, 263, 204, 131, 139, 0, 0, 263, 0, 170, 110, 170, 0, 95, 110, 203, 236, 0, 260, 226, 204, 0, 271, 271, 202, 0, 0, 202, 194, 0, 179, 0, 194, 121, 236, 0, 177, 0, 177, 0, 0, 260, 204, 139, 209, 0, 0, 0, 141, 0, 0, 0, 236, 0, 0, 209, 121, 1, 0, 0, 243, 381, 0, 1, 178, 178, 241, 0, 0, 1, 243, 0, 141, 211, 173, 0, 241, 95, 111, 173, 232, 255, 0, 0, 0, 255, 230, 234, 235, 211, 235, 0, 111, 199, 234, 193, 0, 0, 0, 220, 204, 192, 0, 0, 194, 176, 138, 138, 0, 1, 138, 138, 1, 171, 203, 1, 194, 0, 171, 176, 239, 0, 0, 0, 1, 226, 0, 204, 141, 195, 193, 220, 1, 0, 230, 0, 166, 0, 0, 0, 210, 201, 210, 171, 171, 139, 139, 139, 189, 190, 195, 248, 186, 1, 210, 0, 0, 209, 0, 1, 0, 190, 209, 148, 137, 137, 148, 190, 195, 202, 0, 210, 186, 214, 381, 0, 1, 202, 189, 184, 0, 1, 223, 0, 223, 1, 0, 1, 257, 214, 0, 132, 0, 257, 0, 0, 0, 177, 151, 151, 0, 190, 0, 195, 138, 0, 184, 132, 201, 0, 0, 1, 0, 210, 217, 173, 1, 210, 206, 0, 0, 225, 191, 0, 189, 206, 181, 225, 181, 1, 173, 225, 0, 238, 1, 233, 0, 158, 233, 0, 158, 225, 0, 210, 0, 0, 191, 0, 217, 204, 158, 238, 225, 1, 170, 170, 0, 0, 115, 138, 0, 0, 0, 0, 134, 146, 0, 214, 146, 180, 238, 189, 115, 0, 166, 1, 0, 255, 0, 0, 1, 134, 0, 255, 1, 0, 138, 180, 173, 173, 189, 239, 166, 195, 0, 238, 204, 1, 1, 218, 218, 0, 1, 0, 0, 188, 130, 185, 130, 188, 185, 151, 0, 0, 0, 151, 0, 128, 0, 128, 0, 0, 191, 381, 0, 213, 197, 173, 227, 197, 0, 0, 213, 191, 227, 0, 173, 227, 210, 125, 125, 210, 0, 1, 216, 216, 0, 0, 0, 0, 159, 159, 0, 159, 212, 0, 0, 200, 217, 0, 217, 190, 211, 0, 1, 211, 190, 0, 0, 0, 243, 142, 142, 212, 95, 175, 137, 212, 206, 0, 0, 1, 232, 232, 0, 1, 1, 206, 169, 0, 200, 169, 381, 0, 137, 137, 206, 212, 207, 207, 0, 177, 0, 206, 255, 255, 0, 146, 147, 146, 141, 193, 193, 0, 152, 209, 152, 0, 175, 189, 175, 0, 195, 200, 0, 0, 209, 147, 0, 248, 239, 193, 0, 0, 193, 212, 195, 175, 243, 0, 195, 166, 179, 0, 249, 0, 222, 222, 249, 0, 201, 145, 0, 201, 0, 0, 231, 145, 161, 216, 161, 216, 0, 0, 191, 230, 223, 0, 0, 0, 0, 0, 179, 0, 1, 0, 1, 1, 221, 1, 1, 0, 213, 230, 231, 0, 160, 0, 190, 0, 184, 184, 97, 0, 1, 160, 178, 132, 0, 178, 0, 1, 219, 0, 1, 190, 0, 97, 219, 181, 0, 0, 0, 171, 171, 0, 0, 184, 1, 180, 249, 198, 0, 0, 0, 0, 192, 0, 198, 198, 0, 0, 199, 0, 0, 193, 0, 0, 181, 199, 226, 212, 0, 226, 198, 216, 226, 250, 133, 208, 133, 167, 208, 216, 132, 193, 180, 0, 0, 218, 246, 205, 218, 205, 0, 0, 0, 210, 172, 0, 145, 145, 0, 187, 267, 172, 187, 193, 191, 159, 159, 214, 0, 226, 193, 191, 267, 192, 206, 210, 192, 206, 166, 166, 191, 1, 1, 0, 223, 0, 0, 129, 0, 0, 0, 191, 250, 193, 193, 129, 221, 214, 0, 0, 221, 1, 187, 134, 190, 0, 0, 0, 191, 125, 0, 0, 1, 0, 190, 221, 171, 132, 125, 0, 0, 0, 186, 159, 159, 186, 186, 206, 187, 186, 132, 232, 1, 187, 201, 134, 191, 1, 1, 0, 0, 0, 0, 0, 0, 175, 200, 1, 193, 193, 0, 1, 155, 1, 175, 171, 164, 168, 155, 0, 168, 164, 0, 0, 127, 127, 0, 175, 200, 155, 200, 0, 0, 213, 0, 179, 206, 0, 213, 0, 1, 1, 213, 164, 164, 249, 134, 233, 0, 213, 0, 211, 0, 184, 155, 155, 181, 0, 0, 172, 172, 211, 190, 190, 1, 1, 87, 0, 87, 192, 83, 232, 83, 221, 239, 239, 0, 181, 184, 179, 184, 211, 211, 0, 184, 92, 0, 221, 92, 0, 0, 0, 221, 181, 0, 0, 221, 194, 194, 0, 0, 0, 0, 189, 0, 0, 213, 0, 0, 0, 0, 208, 189, 170, 0, 0, 186, 186, 170, 206, 0, 0, 0, 206, 0, 208, 0, 219, 178, 0, 1, 1, 1, 0, 178, 201, 201, 219, 0, 0, 212, 0, 246, 167, 233, 0, 191, 0, 129, 179, 0, 0, 132, 132, 144, 144, 92, 92, 211, 211, 211, 211, 211, 211, 105, 105, 105, 105, 132, 132, 132, 132, 184, 184, 184, 184, 184, 184, 232, 232, 116, 116, 100, 100, 100, 100, 154, 154, 154, 75, 75, 75, 154, 75, 75, 154, 75, 154, 0, 0, 0, 0, 0, 0, 194, 194, 194, 194, 194, 194, 79, 79, 79, 79, 79, 79, 1, 214, 1, 1, 0, 77, 0, 0, 0, 0, 170, 0, 0, 0, 209, 1, 151, 1, 218, 170, 219, 189, 230, 236, 236, 215, 218, 151, 206, 0, 187, 0, 0, 0, 0, 216, 0, 0, 0, 1, 1, 0, 224, 0, 232, 247, 0, 216, 224, 0, 0, 232, 181, 247, 181, 0, 0, 0, 1, 0, 0, 221, 1, 214, 210, 1, 210, 0, 214, 188, 0, 0, 0, 206, 135, 149, 251, 0, 0, 202, 0, 0, 219, 0, 0, 189, 215, 177, 206, 0, 194, 207, 97, 211, 177, 211, 209, 208, 194, 1, 89, 0, 0, 0, 177, 195, 0, 0, 221, 187, 1, 187, 1, 195, 195, 209, 188, 1, 1, 0, 0, 221, 174, 174, 174, 207, 0, 0, 147, 0, 1, 236, 189, 0, 202, 97, 1, 0, 1, 169, 208, 229, 229, 160, 180, 180, 229, 160, 208, 169, 0, 208, 221, 1, 1, 0, 189, 0, 221, 0, 147, 0, 0, 1, 0, 0, 0, 221, 0, 0, 207, 147, 192, 0, 236, 147, 175, 1, 187, 187, 194, 0, 175, 203, 194, 0, 187, 1, 0, 0, 0, 0, 0, 251, 156, 156, 185, 156, 188, 112, 174, 112, 174, 0, 185, 0, 0, 1, 0, 0, 229, 0, 0, 0, 189, 168, 0, 177, 229, 193, 0, 0, 185, 0, 1, 0, 1, 0, 0, 195, 212, 212, 193, 208, 0, 230, 166, 1, 195, 175, 1, 206, 203, 0, 0, 0, 194, 1, 0, 0, 191, 0, 1, 182, 188, 149, 0, 163, 182, 221, 1, 1, 191, 77, 190, 195, 0, 241, 0, 173, 190, 0, 173, 0, 195, 212, 0, 212, 195, 211, 215, 0, 201, 0, 0, 194, 0, 215, 204, 204, 197, 172, 202, 0, 197, 215, 0, 1, 227, 0, 191, 215, 0, 0, 201, 0, 0, 191, 186, 0, 165, 0, 165, 172, 84, 84, 84, 241, 202, 207, 0, 186, 0, 207, 193, 0, 1, 211, 204, 1, 206, 193, 206, 233, 195, 194, 149, 0, 149, 233, 172, 1, 143, 0, 0, 158, 0, 193, 1, 0, 206, 206, 270, 201, 194, 219, 174, 206, 0, 215, 270, 0, 215, 172, 227, 174, 191, 191, 1, 223, 0, 119, 0, 0, 223, 119, 133, 193, 143, 195, 228, 195, 119, 144, 133, 1, 206, 175, 206, 228, 200, 129, 0, 0, 193, 0, 0, 233, 0, 0, 137, 233, 209, 200, 195, 195, 129, 0, 0, 144, 175, 158, 0, 0, 0, 209, 0, 185, 0, 189, 235, 0, 235, 1, 1, 207, 207, 237, 237, 1, 182, 185, 186, 0, 0, 186, 0, 186, 0, 0, 0, 207, 186, 219, 213, 143, 125, 125, 195, 201, 213, 0, 137, 137, 0, 186, 204, 0, 1, 0, 182, 0, 196, 1, 254, 0, 0, 182, 0, 169, 196, 0, 229, 0, 0, 169, 0, 0, 254, 210, 154, 199, 154, 199, 215, 149, 199, 215, 211, 149, 0, 137, 0, 0, 0, 1, 0, 193, 0, 210, 0, 0, 0, 0, 0, 163, 0, 0, 0, 201, 178, 201, 0, 178, 193, 0, 163, 0, 0, 89, 0, 167, 243, 185, 202, 207, 1, 173, 228, 243, 173, 0, 0, 228, 202, 194, 1, 187, 0, 0, 0, 0, 248, 248, 182, 187, 0, 0, 0, 211, 0, 194, 228, 173, 167, 162, 209, 208, 0, 0, 209, 232, 209, 232, 195, 0, 0, 188, 214, 222, 222, 195, 218, 218, 0, 188, 0, 0, 1, 210, 0, 1, 203, 0, 208, 200, 1, 200, 168, 1, 185, 212, 1, 210, 168, 234, 1, 208, 208, 189, 207, 1, 0, 0, 214, 182, 1, 214, 0, 182, 0, 0, 195, 128, 0, 111, 166, 234, 0, 0, 0, 128, 175, 0, 1, 0, 195, 1, 0, 189, 174, 0, 0, 0, 0, 0, 193, 174, 111, 186, 0, 1, 135, 94, 208, 94, 229, 163, 212, 194, 203, 192, 0, 168, 168, 210, 0, 162, 234, 302, 302, 270, 270, 147, 147, 147, 270, 147, 270, 302, 302, 0, 164, 164, 164, 191, 104, 179, 0, 0, 1, 0, 1, 0, 1, 0, 0, 1, 1, 189, 210, 189, 0, 0, 203, 0, 242, 210, 161, 161, 0, 192, 234, 218, 192, 104, 242, 234, 259, 237, 259, 184, 237, 203, 203, 160, 0, 0, 228, 1, 147, 0, 0, 1, 205, 205, 0, 182, 0, 225, 225, 176, 160, 182, 210, 210, 0, 184, 147, 147, 0, 0, 220, 220, 228, 220, 179, 218, 131, 184, 214, 0, 214, 100, 1, 0, 1, 0, 1, 0, 0, 168, 148, 184, 0, 0, 193, 0, 0, 225, 148, 246, 168, 189, 0, 193, 189, 90, 148, 0, 225, 184, 184, 183, 160, 0, 0, 0, 0, 0, 202, 226, 1, 0, 239, 0, 0, 226, 0, 0, 0, 148, 232, 211, 232, 160, 154, 131, 211, 90, 211, 210, 143, 210, 0, 0, 143, 202, 236, 0, 246, 154, 1, 1, 0, 159, 159, 194, 209, 118, 1, 171, 222, 231, 235, 171, 1, 118, 231, 1, 214, 214, 0, 0, 0, 0, 245, 0, 214, 0, 0, 0, 159, 0, 213, 222, 159, 0, 114, 1, 235, 183, 0, 153, 153, 183, 156, 197, 197, 245, 114, 209, 0, 156, 0, 194, 0, 235, 210, 213, 183, 210, 158, 0, 209, 245, 0, 100, 0, 0, 209, 0, 222, 136, 1, 1, 106, 136, 0, 1, 1, 232, 1, 1, 0, 238, 218, 0, 140, 0, 218, 1, 238, 1, 106, 187, 0, 218, 232, 0, 221, 245, 0, 0, 221, 0, 0, 238, 221, 0, 198, 0, 1, 0, 0, 1, 0, 0, 198, 187, 182, 0, 196, 241, 240, 0, 196, 1, 0, 214, 214, 0, 241, 0, 205, 0, 0, 0, 240, 182, 0, 0, 0, 205, 0, 0, 0, 0, 202, 0, 70, 0, 143, 215, 214, 0, 251, 215, 0, 202, 234, 221, 0, 215, 0, 117, 138, 209, 1, 117, 0, 0, 135, 135, 0, 0, 0, 138, 140, 198, 187, 198, 0, 0, 187, 196, 97, 188, 97, 216, 209, 0, 0, 0, 0, 210, 186, 0, 0, 1, 247, 0, 1, 0, 0, 140, 210, 140, 1, 0, 0, 0, 0, 0, 247, 188, 0, 166, 0, 0, 0, 166, 0, 0, 193, 0, 193, 0, 0, 216, 0, 251, 179, 141, 247, 1, 234, 126, 199, 1, 126, 126, 0, 190, 190, 199, 0, 216, 0, 165, 157, 165, 0, 0, 205, 205, 205, 245, 0, 0, 210, 183, 183, 0, 191, 140, 0, 170, 1, 140, 0, 186, 0, 157, 0, 93, 0, 96, 0, 240, 96, 240, 0, 0, 0, 236, 229, 193, 0, 0, 96, 0, 179, 239, 229, 131, 160, 0, 170, 0, 190, 229, 1, 236, 93, 193, 190, 1, 0, 0, 0, 213, 193, 176, 103, 242, 132, 132, 0, 0, 103, 0, 242, 0, 0, 0, 176, 0, 0, 183, 183, 241, 241, 154, 0, 193, 154, 0, 154, 198, 0, 1, 0, 193, 0, 197, 0, 236, 201, 210, 0, 213, 0, 0, 197, 210, 247, 0, 247, 1, 0, 0, 201, 176, 0, 1, 141, 0, 1, 173, 0, 216, 225, 0, 1, 0, 173, 173, 1, 160, 0, 222, 0, 70, 222, 0, 160, 158, 0, 160, 0, 0, 225, 198, 197, 192, 192, 0, 0, 73, 73, 219, 127, 127, 144, 108, 108, 79, 153, 153, 128, 128, 100, 78, 78, 78, 78, 100, 148, 148, 90, 90, 90, 90, 90, 90, 106, 106, 106, 106, 106, 106, 0, 0, 0, 187, 150, 0, 0, 195, 188, 0, 1, 195, 155, 0, 0, 184, 155, 183, 197, 0, 197, 0, 200, 0, 250, 0, 251, 240, 182, 0, 238, 182, 0, 0, 0, 238, 1, 174, 0, 0, 0, 0, 174, 211, 240, 0, 224, 203, 0, 224, 184, 187, 198, 203, 0, 233, 0, 0, 0, 185, 0, 185, 0, 233, 200, 0, 168, 205, 168, 183, 1, 1, 217, 0, 217, 193, 0, 205, 0, 178, 0, 0, 217, 184, 198, 251, 211, 78, 78, 0, 0, 0, 178, 0, 0, 5, 1, 5, 200, 168, 217, 0, 231, 231, 176, 1, 1, 183, 0, 0, 183, 231, 0, 0, 221, 0, 176, 0, 0, 0, 231, 0, 137, 194, 137, 194, 221, 178, 0, 0, 231, 0, 130, 182, 0, 0, 0, 182, 177, 0, 182, 0, 130, 199, 189, 0, 0, 0, 0, 0, 0, 178, 0, 146, 163, 1, 189, 19, 216, 19, 146, 1, 216, 163, 184, 210, 210, 1, 210, 182, 182, 0, 139, 139, 185, 0, 0, 181, 185, 0, 0, 1, 0, 0, 199, 149, 149, 0, 0, 0, 214, 217, 215, 215, 217, 166, 206, 163, 163, 206, 0, 5, 1, 182, 215, 212, 1, 182, 0, 210, 0, 0, 0, 205, 0, 205, 0, 189, 212, 189, 0, 1, 187, 128, 0, 187, 217, 125, 1, 128, 0, 1, 0, 1, 1, 130, 212, 1, 1, 203, 203, 1, 160, 0, 177, 130, 130, 0, 0, 0, 0, 218, 1, 177, 198, 192, 215, 0, 0, 0, 125, 1, 192, 1, 200, 0, 0, 160, 212, 187, 0, 0, 142, 252, 167, 207, 0, 224, 1, 224, 0, 221, 207, 173, 167, 166, 213, 221, 166, 213, 239, 239, 211, 0, 191, 133, 224, 211, 182, 171, 209, 171, 224, 0, 224, 1, 191, 252, 213, 133, 0, 195, 0, 205, 1, 73, 0, 224, 195, 209, 212, 1, 203, 203, 243, 226, 182, 226, 73, 207, 1, 207, 0, 207, 207, 0, 200, 73, 0, 205, 219, 266, 266, 178, 236, 178, 247, 210, 236, 247, 254, 0, 219, 242, 210, 1, 135, 239, 239, 239, 200, 135, 188, 266, 1, 0, 165, 0, 0, 181, 0, 1, 196, 227, 214, 222, 231, 4, 0, 207, 0, 165, 219, 242, 190, 196, 4, 222, 182, 148, 0, 1, 194, 195, 227, 148, 221, 0, 195, 0, 182, 0, 0, 1, 163, 190, 189, 217, 1, 190, 217, 188, 0, 189, 1, 0, 1, 183, 202, 163, 177, 0, 189, 0, 204, 204, 0, 177, 0, 0, 189, 0, 187, 194, 1, 0, 242, 183, 0, 187, 242, 0, 0, 0, 0, 0, 225, 199, 0, 199, 1, 225, 150, 160, 173, 210, 221, 210, 0, 166, 190, 39, 39, 213, 192, 192, 0, 217, 242, 1, 0, 1, 0, 160, 190, 202, 184, 0, 0, 1, 214, 213, 183, 236, 224, 0, 201, 135, 135, 234, 201, 0, 0, 181, 255, 224, 162, 1, 0, 1, 164, 162, 104, 206, 0, 194, 206, 0, 0, 0, 177, 0, 202, 221, 194, 0, 167, 0, 234, 0, 0, 0, 255, 0, 0, 181, 1, 221, 167, 104, 0, 0, 251, 0, 0, 185, 185, 0, 0, 251, 0, 172, 0, 0, 202, 157, 0, 184, 225, 0, 225, 0, 171, 1, 171, 172, 231, 157, 164, 183, 1, 157, 171, 0, 0, 0, 187, 206, 1, 204, 250, 0, 250, 204, 230, 0, 250, 216, 216, 1, 196, 196, 1, 206, 0, 0, 230, 225, 0, 193, 188, 254, 0, 214, 0, 0, 0, 0, 0, 189, 0, 189, 193, 0, 159, 170, 0, 200, 170, 193, 0, 220, 200, 0, 5, 0, 1, 1, 0, 0, 219, 0, 1, 0, 187, 187, 188, 192, 192, 0, 0, 159, 142, 243, 0, 0, 0, 225, 1, 250, 0, 0, 218, 212, 1, 220, 250, 162, 187, 236, 153, 153, 153, 153, 186, 186, 0, 209, 200, 0, 191, 143, 178, 0, 204, 196, 0, 191, 191, 196, 178, 0, 196, 0, 0, 141, 205, 204, 0, 205, 141, 0, 226, 0, 0, 0, 0, 226, 0, 0, 237, 1, 97, 0, 0, 0, 189, 193, 143, 97, 0, 193, 0, 208, 189, 1, 0, 0, 0, 208, 0, 0, 0, 196, 153, 196, 0, 142, 153, 196, 0, 0, 0, 0, 129, 0, 0, 210, 169, 210, 0, 200, 169, 129, 0, 0, 214, 202, 202, 189, 0, 189, 192, 192, 0, 188, 142, 214, 0, 0, 176, 0, 0, 176, 161, 0, 161, 0, 240, 240, 0, 239, 0, 213, 0, 0, 243, 0, 176, 1, 0, 243, 1, 173, 0, 181, 0, 0, 0, 0, 0, 181, 0, 215, 136, 136, 0, 0, 213, 0, 0, 97, 0, 173, 200, 190, 190, 0, 0, 0, 99, 200, 0, 195, 0, 182, 1, 215, 0, 99, 0, 1, 0, 191, 162, 256, 256, 0, 0, 0, 198, 195, 215, 212, 0, 0, 0, 198, 75, 97, 189, 97, 0, 0, 182, 75, 97, 0, 0, 0, 0, 229, 0, 0, 0, 0, 191, 191, 6, 0, 0, 180, 128, 1, 0, 6, 0, 0, 180, 220, 220, 0, 0, 0, 1, 0, 1, 0, 209, 0, 0, 1, 0, 0, 239, 0, 208, 0, 220, 0, 0, 0, 132, 209, 0, 1, 209, 0, 0, 0, 221, 162, 208, 189, 0, 0, 0, 190, 0, 0, 212, 0, 212, 190, 196, 1, 1, 168, 0, 221, 0, 185, 1, 215, 0, 215, 226, 226, 0, 185, 0, 0, 132, 190, 0, 212, 264, 229, 0, 168, 221, 196, 0, 142, 128, 0, 128, 128, 1, 184, 224, 184, 0, 0, 221, 202, 192, 0, 0, 225, 202, 221, 1, 112, 0, 163, 1, 0, 164, 1, 1, 192, 1, 0, 192, 0, 192, 0, 0, 0, 0, 225, 221, 164, 131, 166, 1, 0, 0, 190, 0, 0, 0, 0, 180, 0, 180, 164, 180, 164, 0, 139, 0, 0, 139, 1, 0, 166, 194, 0, 200, 163, 194, 209, 209, 178, 144, 1, 1, 1, 144, 204, 163, 224, 0, 201, 201, 0, 0, 0, 0, 0, 220, 1, 0, 204, 182, 0, 205, 0, 0, 205, 1, 220, 1, 0, 0, 0, 0, 243, 184, 1, 81, 243, 1, 81, 1, 0, 210, 0, 210, 184, 0, 0, 0, 182, 0, 214, 0, 187, 202, 186, 186, 186, 0, 0, 163, 0, 1, 213, 195, 0, 180, 178, 213, 186, 175, 175, 264, 187, 213, 1, 129, 200, 234, 196, 196, 200, 1, 1, 0, 131, 200, 0, 234, 0, 0, 0, 0, 0, 214, 1, 1, 0, 0, 195, 0, 183, 0, 242, 202, 215, 0, 148, 0, 0, 215, 0, 251, 0, 264, 1, 0, 66, 1, 0, 216, 264, 191, 0, 216, 207, 0, 0, 1, 0, 0, 227, 0, 0, 207, 1, 180, 191, 212, 212, 180, 66, 148, 1, 227, 239, 251, 264, 0, 196, 192, 192, 245, 180, 219, 0, 222, 180, 219, 245, 222, 165, 1, 0, 0, 0, 222, 0, 98, 0, 222, 0, 222, 0, 242, 165, 196, 0, 1, 188, 0, 0, 0, 0, 209, 209, 0, 1, 208, 208, 0, 239, 0, 0, 0, 1, 196, 0, 222, 222, 0, 187, 0, 187, 197, 0, 1, 0, 190, 1, 1, 0, 0, 248, 248, 0, 0, 177, 0, 177, 0, 189, 189, 0, 1, 0, 154, 182, 0, 200, 0, 256, 168, 0, 154, 112, 1, 2, 0, 211, 184, 129, 98, 233, 211, 0, 233, 1, 1, 0, 255, 0, 181, 237, 181, 255, 184, 1, 180, 256, 0, 211, 1, 0, 183, 0, 182, 1, 1, 0, 128, 191, 0, 197, 0, 0, 1, 249, 59, 59, 189, 189, 149, 149, 149, 149, 106, 106, 106, 106, 133, 243, 45, 45, 45, 45, 252, 252, 162, 162, 162, 118, 118, 253, 169, 171, 169, 257, 0, 0, 136, 158, 1, 219, 196, 0, 122, 136, 1, 0, 219, 0, 199, 203, 257, 218, 218, 200, 186, 203, 192, 192, 192, 182, 0, 192, 0, 220, 0, 220, 125, 158, 122, 257, 125, 0, 0, 196, 199, 199, 203, 203, 210, 210, 200, 0, 0, 0, 0, 192, 0, 150, 0, 0, 186, 0, 207, 198, 226, 182, 155, 0, 150, 219, 219, 253, 0, 0, 202, 202, 226, 202, 203, 186, 166, 247, 207, 119, 0, 0, 247, 119, 198, 199, 0, 69, 0, 192, 0, 203, 166, 230, 0, 208, 0, 215, 253, 242, 242, 0, 208, 155, 207, 0, 181, 181, 186, 1, 171, 186, 230, 181, 205, 69, 1, 1, 0, 0, 0, 237, 196, 237, 195, 195, 202, 196, 53, 225, 225, 225, 53, 225, 167, 224, 202, 2, 2, 224, 206, 123, 0, 197, 0, 197, 126, 185, 186, 0, 185, 167, 138, 186, 200, 123, 197, 0, 0, 0, 138, 198, 198, 200, 103, 222, 0, 0, 222, 138, 103, 0, 161, 213, 1, 186, 161, 173, 1, 214, 213, 186, 0, 194, 218, 194, 214, 0, 0, 0, 214, 0, 173, 184, 182, 184, 0, 200, 211, 138, 186, 0, 159, 186, 159, 205, 0, 191, 182, 239, 205, 211, 0, 211, 239, 231, 239, 231, 0, 1, 177, 191, 211, 188, 0, 1, 226, 0, 136, 214, 214, 214, 1, 178, 183, 173, 0, 0, 0, 188, 0, 159, 164, 0, 196, 1, 239, 239, 215, 0, 215, 0, 0, 177, 0, 181, 176, 0, 176, 178, 195, 134, 126, 195, 0, 0, 174, 181, 179, 69, 215, 191, 211, 69, 0, 179, 183, 191, 173, 226, 174, 242, 242, 142, 242, 202, 0, 218, 168, 192, 184, 173, 184, 202, 187, 0, 0, 229, 1, 202, 187, 0, 179, 0, 0, 232, 1, 0, 178, 179, 0, 0, 1, 168, 0, 192, 173, 164, 108, 0, 1, 246, 0, 173, 190, 205, 205, 1, 190, 173, 226, 142, 116, 116, 192, 0, 213, 0, 0, 246, 190, 232, 0, 174, 213, 0, 213, 177, 1, 1, 0, 177, 187, 180, 186, 0, 202, 87, 187, 0, 1, 190, 180, 1, 0, 0, 0, 180, 226, 174, 0, 1, 1, 223, 1, 228, 202, 185, 201, 201, 209, 0, 223, 110, 110, 223, 233, 0, 0, 0, 0, 211, 0, 0, 0, 233, 186, 0, 0, 165, 0, 0, 0, 209, 165, 0, 226, 1, 211, 175, 226, 178, 261, 186, 190, 199, 0, 190, 0, 1, 194, 180, 228, 232, 199, 180, 129, 129, 174, 158, 194, 186, 182, 183, 183, 229, 182, 194, 244, 244, 197, 206, 213, 108, 156, 205, 197, 1, 190, 261, 192, 174, 87, 102, 102, 192, 174, 0, 0, 0, 0, 148, 0, 215, 148, 0, 0, 215, 0, 1, 1, 122, 127, 0, 217, 0, 179, 0, 0, 179, 217, 0, 122, 197, 127, 122, 145, 0, 156, 127, 243, 229, 187, 156, 0, 0, 156, 201, 229, 158, 145, 185, 0, 0, 0, 145, 197, 243, 203, 0, 187, 214, 0, 0, 206, 0, 44, 181, 44, 159, 0, 208, 189, 0, 0, 206, 0, 0, 0, 189, 89, 0, 181, 0, 159, 1, 181, 127, 185, 0, 0, 220, 0, 0, 201, 159, 1, 203, 194, 89, 0, 194, 175, 0, 0, 218, 183, 239, 186, 186, 233, 239, 0, 220, 214, 188, 202, 183, 140, 233, 136, 219, 208, 218, 202, 150, 150, 0, 179, 144, 121, 188, 219, 240, 195, 140, 199, 133, 179, 155, 0, 188, 188, 134, 0, 144, 240, 0, 0, 155, 155, 232, 195, 133, 232, 156, 219, 202, 199, 218, 0, 185, 136, 0, 210, 0, 180, 210, 0, 136, 185, 0, 185, 0, 0, 0, 162, 0, 121, 1, 0, 0, 158, 0, 174, 0, 0, 1, 0, 0, 0, 1, 1, 136, 0, 0, 1, 1, 121, 202, 162, 0, 1, 158, 0, 186, 157, 157, 37, 1, 1, 192, 192, 194, 1, 200, 211, 144, 200, 210, 0, 195, 187, 0, 200, 224, 155, 0, 0, 1, 203, 202, 203, 210, 202, 0, 1, 224, 195, 177, 177, 0, 0, 163, 195, 0, 196, 150, 155, 0, 0, 0, 0, 189, 0, 0, 188, 150, 242, 0, 237, 185, 163, 185, 1, 0, 189, 145, 0, 196, 0, 240, 1, 240, 1, 0, 1, 176, 144, 144, 211, 211, 200, 237, 0, 180, 211, 202, 202, 223, 0, 200, 238, 198, 198, 238, 238, 233, 233, 192, 211, 139, 167, 211, 0, 212, 0, 211, 207, 147, 0, 227, 166, 166, 167, 227, 0, 98, 192, 0, 207, 212, 134, 134, 187, 167, 257, 0, 147, 0, 145, 0, 0, 193, 0, 193, 212, 124, 0, 139, 4, 98, 167, 197, 4, 193, 188, 0, 239, 168, 229, 0, 0, 188, 0, 168, 205, 0, 0, 160, 1, 188, 239, 0, 0, 165, 229, 197, 204, 210, 184, 0, 184, 231, 204, 231, 1, 1, 165, 0, 160, 0, 181, 181, 210, 205, 0, 237, 237, 203, 219, 211, 199, 257, 0, 1, 0, 0, 1, 1, 0, 219, 216, 0, 199, 219, 199, 0, 0, 141, 0, 200, 0, 0, 200, 197, 0, 0, 167, 0, 1, 0, 134, 216, 141, 0, 0, 199, 0, 211, 0, 211, 187, 0, 187, 0, 211, 200, 208, 0, 198, 228, 0, 242, 208, 179, 0, 228, 179, 0, 0, 182, 176, 182, 0, 0, 180, 0, 0, 124, 223, 203, 144, 219, 199, 228, 0, 242, 0, 228, 198, 193, 0, 0, 185, 139, 185, 202, 139, 0, 0, 0, 172, 202, 215, 205, 215, 0, 122, 122, 205, 172, 164, 223, 164, 0, 0, 1, 1, 0, 1, 0, 0, 223, 0, 192, 0, 87, 0, 0, 0, 229, 196, 196, 0, 229, 234, 229, 234, 122, 122, 214, 183, 183, 0, 215, 1, 213, 197, 0, 1, 0, 0, 195, 213, 180, 180, 180, 202, 214, 1, 1, 145, 199, 136, 136, 197, 212, 212, 153, 193, 197, 145, 153, 11, 0, 0, 0, 0, 0, 193, 11, 176, 214, 0, 199, 0, 0, 0, 192, 114, 193, 176, 197, 0, 0, 191, 0, 191, 205, 205, 0, 0, 201, 114, 0, 215, 231, 0, 231, 214, 201, 0, 0, 195, 211, 202, 201, 0, 203, 203, 0, 0, 223, 0, 201, 0, 199, 197, 164, 199, 164, 223, 223, 0, 0, 0, 1, 189, 1, 1, 0, 0, 0, 1, 223, 0, 0, 1, 170, 181, 180, 87, 202, 1, 222, 222, 0, 0, 193, 1, 1, 180, 212, 202, 212, 191, 181, 0, 0, 217, 229, 0, 0, 186, 0, 0, 229, 170, 217, 191, 0, 0, 212, 181, 186, 0, 0, 0, 0, 0, 0, 167, 0, 127, 202, 0, 177, 0, 207, 197, 176, 257, 207, 207, 0, 200, 0, 0, 1, 177, 127, 176, 0, 257, 178, 0, 194, 222, 190, 124, 182, 0, 0, 0, 190, 124, 130, 222, 1, 207, 0, 0, 0, 182, 0, 200, 202, 220, 0, 178, 220, 147, 0, 0, 93, 217, 222, 217, 93, 193, 222, 93, 242, 118, 0, 1, 147, 118, 228, 189, 0, 151, 0, 151, 0, 0, 0, 0, 247, 1, 0, 211, 1, 247, 0, 0, 207, 130, 0, 223, 0, 0, 222, 0, 188, 215, 181, 0, 0, 0, 222, 223, 0, 87, 87, 87, 87, 156, 156, 156, 156, 156, 156, 161, 184, 159, 184, 161, 107, 107, 147, 147, 229, 229, 229, 229, 229, 229, 141, 151, 151, 207, 207, 207, 207, 207, 207, 24, 24, 159, 175, 175, 125, 125, 159, 159, 52, 149, 149, 149, 149, 149, 149, 52, 188, 188, 165, 141, 236, 236, 164, 0, 212, 212, 0, 1, 161, 1, 218, 0, 173, 173, 161, 141, 164, 218, 205, 205, 204, 204, 205, 205, 205, 0, 1, 201, 99, 207, 0, 1, 207, 200, 200, 120, 120, 242, 0, 0, 242, 222, 246, 161, 215, 183, 175, 183, 183, 175, 246, 185, 160, 234, 185, 160, 0, 195, 0, 222, 161, 0, 203, 0, 0, 224, 201, 195, 0, 182, 224, 210, 210, 201, 0, 0, 0, 203, 188, 194, 180, 180, 99, 188, 182, 182, 207, 194, 165, 182, 207, 0, 234, 0, 182, 196, 0, 213, 175, 182, 121, 79, 0, 124, 217, 208, 214, 217, 196, 213, 207, 124, 215, 142, 79, 214, 208, 196, 201, 0, 181, 201, 0, 0, 205, 182, 200, 199, 193, 200, 215, 221, 221, 193, 215, 215, 1, 199, 0, 108, 108, 0, 124, 142, 168, 186, 0, 168, 186, 0, 168, 204, 0, 0, 0, 204, 184, 0, 213, 173, 145, 180, 145, 215, 0, 0, 202, 121, 0, 1, 0, 242, 242, 202, 202, 175, 184, 202, 134, 134, 202, 173, 209, 0, 210, 210, 0, 200, 185, 163, 163, 1, 0, 212, 185, 192, 1, 1, 0, 0, 192, 0, 177, 0, 0, 215, 1, 200, 0, 197, 197, 0, 1, 233, 229, 215, 196, 89, 233, 196, 0, 0, 0, 219, 89, 218, 180, 202, 0, 196, 198, 213, 0, 183, 183, 100, 100, 215, 178, 1, 1, 1, 1, 0, 178, 217, 217, 0, 0, 0, 139, 191, 212, 1, 1, 237, 181, 237, 173, 203, 1, 1, 219, 0, 0, 198, 203, 217, 213, 204, 204, 205, 205, 210, 0, 213, 210, 205, 192, 213, 141, 192, 165, 264, 0, 189, 198, 222, 141, 0, 264, 228, 213, 198, 0, 177, 165, 189, 0, 222, 0, 0, 0, 179, 202, 214, 189, 0, 0, 177]\n",
      "Token counts in titles: [8, 18, 5, 5, 20, 16, 8, 17, 10, 0, 0, 6, 0, 0, 4, 9, 13, 5, 6, 10, 4, 9, 0, 9, 0, 12, 9, 0, 0, 8, 16, 0, 0, 14, 0, 0, 8, 8, 0, 13, 11, 16, 7, 6, 12, 5, 13, 5, 0, 7, 6, 10, 7, 8, 14, 8, 10, 1, 7, 8, 14, 0, 0, 0, 11, 9, 0, 14, 12, 0, 4, 0, 0, 14, 0, 8, 13, 5, 0, 12, 10, 6, 0, 7, 14, 0, 0, 10, 0, 10, 7, 0, 4, 0, 5, 18, 0, 0, 0, 13, 14, 10, 0, 0, 0, 0, 9, 0, 0, 0, 14, 10, 0, 0, 6, 1, 10, 0, 8, 0, 7, 0, 0, 10, 0, 0, 18, 0, 0, 6, 0, 0, 0, 4, 1, 9, 7, 1, 0, 6, 12, 0, 10, 0, 7, 10, 0, 2, 5, 14, 9, 0, 0, 16, 11, 12, 16, 11, 13, 9, 6, 0, 9, 0, 16, 0, 0, 4, 17, 9, 8, 5, 0, 10, 0, 5, 16, 10, 7, 0, 12, 8, 10, 12, 10, 0, 0, 4, 5, 12, 7, 0, 12, 7, 11, 0, 13, 5, 0, 3, 0, 0, 0, 8, 0, 7, 0, 8, 13, 5, 7, 8, 13, 0, 0, 6, 0, 0, 12, 0, 9, 0, 5, 13, 16, 13, 10, 10, 12, 7, 0, 0, 0, 10, 0, 0, 7, 0, 12, 0, 0, 0, 13, 0, 0, 8, 0, 0, 0, 12, 0, 1, 4, 10, 0, 12, 0, 9, 0, 5, 0, 0, 9, 0, 16, 3, 0, 9, 13, 13, 6, 12, 8, 5, 7, 0, 10, 0, 12, 8, 4, 0, 3, 11, 10, 0, 5, 8, 0, 12, 0, 0, 7, 0, 11, 2, 1, 0, 5, 6, 4, 0, 11, 4, 0, 0, 10, 0, 14, 0, 0, 13, 0, 10, 12, 16, 0, 0, 14, 7, 6, 18, 8, 6, 0, 1, 0, 8, 6, 0, 6, 5, 10, 13, 10, 7, 12, 12, 7, 6, 4, 9, 3, 7, 12, 0, 10, 0, 11, 12, 4, 9, 7, 0, 2, 0, 5, 9, 0, 14, 5, 4, 9, 5, 9, 4, 13, 9, 4, 0, 5, 7, 9, 9, 7, 7, 7, 7, 9, 9, 7, 9, 9, 9, 4, 9, 9, 5, 9, 14, 13, 7, 5, 9, 0, 9, 0, 17, 16, 16, 4, 16, 16, 16, 16, 5, 8, 12, 5, 6, 8, 6, 6, 11, 10, 4, 8, 8, 8, 6, 15, 10, 7, 6, 9, 7, 7, 12, 8, 9, 14, 9, 13, 6, 5, 8, 9, 8, 5, 10, 15, 8, 11, 11, 9, 4, 3, 7, 7, 8, 8, 7, 8, 3, 5, 7, 13, 6, 9, 5, 9, 6, 7, 10, 8, 6, 8, 7, 7, 11, 17, 11, 7, 10, 10, 8, 10, 8, 8, 7, 9, 6, 10, 6, 11, 15, 17, 10, 8, 9, 9, 17, 6, 12, 10, 6, 10, 8, 10, 4, 10, 9, 8, 9, 10, 8, 5, 4, 9, 6, 8, 7, 5, 12, 11, 9, 5, 5, 18, 8, 8, 13, 10, 5, 8, 7, 9, 21, 9, 3, 9, 6, 10, 7, 11, 5, 11, 14, 5, 21, 9, 6, 7, 6, 10, 7, 8, 10, 8, 21, 11, 11, 6, 9, 6, 7, 8, 8, 9, 10, 8, 8, 4, 8, 8, 7, 10, 13, 8, 17, 10, 8, 7, 13, 10, 9, 11, 15, 4, 10, 7, 8, 6, 6, 7, 4, 7, 9, 9, 10, 10, 9, 8, 9, 9, 8, 8, 9, 3, 11, 7, 3, 5, 11, 18, 5, 3, 8, 9, 5, 7, 5, 8, 7, 9, 8, 8, 13, 13, 8, 10, 6, 10, 10, 8, 5, 7, 8, 17, 4, 7, 7, 7, 7, 7, 6, 8, 13, 13, 13, 8, 5, 9, 10, 4, 9, 7, 7, 6, 7, 5, 5, 8, 4, 5, 9, 11, 11, 14, 6, 8, 8, 8, 14, 15, 11, 6, 0, 0, 0, 0, 16, 14, 0, 0, 0, 9, 0, 0, 11, 5, 10, 7, 0, 8, 0, 0, 8, 8, 0, 8, 14, 0, 9, 10, 0, 0, 4, 8, 0, 4, 4, 0, 0, 7, 0, 13, 18, 0, 0, 10, 7, 0, 10, 12, 0, 11, 0, 7, 3, 14, 4, 0, 0, 4, 3, 10, 8, 0, 0, 9, 0, 9, 13, 10, 0, 0, 8, 0, 0, 9, 0, 11, 14, 12, 9, 6, 0, 0, 0, 9, 7, 12, 12, 0, 8, 12, 0, 10, 0, 0, 10, 4, 9, 8, 0, 0, 0, 8, 0, 9, 0, 3, 11, 7, 0, 9, 0, 10, 0, 0, 9, 8, 16, 0, 9, 16, 0, 0, 1, 0, 0, 5, 8, 16, 11, 12, 12, 8, 0, 8, 12, 16, 9, 0, 1, 6, 9, 0, 6, 10, 5, 1, 0, 14, 0, 6, 0, 0, 11, 0, 0, 6, 14, 9, 0, 11, 0, 0, 0, 0, 0, 0, 10, 10, 0, 0, 0, 13, 0, 10, 0, 10, 8, 0, 0, 12, 4, 0, 16, 0, 6, 9, 9, 14, 12, 0, 9, 5, 0, 14, 0, 0, 14, 0, 4, 9, 13, 4, 3, 14, 8, 0, 4, 8, 12, 8, 0, 0, 18, 0, 0, 0, 6, 8, 8, 6, 8, 12, 7, 0, 0, 1, 0, 6, 0, 0, 8, 0, 0, 6, 10, 8, 4, 14, 0, 11, 0, 4, 11, 8, 18, 9, 0, 0, 0, 0, 0, 0, 12, 14, 0, 11, 6, 6, 13, 0, 0, 13, 0, 7, 8, 0, 14, 0, 0, 0, 0, 0, 11, 10, 0, 0, 8, 16, 13, 6, 6, 10, 10, 10, 0, 0, 0, 0, 10, 0, 0, 12, 9, 0, 0, 0, 0, 0, 0, 6, 0, 15, 0, 0, 15, 15, 9, 0, 9, 0, 11, 0, 0, 15, 0, 15, 0, 0, 15, 0, 0, 10, 7, 10, 10, 10, 10, 10, 0, 10, 12, 5, 0, 0, 10, 9, 12, 10, 0, 10, 0, 4, 0, 0, 0, 4, 10, 0, 0, 6, 1, 1, 11, 0, 0, 0, 13, 7, 0, 10, 0, 0, 0, 0, 5, 18, 9, 0, 12, 5, 12, 0, 0, 4, 0, 6, 14, 0, 6, 11, 10, 0, 8, 5, 1, 1, 9, 5, 8, 13, 0, 0, 11, 0, 0, 6, 6, 0, 0, 9, 1, 8, 0, 0, 12, 8, 0, 10, 2, 14, 14, 0, 11, 0, 0, 5, 0, 8, 13, 6, 8, 9, 0, 8, 0, 0, 8, 8, 0, 0, 1, 6, 0, 1, 8, 8, 12, 0, 0, 10, 8, 0, 13, 6, 15, 0, 12, 8, 0, 13, 0, 0, 14, 10, 0, 12, 0, 0, 10, 0, 0, 6, 0, 14, 15, 0, 0, 0, 12, 12, 15, 0, 13, 12, 11, 1, 10, 7, 0, 10, 0, 3, 9, 0, 7, 0, 6, 0, 12, 11, 0, 15, 13, 8, 0, 10, 6, 0, 0, 0, 10, 1, 13, 4, 0, 0, 0, 0, 11, 10, 14, 9, 0, 0, 12, 0, 0, 0, 13, 3, 9, 0, 0, 10, 0, 12, 0, 10, 14, 10, 3, 0, 7, 12, 11, 6, 0, 7, 12, 1, 2, 10, 7, 1, 13, 11, 10, 0, 7, 7, 0, 0, 9, 0, 12, 13, 0, 6, 7, 0, 10, 0, 11, 0, 0, 7, 12, 11, 0, 0, 8, 7, 7, 0, 1, 0, 0, 0, 11, 10, 0, 10, 14, 7, 0, 0, 13, 0, 7, 11, 0, 9, 13, 0, 0, 12, 4, 9, 0, 3, 0, 9, 0, 11, 8, 0, 0, 7, 13, 13, 8, 0, 0, 0, 0, 15, 0, 6, 7, 0, 13, 0, 0, 0, 11, 0, 13, 11, 0, 13, 14, 14, 10, 0, 0, 6, 10, 8, 0, 7, 8, 0, 12, 0, 6, 10, 0, 0, 12, 12, 10, 0, 0, 13, 5, 0, 0, 0, 11, 10, 8, 10, 0, 5, 0, 0, 13, 0, 6, 0, 9, 0, 0, 0, 4, 7, 10, 0, 0, 13, 10, 13, 13, 0, 0, 0, 8, 7, 0, 13, 0, 9, 4, 8, 0, 0, 0, 8, 0, 0, 0, 1, 0, 0, 13, 8, 11, 0, 0, 7, 11, 0, 0, 1, 18, 0, 7, 6, 0, 3, 0, 10, 0, 0, 0, 10, 12, 9, 3, 1, 1, 11, 0, 13, 13, 0, 0, 0, 0, 1, 0, 0, 0, 0, 5, 6, 0, 10, 1, 5, 0, 1, 0, 0, 4, 14, 13, 0, 0, 0, 6, 4, 0, 9, 9, 17, 8, 0, 0, 0, 8, 0, 11, 10, 0, 11, 4, 10, 0, 4, 0, 10, 6, 8, 9, 0, 9, 17, 1, 0, 7, 7, 0, 9, 0, 0, 7, 8, 0, 17, 0, 0, 7, 0, 7, 5, 9, 0, 0, 7, 17, 8, 11, 12, 0, 9, 6, 6, 0, 0, 0, 0, 6, 11, 0, 0, 0, 4, 1, 15, 0, 10, 8, 11, 12, 0, 0, 7, 0, 8, 0, 0, 1, 17, 7, 8, 10, 0, 11, 9, 0, 0, 7, 0, 1, 0, 0, 8, 0, 0, 0, 8, 0, 0, 0, 5, 11, 1, 13, 7, 10, 0, 0, 0, 7, 8, 0, 0, 0, 4, 10, 0, 8, 0, 12, 4, 6, 13, 11, 15, 7, 0, 10, 7, 11, 0, 0, 11, 12, 8, 0, 0, 17, 8, 0, 7, 0, 0, 12, 12, 0, 5, 6, 10, 0, 1, 0, 5, 11, 0, 0, 0, 0, 0, 11, 9, 0, 13, 7, 6, 0, 4, 12, 0, 0, 5, 5, 8, 0, 10, 0, 4, 0, 0, 0, 9, 12, 0, 12, 0, 7, 8, 9, 11, 12, 0, 0, 8, 9, 8, 5, 11, 0, 1, 0, 0, 5, 10, 0, 10, 9, 0, 1, 0, 5, 7, 0, 0, 7, 0, 9, 0, 4, 9, 10, 4, 7, 13, 0, 13, 4, 0, 0, 5, 0, 9, 10, 18, 8, 0, 0, 0, 0, 8, 3, 1, 0, 0, 0, 0, 13, 10, 0, 4, 0, 10, 8, 9, 10, 5, 0, 13, 0, 0, 0, 0, 12, 5, 10, 0, 0, 9, 10, 0, 10, 0, 5, 0, 10, 0, 5, 8, 1, 13, 18, 0, 0, 0, 9, 0, 7, 5, 6, 5, 7, 7, 8, 0, 9, 0, 11, 6, 6, 12, 10, 3, 0, 0, 0, 0, 0, 17, 7, 10, 5, 0, 4, 13, 12, 9, 8, 12, 8, 0, 10, 0, 0, 4, 0, 0, 10, 4, 0, 0, 0, 5, 11, 1, 0, 3, 3, 9, 4, 0, 12, 15, 10, 6, 3, 12, 9, 0, 12, 0, 11, 10, 11, 15, 15, 10, 15, 0, 15, 15, 9, 3, 0, 12, 3, 4, 12, 15, 12, 3, 11, 9, 11, 12, 12, 4, 10, 11, 4, 11, 6, 4, 0, 4, 4, 4, 14, 14, 14, 10, 10, 10, 4, 4, 4, 4, 4, 10, 14, 4, 14, 10, 4, 10, 14, 4, 0, 4, 11, 5, 14, 11, 8, 9, 6, 8, 6, 9, 9, 7, 13, 6, 14, 9, 7, 12, 10, 4, 7, 8, 12, 13, 13, 7, 6, 17, 9, 14, 7, 4, 6, 4, 8, 12, 5, 7, 12, 13, 9, 7, 12, 14, 7, 9, 14, 12, 11, 14, 8, 6, 9, 4, 12, 5, 7, 8, 13, 12, 16, 13, 14, 6, 7, 14, 6, 10, 15, 8, 10, 8, 17, 6, 7, 12, 6, 12, 7, 13, 3, 13, 11, 7, 2, 10, 11, 7, 15, 7, 0, 17, 12, 9, 12, 13, 8, 7, 7, 7, 13, 7, 10, 8, 6, 2, 8, 9, 13, 10, 11, 14, 18, 15, 8, 14, 6, 8, 5, 9, 6, 5, 7, 9, 10, 14, 11, 7, 8, 9, 6, 9, 13, 6, 8, 5, 0, 13, 11, 14, 10, 7, 14, 6, 6, 5, 11, 9, 13, 10, 7, 4, 7, 12, 9, 10, 6, 11, 7, 6, 8, 6, 8, 13, 8, 8, 11, 6, 12, 10, 9, 14, 4, 12, 13, 7, 9, 6, 18, 9, 14, 7, 4, 12, 12, 12, 7, 10, 10, 7, 6, 7, 16, 12, 11, 4, 7, 10, 4, 7, 5, 7, 16, 7, 14, 6, 9, 13, 5, 16, 6, 9, 5, 12, 6, 11, 6, 7, 9, 8, 14, 10, 10, 10, 10, 6, 12, 8, 6, 5, 10, 12, 9, 10, 7, 12, 15, 13, 7, 11, 6, 10, 7, 2, 10, 17, 7, 11, 9, 14, 10, 12, 9, 10, 4, 5, 5, 17, 7, 12, 7, 4, 3, 9, 7, 6, 7, 13, 7, 2, 4, 10, 12, 9, 10, 9, 13, 13, 6, 8, 3, 13, 9, 8, 10, 2, 10, 4, 8, 6, 9, 6, 7, 9, 8, 10, 5, 12, 8, 5, 14, 15, 8, 15, 7, 6, 6, 12, 11, 3, 8, 11, 6, 12, 15, 10, 8, 8, 4, 6, 13, 6, 7, 7, 7, 7, 6, 7, 15, 12, 5, 7, 7, 8, 9, 11, 3, 6, 16, 13, 10, 3, 4, 6, 11, 2, 9, 5, 10, 4, 6, 11, 14, 8, 7, 13, 7, 13, 12, 5, 12, 12, 6, 12, 13, 8, 7, 11, 6, 6, 16, 9, 13, 8, 4, 13, 14, 8, 16, 7, 12, 8, 6, 4, 10, 4, 9, 6, 0, 14, 8, 7, 13, 11, 9, 6, 10, 8, 3, 7, 0, 10, 17, 8, 7, 7, 13, 14, 14, 12, 5, 12, 5, 10, 18, 9, 8, 5, 8, 6, 7, 9, 5, 7, 5, 14, 20, 9, 9, 10, 14, 10, 13, 12, 0, 3, 10, 14, 7, 9, 5, 8, 1, 9, 4, 9, 14, 16, 7, 16, 15, 9, 2, 0, 7, 12, 6, 0, 8, 10, 6, 10, 8, 4, 5, 9, 3, 0, 10, 7, 11, 6, 7, 9, 7, 13, 13, 7, 12, 13, 5, 14, 6, 8, 5, 9, 13, 16, 7, 8, 18, 18, 1, 7, 14, 16, 11, 5, 6, 13, 20, 9, 6, 10, 14, 7, 10, 9, 11, 16, 9, 16, 9, 12, 14, 10, 4, 0, 10, 6, 3, 12, 9, 12, 5, 5, 9, 7, 7, 0, 13, 12, 8, 18, 7, 7, 5, 5, 12, 10, 9, 6, 12, 9, 14, 0, 8, 8, 15, 0, 0, 9, 5, 0, 6, 9, 6, 4, 6, 10, 12, 12, 20, 9, 14, 0, 16, 5, 7, 14, 0, 0, 12, 2, 9, 7, 7, 13, 20, 7, 3, 16, 14, 18, 6, 9, 9, 11, 8, 9, 18, 10, 11, 6, 8, 8, 5, 9, 11, 7, 7, 10, 4, 7, 6, 9, 8, 8, 14, 7, 7, 16, 7, 7, 8, 9, 11, 7, 14, 8, 5, 9, 15, 14, 8, 18, 6, 12, 6, 15, 8, 10, 8, 7, 12, 16, 14, 15, 0, 8, 12, 5, 8, 9, 7, 8, 12, 9, 9, 8, 8, 16, 9, 9, 7, 7, 8, 1, 4, 13, 10, 8, 7, 14, 17, 9, 20, 0, 15, 7, 7, 9, 8, 5, 5, 11, 11, 9, 11, 6, 8, 16, 1, 8, 5, 8, 7, 4, 7, 10, 10, 13, 5, 9, 14, 16, 0, 0, 8, 5, 14, 11, 7, 13, 5, 9, 10, 7, 12, 0, 8, 12, 13, 0, 7, 0, 9, 10, 0, 9, 14, 18, 9, 8, 7, 10, 7, 15, 5, 20, 10, 10, 12, 4, 10, 10, 14, 3, 8, 7, 12, 7, 13, 12, 14, 8, 7, 12, 9, 0, 4, 16, 20, 15, 0, 15, 8, 15, 11, 11, 0, 8, 11, 11, 14, 8, 7, 0, 0, 11, 14, 7, 11, 6, 11, 0, 11, 6, 11, 6, 3, 14, 14, 14, 6, 7, 11, 9, 14, 8, 11, 9, 9, 9, 14, 11, 7, 9, 9, 11, 7, 14, 14, 14, 11, 14, 8, 14, 7, 8, 0, 3, 7, 7, 14, 14, 7, 7, 7, 14, 7, 7, 7, 7, 7, 7, 14, 14, 7, 14, 0, 9, 10, 7, 12, 7, 6, 10, 9, 9, 6, 9, 8, 9, 20, 5, 14, 8, 4, 5, 18, 0, 9, 5, 5, 8, 11, 6, 7, 3, 4, 7, 6, 9, 6, 7, 11, 12, 4, 6, 6, 9, 11, 14, 5, 3, 6, 0, 4, 12, 12, 4, 9, 18, 9, 10, 14, 10, 15, 11, 15, 5, 4, 11, 13, 4, 6, 3, 0, 7, 12, 16, 11, 4, 11, 9, 7, 9, 9, 11, 3, 13, 7, 7, 7, 10, 4, 0, 12, 12, 14, 4, 5, 7, 6, 4, 0, 4, 14, 8, 9, 8, 9, 8, 11, 8, 5, 8, 11, 5, 3, 5, 19, 15, 7, 4, 9, 6, 7, 11, 5, 0, 8, 5, 5, 9, 7, 3, 5, 13, 15, 10, 6, 6, 6, 7, 3, 8, 10, 10, 7, 10, 7, 7, 7, 8, 11, 6, 8, 9, 12, 4, 8, 6, 11, 0, 10, 8, 5, 6, 6, 9, 7, 10, 7, 8, 12, 5, 12, 6, 15, 11, 8, 13, 6, 11, 4, 10, 9, 10, 7, 9, 10, 9, 11, 5, 0, 9, 10, 11, 4, 3, 9, 7, 10, 7, 7, 12, 9, 12, 5, 4, 5, 9, 11, 8, 12, 7, 4, 9, 7, 12, 5, 12, 7, 4, 7, 6, 16, 4, 12, 12, 4, 10, 4, 7, 8, 14, 11, 5, 0, 7, 8, 8, 11, 8, 10, 9, 7, 14, 7, 9, 14, 6, 9, 12, 12, 8, 8, 0, 7, 3, 11, 7, 4, 7, 7, 8, 7, 13, 9, 9, 16, 7, 3, 16, 11, 14, 0, 6, 11, 11, 8, 4, 11, 9, 9, 12, 5, 8, 3, 9, 7, 3, 2, 4, 12, 8, 11, 9, 9, 7, 5, 9, 6, 11, 15, 4, 5, 14, 5, 6, 14, 6, 4, 20, 14, 8, 12, 5, 7, 7, 9, 10, 9, 11, 4, 7, 9, 11, 13, 6, 5, 0, 6, 11, 12, 2, 8, 6, 8, 19, 15, 16, 10, 7, 5, 8, 4, 6, 7, 14, 9, 5, 7, 11, 11, 8, 12, 6, 6, 10, 7, 14, 6, 10, 8, 18, 5, 7, 4, 0, 16, 8, 7, 10, 9, 4, 0, 6, 8, 10, 12, 0, 9, 6, 4, 9, 0, 0, 0, 0, 0, 10, 11, 8, 0, 0, 0, 0, 13, 10, 6, 8, 11, 0, 8, 13, 11, 14, 8, 7, 0, 9, 0, 7, 0, 10, 12, 0, 7, 0, 18, 1, 7, 8, 12, 5, 0, 10, 10, 0, 0, 5, 0, 0, 0, 12, 1, 0, 8, 9, 9, 0, 11, 0, 0, 11, 11, 11, 0, 1, 0, 0, 0, 0, 0, 8, 0, 7, 5, 10, 0, 3, 0, 12, 0, 7, 2, 0, 4, 0, 10, 10, 0, 0, 15, 0, 0, 8, 0, 0, 0, 12, 2, 13, 4, 7, 14, 5, 4, 0, 9, 11, 10, 0, 0, 0, 1, 12, 6, 12, 8, 14, 8, 8, 7, 0, 9, 4, 5, 8, 11, 0, 5, 0, 10, 0, 5, 12, 0, 0, 0, 18, 0, 11, 0, 0, 10, 0, 9, 10, 0, 11, 0, 14, 0, 0, 0, 8, 0, 10, 8, 0, 12, 0, 0, 0, 13, 7, 5, 6, 0, 12, 9, 0, 10, 0, 0, 0, 0, 4, 9, 0, 0, 0, 5, 3, 0, 7, 1, 11, 0, 12, 6, 0, 0, 0, 0, 4, 16, 5, 11, 1, 0, 9, 7, 0, 0, 0, 11, 0, 8, 0, 9, 0, 0, 0, 1, 0, 0, 0, 6, 11, 0, 0, 0, 0, 0, 1, 2, 12, 0, 10, 4, 0, 4, 0, 14, 0, 0, 0, 5, 6, 0, 8, 7, 10, 0, 11, 4, 0, 0, 11, 13, 8, 16, 0, 9, 5, 0, 1, 10, 8, 5, 9, 5, 0, 5, 16, 12, 10, 0, 0, 7, 9, 0, 0, 0, 2, 9, 0, 1, 0, 0, 9, 10, 11, 11, 5, 0, 0, 9, 8, 0, 6, 9, 0, 7, 6, 8, 11, 0, 0, 4, 6, 14, 8, 14, 11, 10, 0, 13, 0, 0, 11, 1, 11, 4, 1, 1, 0, 7, 0, 5, 12, 8, 14, 11, 0, 0, 5, 15, 0, 0, 7, 10, 1, 9, 0, 0, 10, 0, 4, 0, 13, 0, 11, 0, 0, 7, 0, 6, 0, 7, 4, 5, 11, 0, 0, 13, 7, 0, 8, 9, 0, 12, 0, 9, 0, 0, 10, 14, 11, 3, 10, 3, 10, 10, 11, 23, 14, 9, 9, 3, 10, 3, 5, 4, 10, 10, 9, 14, 10, 4, 14, 3, 9, 4, 10, 11, 10, 9, 5, 3, 10, 9, 3, 14, 4, 10, 11, 3, 14, 3, 3, 3, 3, 3, 8, 8, 13, 3, 3, 8, 0, 8, 13, 0, 6, 8, 5, 10, 0, 8, 0, 10, 0, 0, 6, 6, 5, 0, 0, 9, 4, 0, 13, 0, 8, 10, 0, 2, 10, 0, 14, 0, 13, 8, 0, 0, 0, 0, 0, 0, 13, 0, 13, 0, 9, 10, 0, 5, 8, 8, 9, 10, 0, 12, 11, 0, 6, 8, 7, 4, 0, 0, 16, 0, 18, 0, 0, 0, 0, 0, 0, 16, 0, 4, 7, 0, 14, 7, 0, 8, 10, 8, 7, 9, 7, 19, 9, 6, 5, 0, 16, 0, 19, 0, 0, 8, 0, 5, 7, 7, 1, 14, 0, 0, 13, 7, 12, 0, 14, 10, 0, 13, 0, 6, 0, 5, 3, 0, 0, 9, 10, 8, 13, 8, 0, 0, 0, 0, 8, 0, 0, 9, 0, 8, 8, 7, 5, 9, 0, 13, 0, 0, 0, 5, 5, 6, 9, 0, 7, 0, 0, 9, 8, 3, 2, 4, 0, 0, 14, 0, 0, 0, 0, 0, 6, 8, 12, 15, 8, 0, 0, 0, 0, 0, 7, 6, 0, 15, 9, 8, 6, 8, 8, 7, 8, 9, 9, 9, 0, 6, 0, 6, 0, 8, 0, 12, 7, 16, 9, 0, 0, 13, 12, 9, 12, 0, 7, 5, 6, 8, 10, 6, 9, 0, 7, 12, 5, 10, 10, 0, 0, 6, 0, 0, 0, 10, 18, 7, 0, 0, 5, 8, 14, 10, 10, 7, 5, 0, 6, 0, 5, 0, 0, 6, 6, 0, 6, 0, 6, 14, 8, 0, 0, 8, 0, 12, 1, 0, 0, 14, 0, 9, 0, 0, 10, 3, 6, 0, 0, 10, 8, 5, 8, 12, 4, 0, 0, 5, 0, 6, 0, 0, 0, 9, 0, 7, 8, 0, 0, 0, 10, 13, 0, 7, 3, 0, 0, 8, 9, 12, 0, 5, 5, 10, 9, 10, 12, 9, 0, 13, 9, 12, 4, 8, 9, 0, 0, 11, 8, 4, 4, 8, 15, 4, 9, 7, 1, 0, 9, 8, 9, 7, 8, 11, 9, 2, 8, 10, 13, 3, 0, 0, 13, 7, 17, 0, 11, 5, 7, 0, 14, 4, 7, 3, 10, 0, 2, 6, 13, 8, 10, 12, 20, 20, 7, 12, 10, 0, 10, 8, 8, 0, 11, 6, 5, 6, 11, 11, 10, 12, 8, 5, 6, 9, 13, 7, 0, 8, 5, 14, 4, 6, 5, 0, 9, 6, 0, 0, 8, 14, 3, 7, 6, 13, 12, 0, 6, 8, 12, 17, 4, 8, 0, 8, 3, 8, 3, 6, 0, 6, 12, 9, 13, 0, 0, 4, 14, 7, 8, 7, 6, 8, 10, 8, 9, 8, 0, 8, 8, 7, 7, 10, 7, 10, 8, 10, 8, 7, 9, 7, 0, 3, 9, 9, 12, 10, 8, 4, 12, 5, 6, 7, 4, 10, 6, 8, 7, 3, 12, 0, 12, 18, 3, 9, 6, 6, 8, 12, 9, 7, 14, 8, 7, 8, 6, 6, 5, 14, 7, 11, 9, 8, 10, 9, 6, 6, 8, 12, 0, 13, 10, 4, 13, 8, 8, 6, 7, 0, 12, 0, 5, 1, 7, 8, 6, 3, 3, 4, 6, 13, 5, 0, 8, 5, 7, 9, 12, 7, 13, 13, 0, 5, 13, 0, 13, 0, 12, 3, 5, 7, 8, 8, 12, 8, 17, 5, 12, 12, 5, 18, 10, 8, 0, 6, 8, 8, 9, 0, 6, 9, 0, 9, 0, 0, 6, 8, 12, 1, 10, 6, 14, 7, 14, 10, 20, 10, 4, 9, 11, 8, 9, 9, 0, 5, 10, 0, 8, 0, 8, 8, 8, 0, 7, 3, 8, 10, 1, 6, 9, 13, 5, 0, 5, 6, 8, 13, 0, 0, 20, 16, 20, 8, 8, 6, 16, 11, 9, 20, 20, 20, 20, 16, 2, 2, 9, 11, 16, 9, 9, 9, 6, 9, 7, 0, 0, 0, 0, 10, 10, 11, 0, 8, 0, 14, 2, 0, 5, 10, 0, 5, 12, 6, 12, 13, 0, 12, 0, 0, 15, 0, 0, 15, 11, 8, 11, 0, 0, 6, 0, 0, 0, 5, 0, 0, 6, 0, 0, 0, 9, 15, 0, 3, 0, 10, 1, 0, 15, 5, 0, 0, 15, 0, 10, 0, 0, 0, 1, 0, 1, 0, 0, 0, 0, 0, 0, 0, 11, 1, 0, 5, 3, 0, 13, 11, 13, 10, 0, 13, 13, 0, 0, 13, 0, 0, 0, 8, 0, 18, 0, 0, 0, 8, 0, 0, 7, 0, 15, 15, 12, 13, 13, 0, 13, 20, 0, 0, 1, 9, 7, 0, 10, 0, 7, 0, 0, 0, 11, 0, 16, 0, 0, 0, 13, 6, 0, 12, 6, 12, 12, 0, 5, 0, 0, 10, 8, 0, 0, 0, 0, 8, 12, 0, 0, 0, 18, 0, 0, 0, 20, 6, 10, 0, 5, 10, 0, 13, 1, 0, 0, 9, 0, 0, 0, 0, 1, 14, 0, 0, 3, 0, 10, 12, 0, 0, 5, 0, 3, 5, 5, 7, 0, 0, 1, 0, 10, 10, 11, 0, 12, 9, 10, 0, 3, 0, 0, 0, 0, 10, 5, 0, 16, 0, 13, 0, 0, 0, 0, 0, 0, 0, 0, 10, 0, 17, 0, 0, 0, 0, 0, 0, 0, 11, 0, 9, 0, 5, 0, 5, 15, 10, 0, 0, 10, 0, 0, 0, 15, 1, 8, 16, 0, 0, 0, 0, 0, 8, 0, 0, 0, 0, 2, 0, 0, 0, 0, 8, 10, 0, 7, 5, 11, 0, 8, 0, 0, 0, 1, 0, 6, 0, 8, 18, 10, 0, 0, 13, 7, 0, 10, 5, 0, 13, 10, 8, 0, 0, 11, 1, 0, 0, 1, 1, 0, 5, 1, 0, 0, 15, 7, 0, 0, 1, 0, 10, 0, 0, 11, 9, 11, 0, 0, 0, 6, 10, 5, 13, 0, 0, 10, 7, 0, 6, 0, 0, 1, 8, 3, 0, 10, 0, 0, 10, 0, 17, 0, 10, 0, 11, 8, 0, 10, 1, 11, 0, 0, 3, 0, 9, 0, 0, 0, 0, 5, 7, 0, 0, 0, 0, 0, 0, 0, 1, 0, 0, 0, 0, 0, 0, 5, 11, 8, 0, 12, 0, 0, 3, 8, 0, 14, 0, 0, 0, 11, 8, 1, 5, 0, 10, 0, 0, 6, 14, 11, 8, 14, 5, 7, 0, 14, 0, 2, 8, 0, 0, 11, 2, 10, 15, 7, 6, 0, 5, 9, 6, 0, 9, 18, 8, 15, 18, 11, 0, 16, 0, 0, 9, 0, 14, 0, 13, 4, 15, 0, 9, 17, 7, 4, 0, 0, 10, 15, 12, 0, 0, 0, 15, 0, 0, 0, 0, 1, 5, 10, 7, 13, 4, 7, 9, 4, 10, 4, 1, 9, 14, 3, 0, 4, 0, 0, 10, 8, 0, 14, 0, 0, 0, 9, 0, 0, 11, 0, 14, 7, 11, 1, 8, 11, 0, 0, 11, 0, 0, 0, 0, 0, 8, 2, 2, 10, 0, 0, 12, 17, 4, 0, 7, 0, 0, 0, 9, 13, 8, 0, 9, 7, 14, 0, 18, 8, 6, 0, 0, 0, 9, 7, 0, 8, 0, 0, 10, 0, 14, 0, 14, 7, 0, 14, 9, 8, 0, 0, 4, 7, 0, 6, 0, 3, 7, 0, 9, 0, 14, 0, 0, 14, 9, 1, 3, 13, 0, 6, 9, 0, 13, 0, 8, 9, 11, 0, 0, 0, 0, 15, 0, 0, 10, 16, 14, 0, 0, 4, 0, 0, 0, 9, 1, 0, 0, 0, 11, 9, 9, 0, 0, 12, 9, 0, 8, 0, 0, 9, 8, 9, 6, 2, 10, 0, 11, 11, 4, 0, 14, 0, 0, 0, 11, 0, 4, 9, 0, 0, 8, 2, 1, 0, 7, 9, 4, 0, 7, 7, 9, 11, 8, 12, 0, 13, 10, 14, 0, 0, 0, 7, 9, 0, 11, 0, 0, 0, 17, 8, 7, 0, 0, 0, 0, 7, 7, 10, 0, 0, 0, 8, 0, 8, 0, 9, 0, 1, 0, 10, 11, 13, 9, 1, 0, 8, 11, 9, 0, 12, 17, 9, 9, 0, 0, 11, 0, 0, 8, 8, 8, 0, 7, 3, 7, 9, 0, 7, 5, 7, 8, 9, 8, 0, 0, 7, 0, 1, 0, 0, 17, 7, 8, 10, 0, 5, 5, 14, 7, 0, 0, 6, 5, 0, 8, 16, 0, 11, 16, 6, 7, 0, 0, 11, 16, 11, 9, 0, 3, 6, 0, 5, 5, 11, 5, 16, 0, 5, 6, 6, 6, 6, 6, 7, 5, 9, 16, 16, 0, 0, 5, 0, 6, 5, 6, 6, 0, 6, 6, 6, 6, 3, 5, 5, 12, 5, 12, 12, 5, 5, 12, 12, 12, 5, 0, 0, 0, 0, 5, 0, 0, 1, 4, 0, 0, 0, 5, 7, 0, 0, 11, 15, 0, 0, 4, 0, 14, 14, 15, 2, 6, 1, 0, 6, 0, 8, 9, 0, 0, 0, 0, 1, 0, 10, 15, 2, 1, 11, 0, 7, 0, 3, 9, 0, 0, 0, 8, 6, 6, 3, 12, 0, 12, 9, 0, 7, 10, 6, 7, 12, 0, 0, 10, 12, 0, 10, 0, 0, 7, 4, 9, 9, 4, 0, 8, 2, 0, 9, 7, 11, 12, 0, 0, 10, 0, 7, 0, 18, 12, 0, 13, 11, 0, 0, 0, 0, 11, 9, 0, 0, 3, 0, 0, 14, 1, 0, 0, 5, 4, 0, 5, 12, 9, 0, 10, 0, 7, 13, 0, 0, 0, 10, 7, 8, 17, 12, 7, 0, 0, 0, 9, 0, 0, 0, 5, 0, 0, 9, 0, 0, 8, 12, 6, 0, 3, 0, 0, 0, 6, 12, 7, 0, 9, 6, 11, 0, 0, 5, 10, 0, 7, 0, 0, 0, 0, 0, 9, 0, 16, 16, 11, 12, 15, 7, 7, 10, 0, 19, 0, 0, 0, 0, 0, 9, 6, 0, 0, 0, 14, 15, 0, 0, 0, 12, 9, 0, 0, 0, 8, 5, 0, 0, 0, 13, 13, 18, 0, 0, 0, 6, 0, 0, 10, 7, 0, 7, 0, 0, 12, 12, 0, 0, 14, 12, 0, 0, 9, 0, 0, 2, 0, 0, 0, 0, 0, 0, 0, 1, 0, 0, 7, 14, 7, 13, 0, 0, 5, 5, 0, 0, 12, 0, 4, 0, 4, 11, 0, 0, 0, 0, 0, 0, 6, 13, 10, 8, 0, 6, 0, 10, 0, 9, 0, 0, 5, 9, 0, 0, 0, 0, 12, 2, 9, 0, 0, 0, 12, 6, 8, 5, 0, 9, 0, 0, 0, 5, 14, 0, 13, 10, 0, 0, 0, 0, 13, 8, 15, 0, 6, 0, 0, 14, 0, 5, 14, 9, 13, 9, 15, 13, 0, 18, 13, 7, 0, 0, 10, 0, 13, 15, 0, 10, 0, 4, 11, 6, 8, 0, 4, 0, 0, 0, 0, 0, 0, 8, 0, 0, 8, 0, 6, 5, 4, 0, 9, 15, 0, 0, 13, 2, 0, 12, 9, 8, 19, 0, 0, 0, 0, 17, 0, 0, 0, 0, 0, 0, 0, 10, 0, 0, 0, 0, 0, 0, 0, 0, 5, 0, 0, 5, 15, 5, 11, 0, 13, 11, 8, 1, 5, 0, 11, 6, 10, 0, 0, 0, 0, 0, 0, 7, 10, 15, 0, 11, 0, 0, 7, 2, 2, 9, 8, 0, 0, 11, 0, 8, 4, 11, 0, 0, 12, 12, 0, 5, 0, 7, 8, 0, 9, 9, 9, 0, 0, 0, 12, 11, 16, 0, 0, 12, 0, 8, 8, 0, 12, 0, 0, 10, 0, 2, 0, 0, 0, 0, 6, 0, 0, 10, 0, 10, 9, 8, 0, 7, 0, 0, 13, 9, 10, 9, 0, 0, 5, 0, 9, 0, 0, 8, 9, 0, 0, 6, 0, 0, 0, 0, 3, 12, 0, 9, 0, 7, 0, 10, 0, 0, 13, 3, 0, 0, 3, 9, 9, 0, 0, 12, 0, 0, 0, 7, 8, 0, 8, 5, 6, 12, 9, 0, 10, 0, 0, 0, 6, 5, 0, 8, 0, 0, 0, 0, 15, 7, 0, 15, 7, 0, 0, 10, 0, 0, 15, 12, 8, 0, 3, 1, 0, 6, 0, 0, 9, 0, 9, 7, 0, 7, 0, 0, 0, 15, 0, 0, 0, 9, 3, 0, 0, 0, 6, 9, 0, 3, 16, 7, 9, 0, 0, 9, 12, 6, 0, 0, 0, 1, 7, 0, 0, 12, 7, 0, 12, 0, 0, 0, 0, 7, 2, 0, 0, 10, 7, 6, 0, 20, 0, 9, 4, 0, 0, 6, 0, 0, 0, 12, 0, 1, 10, 0, 1, 8, 9, 3, 10, 15, 20, 0, 0, 14, 7, 0, 8, 0, 3, 0, 0, 0, 13, 7, 0, 0, 7, 9, 3, 0, 0, 0, 15, 10, 0, 0, 0, 0, 12, 8, 10, 0, 0, 12, 7, 0, 8, 0, 9, 7, 11, 0, 13, 0, 11, 0, 0, 0, 12, 6, 0, 11, 10, 0, 0, 0, 14, 0, 0, 9, 0, 15, 7, 0, 12, 0, 0, 15, 0, 0, 0, 12, 12, 0, 8, 12, 0, 15, 0, 6, 0, 13, 13, 6, 7, 0, 8, 0, 0, 11, 6, 0, 0, 11, 0, 12, 7, 0, 5, 15, 5, 15, 8, 0, 0, 0, 0, 15, 0, 3, 0, 9, 0, 10, 0, 0, 15, 0, 8, 9, 8, 0, 0, 8, 7, 11, 0, 6, 0, 0, 7, 12, 11, 20, 6, 0, 10, 0, 0, 0, 3, 0, 0, 0, 0, 0, 0, 0, 9, 0, 13, 0, 6, 6, 6, 6, 0, 0, 12, 0, 12, 0, 0, 8, 0, 0, 0, 0, 0, 0, 12, 0, 0, 12, 12, 13, 13, 13, 13, 13, 0, 12, 8, 4, 14, 6, 0, 0, 8, 8, 9, 9, 9, 9, 6, 0, 14, 8, 20, 20, 7, 20, 20, 20, 20, 0, 7, 0, 0, 7, 11, 0, 4, 0, 0, 8, 0, 0, 6, 8, 1, 14, 10, 0, 0, 0, 0, 0, 3, 0, 10, 0, 0, 11, 0, 7, 0, 7, 7, 0, 11, 5, 0, 0, 0, 7, 14, 11, 0, 0, 0, 7, 12, 0, 8, 0, 9, 11, 9, 3, 0, 7, 7, 13, 5, 4, 8, 8, 0, 10, 6, 8, 0, 6, 13, 12, 0, 6, 3, 0, 13, 5, 9, 0, 8, 13, 0, 0, 13, 0, 0, 0, 12, 0, 11, 9, 4, 10, 6, 10, 0, 14, 0, 10, 0, 0, 7, 0, 0, 0, 0, 0, 10, 7, 0, 0, 0, 0, 0, 0, 7, 0, 8, 2, 6, 2, 0, 13, 8, 8, 0, 17, 0, 9, 0, 0, 12, 7, 11, 0, 0, 8, 17, 9, 0, 0, 0, 7, 0, 9, 3, 0, 10, 11, 0, 6, 0, 0, 5, 0, 14, 9, 8, 0, 9, 8, 3, 5, 13, 0, 0, 0, 0, 0, 7, 0, 11, 11, 0, 11, 0, 8, 10, 14, 0, 0, 0, 8, 8, 7, 3, 0, 0, 0, 4, 7, 9, 14, 0, 0, 0, 12, 11, 0, 7, 12, 0, 0, 11, 0, 6, 0, 6, 0, 2, 8, 0, 11, 0, 0, 6, 7, 17, 0, 0, 0, 0, 0, 0, 0, 0, 8, 8, 8, 0, 0, 0, 0, 9, 10, 0, 4, 0, 0, 8, 0, 8, 6, 7, 0, 8, 9, 0, 8, 0, 6, 13, 0, 0, 0, 7, 7, 6, 0, 14, 0, 0, 11, 4, 0, 0, 0, 0, 0, 0, 0, 5, 12, 0, 0, 7, 7, 1, 9, 10, 10, 0, 0, 8, 0, 13, 0, 0, 0, 3, 0, 14, 1, 0, 8, 0, 3, 9, 0, 1, 9, 0, 0, 0, 0, 3, 0, 0, 0, 0, 8, 0, 0, 0, 6, 0, 11, 0, 0, 3, 0, 0, 6, 9, 12, 9, 10, 13, 13, 7, 7, 0, 0, 0, 0, 1, 6, 16, 5, 0, 10, 5, 0, 0, 8, 8, 0, 2, 10, 0, 16, 0, 10, 0, 1, 10, 0, 6, 0, 0, 0, 13, 0, 0, 0, 13, 7, 0, 6, 8, 0, 0, 13, 5, 0, 7, 0, 6, 13, 6, 15, 0, 12, 0, 0, 0, 8, 9, 9, 9, 6, 9, 5, 9, 0, 0, 12, 0, 9, 0, 1, 5, 0, 0, 7, 0, 0, 17, 9, 0, 4, 14, 13, 0, 0, 13, 0, 10, 0, 0, 14, 0, 0, 23, 0, 0, 9, 6, 5, 12, 14, 0, 0, 0, 9, 0, 0, 0, 11, 23, 9, 0, 1, 6, 6, 0, 0, 9, 0, 0, 8, 1, 0, 6, 0, 0, 0, 19, 0, 12, 0, 0, 17, 11, 14, 11, 4, 0, 9, 11, 10, 10, 9, 5, 6, 9, 0, 0, 0, 9, 12, 3, 13, 0, 9, 11, 9, 0, 0, 0, 0, 4, 0, 0, 9, 0, 8, 15, 12, 3, 4, 4, 0, 9, 17, 13, 0, 0, 10, 0, 0, 0, 12, 13, 9, 0, 9, 6, 0, 5, 0, 9, 11, 0, 9, 5, 12, 16, 12, 8, 0, 0, 11, 6, 0, 6, 0, 9, 14, 9, 4, 14, 0, 10, 1, 0, 12, 0, 0, 7, 0, 14, 0, 11, 9, 9, 0, 0, 12, 0, 14, 0, 0, 0, 16, 4, 0, 6, 4, 11, 0, 2, 14, 8, 5, 0, 6, 13, 8, 0, 0, 5, 11, 6, 0, 11, 11, 0, 1, 0, 11, 0, 0, 11, 12, 0, 16, 0, 0, 10, 0, 13, 0, 0, 14, 8, 0, 12, 0, 1, 11, 12, 13, 9, 4, 0, 2, 15, 7, 0, 12, 4, 0, 13, 13, 6, 13, 0, 9, 0, 5, 6, 15, 12, 9, 9, 0, 0, 12, 0, 9, 0, 8, 0, 5, 8, 14, 0, 0, 0, 9, 12, 12, 0, 10, 0, 6, 14, 0, 7, 12, 12, 8, 0, 1, 0, 6, 0, 0, 0, 5, 3, 0, 15, 10, 10, 2, 15, 6, 0, 4, 8, 11, 9, 0, 0, 0, 13, 0, 12, 9, 6, 0, 6, 0, 0, 0, 23, 0, 19, 12, 4, 0, 14, 6, 12, 7, 13, 3, 0, 10, 0, 4, 0, 11, 12, 0, 0, 8, 8, 1, 0, 0, 0, 0, 0, 0, 13, 0, 6, 0, 7, 0, 0, 4, 0, 0, 11, 0, 0, 4, 6, 12, 15, 0, 6, 14, 0, 0, 9, 0, 14, 0, 0, 10, 4, 0, 13, 0, 15, 0, 8, 16, 0, 8, 0, 2, 15, 10, 4, 0, 0, 0, 11, 8, 10, 0, 10, 8, 12, 0, 10, 8, 0, 10, 6, 1, 0, 0, 7, 0, 0, 14, 8, 9, 9, 4, 0, 0, 8, 10, 12, 0, 16, 4, 0, 0, 15, 9, 9, 8, 7, 0, 0, 8, 8, 5, 5, 6, 8, 8, 8, 8, 8, 5, 8, 8, 8, 8, 8, 10, 7, 11, 0, 12, 0, 8, 13, 0, 8, 6, 11, 6, 9, 0, 0, 3, 0, 6, 0, 0, 0, 0, 0, 9, 0, 0, 6, 0, 0, 0, 0, 9, 0, 0, 0, 15, 1, 8, 0, 0, 0, 0, 6, 11, 0, 15, 0, 0, 0, 0, 0, 0, 0, 0, 0, 0, 0, 6, 0, 0, 12, 0, 0, 0, 0, 10, 0, 8, 0, 0, 0, 0, 0, 8, 9, 7, 0, 5, 12, 12, 0, 11, 0, 0, 3, 0, 0, 8, 5, 0, 3, 0, 3, 0, 0, 3, 0, 0, 12, 1, 7, 6, 5, 3, 0, 0, 8, 12, 0, 0, 13, 8, 14, 0, 0, 0, 8, 0, 0, 0, 0, 0, 7, 0, 14, 16, 6, 9, 0, 0, 0, 0, 0, 12, 6, 0, 0, 9, 0, 16, 11, 0, 9, 8, 0, 11, 0, 0, 0, 0, 0, 0, 0, 0, 4, 7, 11, 12, 0, 14, 0, 0, 0, 1, 12, 6, 4, 0, 0, 7, 4, 0, 0, 0, 0, 0, 12, 0, 0, 8, 0, 9, 0, 11, 0, 7, 7, 9, 2, 7, 7, 7, 0, 1, 0, 0, 8, 0, 15, 0, 0, 0, 0, 0, 0, 0, 9, 9, 8, 10, 0, 0, 0, 7, 7, 0, 0, 0, 10, 0, 10, 11, 9, 0, 8, 11, 0, 0, 8, 3, 0, 0, 7, 0, 8, 0, 0, 7, 8, 0, 0, 1, 7, 0, 16, 0, 1, 0, 0, 0, 15, 9, 0, 0, 12, 0, 0, 0, 0, 15, 7, 4, 0, 0, 0, 0, 6, 0, 0, 0, 6, 6, 0, 0, 7, 0, 6, 0, 0, 15, 4, 0, 0, 6, 0, 9, 0, 0, 9, 8, 12, 0, 7, 1, 0, 9, 10, 0, 0, 0, 7, 1, 0, 0, 0, 0, 4, 0, 0, 5, 0, 0, 16, 0, 8, 0, 0, 7, 0, 16, 7, 0, 1, 8, 11, 7, 1, 0, 0, 12, 11, 0, 6, 7, 0, 0, 0, 8, 6, 14, 0, 0, 2, 8, 0, 0, 1, 0, 10, 6, 0, 3, 11, 14, 5, 6, 14, 11, 5, 9, 0, 7, 0, 11, 11, 8, 7, 7, 4, 0, 10, 4, 0, 0, 0, 1, 0, 8, 6, 6, 0, 12, 0, 0, 0, 0, 0, 0, 18, 18, 0, 4, 0, 0, 0, 0, 0, 18, 18, 13, 0, 3, 0, 0, 15, 4, 7, 4, 0, 17, 13, 0, 18, 4, 0, 9, 0, 4, 1, 0, 1, 0, 0, 0, 0, 7, 15, 7, 12, 8, 0, 7, 12, 0, 12, 9, 12, 9, 0, 9, 0, 4, 13, 12, 0, 15, 0, 17, 0, 0, 0, 13, 0, 0, 3, 0, 0, 0, 12, 0, 1, 0, 1, 0, 0, 9, 15, 3, 12, 13, 12, 4, 15, 17, 12, 12, 12, 9, 12, 3, 3, 4, 15, 4, 12, 13, 13, 12, 17, 0, 3, 9, 13, 0, 0, 6, 0, 9, 0, 14, 0, 0, 0, 0, 17, 0, 6, 9, 0, 11, 0, 13, 0, 11, 14, 9, 8, 14, 9, 0, 12, 0, 14, 0, 0, 0, 0, 14, 0, 0, 5, 0, 0, 7, 11, 0, 17, 6, 0, 0, 0, 0, 0, 0, 6, 0, 7, 0, 0, 9, 2, 0, 14, 13, 0, 6, 7, 0, 0, 0, 0, 0, 0, 12, 0, 11, 0, 7, 14, 0, 10, 4, 9, 6, 8, 0, 0, 0, 8, 12, 0, 0, 8, 13, 0, 7, 11, 10, 1, 11, 0, 6, 8, 0, 10, 0, 13, 8, 0, 9, 4, 10, 0, 0, 0, 11, 8, 6, 6, 8, 0, 9, 0, 6, 12, 11, 10, 0, 9, 11, 11, 7, 0, 9, 0, 0, 0, 0, 3, 0, 9, 0, 10, 10, 0, 0, 1, 1, 0, 8, 7, 0, 0, 0, 10, 9, 0, 0, 0, 8, 13, 6, 4, 12, 0, 0, 12, 7, 0, 0, 0, 0, 3, 0, 6, 0, 8, 13, 9, 0, 8, 4, 9, 0, 14, 6, 13, 0, 1, 5, 0, 0, 0, 4, 10, 0, 13, 0, 0, 0, 0, 11, 13, 0, 1, 8, 9, 13, 0, 9, 0, 9, 0, 0, 7, 9, 0, 10, 0, 10, 0, 9, 13, 17, 12, 1, 0, 0, 0, 7, 7, 9, 9, 9, 9, 0, 0, 14, 0, 0, 0, 6, 0, 13, 0, 0, 11, 0, 0, 8, 8, 6, 0, 6, 2, 0, 0, 0, 6, 2, 8, 0, 0, 5, 5, 0, 2, 7, 13, 0, 7, 0, 0, 15, 12, 13, 9, 0, 9, 0, 13, 0, 11, 1, 10, 7, 0, 5, 0, 0, 7, 0, 8, 0, 8, 4, 0, 0, 1, 12, 4, 7, 15, 4, 0, 9, 8, 9, 14, 0, 0, 0, 1, 8, 8, 5, 0, 9, 8, 17, 0, 12, 7, 8, 0, 15, 14, 4, 9, 13, 0, 9, 0, 0, 0, 13, 13, 0, 10, 11, 0, 0, 6, 0, 7, 0, 0, 0, 16, 13, 0, 8, 0, 9, 0, 0, 0, 0, 9, 0, 0, 8, 0, 0, 0, 0, 0, 10, 9, 9, 11, 0, 0, 0, 0, 0, 6, 0, 7, 11, 9, 0, 7, 9, 11, 11, 13, 0, 11, 8, 0, 0, 4, 7, 0, 9, 0, 7, 9, 0, 9, 7, 0, 13, 1, 9, 0, 8, 14, 0, 10, 13, 9, 0, 7, 13, 10, 0, 11, 3, 0, 0, 12, 0, 7, 0, 11, 7, 7, 6, 0, 0, 11, 12, 6, 13, 16, 6, 13, 9, 5, 9, 0, 7, 13, 11, 9, 10, 0, 0, 8, 0, 0, 3, 8, 6, 13, 0, 10, 6, 0, 8, 9, 0, 11, 0, 16, 0, 3, 0, 6, 15, 12, 4, 0, 16, 0, 0, 0, 7, 16, 1, 15, 0, 0, 0, 0, 13, 0, 0, 17, 0, 12, 0, 15, 4, 0, 4, 0, 9, 0, 1, 0, 13, 8, 0, 9, 5, 5, 0, 9, 9, 5, 13, 10, 0, 10, 0, 0, 5, 11, 0, 0, 0, 1, 14, 19, 7, 8, 0, 11, 0, 9, 0, 0, 9, 0, 0, 0, 0, 10, 3, 0, 8, 13, 0, 10, 7, 1, 7, 16, 12, 12, 9, 0, 1, 0, 0, 0, 0, 0, 3, 0, 9, 0, 6, 0, 0, 0, 0, 0, 17, 14, 0, 17, 8, 0, 0, 7, 16, 0, 7, 9, 0, 0, 9, 4, 5, 0, 3, 9, 5, 0, 12, 15, 0, 15, 8, 0, 9, 5, 0, 0, 0, 16, 0, 6, 5, 0, 5, 10, 16, 12, 1, 9, 0, 13, 8, 0, 0, 12, 0, 7, 0, 9, 0, 0, 13, 0, 9, 12, 16, 0, 17, 4, 8, 13, 9, 0, 0, 3, 0, 5, 0, 15, 0, 9, 5, 0, 0, 10, 0, 0, 0, 0, 1, 10, 9, 1, 1, 12, 0, 0, 0, 0, 0, 0, 0, 7, 0, 0, 9, 11, 7, 0, 17, 0, 0, 8, 12, 0, 0, 0, 1, 0, 6, 6, 0, 1, 9, 0, 17, 11, 0, 17, 0, 10, 8, 13, 0, 9, 13, 0, 8, 0, 10, 0, 8, 0, 0, 0, 7, 1, 1, 4, 8, 0, 6, 10, 0, 0, 0, 0, 0, 0, 11, 0, 0, 0, 14, 8, 0, 0, 10, 0, 2, 0, 0, 11, 8, 0, 0, 1, 0, 17, 0, 0, 0, 0, 3, 13, 0, 7, 0, 8, 0, 9, 0, 11, 13, 0, 0, 5, 6, 0, 15, 10, 10, 0, 16, 7, 0, 0, 9, 10, 0, 7, 0, 10, 8, 0, 6, 0, 0, 0, 0, 0, 10, 3, 1, 0, 0, 2, 15, 14, 10, 9, 0, 13, 0, 1, 8, 0, 0, 0, 0, 0, 0, 3, 0, 0, 10, 10, 6, 6, 9, 9, 1, 9, 0, 5, 0, 16, 0, 7, 0, 7, 7, 12, 0, 1, 10, 1, 0, 0, 9, 13, 8, 12, 13, 0, 0, 10, 0, 0, 0, 8, 0, 0, 10, 1, 0, 10, 0, 8, 13, 0, 4, 0, 0, 0, 0, 17, 12, 0, 0, 13, 0, 0, 0, 0, 15, 1, 15, 0, 0, 0, 4, 7, 0, 8, 8, 0, 1, 7, 0, 10, 0, 0, 0, 0, 5, 6, 16, 0, 14, 0, 0, 3, 7, 4, 10, 7, 0, 14, 3, 0, 4, 9, 0, 10, 13, 4, 6, 10, 0, 0, 13, 0, 9, 9, 0, 0, 15, 12, 0, 6, 0, 0, 0, 0, 0, 9, 0, 0, 0, 0, 8, 0, 0, 0, 0, 7, 0, 1, 0, 7, 0, 0, 0, 8, 0, 0, 7, 0, 16, 6, 8, 17, 0, 10, 0, 10, 0, 0, 8, 0, 3, 0, 0, 11, 16, 4, 9, 0, 0, 3, 0, 10, 9, 15, 7, 10, 0, 12, 0, 12, 0, 14, 0, 0, 19, 6, 6, 14, 0, 9, 15, 0, 0, 0, 0, 0, 15, 0, 13, 0, 0, 0, 9, 0, 8, 0, 0, 7, 5, 4, 5, 6, 4, 5, 5, 9, 6, 4, 9, 3, 4, 5, 10, 4, 5, 5, 5, 14, 5, 3, 3, 3, 3, 25, 9, 16, 5, 16, 4, 5, 3, 14, 7, 20, 10, 5, 9, 9, 9, 5, 7, 20, 5, 5, 5, 5, 5, 5, 5, 5, 5, 5, 5, 0, 0, 0, 9, 0, 6, 0, 10, 11, 0, 6, 0, 0, 5, 7, 12, 6, 0, 0, 0, 0, 9, 0, 0, 0, 0, 11, 11, 0, 9, 0, 0, 0, 0, 7, 4, 0, 0, 10, 8, 0, 0, 13, 0, 0, 8, 14, 0, 0, 0, 7, 0, 0, 17, 0, 0, 0, 6, 1, 0, 0, 0, 4, 0, 8, 9, 10, 0, 0, 0, 7, 0, 7, 14, 0, 0, 0, 0, 13, 9, 7, 0, 0, 0, 0, 0, 0, 1, 11, 6, 6, 0, 5, 0, 0, 0, 6, 0, 8, 0, 6, 9, 7, 13, 0, 1, 5, 0, 1, 6, 0, 0, 13, 13, 0, 5, 14, 6, 0, 12, 5, 11, 13, 0, 14, 0, 0, 9, 10, 7, 0, 6, 0, 7, 3, 0, 5, 3, 0, 10, 8, 10, 8, 6, 6, 0, 0, 0, 0, 0, 14, 0, 9, 9, 0, 0, 6, 15, 9, 10, 8, 21, 7, 10, 11, 0, 11, 6, 1, 0, 10, 0, 0, 3, 5, 0, 8, 0, 1, 0, 0, 9, 11, 0, 0, 10, 5, 0, 5, 11, 0, 7, 5, 0, 0, 15, 13, 6, 13, 17, 0, 4, 0, 0, 8, 5, 0, 0, 0, 6, 0, 0, 15, 5, 0, 0, 0, 0, 8, 7, 0, 0, 4, 0, 0, 8, 15, 0, 6, 7, 3, 0, 0, 10, 0, 14, 6, 1, 6, 8, 14, 11, 0, 0, 0, 6, 0, 8, 6, 0, 0, 10, 11, 0, 0, 4, 0, 14, 7, 0, 8, 10, 21, 6, 15, 8, 8, 6, 8, 2, 13, 9, 11, 0, 0, 0, 10, 0, 0, 0, 0, 3, 13, 9, 8, 8, 0, 12, 12, 0, 0, 0, 8, 0, 0, 0, 0, 10, 0, 10, 0, 10, 12, 9, 0, 11, 9, 0, 0, 0, 9, 16, 0, 0, 0, 8, 0, 14, 0, 10, 0, 3, 9, 4, 0, 8, 0, 0, 0, 5, 6, 12, 0, 8, 8, 0, 0, 11, 5, 10, 5, 8, 0, 0, 5, 0, 13, 0, 0, 8, 11, 5, 14, 14, 0, 0, 0, 8, 8, 0, 0, 9, 8, 14, 0, 0, 0, 0, 2, 11, 16, 0, 9, 14, 0, 14, 13, 0, 0, 8, 0, 0, 6, 3, 0, 13, 0, 8, 9, 0, 0, 0, 0, 8, 6, 0, 5, 2, 0, 0, 7, 0, 9, 0, 13, 0, 0, 7, 12, 7, 12, 5, 0, 0, 0, 12, 0, 14, 12, 10, 0, 12, 0, 10, 0, 8, 0, 0, 7, 0, 0, 9, 14, 0, 0, 9, 8, 2, 0, 13, 6, 9, 9, 6, 10, 13, 6, 0, 4, 15, 0, 19, 19, 6, 0, 7, 0, 7, 10, 11, 7, 0, 0, 4, 0, 0, 0, 0, 10, 8, 6, 0, 16, 0, 0, 8, 16, 5, 0, 0, 11, 0, 15, 8, 11, 15, 0, 15, 8, 5, 5, 6, 13, 8, 0, 3, 0, 14, 0, 0, 5, 5, 0, 6, 0, 9, 9, 0, 9, 0, 11, 0, 11, 15, 15, 3, 15, 0, 11, 5, 0, 9, 11, 0, 0, 12, 0, 6, 6, 1, 0, 0, 12, 0, 11, 0, 0, 0, 0, 15, 0, 0, 7, 0, 13, 10, 9, 0, 0, 3, 14, 0, 6, 8, 9, 4, 11, 6, 0, 0, 0, 0, 0, 8, 0, 7, 15, 6, 0, 0, 0, 0, 0, 5, 15, 0, 12, 0, 15, 7, 0, 6, 0, 6, 8, 0, 6, 9, 9, 0, 7, 4, 0, 0, 4, 17, 8, 0, 0, 6, 0, 7, 5, 7, 0, 9, 11, 0, 7, 6, 11, 4, 17, 11, 8, 8, 0, 7, 0, 13, 0, 0, 0, 4, 0, 7, 13, 1, 13, 0, 0, 1, 4, 13, 9, 9, 7, 10, 0, 12, 5, 9, 9, 0, 10, 10, 0, 0, 0, 0, 12, 0, 0, 5, 8, 14, 0, 0, 17, 1, 9, 0, 8, 0, 8, 0, 0, 4, 0, 0, 7, 0, 9, 14, 0, 7, 0, 9, 15, 0, 11, 0, 3, 5, 0, 0, 7, 11, 12, 3, 11, 6, 0, 6, 11, 12, 0, 5, 0, 12, 15, 0, 13, 6, 0, 4, 7, 6, 9, 17, 8, 8, 0, 5, 0, 11, 6, 0, 4, 9, 0, 7, 0, 0, 10, 9, 10, 0, 0, 5, 9, 7, 12, 12, 12, 13, 9, 12, 0, 0, 6, 13, 0, 0, 5, 4, 0, 7, 0, 13, 0, 12, 0, 0, 0, 13, 10, 0, 0, 7, 5, 5, 0, 0, 7, 7, 8, 5, 9, 0, 0, 0, 11, 9, 12, 11, 9, 14, 0, 0, 0, 12, 0, 0, 0, 0, 0, 0, 0, 0, 0, 0, 5, 0, 7, 0, 10, 9, 7, 12, 9, 0, 15, 12, 4, 1, 6, 4, 4, 4, 4, 4, 10, 2, 2, 2, 2, 6, 4, 7, 2, 6, 6, 2, 2, 17, 17, 17, 8, 10, 10, 10, 2, 2, 8, 6, 7, 4, 6, 17, 12, 6, 1, 1, 1, 6, 2, 3, 3, 3, 3, 3, 3, 1, 0, 0, 0, 3, 1, 0, 0, 0, 13, 0, 0, 0, 0, 16, 0, 11, 17, 0, 13, 0, 0, 8, 0, 0, 0, 0, 0, 0, 0, 1, 0, 1, 7, 0, 7, 0, 0, 0, 0, 0, 1, 1, 0, 0, 7, 0, 0, 8, 8, 0, 0, 7, 0, 8, 0, 1, 0, 3, 8, 19, 0, 0, 0, 1, 1, 0, 0, 0, 0, 1, 3, 0, 0, 0, 13, 0, 17, 0, 0, 0, 13, 7, 0, 18, 18, 0, 0, 0, 0, 0, 0, 0, 0, 0, 0, 11, 0, 0, 0, 0, 0, 0, 13, 16, 0, 7, 6, 0, 12, 0, 0, 11, 0, 0, 0, 0, 0, 0, 0, 0, 0, 0, 0, 0, 0, 0, 0, 0, 0, 0, 6, 0, 0, 0, 0, 0, 0, 0, 0, 0, 9, 0, 0, 0, 8, 0, 11, 1, 0, 0, 0, 0, 13, 0, 1, 0, 0, 0, 6, 0, 0, 18, 0, 13, 0, 0, 1, 6, 0, 0, 13, 0, 0, 0, 0, 1, 0, 0, 0, 1, 0, 0, 0, 0, 1, 0, 0, 0, 12, 0, 0, 1, 0, 0, 7, 0, 0, 3, 0, 4, 0, 17, 0, 0, 0, 0, 0, 0, 0, 0, 0, 0, 9, 0, 4, 1, 0, 0, 1, 8, 0, 8, 0, 0, 0, 0, 0, 1, 3, 0, 0, 1, 6, 0, 0, 0, 0, 0, 1, 0, 0, 0, 1, 12, 12, 0, 6, 0, 0, 0, 0, 0, 0, 8, 0, 0, 3, 0, 0, 0, 0, 0, 0, 0, 0, 0, 0, 0, 0, 0, 17, 0, 0, 0, 11, 0, 12, 0, 11, 0, 19, 0, 7, 7, 7, 7, 7, 0, 7, 7, 0, 4, 0, 4, 12, 7, 8, 4, 4, 0, 0, 4, 8, 0, 0, 0, 0, 0, 6, 1, 0, 8, 14, 0, 11, 0, 13, 13, 0, 13, 5, 17, 5, 11, 0, 11, 0, 6, 4, 0, 0, 8, 0, 0, 0, 12, 5, 0, 8, 5, 6, 15, 0, 0, 0, 14, 7, 8, 9, 7, 11, 2, 0, 0, 8, 16, 11, 0, 4, 0, 0, 0, 0, 0, 0, 3, 9, 6, 0, 10, 0, 9, 10, 0, 0, 0, 12, 8, 1, 9, 0, 10, 10, 8, 0, 22, 14, 0, 11, 0, 5, 6, 16, 22, 0, 0, 13, 8, 12, 0, 7, 9, 0, 2, 0, 0, 9, 11, 0, 14, 4, 1, 0, 0, 4, 0, 0, 8, 0, 0, 0, 3, 5, 7, 10, 11, 7, 0, 8, 0, 13, 11, 13, 15, 3, 0, 12, 0, 9, 0, 8, 11, 10, 0, 8, 7, 4, 0, 8, 8, 11, 0, 0, 10, 0, 8, 8, 0, 0, 0, 4, 8, 0, 8, 0, 9, 4, 3, 0, 9, 9, 9, 9, 8, 14, 8, 0, 0, 11, 7, 0, 16, 0, 14, 0, 8, 8, 0, 10, 8, 0, 16, 0, 10, 0, 0, 17, 0, 11, 0, 10, 0, 0, 16, 14, 11, 8, 0, 4, 3, 3, 0, 0, 9, 0, 0, 0, 0, 7, 0, 0, 11, 13, 0, 0, 0, 0, 0, 13, 7, 0, 0, 9, 0, 2, 2, 0, 0, 0, 0, 8, 5, 7, 12, 0, 8, 7, 9, 1, 9, 1, 8, 0, 0, 0, 0, 0, 0, 0, 0, 0, 0, 0, 0, 0, 16, 9, 9, 10, 0, 7, 11, 12, 10, 9, 0, 0, 1, 7, 0, 1, 7, 14, 0, 10, 8, 0, 8, 0, 9, 7, 0, 0, 9, 0, 11, 0, 1, 0, 0, 0, 11, 0, 13, 13, 0, 0, 1, 5, 10, 10, 5, 8, 0, 0, 4, 11, 4, 0, 0, 6, 7, 0, 5, 0, 0, 0, 8, 0, 31, 0, 14, 31, 9, 10, 10, 9, 0, 4, 0, 11, 9, 0, 11, 11, 0, 16, 10, 5, 9, 16, 9, 6, 0, 6, 8, 0, 3, 8, 0, 22, 7, 0, 8, 5, 10, 0, 0, 0, 3, 0, 0, 0, 8, 0, 6, 6, 0, 0, 0, 0, 0, 0, 0, 0, 0, 1, 0, 1, 0, 1, 1, 1, 1, 11, 11, 11, 0, 11, 6, 0, 0, 6, 24, 4, 4, 9, 9, 24, 9, 24, 9, 6, 24, 24, 24, 9, 24, 6, 15, 6, 24, 6, 6, 6, 24, 9, 15, 24, 8, 8, 11, 0, 5, 12, 0, 9, 4, 0, 8, 0, 0, 4, 12, 6, 0, 0, 8, 0, 0, 0, 0, 12, 0, 0, 10, 0, 15, 15, 12, 15, 15, 0, 0, 0, 5, 0, 0, 0, 12, 0, 2, 8, 9, 10, 0, 10, 0, 4, 10, 0, 8, 0, 0, 14, 0, 0, 7, 10, 15, 0, 0, 0, 0, 0, 12, 0, 13, 0, 0, 1, 0, 0, 19, 3, 12, 0, 6, 11, 0, 0, 5, 9, 10, 11, 11, 0, 10, 8, 0, 0, 10, 0, 0, 0, 0, 4, 15, 8, 0, 0, 9, 0, 7, 0, 9, 9, 4, 8, 7, 0, 1, 8, 0, 4, 1, 0, 10, 13, 0, 0, 0, 4, 0, 13, 13, 9, 13, 0, 0, 2, 9, 0, 0, 0, 0, 0, 1, 4, 3, 10, 0, 0, 0, 7, 13, 5, 15, 9, 15, 9, 0, 8, 0, 3, 3, 0, 8, 15, 19, 19, 0, 0, 1, 0, 5, 10, 0, 0, 5, 1, 13, 1, 1, 1, 0, 10, 0, 0, 10, 15, 0, 0, 4, 0, 10, 0, 0, 0, 0, 0, 11, 0, 5, 10, 14, 12, 15, 0, 0, 10, 7, 7, 1, 10, 6, 9, 9, 6, 0, 10, 1, 1, 10, 0, 11, 0, 0, 0, 4, 6, 12, 9, 8, 0, 0, 6, 10, 0, 0, 0, 13, 0, 0, 7, 0, 0, 0, 5, 0, 12, 16, 0, 7, 0, 0, 0, 0, 13, 16, 7, 10, 7, 10, 7, 10, 10, 15, 6, 0, 0, 11, 15, 5, 0, 6, 5, 10, 13, 0, 7, 11, 4, 11, 0, 9, 0, 5, 0, 0, 0, 8, 0, 10, 11, 10, 0, 16, 0, 9, 0, 0, 15, 8, 19, 4, 1, 0, 4, 3, 0, 0, 0, 1, 14, 14, 0, 7, 0, 8, 0, 15, 10, 0, 16, 7, 7, 0, 0, 0, 8, 7, 7, 0, 0, 3, 8, 7, 0, 0, 4, 5, 0, 9, 16, 7, 5, 7, 0, 14, 1, 9, 0, 10, 9, 0, 10, 0, 0, 8, 9, 16, 8, 7, 0, 0, 1, 0, 0, 10, 10, 15, 0, 13, 0, 10, 0, 0, 0, 5, 0, 9, 0, 0, 3, 0, 0, 10, 0, 7, 0, 0, 0, 17, 17, 1, 0, 1, 0, 0, 0, 7, 14, 9, 9, 1, 9, 0, 8, 8, 0, 16, 7, 6, 18, 0, 5, 10, 6, 0, 0, 0, 5, 0, 8, 0, 0, 19, 14, 16, 12, 4, 7, 0, 0, 9, 0, 0, 17, 12, 0, 14, 19, 8, 12, 15, 11, 0, 0, 0, 10, 19, 0, 0, 10, 10, 0, 7, 0, 13, 8, 0, 0, 0, 18, 5, 10, 10, 0, 10, 0, 14, 3, 0, 5, 13, 8, 8, 8, 11, 13, 7, 13, 12, 0, 8, 0, 7, 5, 12, 12, 0, 0, 12, 0, 11, 0, 0, 0, 16, 0, 0, 11, 11, 0, 0, 12, 8, 10, 10, 8, 7, 3, 11, 0, 0, 0, 0, 10, 0, 0, 16, 0, 4, 0, 7, 0, 3, 0, 0, 6, 11, 12, 0, 0, 3, 10, 0, 0, 0, 6, 1, 0, 1, 5, 14, 0, 12, 12, 12, 7, 11, 0, 15, 0, 7, 7, 11, 1, 0, 1, 12, 0, 12, 6, 12, 15, 11, 15, 0, 8, 6, 0, 0, 0, 10, 16, 11, 0, 11, 15, 0, 0, 0, 0, 0, 15, 0, 19, 11, 11, 15, 11, 15, 19, 7, 15, 15, 7, 8, 8, 11, 11, 11, 11, 8, 9, 9, 9, 9, 9, 9, 14, 9, 9, 24, 23, 23, 23, 14, 23, 14, 14, 23, 24, 23, 24, 24, 23, 24, 24, 14, 3, 3, 3, 3, 23, 3, 14, 3, 5, 5, 7, 7, 12, 11, 0, 0, 0, 0, 8, 12, 0, 0, 0, 0, 8, 9, 0, 0, 12, 4, 0, 5, 0, 0, 8, 0, 0, 9, 0, 0, 0, 0, 0, 0, 12, 0, 0, 0, 9, 0, 0, 9, 0, 0, 5, 0, 0, 4, 0, 0, 0, 0, 0, 8, 1, 6, 8, 1, 8, 0, 0, 6, 0, 0, 0, 0, 0, 0, 7, 0, 0, 6, 0, 12, 7, 5, 0, 0, 0, 0, 0, 0, 8, 0, 7, 12, 11, 11, 9, 0, 8, 8, 15, 0, 0, 6, 0, 20, 5, 5, 10, 0, 1, 1, 1, 12, 0, 8, 0, 10, 0, 7, 0, 9, 1, 9, 0, 0, 12, 0, 9, 1, 0, 0, 9, 9, 9, 12, 0, 0, 10, 0, 0, 0, 0, 9, 16, 0, 0, 0, 9, 0, 0, 0, 0, 1, 0, 0, 1, 5, 12, 0, 0, 7, 9, 1, 0, 0, 4, 14, 4, 9, 6, 5, 9, 0, 0, 0, 0, 0, 0, 1, 0, 0, 0, 14, 0, 0, 0, 5, 0, 0, 0, 0, 0, 0, 0, 0, 6, 0, 0, 0, 0, 0, 5, 0, 9, 0, 0, 0, 14, 1, 3, 0, 0, 12, 0, 0, 0, 0, 7, 1, 6, 0, 0, 0, 0, 6, 4, 7, 9, 9, 0, 11, 13, 8, 7, 9, 0, 11, 0, 0, 0, 0, 9, 0, 15, 0, 11, 0, 0, 11, 0, 0, 9, 6, 0, 10, 0, 0, 11, 11, 0, 10, 0, 0, 0, 7, 10, 5, 0, 12, 14, 11, 0, 11, 11, 1, 14, 14, 11, 0, 0, 0, 0, 14, 4, 12, 11, 4, 14, 9, 11, 0, 6, 0, 0, 0, 0, 6, 9, 12, 0, 9, 0, 0, 8, 0, 0, 0, 11, 14, 0, 0, 0, 6, 14, 0, 0, 14, 8, 0, 8, 6, 15, 7, 0, 7, 13, 0, 7, 8, 0, 0, 7, 8, 0, 9, 9, 9, 0, 0, 0, 7, 0, 13, 0, 7, 0, 0, 9, 0, 1, 10, 11, 11, 11, 12, 8, 7, 7, 0, 10, 0, 3, 0, 11, 9, 14, 11, 0, 0, 14, 10, 7, 1, 0, 0, 7, 0, 0, 5, 9, 0, 7, 12, 0, 11, 16, 6, 0, 0, 10, 10, 10, 4, 9, 0, 0, 0, 0, 20, 1, 11, 0, 0, 12, 0, 0, 7, 1, 15, 0, 0, 0, 8, 15, 0, 0, 4, 11, 4, 5, 0, 5, 8, 15, 0, 11, 15, 9, 0, 8, 0, 12, 5, 5, 0, 0, 0, 14, 0, 5, 12, 9, 6, 8, 9, 0, 0, 9, 9, 6, 10, 0, 13, 0, 0, 0, 0, 0, 0, 0, 0, 9, 0, 7, 0, 0, 9, 0, 14, 0, 0, 0, 0, 7, 0, 4, 0, 19, 0, 0, 5, 0, 11, 6, 0, 19, 7, 9, 1, 0, 0, 17, 7, 0, 0, 13, 10, 9, 0, 19, 10, 0, 6, 0, 10, 9, 11, 17, 11, 0, 9, 17, 9, 0, 9, 9, 11, 1, 5, 19, 5, 0, 0, 11, 0, 0, 0, 17, 0, 1, 0, 7, 1, 0, 0, 7, 6, 0, 0, 0, 7, 0, 8, 0, 4, 11, 3, 11, 14, 8, 0, 14, 0, 0, 1, 0, 0, 11, 7, 3, 7, 9, 13, 13, 0, 0, 0, 0, 0, 0, 15, 0, 0, 0, 0, 0, 0, 0, 0, 8, 6, 0, 0, 0, 14, 0, 0, 19, 11, 6, 0, 1, 0, 0, 0, 6, 14, 0, 0, 0, 8, 0, 14, 9, 0, 14, 15, 15, 0, 4, 0, 0, 14, 0, 11, 6, 0, 0, 11, 0, 9, 0, 11, 0, 0, 0, 0, 0, 9, 0, 10, 10, 0, 10, 10, 11, 12, 0, 6, 0, 3, 9, 0, 19, 1, 8, 0, 1, 14, 0, 11, 0, 10, 8, 0, 0, 11, 0, 1, 6, 0, 10, 11, 10, 1, 1, 0, 12, 0, 0, 0, 0, 0, 9, 15, 8, 10, 0, 0, 0, 1, 10, 0, 10, 13, 0, 16, 12, 9, 14, 0, 11, 1, 14, 0, 0, 5, 18, 0, 0, 0, 0, 5, 0, 4, 9, 1, 1, 9, 0, 1, 0, 9, 16, 0, 16, 15, 0, 8, 16, 16, 4, 0, 8, 8, 8, 0, 0, 0, 0, 8, 8, 14, 0, 0, 4, 1, 0, 1, 0, 0, 0, 0, 12, 15, 0, 16, 5, 9, 0, 0, 9, 10, 0, 6, 5, 0, 8, 12, 8, 0, 0, 1, 0, 10, 0, 1, 0, 11, 10, 0, 9, 9, 0, 10, 7, 0, 0, 17, 0, 0, 0, 0, 15, 3, 10, 0, 9, 3, 0, 0, 5, 9, 0, 12, 0, 0, 7, 0, 9, 5, 17, 12, 12, 0, 4, 11, 0, 0, 15, 10, 4, 9, 8, 0, 10, 0, 0, 18, 0, 0, 0, 5, 0, 0, 0, 9, 0, 0, 0, 11, 0, 1, 0, 0, 7, 0, 0, 13, 0, 0, 0, 12, 1, 0, 0, 11, 13, 0, 0, 1, 0, 0, 0, 9, 0, 0, 0, 9, 1, 0, 0, 14, 11, 0, 6, 6, 9, 11, 7, 16, 11, 0, 1, 16, 0, 0, 0, 0, 11, 0, 7, 0, 0, 3, 0, 12, 0, 9, 9, 0, 6, 6, 6, 6, 6, 6, 16, 16, 16, 7, 7, 15, 15, 7, 7, 7, 7, 7, 16, 7, 7, 7, 7, 7, 7, 0, 0, 0, 0, 0, 14, 14, 14, 14, 14, 14, 0, 0, 10, 9, 9, 10, 1, 14, 0, 0, 0, 1, 1, 0, 9, 10, 9, 0, 9, 15, 15, 0, 14, 0, 9, 9, 8, 0, 13, 5, 12, 10, 0, 0, 0, 10, 0, 5, 0, 0, 5, 0, 0, 0, 13, 11, 10, 10, 8, 17, 13, 0, 0, 0, 9, 10, 17, 0, 13, 0, 0, 0, 18, 0, 7, 0, 0, 7, 7, 0, 0, 12, 7, 11, 5, 5, 0, 7, 12, 9, 0, 18, 10, 0, 9, 13, 0, 0, 5, 0, 10, 10, 0, 0, 0, 10, 0, 0, 11, 0, 7, 14, 0, 0, 8, 0, 7, 7, 9, 0, 0, 10, 7, 14, 0, 8, 10, 0, 12, 0, 1, 17, 7, 16, 0, 8, 0, 15, 12, 10, 0, 10, 0, 16, 10, 0, 0, 0, 7, 0, 13, 0, 8, 7, 13, 17, 14, 11, 17, 0, 7, 0, 7, 12, 12, 0, 0, 0, 0, 0, 17, 11, 11, 7, 0, 7, 0, 0, 0, 10, 13, 15, 6, 15, 12, 0, 0, 0, 0, 8, 0, 13, 7, 0, 0, 0, 0, 0, 6, 0, 0, 0, 7, 0, 0, 0, 0, 13, 14, 0, 7, 10, 0, 7, 0, 0, 0, 7, 15, 9, 14, 0, 0, 0, 15, 10, 0, 0, 0, 1, 13, 0, 0, 10, 1, 0, 0, 13, 8, 10, 0, 13, 8, 0, 7, 8, 0, 12, 0, 13, 8, 6, 0, 0, 0, 6, 7, 8, 9, 9, 0, 13, 9, 11, 8, 0, 0, 0, 0, 0, 14, 11, 0, 14, 0, 0, 0, 0, 0, 0, 10, 17, 0, 0, 12, 7, 0, 22, 0, 15, 0, 15, 7, 6, 11, 0, 5, 0, 0, 15, 6, 22, 11, 11, 10, 0, 8, 15, 0, 0, 0, 12, 13, 12, 13, 0, 1, 0, 5, 12, 0, 1, 8, 0, 6, 0, 2, 10, 0, 13, 1, 8, 18, 18, 12, 6, 18, 10, 12, 6, 0, 11, 11, 13, 14, 3, 0, 11, 10, 0, 13, 0, 11, 15, 0, 15, 14, 0, 8, 8, 14, 0, 8, 1, 0, 5, 1, 11, 0, 0, 7, 13, 0, 1, 13, 0, 0, 0, 5, 8, 0, 0, 0, 0, 0, 0, 8, 8, 15, 0, 8, 7, 12, 0, 5, 0, 0, 0, 0, 8, 0, 16, 0, 10, 8, 10, 15, 8, 20, 11, 11, 5, 2, 1, 0, 11, 19, 15, 12, 0, 14, 0, 0, 7, 0, 0, 6, 0, 0, 5, 0, 0, 11, 0, 7, 5, 7, 12, 0, 13, 5, 0, 0, 0, 0, 0, 7, 12, 0, 0, 12, 0, 8, 11, 11, 0, 12, 10, 0, 9, 0, 11, 3, 0, 1, 0, 14, 9, 0, 10, 8, 0, 20, 0, 0, 0, 0, 0, 11, 7, 7, 6, 15, 15, 11, 10, 0, 8, 0, 8, 5, 9, 0, 0, 1, 9, 9, 9, 15, 8, 1, 13, 3, 0, 11, 0, 0, 12, 1, 7, 0, 8, 0, 0, 8, 0, 0, 1, 0, 1, 0, 0, 6, 9, 5, 0, 0, 0, 10, 0, 0, 5, 7, 0, 7, 0, 0, 9, 0, 9, 1, 0, 0, 0, 10, 8, 8, 18, 0, 0, 0, 0, 0, 0, 0, 0, 0, 0, 0, 0, 11, 7, 0, 0, 9, 0, 0, 0, 10, 9, 0, 7, 6, 6, 7, 7, 0, 17, 17, 8, 0, 10, 0, 1, 4, 0, 0, 0, 10, 0, 14, 0, 14, 14, 0, 3, 0, 0, 17, 0, 0, 0, 2, 2, 0, 0, 0, 14, 0, 4, 0, 0, 11, 6, 14, 0, 0, 7, 0, 0, 0, 0, 0, 0, 6, 0, 6, 7, 0, 0, 11, 11, 0, 0, 0, 8, 17, 15, 5, 0, 0, 0, 16, 17, 0, 0, 12, 5, 0, 0, 17, 17, 0, 0, 0, 19, 0, 0, 12, 0, 0, 5, 0, 14, 8, 0, 18, 0, 16, 12, 8, 10, 0, 0, 4, 0, 5, 12, 0, 11, 0, 0, 0, 0, 12, 12, 10, 5, 0, 10, 0, 8, 0, 8, 10, 10, 10, 8, 8, 10, 0, 8, 0, 8, 8, 0, 5, 9, 0, 9, 10, 10, 4, 4, 8, 0, 7, 0, 0, 10, 10, 0, 6, 9, 0, 12, 0, 0, 0, 12, 0, 12, 0, 10, 6, 14, 0, 19, 5, 0, 5, 11, 7, 0, 6, 6, 13, 11, 10, 0, 10, 6, 9, 0, 0, 0, 0, 0, 0, 5, 7, 0, 13, 19, 0, 13, 7, 9, 11, 0, 6, 11, 10, 10, 6, 9, 15, 0, 12, 0, 12, 15, 9, 7, 15, 7, 15, 3, 11, 9, 0, 0, 0, 16, 16, 0, 7, 0, 14, 10, 10, 0, 1, 0, 10, 0, 7, 0, 0, 14, 0, 12, 7, 4, 1, 13, 11, 1, 13, 8, 7, 0, 4, 0, 0, 10, 0, 1, 5, 5, 3, 0, 13, 4, 7, 0, 11, 0, 16, 0, 7, 5, 9, 0, 7, 8, 0, 0, 11, 0, 9, 0, 8, 0, 10, 0, 0, 0, 0, 10, 0, 8, 4, 14, 0, 0, 0, 9, 12, 0, 7, 13, 5, 5, 5, 6, 8, 11, 12, 5, 8, 0, 10, 12, 5, 0, 0, 7, 10, 3, 11, 11, 10, 9, 8, 8, 0, 6, 6, 0, 16, 0, 3, 8, 0, 0, 8, 8, 3, 8, 6, 13, 14, 10, 14, 11, 0, 13, 0, 0, 11, 7, 11, 16, 6, 16, 7, 16, 13, 9, 0, 0, 0, 7, 7, 0, 7, 4, 4, 12, 7, 11, 10, 6, 7, 10, 6, 0, 7, 10, 0, 8, 6, 9, 14, 0, 7, 9, 0, 14, 0, 0, 13, 0, 3, 10, 0, 5, 14, 7, 12, 12, 7, 14, 0, 6, 6, 6, 10, 0, 0, 6, 0, 9, 10, 0, 6, 13, 0, 0, 7, 0, 4, 0, 7, 9, 8, 20, 0, 0, 0, 7, 0, 0, 8, 9, 0, 9, 20, 20, 0, 4, 12, 8, 0, 8, 9, 0, 8, 6, 7, 0, 0, 0, 0, 0, 0, 11, 13, 14, 0, 10, 0, 5, 11, 7, 8, 11, 0, 0, 13, 13, 12, 0, 6, 11, 12, 12, 4, 0, 10, 9, 9, 9, 5, 13, 4, 6, 0, 6, 5, 6, 6, 13, 11, 10, 9, 0, 0, 0, 11, 8, 0, 9, 0, 8, 0, 0, 6, 0, 8, 8, 6, 8, 0, 0, 0, 0, 9, 10, 9, 0, 7, 0, 0, 9, 0, 9, 7, 9, 6, 0, 9, 7, 10, 7, 7, 0, 9, 0, 9, 9, 13, 8, 6, 11, 0, 9, 9, 11, 5, 10, 0, 6, 9, 9, 7, 10, 0, 0, 9, 0, 0, 0, 0, 11, 5, 7, 0, 8, 0, 8, 11, 0, 8, 0, 0, 10, 11, 0, 6, 6, 9, 0, 0, 0, 6, 0, 6, 0, 0, 9, 9, 0, 10, 0, 0, 0, 9, 15, 6, 7, 0, 0, 6, 9, 11, 10, 0, 0, 0, 15, 0, 0, 9, 12, 14, 14, 14, 14, 12, 5, 0, 0, 0, 0, 0, 0, 17, 4, 7, 17, 12, 4, 17, 12, 6, 6, 6, 6, 9, 9, 14, 14, 17, 7, 2, 2, 2, 7, 8, 5, 2, 2, 2, 5, 10, 10, 0, 11, 5, 1, 1, 7, 7, 10, 10, 0, 0, 11, 0, 0, 9, 3, 0, 0, 0, 0, 0, 0, 0, 0, 4, 0, 10, 10, 0, 4, 0, 9, 0, 0, 0, 4, 10, 4, 10, 0, 0, 10, 0, 8, 12, 0, 0, 7, 0, 7, 7, 12, 0, 5, 0, 13, 4, 6, 6, 6, 0, 0, 0, 0, 0, 7, 0, 0, 8, 16, 0, 10, 7, 0, 0, 9, 0, 0, 10, 9, 7, 0, 15, 8, 0, 8, 0, 7, 0, 7, 11, 0, 0, 0, 5, 0, 8, 11, 0, 15, 0, 12, 0, 12, 0, 11, 12, 0, 9, 1, 0, 7, 0, 13, 0, 9, 7, 8, 0, 0, 5, 0, 0, 12, 0, 0, 0, 0, 8, 0, 6, 12, 13, 7, 5, 12, 8, 5, 6, 5, 0, 0, 0, 13, 8, 0, 1, 0, 8, 4, 7, 9, 0, 2, 2, 0, 0, 0, 5, 0, 0, 9, 10, 0, 7, 10, 0, 10, 0, 9, 7, 0, 0, 3, 9, 10, 0, 0, 0, 0, 6, 6, 0, 6, 0, 6, 7, 0, 10, 6, 12, 0, 0, 0, 7, 0, 0, 0, 0, 0, 6, 0, 0, 7, 0, 4, 3, 0, 0, 0, 5, 3, 0, 11, 3, 6, 0, 0, 0, 14, 0, 4, 0, 6, 0, 10, 0, 8, 5, 3, 0, 10, 0, 4, 0, 4, 0, 2, 0, 0, 8, 10, 0, 10, 13, 4, 0, 0, 0, 0, 10, 0, 0, 5, 0, 3, 0, 7, 12, 12, 12, 0, 3, 4, 8, 0, 13, 0, 0, 0, 6, 6, 0, 0, 0, 7, 0, 0, 12, 0, 0, 0, 8, 0, 16, 0, 8, 10, 0, 9, 0, 7, 0, 0, 7, 0, 9, 12, 0, 0, 9, 5, 0, 10, 0, 8, 0, 6, 0, 0, 0, 11, 9, 0, 11, 9, 10, 0, 10, 8, 9, 8, 10, 9, 0, 0, 0, 12, 9, 0, 7, 9, 0, 5, 5, 0, 0, 14, 0, 1, 0, 0, 1, 7, 1, 0, 14, 0, 0, 0, 8, 4, 0, 0, 0, 0, 0, 8, 6, 0, 6, 0, 0, 0, 9, 12, 0, 9, 0, 9, 0, 0, 6, 0, 0, 0, 6, 0, 9, 9, 5, 2, 12, 5, 12, 12, 12, 16, 0, 4, 9, 5, 8, 0, 6, 0, 8, 16, 5, 9, 9, 4, 3, 0, 0, 11, 0, 11, 3, 0, 0, 10, 9, 10, 0, 6, 5, 7, 1, 9, 8, 8, 0, 0, 9, 5, 6, 0, 8, 0, 0, 0, 0, 0, 11, 9, 2, 8, 5, 8, 9, 9, 4, 7, 6, 8, 6, 0, 0, 0, 9, 8, 7, 7, 3, 9, 8, 8, 11, 0, 0, 14, 7, 1, 0, 0, 1, 0, 0, 2, 9, 5, 0, 0, 6, 0, 9, 0, 9, 9, 0, 0, 0, 9, 14, 6, 7, 7, 7, 0, 7, 6, 0, 9, 7, 6, 7, 9, 0, 5, 0, 10, 0, 11, 11, 6, 0, 0, 5, 7, 6, 7, 6, 10, 0, 6, 14, 14, 0, 0, 0, 7, 13, 6, 10, 10, 7, 10, 10, 7, 0, 0, 0, 10, 0, 0, 0, 0, 11, 0, 10, 0, 10, 9, 0, 0, 13, 0, 0, 5, 9, 11, 0, 0, 7, 0, 10, 0, 0, 9, 9, 10, 9, 0, 12, 9, 9, 0, 0, 0, 0, 0, 9, 4, 12, 0, 8, 0, 9, 8, 8, 9, 0, 0, 10, 0, 0, 7, 14, 7, 6, 0, 0, 0, 8, 7, 9, 0, 13, 5, 9, 10, 3, 4, 0, 0, 0, 0, 0, 0, 0, 5, 0, 0, 12, 10, 0, 0, 12, 0, 10, 10, 1, 0, 0, 0, 1, 0, 1, 0, 0, 0, 10, 0, 10, 0, 0, 5, 11, 11, 0, 1, 1, 0, 11, 0, 0, 7, 13, 4, 4, 0, 0, 7, 7, 5, 0, 0, 11, 11, 14, 0, 0, 0, 8, 0, 8, 7, 5, 0, 12, 0, 0, 13, 0, 7, 13, 0, 0, 14, 13, 11, 10, 10, 5, 0, 0, 5, 0, 0, 0, 0, 0, 14, 0, 7, 0, 7, 0, 0, 0, 0, 0, 0, 5, 0, 0, 7, 7, 14, 0, 9, 0, 13, 12, 8, 0, 10, 0, 1, 1, 0, 9, 10, 5, 14, 9, 5, 0, 0, 0, 0, 8, 8, 0, 0, 0, 13, 13, 9, 7, 0, 1, 8, 9, 9, 0, 9, 0, 0, 14, 14, 0, 14, 6, 6, 0, 0, 6, 13, 0, 9, 13, 0, 9, 0, 13, 6, 0, 7, 0, 8, 0, 8, 0, 10, 8, 0, 0, 0, 0, 8, 0, 12, 0, 0, 12, 0, 12, 9, 12, 0, 0, 10, 1, 0, 0, 1, 14, 0, 0, 6, 0, 0, 0, 0, 12, 13, 12, 13, 6, 11, 0, 10, 9, 9, 6, 0, 0, 0, 0, 9, 9, 9, 8, 0, 12, 8, 0, 0, 8, 8, 9, 9, 1, 8, 6, 1, 5, 8, 14, 14, 0, 0, 0, 8, 0, 5, 14, 5, 14, 1, 5, 7, 7, 0, 0, 13, 0, 8, 11, 0, 0, 0, 8, 9, 0, 6, 9, 0, 11, 0, 5, 0, 0, 0, 8, 0, 8, 12, 9, 12, 11, 0, 7, 0, 5, 0, 9, 6, 0, 8, 6, 0, 11, 0, 0, 0, 10, 0, 10, 8, 5, 0, 8, 10, 0, 7, 0, 6, 8, 0, 8, 0, 0, 0, 0, 12, 0, 0, 0, 12, 0, 15, 6, 6, 2, 6, 6, 15, 15, 24, 24, 24, 12, 15, 12, 12, 12, 8, 15, 8, 8, 8, 8, 8, 0, 24, 24, 24, 24, 24, 24, 15, 8, 8, 0, 0, 0, 0, 0, 0, 9, 7, 7, 9, 9, 9, 9, 9, 9, 0, 0, 0, 0, 0, 0, 0, 0, 0, 0, 0, 10, 0, 10, 1, 10, 0, 0, 0, 0, 11, 11, 15, 15, 15, 0, 15, 0, 6, 11, 0, 0, 11, 0, 0, 0, 0, 0, 1, 0, 0, 9, 5, 5, 0, 0, 0, 12, 0, 9, 0, 0, 0, 9, 0, 1, 1, 0, 11, 0, 11, 0, 13, 0, 6, 13, 0, 13, 0, 12, 0, 8, 15, 1, 4, 15, 15, 0, 0, 4, 0, 6, 0, 6, 0, 10, 10, 0, 0, 0, 15, 0, 0, 13, 0, 0, 11, 0, 11, 0, 0, 0, 0, 0, 21, 0, 3, 3, 14, 7, 0, 0, 0, 12, 1, 1, 0, 0, 0, 0, 0, 0, 0, 0, 0, 0, 10, 4, 6, 6, 0, 2, 2, 0, 9, 9, 10, 12, 12, 12, 0, 0, 0, 10, 10, 0, 0, 10, 0, 10, 6, 8, 15, 15, 10, 0, 15, 3, 0, 5, 5, 15, 7, 0, 10, 0, 0, 0, 0, 7, 0, 7, 9, 0, 9, 10, 0, 0, 18, 18, 0, 0, 0, 18, 0, 0, 10, 11, 11, 0, 5, 5, 0, 0, 24, 24, 0, 0, 9, 0, 0, 0, 11, 0, 1, 0, 0, 8, 0, 0, 0, 16, 0, 0, 11, 11, 16, 14, 0, 0, 0, 0, 0, 0, 0, 0, 17, 11, 0, 27, 0, 8, 0, 0, 27, 17, 0, 0, 0, 0, 11, 27, 0, 0, 1, 21, 8, 0, 5, 5, 0, 0, 0, 1, 0, 8, 4, 0, 6, 10, 0, 0, 13, 0, 0, 0, 8, 0, 0, 0, 1, 1, 7, 0, 0, 7, 0, 6, 7, 6, 0, 0, 0, 6, 15, 8, 0, 4, 0, 0, 6, 0, 0, 0, 10, 0, 0, 0, 10, 0, 12, 9, 9, 9, 9, 9, 1, 8, 0, 7, 0, 0, 0, 0, 14, 1, 14, 14, 0, 0, 0, 0, 0, 0, 0, 11, 1, 0, 0, 0, 0, 11, 0, 0, 8, 0, 0, 0, 0, 0, 0, 0, 0, 0, 0, 10, 8, 8, 0, 16, 11, 6, 11, 0, 0, 0, 0, 10, 0, 0, 5, 1, 0, 12, 0, 9, 0, 0, 8, 5, 0, 8, 0, 0, 8, 20, 9, 8, 8, 15, 9, 1, 9, 0, 9, 0, 0, 0, 0, 14, 16, 7, 16, 0, 16, 0, 15, 0, 1, 1, 0, 20, 0, 5, 7, 0, 0, 11, 11, 0, 0, 0, 9, 6, 10, 0, 0, 0, 9, 14, 10, 9, 7, 0, 0, 0, 0, 7, 7, 0, 7, 8, 0, 4, 0, 0, 0, 0, 0, 0, 0, 8, 8, 12, 6, 20, 6, 0, 6, 0, 0, 0, 0, 0, 7, 13, 18, 0, 0, 0, 9, 16, 20, 10, 10, 9, 12, 12, 0, 0, 0, 0, 0, 0, 0, 0, 0, 0, 0, 0, 0, 0, 8, 0, 20, 11, 11, 11, 0, 0, 11, 0, 0, 0, 0, 6, 6, 0, 12, 1, 20, 0, 9, 6, 1, 0, 0, 1, 9, 4, 11, 0, 7, 12, 11, 11, 0, 7, 0, 7, 0, 7, 0, 0, 0, 0, 0, 6, 6, 5, 5, 0, 0, 1, 15, 15, 7, 1, 5, 7, 0, 0, 0, 10, 12, 6, 0, 13, 0, 0, 8, 0, 1, 0, 0, 18, 6, 0, 0, 0, 6, 9, 3, 3, 3, 6, 16, 16, 11, 11, 11, 11, 0, 0, 7, 7, 7, 7, 7, 12, 0, 0, 19, 4, 9, 9, 6, 6, 6, 6, 6, 3, 0, 0, 19, 12, 14, 14, 7, 0, 6, 9, 6, 6, 6, 0, 13, 0, 0, 0, 13, 3, 3, 3, 3, 3, 4, 15, 15, 15, 15, 15, 15, 15, 15, 12, 12, 15, 15, 12, 0, 3, 13, 13, 13, 13, 12, 10, 10, 0, 8, 0, 8, 0, 0, 0, 7, 1, 11, 8, 15, 0, 15, 15, 0, 14, 0, 0, 0, 12, 7, 0, 0, 0, 8, 6, 0, 12, 0, 8, 0, 8, 0, 0, 16, 16, 0, 0, 0, 0, 0, 0, 0, 0, 0, 0, 0, 0, 0, 12, 7, 0, 13, 0, 0, 11, 0, 0, 7, 10, 0, 7, 1, 5, 4, 0, 13, 15, 0, 0, 7, 8, 0, 0, 0, 9, 9, 0, 14, 6, 14, 0, 9, 0, 1, 1, 0, 0, 7, 0, 4, 0, 0, 0, 0, 0, 6, 1, 0, 0, 0, 9, 0, 9, 11, 0, 6, 10, 0, 0, 8, 10, 8, 7, 0, 14, 1, 6, 0, 0, 0, 6, 1, 8, 0, 7, 14, 0, 0, 0, 0, 0, 0, 8, 10, 0, 7, 0, 0, 0, 14, 8, 0, 11, 8, 0, 0, 7, 0, 0, 0, 0, 14, 1, 0, 0, 7, 0, 0, 7, 1, 0, 0, 7, 0, 0, 0, 0, 4, 1, 0, 13, 0, 0, 0, 0, 0, 0, 4, 0, 0, 0, 0, 0, 0, 7, 8, 0, 0, 0, 7, 11, 0, 1, 0, 0, 0, 0, 0, 0, 8, 0, 8, 0, 7, 0, 8, 0, 1, 0, 17, 0, 17, 1, 17, 1, 0, 0, 0, 0, 11, 11, 0, 8, 0, 5, 0, 0, 0, 0, 5, 0, 0, 5, 0, 0, 0, 0, 11, 1, 0, 0, 0, 0, 0, 0, 0, 0, 0, 0, 0, 1, 0, 0, 0, 0, 0, 13, 0, 0, 13, 0, 9, 9, 0, 10, 0, 0, 8, 0, 15, 0, 15, 0, 0, 5, 0, 12, 12, 0, 0, 0, 0, 9, 1, 9, 0, 8, 11, 0, 11, 0, 10, 11, 0, 0, 0, 3, 10, 0, 3, 11, 10, 0, 5, 0, 7, 0, 12, 0, 0, 0, 0, 11, 11, 12, 0, 0, 8, 0, 9, 0, 0, 5, 0, 7, 13, 13, 0, 0, 0, 11, 0, 0, 0, 1, 0, 0, 12, 0, 0, 0, 0, 0, 0, 0, 0, 0, 0, 0, 0, 0, 0, 13, 13, 13, 0, 0, 13, 0, 0, 0, 7, 9, 0, 0, 7, 7, 0, 7, 10, 10, 0, 0, 10, 0, 0, 6, 0, 0, 5, 0, 5, 9, 1, 0, 9, 0, 0, 0, 0, 0, 3, 10, 1, 0, 0, 0, 0, 0, 10, 0, 0, 3, 6, 0, 0, 10, 10, 6, 0, 8, 0, 12, 7, 8, 7, 0, 10, 8, 12, 7, 0, 0, 0, 12, 0, 7, 0, 11, 0, 0, 0, 11, 0, 0, 5, 0, 9, 6, 0, 8, 8, 5, 9, 0, 5, 6, 6, 6, 0, 0, 0, 10, 1, 0, 6, 0, 11, 0, 0, 11, 0, 11, 0, 0, 0, 11, 1, 1, 0, 1, 0, 11, 11, 0, 0, 0, 0, 10, 0, 0, 10, 8, 10, 0, 9, 17, 1, 17, 0, 0, 9, 0, 0, 0, 10, 10, 6, 0, 9, 0, 0, 0, 0, 0, 0, 11, 0, 10, 1, 0, 10, 0, 16, 0, 0, 0, 8, 8, 0, 0, 0, 12, 10, 0, 0, 5, 2, 0, 0, 15, 7, 7, 0, 9, 1, 11, 15, 0, 5, 8, 10, 10, 10, 10, 10, 0, 8, 0, 5, 0, 14, 0, 8, 6, 0, 0, 1, 10, 6, 6, 0, 6, 6, 8, 11, 0, 0, 8, 0, 0, 11, 0, 0, 0, 1, 8, 12, 0, 12, 0, 1, 0, 0, 0, 9, 6, 1, 0, 0, 7, 7, 0, 0, 17, 0, 0, 17, 9, 10, 0, 0, 0, 0, 1, 0, 0, 0, 0, 0, 0, 7, 13, 13, 0, 7, 10, 0, 0, 8, 7, 0, 8, 0, 0, 8, 0, 0, 0, 0, 0, 0, 0, 12, 0, 0, 0, 0, 12, 0, 0, 0, 0, 0, 0, 0, 7, 0, 1, 8, 7, 8, 0, 0, 0, 10, 0, 0, 10, 0, 7, 0, 8, 9, 0, 8, 0, 0, 9, 0, 0, 0, 0, 0, 0, 0, 5, 0, 0, 8, 8, 0, 9, 6, 0, 0, 0, 0, 0, 6, 6, 9, 0, 1, 0, 0, 0, 0, 0, 0, 0, 0, 0, 0, 0, 6, 11, 0, 2, 0, 0, 1, 11, 11, 1, 8, 3, 0, 8, 8, 3, 0, 6, 3, 0, 6, 3, 0, 14, 14, 0, 11, 11, 16, 14, 0, 0, 0, 0, 11, 9, 0, 0, 0, 0, 0, 7, 8, 7, 0, 6, 7, 0, 0, 8, 0, 11, 6, 0, 5, 0, 9, 0, 11, 5, 5, 9, 6, 0, 6, 0, 0, 0, 5, 0, 0, 0, 11, 11, 11, 10, 0, 14, 10, 17, 0, 17, 11, 0, 1, 0, 5, 0, 0, 0, 1, 0, 0, 0, 9, 0, 4, 0, 4, 0, 0, 0, 1, 0, 9, 8, 0, 17, 9, 16, 3, 16, 11, 11, 11, 11, 11, 3, 3, 7, 7, 5, 6, 9, 9, 9, 9, 11, 11, 11, 3, 3, 3, 3, 3, 4, 4, 0, 0, 0, 0, 0, 0, 0, 0, 0, 0, 6, 8, 8, 11, 7, 11, 7, 9, 11, 7, 0, 0, 0, 10, 0, 4, 0, 19, 0, 0, 4, 0, 0, 0, 6, 0, 6, 0, 6, 0, 0, 0, 0, 10, 6, 0, 0, 0, 0, 0, 0, 0, 0, 0, 0, 0, 10, 0, 0, 0, 0, 0, 0, 3, 3, 0, 6, 0, 8, 8, 0, 0, 19, 0, 0, 7, 11, 0, 7, 11, 0, 0, 5, 16, 16, 16, 0, 9, 0, 12, 0, 0, 0, 7, 0, 9, 5, 10, 8, 0, 7, 0, 8, 0, 0, 7, 0, 0, 0, 0, 9, 7, 7, 0, 9, 8, 0, 4, 0, 5, 0, 7, 0, 8, 0, 10, 0, 7, 0, 9, 9, 0, 9, 0, 1, 9, 0, 10, 10, 1, 4, 0, 8, 0, 4, 4, 11, 0, 0, 0, 0, 0, 10, 1, 0, 0, 13, 10, 0, 9, 0, 9, 0, 0, 12, 7, 13, 12, 0, 0, 4, 8, 8, 0, 4, 0, 7, 0, 6, 12, 0, 0, 6, 0, 0, 0, 7, 9, 5, 9, 6, 0, 7, 7, 0, 11, 0, 5, 7, 0, 7, 0, 0, 0, 9, 5, 11, 0, 0, 1, 0, 0, 7, 0, 7, 0, 7, 0, 6, 6, 12, 10, 11, 0, 7, 0, 0, 0, 7, 12, 0, 0, 7, 11, 6, 0, 0, 0, 0, 0, 11, 11, 6, 0, 6, 0, 0, 0, 10, 8, 0, 0, 0, 7, 7, 0, 0, 0, 0, 0, 0, 0, 0, 1, 7, 7, 0, 0, 0, 1, 0, 0, 10, 1, 6, 12, 0, 0, 0, 13, 0, 6, 15, 12, 15, 12, 12, 13, 19, 0, 0, 1, 0, 0, 12, 0, 0, 0, 6, 0, 0, 0, 3, 0, 0, 0, 0, 0, 0, 1, 0, 13, 13, 10, 0, 0, 6, 6, 0, 7, 0, 0, 0, 0, 0, 6, 6, 0, 0, 0, 0, 0, 0, 3, 3, 0, 0, 4, 6, 4, 11, 0, 5, 0, 11, 0, 0, 15, 0, 0, 7, 1, 7, 0, 0, 8, 5, 0, 8, 0, 11, 0, 8, 1, 0, 0, 0, 15, 11, 0, 0, 0, 0, 0, 0, 0, 0, 7, 0, 8, 0, 5, 0, 0, 0, 14, 0, 11, 0, 11, 0, 11, 8, 0, 14, 0, 0, 14, 9, 0, 0, 0, 0, 9, 0, 0, 11, 1, 1, 11, 11, 11, 14, 14, 1, 11, 10, 3, 3, 0, 10, 0, 12, 7, 10, 0, 0, 7, 0, 6, 0, 0, 8, 6, 10, 14, 11, 8, 11, 0, 0, 11, 0, 0, 0, 0, 0, 0, 10, 5, 1, 4, 0, 11, 4, 10, 3, 6, 0, 0, 0, 0, 0, 0, 0, 0, 6, 0, 0, 11, 0, 0, 0, 7, 0, 0, 0, 0, 7, 7, 0, 11, 0, 0, 0, 5, 0, 5, 0, 12, 0, 0, 0, 0, 6, 0, 3, 0, 12, 0, 0, 0, 0, 0, 10, 0, 10, 0, 0, 0, 7, 6, 0, 0, 0, 8, 0, 0, 0, 0, 0, 3, 0, 16, 16, 18, 16, 0, 0, 11, 0, 0, 0, 5, 10, 11, 5, 0, 0, 0, 0, 0, 0, 11, 0, 0, 5, 0, 17, 0, 17, 11, 16, 0, 8, 8, 0, 8, 7, 1, 0, 0, 0, 0, 8, 0, 0, 3, 0, 0, 4, 16, 6, 7, 0, 3, 4, 3, 0, 0, 9, 16, 9, 0, 0, 0, 0, 12, 0, 0, 12, 5, 0, 0, 2, 5, 2, 0, 0, 0, 0, 8, 7, 0, 0, 0, 0, 0, 0, 5, 0, 0, 0, 6, 0, 18, 0, 0, 0, 10, 0, 0, 6, 5, 0, 0, 8, 8, 7, 8, 0, 9, 0, 0, 0, 10, 0, 10, 0, 0, 8, 0, 7, 0, 0, 0, 0, 7, 0, 7, 17, 0, 7, 7, 0, 0, 0, 0, 0, 0, 1, 0, 0, 0, 0, 0, 0, 0, 0, 0, 0, 0, 10, 17, 0, 0, 0, 0, 0, 10, 0, 0, 0, 0, 0, 0, 0, 0, 0, 6, 14, 0, 15, 4, 14, 15, 0, 0, 0, 0, 6, 0, 0, 0, 6, 0, 0, 0, 0, 6, 6, 7, 0, 0, 11, 8, 8, 0, 11, 0, 7, 11, 7, 0, 0, 0, 0, 0, 0, 0, 0, 0, 0, 15, 8, 0, 0, 8, 0, 0, 0, 0, 1, 7, 1, 0, 0, 0, 6, 0, 0, 9, 0, 12, 0, 0, 0, 0, 6, 6, 0, 0, 0, 0, 0, 0, 7, 0, 5, 0, 0, 5, 8, 0, 0, 0, 14, 10, 0, 0, 0, 3, 0, 15, 0, 0, 15, 0, 15, 0, 1, 0, 0, 0, 0, 16, 16, 16, 0, 16, 0, 0, 8, 8, 0, 14, 0, 17, 0, 10, 9, 1, 0, 0, 0, 11, 11, 11, 0, 0, 10, 0, 0, 9, 0, 8, 10, 10, 14, 8, 4, 10, 10, 0, 0, 14, 0, 0, 0, 0, 0, 0, 0, 16, 15, 0, 0, 7, 0, 7, 9, 0, 16, 15, 8, 17, 0, 5, 5, 0, 0, 20, 20, 5, 20, 20, 20, 20, 20, 20, 20, 20, 0, 2, 2, 2, 2, 5, 0, 3, 0, 3, 0, 5, 5, 5, 5, 5, 5, 4, 4, 4, 4, 4, 4, 0, 9, 8, 0, 11, 0, 15, 0, 15, 0, 0, 0, 15, 0, 8, 8, 0, 0, 11, 0, 8, 8, 0, 14, 14, 12, 0, 0, 0, 0, 7, 0, 0, 10, 7, 0, 0, 0, 0, 12, 10, 0, 0, 0, 0, 0, 0, 0, 1, 0, 0, 0, 15, 0, 0, 0, 5, 0, 0, 0, 0, 10, 5, 3, 5, 5, 0, 0, 0, 9, 0, 0, 0, 11, 0, 0, 9, 0, 0, 0, 0, 0, 0, 0, 7, 7, 0, 11, 7, 0, 9, 11, 17, 10, 10, 0, 0, 0, 0, 0, 9, 0, 7, 5, 9, 5, 13, 0, 0, 9, 12, 12, 0, 0, 15, 0, 9, 8, 0, 1, 7, 7, 0, 5, 0, 1, 0, 7, 9, 0, 5, 7, 6, 6, 6, 5, 9, 9, 0, 8, 9, 1, 9, 9, 13, 1, 10, 0, 9, 0, 12, 6, 0, 8, 0, 0, 0, 6, 6, 13, 0, 0, 0, 0, 0, 8, 0, 9, 0, 0, 10, 10, 10, 9, 0, 0, 0, 5, 1, 0, 1, 10, 0, 10, 0, 0, 0, 0, 11, 6, 0, 6, 10, 10, 11, 0, 10, 10, 0, 0, 13, 0, 13, 0, 0, 0, 13, 0, 10, 10, 0, 6, 0, 3, 4, 6, 0, 3, 6, 4, 13, 8, 13, 4, 0, 9, 0, 0, 0, 0, 0, 1, 0, 0, 1, 0, 0, 0, 0, 0, 0, 3, 0, 0, 0, 0, 0, 6, 12, 0, 0, 0, 4, 13, 0, 11, 12, 4, 9, 0, 6, 0, 12, 16, 0, 0, 0, 0, 0, 0, 0, 0, 6, 0, 0, 0, 0, 4, 0, 0, 0, 0, 0, 0, 0, 6, 0, 13, 8, 0, 8, 0, 0, 8, 13, 10, 8, 4, 6, 10, 0, 0, 0, 13, 8, 12, 8, 0, 0, 0, 0, 0, 5, 0, 0, 0, 0, 13, 0, 0, 13, 0, 0, 0, 13, 0, 0, 0, 0, 0, 0, 0, 5, 0, 6, 6, 0, 0, 6, 16, 6, 6, 0, 17, 0, 9, 0, 1, 0, 0, 0, 13, 9, 6, 0, 13, 13, 0, 0, 0, 0, 6, 0, 13, 6, 1, 8, 8, 0, 12, 12, 8, 0, 6, 8, 14, 11, 10, 10, 8, 14, 5, 5, 8, 8, 8, 11, 0, 8, 9, 6, 14, 14, 0, 6, 0, 10, 7, 7, 14, 14, 11, 10, 0, 13, 0, 6, 0, 6, 12, 0, 11, 13, 0, 0, 0, 10, 8, 0, 0, 11, 11, 0, 0, 2, 0, 8, 8, 8, 0, 0, 6, 0, 2, 0, 6, 10, 10, 0, 8, 0, 0, 8, 9, 10, 9, 0, 0, 7, 7, 12, 6, 6, 12, 0, 0, 0, 9, 9, 0, 11, 0, 11, 0, 0, 0, 7, 0, 10, 17, 0, 7, 10, 0, 17, 0, 10, 10, 17, 8, 0, 0, 0, 10, 0, 0, 13, 0, 3, 9, 9, 0, 0, 7, 12, 0, 7, 0, 0, 3, 0, 0, 10, 12, 10, 7, 0, 5, 6, 0, 5, 13, 0, 3, 6, 8, 16, 16, 0, 10, 10, 7, 11, 10, 10, 11, 7, 0, 0, 0, 0, 0, 10, 0, 4, 4, 11, 0, 4, 0, 0, 4, 9, 9, 11, 11, 11, 0, 10, 8, 0, 0, 0, 0, 0, 0, 0, 0, 0, 0, 11, 11, 8, 0, 9, 0, 0, 0, 0, 5, 5, 15, 15, 0, 0, 12, 5, 6, 7, 0, 0, 0, 0, 6, 9, 9, 0, 5, 7, 9, 11, 8, 8, 9, 2, 2, 3, 0, 6, 0, 9, 0, 11, 0, 0, 0, 0, 0, 0, 0, 0, 0, 0, 9, 0, 0, 6, 6, 13, 13, 0, 0, 0, 0, 0, 0, 4, 10, 10, 10, 10, 10, 10, 3, 23, 3, 5, 3, 3, 3, 3, 3, 3, 5, 5, 5, 9, 9, 9, 23, 9, 16, 16, 14, 14, 23, 3, 3, 8, 23, 0, 0, 0, 0, 0, 0, 17, 17, 17, 17, 17, 17, 8, 9, 0, 0, 0, 4, 0, 0, 3, 0, 13, 4, 0, 13, 0, 0, 0, 0, 13, 0, 12, 12, 17, 0, 0, 0, 9, 0, 9, 0, 0, 0, 0, 9, 0, 0, 0, 0, 8, 0, 0, 0, 5, 6, 0, 0, 11, 7, 14, 13, 14, 0, 14, 0, 0, 17, 0, 9, 11, 9, 0, 14, 0, 0, 9, 0, 7, 3, 14, 9, 0, 14, 0, 0, 0, 19, 8, 19, 16, 12, 0, 8, 1, 9, 1, 0, 0, 5, 5, 5, 16, 13, 0, 0, 0, 16, 0, 0, 14, 14, 14, 0, 15, 12, 0, 12, 13, 0, 13, 4, 14, 7, 3, 0, 8, 13, 15, 7, 0, 0, 0, 0, 11, 0, 8, 0, 0, 0, 3, 0, 11, 8, 6, 4, 8, 6, 8, 25, 25, 8, 0, 0, 0, 0, 25, 0, 0, 12, 18, 0, 0, 0, 0, 14, 0, 0, 0, 8, 0, 0, 0, 8, 3, 18, 0, 0, 15, 16, 16, 17, 9, 13, 9, 7, 0, 0, 0, 0, 0, 2, 0, 0, 9, 9, 15, 1, 7, 8, 7, 7, 0, 1, 5, 0, 2, 0, 0, 0, 9, 6, 0, 12, 17, 0, 5, 6, 0, 18, 0, 0, 18, 9, 7, 7, 0, 0, 0, 0, 0, 7, 7, 0, 0, 7, 0, 19, 7, 8, 11, 11, 0, 0, 8, 0, 0, 8, 6, 8, 7, 0, 8, 8, 0, 0, 8, 6, 0, 0, 7, 13, 0, 4, 5, 5, 5, 5, 0, 16, 0, 0, 16, 0, 0, 0, 13, 0, 4, 10, 0, 0, 8, 19, 0, 0, 22, 8, 22, 0, 0, 0, 16, 0, 16, 12, 8, 0, 12, 0, 3, 0, 3, 16, 0, 0, 0, 0, 0, 0, 0, 8, 0, 19, 7, 0, 14, 13, 0, 0, 7, 0, 7, 0, 0, 0, 0, 0, 0, 5, 9, 16, 16, 0, 0, 0, 9, 9, 7, 6, 0, 4, 6, 7, 0, 7, 7, 0, 0, 9, 11, 10, 5, 9, 11, 0, 9, 0, 0, 6, 0, 8, 0, 0, 3, 11, 18, 3, 0, 9, 9, 0, 16, 0, 14, 14, 0, 18, 18, 18, 9, 0, 9, 0, 0, 14, 0, 0, 0, 0, 0, 7, 0, 0, 6, 6, 4, 0, 14, 0, 0, 0, 0, 0, 0, 2, 7, 0, 0, 6, 9, 0, 0, 6, 0, 0, 7, 0, 7, 0, 0, 16, 0, 16, 12, 16, 0, 0, 0, 0, 0, 0, 0, 14, 2, 0, 5, 0, 0, 0, 0, 0, 5, 0, 0, 3, 0, 0, 11, 0, 8, 8, 8, 15, 4, 16, 4, 16, 14, 14, 0, 0, 7, 7, 7, 7, 6, 0, 0, 0, 6, 0, 0, 0, 0, 0, 0, 11, 8, 14, 10, 6, 0, 14, 8, 0, 0, 0, 9, 9, 9, 0, 0, 0, 15, 9, 5, 11, 11, 9, 13, 8, 13, 6, 0, 0, 3, 5, 9, 9, 7, 10, 5, 9, 0, 0, 11, 0, 0, 16, 7, 7, 13, 0, 13, 0, 15, 15, 15, 0, 0, 0, 8, 13, 0, 0, 9, 0, 12, 0, 12, 0, 15, 0, 8, 0, 0, 0, 0, 0, 13, 0, 0, 0, 0, 10, 14, 4, 8, 0, 8, 14, 0, 14, 4, 0, 5, 0, 0, 0, 10, 4, 7, 4, 9, 0, 0, 0, 8, 0, 0, 0, 0, 0, 16, 0, 0, 0, 0, 15, 15, 9, 0, 13, 13, 0, 0, 9, 2, 2, 0, 12, 13, 8, 8, 5, 0, 0, 1, 1, 0, 9, 9, 0, 0, 6, 0, 12, 0, 0, 8, 8, 8, 8, 9, 9, 0, 0, 0, 8, 0, 0, 0, 0, 0, 0, 6, 0, 8, 0, 0, 0, 0, 9, 8, 9, 7, 14, 6, 7, 0, 0, 0, 0, 0, 8, 0, 0, 6, 10, 10, 10, 0, 0, 0, 13, 0, 0, 0, 14, 12, 0, 0, 4, 4, 6, 8, 0, 6, 0, 3, 0, 7, 0, 7, 8, 0, 8, 5, 0, 6, 0, 0, 12, 12, 0, 0, 1, 1, 0, 0, 5, 0, 16, 6, 16, 6, 16, 16, 5, 8, 0, 7, 9, 0, 9, 8, 11, 5, 15, 12, 0, 0, 8, 0, 12, 6, 0, 20, 7, 20, 4, 4, 4, 4, 13, 13, 13, 13, 8, 8, 7, 7, 8, 8, 7, 7, 7, 7, 7, 7, 4, 4, 4, 4, 4, 4, 7, 7, 7, 16, 16, 16, 16, 16, 16, 5, 4, 0, 5, 0, 6, 0, 0, 4, 0, 0, 11, 0, 0, 11, 6, 10, 0, 7, 0, 0, 0, 0, 3, 3, 0, 0, 10, 0, 7, 4, 0, 4, 0, 8, 8, 0, 20, 0, 0, 12, 0, 20, 7, 7, 0, 12, 9, 0, 12, 0, 0, 0, 0, 0, 0, 0, 7, 7, 0, 6, 6, 0, 0, 0, 0, 6, 0, 5, 0, 0, 0, 6, 1, 0, 0, 8, 0, 0, 0, 0, 7, 7, 8, 0, 7, 8, 0, 0, 1, 8, 1, 0, 0, 0, 8, 1, 0, 6, 1, 0, 0, 0, 8, 0, 0, 9, 9, 0, 0, 0, 12, 0, 12, 0, 0, 0, 13, 12, 13, 0, 9, 0, 0, 0, 0, 0, 12, 0, 4, 4, 12, 11, 4, 0, 0, 0, 0, 0, 11, 0, 0, 0, 6, 0, 0, 0, 7, 4, 0, 0, 0, 1, 10, 10, 1, 10, 1, 7, 0, 0, 0, 9, 0, 0, 9, 0, 0, 10, 10, 10, 11, 11, 5, 10, 7, 12, 0, 7, 6, 0, 9, 9, 9, 0, 0, 0, 0, 12, 0, 0, 0, 0, 0, 12, 0, 4, 0, 0, 0, 0, 8, 0, 0, 0, 0, 0, 0, 0, 0, 0, 11, 11, 0, 0, 0, 8, 0, 4, 0, 10, 10, 11, 11, 0, 11, 0, 0, 4, 0, 11, 4, 0, 9, 0, 0, 0, 11, 5, 5, 0, 9, 9, 9, 0, 0, 9, 7, 0, 9, 0, 0, 0, 0, 0, 10, 0, 0, 0, 10, 0, 6, 0, 0, 10, 0, 8, 8, 1, 0, 12, 0, 0, 0, 0, 15, 0, 1, 0, 12, 0, 0, 9, 15, 0, 8, 13, 13, 0, 13, 0, 15, 10, 10, 10, 9, 9, 0, 3, 3, 0, 5, 15, 7, 0, 0, 11, 13, 0, 0, 0, 10, 0, 0, 0, 10, 0, 0, 0, 0, 0, 0, 0, 0, 0, 0, 0, 13, 7, 0, 0, 5, 0, 0, 5, 0, 0, 7, 5, 0, 0, 0, 0, 8, 9, 8, 9, 15, 14, 0, 5, 0, 0, 0, 0, 6, 3, 11, 0, 12, 0, 13, 0, 12, 0, 0, 4, 10, 10, 0, 10, 0, 0, 0, 0, 0, 1, 10, 0, 0, 0, 0, 0, 0, 0, 0, 0, 0, 7, 0, 0, 0, 10, 0, 0, 6, 0, 0, 17, 17, 17, 0, 1, 6, 0, 10, 10, 0, 0, 0, 0, 0, 6, 0, 6, 0, 12, 0, 0, 0, 0, 6, 0, 0, 0, 0, 7, 0, 4, 0, 4, 0, 0, 0, 0, 0, 10, 0, 0, 4, 20, 0, 0, 4, 0, 0, 4, 15, 8, 15, 0, 8, 0, 3, 0, 0, 8, 4, 12, 19, 8, 8, 19, 7, 7, 19, 0, 6, 12, 12, 0, 12, 14, 10, 0, 10, 6, 7, 0, 0, 0, 8, 10, 0, 0, 16, 0, 0, 0, 12, 0, 10, 0, 6, 0, 0, 6, 0, 6, 9, 0, 0, 0, 0, 0, 0, 0, 0, 15, 16, 7, 0, 7, 16, 0, 0, 5, 0, 0, 20, 0, 0, 7, 5, 3, 8, 0, 3, 14, 8, 0, 16, 15, 15, 0, 0, 0, 7, 0, 10, 0, 12, 12, 0, 12, 12, 12, 9, 10, 0, 0, 0, 0, 4, 4, 0, 0, 0, 0, 0, 0, 0, 8, 0, 0, 9, 0, 0, 9, 0, 16, 0, 16, 6, 0, 8, 0, 0, 9, 11, 0, 11, 8, 8, 0, 12, 0, 0, 9, 3, 10, 0, 0, 13, 0, 0, 0, 13, 0, 0, 16, 3, 4, 9, 0, 13, 0, 0, 0, 0, 0, 0, 0, 0, 0, 0, 0, 0, 0, 0, 0, 0, 0, 7, 0, 0, 0, 0, 7, 0, 7, 0, 0, 0, 5, 0, 0, 7, 7, 5, 4, 5, 0, 0, 0, 9, 8, 8, 8, 0, 0, 9, 8, 8, 8, 4, 8, 0, 8, 0, 0, 0, 0, 0, 7, 0, 0, 0, 10, 0, 0, 0, 0, 0, 0, 10, 20, 0, 0, 5, 0, 7, 5, 7, 11, 11, 9, 0, 4, 0, 4, 9, 5, 0, 0, 6, 6, 0, 6, 0, 5, 6, 4, 5, 0, 10, 0, 0, 0, 0, 8, 0, 0, 12, 9, 14, 0, 0, 0, 0, 0, 0, 0, 0, 9, 4, 0, 0, 0, 0, 0, 0, 0, 0, 0, 10, 13, 13, 5, 5, 5, 5, 13, 13, 0, 0, 0, 0, 0, 0, 14, 14, 14, 14, 4, 4, 18, 18, 18, 18, 20, 20, 20, 20, 20, 20, 3, 3, 0, 0, 0, 0, 30, 30, 30, 0, 4, 4, 4, 4, 8, 8, 8, 8, 8, 8, 0, 0, 0, 5, 6, 0, 6, 0, 13, 0, 13, 0, 0, 0, 5, 10, 0, 0, 13, 10, 0, 6, 14, 6, 14, 0, 0, 0, 6, 8, 6, 12, 12, 12, 13, 5, 1, 13, 5, 1, 13, 3, 0, 0, 8, 0, 0, 0, 0, 14, 14, 3, 4, 6, 6, 0, 0, 0, 0, 11, 0, 11, 0, 5, 5, 0, 0, 0, 0, 14, 11, 11, 0, 0, 0, 0, 14, 0, 0, 0, 0, 0, 3, 3, 9, 9, 0, 9, 0, 0, 9, 0, 0, 0, 0, 4, 0, 12, 12, 12, 0, 0, 0, 0, 0, 0, 14, 4, 4, 14, 14, 2, 14, 2, 0, 0, 0, 0, 0, 0, 0, 0, 12, 12, 0, 0, 0, 12, 0, 0, 0, 0, 16, 9, 0, 16, 9, 0, 9, 0, 9, 0, 0, 0, 13, 0, 1, 14, 0, 9, 13, 0, 1, 0, 0, 8, 0, 0, 0, 8, 4, 7, 4, 0, 0, 0, 7, 7, 0, 0, 5, 5, 0, 0, 7, 0, 13, 12, 8, 13, 12, 12, 0, 16, 0, 8, 16, 12, 8, 12, 12, 13, 9, 9, 0, 0, 0, 0, 0, 7, 0, 7, 10, 7, 5, 5, 9, 0, 4, 0, 0, 6, 0, 0, 0, 0, 15, 0, 4, 0, 0, 0, 0, 0, 0, 0, 0, 0, 0, 0, 0, 0, 0, 0, 0, 0, 0, 0, 0, 0, 8, 8, 0, 0, 0, 2, 0, 0, 0, 5, 0, 6, 0, 6, 5, 8, 0, 0, 0, 1, 8, 1, 1, 0, 8, 6, 0, 0, 0, 0, 5, 8, 0, 0, 0, 0, 0, 0, 11, 0, 14, 0, 0, 0, 0, 0, 5, 5, 3, 0, 0, 14, 0, 14, 0, 0, 0, 0, 7, 11, 11, 0, 0, 0, 5, 1, 0, 0, 0, 6, 0, 6, 0, 0, 13, 0, 0, 7, 17, 12, 6, 1, 9, 9, 1, 12, 6, 0, 7, 0, 0, 3, 0, 13, 12, 9, 9, 6, 6, 7, 0, 0, 7, 0, 0, 0, 0, 0, 0, 6, 8, 0, 15, 3, 14, 0, 6, 0, 11, 14, 0, 0, 7, 14, 0, 14, 10, 0, 0, 14, 6, 0, 0, 0, 13, 13, 0, 1, 0, 0, 0, 6, 0, 0, 6, 0, 9, 0, 0, 0, 15, 5, 4, 5, 6, 4, 0, 17, 0, 9, 9, 7, 17, 15, 8, 7, 8, 0, 0, 7, 0, 6, 6, 0, 8, 0, 2, 0, 0, 7, 8, 8, 9, 0, 8, 0, 9, 9, 0, 0, 13, 7, 0, 13, 10, 0, 10, 0, 7, 0, 0, 0, 0, 0, 9, 0, 0, 0, 10, 10, 0, 5, 0, 10, 0, 0, 0, 0, 10, 14, 6, 14, 0, 5, 0, 8, 0, 0, 0, 8, 12, 9, 0, 0, 0, 9, 0, 6, 8, 8, 0, 10, 0, 10, 0, 0, 15, 0, 0, 0, 0, 0, 0, 0, 0, 7, 0, 10, 8, 0, 0, 10, 0, 0, 0, 0, 0, 0, 0, 0, 0, 0, 11, 0, 0, 11, 10, 0, 0, 10, 10, 0, 9, 0, 0, 16, 16, 1, 0, 0, 0, 15, 0, 15, 6, 9, 1, 0, 0, 0, 12, 9, 0, 12, 0, 10, 0, 14, 11, 11, 0, 0, 0, 1, 10, 0, 0, 6, 6, 10, 7, 10, 7, 13, 4, 13, 10, 11, 4, 6, 1, 10, 0, 14, 0, 14, 6, 0, 0, 0, 0, 1, 0, 0, 0, 0, 4, 4, 14, 0, 11, 0, 0, 9, 5, 8, 0, 10, 11, 0, 0, 3, 0, 0, 9, 10, 0, 0, 0, 0, 0, 9, 0, 0, 7, 0, 6, 7, 0, 11, 11, 0, 5, 8, 8, 0, 0, 0, 5, 11, 8, 9, 10, 5, 8, 6, 6, 0, 6, 0, 0, 0, 0, 0, 6, 0, 6, 8, 0, 0, 0, 7, 12, 0, 8, 10, 0, 9, 0, 13, 11, 0, 3, 13, 15, 0, 11, 0, 8, 0, 8, 0, 0, 10, 0, 0, 0, 7, 0, 9, 9, 8, 10, 14, 14, 3, 0, 11, 14, 14, 4, 4, 4, 12, 12, 12, 4, 7, 7, 7, 7, 7, 13, 13, 13, 7, 5, 5, 5, 5, 5, 5, 3, 13, 13, 13, 13, 3, 10, 10, 10, 10, 10, 10, 2, 2, 2, 2, 2, 2, 5, 5, 5, 5, 5, 5, 5, 5, 4, 4, 4, 4, 4, 4, 7, 7, 7, 7, 5, 5, 12, 12, 12, 11, 11, 11, 11, 11, 11, 13, 11, 11, 11, 11, 11, 11, 11, 11, 11, 11, 0, 0, 9, 5, 0, 0, 0, 0, 0, 0, 0, 0, 0, 8, 9, 8, 0, 8, 7, 0, 0, 16, 16, 9, 0, 16, 8, 9, 0, 0, 0, 0, 0, 0, 5, 6, 5, 0, 0, 0, 1, 0, 7, 0, 0, 8, 0, 0, 0, 0, 8, 0, 7, 6, 0, 0, 0, 10, 0, 8, 0, 1, 6, 1, 0, 0, 0, 0, 0, 0, 12, 0, 0, 0, 0, 0, 0, 0, 10, 0, 0, 0, 0, 6, 0, 0, 15, 7, 0, 0, 9, 1, 0, 4, 8, 0, 9, 0, 4, 0, 0, 0, 0, 8, 0, 11, 9, 10, 10, 15, 0, 0, 0, 14, 0, 14, 0, 9, 0, 14, 0, 0, 1, 4, 0, 0, 7, 0, 6, 10, 10, 0, 0, 10, 10, 12, 0, 0, 8, 0, 0, 0, 0, 0, 0, 2, 0, 5, 0, 2, 9, 10, 0, 10, 9, 0, 0, 0, 0, 0, 0, 0, 11, 0, 0, 0, 0, 8, 0, 0, 8, 8, 8, 0, 0, 8, 0, 8, 0, 8, 0, 0, 0, 10, 0, 0, 1, 0, 0, 0, 0, 0, 7, 1, 0, 4, 0, 8, 8, 8, 10, 0, 0, 0, 8, 8, 8, 11, 11, 6, 1, 0, 0, 0, 10, 0, 0, 0, 10, 0, 0, 0, 7, 9, 0, 0, 0, 0, 9, 8, 8, 0, 0, 0, 0, 5, 5, 0, 0, 0, 0, 0, 0, 0, 5, 0, 0, 0, 0, 0, 5, 0, 7, 0, 0, 7, 0, 0, 14, 0, 0, 10, 7, 0, 7, 0, 0, 14, 10, 10, 9, 15, 0, 0, 10, 10, 13, 9, 6, 0, 13, 9, 14, 11, 11, 0, 9, 0, 8, 0, 0, 8, 0, 8, 8, 0, 0, 14, 17, 5, 0, 14, 0, 9, 0, 0, 12, 0, 14, 17, 9, 0, 14, 0, 12, 14, 0, 9, 0, 9, 14, 0, 0, 0, 0, 0, 0, 8, 0, 0, 0, 14, 0, 0, 0, 7, 0, 0, 0, 0, 0, 0, 0, 0, 7, 0, 0, 0, 0, 0, 0, 5, 6, 14, 14, 0, 0, 0, 9, 9, 9, 9, 0, 0, 9, 0, 9, 10, 4, 10, 9, 10, 10, 0, 0, 0, 0, 0, 0, 0, 11, 11, 0, 0, 0, 0, 5, 0, 0, 0, 0, 0, 0, 0, 0, 0, 0, 0, 0, 5, 0, 6, 0, 11, 6, 12, 0, 6, 0, 0, 6, 0, 11, 0, 11, 0, 13, 11, 10, 0, 0, 14, 0, 0, 13, 6, 0, 0, 6, 0, 0, 9, 14, 10, 0, 12, 10, 8, 11, 0, 8, 0, 6, 6, 0, 0, 0, 0, 2, 2, 0, 0, 0, 0, 0, 12, 9, 0, 0, 0, 11, 0, 8, 0, 10, 0, 0, 3, 0, 0, 0, 0, 0, 0, 4, 0, 0, 11, 0, 8, 8, 0, 0, 0, 0, 0, 0, 0, 0, 0, 0, 0, 0, 7, 0, 0, 5, 3, 8, 0, 12, 0, 0, 0, 0, 0, 0, 10, 10, 10, 10, 2, 2, 2, 2, 9, 3, 3, 0, 0, 0, 0, 0, 0, 0, 0, 0, 0, 0, 0, 11, 11, 6, 6, 1, 1, 0, 0, 1, 0, 1, 0, 7, 1, 1, 7, 7, 0, 0, 9, 15, 15, 0, 0, 0, 0, 17, 0, 0, 0, 0, 7, 7, 7, 13, 20, 20, 0, 7, 0, 17, 9, 7, 0, 10, 0, 17, 16, 16, 0, 10, 9, 13, 12, 0, 10, 0, 0, 0, 0, 0, 13, 7, 7, 0, 0, 4, 9, 1, 9, 5, 9, 0, 0, 0, 0, 8, 0, 1, 5, 0, 0, 14, 0, 7, 0, 7, 4, 0, 0, 0, 0, 0, 0, 0, 0, 0, 0, 0, 0, 0, 5, 0, 0, 0, 12, 0, 0, 9, 0, 14, 7, 0, 5, 0, 5, 14, 14, 0, 0, 9, 0, 0, 9, 8, 10, 10, 0, 0, 0, 14, 7, 0, 0, 9, 0, 0, 9, 0, 12, 0, 0, 7, 0, 0, 0, 0, 14, 0, 0, 12, 9, 0, 6, 12, 0, 7, 0, 0, 0, 12, 0, 0, 0, 9, 12, 0, 11, 5, 0, 11, 5, 0, 0, 0, 0, 5, 9, 13, 0, 9, 12, 7, 1, 0, 0, 0, 7, 9, 0, 0, 0, 9, 13, 0, 0, 0, 0, 5, 12, 0, 0, 8, 5, 0, 0, 2, 10, 5, 6, 0, 2, 0, 0, 4, 4, 8, 0, 7, 0, 12, 0, 10, 0, 0, 9, 7, 0, 8, 3, 8, 10, 3, 6, 0, 0, 0, 18, 0, 0, 0, 0, 0, 0, 18, 0, 0, 0, 0, 0, 0, 24, 24, 7, 0, 1, 13, 4, 4, 1, 1, 1, 13, 9, 0, 0, 0, 0, 15, 0, 4, 4, 4, 4, 0, 8, 0, 15, 0, 10, 0, 0, 13, 0, 0, 0, 8, 8, 8, 0, 0, 7, 4, 0, 10, 0, 1, 13, 10, 12, 1, 0, 13, 13, 0, 10, 3, 3, 13, 1, 8, 8, 13, 0, 13, 7, 8, 0, 0, 0, 0, 10, 0, 10, 0, 0, 0, 0, 10, 0, 0, 0, 4, 8, 10, 0, 8, 4, 12, 9, 5, 0, 0, 9, 8, 0, 7, 7, 0, 3, 4, 3, 0, 0, 4, 0, 12, 10, 0, 0, 8, 0, 11, 11, 0, 1, 0, 0, 0, 0, 0, 0, 1, 8, 8, 10, 11, 7, 11, 7, 12, 0, 11, 5, 7, 0, 0, 1, 0, 0, 0, 0, 1, 0, 0, 0, 0, 0, 0, 0, 0, 8, 0, 0, 0, 0, 0, 0, 0, 9, 9, 0, 0, 0, 0, 9, 9, 0, 0, 0, 9, 7, 13, 13, 0, 0, 0, 0, 7, 7, 7, 0, 5, 8, 0, 0, 0, 0, 0, 0, 1, 0, 0, 8, 0, 0, 0, 5, 0, 0, 3, 0, 0, 0, 0, 7, 0, 7, 3, 0, 0, 0, 1, 0, 0, 7, 0, 1, 9, 9, 0, 9, 0, 6, 9, 4, 7, 6, 13, 0, 0, 0, 9, 0, 12, 4, 0, 13, 4, 5, 5, 7, 10, 9, 7, 10, 0, 9, 0, 4, 4, 6, 9, 0, 4, 4, 4, 11, 11, 11, 11, 0, 12, 8, 12, 8, 9, 8, 0, 0, 8, 6, 8, 0, 0, 9, 0, 0, 0, 9, 8, 9, 8, 0, 0, 9, 9, 10, 4, 4, 0, 0, 0, 8, 8, 0, 7, 10, 10, 10, 0, 8, 8, 7, 8, 10, 0, 5, 8, 6, 6, 6, 11, 0, 0, 0, 8, 4, 4, 0, 4, 10, 0, 0, 18, 0, 0, 8, 6, 0, 6, 6, 5, 10, 0, 14, 8, 8, 10, 4, 18, 9, 0, 7, 0, 0, 5, 9, 14, 0, 0, 0, 0, 0, 13, 4, 13, 0, 13, 16, 6, 0, 7, 7, 9, 0, 4, 6, 6, 0, 6, 0, 7, 0, 0, 9, 13, 6, 16, 16, 9, 13, 0, 9, 9, 6, 0, 9, 0, 6, 0, 8, 12, 12, 6, 0, 0, 7, 0, 9, 0, 9, 0, 0, 5, 0, 16, 9, 16, 0, 0, 7, 8, 2, 0, 0, 8, 9, 9, 0, 0, 0, 0, 0, 2, 9, 3, 7, 11, 7, 0, 0, 0, 0, 0, 0, 11, 0, 0, 0, 11, 0, 10, 0, 11, 0, 0, 0, 0, 0, 0, 0, 0, 6, 4, 4, 0, 0, 0, 0, 0, 10, 0, 0, 0, 13, 11, 0, 10, 0, 14, 9, 0, 9, 0, 17, 10, 0, 10, 0, 3, 0, 3, 17, 0, 17, 0, 9, 0, 16, 13, 8, 13, 0, 8, 8, 8, 16, 0, 0, 0, 0, 4, 0, 8, 0, 0, 0, 0, 4, 0, 0, 7, 3, 0, 0, 0, 9, 0, 0, 9, 10, 3, 0, 0, 0, 14, 0, 0, 9, 0, 0, 14, 0, 0, 0, 0, 10, 0, 7, 16, 0, 10, 9, 16, 8, 0, 0, 0, 0, 9, 0, 0, 0, 0, 9, 0, 0, 7, 0, 7, 0, 0, 8, 8, 0, 1, 0, 0, 1, 10, 0, 0, 0, 10, 0, 0, 9, 9, 0, 0, 0, 0, 0, 0, 0, 0, 0, 0, 0, 8, 0, 8, 0, 0, 0, 0, 0, 0, 6, 0, 0, 7, 7, 0, 0, 0, 0, 9, 0, 0, 5, 5, 0, 0, 4, 0, 9, 4, 7, 7, 0, 0, 0, 11, 8, 8, 0, 0, 8, 0, 8, 11, 8, 0, 18, 18, 0, 0, 0, 10, 0, 0, 13, 12, 0, 0, 11, 12, 10, 0, 0, 0, 10, 0, 5, 10, 17, 0, 0, 5, 17, 13, 0, 0, 13, 0, 0, 0, 0, 0, 0, 10, 18, 0, 8, 8, 14, 14, 0, 0, 0, 0, 0, 0, 0, 0, 0, 0, 8, 0, 0, 0, 0, 0, 6, 9, 10, 16, 16, 0, 6, 0, 0, 9, 9, 0, 0, 0, 9, 0, 9, 6, 3, 9, 10, 0, 6, 0, 0, 0, 25, 25, 6, 6, 6, 15, 15, 15, 15, 15, 15, 15, 4, 9, 9, 9, 9, 4, 11, 11, 11, 11, 15, 15, 11, 15, 11, 11, 11, 11, 11, 11, 11, 11, 11, 11, 11, 4, 5, 5, 9, 9, 11, 11, 11, 11, 11, 11, 11, 11, 11, 11, 4, 15, 15, 6, 18, 18, 4, 4, 18, 5, 5, 5, 5, 5, 5, 5, 5, 5, 5, 0, 0, 0, 0, 0, 0, 0, 13, 9, 0, 5, 9, 7, 0, 5, 11, 6, 9, 0, 0, 0, 0, 9, 0, 9, 10, 0, 0, 0, 10, 4, 6, 0, 6, 0, 0, 7, 7, 8, 4, 0, 4, 0, 8, 0, 10, 0, 0, 0, 0, 0, 7, 0, 0, 7, 0, 0, 0, 0, 0, 0, 0, 11, 0, 0, 0, 8, 9, 0, 0, 11, 9, 8, 11, 0, 0, 11, 0, 5, 10, 5, 0, 11, 7, 0, 0, 5, 0, 6, 0, 0, 0, 0, 0, 0, 4, 4, 0, 0, 0, 5, 5, 0, 0, 0, 0, 6, 12, 0, 12, 8, 8, 0, 7, 0, 0, 0, 7, 10, 0, 19, 0, 0, 10, 0, 0, 15, 0, 15, 0, 19, 0, 0, 15, 0, 5, 0, 3, 10, 0, 0, 10, 0, 13, 7, 0, 5, 0, 0, 0, 7, 7, 7, 7, 4, 4, 10, 0, 0, 7, 6, 0, 3, 0, 0, 10, 0, 0, 0, 1, 1, 26, 0, 0, 0, 8, 0, 0, 9, 9, 0, 6, 6, 7, 0, 13, 13, 8, 0, 0, 0, 0, 13, 10, 0, 0, 0, 0, 0, 4, 0, 0, 11, 0, 0, 0, 0, 10, 0, 0, 0, 4, 5, 0, 0, 0, 0, 9, 0, 0, 0, 0, 0, 0, 0, 0, 1, 0, 4, 10, 9, 10, 0, 4, 8, 0, 0, 0, 0, 7, 0, 0, 4, 0, 0, 9, 0, 0, 0, 9, 0, 0, 11, 0, 0, 11, 11, 0, 9, 0, 6, 0, 0, 0, 0, 0, 0, 6, 6, 0, 6, 7, 0, 7, 7, 0, 9, 5, 16, 1, 1, 0, 0, 0, 7, 0, 0, 0, 7, 0, 0, 0, 0, 7, 0, 0, 0, 0, 16, 0, 0, 0, 0, 11, 14, 11, 14, 0, 0, 0, 0, 0, 0, 0, 0, 13, 0, 0, 0, 0, 0, 8, 0, 0, 0, 9, 0, 0, 6, 0, 6, 0, 8, 0, 8, 5, 0, 6, 0, 6, 8, 0, 9, 0, 5, 0, 0, 0, 0, 9, 0, 0, 10, 9, 0, 9, 0, 0, 0, 0, 0, 0, 0, 9, 0, 0, 0, 0, 0, 0, 0, 0, 0, 0, 0, 0, 0, 0, 13, 0, 0, 1, 0, 0, 0, 0, 9, 0, 0, 0, 0, 9, 0, 0, 0, 0, 0, 0, 9, 9, 0, 6, 8, 0, 0, 1, 0, 0, 0, 0, 0, 1, 0, 0, 0, 0, 0, 0, 7, 0, 0, 0, 13, 0, 0, 0, 0, 11, 0, 7, 0, 0, 6, 6, 0, 0, 0, 0, 0, 0, 0, 0, 0, 0, 0, 0, 0, 0, 0, 0, 8, 5, 0, 0, 0, 0, 0, 0, 0, 0, 0, 0, 0, 9, 9, 0, 0, 6, 0, 0, 22, 22, 22, 0, 13, 13, 11, 11, 9, 9, 10, 7, 7, 0, 0, 0, 12, 0, 0, 0, 0, 12, 0, 12, 0, 0, 0, 5, 0, 0, 0, 0, 10, 0, 0, 10, 0, 12, 0, 0, 0, 0, 0, 3, 0, 0, 0, 0, 0, 0, 0, 9, 0, 12, 0, 0, 1, 0, 0, 12, 10, 0, 0, 12, 0, 0, 9, 9, 14, 3, 14, 8, 0, 8, 0, 0, 0, 8, 0, 1, 0, 13, 7, 10, 3, 14, 8, 14, 8, 8, 0, 11, 11, 0, 10, 0, 0, 6, 0, 6, 0, 0, 10, 0, 12, 14, 0, 0, 10, 3, 0, 9, 8, 9, 0, 0, 0, 0, 12, 17, 0, 8, 0, 18, 12, 5, 5, 0, 6, 6, 8, 0, 7, 7, 0, 0, 5, 8, 0, 0, 14, 0, 0, 0, 12, 0, 0, 7, 0, 0, 9, 0, 8, 13, 0, 14, 0, 0, 0, 0, 0, 16, 0, 0, 0, 0, 0, 0, 5, 16, 0, 0, 8, 11, 11, 0, 8, 10, 10, 10, 0, 8, 0, 0, 0, 9, 16, 0, 0, 0, 8, 16, 18, 11, 8, 5, 5, 0, 0, 0, 0, 0, 0, 0, 13, 0, 0, 17, 11, 13, 0, 11, 15, 15, 0, 0, 0, 0, 0, 0, 0, 11, 0, 17, 17, 0, 0, 0, 0, 0, 0, 0, 0, 9, 0, 4, 0, 0, 0, 0, 0, 0, 0, 0, 0, 0, 0, 0, 0, 8, 0, 6, 6, 0, 9, 9, 0, 0, 0, 11, 0, 7, 10, 0, 0, 0, 0, 0, 7, 0, 11, 14, 10, 0, 0, 0, 0, 0, 0, 9, 0, 12, 0, 0, 0, 0, 9, 0, 7, 0, 0, 0, 6, 6, 0, 0, 0, 5, 17, 9, 4, 9, 9, 9, 9, 7, 0, 7, 0, 0, 0, 0, 0, 7, 0, 0, 0, 0, 0, 7, 8, 10, 10, 0, 12, 12, 8, 10, 0, 0, 0, 0, 5, 7, 0, 5, 0, 0, 0, 0, 0, 7, 7, 9, 23, 15, 24, 24, 24, 24, 24, 24, 24, 24, 24, 24, 0, 15, 15, 15, 15, 15, 15, 3, 3, 3, 3, 19, 19, 6, 4, 4, 4, 4, 19, 12, 12, 19, 7, 7, 7, 7, 7, 7, 6, 6, 6, 6, 6, 6, 4, 7, 7, 4, 4, 4, 4, 19, 19, 19, 19, 17, 17, 17, 17, 17, 17, 7, 7, 4, 0, 0, 4, 0, 6, 0, 0, 10, 0, 4, 0, 6, 0, 0, 0, 0, 0, 0, 0, 11, 0, 11, 0, 0, 10, 0, 6, 8, 8, 0, 7, 8, 18, 0, 0, 18, 4, 0, 3, 3, 0, 8, 1, 14, 14, 8, 8, 8, 8, 15, 7, 15, 1, 6, 6, 0, 5, 5, 0, 0, 0, 0, 11, 6, 0, 0, 0, 1, 0, 0, 7, 0, 7, 0, 0, 7, 0, 0, 11, 0, 0, 0, 0, 7, 0, 7, 0, 0, 0, 18, 0, 7, 0, 0, 11, 0, 0, 0, 0, 0, 0, 0, 0, 0, 0, 0, 0, 0, 10, 5, 5, 0, 0, 0, 0, 0, 6, 0, 0, 16, 0, 0, 0, 0, 0, 0, 3, 3, 0, 0, 0, 16, 1, 0, 0, 0, 0, 6, 0, 0, 0, 4, 0, 0, 11, 0, 10, 0, 0, 12, 11, 12, 11, 0, 0, 0, 0, 0, 0, 0, 0, 0, 0, 0, 0, 0, 0, 10, 0, 0, 0, 0, 0, 0, 0, 10, 0, 0, 0, 8, 4, 4, 0, 0, 2, 0, 2, 0, 6, 6, 0, 0, 6, 0, 0, 3, 0, 3, 0, 0, 0, 0, 0, 0, 0, 0, 10, 0, 0, 0, 0, 0, 0, 0, 3, 3, 0, 0, 0, 0, 0, 0, 0, 0, 6, 0, 6, 0, 6, 0, 0, 0, 0, 0, 5, 9, 5, 0, 0, 6, 0, 0, 0, 8, 9, 0, 3, 3, 9, 0, 5, 9, 8, 7, 0, 0, 0, 0, 0, 0, 0, 0, 7, 13, 0, 13, 0, 0, 0, 0, 0, 0, 7, 12, 12, 0, 10, 0, 0, 7, 10, 10, 10, 0, 0, 8, 8, 0, 0, 0, 0, 0, 0, 0, 0, 10, 0, 0, 0, 0, 0, 16, 16, 5, 16, 1, 1, 9, 3, 9, 7, 0, 5, 7, 10, 9, 10, 9, 0, 0, 0, 0, 9, 3, 0, 6, 9, 0, 10, 10, 10, 5, 0, 7, 10, 15, 0, 1, 1, 0, 0, 14, 0, 0, 1, 0, 14, 15, 0, 0, 0, 0, 4, 0, 0, 1, 0, 0, 0, 0, 1, 5, 0, 0, 0, 0, 0, 0, 0, 5, 0, 0, 0, 9, 0, 0, 0, 0, 0, 1, 0, 0, 0, 0, 9, 0, 0, 0, 11, 13, 0, 8, 0, 0, 0, 0, 7, 0, 0, 9, 9, 0, 9, 10, 9, 0, 0, 0, 0, 9, 0, 0, 0, 0, 0, 0, 5, 0, 0, 0, 0, 0, 0, 13, 7, 5, 0, 0, 0, 0, 0, 0, 0, 0, 0, 0, 0, 0, 9, 0, 0, 8, 0, 13, 8, 10, 10, 10, 9, 8, 11, 0, 1, 6, 0, 0, 0, 6, 0, 0, 10, 0, 6, 0, 0, 0, 0, 0, 0, 1, 0, 7, 9, 9, 9, 9, 9, 9, 0, 0, 5, 0, 0, 0, 0, 0, 0, 0, 0, 9, 0, 9, 9, 8, 13, 5, 0, 9, 10, 10, 9, 0, 0, 0, 0, 0, 0, 0, 0, 10, 0, 0, 16, 16, 0, 9, 0, 0, 0, 0, 0, 8, 0, 0, 1, 1, 9, 0, 9, 10, 0, 0, 0, 10, 0, 0, 0, 5, 9, 11, 0, 0, 0, 0, 10, 7, 5, 10, 11, 10, 0, 0, 0, 0, 0, 0, 0, 13, 11, 7, 13, 7, 0, 7, 7, 0, 0, 0, 0, 3, 0, 0, 0, 0, 0, 0, 0, 0, 0, 13, 0, 7, 10, 10, 0, 8, 10, 0, 10, 3, 0, 0, 8, 0, 8, 7, 0, 8, 0, 0, 0, 0, 11, 8, 8, 0, 0, 8, 8, 7, 0, 12, 0, 0, 0, 11, 8, 13, 0, 0, 0, 0, 0, 0, 0, 0, 0, 0, 0, 0, 0, 11, 0, 0, 9, 0, 0, 0, 0, 7, 9, 11, 0, 0, 10, 10, 0, 8, 7, 0, 1, 0, 0, 8, 0, 0, 0, 0, 9, 7, 8, 0, 0, 0, 16, 0, 12, 0, 7, 0, 9, 12, 0, 0, 0, 7, 7, 7, 0, 16, 0, 0, 1, 0, 0, 0, 0, 0, 0, 10, 0, 0, 9, 0, 0, 0, 0, 0, 0, 0, 0, 0, 0, 0, 0, 0, 0, 0, 13, 10, 15, 0, 0, 0, 0, 9, 15, 0, 9, 0, 8, 0, 0, 0, 0, 6, 6, 9, 0, 0, 8, 0, 0, 0, 0, 8, 8, 0, 0, 0, 0, 10, 0, 8, 13, 13, 8, 14, 14, 0, 8, 0, 8, 0, 0, 14, 8, 0, 0, 0, 0, 9, 0, 8, 0, 0, 0, 0, 0, 8, 0, 0, 0, 0, 8, 4, 1, 10, 5, 15, 0, 15, 0, 4, 10, 15, 1, 0, 4, 0, 0, 4, 0, 0, 10, 10, 0, 10, 10, 0, 0, 9, 10, 0, 15, 9, 0, 15, 5, 5, 0, 15, 0, 9, 9, 0, 0, 0, 15, 0, 0, 12, 7, 13, 14, 0, 10, 7, 7, 10, 10, 8, 8, 10, 12, 12, 8, 8, 15, 15, 8, 10, 10, 10, 10, 8, 10, 10, 20, 20, 20, 20, 20, 20, 8, 8, 8, 8, 8, 8, 10, 10, 10, 10, 10, 10, 11, 13, 13, 13, 13, 13, 13, 4, 0, 0, 6, 10, 0, 0, 0, 6, 0, 0, 6, 10, 0, 0, 0, 11, 4, 3, 0, 11, 0, 0, 0, 0, 0, 8, 0, 0, 0, 0, 10, 0, 3, 0, 5, 10, 0, 0, 0, 0, 0, 0, 0, 8, 3, 3, 5, 0, 6, 11, 6, 0, 6, 6, 0, 6, 0, 5, 9, 11, 9, 0, 12, 4, 4, 6, 9, 0, 8, 10, 0, 8, 10, 7, 0, 5, 0, 8, 0, 0, 0, 0, 0, 0, 0, 12, 0, 0, 0, 0, 0, 10, 0, 0, 0, 8, 0, 0, 0, 10, 10, 0, 9, 10, 9, 9, 9, 0, 9, 0, 0, 9, 0, 0, 7, 7, 10, 0, 0, 0, 9, 8, 0, 9, 4, 4, 9, 0, 6, 0, 6, 0, 13, 10, 8, 0, 0, 10, 0, 0, 0, 0, 9, 0, 6, 0, 0, 0, 8, 0, 0, 0, 6, 6, 8, 8, 0, 0, 0, 9, 0, 0, 0, 0, 0, 0, 8, 8, 0, 15, 0, 0, 0, 9, 15, 12, 0, 10, 12, 0, 0, 0, 0, 0, 0, 10, 11, 0, 9, 0, 5, 0, 0, 6, 0, 0, 0, 7, 2, 5, 6, 10, 0, 0, 0, 11, 2, 0, 0, 1, 7, 5, 0, 9, 1, 13, 7, 7, 0, 5, 12, 12, 9, 13, 0, 8, 0, 8, 0, 0, 7, 0, 7, 19, 0, 19, 19, 0, 6, 8, 0, 0, 0, 6, 0, 0, 9, 1, 10, 0, 0, 0, 0, 0, 0, 8, 0, 0, 0, 12, 6, 7, 10, 0, 7, 0, 0, 0, 8, 0, 1, 12, 1, 0, 1, 0, 1, 9, 1, 0, 1, 5, 0, 3, 0, 3, 5, 0, 12, 8, 8, 8, 8, 0, 0, 6, 9, 9, 7, 7, 0, 6, 6, 8, 8, 0, 0, 0, 0, 0, 0, 0, 8, 0, 0, 13, 0, 0, 0, 0, 0, 11, 0, 11, 11, 0, 11, 0, 0, 11, 0, 0, 8, 8, 7, 0, 0, 8, 11, 0, 7, 0, 9, 6, 11, 0, 0, 6, 8, 6, 0, 0, 9, 1, 6, 9, 0, 9, 8, 0, 0, 0, 9, 9, 0, 16, 0, 0, 12, 16, 1, 12, 10, 0, 7, 0, 7, 0, 0, 0, 16, 6, 11, 9, 0, 11, 9, 10, 0, 13, 13, 0, 6, 0, 7, 6, 0, 10, 0, 0, 10, 13, 0, 17, 0, 12, 0, 17, 3, 3, 0, 12, 10, 0, 0, 6, 9, 0, 6, 7, 9, 0, 8, 6, 9, 8, 0, 0, 0, 0, 6, 8, 0, 0, 12, 12, 0, 13, 0, 0, 0, 0, 0, 0, 13, 0, 0, 6, 6, 0, 0, 13, 13, 0, 13, 0, 14, 7, 8, 0, 0, 0, 13, 9, 13, 0, 0, 13, 9, 0, 0, 0, 0, 11, 0, 0, 0, 12, 0, 0, 0, 0, 11, 3, 6, 6, 0, 9, 0, 9, 0, 0, 0, 13, 14, 0, 9, 1, 3, 1, 0, 0, 13, 9, 1, 0, 0, 0, 5, 0, 5, 0, 0, 5, 0, 0, 5, 0, 0, 0, 0, 0, 0, 0, 0, 0, 0, 0, 6, 6, 0, 11, 11, 0, 0, 10, 0, 13, 6, 6, 0, 0, 0, 0, 0, 0, 0, 7, 0, 0, 8, 13, 0, 0, 8, 0, 8, 0, 0, 7, 0, 0, 0, 0, 0, 0, 14, 0, 0, 0, 0, 0, 0, 0, 7, 0, 0, 12, 16, 0, 0, 0, 7, 0, 14, 12, 14, 0, 14, 0, 12, 7, 0, 10, 10, 0, 0, 11, 0, 8, 8, 0, 0, 0, 8, 1, 1, 0, 16, 8, 0, 0, 0, 8, 7, 0, 0, 3, 3, 14, 14, 14, 9, 0, 0, 0, 0, 0, 7, 8, 0, 13, 0, 6, 16, 13, 1, 1, 1, 7, 0, 6, 7, 6, 6, 5, 0, 0, 0, 0, 0, 10, 2, 0, 0, 0, 0, 0, 6, 2, 0, 11, 6, 0, 11, 0, 0, 4, 0, 4, 7, 0, 7, 0, 15, 13, 13, 3, 0, 9, 6, 5, 0, 0, 9, 0, 9, 15, 0, 6, 10, 12, 7, 7, 6, 8, 3, 8, 17, 0, 0, 9, 15, 6, 6, 0, 0, 0, 12, 9, 6, 9, 9, 5, 4, 9, 10, 0, 10, 0, 0, 11, 5, 0, 7, 4, 0, 0, 0, 5, 0, 6, 0, 7, 9, 9, 10, 5, 12, 12, 0, 10, 0, 0, 9, 6, 12, 11, 1, 12, 12, 12, 12, 0, 0, 12, 0, 12, 12, 20, 20, 0, 0, 20, 0, 0, 5, 5, 8, 6, 6, 0, 0, 8, 9, 8, 9, 8, 0, 9, 0, 9, 0, 13, 0, 8, 8, 0, 0, 5, 6, 13, 0, 13, 0, 0, 8, 0, 0, 0, 13, 9, 9, 9, 0, 9, 0, 11, 11, 0, 0, 12, 12, 9, 12, 13, 0, 0, 0, 0, 0, 0, 0, 0, 0, 0, 12, 0, 12, 4, 16, 4, 0, 0, 0, 13, 0, 0, 0, 0, 0, 0, 0, 0, 0, 0, 0, 0, 15, 10, 10, 0, 0, 0, 6, 13, 15, 16, 0, 0, 17, 0, 7, 7, 0, 0, 6, 17, 0, 1, 1, 6, 6, 11, 11, 0, 13, 13, 7, 11, 8, 0, 1, 7, 13, 0, 16, 8, 10, 10, 12, 12, 12, 12, 15, 12, 12, 6, 6, 11, 4, 4, 16, 16, 4, 4, 4, 4, 9, 4, 7, 8, 3, 3, 8, 8, 8, 8, 7, 8, 3, 3, 3, 3, 4, 4, 4, 4, 4, 4, 4, 9, 10, 0, 10, 0, 10, 8, 9, 0, 8, 0, 12, 0, 0, 0, 0, 0, 1, 11, 0, 0, 6, 11, 0, 9, 0, 0, 0, 6, 5, 0, 0, 12, 0, 0, 0, 0, 11, 4, 0, 0, 9, 0, 0, 4, 0, 0, 16, 0, 0, 6, 11, 0, 5, 0, 0, 6, 4, 5, 7, 5, 7, 0, 0, 4, 13, 4, 4, 0, 13, 0, 1, 13, 0, 1, 0, 0, 0, 0, 7, 7, 0, 12, 9, 0, 9, 0, 13, 13, 0, 0, 0, 0, 8, 0, 9, 0, 0, 0, 6, 9, 6, 0, 0, 0, 9, 4, 0, 0, 0, 0, 0, 0, 0, 0, 7, 7, 9, 4, 11, 9, 0, 9, 9, 0, 11, 11, 9, 9, 0, 12, 0, 9, 0, 0, 5, 0, 11, 1, 0, 8, 0, 1, 0, 0, 11, 11, 0, 12, 0, 4, 4, 0, 0, 6, 0, 7, 8, 0, 8, 15, 0, 0, 0, 0, 7, 0, 14, 7, 7, 7, 9, 8, 15, 7, 1, 1, 0, 0, 0, 10, 0, 14, 15, 6, 9, 10, 0, 0, 7, 8, 15, 0, 13, 13, 11, 7, 15, 15, 8, 7, 12, 10, 12, 0, 12, 5, 6, 5, 5, 12, 0, 9, 0, 5, 0, 0, 11, 13, 5, 0, 8, 12, 6, 11, 15, 0, 0, 0, 0, 16, 0, 0, 17, 17, 0, 0, 0, 0, 0, 10, 0, 10, 6, 1, 10, 10, 6, 0, 10, 0, 0, 0, 0, 3, 10, 7, 0, 3, 0, 7, 0, 0, 0, 5, 0, 5, 0, 6, 0, 4, 0, 13, 8, 0, 4, 4, 0, 0, 0, 0, 0, 0, 0, 0, 10, 0, 11, 8, 0, 7, 8, 6, 0, 0, 4, 7, 17, 17, 5, 17, 9, 8, 0, 0, 0, 0, 8, 8, 7, 0, 0, 10, 7, 0, 10, 0, 0, 8, 0, 0, 8, 0, 0, 8, 0, 8, 0, 0, 6, 9, 0, 0, 10, 0, 10, 12, 12, 15, 0, 15, 0, 12, 8, 6, 0, 0, 12, 12, 0, 15, 0, 1, 9, 9, 8, 0, 0, 0, 13, 1, 0, 0, 0, 9, 9, 9, 9, 0, 0, 9, 1, 1, 19, 9, 1, 19, 9, 9, 15, 7, 7, 7, 12, 0, 0, 10, 0, 0, 15, 5, 5, 11, 11, 8, 1, 8, 9, 9, 10, 0, 0, 0, 0, 11, 11, 5, 10, 0, 0, 0, 5, 8, 0, 8, 15, 9, 7, 0, 5, 1, 1, 8, 3, 7, 4, 4, 0, 0, 0, 0, 0, 11, 0, 0, 0, 0, 0, 3, 0, 7, 12, 6, 6, 7, 12, 7, 0, 9, 0, 11, 7, 8, 8, 0, 0, 0, 0, 0, 14, 0, 0, 14, 0, 7, 9, 0, 5, 14, 0, 12, 0, 0, 0, 17, 11, 0, 17, 0, 12, 9, 0, 9, 0, 17, 9, 0, 0, 1, 13, 1, 13, 1, 0, 13, 0, 0, 17, 17, 0, 0, 0, 0, 7, 0, 9, 0, 0, 0, 0, 0, 0, 9, 0, 0, 16, 0, 0, 13, 7, 0, 7, 0, 0, 16, 7, 9, 9, 0, 13, 0, 7, 0, 8, 0, 0, 0, 0, 0, 0, 0, 3, 7, 0, 0, 7, 0, 13, 13, 13, 7, 9, 7, 9, 9, 0, 7, 9, 0, 8, 11, 7, 9, 10, 11, 9, 10, 9, 8, 7, 7, 0, 5, 8, 0, 0, 8, 9, 7, 5, 10, 0, 10, 12, 0, 7, 1, 0, 16, 7, 4, 4, 11, 12, 8, 5, 6, 0, 6, 10, 12, 0, 1, 4, 0, 8, 16, 1, 6, 0, 0, 1, 1, 10, 1, 0, 16, 1, 11, 0, 8, 4, 8, 10, 9, 0, 0, 0, 0, 0, 0, 0, 6, 0, 0, 0, 0, 0, 10, 10, 11, 0, 9, 0, 0, 0, 0, 0, 0, 0, 10, 12, 0, 0, 9, 10, 0, 0, 0, 13, 13, 3, 0, 12, 0, 12, 0, 6, 13, 13, 12, 0, 0, 0, 0, 0, 0, 11, 11, 0, 12, 12, 0, 11, 11, 11, 1, 0, 7, 6, 7, 0, 8, 8, 0, 0, 5, 5, 4, 4, 1, 0, 8, 8, 6, 8, 0, 0, 7, 12, 6, 0, 6, 0, 0, 5, 5, 14, 0, 5, 11, 0, 0, 0, 11, 0, 14, 1, 0, 12, 0, 14, 0, 1, 0, 0, 14, 6, 0, 11, 7, 0, 0, 0, 0, 0, 7, 0, 13, 0, 0, 7, 0, 0, 10, 0, 0, 13, 0, 7, 10, 0, 12, 10, 10, 10, 1, 10, 9, 13, 5, 10, 0, 0, 0, 0, 0, 0, 5, 5, 5, 0, 13, 13, 0, 12, 9, 7, 13, 0, 0, 0, 0, 0, 0, 0, 8, 11, 7, 11, 12, 0, 0, 9, 9, 1, 13, 1, 11, 1, 0, 0, 0, 0, 0, 0, 13, 11, 0, 6, 5, 0, 0, 0, 0, 0, 0, 0, 9, 6, 9, 10, 8, 8, 0, 12, 0, 12, 10, 8, 0, 0, 0, 0, 0, 5, 6, 0, 0, 11, 0, 0, 0, 11, 0, 0, 0, 0, 0, 0, 0, 14, 0, 14, 14, 0, 0, 0, 13, 0, 13, 14, 14, 0, 0, 0, 0, 14, 0, 1, 0, 0, 0, 0, 0, 9, 7, 0, 0, 0, 7, 13, 0, 9, 0, 6, 0, 0, 0, 9, 7, 0, 6, 0, 14, 0, 14, 8, 8, 0, 0, 8, 0, 0, 0, 0, 0, 0, 6, 0, 0, 0, 12, 12, 8, 8, 8, 6, 6, 8, 3, 3, 3, 3, 5, 5, 8, 9, 9, 5, 5, 8, 0, 9, 9, 0, 0, 0, 12, 12, 0, 7, 0, 5, 12, 7, 8, 0, 0, 4, 0, 0, 4, 0, 0, 0, 8, 13, 2, 2, 13, 8, 0, 0, 13, 9, 9, 6, 0, 0, 0, 0, 0, 6, 0, 0, 0, 0, 0, 0, 0, 0, 10, 0, 11, 0, 11, 8, 8, 0, 7, 10, 0, 0, 8, 8, 5, 7, 5, 8, 7, 0, 0, 0, 7, 5, 9, 9, 13, 0, 6, 11, 5, 0, 11, 0, 0, 0, 13, 8, 0, 0, 0, 7, 7, 3, 9, 9, 7, 9, 0, 13, 0, 0, 0, 10, 0, 11, 0, 0, 5, 8, 8, 0, 8, 0, 0, 0, 8, 6, 0, 8, 0, 0, 0, 8, 8, 0, 0, 0, 0, 0, 0, 8, 0, 9, 0, 13, 3, 3, 3, 6, 0, 5, 8, 0, 0, 13, 3, 9, 0, 0, 0, 0, 13, 0, 5, 0, 0, 9, 5, 0, 3, 0, 0, 0, 9, 8, 0, 9, 0, 7, 8, 0, 0, 8, 5, 8, 5, 0, 0, 0, 0, 0, 0, 0, 0, 0, 7, 7, 7, 5, 0, 4, 0, 0, 0, 0, 12, 4, 0, 0, 8, 4, 0, 0, 0, 8, 8, 8, 3, 1, 0, 8, 1, 0, 0, 8, 9, 3, 0, 0, 0, 3, 15, 15, 0, 0, 0, 0, 4, 7, 0, 0, 2, 7, 0, 15, 12, 0, 4, 0, 0, 13, 13, 0, 0, 0, 13, 11, 11, 0, 0, 12, 0, 6, 9, 0, 0, 15, 7, 15, 19, 7, 9, 0, 0, 0, 0, 0, 0, 0, 0, 0, 0, 0, 19, 6, 0, 6, 0, 0, 9, 9, 0, 0, 0, 15, 13, 7, 0, 13, 7, 0, 4, 0, 9, 9, 0, 4, 0, 0, 16, 1, 13, 0, 1, 5, 7, 7, 0, 5, 0, 0, 16, 0, 8, 8, 0, 5, 0, 2, 0, 1, 1, 0, 13, 11, 11, 13, 5, 5, 5, 15, 0, 0, 0, 0, 0, 0, 0, 9, 9, 7, 0, 5, 0, 0, 1, 0, 11, 1, 0, 0, 10, 10, 0, 0, 1, 0, 0, 0, 3, 0, 3, 0, 0, 1, 5, 10, 10, 0, 11, 0, 0, 7, 0, 0, 0, 0, 0, 0, 0, 14, 0, 14, 0, 13, 3, 13, 0, 0, 0, 13, 9, 3, 0, 7, 0, 0, 0, 4, 10, 4, 0, 0, 0, 10, 0, 0, 0, 0, 8, 1, 1, 0, 0, 0, 0, 7, 7, 8, 0, 0, 7, 0, 0, 7, 15, 0, 3, 0, 0, 0, 5, 3, 10, 0, 5, 7, 0, 10, 3, 15, 7, 10, 10, 0, 9, 10, 0, 8, 11, 16, 0, 10, 0, 0, 0, 6, 12, 6, 0, 0, 0, 0, 4, 13, 0, 9, 0, 0, 11, 0, 16, 0, 0, 0, 4, 4, 7, 4, 4, 7, 7, 7, 0, 0, 0, 0, 0, 0, 14, 14, 0, 11, 11, 11, 0, 12, 0, 11, 4, 12, 0, 0, 0, 11, 10, 11, 10, 0, 4, 0, 10, 3, 3, 4, 8, 10, 10, 8, 9, 0, 9, 0, 0, 0, 0, 0, 0, 0, 8, 5, 0, 5, 0, 10, 0, 6, 6, 10, 0, 1, 10, 0, 0, 0, 0, 0, 0, 0, 0, 0, 0, 10, 0, 10, 6, 5, 10, 9, 4, 6, 1, 0, 8, 0, 9, 9, 1, 6, 8, 6, 0, 0, 0, 0, 0, 0, 0, 0, 5, 5, 4, 1, 12, 1, 4, 5, 12, 4, 0, 0, 8, 8, 0, 12, 0, 12, 12, 8, 8, 0, 0, 3, 0, 3, 0, 0, 0, 6, 9, 0, 0, 9, 0, 0, 9, 10, 10, 10, 5, 4, 9, 0, 8, 0, 0, 0, 0, 0, 6, 10, 6, 1, 8, 4, 0, 9, 9, 9, 7, 9, 9, 0, 0, 5, 0, 0, 0, 0, 0, 0, 3, 3, 0, 8, 0, 0, 8, 0, 9, 12, 0, 0, 0, 0, 0, 8, 0, 7, 7, 13, 0, 4, 13, 10, 0, 11, 0, 0, 0, 12, 0, 0, 0, 4, 0, 0, 11, 8, 8, 11, 0, 0, 0, 0, 7, 12, 10, 9, 0, 9, 0, 6, 10, 6, 10, 10, 0, 10, 0, 0, 10, 8, 8, 10, 4, 0, 0, 5, 5, 0, 4, 0, 0, 0, 8, 0, 0, 0, 0, 4, 15, 6, 15, 0, 9, 6, 0, 6, 9, 0, 0, 5, 4, 0, 0, 9, 5, 5, 7, 0, 12, 0, 7, 18, 0, 18, 0, 0, 12, 0, 9, 14, 6, 0, 12, 0, 0, 0, 0, 10, 0, 6, 5, 5, 5, 5, 0, 14, 14, 0, 14, 0, 5, 12, 12, 12, 14, 12, 0, 0, 0, 12, 7, 0, 6, 0, 0, 12, 0, 7, 9, 0, 7, 7, 9, 4, 13, 5, 9, 9, 13, 13, 13, 13, 13, 9, 6, 8, 8, 16, 16, 13, 4, 4, 9, 13, 6, 7, 7, 5, 5, 9, 9, 9, 9, 9, 9, 5, 0, 1, 1, 1, 1, 1, 1, 2, 2, 2, 2, 2, 2, 6, 7, 0, 8, 0, 7, 11, 0, 6, 6, 0, 6, 6, 6, 11, 8, 5, 5, 0, 0, 0, 7, 5, 8, 0, 5, 9, 0, 8, 0, 9, 7, 0, 0, 0, 0, 9, 9, 0, 0, 0, 0, 9, 0, 0, 9, 0, 5, 0, 0, 0, 6, 0, 8, 0, 6, 0, 6, 0, 0, 0, 0, 0, 0, 0, 0, 5, 8, 16, 0, 0, 0, 11, 0, 0, 12, 0, 0, 11, 0, 9, 11, 0, 11, 0, 0, 0, 0, 20, 5, 20, 9, 5, 2, 0, 6, 7, 0, 0, 0, 0, 6, 7, 0, 2, 6, 0, 0, 0, 0, 17, 0, 0, 17, 0, 11, 0, 0, 17, 0, 0, 0, 7, 0, 7, 0, 10, 0, 7, 6, 0, 0, 5, 11, 0, 4, 4, 12, 13, 13, 12, 0, 0, 5, 13, 0, 11, 6, 0, 0, 0, 0, 0, 0, 0, 11, 0, 4, 0, 6, 0, 0, 0, 0, 8, 6, 0, 0, 4, 11, 14, 0, 7, 2, 3, 0, 14, 5, 5, 6, 7, 0, 14, 2, 0, 5, 15, 0, 0, 6, 16, 3, 0, 0, 6, 0, 0, 0, 6, 0, 0, 13, 15, 13, 0, 3, 0, 0, 0, 0, 8, 0, 6, 0, 7, 0, 0, 0, 0, 0, 0, 12, 11, 4, 4, 0, 0, 0, 0, 0, 5, 0, 0, 9, 0, 0, 0, 0, 5, 0, 0, 0, 0, 0, 6, 11, 0, 0, 5, 8, 0, 0, 11, 0, 0, 0, 0, 0, 8, 8, 8, 3, 3, 0, 0, 11, 0, 6, 0, 10, 9, 10, 12, 0, 0, 9, 10, 0, 0, 10, 3, 0, 16, 5, 6, 11, 7, 3, 10, 12, 16, 3, 0, 0, 0, 12, 0, 12, 0, 19, 0, 0, 7, 0, 2, 0, 0, 5, 0, 19, 5, 0, 0, 0, 0, 4, 6, 0, 19, 0, 2, 0, 5, 0, 0, 0, 9, 0, 8, 10, 9, 0, 3, 0, 6, 0, 4, 0, 0, 1, 6, 1, 10, 8, 0, 4, 18, 10, 0, 9, 0, 0, 9, 0, 0, 0, 6, 0, 0, 0, 0, 0, 5, 0, 18, 0, 0, 0, 0, 4, 0, 18, 7, 0, 0, 0, 0, 7, 13, 0, 7, 13, 6, 0, 5, 18, 0, 0, 0, 13, 13, 13, 0, 6, 7, 13, 13, 0, 3, 0, 6, 0, 0, 5, 9, 0, 0, 5, 0, 5, 11, 7, 0, 0, 0, 7, 0, 0, 0, 0, 9, 0, 0, 9, 0, 0, 0, 0, 0, 0, 7, 0, 7, 0, 0, 0, 3, 0, 0, 0, 11, 0, 0, 0, 0, 0, 0, 0, 0, 11, 0, 0, 14, 14, 0, 0, 0, 0, 0, 0, 0, 0, 0, 10, 10, 11, 10, 0, 6, 0, 0, 0, 11, 0, 9, 11, 11, 6, 11, 9, 15, 0, 0, 0, 1, 1, 0, 10, 0, 9, 0, 0, 0, 0, 0, 0, 0, 6, 0, 0, 0, 0, 6, 0, 0, 3, 0, 9, 9, 0, 0, 4, 4, 0, 5, 0, 0, 0, 0, 0, 6, 0, 6, 5, 0, 0, 0, 0, 4, 0, 6, 0, 0, 0, 9, 6, 0, 9, 6, 4, 0, 9, 0, 9, 11, 0, 0, 11, 0, 0, 0, 0, 0, 0, 8, 5, 15, 11, 0, 0, 0, 11, 0, 0, 0, 0, 0, 0, 0, 0, 0, 0, 10, 0, 10, 0, 0, 0, 0, 0, 0, 0, 0, 6, 0, 0, 0, 14, 6, 14, 14, 8, 3, 3, 6, 6, 0, 0, 7, 10, 0, 0, 0, 0, 0, 6, 11, 1, 10, 7, 0, 5, 7, 0, 1, 15, 11, 0, 0, 0, 6, 15, 13, 0, 9, 9, 5, 5, 0, 5, 9, 0, 7, 0, 6, 0, 8, 0, 0, 0, 12, 12, 12, 12, 8, 4, 0, 0, 0, 0, 0, 13, 4, 0, 6, 12, 0, 6, 0, 0, 0, 9, 0, 9, 0, 0, 0, 0, 0, 7, 0, 0, 8, 0, 3, 8, 3, 0, 0, 0, 0, 7, 0, 12, 12, 0, 0, 0, 7, 0, 3, 0, 11, 11, 5, 0, 0, 0, 0, 0, 0, 0, 0, 5, 0, 0, 0, 0, 0, 0, 0, 0, 12, 12, 1, 0, 7, 0, 0, 0, 3, 0, 1, 8, 5, 0, 0, 0, 5, 6, 8, 17, 0, 0, 0, 11, 9, 0, 0, 5, 0, 17, 0, 0, 0, 9, 8, 8, 8, 0, 7, 7, 0, 0, 14, 6, 0, 0, 0, 0, 6, 10, 8, 11, 0, 5, 0, 0, 0, 7, 7, 7, 0, 0, 0, 0, 0, 10, 0, 0, 0, 0, 0, 0, 0, 0, 7, 0, 0, 7, 0, 0, 0, 10, 0, 0, 0, 0, 0, 0, 6, 0, 0, 14, 0, 13, 0, 0, 0, 13, 0, 0, 0, 8, 0, 0, 13, 0, 0, 0, 9, 5, 5, 12, 16, 0, 0, 0, 0, 0, 0, 4, 4, 5, 16, 5, 5, 0, 0, 0, 8, 0, 0, 16, 12, 0, 0, 0, 0, 0, 0, 0, 0, 0, 8, 0, 5, 0, 0, 0, 12, 0, 5, 0, 5, 5, 0, 8, 6, 7, 0, 8, 6, 6, 0, 4, 4, 1, 9, 0, 7, 0, 0, 11, 11, 7, 12, 0, 13, 16, 12, 16, 9, 0, 8, 9, 7, 0, 0, 0, 7, 9, 6, 6, 8, 1, 0, 6, 7, 0, 0, 0, 7, 0, 13, 1, 0, 16, 0, 7, 7, 5, 5, 8, 8, 0, 0, 0, 0, 0, 0, 12, 12, 12, 12, 7, 7, 7, 7, 0, 0, 0, 0, 0, 0, 10, 10, 4, 4, 5, 5, 5, 5, 8, 8, 8, 0, 0, 0, 8, 0, 0, 8, 0, 8, 0, 0, 0, 0, 0, 0, 3, 3, 3, 3, 3, 3, 10, 10, 10, 10, 10, 10, 9, 0, 9, 9, 4, 0, 4, 11, 0, 0, 0, 11, 11, 0, 0, 0, 0, 0, 8, 0, 8, 14, 8, 0, 0, 11, 8, 0, 0, 6, 0, 12, 6, 12, 0, 7, 11, 11, 0, 0, 0, 15, 16, 0, 0, 0, 4, 7, 16, 0, 4, 0, 0, 0, 0, 0, 12, 8, 4, 8, 8, 0, 0, 10, 5, 0, 5, 10, 10, 10, 7, 7, 14, 0, 3, 6, 0, 0, 0, 0, 0, 0, 8, 0, 15, 14, 11, 0, 0, 0, 5, 0, 9, 0, 4, 0, 0, 4, 5, 3, 0, 0, 9, 9, 4, 0, 0, 0, 6, 0, 3, 0, 5, 0, 0, 0, 0, 5, 5, 4, 0, 6, 9, 9, 9, 0, 0, 6, 5, 6, 0, 0, 0, 14, 0, 9, 4, 4, 5, 6, 4, 0, 0, 3, 0, 0, 0, 3, 4, 6, 5, 4, 0, 0, 8, 0, 0, 5, 0, 0, 3, 0, 10, 0, 0, 10, 0, 0, 0, 10, 0, 5, 0, 0, 0, 3, 0, 10, 4, 4, 0, 7, 0, 0, 0, 7, 0, 10, 0, 0, 8, 0, 0, 0, 11, 11, 0, 11, 0, 5, 0, 5, 0, 0, 0, 0, 11, 0, 0, 0, 6, 0, 8, 4, 0, 4, 0, 0, 6, 11, 4, 0, 0, 14, 0, 0, 0, 0, 0, 14, 0, 0, 9, 0, 0, 8, 10, 17, 14, 4, 1, 0, 0, 0, 0, 8, 5, 10, 0, 10, 3, 0, 10, 0, 10, 6, 0, 7, 0, 0, 0, 1, 3, 0, 9, 0, 8, 8, 0, 0, 9, 10, 0, 8, 0, 8, 0, 8, 0, 5, 0, 0, 0, 0, 8, 0, 5, 0, 0, 0, 10, 10, 10, 0, 10, 1, 8, 2, 0, 7, 0, 1, 7, 0, 0, 0, 12, 0, 9, 0, 0, 0, 0, 0, 0, 0, 0, 8, 10, 0, 12, 9, 5, 0, 0, 0, 0, 5, 4, 0, 15, 0, 10, 10, 4, 0, 12, 0, 12, 10, 0, 4, 13, 7, 0, 0, 0, 11, 0, 0, 15, 15, 0, 0, 0, 13, 2, 10, 7, 15, 0, 8, 15, 10, 0, 2, 0, 0, 5, 0, 0, 0, 0, 0, 0, 0, 1, 0, 13, 0, 9, 0, 0, 0, 1, 6, 0, 5, 0, 9, 0, 0, 4, 5, 3, 14, 4, 0, 5, 0, 0, 0, 0, 0, 13, 13, 0, 0, 0, 0, 5, 0, 0, 4, 4, 0, 0, 0, 13, 10, 6, 13, 6, 2, 4, 2, 2, 0, 0, 2, 0, 0, 1, 0, 0, 0, 0, 1, 0, 0, 0, 0, 0, 13, 4, 13, 7, 7, 4, 0, 4, 10, 0, 3, 10, 5, 4, 0, 6, 0, 11, 0, 0, 6, 5, 0, 0, 11, 7, 0, 0, 5, 6, 11, 0, 0, 11, 0, 5, 8, 11, 12, 11, 12, 0, 0, 12, 0, 9, 0, 0, 3, 11, 8, 0, 5, 7, 11, 0, 8, 11, 10, 0, 10, 5, 7, 10, 0, 0, 0, 4, 0, 0, 4, 3, 0, 7, 0, 0, 0, 0, 8, 0, 0, 6, 0, 6, 0, 13, 0, 0, 0, 0, 13, 6, 0, 1, 0, 0, 0, 8, 0, 15, 15, 0, 0, 0, 0, 0, 9, 0, 0, 13, 0, 8, 0, 0, 0, 0, 0, 0, 0, 0, 0, 9, 9, 9, 0, 0, 6, 6, 9, 0, 0, 0, 0, 12, 0, 0, 8, 9, 8, 12, 12, 0, 13, 1, 13, 0, 0, 0, 0, 0, 8, 0, 15, 2, 0, 0, 10, 0, 0, 9, 0, 7, 4, 0, 7, 9, 4, 0, 0, 0, 7, 0, 0, 10, 15, 0, 0, 0, 7, 4, 0, 0, 0, 0, 0, 8, 0, 0, 9, 0, 0, 0, 0, 9, 0, 0, 5, 0, 17, 3, 0, 0, 0, 6, 7, 0, 0, 12, 0, 9, 4, 0, 8, 0, 0, 15, 11, 11, 8, 8, 27, 27, 27, 8, 27, 8, 11, 11, 7, 0, 0, 0, 0, 1, 8, 0, 12, 15, 8, 8, 0, 8, 0, 8, 8, 15, 0, 0, 0, 7, 3, 10, 0, 7, 0, 6, 6, 3, 0, 0, 12, 0, 1, 7, 0, 8, 9, 8, 0, 9, 10, 10, 6, 0, 0, 0, 0, 13, 5, 0, 0, 0, 0, 9, 6, 9, 0, 0, 0, 6, 6, 3, 3, 0, 0, 13, 13, 7, 0, 0, 0, 0, 0, 8, 12, 0, 0, 0, 7, 0, 0, 6, 7, 10, 7, 6, 9, 9, 0, 11, 0, 8, 0, 19, 0, 0, 8, 4, 6, 0, 0, 0, 19, 0, 10, 4, 4, 8, 6, 6, 2, 0, 14, 6, 6, 14, 4, 0, 0, 10, 0, 4, 0, 0, 0, 14, 8, 8, 11, 0, 0, 0, 0, 6, 0, 0, 10, 0, 9, 6, 9, 0, 0, 6, 0, 6, 0, 6, 6, 6, 6, 8, 8, 8, 7, 9, 0, 9, 5, 10, 6, 0, 5, 0, 0, 6, 9, 1, 1, 0, 0, 9, 11, 0, 9, 1, 0, 11, 0, 13, 7, 7, 10, 13, 0, 16, 0, 0, 0, 7, 0, 0, 0, 0, 0, 0, 0, 16, 9, 0, 0, 9, 7, 0, 0, 0, 7, 2, 0, 0, 10, 0, 0, 0, 0, 0, 9, 0, 0, 10, 0, 10, 10, 7, 0, 0, 0, 0, 0, 0, 0, 8, 12, 0, 0, 0, 0, 0, 5, 12, 10, 7, 0, 0, 0, 0, 0, 0, 0, 0, 12, 7, 0, 12, 12, 7, 0, 10, 0, 1, 0, 0, 1, 12, 8, 10, 0, 8, 12, 11, 0, 0, 0, 11, 1, 0, 8, 8, 8, 0, 0, 0, 0, 0, 0, 0, 8, 7, 0, 0, 0, 0, 2, 7, 12, 0, 0, 13, 10, 6, 0, 8, 0, 0, 0, 0, 0, 5, 0, 0, 0, 0, 0, 10, 9, 1, 0, 0, 0, 7, 7, 3, 0, 0, 10, 0, 0, 0, 0, 0, 0, 0, 11, 10, 5, 10, 0, 9, 3, 0, 0, 8, 2, 6, 8, 0, 0, 12, 10, 5, 0, 0, 0, 2, 0, 0, 14, 2, 14, 10, 0, 12, 5, 7, 8, 11, 10, 11, 8, 12, 11, 0, 8, 0, 6, 6, 0, 0, 0, 0, 3, 12, 5, 5, 7, 1, 1, 7, 7, 0, 5, 5, 1, 0, 9, 0, 7, 0, 7, 10, 0, 10, 10, 10, 0, 10, 5, 0, 7, 7, 6, 0, 6, 5, 0, 1, 6, 6, 6, 8, 0, 5, 10, 6, 0, 0, 9, 0, 9, 0, 10, 0, 6, 1, 0, 10, 10, 0, 0, 0, 4, 1, 0, 0, 10, 0, 9, 4, 1, 0, 6, 10, 0, 4, 0, 6, 10, 0, 0, 0, 0, 10, 17, 11, 11, 10, 10, 10, 0, 17, 10, 0, 0, 0, 0, 0, 0, 0, 1, 1, 0, 0, 0, 0, 6, 0, 0, 9, 1, 0, 0, 0, 0, 0, 6, 9, 13, 0, 0, 0, 13, 0, 13, 0, 10, 0, 9, 13, 12, 9, 0, 8, 1, 3, 0, 1, 0, 9, 9, 0, 13, 9, 10, 0, 0, 9, 0, 0, 8, 7, 13, 8, 0, 0, 0, 5, 0, 0, 0, 0, 0, 0, 0, 0, 7, 5, 12, 12, 15, 7, 7, 9, 12, 12, 16, 25, 25, 6, 6, 14, 7, 7, 7, 7, 14, 8, 8, 1, 1, 1, 1, 1, 1, 9, 9, 9, 9, 9, 9, 13, 12, 0, 12, 0, 12, 14, 0, 4, 0, 1, 0, 0, 0, 13, 9, 0, 0, 0, 14, 0, 13, 10, 8, 0, 0, 0, 0, 7, 0, 4, 7, 0, 6, 0, 4, 1, 0, 0, 8, 6, 13, 0, 5, 0, 0, 4, 0, 6, 4, 9, 12, 7, 0, 0, 4, 0, 6, 6, 8, 0, 8, 0, 4, 10, 0, 0, 0, 0, 0, 0, 0, 0, 0, 7, 0, 4, 0, 0, 0, 0, 8, 0, 9, 7, 0, 5, 13, 13, 0, 8, 0, 0, 0, 4, 9, 0, 9, 10, 0, 7, 3, 9, 9, 1, 11, 11, 6, 0, 0, 6, 9, 10, 10, 4, 0, 1, 0, 0, 13, 9, 0, 9, 0, 9, 0, 4, 0, 6, 13, 9, 13, 0, 0, 16, 0, 0, 0, 6, 0, 0, 11, 0, 1, 0, 6, 5, 5, 5, 13, 11, 0, 0, 0, 0, 10, 0, 0, 4, 0, 0, 10, 4, 0, 0, 0, 7, 5, 7, 0, 0, 11, 0, 0, 0, 11, 7, 0, 0, 11, 9, 0, 7, 0, 1, 8, 8, 7, 13, 9, 12, 0, 0, 5, 0, 9, 0, 11, 11, 0, 0, 9, 11, 0, 0, 8, 5, 0, 0, 0, 14, 0, 0, 11, 0, 11, 0, 1, 13, 1, 0, 11, 11, 7, 14, 11, 0, 0, 0, 7, 6, 8, 12, 0, 0, 0, 13, 0, 8, 5, 5, 8, 0, 0, 6, 0, 0, 12, 12, 5, 3, 0, 5, 0, 7, 0, 5, 18, 18, 0, 0, 5, 0, 5, 10, 12, 0, 0, 8, 12, 16, 11, 0, 8, 6, 10, 5, 0, 5, 0, 5, 13, 10, 0, 6, 6, 5, 13, 6, 5, 0, 0, 8, 0, 7, 7, 0, 8, 0, 0, 0, 0, 0, 0, 0, 15, 7, 8, 5, 7, 0, 0, 4, 2, 15, 0, 0, 0, 0, 0, 6, 5, 0, 0, 0, 8, 0, 8, 0, 0, 4, 0, 0, 0, 0, 0, 0, 0, 4, 2, 0, 13, 13, 0, 0, 0, 0, 0, 0, 0, 0, 4, 0, 10, 0, 1, 8, 0, 0, 0, 0, 8, 0, 13, 1, 0, 11, 13, 0, 0, 13, 1, 10, 5, 15, 0, 0, 0, 0, 0, 0, 11, 0, 10, 0, 10, 0, 0, 0, 0, 0, 0, 0, 0, 5, 0, 10, 0, 0, 0, 0, 0, 0, 0, 12, 1, 0, 0, 9, 1, 0, 0, 4, 0, 1, 4, 1, 0, 0, 12, 0, 0, 7, 6, 0, 0, 0, 0, 0, 6, 7, 13, 0, 0, 0, 13, 0, 0, 0, 0, 0, 0, 0, 7, 13, 0, 0, 0, 7, 0, 4, 0, 0, 0, 0, 6, 10, 6, 0, 9, 1, 9, 9, 0, 0, 0, 0, 0, 0, 0, 4, 0, 0, 0, 0, 0, 0, 5, 0, 9, 15, 0, 0, 0, 13, 0, 0, 8, 8, 7, 0, 5, 0, 6, 0, 13, 5, 8, 12, 6, 0, 5, 0, 13, 0, 7, 13, 10, 0, 0, 0, 10, 5, 0, 7, 0, 0, 0, 7, 0, 0, 0, 0, 13, 0, 6, 8, 0, 0, 0, 0, 0, 8, 0, 0, 10, 10, 3, 0, 8, 0, 9, 0, 0, 5, 12, 3, 0, 0, 4, 0, 0, 13, 7, 13, 9, 0, 12, 0, 0, 7, 12, 13, 0, 0, 0, 0, 7, 7, 5, 0, 0, 0, 5, 15, 11, 0, 5, 5, 1, 7, 7, 1, 7, 9, 0, 15, 5, 9, 7, 4, 0, 0, 12, 0, 9, 0, 0, 12, 5, 12, 5, 7, 0, 0, 10, 0, 5, 10, 0, 0, 0, 5, 9, 9, 7, 5, 0, 0, 0, 0, 4, 0, 5, 5, 5, 0, 0, 0, 4, 0, 0, 0, 0, 4, 0, 0, 5, 6, 0, 0, 0, 0, 6, 0, 0, 0, 5, 0, 0, 7, 7, 7, 7, 6, 6, 0, 10, 0, 0, 12, 0, 0, 0, 0, 0, 9, 12, 12, 0, 0, 0, 0, 0, 0, 4, 0, 0, 0, 0, 4, 0, 0, 0, 0, 5, 0, 0, 0, 0, 11, 12, 0, 0, 0, 0, 5, 0, 0, 0, 0, 0, 7, 0, 5, 12, 9, 0, 0, 0, 0, 0, 7, 0, 14, 0, 0, 7, 14, 0, 6, 0, 6, 0, 0, 15, 15, 0, 0, 0, 0, 0, 0, 0, 0, 0, 0, 8, 8, 0, 5, 0, 6, 6, 0, 0, 7, 0, 5, 0, 0, 0, 9, 0, 0, 9, 0, 11, 0, 0, 0, 0, 9, 0, 0, 0, 0, 0, 0, 5, 0, 0, 5, 9, 0, 4, 0, 0, 0, 0, 11, 4, 0, 15, 0, 0, 5, 8, 0, 0, 0, 0, 8, 9, 4, 0, 0, 0, 0, 10, 0, 4, 10, 0, 10, 0, 5, 15, 0, 0, 0, 5, 0, 9, 11, 0, 0, 0, 0, 10, 0, 0, 15, 6, 9, 0, 0, 0, 0, 0, 0, 0, 0, 0, 0, 0, 0, 0, 0, 8, 8, 0, 0, 0, 0, 0, 0, 0, 1, 0, 0, 11, 0, 1, 8, 1, 4, 0, 11, 0, 0, 0, 0, 0, 1, 7, 0, 0, 0, 7, 0, 1, 0, 0, 0, 7, 0, 9, 0, 0, 7, 0, 0, 0, 0, 0, 10, 0, 8, 0, 0, 11, 0, 0, 0, 0, 0, 0, 11, 0, 0, 11, 0, 0, 5, 1, 1, 0, 3, 0, 8, 0, 0, 14, 0, 14, 0, 0, 6, 0, 0, 12, 0, 0, 11, 6, 0, 0, 0, 0, 0, 5, 0, 7, 0, 9, 0, 0, 8, 0, 0, 0, 0, 0, 0, 0, 0, 0, 0, 5, 0, 0, 8, 0, 0, 7, 0, 19, 0, 8, 10, 3, 10, 0, 3, 0, 0, 0, 0, 0, 9, 5, 0, 0, 0, 12, 8, 19, 0, 9, 0, 0, 0, 0, 7, 0, 7, 0, 7, 0, 0, 0, 8, 9, 0, 0, 0, 12, 0, 10, 3, 0, 0, 0, 0, 7, 0, 0, 0, 0, 0, 0, 0, 0, 4, 8, 8, 9, 0, 0, 0, 13, 0, 0, 0, 0, 7, 9, 17, 0, 0, 17, 0, 0, 1, 4, 0, 0, 0, 0, 0, 1, 0, 0, 1, 0, 0, 0, 0, 11, 0, 0, 11, 0, 13, 7, 4, 0, 0, 0, 12, 0, 0, 0, 10, 11, 7, 4, 0, 7, 4, 11, 0, 7, 7, 0, 8, 8, 0, 0, 7, 0, 0, 8, 7, 0, 0, 8, 0, 0, 0, 0, 3, 10, 7, 13, 6, 0, 9, 10, 0, 4, 4, 0, 4, 4, 0, 0, 6, 0, 12, 0, 0, 4, 6, 0, 0, 0, 9, 0, 6, 0, 0, 0, 0, 0, 0, 6, 0, 0, 0, 0, 0, 8, 6, 0, 9, 5, 0, 0, 0, 6, 14, 0, 0, 0, 14, 0, 4, 0, 5, 0, 9, 0, 6, 0, 6, 6, 0, 0, 16, 6, 6, 0, 16, 0, 6, 0, 0, 9, 5, 0, 10, 0, 5, 8, 10, 0, 10, 5, 0, 0, 0, 0, 0, 0, 9, 9, 0, 4, 0, 0, 0, 0, 0, 0, 0, 0, 8, 0, 0, 0, 0, 3, 0, 0, 4, 0, 0, 0, 0, 8, 0, 0, 9, 0, 0, 0, 0, 0, 0, 0, 0, 0, 0, 0, 9, 0, 0, 0, 5, 9, 0, 15, 0, 0, 0, 0, 0, 9, 0, 0, 5, 10, 0, 0, 5, 0, 5, 0, 0, 0, 0, 0, 5, 12, 11, 0, 2, 11, 2, 11, 5, 5, 0, 0, 0, 0, 1, 8, 0, 0, 15, 1, 0, 0, 0, 9, 0, 0, 8, 0, 0, 5, 4, 4, 9, 9, 3, 3, 3, 3, 8, 8, 8, 8, 13, 14, 20, 20, 20, 20, 5, 5, 30, 30, 30, 0, 0, 12, 9, 0, 9, 0, 6, 6, 0, 4, 1, 9, 0, 0, 0, 0, 1, 0, 9, 0, 0, 0, 0, 0, 0, 0, 0, 0, 0, 0, 0, 0, 0, 0, 0, 0, 0, 0, 1, 4, 0, 0, 1, 0, 0, 0, 9, 9, 1, 1, 9, 9, 0, 9, 9, 9, 6, 0, 9, 0, 6, 8, 0, 0, 12, 0, 0, 0, 11, 8, 0, 0, 0, 12, 9, 0, 0, 0, 0, 0, 0, 0, 0, 0, 12, 0, 0, 0, 0, 0, 0, 0, 0, 1, 0, 1, 0, 0, 0, 0, 0, 0, 10, 0, 12, 8, 8, 10, 0, 11, 12, 0, 0, 0, 0, 8, 0, 0, 0, 0, 5, 1, 6, 6, 5, 0, 5, 10, 3, 10, 10, 10, 0, 3, 0, 0, 12, 12, 0, 0, 10, 3, 0, 1, 1, 3, 5, 0, 0, 0, 0, 0, 4, 0, 5, 0, 0, 10, 0, 5, 0, 0, 0, 0, 0, 5, 0, 1, 1, 0, 10, 0, 0, 0, 0, 0, 10, 6, 0, 9, 0, 0, 0, 8, 0, 0, 9, 0, 6, 0, 8, 0, 0, 0, 7, 4, 0, 10, 8, 0, 0, 0, 0, 0, 0, 0, 0, 6, 7, 0, 7, 9, 0, 0, 0, 0, 5, 3, 0, 3, 0, 0, 0, 0, 0, 8, 0, 0, 0, 0, 0, 0, 0, 6, 0, 0, 0, 0, 0, 0, 7, 0, 4, 0, 0, 0, 4, 7, 0, 14, 0, 0, 4, 4, 0, 14, 0, 14, 0, 0, 0, 5, 0, 10, 0, 0, 12, 2, 4, 12, 0, 0, 0, 5, 7, 20, 0, 0, 0, 20, 0, 7, 7, 0, 0, 0, 10, 11, 11, 13, 11, 0, 0, 8, 0, 5, 0, 0, 0, 0, 0, 0, 0, 12, 0, 0, 0, 8, 9, 8, 0, 10, 0, 0, 0, 9, 0, 0, 0, 0, 0, 5, 0, 0, 1, 0, 1, 0, 0, 0, 0, 0, 0, 1, 0, 0, 0, 13, 0, 0, 0, 6, 0, 11, 11, 0, 0, 10, 0, 0, 6, 0, 0, 0, 1, 1, 8, 0, 0, 0, 0, 8, 0, 0, 0, 0, 1, 10, 0, 8, 6, 0, 11, 0, 0, 0, 7, 1, 0, 0, 8, 0, 0, 0, 0, 0, 0, 0, 0, 1, 1, 0, 7, 6, 0, 10, 0, 7, 10, 10, 10, 7, 0, 0, 0, 15, 6, 0, 0, 0, 15, 10, 0, 1, 7, 0, 0, 0, 3, 0, 0, 0, 7, 0, 0, 1, 0, 7, 0, 10, 0, 0, 0, 0, 0, 8, 0, 0, 6, 0, 0, 12, 6, 0, 0, 0, 0, 5, 6, 1, 1, 9, 0, 1, 10, 3, 0, 0, 0, 11, 11, 1, 0, 0, 0, 0, 0, 0, 0, 0, 0, 0, 0, 0, 0, 1, 1, 0, 0, 0, 7, 0, 0, 4, 5, 0, 7, 0, 0, 0, 0, 0, 4, 0, 15, 4, 0, 0, 0, 15, 0, 13, 15, 8, 0, 8, 4, 0, 13, 8, 5, 4, 0, 0, 1, 0, 0, 0, 10, 0, 6, 0, 7, 0, 7, 0, 12, 0, 6, 0, 0, 6, 0, 0, 0, 6, 0, 10, 0, 0, 0, 8, 0, 4, 0, 0, 0, 0, 0, 0, 8, 0, 1, 1, 0, 0, 8, 0, 0, 12, 0, 0, 0, 3, 0, 0, 0, 3, 0, 0, 0, 3, 0, 0, 10, 0, 0, 0, 0, 0, 0, 3, 3, 0, 5, 0, 0, 0, 0, 0, 6, 10, 0, 1, 5, 0, 0, 0, 3, 2, 0, 0, 0, 0, 0, 0, 0, 0, 6, 1, 0, 1, 0, 5, 0, 0, 0, 0, 3, 0, 6, 6, 7, 6, 0, 3, 7, 0, 7, 0, 0, 6, 0, 0, 0, 1, 6, 0, 0, 0, 10, 0, 0, 1, 10, 0, 9, 0, 1, 0, 9, 10, 0, 1, 0, 5, 0, 7, 1, 0, 0, 0, 2, 2, 8, 5, 1, 0, 0, 0, 1, 0, 7, 0, 6, 0, 0, 0, 0, 0, 6, 0, 0, 0, 0, 5, 0, 7, 0, 0, 7, 0, 8, 0, 0, 0, 0, 6, 0, 9, 0, 0, 0, 0, 0, 5, 0, 5, 0, 0, 0, 6, 0, 0, 0, 0, 0, 0, 9, 0, 8, 0, 0, 0, 0, 0, 0, 0, 10, 0, 10, 0, 10, 0, 0, 0, 0, 7, 7, 0, 0, 4, 0, 9, 9, 0, 7, 0, 9, 10, 10, 9, 9, 9, 9, 7, 1, 0, 0, 4, 0, 10, 0, 1, 7, 9, 0, 0, 0, 0, 0, 0, 0, 7, 7, 0, 7, 10, 10, 10, 0, 5, 0, 0, 9, 10, 0, 0, 0, 0, 0, 0, 10, 0, 10, 0, 0, 7, 5, 4, 0, 0, 0, 0, 0, 0, 0, 0, 0, 0, 0, 0, 0, 6, 0, 0, 8, 0, 0, 7, 13, 11, 0, 4, 0, 8, 0, 0, 0, 0, 0, 0, 7, 7, 11, 0, 0, 0, 0, 0, 8, 0, 6, 0, 0, 0, 0, 4, 8, 0, 13, 11, 8, 16, 0, 0, 16, 0, 0, 16, 8, 0, 13, 0, 11, 0, 8, 10, 0, 0, 10, 0, 0, 8, 0, 0, 11, 13, 10, 0, 0, 11, 7, 13, 0, 7, 0, 7, 0, 0, 0, 0, 0, 7, 0, 4, 0, 0, 8, 0, 0, 6, 4, 0, 6, 6, 10, 0, 0, 0, 0, 0, 4, 0, 6, 0, 0, 0, 0, 0, 8, 7, 3, 0, 0, 0, 0, 0, 6, 6, 0, 0, 0, 0, 0, 0, 0, 0, 0, 0, 0, 0, 0, 0, 4, 4, 0, 0, 8, 0, 8, 0, 10, 1, 1, 0, 1, 0, 0, 0, 0, 10, 0, 0, 7, 0, 0, 6, 0, 0, 5, 6, 0, 6, 0, 0, 0, 6, 0, 0, 12, 0, 0, 0, 0, 0, 0, 12, 0, 0, 0, 0, 0, 0, 0, 6, 0, 0, 6, 0, 0, 0, 0, 0, 0, 0, 0, 0, 6, 0, 4, 10, 0, 0, 0, 0, 0, 4, 0, 6, 0, 0, 0, 4, 4, 10, 0, 0, 0, 0, 6, 5, 0, 0, 0, 8, 8, 0, 5, 0, 0, 7, 0, 0, 5, 0, 6, 0, 0, 0, 0, 0, 0, 10, 0, 7, 7, 0, 0, 4, 0, 10, 0, 10, 8, 6, 10, 6, 0, 0, 10, 9, 8, 0, 0, 8, 0, 10, 10, 0, 8, 4, 9, 0, 8, 0, 0, 5, 0, 10, 0, 0, 0, 0, 0, 0, 0, 14, 5, 0, 10, 0, 0, 0, 0, 3, 0, 0, 0, 0, 5, 8, 6, 0, 0, 0, 0, 0, 6, 0, 0, 5, 0, 6, 0, 0, 0, 0, 0, 0, 0, 0, 0, 0, 5, 0, 8, 0, 11, 0, 0, 0, 6, 0, 0, 0, 0, 0, 0, 8, 11, 5, 0, 0, 0, 6, 0, 8, 9, 0, 0, 6, 0, 6, 0, 0, 0, 5, 0, 0, 8, 8, 6, 0, 10, 0, 5, 10, 7, 0, 0, 0, 0, 0, 0, 0, 0, 0, 0, 0, 5, 0, 14, 7, 5, 7, 0, 9, 7, 9, 7, 9, 5, 6, 6, 0, 0, 0, 0, 0, 0, 0, 0, 0, 6, 0, 0, 13, 6, 0, 10, 0, 0, 0, 0, 6, 0, 0, 0, 7, 5, 5, 5, 5, 13, 13, 13, 13, 13, 13, 4, 7, 8, 7, 4, 5, 5, 8, 8, 12, 12, 12, 12, 12, 12, 11, 14, 14, 0, 0, 0, 0, 0, 0, 8, 8, 8, 7, 7, 8, 8, 8, 8, 2, 10, 10, 10, 10, 10, 10, 2, 8, 8, 6, 0, 8, 8, 0, 11, 0, 0, 0, 1, 3, 1, 7, 0, 0, 0, 3, 0, 0, 7, 0, 0, 0, 0, 0, 6, 6, 0, 1, 0, 0, 9, 11, 1, 9, 0, 0, 0, 0, 0, 0, 0, 0, 0, 8, 13, 0, 7, 0, 7, 7, 0, 8, 7, 0, 0, 7, 0, 0, 11, 9, 0, 13, 0, 0, 0, 0, 0, 0, 11, 0, 7, 0, 7, 7, 0, 8, 0, 0, 0, 0, 7, 6, 6, 0, 0, 8, 8, 0, 7, 6, 7, 0, 5, 0, 7, 0, 0, 7, 0, 0, 0, 0, 1, 7, 0, 0, 0, 0, 0, 0, 0, 0, 0, 0, 10, 1, 0, 0, 0, 0, 0, 5, 0, 0, 0, 0, 0, 10, 6, 0, 10, 7, 0, 0, 0, 0, 7, 0, 6, 0, 5, 5, 0, 0, 10, 11, 13, 0, 11, 13, 0, 11, 0, 4, 11, 14, 0, 0, 4, 7, 0, 12, 0, 12, 0, 9, 6, 0, 0, 0, 0, 14, 0, 0, 5, 0, 0, 0, 0, 0, 0, 5, 0, 12, 6, 7, 7, 0, 12, 10, 8, 8, 0, 10, 0, 10, 0, 0, 7, 14, 0, 0, 10, 9, 10, 0, 0, 0, 12, 10, 0, 0, 10, 7, 0, 6, 0, 0, 12, 0, 0, 0, 0, 14, 9, 12, 8, 0, 0, 14, 0, 0, 7, 0, 5, 5, 0, 0, 0, 7, 6, 0, 11, 0, 0, 7, 6, 6, 9, 0, 0, 0, 0, 0, 6, 7, 0, 5, 0, 0, 0, 0, 0, 9, 8, 10, 0, 0, 7, 0, 0, 0, 5, 5, 8, 3, 0, 8, 16, 0, 3, 7, 0, 0, 7, 3, 0, 6, 0, 7, 0, 7, 15, 3, 6, 0, 9, 0, 0, 0, 0, 2, 0, 0, 0, 12, 0, 0, 0, 0, 9]\n"
     ]
    }
   ],
   "source": [
    "import re\n",
    "from collections import Counter\n",
    "\n",
    "# Function to list unique characters in the text\n",
    "def find_unique_characters(text_series):\n",
    "    unique_chars = set()\n",
    "    for text in text_series:\n",
    "        unique_chars.update(text)\n",
    "    return unique_chars\n",
    "\n",
    "# Function to count tokens in the text\n",
    "def count_tokens(text_series):\n",
    "    token_counts = []\n",
    "    for text in text_series:\n",
    "        # Simple tokenization based on spaces\n",
    "        tokens = text.split()\n",
    "        token_counts.append(len(tokens))\n",
    "    return token_counts\n",
    "\n",
    "# Apply functions to your data\n",
    "unique_chars_abstracts = find_unique_characters(results_json['abstract_text'])\n",
    "unique_chars_titles = find_unique_characters(results_json['title_text'])\n",
    "abstract_token_counts = count_tokens(results_json['abstract_text'])\n",
    "title_token_counts = count_tokens(results_json['title_text'])\n",
    "\n",
    "# Print results for inspection\n",
    "print(\"Unique characters in abstracts:\", unique_chars_abstracts)\n",
    "print(\"Unique characters in titles:\", unique_chars_titles)\n",
    "print(\"Token counts in abstracts:\", abstract_token_counts)\n",
    "print(\"Token counts in titles:\", title_token_counts)\n",
    "## too many zero tokens!! "
   ]
  },
  {
   "cell_type": "code",
   "execution_count": 180,
   "id": "e5225845",
   "metadata": {},
   "outputs": [
    {
     "name": "stderr",
     "output_type": "stream",
     "text": [
      "IOPub data rate exceeded.\n",
      "The notebook server will temporarily stop sending output\n",
      "to the client in order to avoid crashing it.\n",
      "To change this limit, set the config variable\n",
      "`--NotebookApp.iopub_data_rate_limit`.\n",
      "\n",
      "Current values:\n",
      "NotebookApp.iopub_data_rate_limit=1000000.0 (bytes/sec)\n",
      "NotebookApp.rate_limit_window=3.0 (secs)\n",
      "\n"
     ]
    }
   ],
   "source": [
    "# Example to check entries with zero tokens\n",
    "zero_token_indices = [i for i, count in enumerate(abstract_token_counts) if count == 0]\n",
    "print(\"Entries with zero tokens:\")\n",
    "for index in zero_token_indices:\n",
    "    print(index, results_json['abstract_text'].iloc[index])\n",
    "\n",
    "# Example to check entries with very high token counts\n",
    "high_token_indices = [i for i, count in enumerate(abstract_token_counts) if count > 200]  # arbitrary threshold\n",
    "print(\"\\nEntries with high tokens:\")\n",
    "for index in high_token_indices:\n",
    "    print(index, results_json['abstract_text'].iloc[index])\n"
   ]
  },
  {
   "cell_type": "code",
   "execution_count": 181,
   "id": "01e6cc2d",
   "metadata": {},
   "outputs": [
    {
     "name": "stdout",
     "output_type": "stream",
     "text": [
      "Sampled entries with zero tokens:\n",
      "10033 \n",
      "2628 \n",
      "27993 \n",
      "17855 \n",
      "17241 \n",
      "\n",
      "Sampled entries with high tokens:\n",
      "29664 the present disclosure pertains to the technical field of photovoltaics and provides a back contact solar cell assembly the assembly comprises at least one cell string comprising multiple back contact solar cells and multiple conductive wires first electrodes each of the first electrodes comprising a first busbar and a first finger and second electrodes each of the second electrodes comprising a second busbar and a second finger the conductive wires comprise a first portion and a second portion the first portion is used to electrically connect the first busbar of a first back contact solar cell and the second portion is used to electrically connect the second busbar of an adjacent second back contact solar cell the first portion is provided with at least one deformation buffer structure on the non light receiving surface of the first back contact solar cell and in the direction of arrangement of the second finger the minimum distance from the projection of the deformation buffer structure to the second finger is greater than or equal to mm the region within mm to the projection of the deformation buffer structure is specifically used to prevent a short circuit and significantly reduces potential short circuit issues resulting from providing the deformation buffer structure\n",
      "13989 the utility model relates to the technical field of display devices and discloses a rotary display rack based on solar energy which comprises a base wherein the outer side of the top of the base is fixedly connected with the bottom of a center seat a motor is arranged at the bottom in the center seat the bottom of the motor is in threaded connection with the upper surface of the base the output end of the motor is fixedly connected with the bottom end of an extension shaft and the top end of the extension shaft penetrates through the center seat and is fixedly connected with the middle of a support this rotatory exhibition frame based on solar energy through the guide effect of guide way to the guide post to and the pivot can drive the show shelf and produce the deflection in the sleeve pipe make this rotatory exhibition frame based on solar energy can change show shelf surface standing groove internal fixations orientation make the better acceptance illumination of solar cell panel and can look over four groups show shelf fixed surfaces of show shelf showpiece under the unmovable condition of viewer improved show shelf exhibition and the convenience of being looked over\n",
      "29169 the utility model relates to a g basic station technical field just discloses a multi functional g basic station antenna house including the antenna house the lower terminal surface both sides fixed mounting of antenna house has the link logical groove has been seted up to the lower terminal surface of antenna house the vent has been seted up on the left side the back and the right side of antenna house there is the cover door in the front of antenna house through hinge movable mounting the inboard of cover door is convenient for be provided with waterproof banding install the lock on the cover door this multi functional g basic station antenna house changes solar energy into electric energy storage through four solar panel on the weather shield and advances the battery in and the rethread battery supplies power for the radiator and the environmental protection is durable more reduces energy consumption prevents through the weather shield that is big than the antenna house width that the rainwater from passing through air exit and vent entering antenna house in the radiator forms the convection current with vent entering air upwards discharges the steam that produces in the antenna house from the grid reinforcing radiating effect\n",
      "29921 the utility model discloses a power station is with equipment overhaul device that ascends a height including double ladder body and universal wheel has the advantages that the utility model discloses a double ladder body the push rod universal wheel and handle when carrying out double ladder body transport can put the double ladder body make universal wheel and ground contact and simultaneously open double ladder body to the connecting rod is in a straight line can fix double ladder body angle can stimulate the handle and rotate out the push rod can promote the double ladder body through promoting the handle and remove the trouble of the anti human character ladder body of shoulder has been saved and simultaneously the universal wheel is located double ladder body side do not influence the stability that the double ladder body stood up and simultaneously the height of double ladder body when having reduced to carry out the focus of carrying out has been reduced be convenient for through shorter door opening in addition after the push rod rotates out the pole groove the handle highly satisfies staff and erects to carry out it is more convenient to carry out very big has made things convenient for the removal staffs physical power has been saved\n",
      "28971 the utility model discloses a portable solar illuminating lamp which comprises a box body wherein the top of the box body is movably connected with a box cover a first lamp post and a second lamp post which are hinged together are arranged in the box body in parallel the first lamp post comprises an outer tube and a center post the outer tube is hinged with the inner wall of the box body the center post is arranged in the outer tube in a retractable manner and the outer side of the center post is provided with a first lamp body the second lamp post comprises a connecting post and a sleeve the sleeve is sleeved in the connecting post and is in sliding connection with the connecting post a second lamp body is arranged on the outer side of the sleeve and the bottom end of the connecting post is hinged with the top end of the central post energy storage units are arranged in the central column and the connecting column and electrically connected with the corresponding first lamp body or the second lamp body the utility model discloses rational in infrastructure small convenient to carry pulls out first lamp body through extending structure adjusts the height of second lamp body as required to and the angle of first lamp body or second lamp body convenient to use user uses\n"
     ]
    }
   ],
   "source": [
    "import numpy as np\n",
    "## SAMPLING THE DATA\n",
    "# Sample up to 5 entries with zero tokens\n",
    "sampled_zero_token_indices = np.random.choice(zero_token_indices, size=min(5, len(zero_token_indices)), replace=False)\n",
    "print(\"Sampled entries with zero tokens:\")\n",
    "for index in sampled_zero_token_indices:\n",
    "    print(index, results_json['abstract_text'].iloc[index])\n",
    "\n",
    "# Sample up to 5 entries with very high token counts\n",
    "sampled_high_token_indices = np.random.choice(high_token_indices, size=min(5, len(high_token_indices)), replace=False)\n",
    "print(\"\\nSampled entries with high tokens:\")\n",
    "for index in sampled_high_token_indices:\n",
    "    print(index, results_json['abstract_text'].iloc[index])\n"
   ]
  },
  {
   "cell_type": "code",
   "execution_count": 182,
   "id": "b75cf0c3",
   "metadata": {},
   "outputs": [
    {
     "name": "stdout",
     "output_type": "stream",
     "text": [
      "Entries have been written to files: zero_tokens_entries.txt and high_tokens_entries.txt\n"
     ]
    }
   ],
   "source": [
    "#WRITING TO A FILE TO INSPECT\n",
    "\n",
    "# Writing entries with zero tokens to a file\n",
    "with open('zero_tokens_entries.txt', 'w') as file:\n",
    "    for index in zero_token_indices:\n",
    "        file.write(f\"{index}: {results_json['abstract_text'].iloc[index]}\\n\")\n",
    "\n",
    "# Writing entries with very high token counts to a file\n",
    "with open('high_tokens_entries.txt', 'w') as file:\n",
    "    for index in high_token_indices:\n",
    "        file.write(f\"{index}: {results_json['abstract_text'].iloc[index]}\\n\")\n",
    "\n",
    "print(\"Entries have been written to files: zero_tokens_entries.txt and high_tokens_entries.txt\")\n"
   ]
  },
  {
   "cell_type": "code",
   "execution_count": null,
   "id": "787bdec3",
   "metadata": {},
   "outputs": [],
   "source": []
  },
  {
   "cell_type": "code",
   "execution_count": null,
   "id": "762395b9",
   "metadata": {},
   "outputs": [],
   "source": []
  },
  {
   "cell_type": "markdown",
   "id": "5d54be10",
   "metadata": {},
   "source": [
    "#### Handle duplicates - don't run yet \n"
   ]
  },
  {
   "cell_type": "markdown",
   "id": "bb8c6af6",
   "metadata": {},
   "source": [
    "We decided to handle duplicates after convertion of columns (for easier process and to avoid overwriting the code)"
   ]
  },
  {
   "cell_type": "code",
   "execution_count": null,
   "id": "ed43831c",
   "metadata": {},
   "outputs": [],
   "source": [
    "# Display the first few rows to ensure duplicates have been removed\n",
    "print(results_json.head())\n",
    "\n",
    "# Check for any remaining duplicates\n",
    "print(f\"Remaining duplicates: {results_json.duplicated().sum()}\")\n"
   ]
  },
  {
   "cell_type": "code",
   "execution_count": null,
   "id": "1ea164f3",
   "metadata": {},
   "outputs": [],
   "source": [
    "#Drop duplicates JSON\n",
    "# Convert list columns to strings\n",
    "for col in results_json.columns:\n",
    "    if isinstance(results_json[col].iloc[0], list):  # Check if the first cell contains a list\n",
    "        results_json[col] = results_json[col].apply(lambda x: json.dumps(x))\n"
   ]
  },
  {
   "cell_type": "code",
   "execution_count": null,
   "id": "1e310d34",
   "metadata": {},
   "outputs": [],
   "source": [
    "# Ensure all entries in 'inventor' are stringified JSON\n",
    "results_json['inventor'] = results_json['inventor'].apply(\n",
    "    lambda x: json.dumps(x) if isinstance(x, list) else '[]' if x is None else x\n",
    ")\n",
    "\n",
    "# Verify the conversion once more\n",
    "print(\"After conversion:\")\n",
    "for col in results_json.columns:\n",
    "    print(f\"{col} type:\", type(results_json[col].iloc[0]))\n",
    "\n",
    "# Now try to find duplicates again\n",
    "duplicates = results_json.duplicated()\n",
    "print(f\"There are {duplicates.sum()} duplicate rows.\")\n"
   ]
  },
  {
   "cell_type": "code",
   "execution_count": null,
   "id": "418e5e2f",
   "metadata": {},
   "outputs": [],
   "source": [
    "\n",
    "# Now you can drop duplicates\n",
    "#results_json.drop_duplicates(inplace=True)"
   ]
  },
  {
   "cell_type": "markdown",
   "id": "62679cf3",
   "metadata": {},
   "source": [
    "## CSV PROCESSING"
   ]
  },
  {
   "cell_type": "markdown",
   "id": "6f5ad489",
   "metadata": {},
   "source": [
    "#### CT_Evaluation cleaning"
   ]
  },
  {
   "cell_type": "code",
   "execution_count": 186,
   "id": "f998aae1",
   "metadata": {},
   "outputs": [
    {
     "name": "stdout",
     "output_type": "stream",
     "text": [
      "First few rows:\n",
      "   example_id  question_id                                           question  \\\n",
      "0           1            1  What is the innovation behind Leclanché's new ...   \n",
      "1           2            2       What is the EU’s Green Deal Industrial Plan?   \n",
      "2           3            2       What is the EU’s Green Deal Industrial Plan?   \n",
      "3           4            3  What are the four focus areas of the EU's Gree...   \n",
      "4           5            4  When did the cooperation between GM and Honda ...   \n",
      "\n",
      "                                      relevant_chunk  \\\n",
      "0  Leclanché said it has developed an environment...   \n",
      "1  The Green Deal Industrial Plan is a bid by the...   \n",
      "2  The European counterpart to the US Inflation R...   \n",
      "3  The new plan is fundamentally focused on four ...   \n",
      "4  What caught our eye was a new hookup between G...   \n",
      "\n",
      "                                         article_url  \n",
      "0  https://www.sgvoice.net/strategy/technology/23...  \n",
      "1  https://www.sgvoice.net/policy/25396/eu-seeks-...  \n",
      "2  https://www.pv-magazine.com/2023/02/02/europea...  \n",
      "3  https://www.sgvoice.net/policy/25396/eu-seeks-...  \n",
      "4  https://cleantechnica.com/2023/05/08/general-m...  \n"
     ]
    }
   ],
   "source": [
    "#Look into data frame already uploaded at the beginning of the notebook\n",
    "\n",
    "print(\"First few rows:\")\n",
    "print(ct_evaluation.head())\n"
   ]
  },
  {
   "cell_type": "code",
   "execution_count": null,
   "id": "dd490d42",
   "metadata": {},
   "outputs": [],
   "source": []
  },
  {
   "cell_type": "code",
   "execution_count": 188,
   "id": "510f992b",
   "metadata": {},
   "outputs": [
    {
     "name": "stdout",
     "output_type": "stream",
     "text": [
      "Missing values in each column:\n",
      "example_id        0\n",
      "question_id       0\n",
      "question          0\n",
      "relevant_chunk    0\n",
      "article_url       0\n",
      "dtype: int64\n"
     ]
    }
   ],
   "source": [
    "# Check for missing values in each column\n",
    "missing_data = ct_evaluation.isnull().sum()\n",
    "print(\"Missing values in each column:\")\n",
    "print(missing_data)\n",
    "# No missing data, which simplyify our cleaning steps"
   ]
  },
  {
   "cell_type": "code",
   "execution_count": 196,
   "id": "4074fc00",
   "metadata": {},
   "outputs": [
    {
     "name": "stdout",
     "output_type": "stream",
     "text": [
      "Summary for ct_evaluation:\n",
      "                         type  unique_values  missing_values   0.0  0.25  \\\n",
      "article_url            object           21.0               0   NaN   NaN   \n",
      "chunk_length            int64           22.0               0  17.0  28.5   \n",
      "example_id              int64           23.0               0   1.0   6.5   \n",
      "question               object           21.0               0   NaN   NaN   \n",
      "question_id             int64           21.0               0   1.0   5.5   \n",
      "question_length         int64           12.0               0   4.0   9.0   \n",
      "question_tokens        object            NaN               0   NaN   NaN   \n",
      "relevant_chunk         object           23.0               0   NaN   NaN   \n",
      "relevant_chunk_tokens  object            NaN               0   NaN   NaN   \n",
      "\n",
      "                        0.5  0.75    1.0  range   iqr  \n",
      "article_url             NaN   NaN    NaN    NaN   NaN  \n",
      "chunk_length           40.0  61.5  109.0   92.0  33.0  \n",
      "example_id             12.0  17.5   23.0   22.0  11.0  \n",
      "question                NaN   NaN    NaN    NaN   NaN  \n",
      "question_id            11.0  16.5   21.0   20.0  11.0  \n",
      "question_length        10.0  13.5   21.0   17.0   4.5  \n",
      "question_tokens         NaN   NaN    NaN    NaN   NaN  \n",
      "relevant_chunk          NaN   NaN    NaN    NaN   NaN  \n",
      "relevant_chunk_tokens   NaN   NaN    NaN    NaN   NaN  \n"
     ]
    }
   ],
   "source": [
    "import pandas as pd\n",
    "\n",
    "def generate_summary(df):\n",
    "    # Identify non-hashable columns (e.g., columns with lists)\n",
    "    non_hashable_columns = [col for col in df.columns if isinstance(df[col].dropna().iloc[0], list)]\n",
    "    \n",
    "    # Exclude non-hashable columns from the nunique calculation\n",
    "    hashable_columns = df.drop(columns=non_hashable_columns)\n",
    "    \n",
    "    # Essentials: type, unique values, missing values\n",
    "    summary = pd.DataFrame({\n",
    "        'type': df.dtypes,\n",
    "        'unique_values': hashable_columns.nunique(),\n",
    "        'missing_values': df.isnull().sum()\n",
    "    })\n",
    "    \n",
    "    # Quantile statistics for numeric columns only\n",
    "    numeric_cols = df.select_dtypes(include='number')\n",
    "    quantiles = numeric_cols.quantile([0, 0.25, 0.5, 0.75, 1]).transpose()\n",
    "    \n",
    "    # Add quantile stats to the summary\n",
    "    summary_stats = pd.concat([summary, quantiles], axis=1, sort=False)\n",
    "    \n",
    "    # Compute range and interquartile range (IQR)\n",
    "    if not numeric_cols.empty:  # Only calculate if there are numeric columns\n",
    "        summary_stats['range'] = summary_stats[1.0] - summary_stats[0.0]\n",
    "        summary_stats['iqr'] = summary_stats[0.75] - summary_stats[0.25]\n",
    "    \n",
    "    return summary_stats\n",
    "\n",
    "# Apply the summary function to your datasets\n",
    "ct_evaluation_summary = generate_summary(ct_evaluation)\n",
    "# ct_media_summary = generate_summary(ct_media) # Uncomment and replace with your actual DataFrame name\n",
    "\n",
    "# Display the summaries\n",
    "print(\"Summary for ct_evaluation:\")\n",
    "print(ct_evaluation_summary)\n"
   ]
  },
  {
   "cell_type": "code",
   "execution_count": 189,
   "id": "5e034948",
   "metadata": {},
   "outputs": [
    {
     "name": "stdout",
     "output_type": "stream",
     "text": [
      "Unique characters in 'question' column:\n",
      "[' ', '\"', \"'\", ',', '-', '0', '1', '2', '3', '5', '?', 'A', 'C', 'D', 'E', 'G', 'H', 'I', 'L', 'M', 'P', 'S', 'U', 'W', 'Z', 'a', 'b', 'c', 'd', 'e', 'f', 'g', 'h', 'i', 'l', 'm', 'n', 'o', 'p', 'q', 'r', 's', 't', 'u', 'v', 'w', 'y', 'é', '’']\n",
      "\n",
      "Unique characters in 'relevant_chunk' column:\n",
      "[' ', '&', \"'\", '(', ')', ',', '-', '.', '0', '1', '2', '3', '4', '5', '8', '9', ':', 'A', 'B', 'C', 'D', 'E', 'F', 'G', 'H', 'I', 'J', 'K', 'L', 'M', 'N', 'O', 'P', 'Q', 'R', 'S', 'T', 'U', 'V', 'W', 'Z', '[', ']', 'a', 'b', 'c', 'd', 'e', 'f', 'g', 'h', 'i', 'j', 'k', 'l', 'm', 'n', 'o', 'p', 'q', 'r', 's', 't', 'u', 'v', 'w', 'x', 'y', 'z', 'é', '–', '’', '“', '”']\n"
     ]
    }
   ],
   "source": [
    "# Look into unique characters to indentify which ones to remove\n",
    "# Create sets to hold unique characters\n",
    "unique_chars_question = set()\n",
    "unique_chars_chunk = set()\n",
    "\n",
    "# Update sets with characters from each row\n",
    "for question, chunk in zip(ct_evaluation['question'], ct_evaluation['relevant_chunk']):\n",
    "    unique_chars_question.update(question)\n",
    "    unique_chars_chunk.update(chunk)\n",
    "\n",
    "# Print the unique characters\n",
    "print(\"Unique characters in 'question' column:\")\n",
    "print(sorted(unique_chars_question))\n",
    "print(\"\\nUnique characters in 'relevant_chunk' column:\")\n",
    "print(sorted(unique_chars_chunk))"
   ]
  },
  {
   "cell_type": "code",
   "execution_count": 190,
   "id": "8c2f4574",
   "metadata": {},
   "outputs": [
    {
     "name": "stdout",
     "output_type": "stream",
     "text": [
      "Standardized 'question' column:\n",
      "0    what is the innovation behind leclanche's new ...\n",
      "1          what is the eus green deal industrial plan?\n",
      "2          what is the eus green deal industrial plan?\n",
      "3    what are the four focus areas of the eu's gree...\n",
      "4    when did the cooperation between gm and honda ...\n",
      "Name: question, dtype: object\n",
      "\n",
      "Standardized 'relevant_chunk' column:\n",
      "0    leclanche said it has developed an environment...\n",
      "1    the green deal industrial plan is a bid by the...\n",
      "2    the european counterpart to the us inflation r...\n",
      "3    the new plan is fundamentally focused on four ...\n",
      "4    what caught our eye was a new hookup between g...\n",
      "Name: relevant_chunk, dtype: object\n"
     ]
    }
   ],
   "source": [
    "import unicodedata\n",
    "\n",
    "def standardize_text(text):\n",
    "    # Normalize and convert to lowercase\n",
    "    text = unicodedata.normalize('NFKD', text).encode('ascii', 'ignore').decode('utf-8').lower()\n",
    "    \n",
    "    # Replace special apostrophes and quotation marks\n",
    "    text = text.replace('’', \"'\").replace('“', '\"').replace('”', '\"')\n",
    "    \n",
    "    # Standardize dashes\n",
    "    text = text.replace('–', '-')  # Replace en-dash with hyphen\n",
    "    \n",
    "    return text\n",
    "\n",
    "# Apply the cleaning function to both 'question' and 'relevant_chunk' columns\n",
    "ct_evaluation['question'] = ct_evaluation['question'].apply(standardize_text)\n",
    "ct_evaluation['relevant_chunk'] = ct_evaluation['relevant_chunk'].apply(standardize_text)\n",
    "\n",
    "# Display the cleaned text to confirm changes\n",
    "print(\"Standardized 'question' column:\")\n",
    "print(ct_evaluation['question'].head())\n",
    "print(\"\\nStandardized 'relevant_chunk' column:\")\n",
    "print(ct_evaluation['relevant_chunk'].head())"
   ]
  },
  {
   "cell_type": "code",
   "execution_count": 192,
   "id": "6b197d7b",
   "metadata": {},
   "outputs": [
    {
     "name": "stdout",
     "output_type": "stream",
     "text": [
      "Tokenized 'question' column with lengths:\n",
      "14 tokens: ['what', 'is', 'the', 'innovation', 'behind', 'leclanche', \"'s\", 'new', 'method', 'to', 'produce', 'lithium-ion', 'batteries', '?']\n",
      "9 tokens: ['what', 'is', 'the', 'eus', 'green', 'deal', 'industrial', 'plan', '?']\n",
      "9 tokens: ['what', 'is', 'the', 'eus', 'green', 'deal', 'industrial', 'plan', '?']\n",
      "15 tokens: ['what', 'are', 'the', 'four', 'focus', 'areas', 'of', 'the', 'eu', \"'s\", 'green', 'deal', 'industrial', 'plan', '?']\n",
      "14 tokens: ['when', 'did', 'the', 'cooperation', 'between', 'gm', 'and', 'honda', 'on', 'fuel', 'cell', 'vehicles', 'start', '?']\n",
      "\n",
      "Tokenized 'relevant_chunk' column with lengths:\n",
      "44 tokens: ['leclanche', 'said', 'it', 'has', 'developed', 'an', 'environmentally', 'friendly', 'way', 'to', 'produce', 'lithium-ion', '(', 'li-ion', ')', 'batteries', '.', 'it', 'has', 'replaced', 'highly', 'toxic', 'organic', 'solvents', ',', 'commonly', 'used', 'in', 'the', 'production', 'process', ',', 'with', 'a', 'water-based', 'process', 'to', 'make', 'nickel-manganese-cobalt-aluminium', 'cathodes', '(', 'nmca', ')', '.']\n",
      "50 tokens: ['the', 'green', 'deal', 'industrial', 'plan', 'is', 'a', 'bid', 'by', 'the', 'eu', 'to', 'make', 'its', 'net', 'zero', 'industry', 'more', 'competitive', 'and', 'to', 'accelerate', 'its', 'transition', 'to', 'net', 'zero', '.', 'it', 'intends', 'to', 'support', 'the', 'expansion', 'of', 'european', 'manufacturing', 'of', 'technologies', ',', 'goods', 'and', 'services', 'needed', 'to', 'achieve', 'its', 'climate', 'targets', '.']\n",
      "40 tokens: ['the', 'european', 'counterpart', 'to', 'the', 'us', 'inflation', 'reduction', 'act', '(', 'ira', ')', 'aims', 'to', 'create', 'an', 'environment', 'that', 'is', 'conducive', 'to', 'increasing', 'the', 'european', 'union', \"'s\", 'manufacturing', 'capacity', 'of', 'net-zero', 'technologies', ',', 'to', 'improve', 'the', 'competitiveness', 'of', 'european', 'industry', '.']\n",
      "51 tokens: ['the', 'new', 'plan', 'is', 'fundamentally', 'focused', 'on', 'four', 'areas', ',', 'or', 'pillars', ':', 'the', 'regulatory', 'environment', ',', 'access', 'to', 'finance', ',', 'enhancing', 'skills', ',', 'and', 'improving', 'supply', 'chain', 'resilience', '.', 'it', 'also', 'builds', 'on', 'other', 'initiatives', ',', 'such', 'as', 'repowereu', ',', 'as', 'well', 'as', 'the', 'strength', 'of', 'the', 'single', 'market', '.']\n",
      "64 tokens: ['what', 'caught', 'our', 'eye', 'was', 'a', 'new', 'hookup', 'between', 'gm', 'and', 'honda', '.', 'honda', 'was', 'also', 'hammering', 'away', 'at', 'the', 'challenge', 'of', 'introducing', 'fuel', 'cell', 'vehicles', 'to', 'the', 'us', 'market', '.', 'the', 'collaboration', 'launched', 'in', 'july', 'of', '2013', ',', 'providing', 'for', 'the', 'two', 'companies', 'to', 'share', 'the', 'combined', 'total', 'of', '1,200', 'fuel', 'cell', 'patents', 'they', 'compiled', 'in', 'the', 'years', 'leading', 'up', 'to', '2012', '.']\n"
     ]
    },
    {
     "name": "stderr",
     "output_type": "stream",
     "text": [
      "[nltk_data] Downloading package punkt to\n",
      "[nltk_data]     C:\\Users\\maaru\\AppData\\Roaming\\nltk_data...\n",
      "[nltk_data]   Package punkt is already up-to-date!\n"
     ]
    }
   ],
   "source": [
    "import re\n",
    "from nltk.tokenize import word_tokenize\n",
    "import nltk\n",
    "\n",
    "# Ensure you've downloaded the necessary NLTK resource\n",
    "nltk.download('punkt')\n",
    "\n",
    "# Define the tokenization function using NLTK\n",
    "def tokenize_text_nltk(text):\n",
    "    tokens = word_tokenize(text)\n",
    "    return tokens, len(tokens)\n",
    "\n",
    "# Apply the tokenization function to the 'question' and 'relevant_chunk' columns\n",
    "ct_evaluation['question_tokens'], ct_evaluation['question_length'] = zip(*ct_evaluation['question'].apply(tokenize_text_nltk))\n",
    "ct_evaluation['relevant_chunk_tokens'], ct_evaluation['chunk_length'] = zip(*ct_evaluation['relevant_chunk'].apply(tokenize_text_nltk))\n",
    "\n",
    "# Display the first few tokenized entries and their lengths to confirm\n",
    "print(\"Tokenized 'question' column with lengths:\")\n",
    "for tokens, length in zip(ct_evaluation['question_tokens'].head(), ct_evaluation['question_length'].head()):\n",
    "    print(f\"{length} tokens: {tokens}\")\n",
    "\n",
    "print(\"\\nTokenized 'relevant_chunk' column with lengths:\")\n",
    "for tokens, length in zip(ct_evaluation['relevant_chunk_tokens'].head(), ct_evaluation['chunk_length'].head()):\n",
    "    print(f\"{length} tokens: {tokens}\")\n"
   ]
  },
  {
   "cell_type": "code",
   "execution_count": 193,
   "id": "58286d3a",
   "metadata": {},
   "outputs": [
    {
     "name": "stdout",
     "output_type": "stream",
     "text": [
      "dtype                                                        object\n",
      "nunique                                                          21\n",
      "count                                                            23\n",
      "nunique                                                          21\n",
      "unique            [https://www.sgvoice.net/strategy/technology/2...\n",
      "missing_values                                                    0\n",
      "Name: article_url, dtype: object\n"
     ]
    }
   ],
   "source": [
    "### URL cleaning\n",
    "\n",
    "# Summary of the article_url column\n",
    "url_summary = ct_evaluation['article_url'].agg(['dtype', 'nunique', 'count', pd.Series.nunique, pd.Series.unique])\n",
    "\n",
    "# Check for missing values\n",
    "url_summary['missing_values'] = ct_evaluation['article_url'].isnull().sum()\n",
    "\n",
    "# Display the summary\n",
    "print(url_summary)\n"
   ]
  },
  {
   "cell_type": "code",
   "execution_count": 197,
   "id": "caecced6",
   "metadata": {},
   "outputs": [
    {
     "name": "stdout",
     "output_type": "stream",
     "text": [
      "                                          article_url  \\\n",
      "0   https://www.sgvoice.net/strategy/technology/23...   \n",
      "1   https://www.sgvoice.net/policy/25396/eu-seeks-...   \n",
      "2   https://www.pv-magazine.com/2023/02/02/europea...   \n",
      "3   https://www.sgvoice.net/policy/25396/eu-seeks-...   \n",
      "4   https://cleantechnica.com/2023/05/08/general-m...   \n",
      "5   https://solarindustrymag.com/scout-and-colgate...   \n",
      "6   https://cleantechnica.com/2023/01/02/the-wait-...   \n",
      "7   https://cleantechnica.com/2023/05/15/what-does...   \n",
      "8   https://cleantechnica.com/2023/05/15/mississip...   \n",
      "9   https://cleantechnica.com/2023/05/18/solar-pan...   \n",
      "10  https://www.azocleantech.com/news.aspx?newsID=...   \n",
      "11  https://www.azocleantech.com/news.aspx?newsID=...   \n",
      "12  https://www.azocleantech.com/news.aspx?newsID=...   \n",
      "13  https://www.azocleantech.com/news.aspx?newsID=...   \n",
      "14  https://www.azocleantech.com/news.aspx?newsID=...   \n",
      "15  https://www.thinkgeoenergy.com/japan-and-icela...   \n",
      "16  https://www.thinkgeoenergy.com/seequent-expand...   \n",
      "17  https://www.pv-magazine.com/2023/03/31/new-sof...   \n",
      "18  https://cleantechnica.com/2022/12/18/agrivolta...   \n",
      "19  https://www.pv-magazine.com/2023/04/08/high-ti...   \n",
      "20  https://www.pv-magazine.com/2023/04/08/high-ti...   \n",
      "21  https://cleantechnica.com/2023/04/10/solar-pow...   \n",
      "22  https://www.pv-magazine.com/2021/01/15/germani...   \n",
      "\n",
      "                                  cleaned_article_url                  domain  \n",
      "0   https://www.sgvoice.net/strategy/technology/23...         www.sgvoice.net  \n",
      "1   https://www.sgvoice.net/policy/25396/eu-seeks-...         www.sgvoice.net  \n",
      "2   https://www.pv-magazine.com/2023/02/02/europea...     www.pv-magazine.com  \n",
      "3   https://www.sgvoice.net/policy/25396/eu-seeks-...         www.sgvoice.net  \n",
      "4   https://cleantechnica.com/2023/05/08/general-m...       cleantechnica.com  \n",
      "5   https://solarindustrymag.com/scout-and-colgate...    solarindustrymag.com  \n",
      "6   https://cleantechnica.com/2023/01/02/the-wait-...       cleantechnica.com  \n",
      "7   https://cleantechnica.com/2023/05/15/what-does...       cleantechnica.com  \n",
      "8   https://cleantechnica.com/2023/05/15/mississip...       cleantechnica.com  \n",
      "9   https://cleantechnica.com/2023/05/18/solar-pan...       cleantechnica.com  \n",
      "10             https://www.azocleantech.com/news.aspx    www.azocleantech.com  \n",
      "11             https://www.azocleantech.com/news.aspx    www.azocleantech.com  \n",
      "12             https://www.azocleantech.com/news.aspx    www.azocleantech.com  \n",
      "13             https://www.azocleantech.com/news.aspx    www.azocleantech.com  \n",
      "14             https://www.azocleantech.com/news.aspx    www.azocleantech.com  \n",
      "15  https://www.thinkgeoenergy.com/japan-and-icela...  www.thinkgeoenergy.com  \n",
      "16  https://www.thinkgeoenergy.com/seequent-expand...  www.thinkgeoenergy.com  \n",
      "17  https://www.pv-magazine.com/2023/03/31/new-sof...     www.pv-magazine.com  \n",
      "18  https://cleantechnica.com/2022/12/18/agrivolta...       cleantechnica.com  \n",
      "19  https://www.pv-magazine.com/2023/04/08/high-ti...     www.pv-magazine.com  \n",
      "20  https://www.pv-magazine.com/2023/04/08/high-ti...     www.pv-magazine.com  \n",
      "21  https://cleantechnica.com/2023/04/10/solar-pow...       cleantechnica.com  \n",
      "22  https://www.pv-magazine.com/2021/01/15/germani...     www.pv-magazine.com  \n"
     ]
    }
   ],
   "source": [
    "import pandas as pd\n",
    "from urllib.parse import urlparse, urlunparse\n",
    "\n",
    "def clean_url(url):\n",
    "    # Parse the URL\n",
    "    parsed_url = urlparse(url.lower())\n",
    "    # Reconstruct without query and fragment\n",
    "    cleaned_url = urlunparse((parsed_url.scheme, parsed_url.netloc, parsed_url.path, '', '', ''))\n",
    "    return cleaned_url\n",
    "\n",
    "def extract_domain(url):\n",
    "    # Parse the URL and extract the domain\n",
    "    domain = urlparse(url.lower()).netloc\n",
    "    return domain\n",
    "\n",
    "# Apply cleaning to the article_url column\n",
    "ct_evaluation['cleaned_article_url'] = ct_evaluation['article_url'].apply(clean_url)\n",
    "ct_evaluation['domain'] = ct_evaluation['article_url'].apply(extract_domain)\n",
    "\n",
    "# Display the cleaned URLs and domains\n",
    "print(ct_evaluation[['article_url', 'cleaned_article_url', 'domain']])"
   ]
  },
  {
   "cell_type": "markdown",
   "id": "1e9f947c",
   "metadata": {},
   "source": [
    "#### CT_Media Cleaning"
   ]
  },
  {
   "cell_type": "code",
   "execution_count": 187,
   "id": "000f98a7",
   "metadata": {},
   "outputs": [
    {
     "name": "stdout",
     "output_type": "stream",
     "text": [
      "First few rows:\n",
      "   Unnamed: 0                                              title        date  \\\n",
      "0        1280  Qatar to Slash Emissions as LNG Expansion Adva...  2021-01-13   \n",
      "1        1281               India Launches Its First 700 MW PHWR  2021-01-15   \n",
      "2        1283              New Chapter for US-China Energy Trade  2021-01-20   \n",
      "3        1284  Japan: Slow Restarts Cast Doubt on 2030 Energy...  2021-01-22   \n",
      "4        1285     NYC Pension Funds to Divest Fossil Fuel Shares  2021-01-25   \n",
      "\n",
      "  author                                            content       domain  \\\n",
      "0    NaN  [\"Qatar Petroleum ( QP) is targeting aggressiv...  energyintel   \n",
      "1    NaN  [\"• Nuclear Power Corp. of India Ltd. ( NPCIL)...  energyintel   \n",
      "2    NaN  [\"New US President Joe Biden took office this ...  energyintel   \n",
      "3    NaN  [\"The slow pace of Japanese reactor restarts c...  energyintel   \n",
      "4    NaN  [\"Two of New York City's largest pension funds...  energyintel   \n",
      "\n",
      "                                                 url  \n",
      "0  https://www.energyintel.com/0000017b-a7dc-de4c...  \n",
      "1  https://www.energyintel.com/0000017b-a7dc-de4c...  \n",
      "2  https://www.energyintel.com/0000017b-a7dc-de4c...  \n",
      "3  https://www.energyintel.com/0000017b-a7dc-de4c...  \n",
      "4  https://www.energyintel.com/0000017b-a7dc-de4c...  \n"
     ]
    }
   ],
   "source": [
    "print(\"First few rows:\")\n",
    "print(ct_media.head())\n"
   ]
  },
  {
   "cell_type": "code",
   "execution_count": 194,
   "id": "3d3c24d4",
   "metadata": {},
   "outputs": [
    {
     "name": "stdout",
     "output_type": "stream",
     "text": [
      "\n",
      "Summary for ct_media:\n",
      "              type  unique_values  missing_values     0.0     0.25      0.5  \\\n",
      "Unnamed: 0   int64           9593               0  1280.0  17156.0  45991.0   \n",
      "title       object           9569               0     NaN      NaN      NaN   \n",
      "date        object            967               0     NaN      NaN      NaN   \n",
      "author      object              7            9562     NaN      NaN      NaN   \n",
      "content     object           9588               0     NaN      NaN      NaN   \n",
      "domain      object             19               0     NaN      NaN      NaN   \n",
      "url         object           9593               0     NaN      NaN      NaN   \n",
      "\n",
      "               0.75      1.0    range      iqr  \n",
      "Unnamed: 0  79250.0  81816.0  80536.0  62094.0  \n",
      "title           NaN      NaN      NaN      NaN  \n",
      "date            NaN      NaN      NaN      NaN  \n",
      "author          NaN      NaN      NaN      NaN  \n",
      "content         NaN      NaN      NaN      NaN  \n",
      "domain          NaN      NaN      NaN      NaN  \n",
      "url             NaN      NaN      NaN      NaN  \n"
     ]
    }
   ],
   "source": [
    "import pandas as pd\n",
    "\n",
    "def generate_summary(df):\n",
    "    # Essentials: type, unique values, missing values\n",
    "    summary = pd.DataFrame({\n",
    "        'type': df.dtypes,\n",
    "        'unique_values': df.nunique(),\n",
    "        'missing_values': df.isnull().sum()\n",
    "    })\n",
    "    \n",
    "    # Quantile statistics for numeric columns only\n",
    "    numeric_cols = df.select_dtypes(include='number')\n",
    "    quantiles = numeric_cols.quantile([0, 0.25, 0.5, 0.75, 1]).transpose()\n",
    "    \n",
    "    # Add quantile stats to the summary\n",
    "    summary_stats = pd.concat([summary, quantiles], axis=1)\n",
    "    \n",
    "    # Compute range and interquartile range (IQR)\n",
    "    summary_stats['range'] = summary_stats[1.0] - summary_stats[0.0]\n",
    "    summary_stats['iqr'] = summary_stats[0.75] - summary_stats[0.25]\n",
    "    \n",
    "    return summary_stats\n",
    "\n",
    "# Apply the summary function to both datasets\n",
    "ct_media_summary = generate_summary(ct_media)\n",
    "\n",
    "# Display the summaries\n",
    "print(\"\\nSummary for ct_media:\")\n",
    "print(ct_media_summary)"
   ]
  },
  {
   "cell_type": "code",
   "execution_count": 199,
   "id": "b7e16320",
   "metadata": {},
   "outputs": [
    {
     "name": "stdout",
     "output_type": "stream",
     "text": [
      "Earliest date: 2021-01-01 00:00:00\n",
      "Latest date: 2023-12-05 00:00:00\n",
      "Date frequencies:\n",
      " 2021-01-01    3\n",
      "2021-01-02    1\n",
      "2021-01-03    2\n",
      "2021-01-04    5\n",
      "2021-01-05    8\n",
      "Name: date, dtype: int64\n"
     ]
    }
   ],
   "source": [
    "# Handle date, look into consistency and earlies and latest date\n",
    "# Check the earliest and latest dates\n",
    "print(\"Earliest date:\", ct_media['date'].min())\n",
    "print(\"Latest date:\", ct_media['date'].max())\n",
    "\n",
    "# Check the frequency of each date to identify any unusual patterns\n",
    "date_counts = ct_media['date'].value_counts().sort_index()\n",
    "print(\"Date frequencies:\\n\", date_counts.head())"
   ]
  },
  {
   "cell_type": "code",
   "execution_count": 203,
   "id": "94157d5e",
   "metadata": {},
   "outputs": [
    {
     "name": "stdout",
     "output_type": "stream",
     "text": [
      "Unique characters in 'title': {'ü', 'ç', 'L', ')', 'U', 'í', '9', 'ä', 'u', 'ú', 'C', 'a', 'N', '™', 'P', 'b', '₂', 's', 'l', '⅓', '@', 'y', '&', '%', 'R', '‘', 'Z', '5', '×', '!', '+', 'J', 'H', \"'\", 'á', 'W', 'q', '°', '1', 'o', 'x', '[', '?', '6', 'g', 'Ø', 'É', ';', 'ö', '=', 'D', '/', ']', 'f', ' ', 'B', 'p', 'm', 'M', 'ë', 'E', 'e', 'k', 'T', '½', '2', '€', '’', 'ø', 'Q', '“', '–', '>', 'I', 'F', 'â', '\\u200b', '0', '3', 'w', 'é', '4', 'j', '(', '£', 'i', '…', '-', '.', '®', 'à', '7', '”', '⅙', '#', '`', 'h', ':', 'Ö', 'X', 'v', 'A', 'V', ',', '*', 'n', 'c', 'å', 'K', 'ó', '—', 'O', 'd', 'ē', '$', '~', 'S', 'z', 'Y', 'r', 'G', '8', 't'}\n",
      "Unique characters in 'content': {'ç', 'ï', '开', '🎉', 'ż', '9', 'ª', 'C', 'வ', 'æ', 'a', 'Ü', 'l', '⋅', 'Ł', 'ū', 'Í', '😳', 'м', '‑', 'ு', 'Ç', '🛢', 'Z', '🎄', 'ê', '×', 'ɑ', 'ù', 'H', 'χ', '}', 'Т', '‰', 'W', 'q', 'О', '🚀', 'р', '👏', '😍', '©', '，', 'x', '[', '6', 'й', '😀', 'Ø', 'с', '·', ']', '회', 'Æ', 'д', '👇', 'M', '\"', '毛', 'ы', '℃', 'k', '🇸', 'Ć', '斯', 'ل', '“', 'த', '–', '―', 'I', 'â', 'є', 'Þ', '️', '´', '4', 'а', 'j', '🏛', '£', '»', 'i', 'ம', '☹', 'С', 'h', 'ч', 'Č', '^', '«', '😬', 'ł', 'γ', 'A', 'V', '🚨', '🏽', '🏴', 'å', '—', '≥', '🏭', 'd', 'к', 'ð', 'ب', '🇬', 'ü', '🇪', '¡', 'ź', 'п', 'ت', '～', 'Г', '🚗', 'ī', 'о', 'ã', '◦', 'P', 'b', '₂', 'ி', 'х', '●', '─', 'ř', '화', 'е', 'R', '\\\\', '‘', '😢', 'J', '💀', 'л', 'ை', \"'\", 'ă', 'ю', '🇧', 'ف', 'á', '‚', '{', '′', '⁰', '1', 'ā', 'ϕ', 'g', ';', '℉', '/', 'ô', '±', 'П', 'я', 'î', 'B', 'p', 'Є', 'د', 'δ', '🏠', 'e', 'у', 'Ó', '球', '🚆', 'β', '🇲', 'ல', 'Б', '🌏', 'é', 'ﬁ', 'ß', 'ь', '(', '⃣', '🤔', 'ي', 'č', 'М', '한', '7', '”', '•', '✖', '#', '`', ':', '🌬', 'X', '𓃵', 'ا', 'ள', 'ز', ',', '김', 'K', 'ó', 'O', 'ē', '$', 'Р', 'в', 'S', 'Y', 'ș', 'ோ', '학', 'L', 'Д', 'ä', '🌊', 'з', 'Е', '≤', '́', 'ழ', 's', 'Å', 'Л', '″', '⅓', '💵', '¼', '%', '📸', 'µ', '5', 'º', 'Î', 'η', '!', '+', 'Á', '¹', 'ӧ', 'س', '¥', 'н', '⚡', 'ட', 'o', 'і', '⬇', '=', '🇽', '环', '̶', '🔸', '→', 'f', ' ', '✔', 'அ', '¢', '₹', 'ج', 'ō', '🚐', 'い', 'ì', 'Н', '🇩', 'E', 'š', '🇻', 'ò', '2', '·', '€', '🙂', '’', 'щ', '‒', '迈', '<', '³', 'ñ', 'و', '…', '-', 'è', 'ė', 'Ö', 'μ', 'v', 'ę', '😎', '*', 'Ω', '⅔', 'ன', 'c', 'Ä', 'ண', '🔗', 'б', 'z', 'У', '்', 'G', '선', '☀', 'ح', '„', ')', 'ě', 'أ', 'U', 'ć', 'í', 'ú', 'э', 'u', 'ε', 'З', 'N', '™', '💙', '²', '@', 'y', '&', 'ா', '대', '👀', '👉', '💚', 'ك', '🇳', 'ũ', 'ı', 'и', '°', 'ễ', '雨', 'õ', '🤷', '时', 'Δ', '≈', 'ц', 'В', '?', 'ீ', 'ń', 'ق', 'Š', 'É', 'ö', '|', 'D', '➡', 'ه', '🍃', 'm', '¾', 'ن', 'ë', '🔋', 'T', '‐', 'Ц', '🇨', '½', '五', 'α', 'ص', 'т', 'ø', '🚛', 'Q', '✊', '>', 'F', 'ய', '0', 'Ô', '3', 'உ', 'w', '🙏', 'Ш', 'م', 'ж', '₃', 'ą', 'ப', 'ر', 'È', '−', '.', 'Ñ', 'ž', '˚', '®', 'à', '㎡', '报', '😉', 'ф', 'ொ', 'Э', 'ﬂ', 'г', '🇺', 'ț', 'n', '§', 'ý', '乞', '❌', '∼', '🍇', 'Ś', '~', '형', 'ш', 'ї', 'r', '8', '牛', 't'}\n"
     ]
    }
   ],
   "source": [
    "import pandas as pd\n",
    "\n",
    "def unique_characters(column):\n",
    "    return set(''.join(column))\n",
    "\n",
    "# Load your data (assuming DataFrame is named ct_media)\n",
    "# ct_media = pd.read_csv('path_to_your_file.csv')\n",
    "\n",
    "# Inspect unique characters in the title\n",
    "title_chars = unique_characters(ct_media['title'])\n",
    "print(\"Unique characters in 'title':\", title_chars)\n",
    "\n",
    "# Inspect unique characters in the content\n",
    "content_chars = unique_characters(ct_media['content'])\n",
    "print(\"Unique characters in 'content':\", content_chars)\n"
   ]
  },
  {
   "cell_type": "markdown",
   "id": "dc2f98b7",
   "metadata": {},
   "source": [
    "### Cleaning Title"
   ]
  },
  {
   "cell_type": "code",
   "execution_count": 206,
   "id": "03f05a7f",
   "metadata": {},
   "outputs": [
    {
     "name": "stdout",
     "output_type": "stream",
     "text": [
      "0    qatar to slash emissions as lng expansion adva...\n",
      "1                 india launches its first 700 mw phwr\n",
      "2                new chapter for us-china energy trade\n",
      "3    japan slow restarts cast doubt on 2030 energy ...\n",
      "4       nyc pension funds to divest fossil fuel shares\n",
      "Name: title, dtype: object\n",
      "Unique characters in 'title': {'7', 'q', 'e', 'h', 'k', '9', 'u', '1', 'v', '2', 'o', 'a', 'x', '6', 'n', 'b', 'l', 's', 'g', 'c', 'y', '0', '3', 'd', 'w', '5', '4', 'f', ' ', 'j', 'z', 'r', 'i', 'p', '8', '-', 't', 'm'}\n"
     ]
    }
   ],
   "source": [
    "import unicodedata\n",
    "import re\n",
    "\n",
    "def clean_title(text):\n",
    "    # Normalize unicode characters and convert to lower\n",
    "    text = unicodedata.normalize('NFKD', text).encode('ascii', 'ignore').decode('utf-8').lower()\n",
    "    # Remove special characters\n",
    "    text = re.sub(r'[^\\w\\s-]', '', text)\n",
    "    return text\n",
    "\n",
    "# Apply the cleaning function to the title column\n",
    "ct_media['title'] = ct_media['title'].apply(clean_title)\n",
    "\n",
    "# Display the cleaned titles\n",
    "print(ct_media['title'].head())\n",
    "\n",
    "#examine unique characters again\n",
    "title_chars = unique_characters(ct_media['title'])\n",
    "print(\"Unique characters in 'title':\", title_chars)"
   ]
  },
  {
   "cell_type": "markdown",
   "id": "91c51145",
   "metadata": {},
   "source": [
    "### Cleaning content"
   ]
  },
  {
   "cell_type": "code",
   "execution_count": 208,
   "id": "22f8092f",
   "metadata": {},
   "outputs": [
    {
     "name": "stdout",
     "output_type": "stream",
     "text": [
      "0    qatar petroleum  qp is targeting aggressive cu...\n",
      "1     nuclear power corp. of india ltd.  npcil sync...\n",
      "2    new us president joe biden took office this we...\n",
      "3    the slow pace of japanese reactor restarts con...\n",
      "4    two of new york citys largest pension funds sa...\n",
      "Name: content, dtype: object\n",
      "Unique characters in 'content': {'7', 'q', 'e', 'h', 'k', '9', 'u', '1', 'v', '2', 'o', 'a', ',', 'x', '6', 'n', 'b', 's', 'l', 'g', 'c', 'y', '0', '3', 'd', 'w', '5', '4', 'f', ' ', 'j', 'z', 'r', 'i', 'p', '8', '-', 't', 'm', '.'}\n"
     ]
    }
   ],
   "source": [
    "def clean_content(text):\n",
    "    # Normalize unicode characters\n",
    "    text = unicodedata.normalize('NFKD', text).encode('ascii', 'ignore').decode('utf-8').lower()\n",
    "    # Remove HTML tags (if any)\n",
    "    text = re.sub(r'<[^>]+>', '', text)\n",
    "    # Remove emojis\n",
    "    text = re.sub(r'[^\\w\\s.,-]', '', text)\n",
    "    return text\n",
    "\n",
    "# Apply the cleaning function to the content column\n",
    "ct_media['content'] = ct_media['content'].apply(clean_content)\n",
    "\n",
    "# Display the cleaned content\n",
    "print(ct_media['content'].head())\n",
    "\n",
    "# Inspect unique characters in the content\n",
    "content_chars = unique_characters(ct_media['content'])\n",
    "print(\"Unique characters in 'content':\", content_chars)"
   ]
  },
  {
   "cell_type": "code",
   "execution_count": null,
   "id": "e5eeed6a",
   "metadata": {},
   "outputs": [],
   "source": []
  },
  {
   "cell_type": "markdown",
   "id": "03430205",
   "metadata": {},
   "source": [
    "#### TOKANIZATION\n"
   ]
  },
  {
   "cell_type": "code",
   "execution_count": 210,
   "id": "a6f31924",
   "metadata": {},
   "outputs": [
    {
     "name": "stdout",
     "output_type": "stream",
     "text": [
      "                                     tokenized_title  title_token_count  \\\n",
      "0  [qatar, to, slash, emissions, as, lng, expansi...                  8   \n",
      "1       [india, launches, its, first, 700, mw, phwr]                  7   \n",
      "2       [new, chapter, for, us-china, energy, trade]                  6   \n",
      "3  [japan, slow, restarts, cast, doubt, on, 2030,...                  9   \n",
      "4  [nyc, pension, funds, to, divest, fossil, fuel...                  8   \n",
      "\n",
      "                                   tokenized_content  content_token_count  \n",
      "0  [qatar, petroleum, qp, is, targeting, aggressi...                  472  \n",
      "1  [nuclear, power, corp., of, india, ltd., npcil...                  579  \n",
      "2  [new, us, president, joe, biden, took, office,...                  767  \n",
      "3  [the, slow, pace, of, japanese, reactor, resta...                  737  \n",
      "4  [two, of, new, york, citys, largest, pension, ...                  421  \n"
     ]
    }
   ],
   "source": [
    "# Tokenization of the title\n",
    "ct_media['tokenized_title'] = ct_media['title'].apply(word_tokenize)\n",
    "\n",
    "# Count tokens in both content and title\n",
    "ct_media['content_token_count'] = ct_media['tokenized_content'].apply(len)\n",
    "ct_media['title_token_count'] = ct_media['tokenized_title'].apply(len)\n",
    "\n",
    "# Display the first few entries with token counts\n",
    "print(ct_media[['tokenized_title', 'title_token_count', 'tokenized_content', 'content_token_count']].head())\n"
   ]
  },
  {
   "cell_type": "markdown",
   "id": "49e7b0c9",
   "metadata": {},
   "source": [
    "#### Handle missing values in author - split at the end to create two separate dataframes\n"
   ]
  },
  {
   "cell_type": "code",
   "execution_count": 200,
   "id": "5fda99d8",
   "metadata": {},
   "outputs": [
    {
     "name": "stdout",
     "output_type": "stream",
     "text": [
      "      Unnamed: 0                                              title  \\\n",
      "5564       76234  Ecotricity strikes landmark deal to secure geo...   \n",
      "5565       76235  'Getting to Zero ': New commission to explore ...   \n",
      "5566       76236  From floating turbines to carbon capture x-ray...   \n",
      "5567       76237  Electrification of harbour crane moves Port of...   \n",
      "5568       76238                            No hugging, no learning   \n",
      "\n",
      "           date               author  \\\n",
      "5564 2021-01-05      Cecilia Keating   \n",
      "5565 2021-01-05       James S Murray   \n",
      "5566 2021-01-06  BusinessGreen staff   \n",
      "5567 2021-01-06      Cecilia Keating   \n",
      "5568 2021-01-06       James S Murray   \n",
      "\n",
      "                                                content         domain  \\\n",
      "5564  [\"Geothermal energy in the UK took a major ste...  businessgreen   \n",
      "5565  ['Up to 10 million jobs across the UK are in c...  businessgreen   \n",
      "5566  ['UK science laboratories and testing faciliti...  businessgreen   \n",
      "5567  ['The Port of Tyne has made major strides towa...  businessgreen   \n",
      "5568  [\"It's no way to run a country. One of the man...  businessgreen   \n",
      "\n",
      "                                                    url  \n",
      "5564  https://www.businessgreen.com/news/4025357/eco...  \n",
      "5565  https://www.businessgreen.com/news/4025361/get...  \n",
      "5566  https://www.businessgreen.com/news/4025407/flo...  \n",
      "5567  https://www.businessgreen.com/news/4025401/ele...  \n",
      "5568  https://www.businessgreen.com/blog-post/402540...  \n",
      "   Unnamed: 0                                              title       date  \\\n",
      "0        1280  Qatar to Slash Emissions as LNG Expansion Adva... 2021-01-13   \n",
      "1        1281               India Launches Its First 700 MW PHWR 2021-01-15   \n",
      "2        1283              New Chapter for US-China Energy Trade 2021-01-20   \n",
      "3        1284  Japan: Slow Restarts Cast Doubt on 2030 Energy... 2021-01-22   \n",
      "4        1285     NYC Pension Funds to Divest Fossil Fuel Shares 2021-01-25   \n",
      "\n",
      "  author                                            content       domain  \\\n",
      "0    NaN  [\"Qatar Petroleum ( QP) is targeting aggressiv...  energyintel   \n",
      "1    NaN  [\"• Nuclear Power Corp. of India Ltd. ( NPCIL)...  energyintel   \n",
      "2    NaN  [\"New US President Joe Biden took office this ...  energyintel   \n",
      "3    NaN  [\"The slow pace of Japanese reactor restarts c...  energyintel   \n",
      "4    NaN  [\"Two of New York City's largest pension funds...  energyintel   \n",
      "\n",
      "                                                 url  \n",
      "0  https://www.energyintel.com/0000017b-a7dc-de4c...  \n",
      "1  https://www.energyintel.com/0000017b-a7dc-de4c...  \n",
      "2  https://www.energyintel.com/0000017b-a7dc-de4c...  \n",
      "3  https://www.energyintel.com/0000017b-a7dc-de4c...  \n",
      "4  https://www.energyintel.com/0000017b-a7dc-de4c...  \n"
     ]
    }
   ],
   "source": [
    "# Creating a DataFrame only with entries that have an author\n",
    "ct_media_with_authors = ct_media.dropna(subset=['author'])\n",
    "\n",
    "# Display the new DataFrame\n",
    "print(ct_media_with_authors.head())\n",
    "\n",
    "# Creating a DataFrame for entries without an author\n",
    "ct_media_without_authors = ct_media[ct_media['author'].isnull()]\n",
    "\n",
    "# Display the DataFrame without authors\n",
    "print(ct_media_without_authors.head())\n"
   ]
  },
  {
   "cell_type": "code",
   "execution_count": 202,
   "id": "de9291d3",
   "metadata": {},
   "outputs": [
    {
     "name": "stdout",
     "output_type": "stream",
     "text": [
      "Entries with authors: 31\n",
      "Entries without authors: 9562\n",
      "\n",
      "First few entries with authors:\n",
      "      Unnamed: 0                                              title  \\\n",
      "5564       76234  Ecotricity strikes landmark deal to secure geo...   \n",
      "5565       76235  'Getting to Zero ': New commission to explore ...   \n",
      "5566       76236  From floating turbines to carbon capture x-ray...   \n",
      "5567       76237  Electrification of harbour crane moves Port of...   \n",
      "5568       76238                            No hugging, no learning   \n",
      "\n",
      "           date               author  \\\n",
      "5564 2021-01-05      Cecilia Keating   \n",
      "5565 2021-01-05       James S Murray   \n",
      "5566 2021-01-06  BusinessGreen staff   \n",
      "5567 2021-01-06      Cecilia Keating   \n",
      "5568 2021-01-06       James S Murray   \n",
      "\n",
      "                                                content         domain  \\\n",
      "5564  [\"Geothermal energy in the UK took a major ste...  businessgreen   \n",
      "5565  ['Up to 10 million jobs across the UK are in c...  businessgreen   \n",
      "5566  ['UK science laboratories and testing faciliti...  businessgreen   \n",
      "5567  ['The Port of Tyne has made major strides towa...  businessgreen   \n",
      "5568  [\"It's no way to run a country. One of the man...  businessgreen   \n",
      "\n",
      "                                                    url  \n",
      "5564  https://www.businessgreen.com/news/4025357/eco...  \n",
      "5565  https://www.businessgreen.com/news/4025361/get...  \n",
      "5566  https://www.businessgreen.com/news/4025407/flo...  \n",
      "5567  https://www.businessgreen.com/news/4025401/ele...  \n",
      "5568  https://www.businessgreen.com/blog-post/402540...  \n",
      "\n",
      "First few entries without authors:\n",
      "   Unnamed: 0                                              title       date  \\\n",
      "0        1280  Qatar to Slash Emissions as LNG Expansion Adva... 2021-01-13   \n",
      "1        1281               India Launches Its First 700 MW PHWR 2021-01-15   \n",
      "2        1283              New Chapter for US-China Energy Trade 2021-01-20   \n",
      "3        1284  Japan: Slow Restarts Cast Doubt on 2030 Energy... 2021-01-22   \n",
      "4        1285     NYC Pension Funds to Divest Fossil Fuel Shares 2021-01-25   \n",
      "\n",
      "  author                                            content       domain  \\\n",
      "0    NaN  [\"Qatar Petroleum ( QP) is targeting aggressiv...  energyintel   \n",
      "1    NaN  [\"• Nuclear Power Corp. of India Ltd. ( NPCIL)...  energyintel   \n",
      "2    NaN  [\"New US President Joe Biden took office this ...  energyintel   \n",
      "3    NaN  [\"The slow pace of Japanese reactor restarts c...  energyintel   \n",
      "4    NaN  [\"Two of New York City's largest pension funds...  energyintel   \n",
      "\n",
      "                                                 url  \n",
      "0  https://www.energyintel.com/0000017b-a7dc-de4c...  \n",
      "1  https://www.energyintel.com/0000017b-a7dc-de4c...  \n",
      "2  https://www.energyintel.com/0000017b-a7dc-de4c...  \n",
      "3  https://www.energyintel.com/0000017b-a7dc-de4c...  \n",
      "4  https://www.energyintel.com/0000017b-a7dc-de4c...  \n",
      "\n",
      "Domain counts for entries with authors:\n",
      "businessgreen    31\n",
      "Name: domain, dtype: int64\n",
      "\n",
      "Domain counts for entries without authors:\n",
      "cleantechnica            1861\n",
      "azocleantech             1627\n",
      "pv-magazine              1206\n",
      "energyvoice              1017\n",
      "solarindustrymag          673\n",
      "naturalgasintel           658\n",
      "thinkgeoenergy            645\n",
      "rechargenews              559\n",
      "solarpowerworldonline     505\n",
      "energyintel               234\n",
      "pv-tech                   232\n",
      "businessgreen             127\n",
      "greenprophet               80\n",
      "ecofriend                  38\n",
      "solarpowerportal.co        34\n",
      "eurosolar                  28\n",
      "decarbxpo                  19\n",
      "solarquarter               17\n",
      "indorenergy                 2\n",
      "Name: domain, dtype: int64\n"
     ]
    }
   ],
   "source": [
    "#Inspect the separate dataset\n",
    "\n",
    "# Check the size of both datasets\n",
    "print(\"Entries with authors:\", ct_media_with_authors.shape[0])\n",
    "print(\"Entries without authors:\", ct_media_without_authors[ct_media_without_authors['author'].isnull()].shape[0])\n",
    "\n",
    "# Inspect the first few entries of the dataset with authors\n",
    "print(\"\\nFirst few entries with authors:\")\n",
    "print(ct_media_with_authors.head())\n",
    "\n",
    "# Inspect the first few entries of the dataset without authors\n",
    "print(\"\\nFirst few entries without authors:\")\n",
    "print(ct_media_without_authors[ct_media_without_authors['author'].isnull()].head())\n",
    "\n",
    "# Analyze domains to see if there are patterns related to missing authors\n",
    "print(\"\\nDomain counts for entries with authors:\")\n",
    "print(ct_media_with_authors['domain'].value_counts())\n",
    "\n",
    "print(\"\\nDomain counts for entries without authors:\")\n",
    "print(ct_media_without_authors[ct_media_without_authors['author'].isnull()]['domain'].value_counts())\n"
   ]
  },
  {
   "cell_type": "code",
   "execution_count": null,
   "id": "abd24721",
   "metadata": {},
   "outputs": [],
   "source": []
  }
 ],
 "metadata": {
  "kernelspec": {
   "display_name": "Python 3 (ipykernel)",
   "language": "python",
   "name": "python3"
  },
  "language_info": {
   "codemirror_mode": {
    "name": "ipython",
    "version": 3
   },
   "file_extension": ".py",
   "mimetype": "text/x-python",
   "name": "python",
   "nbconvert_exporter": "python",
   "pygments_lexer": "ipython3",
   "version": "3.11.4"
  }
 },
 "nbformat": 4,
 "nbformat_minor": 5
}
