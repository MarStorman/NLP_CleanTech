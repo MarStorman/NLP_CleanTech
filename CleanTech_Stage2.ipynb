{
 "cells": [
  {
   "cell_type": "markdown",
   "id": "3b1c8be0-ec34-46a8-8a3d-41a8d33423e6",
   "metadata": {},
   "source": [
    "# Accelerating Cleantech Advancements through NLP-Powered Text Mining and Knowledge Extraction\n",
    "\n",
    "Group: Marusa Storman, Vignesh Govindaraj, Pradip Ravichandran"
   ]
  },
  {
   "cell_type": "markdown",
   "id": "1223dfd0-f463-43b2-b2e5-ef10107b5e34",
   "metadata": {},
   "source": [
    "## Stage 2: Advanced Embedding Models Training and Analysis"
   ]
  },
  {
   "cell_type": "markdown",
   "id": "99dfc9f1-ffe3-42d9-8853-3938da5510ea",
   "metadata": {},
   "source": [
    "### Data Preparation for Embeddings"
   ]
  },
  {
   "cell_type": "code",
   "execution_count": 1,
   "id": "75622761-6c7b-4754-bebb-f3e847076d82",
   "metadata": {},
   "outputs": [
    {
     "name": "stdout",
     "output_type": "stream",
     "text": [
      "Installing scipy==1.12...\n",
      "Requirement already satisfied: scipy==1.12 in c:\\users\\pradip\\switchdrive\\hslu\\_sem 4\\ctl\\venv\\lib\\site-packages (1.12.0)\n",
      "Requirement already satisfied: numpy<1.29.0,>=1.22.4 in c:\\users\\pradip\\switchdrive\\hslu\\_sem 4\\ctl\\venv\\lib\\site-packages (from scipy==1.12) (1.26.4)\n"
     ]
    }
   ],
   "source": [
    "import sys\n",
    "import os\n",
    "\n",
    "# Get the directory of the current notebook\n",
    "notebook_dir = os.getcwd()\n",
    "\n",
    "# Change current working directory to where the notebook resides\n",
    "os.chdir(notebook_dir)\n",
    "\n",
    "# List of required libraries\n",
    "required_libraries = [\n",
    "    'gensim',\n",
    "    'pandas',\n",
    "    'scipy==1.12'\n",
    "]\n",
    "\n",
    "# Check if each library is installed, if not, install it\n",
    "for lib in required_libraries:\n",
    "    try:\n",
    "        __import__(lib)\n",
    "    except ImportError:\n",
    "        print(f\"Installing {lib}...\")\n",
    "        !\"{sys.executable}\" -m pip install {lib}"
   ]
  },
  {
   "cell_type": "code",
   "execution_count": 2,
   "id": "2e211856-7f92-4519-8ebc-0a0d7d454c90",
   "metadata": {},
   "outputs": [],
   "source": [
    "import ast\n",
    "import matplotlib.pyplot as plt\n",
    "import numpy as np\n",
    "import pandas as pd\n",
    "import seaborn as sns\n",
    "\n",
    "from gensim.models import Word2Vec\n",
    "from gensim.test.utils import datapath\n",
    "from gensim.models import KeyedVectors\n",
    "from sklearn.ensemble import RandomForestClassifier\n",
    "from sklearn.metrics import accuracy_score, classification_report\n",
    "from sklearn.metrics.pairwise import cosine_similarity\n",
    "from sklearn.model_selection import train_test_split\n",
    "\n",
    "# Jupyter config\n",
    "%config InteractiveShell.ast_node_interactivity = 'all'"
   ]
  },
  {
   "cell_type": "code",
   "execution_count": 3,
   "id": "0de47158-2cd5-4a54-8e0a-1cf895656d7b",
   "metadata": {},
   "outputs": [],
   "source": [
    "# Get the preprocessed data from stage 1\n",
    "google_patent_original = pd.read_csv(\"Data/google_patent_en_preprocessed.csv\")\n",
    "media_original = pd.read_csv(\"Data/ct_media_preprocessed.csv\")\n",
    "media_evaluation_original = pd.read_csv(\"Data/ct_evaluation_preprocessed.csv\")"
   ]
  },
  {
   "cell_type": "code",
   "execution_count": 4,
   "id": "eb279b8d-2ffe-4efa-ba1a-ebe647ee78d7",
   "metadata": {
    "scrolled": true
   },
   "outputs": [
    {
     "name": "stdout",
     "output_type": "stream",
     "text": [
      "Google Patent Dataset:\n"
     ]
    },
    {
     "data": {
      "text/html": [
       "<div>\n",
       "<style scoped>\n",
       "    .dataframe tbody tr th:only-of-type {\n",
       "        vertical-align: middle;\n",
       "    }\n",
       "\n",
       "    .dataframe tbody tr th {\n",
       "        vertical-align: top;\n",
       "    }\n",
       "\n",
       "    .dataframe thead th {\n",
       "        text-align: right;\n",
       "    }\n",
       "</style>\n",
       "<table border=\"1\" class=\"dataframe\">\n",
       "  <thead>\n",
       "    <tr style=\"text-align: right;\">\n",
       "      <th></th>\n",
       "      <th>publication_number</th>\n",
       "      <th>country_code</th>\n",
       "      <th>publication_date</th>\n",
       "      <th>title_localized_text</th>\n",
       "      <th>abstract_localized_text</th>\n",
       "      <th>title_tokens</th>\n",
       "      <th>abstract_tokens</th>\n",
       "      <th>title_token_count</th>\n",
       "      <th>abstract_token_count</th>\n",
       "    </tr>\n",
       "  </thead>\n",
       "  <tbody>\n",
       "    <tr>\n",
       "      <th>0</th>\n",
       "      <td>US-2022239235-A1</td>\n",
       "      <td>US</td>\n",
       "      <td>2022-07-28</td>\n",
       "      <td>adaptable dcac inverter drive system and opera...</td>\n",
       "      <td>disclosed is an adaptable dcac inverter system...</td>\n",
       "      <td>['adapt', 'dcac', 'invert', 'drive', 'system',...</td>\n",
       "      <td>['disclos', 'adapt', 'dcac', 'invert', 'system...</td>\n",
       "      <td>7</td>\n",
       "      <td>64</td>\n",
       "    </tr>\n",
       "    <tr>\n",
       "      <th>1</th>\n",
       "      <td>US-2022239251-A1</td>\n",
       "      <td>US</td>\n",
       "      <td>2022-07-28</td>\n",
       "      <td>system for providing the energy from a single ...</td>\n",
       "      <td>in accordance with an example embodiment a sol...</td>\n",
       "      <td>['system', 'provid', 'energi', 'singl', 'conti...</td>\n",
       "      <td>['accord', 'exampl', 'embodi', 'solar', 'energ...</td>\n",
       "      <td>18</td>\n",
       "      <td>92</td>\n",
       "    </tr>\n",
       "    <tr>\n",
       "      <th>2</th>\n",
       "      <td>US-11396827-B2</td>\n",
       "      <td>US</td>\n",
       "      <td>2022-07-26</td>\n",
       "      <td>control method for optimizing solartopower eff...</td>\n",
       "      <td>a control method for optimizing a solartopower...</td>\n",
       "      <td>['control', 'method', 'optim', 'solartopow', '...</td>\n",
       "      <td>['control', 'method', 'optim', 'solartopow', '...</td>\n",
       "      <td>15</td>\n",
       "      <td>149</td>\n",
       "    </tr>\n",
       "    <tr>\n",
       "      <th>3</th>\n",
       "      <td>CN-114772674-A</td>\n",
       "      <td>CN</td>\n",
       "      <td>2022-07-22</td>\n",
       "      <td>lowcarbon running saline wastewater treatment ...</td>\n",
       "      <td>the invention discloses a system and a method ...</td>\n",
       "      <td>['lowcarbon', 'run', 'salin', 'wastewat', 'tre...</td>\n",
       "      <td>['invent', 'disclos', 'system', 'method', 'tre...</td>\n",
       "      <td>15</td>\n",
       "      <td>226</td>\n",
       "    </tr>\n",
       "    <tr>\n",
       "      <th>4</th>\n",
       "      <td>CN-217026795-U</td>\n",
       "      <td>CN</td>\n",
       "      <td>2022-07-22</td>\n",
       "      <td>water ecological remediation device convenient...</td>\n",
       "      <td>the utility model discloses a water ecological...</td>\n",
       "      <td>['water', 'ecolog', 'remedi', 'devic', 'conven...</td>\n",
       "      <td>['util', 'model', 'disclos', 'water', 'ecolog'...</td>\n",
       "      <td>7</td>\n",
       "      <td>252</td>\n",
       "    </tr>\n",
       "  </tbody>\n",
       "</table>\n",
       "</div>"
      ],
      "text/plain": [
       "  publication_number country_code publication_date  \\\n",
       "0   US-2022239235-A1           US       2022-07-28   \n",
       "1   US-2022239251-A1           US       2022-07-28   \n",
       "2     US-11396827-B2           US       2022-07-26   \n",
       "3     CN-114772674-A           CN       2022-07-22   \n",
       "4     CN-217026795-U           CN       2022-07-22   \n",
       "\n",
       "                                title_localized_text  \\\n",
       "0  adaptable dcac inverter drive system and opera...   \n",
       "1  system for providing the energy from a single ...   \n",
       "2  control method for optimizing solartopower eff...   \n",
       "3  lowcarbon running saline wastewater treatment ...   \n",
       "4  water ecological remediation device convenient...   \n",
       "\n",
       "                             abstract_localized_text  \\\n",
       "0  disclosed is an adaptable dcac inverter system...   \n",
       "1  in accordance with an example embodiment a sol...   \n",
       "2  a control method for optimizing a solartopower...   \n",
       "3  the invention discloses a system and a method ...   \n",
       "4  the utility model discloses a water ecological...   \n",
       "\n",
       "                                        title_tokens  \\\n",
       "0  ['adapt', 'dcac', 'invert', 'drive', 'system',...   \n",
       "1  ['system', 'provid', 'energi', 'singl', 'conti...   \n",
       "2  ['control', 'method', 'optim', 'solartopow', '...   \n",
       "3  ['lowcarbon', 'run', 'salin', 'wastewat', 'tre...   \n",
       "4  ['water', 'ecolog', 'remedi', 'devic', 'conven...   \n",
       "\n",
       "                                     abstract_tokens  title_token_count  \\\n",
       "0  ['disclos', 'adapt', 'dcac', 'invert', 'system...                  7   \n",
       "1  ['accord', 'exampl', 'embodi', 'solar', 'energ...                 18   \n",
       "2  ['control', 'method', 'optim', 'solartopow', '...                 15   \n",
       "3  ['invent', 'disclos', 'system', 'method', 'tre...                 15   \n",
       "4  ['util', 'model', 'disclos', 'water', 'ecolog'...                  7   \n",
       "\n",
       "   abstract_token_count  \n",
       "0                    64  \n",
       "1                    92  \n",
       "2                   149  \n",
       "3                   226  \n",
       "4                   252  "
      ]
     },
     "execution_count": 4,
     "metadata": {},
     "output_type": "execute_result"
    },
    {
     "data": {
      "text/html": [
       "<div>\n",
       "<style scoped>\n",
       "    .dataframe tbody tr th:only-of-type {\n",
       "        vertical-align: middle;\n",
       "    }\n",
       "\n",
       "    .dataframe tbody tr th {\n",
       "        vertical-align: top;\n",
       "    }\n",
       "\n",
       "    .dataframe thead th {\n",
       "        text-align: right;\n",
       "    }\n",
       "</style>\n",
       "<table border=\"1\" class=\"dataframe\">\n",
       "  <thead>\n",
       "    <tr style=\"text-align: right;\">\n",
       "      <th></th>\n",
       "      <th>Data Type</th>\n",
       "      <th>Number of Entries</th>\n",
       "      <th>Missing/None Count</th>\n",
       "      <th>Uniqueness</th>\n",
       "    </tr>\n",
       "  </thead>\n",
       "  <tbody>\n",
       "    <tr>\n",
       "      <th>publication_number</th>\n",
       "      <td>object</td>\n",
       "      <td>13412</td>\n",
       "      <td>0</td>\n",
       "      <td>13351</td>\n",
       "    </tr>\n",
       "    <tr>\n",
       "      <th>country_code</th>\n",
       "      <td>object</td>\n",
       "      <td>13412</td>\n",
       "      <td>0</td>\n",
       "      <td>29</td>\n",
       "    </tr>\n",
       "    <tr>\n",
       "      <th>publication_date</th>\n",
       "      <td>datetime64[ns]</td>\n",
       "      <td>13412</td>\n",
       "      <td>0</td>\n",
       "      <td>158</td>\n",
       "    </tr>\n",
       "    <tr>\n",
       "      <th>title_localized_text</th>\n",
       "      <td>object</td>\n",
       "      <td>13412</td>\n",
       "      <td>0</td>\n",
       "      <td>12441</td>\n",
       "    </tr>\n",
       "    <tr>\n",
       "      <th>abstract_localized_text</th>\n",
       "      <td>object</td>\n",
       "      <td>13412</td>\n",
       "      <td>0</td>\n",
       "      <td>13250</td>\n",
       "    </tr>\n",
       "    <tr>\n",
       "      <th>title_tokens</th>\n",
       "      <td>object</td>\n",
       "      <td>13412</td>\n",
       "      <td>0</td>\n",
       "      <td>12424</td>\n",
       "    </tr>\n",
       "    <tr>\n",
       "      <th>abstract_tokens</th>\n",
       "      <td>object</td>\n",
       "      <td>13412</td>\n",
       "      <td>0</td>\n",
       "      <td>13235</td>\n",
       "    </tr>\n",
       "    <tr>\n",
       "      <th>title_token_count</th>\n",
       "      <td>int64</td>\n",
       "      <td>13412</td>\n",
       "      <td>0</td>\n",
       "      <td>30</td>\n",
       "    </tr>\n",
       "    <tr>\n",
       "      <th>abstract_token_count</th>\n",
       "      <td>int64</td>\n",
       "      <td>13412</td>\n",
       "      <td>0</td>\n",
       "      <td>282</td>\n",
       "    </tr>\n",
       "  </tbody>\n",
       "</table>\n",
       "</div>"
      ],
      "text/plain": [
       "                              Data Type  Number of Entries  \\\n",
       "publication_number               object              13412   \n",
       "country_code                     object              13412   \n",
       "publication_date         datetime64[ns]              13412   \n",
       "title_localized_text             object              13412   \n",
       "abstract_localized_text          object              13412   \n",
       "title_tokens                     object              13412   \n",
       "abstract_tokens                  object              13412   \n",
       "title_token_count                 int64              13412   \n",
       "abstract_token_count              int64              13412   \n",
       "\n",
       "                         Missing/None Count  Uniqueness  \n",
       "publication_number                        0       13351  \n",
       "country_code                              0          29  \n",
       "publication_date                          0         158  \n",
       "title_localized_text                      0       12441  \n",
       "abstract_localized_text                   0       13250  \n",
       "title_tokens                              0       12424  \n",
       "abstract_tokens                           0       13235  \n",
       "title_token_count                         0          30  \n",
       "abstract_token_count                      0         282  "
      ]
     },
     "execution_count": 4,
     "metadata": {},
     "output_type": "execute_result"
    },
    {
     "name": "stdout",
     "output_type": "stream",
     "text": [
      "\n",
      "Number of duplicate rows: 0\n"
     ]
    }
   ],
   "source": [
    "# This function will provide with more useful information:\n",
    "def analyze_column(df, has_list=False):\n",
    "    info = pd.DataFrame({\n",
    "        'Data Type': df.dtypes,\n",
    "        'Number of Entries': df.count(),\n",
    "        'Missing/None Count': df.isna().sum(),\n",
    "        'Uniqueness': df.nunique()\n",
    "    })\n",
    "    \n",
    "    return info\n",
    "\n",
    "print(\"Google Patent Dataset:\")\n",
    "google_patent_original['publication_date'] = pd.to_datetime(google_patent_original['publication_date'])\n",
    "google_patent_original.head()\n",
    "analyze_column(google_patent_original)\n",
    "print(\"\\nNumber of duplicate rows:\", media_original.duplicated().sum())"
   ]
  },
  {
   "cell_type": "code",
   "execution_count": 5,
   "id": "12875001-2238-435a-ae28-6d90b57f404b",
   "metadata": {
    "scrolled": true
   },
   "outputs": [
    {
     "name": "stdout",
     "output_type": "stream",
     "text": [
      "Media Dataset:\n"
     ]
    },
    {
     "data": {
      "text/html": [
       "<div>\n",
       "<style scoped>\n",
       "    .dataframe tbody tr th:only-of-type {\n",
       "        vertical-align: middle;\n",
       "    }\n",
       "\n",
       "    .dataframe tbody tr th {\n",
       "        vertical-align: top;\n",
       "    }\n",
       "\n",
       "    .dataframe thead th {\n",
       "        text-align: right;\n",
       "    }\n",
       "</style>\n",
       "<table border=\"1\" class=\"dataframe\">\n",
       "  <thead>\n",
       "    <tr style=\"text-align: right;\">\n",
       "      <th></th>\n",
       "      <th>title</th>\n",
       "      <th>date</th>\n",
       "      <th>content</th>\n",
       "      <th>domain</th>\n",
       "      <th>title_tokens</th>\n",
       "      <th>content_tokens</th>\n",
       "      <th>title_token_count</th>\n",
       "      <th>content_token_count</th>\n",
       "    </tr>\n",
       "  </thead>\n",
       "  <tbody>\n",
       "    <tr>\n",
       "      <th>0</th>\n",
       "      <td>qatar to slash emissions as lng expansion adva...</td>\n",
       "      <td>2021-01-13</td>\n",
       "      <td>qatar petroleum qp is targeting aggressive cut...</td>\n",
       "      <td>energyintel</td>\n",
       "      <td>['qatar', 'slash', 'emiss', 'lng', 'expans', '...</td>\n",
       "      <td>['qatar', 'petroleum', 'qp', 'target', 'aggres...</td>\n",
       "      <td>8</td>\n",
       "      <td>442</td>\n",
       "    </tr>\n",
       "    <tr>\n",
       "      <th>1</th>\n",
       "      <td>india launches its first 700 mw phwr</td>\n",
       "      <td>2021-01-15</td>\n",
       "      <td>nuclear power corp of india ltd npcil synchro...</td>\n",
       "      <td>energyintel</td>\n",
       "      <td>['india', 'launch', 'first', '700', 'mw', 'phwr']</td>\n",
       "      <td>['nuclear', 'power', 'corp', 'india', 'ltd', '...</td>\n",
       "      <td>7</td>\n",
       "      <td>538</td>\n",
       "    </tr>\n",
       "    <tr>\n",
       "      <th>2</th>\n",
       "      <td>new chapter for uschina energy trade</td>\n",
       "      <td>2021-01-20</td>\n",
       "      <td>new us president joe biden took office this we...</td>\n",
       "      <td>energyintel</td>\n",
       "      <td>['new', 'chapter', 'uschina', 'energi', 'trade']</td>\n",
       "      <td>['new', 'presid', 'joe', 'biden', 'took', 'off...</td>\n",
       "      <td>6</td>\n",
       "      <td>706</td>\n",
       "    </tr>\n",
       "    <tr>\n",
       "      <th>3</th>\n",
       "      <td>japan slow restarts cast doubt on 2030 energy ...</td>\n",
       "      <td>2021-01-22</td>\n",
       "      <td>the slow pace of japanese reactor restarts con...</td>\n",
       "      <td>energyintel</td>\n",
       "      <td>['japan', 'slow', 'restart', 'cast', 'doubt', ...</td>\n",
       "      <td>['slow', 'pace', 'japanes', 'reactor', 'restar...</td>\n",
       "      <td>9</td>\n",
       "      <td>687</td>\n",
       "    </tr>\n",
       "    <tr>\n",
       "      <th>4</th>\n",
       "      <td>nyc pension funds to divest fossil fuel shares</td>\n",
       "      <td>2021-01-25</td>\n",
       "      <td>two of new york citys largest pension funds sa...</td>\n",
       "      <td>energyintel</td>\n",
       "      <td>['nyc', 'pension', 'fund', 'divest', 'fossil',...</td>\n",
       "      <td>['two', 'new', 'york', 'citi', 'largest', 'pen...</td>\n",
       "      <td>8</td>\n",
       "      <td>394</td>\n",
       "    </tr>\n",
       "  </tbody>\n",
       "</table>\n",
       "</div>"
      ],
      "text/plain": [
       "                                               title       date  \\\n",
       "0  qatar to slash emissions as lng expansion adva... 2021-01-13   \n",
       "1               india launches its first 700 mw phwr 2021-01-15   \n",
       "2               new chapter for uschina energy trade 2021-01-20   \n",
       "3  japan slow restarts cast doubt on 2030 energy ... 2021-01-22   \n",
       "4     nyc pension funds to divest fossil fuel shares 2021-01-25   \n",
       "\n",
       "                                             content       domain  \\\n",
       "0  qatar petroleum qp is targeting aggressive cut...  energyintel   \n",
       "1   nuclear power corp of india ltd npcil synchro...  energyintel   \n",
       "2  new us president joe biden took office this we...  energyintel   \n",
       "3  the slow pace of japanese reactor restarts con...  energyintel   \n",
       "4  two of new york citys largest pension funds sa...  energyintel   \n",
       "\n",
       "                                        title_tokens  \\\n",
       "0  ['qatar', 'slash', 'emiss', 'lng', 'expans', '...   \n",
       "1  ['india', 'launch', 'first', '700', 'mw', 'phwr']   \n",
       "2   ['new', 'chapter', 'uschina', 'energi', 'trade']   \n",
       "3  ['japan', 'slow', 'restart', 'cast', 'doubt', ...   \n",
       "4  ['nyc', 'pension', 'fund', 'divest', 'fossil',...   \n",
       "\n",
       "                                      content_tokens  title_token_count  \\\n",
       "0  ['qatar', 'petroleum', 'qp', 'target', 'aggres...                  8   \n",
       "1  ['nuclear', 'power', 'corp', 'india', 'ltd', '...                  7   \n",
       "2  ['new', 'presid', 'joe', 'biden', 'took', 'off...                  6   \n",
       "3  ['slow', 'pace', 'japanes', 'reactor', 'restar...                  9   \n",
       "4  ['two', 'new', 'york', 'citi', 'largest', 'pen...                  8   \n",
       "\n",
       "   content_token_count  \n",
       "0                  442  \n",
       "1                  538  \n",
       "2                  706  \n",
       "3                  687  \n",
       "4                  394  "
      ]
     },
     "execution_count": 5,
     "metadata": {},
     "output_type": "execute_result"
    },
    {
     "data": {
      "text/html": [
       "<div>\n",
       "<style scoped>\n",
       "    .dataframe tbody tr th:only-of-type {\n",
       "        vertical-align: middle;\n",
       "    }\n",
       "\n",
       "    .dataframe tbody tr th {\n",
       "        vertical-align: top;\n",
       "    }\n",
       "\n",
       "    .dataframe thead th {\n",
       "        text-align: right;\n",
       "    }\n",
       "</style>\n",
       "<table border=\"1\" class=\"dataframe\">\n",
       "  <thead>\n",
       "    <tr style=\"text-align: right;\">\n",
       "      <th></th>\n",
       "      <th>Data Type</th>\n",
       "      <th>Number of Entries</th>\n",
       "      <th>Missing/None Count</th>\n",
       "      <th>Uniqueness</th>\n",
       "    </tr>\n",
       "  </thead>\n",
       "  <tbody>\n",
       "    <tr>\n",
       "      <th>title</th>\n",
       "      <td>object</td>\n",
       "      <td>9593</td>\n",
       "      <td>0</td>\n",
       "      <td>9565</td>\n",
       "    </tr>\n",
       "    <tr>\n",
       "      <th>date</th>\n",
       "      <td>datetime64[ns]</td>\n",
       "      <td>9593</td>\n",
       "      <td>0</td>\n",
       "      <td>967</td>\n",
       "    </tr>\n",
       "    <tr>\n",
       "      <th>content</th>\n",
       "      <td>object</td>\n",
       "      <td>9593</td>\n",
       "      <td>0</td>\n",
       "      <td>9588</td>\n",
       "    </tr>\n",
       "    <tr>\n",
       "      <th>domain</th>\n",
       "      <td>object</td>\n",
       "      <td>9593</td>\n",
       "      <td>0</td>\n",
       "      <td>19</td>\n",
       "    </tr>\n",
       "    <tr>\n",
       "      <th>title_tokens</th>\n",
       "      <td>object</td>\n",
       "      <td>9593</td>\n",
       "      <td>0</td>\n",
       "      <td>9563</td>\n",
       "    </tr>\n",
       "    <tr>\n",
       "      <th>content_tokens</th>\n",
       "      <td>object</td>\n",
       "      <td>9593</td>\n",
       "      <td>0</td>\n",
       "      <td>9587</td>\n",
       "    </tr>\n",
       "    <tr>\n",
       "      <th>title_token_count</th>\n",
       "      <td>int64</td>\n",
       "      <td>9593</td>\n",
       "      <td>0</td>\n",
       "      <td>25</td>\n",
       "    </tr>\n",
       "    <tr>\n",
       "      <th>content_token_count</th>\n",
       "      <td>int64</td>\n",
       "      <td>9593</td>\n",
       "      <td>0</td>\n",
       "      <td>1782</td>\n",
       "    </tr>\n",
       "  </tbody>\n",
       "</table>\n",
       "</div>"
      ],
      "text/plain": [
       "                          Data Type  Number of Entries  Missing/None Count  \\\n",
       "title                        object               9593                   0   \n",
       "date                 datetime64[ns]               9593                   0   \n",
       "content                      object               9593                   0   \n",
       "domain                       object               9593                   0   \n",
       "title_tokens                 object               9593                   0   \n",
       "content_tokens               object               9593                   0   \n",
       "title_token_count             int64               9593                   0   \n",
       "content_token_count           int64               9593                   0   \n",
       "\n",
       "                     Uniqueness  \n",
       "title                      9565  \n",
       "date                        967  \n",
       "content                    9588  \n",
       "domain                       19  \n",
       "title_tokens               9563  \n",
       "content_tokens             9587  \n",
       "title_token_count            25  \n",
       "content_token_count        1782  "
      ]
     },
     "execution_count": 5,
     "metadata": {},
     "output_type": "execute_result"
    },
    {
     "name": "stdout",
     "output_type": "stream",
     "text": [
      "\n",
      "Number of duplicate rows: 0\n"
     ]
    }
   ],
   "source": [
    "print(\"Media Dataset:\")\n",
    "media_original['date'] = pd.to_datetime(media_original['date'])\n",
    "media_original.head()\n",
    "analyze_column(media_original)\n",
    "print(\"\\nNumber of duplicate rows:\", media_original.duplicated().sum())"
   ]
  },
  {
   "cell_type": "code",
   "execution_count": 6,
   "id": "d4e46fde-784b-4279-9c0e-9ea935f88e7c",
   "metadata": {
    "scrolled": true
   },
   "outputs": [
    {
     "name": "stdout",
     "output_type": "stream",
     "text": [
      "Media Evaluation Dataset:\n"
     ]
    },
    {
     "data": {
      "text/html": [
       "<div>\n",
       "<style scoped>\n",
       "    .dataframe tbody tr th:only-of-type {\n",
       "        vertical-align: middle;\n",
       "    }\n",
       "\n",
       "    .dataframe tbody tr th {\n",
       "        vertical-align: top;\n",
       "    }\n",
       "\n",
       "    .dataframe thead th {\n",
       "        text-align: right;\n",
       "    }\n",
       "</style>\n",
       "<table border=\"1\" class=\"dataframe\">\n",
       "  <thead>\n",
       "    <tr style=\"text-align: right;\">\n",
       "      <th></th>\n",
       "      <th>example_id</th>\n",
       "      <th>question_id</th>\n",
       "      <th>question</th>\n",
       "      <th>relevant_chunk</th>\n",
       "      <th>domain</th>\n",
       "      <th>question_tokens</th>\n",
       "      <th>relevant_chunk_tokens</th>\n",
       "      <th>question_token_count</th>\n",
       "      <th>relevant_chunk_token_count</th>\n",
       "    </tr>\n",
       "  </thead>\n",
       "  <tbody>\n",
       "    <tr>\n",
       "      <th>0</th>\n",
       "      <td>1</td>\n",
       "      <td>1</td>\n",
       "      <td>what is the innovation behind leclanches new m...</td>\n",
       "      <td>leclanche said it has developed an environment...</td>\n",
       "      <td>sgvoice.net</td>\n",
       "      <td>['innov', 'behind', 'leclanch', 'new', 'method...</td>\n",
       "      <td>['leclanch', 'said', 'develop', 'environment',...</td>\n",
       "      <td>12</td>\n",
       "      <td>36</td>\n",
       "    </tr>\n",
       "    <tr>\n",
       "      <th>1</th>\n",
       "      <td>2</td>\n",
       "      <td>2</td>\n",
       "      <td>what is the eus green deal industrial plan</td>\n",
       "      <td>the green deal industrial plan is a bid by the...</td>\n",
       "      <td>sgvoice.net</td>\n",
       "      <td>['eu', 'green', 'deal', 'industri', 'plan']</td>\n",
       "      <td>['green', 'deal', 'industri', 'plan', 'bid', '...</td>\n",
       "      <td>8</td>\n",
       "      <td>47</td>\n",
       "    </tr>\n",
       "    <tr>\n",
       "      <th>2</th>\n",
       "      <td>3</td>\n",
       "      <td>2</td>\n",
       "      <td>what is the eus green deal industrial plan</td>\n",
       "      <td>the european counterpart to the us inflation r...</td>\n",
       "      <td>pv-magazine.com</td>\n",
       "      <td>['eu', 'green', 'deal', 'industri', 'plan']</td>\n",
       "      <td>['european', 'counterpart', 'inflat', 'reduct'...</td>\n",
       "      <td>8</td>\n",
       "      <td>35</td>\n",
       "    </tr>\n",
       "    <tr>\n",
       "      <th>3</th>\n",
       "      <td>4</td>\n",
       "      <td>3</td>\n",
       "      <td>what are the four focus areas of the eus green...</td>\n",
       "      <td>the new plan is fundamentally focused on four ...</td>\n",
       "      <td>sgvoice.net</td>\n",
       "      <td>['four', 'focu', 'area', 'eu', 'green', 'deal'...</td>\n",
       "      <td>['new', 'plan', 'fundament', 'focus', 'four', ...</td>\n",
       "      <td>13</td>\n",
       "      <td>42</td>\n",
       "    </tr>\n",
       "    <tr>\n",
       "      <th>4</th>\n",
       "      <td>5</td>\n",
       "      <td>4</td>\n",
       "      <td>when did the cooperation between gm and honda ...</td>\n",
       "      <td>what caught our eye was a new hookup between g...</td>\n",
       "      <td>cleantechnica.com</td>\n",
       "      <td>['cooper', 'gm', 'honda', 'fuel', 'cell', 'veh...</td>\n",
       "      <td>['caught', 'eye', 'new', 'hookup', 'gm', 'hond...</td>\n",
       "      <td>13</td>\n",
       "      <td>60</td>\n",
       "    </tr>\n",
       "  </tbody>\n",
       "</table>\n",
       "</div>"
      ],
      "text/plain": [
       "   example_id  question_id                                           question  \\\n",
       "0           1            1  what is the innovation behind leclanches new m...   \n",
       "1           2            2         what is the eus green deal industrial plan   \n",
       "2           3            2         what is the eus green deal industrial plan   \n",
       "3           4            3  what are the four focus areas of the eus green...   \n",
       "4           5            4  when did the cooperation between gm and honda ...   \n",
       "\n",
       "                                      relevant_chunk             domain  \\\n",
       "0  leclanche said it has developed an environment...        sgvoice.net   \n",
       "1  the green deal industrial plan is a bid by the...        sgvoice.net   \n",
       "2  the european counterpart to the us inflation r...    pv-magazine.com   \n",
       "3  the new plan is fundamentally focused on four ...        sgvoice.net   \n",
       "4  what caught our eye was a new hookup between g...  cleantechnica.com   \n",
       "\n",
       "                                     question_tokens  \\\n",
       "0  ['innov', 'behind', 'leclanch', 'new', 'method...   \n",
       "1        ['eu', 'green', 'deal', 'industri', 'plan']   \n",
       "2        ['eu', 'green', 'deal', 'industri', 'plan']   \n",
       "3  ['four', 'focu', 'area', 'eu', 'green', 'deal'...   \n",
       "4  ['cooper', 'gm', 'honda', 'fuel', 'cell', 'veh...   \n",
       "\n",
       "                               relevant_chunk_tokens  question_token_count  \\\n",
       "0  ['leclanch', 'said', 'develop', 'environment',...                    12   \n",
       "1  ['green', 'deal', 'industri', 'plan', 'bid', '...                     8   \n",
       "2  ['european', 'counterpart', 'inflat', 'reduct'...                     8   \n",
       "3  ['new', 'plan', 'fundament', 'focus', 'four', ...                    13   \n",
       "4  ['caught', 'eye', 'new', 'hookup', 'gm', 'hond...                    13   \n",
       "\n",
       "   relevant_chunk_token_count  \n",
       "0                          36  \n",
       "1                          47  \n",
       "2                          35  \n",
       "3                          42  \n",
       "4                          60  "
      ]
     },
     "execution_count": 6,
     "metadata": {},
     "output_type": "execute_result"
    },
    {
     "data": {
      "text/html": [
       "<div>\n",
       "<style scoped>\n",
       "    .dataframe tbody tr th:only-of-type {\n",
       "        vertical-align: middle;\n",
       "    }\n",
       "\n",
       "    .dataframe tbody tr th {\n",
       "        vertical-align: top;\n",
       "    }\n",
       "\n",
       "    .dataframe thead th {\n",
       "        text-align: right;\n",
       "    }\n",
       "</style>\n",
       "<table border=\"1\" class=\"dataframe\">\n",
       "  <thead>\n",
       "    <tr style=\"text-align: right;\">\n",
       "      <th></th>\n",
       "      <th>Data Type</th>\n",
       "      <th>Number of Entries</th>\n",
       "      <th>Missing/None Count</th>\n",
       "      <th>Uniqueness</th>\n",
       "    </tr>\n",
       "  </thead>\n",
       "  <tbody>\n",
       "    <tr>\n",
       "      <th>example_id</th>\n",
       "      <td>int64</td>\n",
       "      <td>23</td>\n",
       "      <td>0</td>\n",
       "      <td>23</td>\n",
       "    </tr>\n",
       "    <tr>\n",
       "      <th>question_id</th>\n",
       "      <td>int64</td>\n",
       "      <td>23</td>\n",
       "      <td>0</td>\n",
       "      <td>21</td>\n",
       "    </tr>\n",
       "    <tr>\n",
       "      <th>question</th>\n",
       "      <td>object</td>\n",
       "      <td>23</td>\n",
       "      <td>0</td>\n",
       "      <td>21</td>\n",
       "    </tr>\n",
       "    <tr>\n",
       "      <th>relevant_chunk</th>\n",
       "      <td>object</td>\n",
       "      <td>23</td>\n",
       "      <td>0</td>\n",
       "      <td>23</td>\n",
       "    </tr>\n",
       "    <tr>\n",
       "      <th>domain</th>\n",
       "      <td>object</td>\n",
       "      <td>23</td>\n",
       "      <td>0</td>\n",
       "      <td>6</td>\n",
       "    </tr>\n",
       "    <tr>\n",
       "      <th>question_tokens</th>\n",
       "      <td>object</td>\n",
       "      <td>23</td>\n",
       "      <td>0</td>\n",
       "      <td>21</td>\n",
       "    </tr>\n",
       "    <tr>\n",
       "      <th>relevant_chunk_tokens</th>\n",
       "      <td>object</td>\n",
       "      <td>23</td>\n",
       "      <td>0</td>\n",
       "      <td>23</td>\n",
       "    </tr>\n",
       "    <tr>\n",
       "      <th>question_token_count</th>\n",
       "      <td>int64</td>\n",
       "      <td>23</td>\n",
       "      <td>0</td>\n",
       "      <td>12</td>\n",
       "    </tr>\n",
       "    <tr>\n",
       "      <th>relevant_chunk_token_count</th>\n",
       "      <td>int64</td>\n",
       "      <td>23</td>\n",
       "      <td>0</td>\n",
       "      <td>18</td>\n",
       "    </tr>\n",
       "  </tbody>\n",
       "</table>\n",
       "</div>"
      ],
      "text/plain": [
       "                           Data Type  Number of Entries  Missing/None Count  \\\n",
       "example_id                     int64                 23                   0   \n",
       "question_id                    int64                 23                   0   \n",
       "question                      object                 23                   0   \n",
       "relevant_chunk                object                 23                   0   \n",
       "domain                        object                 23                   0   \n",
       "question_tokens               object                 23                   0   \n",
       "relevant_chunk_tokens         object                 23                   0   \n",
       "question_token_count           int64                 23                   0   \n",
       "relevant_chunk_token_count     int64                 23                   0   \n",
       "\n",
       "                            Uniqueness  \n",
       "example_id                          23  \n",
       "question_id                         21  \n",
       "question                            21  \n",
       "relevant_chunk                      23  \n",
       "domain                               6  \n",
       "question_tokens                     21  \n",
       "relevant_chunk_tokens               23  \n",
       "question_token_count                12  \n",
       "relevant_chunk_token_count          18  "
      ]
     },
     "execution_count": 6,
     "metadata": {},
     "output_type": "execute_result"
    },
    {
     "name": "stdout",
     "output_type": "stream",
     "text": [
      "\n",
      "Number of duplicate rows: 0\n"
     ]
    }
   ],
   "source": [
    "print(\"Media Evaluation Dataset:\")\n",
    "media_evaluation_original.head()\n",
    "analyze_column(media_evaluation_original)\n",
    "print(\"\\nNumber of duplicate rows:\", media_evaluation_original.duplicated().sum())"
   ]
  },
  {
   "cell_type": "code",
   "execution_count": 7,
   "id": "2bb5aa98-ba1b-4993-9563-4ea3a97032ba",
   "metadata": {},
   "outputs": [],
   "source": [
    "# Get all the rows with an unique country_code\n",
    "class_counts = google_patent_original['country_code'].value_counts()\n",
    "single_instances = class_counts[class_counts == 1].index.tolist()\n",
    "\n",
    "# Update country_code for single-instance classes\n",
    "google_patent_original.loc[google_patent_original['country_code'].isin(single_instances), 'country_code'] = 'OT'  # OT = Other"
   ]
  },
  {
   "cell_type": "code",
   "execution_count": 8,
   "id": "9d98ac87-8af7-4e2f-b8bf-bad364e0ea27",
   "metadata": {},
   "outputs": [],
   "source": [
    "# Split patent data into training and validation sets, country code is been splitted equal\n",
    "patent_train, patent_val = train_test_split(google_patent_original, test_size=0.2, stratify=google_patent_original['country_code'], random_state=42)\n",
    "\n",
    "# Split media data into training and validation sets, domain is been splitted equal\n",
    "media_train, media_val = train_test_split(media_original, test_size=0.2, stratify=media_original['domain'], random_state=42)"
   ]
  },
  {
   "cell_type": "markdown",
   "id": "272ee522-d304-4be6-83cc-285f52549d15",
   "metadata": {},
   "source": [
    "### Word Embedding Training"
   ]
  },
  {
   "cell_type": "markdown",
   "id": "75a031c4-0d12-41da-ba23-228528c2b5d6",
   "metadata": {},
   "source": [
    "#### Word2Vec"
   ]
  },
  {
   "cell_type": "code",
   "execution_count": 9,
   "id": "d360c78f-040b-4a1f-9b29-1feaff405cea",
   "metadata": {},
   "outputs": [],
   "source": [
    "def clean_tokenized_data(data):\n",
    "    return [ast.literal_eval(sentence) for sentence in data]\n",
    "\n",
    "# Function to train Word2Vec model\n",
    "def train_word2vec_model(data, vector_size=100, window=5, min_count=1, epochs=10):\n",
    "    model = Word2Vec(sentences=data, vector_size=vector_size, window=window, min_count=min_count, epochs=epochs)\n",
    "    return model\n",
    "\n",
    "# Define parameters for training and evaluation\n",
    "parameters = {\n",
    "    'vector_size': [100, 200],\n",
    "    'window': [5, 10],\n",
    "    'min_count': [1, 5],\n",
    "    'epochs': [10, 20]\n",
    "}\n",
    "\n",
    "def hypertrain(model_basename, train_data):\n",
    "    models: dict[str, Word2Vec] = {}\n",
    "    for vector_size in parameters['vector_size']:\n",
    "        for window in parameters['window']:\n",
    "            for min_count in parameters['min_count']:\n",
    "                for epochs in parameters['epochs']:\n",
    "                    # Train Word2Vec model\n",
    "                    model_name = f'{model_basename}_{vector_size}_{window}_{min_count}_{epochs}'\n",
    "                    print(f'Training Word2Vec model {model_name} ...')\n",
    "                    model = train_word2vec_model(train_data, vector_size=vector_size, window=window, min_count=min_count, epochs=epochs)\n",
    "                    models[model_name] = model\n",
    "    return models"
   ]
  },
  {
   "cell_type": "markdown",
   "id": "2c3396d8-12b3-4cfa-b4da-2c52bbd0cc06",
   "metadata": {},
   "source": [
    "##### Google patent"
   ]
  },
  {
   "cell_type": "markdown",
   "id": "8c3b219c-9311-4ab4-a79d-26a5ad0febd9",
   "metadata": {},
   "source": [
    "###### Title"
   ]
  },
  {
   "cell_type": "code",
   "execution_count": 10,
   "id": "ed901f35-f1f7-4a33-a049-0b38a8eecd2d",
   "metadata": {
    "scrolled": true
   },
   "outputs": [
    {
     "name": "stdout",
     "output_type": "stream",
     "text": [
      "Training Word2Vec model patent_title_100_5_1_10 ...\n",
      "Training Word2Vec model patent_title_100_5_1_20 ...\n",
      "Training Word2Vec model patent_title_100_5_5_10 ...\n",
      "Training Word2Vec model patent_title_100_5_5_20 ...\n",
      "Training Word2Vec model patent_title_100_10_1_10 ...\n",
      "Training Word2Vec model patent_title_100_10_1_20 ...\n",
      "Training Word2Vec model patent_title_100_10_5_10 ...\n",
      "Training Word2Vec model patent_title_100_10_5_20 ...\n",
      "Training Word2Vec model patent_title_200_5_1_10 ...\n",
      "Training Word2Vec model patent_title_200_5_1_20 ...\n",
      "Training Word2Vec model patent_title_200_5_5_10 ...\n",
      "Training Word2Vec model patent_title_200_5_5_20 ...\n",
      "Training Word2Vec model patent_title_200_10_1_10 ...\n",
      "Training Word2Vec model patent_title_200_10_1_20 ...\n",
      "Training Word2Vec model patent_title_200_10_5_10 ...\n",
      "Training Word2Vec model patent_title_200_10_5_20 ...\n"
     ]
    }
   ],
   "source": [
    "# Define train and validation data\n",
    "train_data = clean_tokenized_data(patent_train['title_tokens'].tolist())\n",
    "validation_data = patent_val['title_tokens']\n",
    "\n",
    "# Train and validate Word2Vec models\n",
    "patent_word_title_models = hypertrain(\"patent_title\", train_data)"
   ]
  },
  {
   "cell_type": "markdown",
   "id": "7df5a19c-666d-4618-8885-b0f9b4f96f62",
   "metadata": {},
   "source": [
    "###### Text"
   ]
  },
  {
   "cell_type": "code",
   "execution_count": 12,
   "id": "0d253e33-8c50-41e8-827b-734072d09221",
   "metadata": {},
   "outputs": [
    {
     "name": "stdout",
     "output_type": "stream",
     "text": [
      "Training Word2Vec model patent_abstract_100_5_1_10 ...\n",
      "Training Word2Vec model patent_abstract_100_5_1_20 ...\n",
      "Training Word2Vec model patent_abstract_100_5_5_10 ...\n",
      "Training Word2Vec model patent_abstract_100_5_5_20 ...\n",
      "Training Word2Vec model patent_abstract_100_10_1_10 ...\n",
      "Training Word2Vec model patent_abstract_100_10_1_20 ...\n",
      "Training Word2Vec model patent_abstract_100_10_5_10 ...\n",
      "Training Word2Vec model patent_abstract_100_10_5_20 ...\n",
      "Training Word2Vec model patent_abstract_200_5_1_10 ...\n",
      "Training Word2Vec model patent_abstract_200_5_1_20 ...\n",
      "Training Word2Vec model patent_abstract_200_5_5_10 ...\n",
      "Training Word2Vec model patent_abstract_200_5_5_20 ...\n",
      "Training Word2Vec model patent_abstract_200_10_1_10 ...\n",
      "Training Word2Vec model patent_abstract_200_10_1_20 ...\n",
      "Training Word2Vec model patent_abstract_200_10_5_10 ...\n",
      "Training Word2Vec model patent_abstract_200_10_5_20 ...\n"
     ]
    }
   ],
   "source": [
    "# Define train and validation data\n",
    "train_data = clean_tokenized_data(patent_train['abstract_tokens'].tolist())\n",
    "validation_data = patent_val['abstract_tokens']\n",
    "\n",
    "# Train and validate Word2Vec models\n",
    "patent_word_abstract_models = hypertrain(\"patent_abstract\", train_data)"
   ]
  },
  {
   "cell_type": "markdown",
   "id": "8f20e540-3865-454a-8ac0-9b93a8381181",
   "metadata": {},
   "source": [
    "##### Cleantech Media"
   ]
  },
  {
   "cell_type": "markdown",
   "id": "c768aadd-757f-478d-ab26-b097bf183fe0",
   "metadata": {},
   "source": [
    "#### FastText"
   ]
  },
  {
   "cell_type": "markdown",
   "id": "504cb580-328c-4f23-b5a0-44e3363cd93c",
   "metadata": {},
   "source": [
    "#### GloVe"
   ]
  },
  {
   "cell_type": "markdown",
   "id": "a8b2c31a-9330-4fb3-8879-905af71b9fc5",
   "metadata": {},
   "source": [
    "### Sentence Embedding Training"
   ]
  },
  {
   "cell_type": "code",
   "execution_count": null,
   "id": "8b5f06b7-33e8-4944-a318-806edfed8942",
   "metadata": {},
   "outputs": [],
   "source": []
  },
  {
   "cell_type": "markdown",
   "id": "4b6d18ae-310a-4b7b-8c0f-89b3ae8c88af",
   "metadata": {},
   "source": [
    "### Embedding Model Evaluation"
   ]
  },
  {
   "cell_type": "markdown",
   "id": "75d0a59c-b8ca-4bb9-b45d-d0d7daa6f030",
   "metadata": {},
   "source": [
    "#### Word similarity"
   ]
  },
  {
   "cell_type": "code",
   "execution_count": 13,
   "id": "67467f0c-325d-4a71-9753-a7b199a8de8d",
   "metadata": {},
   "outputs": [],
   "source": [
    "# Function to evaluate word similarity\n",
    "def evaluate_word_similarity(word2vec_model, word_pairs):\n",
    "    similarities = []\n",
    "    for pair in word_pairs:\n",
    "        word1, word2 = pair\n",
    "        if word1 in word2vec_model.wv and word2 in word2vec_model.wv:\n",
    "            similarity = cosine_similarity([word2vec_model.wv[word1]], [word2vec_model.wv[word2]])[0][0]\n",
    "            similarities.append(similarity)\n",
    "    return similarities\n",
    "\n",
    "# Function to get top n similar words for a given word from all models\n",
    "def get_top_similar_words(models, word, topn=5):\n",
    "    similar_words = []\n",
    "    for model_name, model in models.items():\n",
    "        similar_words.extend([(model_name, word, *sim) for sim in model.wv.most_similar(word, topn=topn)])\n",
    "    return similar_words"
   ]
  },
  {
   "cell_type": "markdown",
   "id": "f2251956-265b-479b-878e-3b70e8fd32f0",
   "metadata": {},
   "source": [
    "##### Google patent "
   ]
  },
  {
   "cell_type": "code",
   "execution_count": 18,
   "id": "02ad3437-0032-4879-af56-5a5744dd00e7",
   "metadata": {},
   "outputs": [
    {
     "name": "stdin",
     "output_type": "stream",
     "text": [
      "Enter a similar word: solar\n"
     ]
    }
   ],
   "source": [
    "check_similar = input(\"Enter a similar word:\")"
   ]
  },
  {
   "cell_type": "code",
   "execution_count": null,
   "id": "ab6cd4a2-e5fb-4eac-8252-12e7a632d7dc",
   "metadata": {},
   "outputs": [
    {
     "data": {
      "text/plain": [
       "<Figure size 1400x800 with 0 Axes>"
      ]
     },
     "execution_count": 20,
     "metadata": {},
     "output_type": "execute_result"
    },
    {
     "data": {
      "text/plain": [
       "<Axes: xlabel='Similarity', ylabel='SimilarWord'>"
      ]
     },
     "execution_count": 20,
     "metadata": {},
     "output_type": "execute_result"
    },
    {
     "data": {
      "text/plain": [
       "Text(0.5, 1.0, 'Top 5 Most Similar Words to \"solar\" Across Different Word2Vec Models')"
      ]
     },
     "execution_count": 20,
     "metadata": {},
     "output_type": "execute_result"
    },
    {
     "data": {
      "text/plain": [
       "Text(0.5, 0, 'Similarity')"
      ]
     },
     "execution_count": 20,
     "metadata": {},
     "output_type": "execute_result"
    },
    {
     "data": {
      "text/plain": [
       "Text(0, 0.5, 'Similar Word')"
      ]
     },
     "execution_count": 20,
     "metadata": {},
     "output_type": "execute_result"
    },
    {
     "data": {
      "text/plain": [
       "<matplotlib.legend.Legend at 0x285d7fc22a0>"
      ]
     },
     "execution_count": 20,
     "metadata": {},
     "output_type": "execute_result"
    }
   ],
   "source": [
    "# Get top 5 similar words to 'solar' from all models\n",
    "top_similar_words = get_top_similar_words(patent_word_title_models, check_similar, topn=5)\n",
    "\n",
    "# Create a DataFrame for visualization\n",
    "df_similar_words = pd.DataFrame(top_similar_words, columns=['Model', 'Word', 'SimilarWord', 'Similarity'])\n",
    "\n",
    "# Plot the similar words using Seaborn\n",
    "plt.figure(figsize=(14, 8))\n",
    "sns.barplot(x='Similarity', y='SimilarWord', hue='Model', data=df_similar_words, dodge=True)\n",
    "plt.title('Top 5 Most Similar Words to \"solar\" Across Different Word2Vec Models')\n",
    "plt.xlabel('Similarity')\n",
    "plt.ylabel('Similar Word')\n",
    "plt.legend(title='Model', bbox_to_anchor=(1.05, 1), loc='upper left')\n",
    "plt.show()"
   ]
  },
  {
   "cell_type": "code",
   "execution_count": 15,
   "id": "9e8e2d16-8650-46b6-8774-88c2aa818c8d",
   "metadata": {},
   "outputs": [
    {
     "data": {
      "text/plain": [
       "<Figure size 1200x800 with 0 Axes>"
      ]
     },
     "execution_count": 15,
     "metadata": {},
     "output_type": "execute_result"
    },
    {
     "data": {
      "text/plain": [
       "<Axes: xlabel='Model', ylabel='SimilarWord'>"
      ]
     },
     "execution_count": 15,
     "metadata": {},
     "output_type": "execute_result"
    },
    {
     "data": {
      "text/plain": [
       "Text(0.5, 1.0, 'Heatmap of Top 5 Most Similar Words to \"solar\" Across Models')"
      ]
     },
     "execution_count": 15,
     "metadata": {},
     "output_type": "execute_result"
    },
    {
     "data": {
      "text/plain": [
       "Text(0.5, 58.5815972222222, 'Model')"
      ]
     },
     "execution_count": 15,
     "metadata": {},
     "output_type": "execute_result"
    },
    {
     "data": {
      "text/plain": [
       "Text(120.7222222222222, 0.5, 'Similar Word')"
      ]
     },
     "execution_count": 15,
     "metadata": {},
     "output_type": "execute_result"
    },
    {
     "data": {
      "image/png": "[encoded data removed]",
      "text/plain": [
       "<Figure size 1200x800 with 2 Axes>"
      ]
     },
     "metadata": {},
     "output_type": "display_data"
    }
   ],
   "source": [
    "heatmap_data = df_similar_words.pivot_table(index='SimilarWord', columns='Model', values='Similarity', aggfunc='first')\n",
    "plt.figure(figsize=(12, 8))\n",
    "sns.heatmap(heatmap_data, annot=True, cmap='coolwarm', fmt=\".2f\")\n",
    "plt.title('Heatmap of Top 5 Most Similar Words to \"solar\" Across Models')\n",
    "plt.xlabel('Model')\n",
    "plt.ylabel('Similar Word')\n",
    "plt.show()"
   ]
  },
  {
   "cell_type": "raw",
   "id": "3a0226b4-4737-42f5-86f4-ecc4263558ca",
   "metadata": {},
   "source": [
    "import networkx as nx\n",
    "\n",
    "G = nx.Graph()\n",
    "\n",
    "for model_name, group_data in df_similar_words.groupby('Model'):\n",
    "    for _, row in group_data.iterrows():\n",
    "        G.add_edge('solar', row['SimilarWord'], weight=row['Similarity'])\n",
    "\n",
    "plt.figure(figsize=(12, 8))\n",
    "pos = nx.spring_layout(G, k=1.5)\n",
    "edges, weights = zip(*nx.get_edge_attributes(G, 'weight').items())\n",
    "nx.draw(G, pos, with_labels=True, node_color='lightblue', node_size=5000, font_size=10, edge_color=weights, edge_cmap=plt.cm.Blues, width=2)\n",
    "plt.title('Network Graph of Similar Words to \"solar\"')\n",
    "plt.show()\n"
   ]
  },
  {
   "cell_type": "code",
   "execution_count": 16,
   "id": "3dbcfd27-f3ec-48b5-a5f5-6f9a4dac518a",
   "metadata": {},
   "outputs": [
    {
     "ename": "NameError",
     "evalue": "name 'patent_title_models' is not defined",
     "output_type": "error",
     "traceback": [
      "\u001b[1;31m---------------------------------------------------------------------------\u001b[0m",
      "\u001b[1;31mNameError\u001b[0m                                 Traceback (most recent call last)",
      "Cell \u001b[1;32mIn[16], line 5\u001b[0m\n\u001b[0;32m      3\u001b[0m \u001b[38;5;66;03m# Ensure all models have the same vector size\u001b[39;00m\n\u001b[0;32m      4\u001b[0m consistent_vector_size \u001b[38;5;241m=\u001b[39m \u001b[38;5;241m200\u001b[39m  \u001b[38;5;66;03m# Example size, change according to your models\u001b[39;00m\n\u001b[1;32m----> 5\u001b[0m filtered_models \u001b[38;5;241m=\u001b[39m {name: model \u001b[38;5;28;01mfor\u001b[39;00m name, model \u001b[38;5;129;01min\u001b[39;00m \u001b[43mpatent_title_models\u001b[49m\u001b[38;5;241m.\u001b[39mitems() \u001b[38;5;28;01mif\u001b[39;00m model\u001b[38;5;241m.\u001b[39mvector_size \u001b[38;5;241m==\u001b[39m consistent_vector_size}\n\u001b[0;32m      7\u001b[0m \u001b[38;5;66;03m# Collect embeddings for the words 'solar' and their top similar words from the filtered models\u001b[39;00m\n\u001b[0;32m      8\u001b[0m words \u001b[38;5;241m=\u001b[39m \u001b[38;5;28mset\u001b[39m(df_similar_words[\u001b[38;5;124m'\u001b[39m\u001b[38;5;124mSimilarWord\u001b[39m\u001b[38;5;124m'\u001b[39m])\n",
      "\u001b[1;31mNameError\u001b[0m: name 'patent_title_models' is not defined"
     ]
    }
   ],
   "source": [
    "from sklearn.manifold import TSNE\n",
    "\n",
    "# Ensure all models have the same vector size\n",
    "consistent_vector_size = 200  # Example size, change according to your models\n",
    "filtered_models = {name: model for name, model in patent_title_models.items() if model.vector_size == consistent_vector_size}\n",
    "\n",
    "# Collect embeddings for the words 'solar' and their top similar words from the filtered models\n",
    "words = set(df_similar_words['SimilarWord'])\n",
    "words.add('solar')\n",
    "embeddings = []\n",
    "labels = []\n",
    "\n",
    "for word in words:\n",
    "    for model_name, model in filtered_models.items():\n",
    "        if word in model.wv:\n",
    "            embeddings.append(model.wv[word])\n",
    "            labels.append(f'{word} ({model_name})')\n",
    "\n",
    "embeddings = np.array(embeddings)\n",
    "\n",
    "# Use t-SNE to reduce dimensions\n",
    "tsne = TSNE(n_components=2, random_state=0)\n",
    "embeddings_2d = tsne.fit_transform(embeddings)\n",
    "\n",
    "# Plotting t-SNE results\n",
    "plt.figure(figsize=(14, 10))\n",
    "for i, label in enumerate(labels):\n",
    "    x, y = embeddings_2d[i, :]\n",
    "    plt.scatter(x, y)\n",
    "    plt.annotate(label, (x, y), textcoords='offset points', xytext=(5, 2), ha='right')\n",
    "plt.title('t-SNE visualization of Word Embeddings')\n",
    "plt.show()\n"
   ]
  },
  {
   "cell_type": "code",
   "execution_count": null,
   "id": "63c5fe98-1e51-405c-a606-d0a2400b0c7e",
   "metadata": {},
   "outputs": [],
   "source": [
    "# Convert results to DataFrame\n",
    "results_df = pd.DataFrame(results)\n",
    "results_df\n",
    "# Convert the 'Similarities' column to numeric\n",
    "results_df['Similarities'] = results_df['Similarities'].apply(lambda x: np.mean(x) if len(x) > 0 else np.nan)\n",
    "\n",
    "# Recalculate the mean similarity for each model\n",
    "results_df['Similarities Mean'] = results_df.groupby(['Vector Size', 'Window', 'Min Count', 'Epochs'])['Similarities'].transform('mean')\n",
    "\n",
    "# Remove duplicate rows\n",
    "results_df = results_df.drop_duplicates(subset=['Vector Size', 'Window', 'Min Count', 'Epochs'])\n",
    "\n",
    "# Remove rows with NaN values in 'Similarities' column\n",
    "results_df = results_df.dropna(subset=['Similarities'])\n",
    "\n",
    "# Visualize results\n",
    "fig, axes = plt.subplots(2, 1, figsize=(10, 10))\n",
    "\n",
    "# Heatmap for analogy accuracy\n",
    "pivot_table_accuracy = results_df.pivot_table(values='Analogy Accuracy', index='Vector Size', columns='Window')\n",
    "sns.heatmap(pivot_table_accuracy, annot=True, cmap=\"YlGnBu\", ax=axes[0])\n",
    "axes[0].set_title('Analogy Accuracy')\n",
    "\n",
    "# Boxplot for word similarity\n",
    "sns.boxplot(data=results_df, x='Vector Size', y='Similarities Mean', ax=axes[1])\n",
    "axes[1].set_title('Word Similarity')\n",
    "\n",
    "plt.tight_layout()\n",
    "plt.show()"
   ]
  },
  {
   "cell_type": "markdown",
   "id": "5414428d-53c5-41af-bdcd-1eaf512b0a32",
   "metadata": {},
   "source": [
    "#### Word analogy"
   ]
  },
  {
   "cell_type": "code",
   "execution_count": null,
   "id": "a4348895-5583-42bf-b92d-1c53ba745237",
   "metadata": {},
   "outputs": [],
   "source": [
    "# Function to evaluate word analogy\n",
    "def evaluate_word_analogy(word2vec_model, analogy_pairs):\n",
    "    correct_count = 0\n",
    "    total_count = 0\n",
    "    for analogy in analogy_pairs:\n",
    "        if all(word in word2vec_model.wv for word in analogy):\n",
    "            word1, word2, word3, word4 = analogy\n",
    "            predicted_word = word2vec_model.wv.most_similar(positive=[word2, word3], negative=[word1])[0][0]\n",
    "            if predicted_word == word4:\n",
    "                correct_count += 1\n",
    "            total_count += 1\n",
    "    accuracy = correct_count / total_count if total_count > 0 else 0\n",
    "    return accuracy"
   ]
  }
 ],
 "metadata": {
  "kernelspec": {
   "display_name": "Python 3 (ipykernel)",
   "language": "python",
   "name": "python3"
  },
  "language_info": {
   "codemirror_mode": {
    "name": "ipython",
    "version": 3
   },
   "file_extension": ".py",
   "mimetype": "text/x-python",
   "name": "python",
   "nbconvert_exporter": "python",
   "pygments_lexer": "ipython3",
   "version": "3.12.2"
  }
 },
 "nbformat": 4,
 "nbformat_minor": 5
}
